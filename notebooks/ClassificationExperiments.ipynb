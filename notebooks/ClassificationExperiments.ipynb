{
 "cells": [
  {
   "cell_type": "code",
   "execution_count": 1,
   "metadata": {},
   "outputs": [],
   "source": [
    "import pandas as pd\n",
    "import numpy as np\n",
    "import matplotlib.pyplot as plt\n",
    "import altair as alt\n",
    "import nltk\n",
    "from nltk import word_tokenize\n",
    "import warnings\n",
    "warnings.filterwarnings('ignore')\n"
   ]
  },
  {
   "cell_type": "code",
   "execution_count": 2,
   "metadata": {},
   "outputs": [],
   "source": [
    "all_df = pd.read_csv(\"../ht_ef_datasets/combined_full_hathitrust_annotated_magazines_with_htids.csv\")"
   ]
  },
  {
   "cell_type": "code",
   "execution_count": 3,
   "metadata": {},
   "outputs": [
    {
     "data": {
      "text/plain": [
       "cleaned_magazine_title\n",
       "arab_observer                   193\n",
       "tricontinental                  109\n",
       "arab_observer_and_the_scribe     69\n",
       "liberator                        58\n",
       "the_scribe                       31\n",
       "lotus                            26\n",
       "solidarity                       18\n",
       "afro-asian_bulletin_             17\n",
       "afro-asian_and_world_affairs     16\n",
       "afro-asian_peoples                8\n",
       "Name: start_issue, dtype: int64"
      ]
     },
     "execution_count": 3,
     "metadata": {},
     "output_type": "execute_result"
    }
   ],
   "source": [
    "all_df.groupby('cleaned_magazine_title')['start_issue'].nunique().sort_values(ascending=False)"
   ]
  },
  {
   "cell_type": "code",
   "execution_count": 54,
   "metadata": {},
   "outputs": [],
   "source": [
    "arab_observer_df = pd.read_csv(\"../original_files/arab_observer_gv_processed.csv\")\n",
    "tricontinental_bulletin_df = pd.read_csv(\n",
    "        \"../original_files/tricontinental_bulletin_gv_processed.csv\")\n",
    "black_panther_df = pd.read_csv(\"../original_files/black_panther_gv_processed.csv\")"
   ]
  },
  {
   "cell_type": "code",
   "execution_count": 55,
   "metadata": {},
   "outputs": [
    {
     "data": {
      "text/plain": [
       "(245, 61, 354)"
      ]
     },
     "execution_count": 55,
     "metadata": {},
     "output_type": "execute_result"
    }
   ],
   "source": [
    "arab_observer_df.issue.nunique(), tricontinental_bulletin_df.title.nunique(), black_panther_df.date.nunique()"
   ]
  },
  {
   "cell_type": "code",
   "execution_count": 56,
   "metadata": {},
   "outputs": [
    {
     "data": {
      "text/plain": [
       "42274985.0"
      ]
     },
     "execution_count": 56,
     "metadata": {},
     "output_type": "execute_result"
    }
   ],
   "source": [
    "arab_observer_df['text'].str.len().sum()"
   ]
  },
  {
   "cell_type": "code",
   "execution_count": 57,
   "metadata": {},
   "outputs": [],
   "source": [
    "black_panther_languages = black_panther_df.detected_language.value_counts().reset_index().rename(columns={\"index\": \"language\", \"detected_language\": \"language_counts\"})\n",
    "black_panther_languages['magazine'] = 'Black Panther'\n",
    "tricontinental_bulletin_languages = tricontinental_bulletin_df.detected_language.value_counts().reset_index().rename(columns={\"index\": \"language\", \"detected_language\": \"language_counts\"})\n",
    "tricontinental_bulletin_languages['magazine'] = 'Tricontinental Bulletin'\n",
    "arab_observer_languages = arab_observer_df.detected_language.value_counts().reset_index().rename(columns={\"index\": \"language\", \"detected_language\": \"language_counts\"})\n",
    "arab_observer_languages['magazine'] = 'Arab Observer'\n",
    "combined_magazines = pd.concat([black_panther_languages, tricontinental_bulletin_languages, arab_observer_languages])"
   ]
  },
  {
   "cell_type": "code",
   "execution_count": 58,
   "metadata": {},
   "outputs": [],
   "source": [
    "languages_df = pd.read_csv(\"/Volumes/Samsung_T5/VersionsAndValues/data/metadata_files/iso_639_choices_directionality_wikimedia.csv\")"
   ]
  },
  {
   "cell_type": "code",
   "execution_count": 59,
   "metadata": {},
   "outputs": [],
   "source": [
    "combined_magazines_languages = pd.merge(combined_magazines, languages_df, left_on='language', right_on='code', how='left')\n",
    "combined_magazines_languages.loc[combined_magazines_languages.language == \"hmn\", 'English language name'] = \"Hmong\"\n",
    "combined_magazines_languages.loc[combined_magazines_languages.language == \"hmn\", 'Directionality'] = \"ltr\"\n",
    "combined_magazines_languages.loc[combined_magazines_languages.language == \"hmn\", 'code'] = \"hmn\"\n",
    "combined_magazines_languages.loc[combined_magazines_languages.language == \"fil\", 'English language name'] = \"Filipino\"\n",
    "combined_magazines_languages.loc[combined_magazines_languages.language == \"fil\", 'Directionality'] = \"ltr\"\n",
    "combined_magazines_languages.loc[combined_magazines_languages.language == \"fil\", 'code'] = \"fil\""
   ]
  },
  {
   "cell_type": "code",
   "execution_count": 60,
   "metadata": {},
   "outputs": [
    {
     "data": {
      "text/html": [
       "\n",
       "<div id=\"altair-viz-875ba385cc3f4edab6df9e2307032acf\"></div>\n",
       "<script type=\"text/javascript\">\n",
       "  var VEGA_DEBUG = (typeof VEGA_DEBUG == \"undefined\") ? {} : VEGA_DEBUG;\n",
       "  (function(spec, embedOpt){\n",
       "    let outputDiv = document.currentScript.previousElementSibling;\n",
       "    if (outputDiv.id !== \"altair-viz-875ba385cc3f4edab6df9e2307032acf\") {\n",
       "      outputDiv = document.getElementById(\"altair-viz-875ba385cc3f4edab6df9e2307032acf\");\n",
       "    }\n",
       "    const paths = {\n",
       "      \"vega\": \"https://cdn.jsdelivr.net/npm//vega@5?noext\",\n",
       "      \"vega-lib\": \"https://cdn.jsdelivr.net/npm//vega-lib?noext\",\n",
       "      \"vega-lite\": \"https://cdn.jsdelivr.net/npm//vega-lite@4.17.0?noext\",\n",
       "      \"vega-embed\": \"https://cdn.jsdelivr.net/npm//vega-embed@6?noext\",\n",
       "    };\n",
       "\n",
       "    function maybeLoadScript(lib, version) {\n",
       "      var key = `${lib.replace(\"-\", \"\")}_version`;\n",
       "      return (VEGA_DEBUG[key] == version) ?\n",
       "        Promise.resolve(paths[lib]) :\n",
       "        new Promise(function(resolve, reject) {\n",
       "          var s = document.createElement('script');\n",
       "          document.getElementsByTagName(\"head\")[0].appendChild(s);\n",
       "          s.async = true;\n",
       "          s.onload = () => {\n",
       "            VEGA_DEBUG[key] = version;\n",
       "            return resolve(paths[lib]);\n",
       "          };\n",
       "          s.onerror = () => reject(`Error loading script: ${paths[lib]}`);\n",
       "          s.src = paths[lib];\n",
       "        });\n",
       "    }\n",
       "\n",
       "    function showError(err) {\n",
       "      outputDiv.innerHTML = `<div class=\"error\" style=\"color:red;\">${err}</div>`;\n",
       "      throw err;\n",
       "    }\n",
       "\n",
       "    function displayChart(vegaEmbed) {\n",
       "      vegaEmbed(outputDiv, spec, embedOpt)\n",
       "        .catch(err => showError(`Javascript Error: ${err.message}<br>This usually means there's a typo in your chart specification. See the javascript console for the full traceback.`));\n",
       "    }\n",
       "\n",
       "    if(typeof define === \"function\" && define.amd) {\n",
       "      requirejs.config({paths});\n",
       "      require([\"vega-embed\"], displayChart, err => showError(`Error loading script: ${err.message}`));\n",
       "    } else {\n",
       "      maybeLoadScript(\"vega\", \"5\")\n",
       "        .then(() => maybeLoadScript(\"vega-lite\", \"4.17.0\"))\n",
       "        .then(() => maybeLoadScript(\"vega-embed\", \"6\"))\n",
       "        .catch(showError)\n",
       "        .then(() => displayChart(vegaEmbed));\n",
       "    }\n",
       "  })({\"config\": {\"view\": {\"continuousWidth\": 400, \"continuousHeight\": 300}}, \"hconcat\": [{\"data\": {\"name\": \"data-097ba9019ca35079b163124a40ff0030\"}, \"mark\": \"bar\", \"encoding\": {\"color\": {\"field\": \"English language name\", \"legend\": {\"columns\": 3, \"symbolLimit\": 0, \"title\": \"Language\"}, \"scale\": {\"scheme\": \"category20b\"}, \"type\": \"nominal\"}, \"x\": {\"field\": \"magazine\", \"type\": \"nominal\"}, \"y\": {\"field\": \"language_counts\", \"type\": \"quantitative\"}}}, {\"data\": {\"name\": \"data-484bdf34e1de7df05380b81243586f19\"}, \"mark\": \"bar\", \"encoding\": {\"color\": {\"field\": \"English language name\", \"legend\": {\"columns\": 3, \"symbolLimit\": 0, \"title\": \"Language\"}, \"scale\": {\"scheme\": \"category20b\"}, \"type\": \"nominal\"}, \"tooltip\": [{\"field\": \"language\", \"type\": \"nominal\"}, {\"field\": \"language_counts\", \"type\": \"quantitative\"}, {\"field\": \"English language name\", \"type\": \"nominal\"}], \"x\": {\"field\": \"magazine\", \"type\": \"nominal\"}, \"y\": {\"field\": \"language_counts\", \"sort\": {\"field\": \"language_counts\", \"op\": \"sum\", \"order\": \"descending\"}, \"type\": \"quantitative\"}}}], \"$schema\": \"https://vega.github.io/schema/vega-lite/v4.17.0.json\", \"datasets\": {\"data-097ba9019ca35079b163124a40ff0030\": [{\"language\": \"en\", \"language_counts\": 8433, \"magazine\": \"Black Panther\", \"code\": \"en\", \"English language name\": \"English\", \"directionality\": \"ltr\", \"local language name\": \"English\", \"local or English Wikipedia article\": \"en:English language\", \"comment\": null, \"Directionality\": null}, {\"language\": \"es\", \"language_counts\": 7, \"magazine\": \"Black Panther\", \"code\": \"es\", \"English language name\": \"Spanish\", \"directionality\": \"ltr\", \"local language name\": \"Espa\\u00f1ol\", \"local or English Wikipedia article\": \"es:Idioma espa\\u00f1ol\", \"comment\": null, \"Directionality\": null}, {\"language\": \"ceb\", \"language_counts\": 1, \"magazine\": \"Black Panther\", \"code\": \"ceb\", \"English language name\": \"Cebuano\", \"directionality\": \"ltr\", \"local language name\": \"Sinugboanong Binisaya\", \"local or English Wikipedia article\": \"en:Cebuano language\", \"comment\": null, \"Directionality\": null}, {\"language\": \"sv\", \"language_counts\": 1, \"magazine\": \"Black Panther\", \"code\": \"sv\", \"English language name\": \"Swedish\", \"directionality\": \"ltr\", \"local language name\": \"Svenska\", \"local or English Wikipedia article\": \"sv:Svenska\", \"comment\": null, \"Directionality\": null}, {\"language\": \"bs\", \"language_counts\": 1, \"magazine\": \"Black Panther\", \"code\": \"bs\", \"English language name\": \"Bosnian\", \"directionality\": \"ltr\", \"local language name\": \"Bosanski\", \"local or English Wikipedia article\": \"en:Bosnian language\", \"comment\": null, \"Directionality\": null}, {\"language\": \"fr\", \"language_counts\": 1, \"magazine\": \"Black Panther\", \"code\": \"fr\", \"English language name\": \"French\", \"directionality\": \"ltr\", \"local language name\": \"Fran\\u00e7ais\", \"local or English Wikipedia article\": \"fr:Fran\\u00e7ais\", \"comment\": null, \"Directionality\": null}, {\"language\": \"de\", \"language_counts\": 1, \"magazine\": \"Black Panther\", \"code\": \"de\", \"English language name\": \"German\", \"directionality\": \"ltr\", \"local language name\": \"Deutsch\", \"local or English Wikipedia article\": \"de:Deutsche Sprache\", \"comment\": null, \"Directionality\": null}, {\"language\": \"ar\", \"language_counts\": 1, \"magazine\": \"Black Panther\", \"code\": \"ar\", \"English language name\": \"Arabic\", \"directionality\": \"rtl\", \"local language name\": \"\\u0627\\u0644\\u0639\\u0631\\u0628\\u064a\\u0629\", \"local or English Wikipedia article\": \"en:Arabic language\", \"comment\": null, \"Directionality\": null}, {\"language\": \"fa\", \"language_counts\": 1, \"magazine\": \"Black Panther\", \"code\": \"fa\", \"English language name\": \"Persian\", \"directionality\": \"rtl\", \"local language name\": \"\\u0641\\u0627\\u0631\\u0633\\u06cc\", \"local or English Wikipedia article\": \"en:Persian language\", \"comment\": null, \"Directionality\": null}, {\"language\": \"en\", \"language_counts\": 3415, \"magazine\": \"Tricontinental Bulletin\", \"code\": \"en\", \"English language name\": \"English\", \"directionality\": \"ltr\", \"local language name\": \"English\", \"local or English Wikipedia article\": \"en:English language\", \"comment\": null, \"Directionality\": null}, {\"language\": \"es\", \"language_counts\": 105, \"magazine\": \"Tricontinental Bulletin\", \"code\": \"es\", \"English language name\": \"Spanish\", \"directionality\": \"ltr\", \"local language name\": \"Espa\\u00f1ol\", \"local or English Wikipedia article\": \"es:Idioma espa\\u00f1ol\", \"comment\": null, \"Directionality\": null}, {\"language\": \"pt\", \"language_counts\": 11, \"magazine\": \"Tricontinental Bulletin\", \"code\": \"pt\", \"English language name\": \"Portuguese\", \"directionality\": \"ltr\", \"local language name\": \"Portugu\\u00eas\", \"local or English Wikipedia article\": \"pt:L\\u00edngua portuguesa\", \"comment\": null, \"Directionality\": null}, {\"language\": \"it\", \"language_counts\": 4, \"magazine\": \"Tricontinental Bulletin\", \"code\": \"it\", \"English language name\": \"Italian\", \"directionality\": \"ltr\", \"local language name\": \"Italiano\", \"local or English Wikipedia article\": \"it:Lingua italiana\", \"comment\": null, \"Directionality\": null}, {\"language\": \"ar\", \"language_counts\": 4, \"magazine\": \"Tricontinental Bulletin\", \"code\": \"ar\", \"English language name\": \"Arabic\", \"directionality\": \"rtl\", \"local language name\": \"\\u0627\\u0644\\u0639\\u0631\\u0628\\u064a\\u0629\", \"local or English Wikipedia article\": \"en:Arabic language\", \"comment\": null, \"Directionality\": null}, {\"language\": \"fr\", \"language_counts\": 3, \"magazine\": \"Tricontinental Bulletin\", \"code\": \"fr\", \"English language name\": \"French\", \"directionality\": \"ltr\", \"local language name\": \"Fran\\u00e7ais\", \"local or English Wikipedia article\": \"fr:Fran\\u00e7ais\", \"comment\": null, \"Directionality\": null}, {\"language\": \"zh\", \"language_counts\": 3, \"magazine\": \"Tricontinental Bulletin\", \"code\": \"zh\", \"English language name\": \"Chinese\", \"directionality\": \"ltr\", \"local language name\": \"\\u4e2d\\u6587\", \"local or English Wikipedia article\": \"zh:\\u6c49\\u8bed\", \"comment\": null, \"Directionality\": null}, {\"language\": \"gn\", \"language_counts\": 2, \"magazine\": \"Tricontinental Bulletin\", \"code\": \"gn\", \"English language name\": \"Guarani\", \"directionality\": \"ltr\", \"local language name\": \"Ava\\u00f1e'\\u1ebd\", \"local or English Wikipedia article\": \"en:Guarani language\", \"comment\": null, \"Directionality\": null}, {\"language\": \"vi\", \"language_counts\": 2, \"magazine\": \"Tricontinental Bulletin\", \"code\": \"vi\", \"English language name\": \"Vietnamese\", \"directionality\": \"ltr\", \"local language name\": \"Ti\\u1ebfng Vi\\u1ec7t\", \"local or English Wikipedia article\": \"en:Vietnamese language\", \"comment\": null, \"Directionality\": null}, {\"language\": \"ko\", \"language_counts\": 2, \"magazine\": \"Tricontinental Bulletin\", \"code\": \"ko\", \"English language name\": \"Korean\", \"directionality\": \"ltr\", \"local language name\": \"\\ud55c\\uad6d\\uc5b4\", \"local or English Wikipedia article\": \"en:Korean language\", \"comment\": null, \"Directionality\": null}, {\"language\": \"no\", \"language_counts\": 2, \"magazine\": \"Tricontinental Bulletin\", \"code\": \"no\", \"English language name\": \"Norwegian\", \"directionality\": \"ltr\", \"local language name\": \"Norsk (bokm\\u00e5l\\u00a0/ riksm\\u00e5l)\", \"local or English Wikipedia article\": \"no:Norsk\", \"comment\": null, \"Directionality\": null}, {\"language\": \"sk\", \"language_counts\": 2, \"magazine\": \"Tricontinental Bulletin\", \"code\": \"sk\", \"English language name\": \"Slovak\", \"directionality\": \"ltr\", \"local language name\": \"Sloven\\u010dina\", \"local or English Wikipedia article\": \"sk:Sloven\\u010dina\", \"comment\": null, \"Directionality\": null}, {\"language\": \"de\", \"language_counts\": 1, \"magazine\": \"Tricontinental Bulletin\", \"code\": \"de\", \"English language name\": \"German\", \"directionality\": \"ltr\", \"local language name\": \"Deutsch\", \"local or English Wikipedia article\": \"de:Deutsche Sprache\", \"comment\": null, \"Directionality\": null}, {\"language\": \"ha\", \"language_counts\": 1, \"magazine\": \"Tricontinental Bulletin\", \"code\": \"ha\", \"English language name\": \"Hausa\", \"directionality\": \"rtl\", \"local language name\": \"\\u0647\\u064e\\u0648\\u064f\\u0633\\u064e\", \"local or English Wikipedia article\": \"en:Hausa language\", \"comment\": null, \"Directionality\": null}, {\"language\": \"ku\", \"language_counts\": 1, \"magazine\": \"Tricontinental Bulletin\", \"code\": \"ku\", \"English language name\": \"Kurdish (Kurmanji)\", \"directionality\": \"ltr\", \"local language name\": \"Kurd\\u00ee\", \"local or English Wikipedia article\": \"en:Kurmanji\", \"comment\": null, \"Directionality\": null}, {\"language\": \"sv\", \"language_counts\": 1, \"magazine\": \"Tricontinental Bulletin\", \"code\": \"sv\", \"English language name\": \"Swedish\", \"directionality\": \"ltr\", \"local language name\": \"Svenska\", \"local or English Wikipedia article\": \"sv:Svenska\", \"comment\": null, \"Directionality\": null}, {\"language\": \"jv\", \"language_counts\": 1, \"magazine\": \"Tricontinental Bulletin\", \"code\": \"jv\", \"English language name\": \"Javanese\", \"directionality\": \"ltr\", \"local language name\": \"Basa Jawa\", \"local or English Wikipedia article\": \"en:Javanese language\", \"comment\": null, \"Directionality\": null}, {\"language\": \"id\", \"language_counts\": 1, \"magazine\": \"Tricontinental Bulletin\", \"code\": \"id\", \"English language name\": \"Indonesian\", \"directionality\": \"ltr\", \"local language name\": \"Bahasa Indonesia\", \"local or English Wikipedia article\": \"id:Bahasa Indonesia\", \"comment\": null, \"Directionality\": null}, {\"language\": \"ms\", \"language_counts\": 1, \"magazine\": \"Tricontinental Bulletin\", \"code\": \"ms\", \"English language name\": \"Malay\", \"directionality\": \"ltr\", \"local language name\": \"Bahasa Melayu\", \"local or English Wikipedia article\": \"en:Malay language\", \"comment\": null, \"Directionality\": null}, {\"language\": \"om\", \"language_counts\": 1, \"magazine\": \"Tricontinental Bulletin\", \"code\": \"om\", \"English language name\": \"Oromo\", \"directionality\": \"ltr\", \"local language name\": \"Oromoo\", \"local or English Wikipedia article\": \"en:Oromo language\", \"comment\": null, \"Directionality\": null}, {\"language\": \"hr\", \"language_counts\": 1, \"magazine\": \"Tricontinental Bulletin\", \"code\": \"hr\", \"English language name\": \"Croatian\", \"directionality\": \"ltr\", \"local language name\": \"Hrvatski\", \"local or English Wikipedia article\": \"en:Croatian language\", \"comment\": null, \"Directionality\": null}, {\"language\": \"nl\", \"language_counts\": 1, \"magazine\": \"Tricontinental Bulletin\", \"code\": \"nl\", \"English language name\": \"Dutch\", \"directionality\": \"ltr\", \"local language name\": \"Nederlands\", \"local or English Wikipedia article\": \"nl:Nederlands\", \"comment\": null, \"Directionality\": null}, {\"language\": \"fa\", \"language_counts\": 1, \"magazine\": \"Tricontinental Bulletin\", \"code\": \"fa\", \"English language name\": \"Persian\", \"directionality\": \"rtl\", \"local language name\": \"\\u0641\\u0627\\u0631\\u0633\\u06cc\", \"local or English Wikipedia article\": \"en:Persian language\", \"comment\": null, \"Directionality\": null}, {\"language\": \"ca\", \"language_counts\": 1, \"magazine\": \"Tricontinental Bulletin\", \"code\": \"ca\", \"English language name\": \"Catalan\", \"directionality\": \"ltr\", \"local language name\": \"Catal\\u00e0\", \"local or English Wikipedia article\": \"ca:Catal\\u00e0\", \"comment\": null, \"Directionality\": null}, {\"language\": \"la\", \"language_counts\": 1, \"magazine\": \"Tricontinental Bulletin\", \"code\": \"la\", \"English language name\": \"Latin\", \"directionality\": \"ltr\", \"local language name\": \"Latina\", \"local or English Wikipedia article\": \"en:Latin language\", \"comment\": null, \"Directionality\": null}, {\"language\": \"lv\", \"language_counts\": 1, \"magazine\": \"Tricontinental Bulletin\", \"code\": \"lv\", \"English language name\": \"Latvian\", \"directionality\": \"ltr\", \"local language name\": \"Latvie\\u0161u\", \"local or English Wikipedia article\": \"en:Latvian language\", \"comment\": null, \"Directionality\": null}, {\"language\": \"th\", \"language_counts\": 1, \"magazine\": \"Tricontinental Bulletin\", \"code\": \"th\", \"English language name\": \"Thai\", \"directionality\": \"ltr\", \"local language name\": \"\\u0e44\\u0e17\\u0e22\\u00a0/ Phasa Thai\", \"local or English Wikipedia article\": \"en:Thai language\", \"comment\": null, \"Directionality\": null}, {\"language\": \"en\", \"language_counts\": 12555, \"magazine\": \"Arab Observer\", \"code\": \"en\", \"English language name\": \"English\", \"directionality\": \"ltr\", \"local language name\": \"English\", \"local or English Wikipedia article\": \"en:English language\", \"comment\": null, \"Directionality\": null}, {\"language\": \"ar\", \"language_counts\": 57, \"magazine\": \"Arab Observer\", \"code\": \"ar\", \"English language name\": \"Arabic\", \"directionality\": \"rtl\", \"local language name\": \"\\u0627\\u0644\\u0639\\u0631\\u0628\\u064a\\u0629\", \"local or English Wikipedia article\": \"en:Arabic language\", \"comment\": null, \"Directionality\": null}, {\"language\": \"fr\", \"language_counts\": 21, \"magazine\": \"Arab Observer\", \"code\": \"fr\", \"English language name\": \"French\", \"directionality\": \"ltr\", \"local language name\": \"Fran\\u00e7ais\", \"local or English Wikipedia article\": \"fr:Fran\\u00e7ais\", \"comment\": null, \"Directionality\": null}, {\"language\": \"ms\", \"language_counts\": 5, \"magazine\": \"Arab Observer\", \"code\": \"ms\", \"English language name\": \"Malay\", \"directionality\": \"ltr\", \"local language name\": \"Bahasa Melayu\", \"local or English Wikipedia article\": \"en:Malay language\", \"comment\": null, \"Directionality\": null}, {\"language\": \"om\", \"language_counts\": 4, \"magazine\": \"Arab Observer\", \"code\": \"om\", \"English language name\": \"Oromo\", \"directionality\": \"ltr\", \"local language name\": \"Oromoo\", \"local or English Wikipedia article\": \"en:Oromo language\", \"comment\": null, \"Directionality\": null}, {\"language\": \"es\", \"language_counts\": 3, \"magazine\": \"Arab Observer\", \"code\": \"es\", \"English language name\": \"Spanish\", \"directionality\": \"ltr\", \"local language name\": \"Espa\\u00f1ol\", \"local or English Wikipedia article\": \"es:Idioma espa\\u00f1ol\", \"comment\": null, \"Directionality\": null}, {\"language\": \"ro\", \"language_counts\": 2, \"magazine\": \"Arab Observer\", \"code\": \"ro\", \"English language name\": \"Romanian\", \"directionality\": \"ltr\", \"local language name\": \"Rom\\u00e2n\\u0103\", \"local or English Wikipedia article\": \"ro:Limba rom\\u00e2n\\u0103\", \"comment\": null, \"Directionality\": null}, {\"language\": \"pl\", \"language_counts\": 2, \"magazine\": \"Arab Observer\", \"code\": \"pl\", \"English language name\": \"Polish\", \"directionality\": \"ltr\", \"local language name\": \"Polski\", \"local or English Wikipedia article\": \"pl:J\\u0119zyk polski\", \"comment\": null, \"Directionality\": null}, {\"language\": \"la\", \"language_counts\": 2, \"magazine\": \"Arab Observer\", \"code\": \"la\", \"English language name\": \"Latin\", \"directionality\": \"ltr\", \"local language name\": \"Latina\", \"local or English Wikipedia article\": \"en:Latin language\", \"comment\": null, \"Directionality\": null}, {\"language\": \"id\", \"language_counts\": 2, \"magazine\": \"Arab Observer\", \"code\": \"id\", \"English language name\": \"Indonesian\", \"directionality\": \"ltr\", \"local language name\": \"Bahasa Indonesia\", \"local or English Wikipedia article\": \"id:Bahasa Indonesia\", \"comment\": null, \"Directionality\": null}, {\"language\": \"et\", \"language_counts\": 1, \"magazine\": \"Arab Observer\", \"code\": \"et\", \"English language name\": \"Estonian\", \"directionality\": \"ltr\", \"local language name\": \"Eesti\", \"local or English Wikipedia article\": \"en:Estonian language\", \"comment\": null, \"Directionality\": null}, {\"language\": \"eu\", \"language_counts\": 1, \"magazine\": \"Arab Observer\", \"code\": \"eu\", \"English language name\": \"Basque\", \"directionality\": \"ltr\", \"local language name\": \"Euskara\", \"local or English Wikipedia article\": \"en:Basque language\", \"comment\": null, \"Directionality\": null}, {\"language\": \"ckb\", \"language_counts\": 1, \"magazine\": \"Arab Observer\", \"code\": \"ckb\", \"English language name\": \"Kurdish (Sorani)\", \"directionality\": \"rtl\", \"local language name\": \"\\u06a9\\u0648\\u0631\\u062f\\u06cc\", \"local or English Wikipedia article\": \"en:Sorani\", \"comment\": null, \"Directionality\": null}, {\"language\": \"uk\", \"language_counts\": 1, \"magazine\": \"Arab Observer\", \"code\": \"uk\", \"English language name\": \"Ukrainian\", \"directionality\": \"ltr\", \"local language name\": \"\\u0423\\u043a\\u0440\\u0430\\u0457\\u043d\\u0441\\u044c\\u043a\\u0430\", \"local or English Wikipedia article\": \"en:Ukrainian language\", \"comment\": null, \"Directionality\": null}, {\"language\": \"hr\", \"language_counts\": 1, \"magazine\": \"Arab Observer\", \"code\": \"hr\", \"English language name\": \"Croatian\", \"directionality\": \"ltr\", \"local language name\": \"Hrvatski\", \"local or English Wikipedia article\": \"en:Croatian language\", \"comment\": null, \"Directionality\": null}, {\"language\": \"de\", \"language_counts\": 1, \"magazine\": \"Arab Observer\", \"code\": \"de\", \"English language name\": \"German\", \"directionality\": \"ltr\", \"local language name\": \"Deutsch\", \"local or English Wikipedia article\": \"de:Deutsche Sprache\", \"comment\": null, \"Directionality\": null}, {\"language\": \"be\", \"language_counts\": 1, \"magazine\": \"Arab Observer\", \"code\": \"be\", \"English language name\": \"Belarusian\", \"directionality\": \"ltr\", \"local language name\": \"\\u0411\\u0435\\u043b\\u0430\\u0440\\u0443\\u0441\\u043a\\u0430\\u044f\", \"local or English Wikipedia article\": \"en:Belarusian language\", \"comment\": null, \"Directionality\": null}, {\"language\": \"hmn\", \"language_counts\": 1, \"magazine\": \"Arab Observer\", \"code\": \"hmn\", \"English language name\": \"Hmong\", \"directionality\": null, \"local language name\": null, \"local or English Wikipedia article\": null, \"comment\": null, \"Directionality\": \"ltr\"}, {\"language\": \"uz\", \"language_counts\": 1, \"magazine\": \"Arab Observer\", \"code\": \"uz\", \"English language name\": \"Uzbek\", \"directionality\": \"ltr\", \"local language name\": \"\\u040e\\u0437\\u0431\\u0435\\u043a\", \"local or English Wikipedia article\": \"en:Uzbek language\", \"comment\": null, \"Directionality\": null}, {\"language\": \"fil\", \"language_counts\": 1, \"magazine\": \"Arab Observer\", \"code\": \"fil\", \"English language name\": \"Filipino\", \"directionality\": null, \"local language name\": null, \"local or English Wikipedia article\": null, \"comment\": null, \"Directionality\": \"ltr\"}, {\"language\": \"sn\", \"language_counts\": 1, \"magazine\": \"Arab Observer\", \"code\": \"sn\", \"English language name\": \"Shona\", \"directionality\": \"ltr\", \"local language name\": \"chiShona\", \"local or English Wikipedia article\": \"en:Shona language\", \"comment\": null, \"Directionality\": null}, {\"language\": \"fa\", \"language_counts\": 1, \"magazine\": \"Arab Observer\", \"code\": \"fa\", \"English language name\": \"Persian\", \"directionality\": \"rtl\", \"local language name\": \"\\u0641\\u0627\\u0631\\u0633\\u06cc\", \"local or English Wikipedia article\": \"en:Persian language\", \"comment\": null, \"Directionality\": null}], \"data-484bdf34e1de7df05380b81243586f19\": [{\"language\": \"es\", \"language_counts\": 7, \"magazine\": \"Black Panther\", \"code\": \"es\", \"English language name\": \"Spanish\", \"directionality\": \"ltr\", \"local language name\": \"Espa\\u00f1ol\", \"local or English Wikipedia article\": \"es:Idioma espa\\u00f1ol\", \"comment\": null, \"Directionality\": null}, {\"language\": \"ceb\", \"language_counts\": 1, \"magazine\": \"Black Panther\", \"code\": \"ceb\", \"English language name\": \"Cebuano\", \"directionality\": \"ltr\", \"local language name\": \"Sinugboanong Binisaya\", \"local or English Wikipedia article\": \"en:Cebuano language\", \"comment\": null, \"Directionality\": null}, {\"language\": \"sv\", \"language_counts\": 1, \"magazine\": \"Black Panther\", \"code\": \"sv\", \"English language name\": \"Swedish\", \"directionality\": \"ltr\", \"local language name\": \"Svenska\", \"local or English Wikipedia article\": \"sv:Svenska\", \"comment\": null, \"Directionality\": null}, {\"language\": \"bs\", \"language_counts\": 1, \"magazine\": \"Black Panther\", \"code\": \"bs\", \"English language name\": \"Bosnian\", \"directionality\": \"ltr\", \"local language name\": \"Bosanski\", \"local or English Wikipedia article\": \"en:Bosnian language\", \"comment\": null, \"Directionality\": null}, {\"language\": \"fr\", \"language_counts\": 1, \"magazine\": \"Black Panther\", \"code\": \"fr\", \"English language name\": \"French\", \"directionality\": \"ltr\", \"local language name\": \"Fran\\u00e7ais\", \"local or English Wikipedia article\": \"fr:Fran\\u00e7ais\", \"comment\": null, \"Directionality\": null}, {\"language\": \"de\", \"language_counts\": 1, \"magazine\": \"Black Panther\", \"code\": \"de\", \"English language name\": \"German\", \"directionality\": \"ltr\", \"local language name\": \"Deutsch\", \"local or English Wikipedia article\": \"de:Deutsche Sprache\", \"comment\": null, \"Directionality\": null}, {\"language\": \"ar\", \"language_counts\": 1, \"magazine\": \"Black Panther\", \"code\": \"ar\", \"English language name\": \"Arabic\", \"directionality\": \"rtl\", \"local language name\": \"\\u0627\\u0644\\u0639\\u0631\\u0628\\u064a\\u0629\", \"local or English Wikipedia article\": \"en:Arabic language\", \"comment\": null, \"Directionality\": null}, {\"language\": \"fa\", \"language_counts\": 1, \"magazine\": \"Black Panther\", \"code\": \"fa\", \"English language name\": \"Persian\", \"directionality\": \"rtl\", \"local language name\": \"\\u0641\\u0627\\u0631\\u0633\\u06cc\", \"local or English Wikipedia article\": \"en:Persian language\", \"comment\": null, \"Directionality\": null}, {\"language\": \"es\", \"language_counts\": 105, \"magazine\": \"Tricontinental Bulletin\", \"code\": \"es\", \"English language name\": \"Spanish\", \"directionality\": \"ltr\", \"local language name\": \"Espa\\u00f1ol\", \"local or English Wikipedia article\": \"es:Idioma espa\\u00f1ol\", \"comment\": null, \"Directionality\": null}, {\"language\": \"pt\", \"language_counts\": 11, \"magazine\": \"Tricontinental Bulletin\", \"code\": \"pt\", \"English language name\": \"Portuguese\", \"directionality\": \"ltr\", \"local language name\": \"Portugu\\u00eas\", \"local or English Wikipedia article\": \"pt:L\\u00edngua portuguesa\", \"comment\": null, \"Directionality\": null}, {\"language\": \"it\", \"language_counts\": 4, \"magazine\": \"Tricontinental Bulletin\", \"code\": \"it\", \"English language name\": \"Italian\", \"directionality\": \"ltr\", \"local language name\": \"Italiano\", \"local or English Wikipedia article\": \"it:Lingua italiana\", \"comment\": null, \"Directionality\": null}, {\"language\": \"ar\", \"language_counts\": 4, \"magazine\": \"Tricontinental Bulletin\", \"code\": \"ar\", \"English language name\": \"Arabic\", \"directionality\": \"rtl\", \"local language name\": \"\\u0627\\u0644\\u0639\\u0631\\u0628\\u064a\\u0629\", \"local or English Wikipedia article\": \"en:Arabic language\", \"comment\": null, \"Directionality\": null}, {\"language\": \"fr\", \"language_counts\": 3, \"magazine\": \"Tricontinental Bulletin\", \"code\": \"fr\", \"English language name\": \"French\", \"directionality\": \"ltr\", \"local language name\": \"Fran\\u00e7ais\", \"local or English Wikipedia article\": \"fr:Fran\\u00e7ais\", \"comment\": null, \"Directionality\": null}, {\"language\": \"zh\", \"language_counts\": 3, \"magazine\": \"Tricontinental Bulletin\", \"code\": \"zh\", \"English language name\": \"Chinese\", \"directionality\": \"ltr\", \"local language name\": \"\\u4e2d\\u6587\", \"local or English Wikipedia article\": \"zh:\\u6c49\\u8bed\", \"comment\": null, \"Directionality\": null}, {\"language\": \"gn\", \"language_counts\": 2, \"magazine\": \"Tricontinental Bulletin\", \"code\": \"gn\", \"English language name\": \"Guarani\", \"directionality\": \"ltr\", \"local language name\": \"Ava\\u00f1e'\\u1ebd\", \"local or English Wikipedia article\": \"en:Guarani language\", \"comment\": null, \"Directionality\": null}, {\"language\": \"vi\", \"language_counts\": 2, \"magazine\": \"Tricontinental Bulletin\", \"code\": \"vi\", \"English language name\": \"Vietnamese\", \"directionality\": \"ltr\", \"local language name\": \"Ti\\u1ebfng Vi\\u1ec7t\", \"local or English Wikipedia article\": \"en:Vietnamese language\", \"comment\": null, \"Directionality\": null}, {\"language\": \"ko\", \"language_counts\": 2, \"magazine\": \"Tricontinental Bulletin\", \"code\": \"ko\", \"English language name\": \"Korean\", \"directionality\": \"ltr\", \"local language name\": \"\\ud55c\\uad6d\\uc5b4\", \"local or English Wikipedia article\": \"en:Korean language\", \"comment\": null, \"Directionality\": null}, {\"language\": \"no\", \"language_counts\": 2, \"magazine\": \"Tricontinental Bulletin\", \"code\": \"no\", \"English language name\": \"Norwegian\", \"directionality\": \"ltr\", \"local language name\": \"Norsk (bokm\\u00e5l\\u00a0/ riksm\\u00e5l)\", \"local or English Wikipedia article\": \"no:Norsk\", \"comment\": null, \"Directionality\": null}, {\"language\": \"sk\", \"language_counts\": 2, \"magazine\": \"Tricontinental Bulletin\", \"code\": \"sk\", \"English language name\": \"Slovak\", \"directionality\": \"ltr\", \"local language name\": \"Sloven\\u010dina\", \"local or English Wikipedia article\": \"sk:Sloven\\u010dina\", \"comment\": null, \"Directionality\": null}, {\"language\": \"de\", \"language_counts\": 1, \"magazine\": \"Tricontinental Bulletin\", \"code\": \"de\", \"English language name\": \"German\", \"directionality\": \"ltr\", \"local language name\": \"Deutsch\", \"local or English Wikipedia article\": \"de:Deutsche Sprache\", \"comment\": null, \"Directionality\": null}, {\"language\": \"ha\", \"language_counts\": 1, \"magazine\": \"Tricontinental Bulletin\", \"code\": \"ha\", \"English language name\": \"Hausa\", \"directionality\": \"rtl\", \"local language name\": \"\\u0647\\u064e\\u0648\\u064f\\u0633\\u064e\", \"local or English Wikipedia article\": \"en:Hausa language\", \"comment\": null, \"Directionality\": null}, {\"language\": \"ku\", \"language_counts\": 1, \"magazine\": \"Tricontinental Bulletin\", \"code\": \"ku\", \"English language name\": \"Kurdish (Kurmanji)\", \"directionality\": \"ltr\", \"local language name\": \"Kurd\\u00ee\", \"local or English Wikipedia article\": \"en:Kurmanji\", \"comment\": null, \"Directionality\": null}, {\"language\": \"sv\", \"language_counts\": 1, \"magazine\": \"Tricontinental Bulletin\", \"code\": \"sv\", \"English language name\": \"Swedish\", \"directionality\": \"ltr\", \"local language name\": \"Svenska\", \"local or English Wikipedia article\": \"sv:Svenska\", \"comment\": null, \"Directionality\": null}, {\"language\": \"jv\", \"language_counts\": 1, \"magazine\": \"Tricontinental Bulletin\", \"code\": \"jv\", \"English language name\": \"Javanese\", \"directionality\": \"ltr\", \"local language name\": \"Basa Jawa\", \"local or English Wikipedia article\": \"en:Javanese language\", \"comment\": null, \"Directionality\": null}, {\"language\": \"id\", \"language_counts\": 1, \"magazine\": \"Tricontinental Bulletin\", \"code\": \"id\", \"English language name\": \"Indonesian\", \"directionality\": \"ltr\", \"local language name\": \"Bahasa Indonesia\", \"local or English Wikipedia article\": \"id:Bahasa Indonesia\", \"comment\": null, \"Directionality\": null}, {\"language\": \"ms\", \"language_counts\": 1, \"magazine\": \"Tricontinental Bulletin\", \"code\": \"ms\", \"English language name\": \"Malay\", \"directionality\": \"ltr\", \"local language name\": \"Bahasa Melayu\", \"local or English Wikipedia article\": \"en:Malay language\", \"comment\": null, \"Directionality\": null}, {\"language\": \"om\", \"language_counts\": 1, \"magazine\": \"Tricontinental Bulletin\", \"code\": \"om\", \"English language name\": \"Oromo\", \"directionality\": \"ltr\", \"local language name\": \"Oromoo\", \"local or English Wikipedia article\": \"en:Oromo language\", \"comment\": null, \"Directionality\": null}, {\"language\": \"hr\", \"language_counts\": 1, \"magazine\": \"Tricontinental Bulletin\", \"code\": \"hr\", \"English language name\": \"Croatian\", \"directionality\": \"ltr\", \"local language name\": \"Hrvatski\", \"local or English Wikipedia article\": \"en:Croatian language\", \"comment\": null, \"Directionality\": null}, {\"language\": \"nl\", \"language_counts\": 1, \"magazine\": \"Tricontinental Bulletin\", \"code\": \"nl\", \"English language name\": \"Dutch\", \"directionality\": \"ltr\", \"local language name\": \"Nederlands\", \"local or English Wikipedia article\": \"nl:Nederlands\", \"comment\": null, \"Directionality\": null}, {\"language\": \"fa\", \"language_counts\": 1, \"magazine\": \"Tricontinental Bulletin\", \"code\": \"fa\", \"English language name\": \"Persian\", \"directionality\": \"rtl\", \"local language name\": \"\\u0641\\u0627\\u0631\\u0633\\u06cc\", \"local or English Wikipedia article\": \"en:Persian language\", \"comment\": null, \"Directionality\": null}, {\"language\": \"ca\", \"language_counts\": 1, \"magazine\": \"Tricontinental Bulletin\", \"code\": \"ca\", \"English language name\": \"Catalan\", \"directionality\": \"ltr\", \"local language name\": \"Catal\\u00e0\", \"local or English Wikipedia article\": \"ca:Catal\\u00e0\", \"comment\": null, \"Directionality\": null}, {\"language\": \"la\", \"language_counts\": 1, \"magazine\": \"Tricontinental Bulletin\", \"code\": \"la\", \"English language name\": \"Latin\", \"directionality\": \"ltr\", \"local language name\": \"Latina\", \"local or English Wikipedia article\": \"en:Latin language\", \"comment\": null, \"Directionality\": null}, {\"language\": \"lv\", \"language_counts\": 1, \"magazine\": \"Tricontinental Bulletin\", \"code\": \"lv\", \"English language name\": \"Latvian\", \"directionality\": \"ltr\", \"local language name\": \"Latvie\\u0161u\", \"local or English Wikipedia article\": \"en:Latvian language\", \"comment\": null, \"Directionality\": null}, {\"language\": \"th\", \"language_counts\": 1, \"magazine\": \"Tricontinental Bulletin\", \"code\": \"th\", \"English language name\": \"Thai\", \"directionality\": \"ltr\", \"local language name\": \"\\u0e44\\u0e17\\u0e22\\u00a0/ Phasa Thai\", \"local or English Wikipedia article\": \"en:Thai language\", \"comment\": null, \"Directionality\": null}, {\"language\": \"ar\", \"language_counts\": 57, \"magazine\": \"Arab Observer\", \"code\": \"ar\", \"English language name\": \"Arabic\", \"directionality\": \"rtl\", \"local language name\": \"\\u0627\\u0644\\u0639\\u0631\\u0628\\u064a\\u0629\", \"local or English Wikipedia article\": \"en:Arabic language\", \"comment\": null, \"Directionality\": null}, {\"language\": \"fr\", \"language_counts\": 21, \"magazine\": \"Arab Observer\", \"code\": \"fr\", \"English language name\": \"French\", \"directionality\": \"ltr\", \"local language name\": \"Fran\\u00e7ais\", \"local or English Wikipedia article\": \"fr:Fran\\u00e7ais\", \"comment\": null, \"Directionality\": null}, {\"language\": \"ms\", \"language_counts\": 5, \"magazine\": \"Arab Observer\", \"code\": \"ms\", \"English language name\": \"Malay\", \"directionality\": \"ltr\", \"local language name\": \"Bahasa Melayu\", \"local or English Wikipedia article\": \"en:Malay language\", \"comment\": null, \"Directionality\": null}, {\"language\": \"om\", \"language_counts\": 4, \"magazine\": \"Arab Observer\", \"code\": \"om\", \"English language name\": \"Oromo\", \"directionality\": \"ltr\", \"local language name\": \"Oromoo\", \"local or English Wikipedia article\": \"en:Oromo language\", \"comment\": null, \"Directionality\": null}, {\"language\": \"es\", \"language_counts\": 3, \"magazine\": \"Arab Observer\", \"code\": \"es\", \"English language name\": \"Spanish\", \"directionality\": \"ltr\", \"local language name\": \"Espa\\u00f1ol\", \"local or English Wikipedia article\": \"es:Idioma espa\\u00f1ol\", \"comment\": null, \"Directionality\": null}, {\"language\": \"ro\", \"language_counts\": 2, \"magazine\": \"Arab Observer\", \"code\": \"ro\", \"English language name\": \"Romanian\", \"directionality\": \"ltr\", \"local language name\": \"Rom\\u00e2n\\u0103\", \"local or English Wikipedia article\": \"ro:Limba rom\\u00e2n\\u0103\", \"comment\": null, \"Directionality\": null}, {\"language\": \"pl\", \"language_counts\": 2, \"magazine\": \"Arab Observer\", \"code\": \"pl\", \"English language name\": \"Polish\", \"directionality\": \"ltr\", \"local language name\": \"Polski\", \"local or English Wikipedia article\": \"pl:J\\u0119zyk polski\", \"comment\": null, \"Directionality\": null}, {\"language\": \"la\", \"language_counts\": 2, \"magazine\": \"Arab Observer\", \"code\": \"la\", \"English language name\": \"Latin\", \"directionality\": \"ltr\", \"local language name\": \"Latina\", \"local or English Wikipedia article\": \"en:Latin language\", \"comment\": null, \"Directionality\": null}, {\"language\": \"id\", \"language_counts\": 2, \"magazine\": \"Arab Observer\", \"code\": \"id\", \"English language name\": \"Indonesian\", \"directionality\": \"ltr\", \"local language name\": \"Bahasa Indonesia\", \"local or English Wikipedia article\": \"id:Bahasa Indonesia\", \"comment\": null, \"Directionality\": null}, {\"language\": \"et\", \"language_counts\": 1, \"magazine\": \"Arab Observer\", \"code\": \"et\", \"English language name\": \"Estonian\", \"directionality\": \"ltr\", \"local language name\": \"Eesti\", \"local or English Wikipedia article\": \"en:Estonian language\", \"comment\": null, \"Directionality\": null}, {\"language\": \"eu\", \"language_counts\": 1, \"magazine\": \"Arab Observer\", \"code\": \"eu\", \"English language name\": \"Basque\", \"directionality\": \"ltr\", \"local language name\": \"Euskara\", \"local or English Wikipedia article\": \"en:Basque language\", \"comment\": null, \"Directionality\": null}, {\"language\": \"ckb\", \"language_counts\": 1, \"magazine\": \"Arab Observer\", \"code\": \"ckb\", \"English language name\": \"Kurdish (Sorani)\", \"directionality\": \"rtl\", \"local language name\": \"\\u06a9\\u0648\\u0631\\u062f\\u06cc\", \"local or English Wikipedia article\": \"en:Sorani\", \"comment\": null, \"Directionality\": null}, {\"language\": \"uk\", \"language_counts\": 1, \"magazine\": \"Arab Observer\", \"code\": \"uk\", \"English language name\": \"Ukrainian\", \"directionality\": \"ltr\", \"local language name\": \"\\u0423\\u043a\\u0440\\u0430\\u0457\\u043d\\u0441\\u044c\\u043a\\u0430\", \"local or English Wikipedia article\": \"en:Ukrainian language\", \"comment\": null, \"Directionality\": null}, {\"language\": \"hr\", \"language_counts\": 1, \"magazine\": \"Arab Observer\", \"code\": \"hr\", \"English language name\": \"Croatian\", \"directionality\": \"ltr\", \"local language name\": \"Hrvatski\", \"local or English Wikipedia article\": \"en:Croatian language\", \"comment\": null, \"Directionality\": null}, {\"language\": \"de\", \"language_counts\": 1, \"magazine\": \"Arab Observer\", \"code\": \"de\", \"English language name\": \"German\", \"directionality\": \"ltr\", \"local language name\": \"Deutsch\", \"local or English Wikipedia article\": \"de:Deutsche Sprache\", \"comment\": null, \"Directionality\": null}, {\"language\": \"be\", \"language_counts\": 1, \"magazine\": \"Arab Observer\", \"code\": \"be\", \"English language name\": \"Belarusian\", \"directionality\": \"ltr\", \"local language name\": \"\\u0411\\u0435\\u043b\\u0430\\u0440\\u0443\\u0441\\u043a\\u0430\\u044f\", \"local or English Wikipedia article\": \"en:Belarusian language\", \"comment\": null, \"Directionality\": null}, {\"language\": \"hmn\", \"language_counts\": 1, \"magazine\": \"Arab Observer\", \"code\": \"hmn\", \"English language name\": \"Hmong\", \"directionality\": null, \"local language name\": null, \"local or English Wikipedia article\": null, \"comment\": null, \"Directionality\": \"ltr\"}, {\"language\": \"uz\", \"language_counts\": 1, \"magazine\": \"Arab Observer\", \"code\": \"uz\", \"English language name\": \"Uzbek\", \"directionality\": \"ltr\", \"local language name\": \"\\u040e\\u0437\\u0431\\u0435\\u043a\", \"local or English Wikipedia article\": \"en:Uzbek language\", \"comment\": null, \"Directionality\": null}, {\"language\": \"fil\", \"language_counts\": 1, \"magazine\": \"Arab Observer\", \"code\": \"fil\", \"English language name\": \"Filipino\", \"directionality\": null, \"local language name\": null, \"local or English Wikipedia article\": null, \"comment\": null, \"Directionality\": \"ltr\"}, {\"language\": \"sn\", \"language_counts\": 1, \"magazine\": \"Arab Observer\", \"code\": \"sn\", \"English language name\": \"Shona\", \"directionality\": \"ltr\", \"local language name\": \"chiShona\", \"local or English Wikipedia article\": \"en:Shona language\", \"comment\": null, \"Directionality\": null}, {\"language\": \"fa\", \"language_counts\": 1, \"magazine\": \"Arab Observer\", \"code\": \"fa\", \"English language name\": \"Persian\", \"directionality\": \"rtl\", \"local language name\": \"\\u0641\\u0627\\u0631\\u0633\\u06cc\", \"local or English Wikipedia article\": \"en:Persian language\", \"comment\": null, \"Directionality\": null}]}}, {\"mode\": \"vega-lite\"});\n",
       "</script>"
      ],
      "text/plain": [
       "alt.HConcatChart(...)"
      ]
     },
     "execution_count": 60,
     "metadata": {},
     "output_type": "execute_result"
    }
   ],
   "source": [
    "with_eng = alt.Chart(combined_magazines_languages).mark_bar().encode(\n",
    "    x='magazine',\n",
    "    y='language_counts:Q',\n",
    "    color=alt.Color('English language name:N', legend=alt.Legend(title=\"Language\", columns=3, symbolLimit=0), scale=alt.Scale(scheme='category20b')),\n",
    ")\n",
    "no_eng = alt.Chart(combined_magazines_languages[combined_magazines_languages.language != 'en']).mark_bar().encode(\n",
    "    x='magazine',\n",
    "    y=alt.Y('language_counts:Q', sort=alt.EncodingSortField(field=\"language_counts\", op=\"sum\", order=\"descending\")),\n",
    "    color=alt.Color('English language name:N', legend=alt.Legend(title=\"Language\", columns=3, symbolLimit=0), scale=alt.Scale(scheme='category20b')),\n",
    "    tooltip=['language', 'language_counts', 'English language name']\n",
    ")\n",
    "\n",
    "with_eng | no_eng"
   ]
  },
  {
   "cell_type": "code",
   "execution_count": 61,
   "metadata": {},
   "outputs": [],
   "source": [
    "arab_observer_df['text'] = arab_observer_df.text.fillna('')\n",
    "tricontinental_bulletin_df['text'] = tricontinental_bulletin_df.text.fillna('')\n",
    "black_panther_df['text'] = black_panther_df.text.fillna('')\n",
    "\n",
    "arab_observer_df['text'] = arab_observer_df['text'].astype(str)\n",
    "tricontinental_bulletin_df['text'] = tricontinental_bulletin_df['text'].astype(\n",
    "    str)\n",
    "black_panther_df['text'] = black_panther_df['text'].astype(str)\n",
    "\n",
    "arab_observer_df['text'] = arab_observer_df['text'].str.replace('\\n', ' ')\n",
    "tricontinental_bulletin_df['text'] = tricontinental_bulletin_df['text'].str.replace(\n",
    "    '\\n', ' ')\n",
    "black_panther_df['text'] = black_panther_df['text'].str.replace('\\n', ' ')\n",
    "\n",
    "# arab_observer_df['text'] = arab_observer_df['text'].str.lower()\n",
    "# tricontinental_bulletin_df['text'] = tricontinental_bulletin_df['text'].str.lower(\n",
    "# )\n",
    "tricontinental_bulletin_df = tricontinental_bulletin_df.rename(\n",
    "    columns={'file_name': 'file_path', 'title': 'issue', 'page': 'page_number'})\n",
    "black_panther_df = black_panther_df.rename(columns={'page': 'page_number'})\n",
    "\n",
    "arab_observer_df['periodical_name'] = 'Arab Observer'\n",
    "tricontinental_bulletin_df['periodical_name'] = 'Tricontinental Bulletin'\n",
    "black_panther_df['periodical_name'] = 'Black Panther'\n"
   ]
  },
  {
   "cell_type": "code",
   "execution_count": 62,
   "metadata": {},
   "outputs": [],
   "source": [
    "missing_dates = {'BlackPantherPDFs/vol_3_no_14_1969.pdf': {'day': 26, 'month': 'July', 'year': 1969},\n",
    " 'BlackPantherPDFs/vol_6_no_11_1971.pdf' : {'day': 10, 'month': 'April', 'year': 1971},\n",
    " 'BlackPantherPDFs/vol_6_no_12_1971.pdf': {'day': 17, 'month': 'April', 'year': 1971},\n",
    " 'BlackPantherPDFs/vol_6_no_13_1971.pdf': {'day': 1, 'month': 'May', 'year': 1971},\n",
    " 'BlackPantherPDFs/vol_6_no_15_1971.pdf': {'day': 8, 'month': 'May', 'year': 1971},\n",
    " 'BlackPantherPDFs/vol_6_no_16_1971.pdf': {'day': 15, 'month': 'May', 'year': 1971},\n",
    " 'BlackPantherPDFs/vol_6_no_17_1971.pdf': {'day': 22, 'month': 'May', 'year': 1971},\n",
    " 'BlackPantherPDFs/vol_6_no_18_1971.pdf': {'day': 29, 'month': 'May', 'year': 1971},\n",
    " 'BlackPantherPDFs/vol_6_no_20_1971.pdf': {'day': 12, 'month': 'June', 'year': 1971},\n",
    " 'BlackPantherPDFs/vol_6_no_21_1971.pdf': {'day': 19, 'month': 'June', 'year': 1971},\n",
    " 'BlackPantherPDFs/vol_6_no_22_1971.pdf': {'day': 26, 'month': 'June', 'year': 1971},\n",
    " 'BlackPantherPDFs/vol_6_no_23_1971.pdf': {'day': 3, 'month': 'July', 'year': 1971},\n",
    " 'BlackPantherPDFs/vol_6_no_24_1971.pdf': {'day': 10, 'month': 'July', 'year': 1971},\n",
    " 'BlackPantherPDFs/vol_6_no_25_1971.pdf': {'day': 17, 'month': 'July', 'year': 1971},\n",
    " 'BlackPantherPDFs/vol_6_no_26_1971.pdf': {'day': 24, 'month': 'July', 'year': 1971},\n",
    " 'BlackPantherPDFs/vol_6_no_27_1971.pdf': {'day': 31, 'month': 'July', 'year': 1971},\n",
    " 'BlackPantherPDFs/vol_6_no_28_1971.pdf': {'day': 7, 'month': 'August', 'year': 1971},\n",
    " 'BlackPantherPDFs/vol_6_no_29_1971.pdf': {'day': 14, 'month': 'August', 'year': 1971},\n",
    " 'BlackPantherPDFs/vol_6_no_30_1971.pdf': {'day': 21, 'month': 'August', 'year': 1971}\n",
    "}"
   ]
  },
  {
   "cell_type": "code",
   "execution_count": 63,
   "metadata": {},
   "outputs": [
    {
     "data": {
      "text/html": [
       "<div>\n",
       "<style scoped>\n",
       "    .dataframe tbody tr th:only-of-type {\n",
       "        vertical-align: middle;\n",
       "    }\n",
       "\n",
       "    .dataframe tbody tr th {\n",
       "        vertical-align: top;\n",
       "    }\n",
       "\n",
       "    .dataframe thead th {\n",
       "        text-align: right;\n",
       "    }\n",
       "</style>\n",
       "<table border=\"1\" class=\"dataframe\">\n",
       "  <thead>\n",
       "    <tr style=\"text-align: right;\">\n",
       "      <th></th>\n",
       "      <th>file_path</th>\n",
       "      <th>day</th>\n",
       "      <th>month</th>\n",
       "      <th>year</th>\n",
       "    </tr>\n",
       "  </thead>\n",
       "  <tbody>\n",
       "    <tr>\n",
       "      <th>0</th>\n",
       "      <td>BlackPantherPDFs/vol_3_no_14_1969.pdf</td>\n",
       "      <td>26</td>\n",
       "      <td>July</td>\n",
       "      <td>1969</td>\n",
       "    </tr>\n",
       "    <tr>\n",
       "      <th>1</th>\n",
       "      <td>BlackPantherPDFs/vol_6_no_11_1971.pdf</td>\n",
       "      <td>10</td>\n",
       "      <td>April</td>\n",
       "      <td>1971</td>\n",
       "    </tr>\n",
       "    <tr>\n",
       "      <th>2</th>\n",
       "      <td>BlackPantherPDFs/vol_6_no_12_1971.pdf</td>\n",
       "      <td>17</td>\n",
       "      <td>April</td>\n",
       "      <td>1971</td>\n",
       "    </tr>\n",
       "    <tr>\n",
       "      <th>3</th>\n",
       "      <td>BlackPantherPDFs/vol_6_no_13_1971.pdf</td>\n",
       "      <td>1</td>\n",
       "      <td>May</td>\n",
       "      <td>1971</td>\n",
       "    </tr>\n",
       "    <tr>\n",
       "      <th>4</th>\n",
       "      <td>BlackPantherPDFs/vol_6_no_15_1971.pdf</td>\n",
       "      <td>8</td>\n",
       "      <td>May</td>\n",
       "      <td>1971</td>\n",
       "    </tr>\n",
       "    <tr>\n",
       "      <th>5</th>\n",
       "      <td>BlackPantherPDFs/vol_6_no_16_1971.pdf</td>\n",
       "      <td>15</td>\n",
       "      <td>May</td>\n",
       "      <td>1971</td>\n",
       "    </tr>\n",
       "    <tr>\n",
       "      <th>6</th>\n",
       "      <td>BlackPantherPDFs/vol_6_no_17_1971.pdf</td>\n",
       "      <td>22</td>\n",
       "      <td>May</td>\n",
       "      <td>1971</td>\n",
       "    </tr>\n",
       "    <tr>\n",
       "      <th>7</th>\n",
       "      <td>BlackPantherPDFs/vol_6_no_18_1971.pdf</td>\n",
       "      <td>29</td>\n",
       "      <td>May</td>\n",
       "      <td>1971</td>\n",
       "    </tr>\n",
       "    <tr>\n",
       "      <th>8</th>\n",
       "      <td>BlackPantherPDFs/vol_6_no_20_1971.pdf</td>\n",
       "      <td>12</td>\n",
       "      <td>June</td>\n",
       "      <td>1971</td>\n",
       "    </tr>\n",
       "    <tr>\n",
       "      <th>9</th>\n",
       "      <td>BlackPantherPDFs/vol_6_no_21_1971.pdf</td>\n",
       "      <td>19</td>\n",
       "      <td>June</td>\n",
       "      <td>1971</td>\n",
       "    </tr>\n",
       "    <tr>\n",
       "      <th>10</th>\n",
       "      <td>BlackPantherPDFs/vol_6_no_22_1971.pdf</td>\n",
       "      <td>26</td>\n",
       "      <td>June</td>\n",
       "      <td>1971</td>\n",
       "    </tr>\n",
       "    <tr>\n",
       "      <th>11</th>\n",
       "      <td>BlackPantherPDFs/vol_6_no_23_1971.pdf</td>\n",
       "      <td>3</td>\n",
       "      <td>July</td>\n",
       "      <td>1971</td>\n",
       "    </tr>\n",
       "    <tr>\n",
       "      <th>12</th>\n",
       "      <td>BlackPantherPDFs/vol_6_no_24_1971.pdf</td>\n",
       "      <td>10</td>\n",
       "      <td>July</td>\n",
       "      <td>1971</td>\n",
       "    </tr>\n",
       "    <tr>\n",
       "      <th>13</th>\n",
       "      <td>BlackPantherPDFs/vol_6_no_25_1971.pdf</td>\n",
       "      <td>17</td>\n",
       "      <td>July</td>\n",
       "      <td>1971</td>\n",
       "    </tr>\n",
       "    <tr>\n",
       "      <th>14</th>\n",
       "      <td>BlackPantherPDFs/vol_6_no_26_1971.pdf</td>\n",
       "      <td>24</td>\n",
       "      <td>July</td>\n",
       "      <td>1971</td>\n",
       "    </tr>\n",
       "    <tr>\n",
       "      <th>15</th>\n",
       "      <td>BlackPantherPDFs/vol_6_no_27_1971.pdf</td>\n",
       "      <td>31</td>\n",
       "      <td>July</td>\n",
       "      <td>1971</td>\n",
       "    </tr>\n",
       "    <tr>\n",
       "      <th>16</th>\n",
       "      <td>BlackPantherPDFs/vol_6_no_28_1971.pdf</td>\n",
       "      <td>7</td>\n",
       "      <td>August</td>\n",
       "      <td>1971</td>\n",
       "    </tr>\n",
       "    <tr>\n",
       "      <th>17</th>\n",
       "      <td>BlackPantherPDFs/vol_6_no_29_1971.pdf</td>\n",
       "      <td>14</td>\n",
       "      <td>August</td>\n",
       "      <td>1971</td>\n",
       "    </tr>\n",
       "    <tr>\n",
       "      <th>18</th>\n",
       "      <td>BlackPantherPDFs/vol_6_no_30_1971.pdf</td>\n",
       "      <td>21</td>\n",
       "      <td>August</td>\n",
       "      <td>1971</td>\n",
       "    </tr>\n",
       "  </tbody>\n",
       "</table>\n",
       "</div>"
      ],
      "text/plain": [
       "                                file_path  day   month  year\n",
       "0   BlackPantherPDFs/vol_3_no_14_1969.pdf   26    July  1969\n",
       "1   BlackPantherPDFs/vol_6_no_11_1971.pdf   10   April  1971\n",
       "2   BlackPantherPDFs/vol_6_no_12_1971.pdf   17   April  1971\n",
       "3   BlackPantherPDFs/vol_6_no_13_1971.pdf    1     May  1971\n",
       "4   BlackPantherPDFs/vol_6_no_15_1971.pdf    8     May  1971\n",
       "5   BlackPantherPDFs/vol_6_no_16_1971.pdf   15     May  1971\n",
       "6   BlackPantherPDFs/vol_6_no_17_1971.pdf   22     May  1971\n",
       "7   BlackPantherPDFs/vol_6_no_18_1971.pdf   29     May  1971\n",
       "8   BlackPantherPDFs/vol_6_no_20_1971.pdf   12    June  1971\n",
       "9   BlackPantherPDFs/vol_6_no_21_1971.pdf   19    June  1971\n",
       "10  BlackPantherPDFs/vol_6_no_22_1971.pdf   26    June  1971\n",
       "11  BlackPantherPDFs/vol_6_no_23_1971.pdf    3    July  1971\n",
       "12  BlackPantherPDFs/vol_6_no_24_1971.pdf   10    July  1971\n",
       "13  BlackPantherPDFs/vol_6_no_25_1971.pdf   17    July  1971\n",
       "14  BlackPantherPDFs/vol_6_no_26_1971.pdf   24    July  1971\n",
       "15  BlackPantherPDFs/vol_6_no_27_1971.pdf   31    July  1971\n",
       "16  BlackPantherPDFs/vol_6_no_28_1971.pdf    7  August  1971\n",
       "17  BlackPantherPDFs/vol_6_no_29_1971.pdf   14  August  1971\n",
       "18  BlackPantherPDFs/vol_6_no_30_1971.pdf   21  August  1971"
      ]
     },
     "execution_count": 63,
     "metadata": {},
     "output_type": "execute_result"
    }
   ],
   "source": [
    "missing_df = pd.DataFrame.from_dict(missing_dates, orient='index').reset_index().rename(columns={'index': 'file_path'})\n",
    "missing_df"
   ]
  },
  {
   "cell_type": "code",
   "execution_count": 64,
   "metadata": {},
   "outputs": [],
   "source": [
    "for _, row in missing_df.iterrows():\n",
    "    file_path = row.file_path\n",
    "    black_panther_df.loc[black_panther_df.file_path == file_path, 'day'] = row.day\n",
    "    black_panther_df.loc[black_panther_df.file_path == file_path, 'month'] = row.month"
   ]
  },
  {
   "cell_type": "code",
   "execution_count": 65,
   "metadata": {},
   "outputs": [],
   "source": [
    "black_panther_df['day'] = black_panther_df['day'].astype(int)\n",
    "black_panther_df['year'] = black_panther_df['year'].astype(int)\n",
    "black_panther_df['cleaned_date'] = black_panther_df.year.astype(str) + '-' + black_panther_df.month + '-' + black_panther_df.day.astype(str)\n",
    "black_panther_df['cleaned_issue_date'] = pd.to_datetime(black_panther_df['cleaned_date'], format='%Y-%B-%d')"
   ]
  },
  {
   "cell_type": "code",
   "execution_count": 66,
   "metadata": {},
   "outputs": [],
   "source": [
    "tricontinental_bulletin_df['date'] = tricontinental_bulletin_df.year"
   ]
  },
  {
   "cell_type": "code",
   "execution_count": 67,
   "metadata": {},
   "outputs": [],
   "source": [
    "dates = {\n",
    "    'Date: 11/1968': '1968-11-01',\n",
    "    'Date: 1/1969': '1969-01-01',\n",
    "    'Date: 2/1969': '1969-02-01',\n",
    "    'Date: 8/1969': '1969-08-01',\n",
    "    'Date: 7/1971': '1971-07-01',\n",
    "    'Date: 5/1971': '1971-05-01',\n",
    "    'Date: 8/1968': '1968-08-01',\n",
    "    'Date: 12/1971': '1971-12-01',\n",
    "    'Date: 7/1968': '1968-07-01',\n",
    "    'Date: 7/1972': '1972-07-01', \n",
    "    'Date: 1/1971': '1971-01-01',\n",
    "    'Date: 2/1972': '1972-02-01',\n",
    "    'Date: 11/1971': '1971-11-01',\n",
    "    'Date: 6/1968': '1968-06-01',\n",
    "    'Date: 9/1968': '1968-09-01',\n",
    "    'Date: 10/1969': '1969-10-01',\n",
    "    'Date: 12/1969': '1969-12-01', \n",
    "    'Date: 1/1970': '1970-01-01', \n",
    "    'Date: 2/1970': '1970-02-01', \n",
    "    'Date: 9/1971': '1971-09-01',\n",
    "    'Date: 9/1972': '1972-09-01', \n",
    "    'Date: 4/1972': '1972-04-01', \n",
    "    'Date: 3/1969': '1969-03-01', \n",
    "    'Date: 3/1972': '1972-03-01',\n",
    "    'Date: 5/1966': '1966-05-01', \n",
    "    'Date: 3/1970': '1970-03-01', \n",
    "    'Date: 5/1996': '1996-05-01',\n",
    "    'Date: 1/1972': '1972-01-01',\n",
    "}"
   ]
  },
  {
   "cell_type": "code",
   "execution_count": 68,
   "metadata": {},
   "outputs": [],
   "source": [
    "exclude_dates = [ 'Year: 1999',  'Date: 5/1996', 'Year: 2004', 'Year: 2000']"
   ]
  },
  {
   "cell_type": "code",
   "execution_count": 69,
   "metadata": {},
   "outputs": [],
   "source": [
    "tricontinental_bulletin_df = tricontinental_bulletin_df[tricontinental_bulletin_df.year.isin(\n",
    "    exclude_dates) == False]\n"
   ]
  },
  {
   "cell_type": "code",
   "execution_count": 70,
   "metadata": {},
   "outputs": [],
   "source": [
    "tricontinental_bulletin_df.date.replace(\n",
    "    dates, inplace=True)\n"
   ]
  },
  {
   "cell_type": "code",
   "execution_count": 71,
   "metadata": {},
   "outputs": [],
   "source": [
    "tricontinental_bulletin_df['issue_number'] = tricontinental_bulletin_df.issue.str.extract(\n",
    "    r'(\\d+)')\n"
   ]
  },
  {
   "cell_type": "code",
   "execution_count": 72,
   "metadata": {},
   "outputs": [],
   "source": [
    "tricontinental_bulletin_df.loc[(\n",
    "    tricontinental_bulletin_df.date == 'Year: 1969') & (tricontinental_bulletin_df.issue_number == '11'), 'date'] = '1969-05-01'\n",
    "tricontinental_bulletin_df.loc[(\n",
    "    tricontinental_bulletin_df.date == 'Year: 1971') & (tricontinental_bulletin_df.issue_number == '21'), 'date'] = '1971-02-01'\n",
    "tricontinental_bulletin_df.loc[(\n",
    "    tricontinental_bulletin_df.date == 'Year: 1971') & (tricontinental_bulletin_df.issue_number == '25'), 'date'] = '1971-08-01'\n",
    "tricontinental_bulletin_df.loc[(\n",
    "    tricontinental_bulletin_df.date == 'Year: 1973') & (tricontinental_bulletin_df.issue_number == '33'), 'date'] = '1973-01-01'\n",
    "tricontinental_bulletin_df.loc[(\n",
    "    tricontinental_bulletin_df.date.isna()) & (tricontinental_bulletin_df.issue_number == '1'), 'date'] = '1966-04-01'\n",
    "tricontinental_bulletin_df.loc[(\n",
    "    tricontinental_bulletin_df.date.isna()) & (tricontinental_bulletin_df.issue_number == '3'), 'date'] = '1966-06-01'\n",
    "tricontinental_bulletin_df.loc[(\n",
    "    tricontinental_bulletin_df.date.isna()) & (tricontinental_bulletin_df.issue_number == '4'), 'date'] = '1966-07-01'\n",
    "tricontinental_bulletin_df.loc[(\n",
    "    tricontinental_bulletin_df.date == 'Year: 1968') & (tricontinental_bulletin_df.issue_number == '7'), 'date'] = '1968-01-01'\n",
    "tricontinental_bulletin_df.loc[(\n",
    "    tricontinental_bulletin_df.date == 'Year: 1969') & (tricontinental_bulletin_df.issue_number == '15'), 'date'] = '1968-07-01'\n"
   ]
  },
  {
   "cell_type": "code",
   "execution_count": 73,
   "metadata": {},
   "outputs": [],
   "source": [
    "tricontinental_bulletin_df.loc[(\n",
    "    tricontinental_bulletin_df.date == 'Year: 1967') & (tricontinental_bulletin_df.issue_number == '11'), 'date'] = '1967-02-01'\n",
    "tricontinental_bulletin_df.loc[(\n",
    "    tricontinental_bulletin_df.date == 'Year: 1967') & (tricontinental_bulletin_df.issue_number.isna()), 'date'] = '1967-04-01'\n",
    "tricontinental_bulletin_df.loc[(\n",
    "    tricontinental_bulletin_df.date == 'Year: 1969') & (tricontinental_bulletin_df.issue_number == '10'), 'date'] = '1969-04-01'\n",
    "tricontinental_bulletin_df.loc[(\n",
    "    tricontinental_bulletin_df.date == 'Year: 1970') & (tricontinental_bulletin_df.issue_number == '18'), 'date'] = '1969-12-01'\n",
    "tricontinental_bulletin_df.loc[(\n",
    "    tricontinental_bulletin_df.date == 'Year: 1970') & (tricontinental_bulletin_df.issue_number == '17'), 'date'] = '1969-11-01'\n",
    "tricontinental_bulletin_df.loc[(\n",
    "    tricontinental_bulletin_df.date == 'Year: 1971') & (tricontinental_bulletin_df.issue_number == '26'), 'date'] = '1971-08-01'\n",
    "tricontinental_bulletin_df.loc[(\n",
    "    tricontinental_bulletin_df.date == 'Year: 1971') & (tricontinental_bulletin_df.issue_number == '23'), 'date'] = '1971-04-01'\n",
    "tricontinental_bulletin_df.loc[(\n",
    "    tricontinental_bulletin_df.date == 'Year: 1972') & (tricontinental_bulletin_df.issue_number == '29'), 'date'] = '1972-05-01'\n",
    "tricontinental_bulletin_df.loc[(\n",
    "    tricontinental_bulletin_df.date == 'Year: 1972') & (tricontinental_bulletin_df.issue_number == '31'), 'date'] = '1972-06-01'\n",
    "tricontinental_bulletin_df.loc[(\n",
    "    tricontinental_bulletin_df.date == 'Year: 1972') & (tricontinental_bulletin_df.issue_number == '74'), 'date'] = '1972-12-01'\n",
    "tricontinental_bulletin_df.loc[(\n",
    "    tricontinental_bulletin_df.date == 'Year: 1973') & (tricontinental_bulletin_df.issue_number == '82'), 'date'] = '1973-02-01'\n",
    "tricontinental_bulletin_df.loc[(\n",
    "    tricontinental_bulletin_df.date == 'Year: 1973') & (tricontinental_bulletin_df.issue_number == '84'), 'date'] = '1973-04-01'\n",
    "tricontinental_bulletin_df.loc[(\n",
    "    tricontinental_bulletin_df.date == 'Year: 1975') & (tricontinental_bulletin_df.issue_number.isna()), 'date'] = '1975-01-01'\n",
    "tricontinental_bulletin_df.loc[(\n",
    "    tricontinental_bulletin_df.date == 'Year: 1976') & (tricontinental_bulletin_df.issue_number == '49'), 'date'] = '1976-01-01'\n",
    "tricontinental_bulletin_df.loc[(\n",
    "    tricontinental_bulletin_df.date == 'Year: 1976') & (tricontinental_bulletin_df.issue_number == '101'), 'date'] = '1976-12-01'\n",
    "tricontinental_bulletin_df.loc[(\n",
    "    tricontinental_bulletin_df.date == 'Year: 1977') & (tricontinental_bulletin_df.issue_number == '104'), 'date'] = '1977-01-01'\n",
    "tricontinental_bulletin_df.loc[(\n",
    "    tricontinental_bulletin_df.date == 'Year: 1977') & (tricontinental_bulletin_df.issue_number == '107'), 'date'] = '1977-12-01'\n",
    "tricontinental_bulletin_df.loc[(\n",
    "    tricontinental_bulletin_df.date == 'Year: 1980') & (tricontinental_bulletin_df.issue_number == '67'), 'date'] = '1980-01-01'\n",
    "tricontinental_bulletin_df.loc[(\n",
    "    tricontinental_bulletin_df.date == 'Year: 1980') & (tricontinental_bulletin_df.issue_number == '69'), 'date'] = '1980-12-01'\n"
   ]
  },
  {
   "cell_type": "code",
   "execution_count": 74,
   "metadata": {},
   "outputs": [],
   "source": [
    "# subset_df = tricontinental_bulletin_df[tricontinental_bulletin_df.date.str.contains('Year', na=False)][['date', 'issue_number']].drop_duplicates()\n",
    "\n",
    "# subset_df['extracted_year'] = subset_df.date.str.extract(r'(\\d+)')\n",
    "# subset_df['extracted_year'] = subset_df['extracted_year'].astype(int)\n",
    "# subset_df.sort_values(by=['extracted_year', 'issue_number'])"
   ]
  },
  {
   "cell_type": "code",
   "execution_count": 75,
   "metadata": {},
   "outputs": [],
   "source": [
    "arab_observer_df['cleaned_issue_date'] = pd.to_datetime(\n",
    "    arab_observer_df['issue'], errors='coerce')\n"
   ]
  },
  {
   "cell_type": "code",
   "execution_count": 76,
   "metadata": {},
   "outputs": [],
   "source": [
    "tricontinental_bulletin_df['cleaned_issue_date'] = pd.to_datetime(tricontinental_bulletin_df['date'], errors='coerce')\n"
   ]
  },
  {
   "cell_type": "code",
   "execution_count": 77,
   "metadata": {},
   "outputs": [],
   "source": [
    "revolutionary_terms = [\"third world\", \"revolution\", \"liberation\", \"imperialism\"]"
   ]
  },
  {
   "cell_type": "code",
   "execution_count": 89,
   "metadata": {},
   "outputs": [],
   "source": [
    "arab_observer_df['tokenized_text'] = arab_observer_df['text'].apply(lambda x: nltk.word_tokenize(x))\n",
    "tricontinental_bulletin_df['tokenized_text'] = tricontinental_bulletin_df['text'].apply(lambda x: nltk.word_tokenize(x))\n",
    "black_panther_df['tokenized_text'] = black_panther_df['text'].apply(lambda x: nltk.word_tokenize(x))\n",
    "\n",
    "arab_observer_df['tokenized_length'] = arab_observer_df.tokenized_text.str.len()\n",
    "tricontinental_bulletin_df['tokenized_length'] = tricontinental_bulletin_df.tokenized_text.str.len()\n",
    "black_panther_df['tokenized_length'] = black_panther_df.tokenized_text.str.len()\n",
    "\n"
   ]
  },
  {
   "cell_type": "code",
   "execution_count": 90,
   "metadata": {},
   "outputs": [],
   "source": [
    "counts_ao = arab_observer_df.copy()\n",
    "counts_tb = tricontinental_bulletin_df.copy()\n",
    "counts_bp = black_panther_df.copy()\n"
   ]
  },
  {
   "cell_type": "code",
   "execution_count": 91,
   "metadata": {},
   "outputs": [],
   "source": [
    "import re"
   ]
  },
  {
   "cell_type": "code",
   "execution_count": 92,
   "metadata": {},
   "outputs": [],
   "source": [
    "counts_ao['struggle_counts'] = counts_ao['text'].str.count('struggle')\n",
    "counts_tb['struggle_counts'] = counts_tb['text'].str.count('struggle')\n",
    "counts_bp['struggle_counts'] = counts_bp['text'].str.count('struggle')\n"
   ]
  },
  {
   "cell_type": "code",
   "execution_count": 93,
   "metadata": {},
   "outputs": [],
   "source": [
    "grouped_ao = counts_ao[['periodical_name', 'struggle_counts', 'cleaned_issue_date', 'page_number']].groupby(['periodical_name', 'cleaned_issue_date'])['struggle_counts'].sum().reset_index().sort_values(by='cleaned_issue_date', ascending=True)"
   ]
  },
  {
   "cell_type": "code",
   "execution_count": 94,
   "metadata": {},
   "outputs": [],
   "source": [
    "grouped_tb = counts_tb[['periodical_name', 'struggle_counts', 'cleaned_issue_date', 'page_number']].groupby(['periodical_name', 'cleaned_issue_date'])[\n",
    "    'struggle_counts'].sum().reset_index().sort_values(by=['cleaned_issue_date'], ascending=True)\n",
    "\n",
    "grouped_bp = counts_bp[['periodical_name', 'struggle_counts', 'cleaned_issue_date', 'page_number']].groupby(['periodical_name', 'cleaned_issue_date'])['struggle_counts'].sum().reset_index().sort_values(by='cleaned_issue_date', ascending=True)"
   ]
  },
  {
   "cell_type": "code",
   "execution_count": 96,
   "metadata": {},
   "outputs": [],
   "source": [
    "total_ao = counts_ao[['periodical_name', 'tokenized_length', 'cleaned_issue_date', 'page_number']].groupby(['periodical_name', 'cleaned_issue_date'])['tokenized_length'].sum().reset_index().sort_values(by='cleaned_issue_date', ascending=True)\n",
    "total_tb = counts_tb[['periodical_name', 'tokenized_length', 'cleaned_issue_date', 'page_number']].groupby(['periodical_name', 'cleaned_issue_date'])['tokenized_length'].sum().reset_index().sort_values(by='cleaned_issue_date', ascending=True)\n",
    "total_bp = counts_bp[['periodical_name', 'tokenized_length', 'cleaned_issue_date', 'page_number']].groupby(['periodical_name', 'cleaned_issue_date'])['tokenized_length'].sum().reset_index().sort_values(by='cleaned_issue_date', ascending=True)"
   ]
  },
  {
   "cell_type": "code",
   "execution_count": 98,
   "metadata": {},
   "outputs": [],
   "source": [
    "merged_ao = pd.merge(total_ao, grouped_ao, on=['periodical_name', 'cleaned_issue_date'], how='inner')\n",
    "merged_tb = pd.merge(total_tb, grouped_tb, on=['periodical_name', 'cleaned_issue_date'], how='inner')\n",
    "merged_bp = pd.merge(total_bp, grouped_bp, on=['periodical_name', 'cleaned_issue_date'], how='inner')"
   ]
  },
  {
   "cell_type": "code",
   "execution_count": 99,
   "metadata": {},
   "outputs": [],
   "source": [
    "merged_ao['struggle_ratio'] = merged_ao['struggle_counts'] / merged_ao['tokenized_length']\n",
    "merged_tb['struggle_ratio'] = merged_tb['struggle_counts'] / merged_tb['tokenized_length']\n",
    "merged_bp['struggle_ratio'] = merged_bp['struggle_counts'] / merged_bp['tokenized_length']"
   ]
  },
  {
   "cell_type": "code",
   "execution_count": 101,
   "metadata": {},
   "outputs": [
    {
     "data": {
      "text/html": [
       "\n",
       "<div id=\"altair-viz-ea0d7ef2771d4219b68a33a301ad413b\"></div>\n",
       "<script type=\"text/javascript\">\n",
       "  var VEGA_DEBUG = (typeof VEGA_DEBUG == \"undefined\") ? {} : VEGA_DEBUG;\n",
       "  (function(spec, embedOpt){\n",
       "    let outputDiv = document.currentScript.previousElementSibling;\n",
       "    if (outputDiv.id !== \"altair-viz-ea0d7ef2771d4219b68a33a301ad413b\") {\n",
       "      outputDiv = document.getElementById(\"altair-viz-ea0d7ef2771d4219b68a33a301ad413b\");\n",
       "    }\n",
       "    const paths = {\n",
       "      \"vega\": \"https://cdn.jsdelivr.net/npm//vega@5?noext\",\n",
       "      \"vega-lib\": \"https://cdn.jsdelivr.net/npm//vega-lib?noext\",\n",
       "      \"vega-lite\": \"https://cdn.jsdelivr.net/npm//vega-lite@4.17.0?noext\",\n",
       "      \"vega-embed\": \"https://cdn.jsdelivr.net/npm//vega-embed@6?noext\",\n",
       "    };\n",
       "\n",
       "    function maybeLoadScript(lib, version) {\n",
       "      var key = `${lib.replace(\"-\", \"\")}_version`;\n",
       "      return (VEGA_DEBUG[key] == version) ?\n",
       "        Promise.resolve(paths[lib]) :\n",
       "        new Promise(function(resolve, reject) {\n",
       "          var s = document.createElement('script');\n",
       "          document.getElementsByTagName(\"head\")[0].appendChild(s);\n",
       "          s.async = true;\n",
       "          s.onload = () => {\n",
       "            VEGA_DEBUG[key] = version;\n",
       "            return resolve(paths[lib]);\n",
       "          };\n",
       "          s.onerror = () => reject(`Error loading script: ${paths[lib]}`);\n",
       "          s.src = paths[lib];\n",
       "        });\n",
       "    }\n",
       "\n",
       "    function showError(err) {\n",
       "      outputDiv.innerHTML = `<div class=\"error\" style=\"color:red;\">${err}</div>`;\n",
       "      throw err;\n",
       "    }\n",
       "\n",
       "    function displayChart(vegaEmbed) {\n",
       "      vegaEmbed(outputDiv, spec, embedOpt)\n",
       "        .catch(err => showError(`Javascript Error: ${err.message}<br>This usually means there's a typo in your chart specification. See the javascript console for the full traceback.`));\n",
       "    }\n",
       "\n",
       "    if(typeof define === \"function\" && define.amd) {\n",
       "      requirejs.config({paths});\n",
       "      require([\"vega-embed\"], displayChart, err => showError(`Error loading script: ${err.message}`));\n",
       "    } else {\n",
       "      maybeLoadScript(\"vega\", \"5\")\n",
       "        .then(() => maybeLoadScript(\"vega-lite\", \"4.17.0\"))\n",
       "        .then(() => maybeLoadScript(\"vega-embed\", \"6\"))\n",
       "        .catch(showError)\n",
       "        .then(() => displayChart(vegaEmbed));\n",
       "    }\n",
       "  })({\"config\": {\"view\": {\"continuousWidth\": 400, \"continuousHeight\": 300}}, \"data\": {\"name\": \"data-9432457b3cbc64c96502618ea56ea83f\"}, \"mark\": {\"type\": \"bar\", \"size\": 1}, \"encoding\": {\"color\": {\"field\": \"periodical_name\", \"type\": \"nominal\"}, \"x\": {\"field\": \"cleaned_issue_date\", \"type\": \"temporal\"}, \"y\": {\"field\": \"struggle_ratio\", \"type\": \"quantitative\"}}, \"$schema\": \"https://vega.github.io/schema/vega-lite/v4.17.0.json\", \"datasets\": {\"data-9432457b3cbc64c96502618ea56ea83f\": [{\"periodical_name\": \"Arab Observer\", \"cleaned_issue_date\": \"1960-06-26T00:00:00\", \"tokenized_length\": 28080, \"struggle_counts\": 13, \"struggle_ratio\": 0.000462962962962963}, {\"periodical_name\": \"Arab Observer\", \"cleaned_issue_date\": \"1960-07-03T00:00:00\", \"tokenized_length\": 22456, \"struggle_counts\": 11, \"struggle_ratio\": 0.0004898468115425721}, {\"periodical_name\": \"Arab Observer\", \"cleaned_issue_date\": \"1960-07-10T00:00:00\", \"tokenized_length\": 23463, \"struggle_counts\": 20, \"struggle_ratio\": 0.000852405915697055}, {\"periodical_name\": \"Arab Observer\", \"cleaned_issue_date\": \"1960-07-17T00:00:00\", \"tokenized_length\": 22944, \"struggle_counts\": 16, \"struggle_ratio\": 0.000697350069735007}, {\"periodical_name\": \"Arab Observer\", \"cleaned_issue_date\": \"1960-08-07T00:00:00\", \"tokenized_length\": 23763, \"struggle_counts\": 10, \"struggle_ratio\": 0.0004208222867483062}, {\"periodical_name\": \"Arab Observer\", \"cleaned_issue_date\": \"1960-08-14T00:00:00\", \"tokenized_length\": 24623, \"struggle_counts\": 15, \"struggle_ratio\": 0.0006091865329163789}, {\"periodical_name\": \"Arab Observer\", \"cleaned_issue_date\": \"1960-09-11T00:00:00\", \"tokenized_length\": 23336, \"struggle_counts\": 19, \"struggle_ratio\": 0.0008141926636955776}, {\"periodical_name\": \"Arab Observer\", \"cleaned_issue_date\": \"1960-10-16T00:00:00\", \"tokenized_length\": 23419, \"struggle_counts\": 9, \"struggle_ratio\": 0.00038430334343908794}, {\"periodical_name\": \"Arab Observer\", \"cleaned_issue_date\": \"1960-10-30T00:00:00\", \"tokenized_length\": 22755, \"struggle_counts\": 14, \"struggle_ratio\": 0.0006152493957372006}, {\"periodical_name\": \"Arab Observer\", \"cleaned_issue_date\": \"1960-11-06T00:00:00\", \"tokenized_length\": 24595, \"struggle_counts\": 10, \"struggle_ratio\": 0.0004065867046147591}, {\"periodical_name\": \"Arab Observer\", \"cleaned_issue_date\": \"1960-11-13T00:00:00\", \"tokenized_length\": 24127, \"struggle_counts\": 12, \"struggle_ratio\": 0.0004973680938367803}, {\"periodical_name\": \"Arab Observer\", \"cleaned_issue_date\": \"1960-12-04T00:00:00\", \"tokenized_length\": 20875, \"struggle_counts\": 6, \"struggle_ratio\": 0.0002874251497005988}, {\"periodical_name\": \"Arab Observer\", \"cleaned_issue_date\": \"1960-12-25T00:00:00\", \"tokenized_length\": 23873, \"struggle_counts\": 15, \"struggle_ratio\": 0.0006283248858543124}, {\"periodical_name\": \"Arab Observer\", \"cleaned_issue_date\": \"1961-01-08T00:00:00\", \"tokenized_length\": 21483, \"struggle_counts\": 11, \"struggle_ratio\": 0.0005120327700972862}, {\"periodical_name\": \"Arab Observer\", \"cleaned_issue_date\": \"1961-01-15T00:00:00\", \"tokenized_length\": 20896, \"struggle_counts\": 14, \"struggle_ratio\": 0.0006699846860643185}, {\"periodical_name\": \"Arab Observer\", \"cleaned_issue_date\": \"1961-01-22T00:00:00\", \"tokenized_length\": 23892, \"struggle_counts\": 21, \"struggle_ratio\": 0.0008789552988448016}, {\"periodical_name\": \"Arab Observer\", \"cleaned_issue_date\": \"1961-01-29T00:00:00\", \"tokenized_length\": 21987, \"struggle_counts\": 26, \"struggle_ratio\": 0.0011825169418292628}, {\"periodical_name\": \"Arab Observer\", \"cleaned_issue_date\": \"1961-02-12T00:00:00\", \"tokenized_length\": 17729, \"struggle_counts\": 7, \"struggle_ratio\": 0.0003948333239325399}, {\"periodical_name\": \"Arab Observer\", \"cleaned_issue_date\": \"1961-02-19T00:00:00\", \"tokenized_length\": 21532, \"struggle_counts\": 15, \"struggle_ratio\": 0.0006966375626973806}, {\"periodical_name\": \"Arab Observer\", \"cleaned_issue_date\": \"1961-03-05T00:00:00\", \"tokenized_length\": 20517, \"struggle_counts\": 11, \"struggle_ratio\": 0.0005361407613198811}, {\"periodical_name\": \"Arab Observer\", \"cleaned_issue_date\": \"1961-03-12T00:00:00\", \"tokenized_length\": 19516, \"struggle_counts\": 8, \"struggle_ratio\": 0.0004099200655872105}, {\"periodical_name\": \"Arab Observer\", \"cleaned_issue_date\": \"1961-03-19T00:00:00\", \"tokenized_length\": 21490, \"struggle_counts\": 1, \"struggle_ratio\": 4.653327128897162e-05}, {\"periodical_name\": \"Arab Observer\", \"cleaned_issue_date\": \"1961-03-26T00:00:00\", \"tokenized_length\": 18824, \"struggle_counts\": 7, \"struggle_ratio\": 0.00037186570335741607}, {\"periodical_name\": \"Arab Observer\", \"cleaned_issue_date\": \"1961-04-02T00:00:00\", \"tokenized_length\": 21113, \"struggle_counts\": 17, \"struggle_ratio\": 0.0008051911144792308}, {\"periodical_name\": \"Arab Observer\", \"cleaned_issue_date\": \"1961-04-09T00:00:00\", \"tokenized_length\": 22358, \"struggle_counts\": 28, \"struggle_ratio\": 0.0012523481527864746}, {\"periodical_name\": \"Arab Observer\", \"cleaned_issue_date\": \"1961-04-16T00:00:00\", \"tokenized_length\": 24647, \"struggle_counts\": 5, \"struggle_ratio\": 0.00020286444597719804}, {\"periodical_name\": \"Arab Observer\", \"cleaned_issue_date\": \"1961-04-23T00:00:00\", \"tokenized_length\": 20612, \"struggle_counts\": 8, \"struggle_ratio\": 0.00038812342324859306}, {\"periodical_name\": \"Arab Observer\", \"cleaned_issue_date\": \"1961-04-30T00:00:00\", \"tokenized_length\": 20900, \"struggle_counts\": 9, \"struggle_ratio\": 0.000430622009569378}, {\"periodical_name\": \"Arab Observer\", \"cleaned_issue_date\": \"1961-05-07T00:00:00\", \"tokenized_length\": 19646, \"struggle_counts\": 6, \"struggle_ratio\": 0.00030540568054565815}, {\"periodical_name\": \"Arab Observer\", \"cleaned_issue_date\": \"1961-05-14T00:00:00\", \"tokenized_length\": 21751, \"struggle_counts\": 12, \"struggle_ratio\": 0.0005516987724702312}, {\"periodical_name\": \"Arab Observer\", \"cleaned_issue_date\": \"1961-05-21T00:00:00\", \"tokenized_length\": 19064, \"struggle_counts\": 8, \"struggle_ratio\": 0.000419639110365086}, {\"periodical_name\": \"Arab Observer\", \"cleaned_issue_date\": \"1961-06-04T00:00:00\", \"tokenized_length\": 23712, \"struggle_counts\": 7, \"struggle_ratio\": 0.0002952091767881242}, {\"periodical_name\": \"Arab Observer\", \"cleaned_issue_date\": \"1961-06-11T00:00:00\", \"tokenized_length\": 22139, \"struggle_counts\": 29, \"struggle_ratio\": 0.001309905596458738}, {\"periodical_name\": \"Arab Observer\", \"cleaned_issue_date\": \"1961-06-18T00:00:00\", \"tokenized_length\": 19730, \"struggle_counts\": 21, \"struggle_ratio\": 0.0010643689812468323}, {\"periodical_name\": \"Arab Observer\", \"cleaned_issue_date\": \"1961-06-25T00:00:00\", \"tokenized_length\": 21256, \"struggle_counts\": 7, \"struggle_ratio\": 0.00032931878057960106}, {\"periodical_name\": \"Arab Observer\", \"cleaned_issue_date\": \"1961-07-16T00:00:00\", \"tokenized_length\": 23176, \"struggle_counts\": 5, \"struggle_ratio\": 0.00021574042112530205}, {\"periodical_name\": \"Arab Observer\", \"cleaned_issue_date\": \"1961-07-23T00:00:00\", \"tokenized_length\": 40494, \"struggle_counts\": 26, \"struggle_ratio\": 0.0006420704301871882}, {\"periodical_name\": \"Arab Observer\", \"cleaned_issue_date\": \"1961-07-30T00:00:00\", \"tokenized_length\": 21314, \"struggle_counts\": 14, \"struggle_ratio\": 0.0006568452660223327}, {\"periodical_name\": \"Arab Observer\", \"cleaned_issue_date\": \"1961-08-13T00:00:00\", \"tokenized_length\": 21772, \"struggle_counts\": 11, \"struggle_ratio\": 0.0005052360830424398}, {\"periodical_name\": \"Arab Observer\", \"cleaned_issue_date\": \"1961-08-20T00:00:00\", \"tokenized_length\": 25117, \"struggle_counts\": 10, \"struggle_ratio\": 0.0003981367201496994}, {\"periodical_name\": \"Arab Observer\", \"cleaned_issue_date\": \"1961-08-27T00:00:00\", \"tokenized_length\": 24722, \"struggle_counts\": 7, \"struggle_ratio\": 0.0002831486125717984}, {\"periodical_name\": \"Arab Observer\", \"cleaned_issue_date\": \"1961-09-03T00:00:00\", \"tokenized_length\": 24960, \"struggle_counts\": 16, \"struggle_ratio\": 0.000641025641025641}, {\"periodical_name\": \"Arab Observer\", \"cleaned_issue_date\": \"1961-09-10T00:00:00\", \"tokenized_length\": 24558, \"struggle_counts\": 12, \"struggle_ratio\": 0.0004886391399951136}, {\"periodical_name\": \"Arab Observer\", \"cleaned_issue_date\": \"1961-09-24T00:00:00\", \"tokenized_length\": 23437, \"struggle_counts\": 1, \"struggle_ratio\": 4.266757690830738e-05}, {\"periodical_name\": \"Arab Observer\", \"cleaned_issue_date\": \"1961-10-01T00:00:00\", \"tokenized_length\": 25199, \"struggle_counts\": 6, \"struggle_ratio\": 0.00023810468669391643}, {\"periodical_name\": \"Arab Observer\", \"cleaned_issue_date\": \"1961-10-08T00:00:00\", \"tokenized_length\": 26944, \"struggle_counts\": 19, \"struggle_ratio\": 0.0007051662707838479}, {\"periodical_name\": \"Arab Observer\", \"cleaned_issue_date\": \"1961-10-15T00:00:00\", \"tokenized_length\": 21277, \"struggle_counts\": 10, \"struggle_ratio\": 0.0004699910701696668}, {\"periodical_name\": \"Arab Observer\", \"cleaned_issue_date\": \"1961-10-29T00:00:00\", \"tokenized_length\": 25698, \"struggle_counts\": 10, \"struggle_ratio\": 0.0003891353412716943}, {\"periodical_name\": \"Arab Observer\", \"cleaned_issue_date\": \"1961-11-13T00:00:00\", \"tokenized_length\": 24503, \"struggle_counts\": 2, \"struggle_ratio\": 8.162265844998571e-05}, {\"periodical_name\": \"Arab Observer\", \"cleaned_issue_date\": \"1961-11-20T00:00:00\", \"tokenized_length\": 24331, \"struggle_counts\": 15, \"struggle_ratio\": 0.0006164974723603633}, {\"periodical_name\": \"Arab Observer\", \"cleaned_issue_date\": \"1961-11-27T00:00:00\", \"tokenized_length\": 20540, \"struggle_counts\": 10, \"struggle_ratio\": 0.0004868549172346641}, {\"periodical_name\": \"Arab Observer\", \"cleaned_issue_date\": \"1961-12-04T00:00:00\", \"tokenized_length\": 21790, \"struggle_counts\": 13, \"struggle_ratio\": 0.000596603946764571}, {\"periodical_name\": \"Arab Observer\", \"cleaned_issue_date\": \"1961-12-11T00:00:00\", \"tokenized_length\": 23141, \"struggle_counts\": 9, \"struggle_ratio\": 0.000388920098526425}, {\"periodical_name\": \"Arab Observer\", \"cleaned_issue_date\": \"1961-12-18T00:00:00\", \"tokenized_length\": 23124, \"struggle_counts\": 11, \"struggle_ratio\": 0.0004756962463241654}, {\"periodical_name\": \"Arab Observer\", \"cleaned_issue_date\": \"1961-12-25T00:00:00\", \"tokenized_length\": 23523, \"struggle_counts\": 6, \"struggle_ratio\": 0.00025506950644050506}, {\"periodical_name\": \"Arab Observer\", \"cleaned_issue_date\": \"1962-01-01T00:00:00\", \"tokenized_length\": 25480, \"struggle_counts\": 8, \"struggle_ratio\": 0.0003139717425431711}, {\"periodical_name\": \"Arab Observer\", \"cleaned_issue_date\": \"1962-01-08T00:00:00\", \"tokenized_length\": 19931, \"struggle_counts\": 12, \"struggle_ratio\": 0.000602077166223471}, {\"periodical_name\": \"Arab Observer\", \"cleaned_issue_date\": \"1962-01-15T00:00:00\", \"tokenized_length\": 21779, \"struggle_counts\": 1, \"struggle_ratio\": 4.5915790440332433e-05}, {\"periodical_name\": \"Arab Observer\", \"cleaned_issue_date\": \"1962-01-22T00:00:00\", \"tokenized_length\": 25059, \"struggle_counts\": 7, \"struggle_ratio\": 0.0002793407558162736}, {\"periodical_name\": \"Arab Observer\", \"cleaned_issue_date\": \"1962-01-29T00:00:00\", \"tokenized_length\": 24893, \"struggle_counts\": 12, \"struggle_ratio\": 0.0004820632306270839}, {\"periodical_name\": \"Arab Observer\", \"cleaned_issue_date\": \"1962-02-05T00:00:00\", \"tokenized_length\": 24791, \"struggle_counts\": 3, \"struggle_ratio\": 0.00012101165745633496}, {\"periodical_name\": \"Arab Observer\", \"cleaned_issue_date\": \"1962-02-12T00:00:00\", \"tokenized_length\": 23204, \"struggle_counts\": 9, \"struggle_ratio\": 0.0003878641613514911}, {\"periodical_name\": \"Arab Observer\", \"cleaned_issue_date\": \"1962-02-19T00:00:00\", \"tokenized_length\": 22214, \"struggle_counts\": 12, \"struggle_ratio\": 0.0005401998739533627}, {\"periodical_name\": \"Arab Observer\", \"cleaned_issue_date\": \"1962-02-26T00:00:00\", \"tokenized_length\": 23410, \"struggle_counts\": 4, \"struggle_ratio\": 0.00017086715079026057}, {\"periodical_name\": \"Arab Observer\", \"cleaned_issue_date\": \"1962-03-05T00:00:00\", \"tokenized_length\": 22176, \"struggle_counts\": 8, \"struggle_ratio\": 0.00036075036075036075}, {\"periodical_name\": \"Arab Observer\", \"cleaned_issue_date\": \"1962-03-12T00:00:00\", \"tokenized_length\": 20080, \"struggle_counts\": 7, \"struggle_ratio\": 0.00034860557768924305}, {\"periodical_name\": \"Arab Observer\", \"cleaned_issue_date\": \"1962-03-19T00:00:00\", \"tokenized_length\": 24820, \"struggle_counts\": 3, \"struggle_ratio\": 0.00012087026591458502}, {\"periodical_name\": \"Arab Observer\", \"cleaned_issue_date\": \"1962-03-26T00:00:00\", \"tokenized_length\": 22103, \"struggle_counts\": 13, \"struggle_ratio\": 0.0005881554540107678}, {\"periodical_name\": \"Arab Observer\", \"cleaned_issue_date\": \"1962-04-02T00:00:00\", \"tokenized_length\": 20651, \"struggle_counts\": 8, \"struggle_ratio\": 0.0003873904411408649}, {\"periodical_name\": \"Arab Observer\", \"cleaned_issue_date\": \"1962-04-09T00:00:00\", \"tokenized_length\": 23068, \"struggle_counts\": 27, \"struggle_ratio\": 0.001170452574995665}, {\"periodical_name\": \"Arab Observer\", \"cleaned_issue_date\": \"1962-04-16T00:00:00\", \"tokenized_length\": 23376, \"struggle_counts\": 4, \"struggle_ratio\": 0.00017111567419575633}, {\"periodical_name\": \"Arab Observer\", \"cleaned_issue_date\": \"1962-04-23T00:00:00\", \"tokenized_length\": 22705, \"struggle_counts\": 11, \"struggle_ratio\": 0.0004844747852895838}, {\"periodical_name\": \"Arab Observer\", \"cleaned_issue_date\": \"1962-04-30T00:00:00\", \"tokenized_length\": 22201, \"struggle_counts\": 7, \"struggle_ratio\": 0.0003153011125624972}, {\"periodical_name\": \"Arab Observer\", \"cleaned_issue_date\": \"1962-05-07T00:00:00\", \"tokenized_length\": 20583, \"struggle_counts\": 5, \"struggle_ratio\": 0.0002429189136666181}, {\"periodical_name\": \"Arab Observer\", \"cleaned_issue_date\": \"1962-05-14T00:00:00\", \"tokenized_length\": 24429, \"struggle_counts\": 2, \"struggle_ratio\": 8.186990871505179e-05}, {\"periodical_name\": \"Arab Observer\", \"cleaned_issue_date\": \"1962-05-21T00:00:00\", \"tokenized_length\": 21886, \"struggle_counts\": 1, \"struggle_ratio\": 4.569130951293064e-05}, {\"periodical_name\": \"Arab Observer\", \"cleaned_issue_date\": \"1962-05-28T00:00:00\", \"tokenized_length\": 21424, \"struggle_counts\": 13, \"struggle_ratio\": 0.0006067961165048543}, {\"periodical_name\": \"Arab Observer\", \"cleaned_issue_date\": \"1962-06-04T00:00:00\", \"tokenized_length\": 20204, \"struggle_counts\": 1, \"struggle_ratio\": 4.9495149475351414e-05}, {\"periodical_name\": \"Arab Observer\", \"cleaned_issue_date\": \"1962-06-11T00:00:00\", \"tokenized_length\": 21146, \"struggle_counts\": 4, \"struggle_ratio\": 0.0001891610706516599}, {\"periodical_name\": \"Arab Observer\", \"cleaned_issue_date\": \"1962-06-18T00:00:00\", \"tokenized_length\": 22582, \"struggle_counts\": 8, \"struggle_ratio\": 0.0003542644584182092}, {\"periodical_name\": \"Arab Observer\", \"cleaned_issue_date\": \"1962-06-25T00:00:00\", \"tokenized_length\": 25039, \"struggle_counts\": 6, \"struggle_ratio\": 0.0002396261831542793}, {\"periodical_name\": \"Arab Observer\", \"cleaned_issue_date\": \"1962-07-02T00:00:00\", \"tokenized_length\": 28013, \"struggle_counts\": 8, \"struggle_ratio\": 0.00028558169421340093}, {\"periodical_name\": \"Arab Observer\", \"cleaned_issue_date\": \"1962-07-09T00:00:00\", \"tokenized_length\": 33686, \"struggle_counts\": 15, \"struggle_ratio\": 0.0004452888440301609}, {\"periodical_name\": \"Arab Observer\", \"cleaned_issue_date\": \"1962-07-16T00:00:00\", \"tokenized_length\": 30917, \"struggle_counts\": 8, \"struggle_ratio\": 0.00025875731798039915}, {\"periodical_name\": \"Arab Observer\", \"cleaned_issue_date\": \"1962-07-23T00:00:00\", \"tokenized_length\": 42758, \"struggle_counts\": 18, \"struggle_ratio\": 0.000420973852846251}, {\"periodical_name\": \"Arab Observer\", \"cleaned_issue_date\": \"1962-07-30T00:00:00\", \"tokenized_length\": 34374, \"struggle_counts\": 6, \"struggle_ratio\": 0.00017455053237912376}, {\"periodical_name\": \"Arab Observer\", \"cleaned_issue_date\": \"1962-08-06T00:00:00\", \"tokenized_length\": 35286, \"struggle_counts\": 5, \"struggle_ratio\": 0.00014169925749589073}, {\"periodical_name\": \"Arab Observer\", \"cleaned_issue_date\": \"1962-08-13T00:00:00\", \"tokenized_length\": 29728, \"struggle_counts\": 1, \"struggle_ratio\": 3.363832077502691e-05}, {\"periodical_name\": \"Arab Observer\", \"cleaned_issue_date\": \"1962-08-24T00:00:00\", \"tokenized_length\": 39268, \"struggle_counts\": 8, \"struggle_ratio\": 0.0002037282265457879}, {\"periodical_name\": \"Arab Observer\", \"cleaned_issue_date\": \"1962-09-03T00:00:00\", \"tokenized_length\": 37141, \"struggle_counts\": 1, \"struggle_ratio\": 2.6924423144234134e-05}, {\"periodical_name\": \"Arab Observer\", \"cleaned_issue_date\": \"1962-09-10T00:00:00\", \"tokenized_length\": 33084, \"struggle_counts\": 5, \"struggle_ratio\": 0.0001511304558094547}, {\"periodical_name\": \"Arab Observer\", \"cleaned_issue_date\": \"1962-09-17T00:00:00\", \"tokenized_length\": 35222, \"struggle_counts\": 6, \"struggle_ratio\": 0.00017034807790585428}, {\"periodical_name\": \"Arab Observer\", \"cleaned_issue_date\": \"1962-09-24T00:00:00\", \"tokenized_length\": 34222, \"struggle_counts\": 2, \"struggle_ratio\": 5.8441937934661916e-05}, {\"periodical_name\": \"Arab Observer\", \"cleaned_issue_date\": \"1962-10-01T00:00:00\", \"tokenized_length\": 36528, \"struggle_counts\": 7, \"struggle_ratio\": 0.00019163381515549717}, {\"periodical_name\": \"Arab Observer\", \"cleaned_issue_date\": \"1962-10-08T00:00:00\", \"tokenized_length\": 32349, \"struggle_counts\": 4, \"struggle_ratio\": 0.00012365142662833472}, {\"periodical_name\": \"Arab Observer\", \"cleaned_issue_date\": \"1962-10-16T00:00:00\", \"tokenized_length\": 32734, \"struggle_counts\": 8, \"struggle_ratio\": 0.00024439420785727376}, {\"periodical_name\": \"Arab Observer\", \"cleaned_issue_date\": \"1962-10-22T00:00:00\", \"tokenized_length\": 35285, \"struggle_counts\": 4, \"struggle_ratio\": 0.00011336261867649143}, {\"periodical_name\": \"Arab Observer\", \"cleaned_issue_date\": \"1962-10-29T00:00:00\", \"tokenized_length\": 36502, \"struggle_counts\": 4, \"struggle_ratio\": 0.00010958303654594269}, {\"periodical_name\": \"Arab Observer\", \"cleaned_issue_date\": \"1962-11-05T00:00:00\", \"tokenized_length\": 32371, \"struggle_counts\": 4, \"struggle_ratio\": 0.00012356739056562974}, {\"periodical_name\": \"Arab Observer\", \"cleaned_issue_date\": \"1962-11-12T00:00:00\", \"tokenized_length\": 35100, \"struggle_counts\": 20, \"struggle_ratio\": 0.0005698005698005698}, {\"periodical_name\": \"Arab Observer\", \"cleaned_issue_date\": \"1962-11-19T00:00:00\", \"tokenized_length\": 34015, \"struggle_counts\": 10, \"struggle_ratio\": 0.00029398794649419373}, {\"periodical_name\": \"Arab Observer\", \"cleaned_issue_date\": \"1962-11-26T00:00:00\", \"tokenized_length\": 32971, \"struggle_counts\": 5, \"struggle_ratio\": 0.00015164841830699706}, {\"periodical_name\": \"Arab Observer\", \"cleaned_issue_date\": \"1962-12-03T00:00:00\", \"tokenized_length\": 34742, \"struggle_counts\": 7, \"struggle_ratio\": 0.0002014852340107075}, {\"periodical_name\": \"Arab Observer\", \"cleaned_issue_date\": \"1962-12-10T00:00:00\", \"tokenized_length\": 30306, \"struggle_counts\": 4, \"struggle_ratio\": 0.00013198706526760376}, {\"periodical_name\": \"Arab Observer\", \"cleaned_issue_date\": \"1962-12-17T00:00:00\", \"tokenized_length\": 35573, \"struggle_counts\": 5, \"struggle_ratio\": 0.0001405560396930256}, {\"periodical_name\": \"Arab Observer\", \"cleaned_issue_date\": \"1962-12-24T00:00:00\", \"tokenized_length\": 33024, \"struggle_counts\": 11, \"struggle_ratio\": 0.0003330910852713178}, {\"periodical_name\": \"Arab Observer\", \"cleaned_issue_date\": \"1962-12-31T00:00:00\", \"tokenized_length\": 32067, \"struggle_counts\": 3, \"struggle_ratio\": 9.355412105903265e-05}, {\"periodical_name\": \"Arab Observer\", \"cleaned_issue_date\": \"1963-01-07T00:00:00\", \"tokenized_length\": 28831, \"struggle_counts\": 8, \"struggle_ratio\": 0.0002774791023551039}, {\"periodical_name\": \"Arab Observer\", \"cleaned_issue_date\": \"1963-01-14T00:00:00\", \"tokenized_length\": 30819, \"struggle_counts\": 4, \"struggle_ratio\": 0.00012979006457055711}, {\"periodical_name\": \"Arab Observer\", \"cleaned_issue_date\": \"1963-01-21T00:00:00\", \"tokenized_length\": 32964, \"struggle_counts\": 6, \"struggle_ratio\": 0.00018201674554058973}, {\"periodical_name\": \"Arab Observer\", \"cleaned_issue_date\": \"1963-01-28T00:00:00\", \"tokenized_length\": 32814, \"struggle_counts\": 2, \"struggle_ratio\": 6.094959468519534e-05}, {\"periodical_name\": \"Arab Observer\", \"cleaned_issue_date\": \"1963-02-04T00:00:00\", \"tokenized_length\": 28651, \"struggle_counts\": 6, \"struggle_ratio\": 0.0002094167742836201}, {\"periodical_name\": \"Arab Observer\", \"cleaned_issue_date\": \"1963-02-11T00:00:00\", \"tokenized_length\": 32141, \"struggle_counts\": 12, \"struggle_ratio\": 0.0003733549049500638}, {\"periodical_name\": \"Arab Observer\", \"cleaned_issue_date\": \"1963-02-18T00:00:00\", \"tokenized_length\": 29650, \"struggle_counts\": 9, \"struggle_ratio\": 0.00030354131534569986}, {\"periodical_name\": \"Arab Observer\", \"cleaned_issue_date\": \"1963-02-25T00:00:00\", \"tokenized_length\": 29366, \"struggle_counts\": 4, \"struggle_ratio\": 0.0001362119457876456}, {\"periodical_name\": \"Arab Observer\", \"cleaned_issue_date\": \"1963-03-04T00:00:00\", \"tokenized_length\": 30471, \"struggle_counts\": 12, \"struggle_ratio\": 0.0003938170719700699}, {\"periodical_name\": \"Arab Observer\", \"cleaned_issue_date\": \"1963-03-11T00:00:00\", \"tokenized_length\": 31807, \"struggle_counts\": 9, \"struggle_ratio\": 0.00028295658188449085}, {\"periodical_name\": \"Arab Observer\", \"cleaned_issue_date\": \"1963-03-18T00:00:00\", \"tokenized_length\": 34279, \"struggle_counts\": 3, \"struggle_ratio\": 8.751713877300971e-05}, {\"periodical_name\": \"Arab Observer\", \"cleaned_issue_date\": \"1963-03-25T00:00:00\", \"tokenized_length\": 31076, \"struggle_counts\": 6, \"struggle_ratio\": 0.00019307504183292573}, {\"periodical_name\": \"Arab Observer\", \"cleaned_issue_date\": \"1963-04-01T00:00:00\", \"tokenized_length\": 26957, \"struggle_counts\": 2, \"struggle_ratio\": 7.419223207330192e-05}, {\"periodical_name\": \"Arab Observer\", \"cleaned_issue_date\": \"1963-04-08T00:00:00\", \"tokenized_length\": 29203, \"struggle_counts\": 9, \"struggle_ratio\": 0.00030818751498133754}, {\"periodical_name\": \"Arab Observer\", \"cleaned_issue_date\": \"1963-04-15T00:00:00\", \"tokenized_length\": 29892, \"struggle_counts\": 10, \"struggle_ratio\": 0.0003345376689415228}, {\"periodical_name\": \"Arab Observer\", \"cleaned_issue_date\": \"1963-04-22T00:00:00\", \"tokenized_length\": 26746, \"struggle_counts\": 12, \"struggle_ratio\": 0.0004486652209676213}, {\"periodical_name\": \"Arab Observer\", \"cleaned_issue_date\": \"1963-04-29T00:00:00\", \"tokenized_length\": 31599, \"struggle_counts\": 5, \"struggle_ratio\": 0.0001582328554701098}, {\"periodical_name\": \"Arab Observer\", \"cleaned_issue_date\": \"1963-05-06T00:00:00\", \"tokenized_length\": 25824, \"struggle_counts\": 2, \"struggle_ratio\": 7.744733581164808e-05}, {\"periodical_name\": \"Arab Observer\", \"cleaned_issue_date\": \"1963-05-13T00:00:00\", \"tokenized_length\": 23833, \"struggle_counts\": 11, \"struggle_ratio\": 0.00046154491671212183}, {\"periodical_name\": \"Arab Observer\", \"cleaned_issue_date\": \"1963-05-20T00:00:00\", \"tokenized_length\": 24360, \"struggle_counts\": 10, \"struggle_ratio\": 0.00041050903119868636}, {\"periodical_name\": \"Arab Observer\", \"cleaned_issue_date\": \"1963-05-27T00:00:00\", \"tokenized_length\": 27764, \"struggle_counts\": 13, \"struggle_ratio\": 0.00046823224319262355}, {\"periodical_name\": \"Arab Observer\", \"cleaned_issue_date\": \"1963-06-03T00:00:00\", \"tokenized_length\": 25808, \"struggle_counts\": 7, \"struggle_ratio\": 0.0002712337259764414}, {\"periodical_name\": \"Arab Observer\", \"cleaned_issue_date\": \"1963-06-10T00:00:00\", \"tokenized_length\": 27266, \"struggle_counts\": 4, \"struggle_ratio\": 0.00014670285337049806}, {\"periodical_name\": \"Arab Observer\", \"cleaned_issue_date\": \"1963-06-17T00:00:00\", \"tokenized_length\": 28053, \"struggle_counts\": 7, \"struggle_ratio\": 0.0002495276797490464}, {\"periodical_name\": \"Arab Observer\", \"cleaned_issue_date\": \"1963-06-24T00:00:00\", \"tokenized_length\": 28377, \"struggle_counts\": 3, \"struggle_ratio\": 0.0001057194206575748}, {\"periodical_name\": \"Arab Observer\", \"cleaned_issue_date\": \"1963-07-01T00:00:00\", \"tokenized_length\": 11574, \"struggle_counts\": 2, \"struggle_ratio\": 0.00017280110592707794}, {\"periodical_name\": \"Arab Observer\", \"cleaned_issue_date\": \"1963-07-08T00:00:00\", \"tokenized_length\": 24926, \"struggle_counts\": 1, \"struggle_ratio\": 4.011875150445318e-05}, {\"periodical_name\": \"Arab Observer\", \"cleaned_issue_date\": \"1963-07-15T00:00:00\", \"tokenized_length\": 27120, \"struggle_counts\": 11, \"struggle_ratio\": 0.0004056047197640118}, {\"periodical_name\": \"Arab Observer\", \"cleaned_issue_date\": \"1963-07-22T00:00:00\", \"tokenized_length\": 39046, \"struggle_counts\": 15, \"struggle_ratio\": 0.0003841622701429084}, {\"periodical_name\": \"Arab Observer\", \"cleaned_issue_date\": \"1963-07-29T00:00:00\", \"tokenized_length\": 26873, \"struggle_counts\": 9, \"struggle_ratio\": 0.00033490864436423176}, {\"periodical_name\": \"Arab Observer\", \"cleaned_issue_date\": \"1963-08-05T00:00:00\", \"tokenized_length\": 29078, \"struggle_counts\": 10, \"struggle_ratio\": 0.00034390260678175943}, {\"periodical_name\": \"Arab Observer\", \"cleaned_issue_date\": \"1963-08-12T00:00:00\", \"tokenized_length\": 27059, \"struggle_counts\": 4, \"struggle_ratio\": 0.0001478251228796334}, {\"periodical_name\": \"Arab Observer\", \"cleaned_issue_date\": \"1963-08-19T00:00:00\", \"tokenized_length\": 27825, \"struggle_counts\": 10, \"struggle_ratio\": 0.00035938903863432165}, {\"periodical_name\": \"Arab Observer\", \"cleaned_issue_date\": \"1963-08-26T00:00:00\", \"tokenized_length\": 27298, \"struggle_counts\": 3, \"struggle_ratio\": 0.00010989816103743864}, {\"periodical_name\": \"Arab Observer\", \"cleaned_issue_date\": \"1963-09-02T00:00:00\", \"tokenized_length\": 32501, \"struggle_counts\": 6, \"struggle_ratio\": 0.00018460970431679024}, {\"periodical_name\": \"Arab Observer\", \"cleaned_issue_date\": \"1963-09-09T00:00:00\", \"tokenized_length\": 28741, \"struggle_counts\": 4, \"struggle_ratio\": 0.00013917400229637104}, {\"periodical_name\": \"Arab Observer\", \"cleaned_issue_date\": \"1963-09-16T00:00:00\", \"tokenized_length\": 27252, \"struggle_counts\": 3, \"struggle_ratio\": 0.00011008366358432408}, {\"periodical_name\": \"Arab Observer\", \"cleaned_issue_date\": \"1963-09-23T00:00:00\", \"tokenized_length\": 27115, \"struggle_counts\": 9, \"struggle_ratio\": 0.000331919601696478}, {\"periodical_name\": \"Arab Observer\", \"cleaned_issue_date\": \"1963-09-30T00:00:00\", \"tokenized_length\": 26417, \"struggle_counts\": 4, \"struggle_ratio\": 0.00015141764772684256}, {\"periodical_name\": \"Arab Observer\", \"cleaned_issue_date\": \"1963-10-07T00:00:00\", \"tokenized_length\": 28101, \"struggle_counts\": 4, \"struggle_ratio\": 0.0001423436888366962}, {\"periodical_name\": \"Arab Observer\", \"cleaned_issue_date\": \"1963-10-14T00:00:00\", \"tokenized_length\": 24999, \"struggle_counts\": 5, \"struggle_ratio\": 0.0002000080003200128}, {\"periodical_name\": \"Arab Observer\", \"cleaned_issue_date\": \"1963-10-21T00:00:00\", \"tokenized_length\": 27301, \"struggle_counts\": 11, \"struggle_ratio\": 0.00040291564411560016}, {\"periodical_name\": \"Arab Observer\", \"cleaned_issue_date\": \"1963-10-28T00:00:00\", \"tokenized_length\": 24078, \"struggle_counts\": 12, \"struggle_ratio\": 0.00049838026414154}, {\"periodical_name\": \"Arab Observer\", \"cleaned_issue_date\": \"1963-11-04T00:00:00\", \"tokenized_length\": 109544, \"struggle_counts\": 28, \"struggle_ratio\": 0.0002556050536770613}, {\"periodical_name\": \"Arab Observer\", \"cleaned_issue_date\": \"1963-11-11T00:00:00\", \"tokenized_length\": 110388, \"struggle_counts\": 32, \"struggle_ratio\": 0.0002898865818748415}, {\"periodical_name\": \"Arab Observer\", \"cleaned_issue_date\": \"1963-11-18T00:00:00\", \"tokenized_length\": 50675, \"struggle_counts\": 8, \"struggle_ratio\": 0.0001578687715836211}, {\"periodical_name\": \"Arab Observer\", \"cleaned_issue_date\": \"1963-11-25T00:00:00\", \"tokenized_length\": 57165, \"struggle_counts\": 2, \"struggle_ratio\": 3.4986442753433044e-05}, {\"periodical_name\": \"Arab Observer\", \"cleaned_issue_date\": \"1963-12-02T00:00:00\", \"tokenized_length\": 50609, \"struggle_counts\": 18, \"struggle_ratio\": 0.0003556679641960916}, {\"periodical_name\": \"Arab Observer\", \"cleaned_issue_date\": \"1963-12-09T00:00:00\", \"tokenized_length\": 123969, \"struggle_counts\": 20, \"struggle_ratio\": 0.00016133065524445627}, {\"periodical_name\": \"Arab Observer\", \"cleaned_issue_date\": \"1963-12-16T00:00:00\", \"tokenized_length\": 103210, \"struggle_counts\": 12, \"struggle_ratio\": 0.00011626780350741207}, {\"periodical_name\": \"Arab Observer\", \"cleaned_issue_date\": \"1963-12-23T00:00:00\", \"tokenized_length\": 100862, \"struggle_counts\": 28, \"struggle_ratio\": 0.0002776070274236085}, {\"periodical_name\": \"Arab Observer\", \"cleaned_issue_date\": \"1963-12-30T00:00:00\", \"tokenized_length\": 113454, \"struggle_counts\": 16, \"struggle_ratio\": 0.00014102631903679025}, {\"periodical_name\": \"Arab Observer\", \"cleaned_issue_date\": \"1964-01-06T00:00:00\", \"tokenized_length\": 29271, \"struggle_counts\": 7, \"struggle_ratio\": 0.00023914454579618052}, {\"periodical_name\": \"Arab Observer\", \"cleaned_issue_date\": \"1964-01-13T00:00:00\", \"tokenized_length\": 31792, \"struggle_counts\": 7, \"struggle_ratio\": 0.0002201811776547559}, {\"periodical_name\": \"Arab Observer\", \"cleaned_issue_date\": \"1964-01-20T00:00:00\", \"tokenized_length\": 24359, \"struggle_counts\": 1, \"struggle_ratio\": 4.1052588365696454e-05}, {\"periodical_name\": \"Arab Observer\", \"cleaned_issue_date\": \"1964-01-27T00:00:00\", \"tokenized_length\": 26416, \"struggle_counts\": 6, \"struggle_ratio\": 0.0002271350696547547}, {\"periodical_name\": \"Arab Observer\", \"cleaned_issue_date\": \"1964-02-10T00:00:00\", \"tokenized_length\": 32388, \"struggle_counts\": 9, \"struggle_ratio\": 0.00027788069655427936}, {\"periodical_name\": \"Arab Observer\", \"cleaned_issue_date\": \"1964-02-17T00:00:00\", \"tokenized_length\": 36105, \"struggle_counts\": 11, \"struggle_ratio\": 0.00030466694363661545}, {\"periodical_name\": \"Arab Observer\", \"cleaned_issue_date\": \"1964-02-24T00:00:00\", \"tokenized_length\": 37709, \"struggle_counts\": 12, \"struggle_ratio\": 0.00031822641809647564}, {\"periodical_name\": \"Arab Observer\", \"cleaned_issue_date\": \"1964-03-02T00:00:00\", \"tokenized_length\": 36661, \"struggle_counts\": 9, \"struggle_ratio\": 0.0002454924852022585}, {\"periodical_name\": \"Arab Observer\", \"cleaned_issue_date\": \"1964-03-09T00:00:00\", \"tokenized_length\": 35333, \"struggle_counts\": 6, \"struggle_ratio\": 0.0001698129227634223}, {\"periodical_name\": \"Arab Observer\", \"cleaned_issue_date\": \"1964-03-16T00:00:00\", \"tokenized_length\": 33481, \"struggle_counts\": 2, \"struggle_ratio\": 5.9735372300707864e-05}, {\"periodical_name\": \"Arab Observer\", \"cleaned_issue_date\": \"1964-03-23T00:00:00\", \"tokenized_length\": 31643, \"struggle_counts\": 9, \"struggle_ratio\": 0.0002844230951553266}, {\"periodical_name\": \"Arab Observer\", \"cleaned_issue_date\": \"1964-03-30T00:00:00\", \"tokenized_length\": 38216, \"struggle_counts\": 13, \"struggle_ratio\": 0.0003401716558509525}, {\"periodical_name\": \"Arab Observer\", \"cleaned_issue_date\": \"1964-04-06T00:00:00\", \"tokenized_length\": 35837, \"struggle_counts\": 10, \"struggle_ratio\": 0.000279041214387365}, {\"periodical_name\": \"Arab Observer\", \"cleaned_issue_date\": \"1964-04-13T00:00:00\", \"tokenized_length\": 40047, \"struggle_counts\": 10, \"struggle_ratio\": 0.00024970659475116735}, {\"periodical_name\": \"Arab Observer\", \"cleaned_issue_date\": \"1964-04-20T00:00:00\", \"tokenized_length\": 40005, \"struggle_counts\": 4, \"struggle_ratio\": 9.998750156230471e-05}, {\"periodical_name\": \"Arab Observer\", \"cleaned_issue_date\": \"1964-04-27T00:00:00\", \"tokenized_length\": 30868, \"struggle_counts\": 3, \"struggle_ratio\": 9.71880264351432e-05}, {\"periodical_name\": \"Arab Observer\", \"cleaned_issue_date\": \"1964-05-04T00:00:00\", \"tokenized_length\": 35855, \"struggle_counts\": 14, \"struggle_ratio\": 0.00039046158136940454}, {\"periodical_name\": \"Arab Observer\", \"cleaned_issue_date\": \"1964-05-11T00:00:00\", \"tokenized_length\": 39313, \"struggle_counts\": 21, \"struggle_ratio\": 0.0005341744461119731}, {\"periodical_name\": \"Arab Observer\", \"cleaned_issue_date\": \"1964-05-18T00:00:00\", \"tokenized_length\": 29692, \"struggle_counts\": 20, \"struggle_ratio\": 0.0006735821096591674}, {\"periodical_name\": \"Arab Observer\", \"cleaned_issue_date\": \"1964-05-25T00:00:00\", \"tokenized_length\": 38152, \"struggle_counts\": 17, \"struggle_ratio\": 0.000445586076745649}, {\"periodical_name\": \"Arab Observer\", \"cleaned_issue_date\": \"1964-06-01T00:00:00\", \"tokenized_length\": 36241, \"struggle_counts\": 34, \"struggle_ratio\": 0.0009381639579481802}, {\"periodical_name\": \"Arab Observer\", \"cleaned_issue_date\": \"1964-06-08T00:00:00\", \"tokenized_length\": 33572, \"struggle_counts\": 15, \"struggle_ratio\": 0.00044680090551650186}, {\"periodical_name\": \"Arab Observer\", \"cleaned_issue_date\": \"1964-06-15T00:00:00\", \"tokenized_length\": 35632, \"struggle_counts\": 14, \"struggle_ratio\": 0.0003929052537045352}, {\"periodical_name\": \"Arab Observer\", \"cleaned_issue_date\": \"1964-06-22T00:00:00\", \"tokenized_length\": 33764, \"struggle_counts\": 8, \"struggle_ratio\": 0.00023693875133278048}, {\"periodical_name\": \"Arab Observer\", \"cleaned_issue_date\": \"1964-07-06T00:00:00\", \"tokenized_length\": 64092, \"struggle_counts\": 18, \"struggle_ratio\": 0.0002808462834675154}, {\"periodical_name\": \"Arab Observer\", \"cleaned_issue_date\": \"1964-07-20T00:00:00\", \"tokenized_length\": 31902, \"struggle_counts\": 6, \"struggle_ratio\": 0.0001880759826970096}, {\"periodical_name\": \"Arab Observer\", \"cleaned_issue_date\": \"1964-07-27T00:00:00\", \"tokenized_length\": 40598, \"struggle_counts\": 26, \"struggle_ratio\": 0.0006404256367308735}, {\"periodical_name\": \"Arab Observer\", \"cleaned_issue_date\": \"1964-08-03T00:00:00\", \"tokenized_length\": 70044, \"struggle_counts\": 50, \"struggle_ratio\": 0.0007138370167323396}, {\"periodical_name\": \"Arab Observer\", \"cleaned_issue_date\": \"1964-08-10T00:00:00\", \"tokenized_length\": 71568, \"struggle_counts\": 12, \"struggle_ratio\": 0.00016767270288397049}, {\"periodical_name\": \"Arab Observer\", \"cleaned_issue_date\": \"1964-08-17T00:00:00\", \"tokenized_length\": 78338, \"struggle_counts\": 23, \"struggle_ratio\": 0.0002935995302407516}, {\"periodical_name\": \"Arab Observer\", \"cleaned_issue_date\": \"1964-08-24T00:00:00\", \"tokenized_length\": 31796, \"struggle_counts\": 10, \"struggle_ratio\": 0.000314504969178513}, {\"periodical_name\": \"Arab Observer\", \"cleaned_issue_date\": \"1964-08-31T00:00:00\", \"tokenized_length\": 63336, \"struggle_counts\": 8, \"struggle_ratio\": 0.00012631047113805733}, {\"periodical_name\": \"Arab Observer\", \"cleaned_issue_date\": \"1964-11-02T00:00:00\", \"tokenized_length\": 30691, \"struggle_counts\": 5, \"struggle_ratio\": 0.00016291420937734189}, {\"periodical_name\": \"Arab Observer\", \"cleaned_issue_date\": \"1964-11-09T00:00:00\", \"tokenized_length\": 30694, \"struggle_counts\": 6, \"struggle_ratio\": 0.00019547794357203363}, {\"periodical_name\": \"Arab Observer\", \"cleaned_issue_date\": \"1964-12-07T00:00:00\", \"tokenized_length\": 32044, \"struggle_counts\": 9, \"struggle_ratio\": 0.00028086381225814503}, {\"periodical_name\": \"Arab Observer\", \"cleaned_issue_date\": \"1964-12-14T00:00:00\", \"tokenized_length\": 63042, \"struggle_counts\": 6, \"struggle_ratio\": 9.51746454744456e-05}, {\"periodical_name\": \"Arab Observer\", \"cleaned_issue_date\": \"1964-12-21T00:00:00\", \"tokenized_length\": 32489, \"struggle_counts\": 13, \"struggle_ratio\": 0.00040013543045338423}, {\"periodical_name\": \"Arab Observer\", \"cleaned_issue_date\": \"1964-12-28T00:00:00\", \"tokenized_length\": 28906, \"struggle_counts\": 8, \"struggle_ratio\": 0.00027675915034940844}, {\"periodical_name\": \"Arab Observer\", \"cleaned_issue_date\": \"1965-01-04T00:00:00\", \"tokenized_length\": 28816, \"struggle_counts\": 3, \"struggle_ratio\": 0.00010410882842865075}, {\"periodical_name\": \"Arab Observer\", \"cleaned_issue_date\": \"1965-01-11T00:00:00\", \"tokenized_length\": 30747, \"struggle_counts\": 9, \"struggle_ratio\": 0.0002927114840472241}, {\"periodical_name\": \"Arab Observer\", \"cleaned_issue_date\": \"1965-01-18T00:00:00\", \"tokenized_length\": 26772, \"struggle_counts\": 8, \"struggle_ratio\": 0.00029881966233378154}, {\"periodical_name\": \"Arab Observer\", \"cleaned_issue_date\": \"1965-01-25T00:00:00\", \"tokenized_length\": 29712, \"struggle_counts\": 11, \"struggle_ratio\": 0.00037022078621432416}, {\"periodical_name\": \"Arab Observer\", \"cleaned_issue_date\": \"1965-02-01T00:00:00\", \"tokenized_length\": 32836, \"struggle_counts\": 9, \"struggle_ratio\": 0.00027408941405774153}, {\"periodical_name\": \"Arab Observer\", \"cleaned_issue_date\": \"1965-02-08T00:00:00\", \"tokenized_length\": 34623, \"struggle_counts\": 3, \"struggle_ratio\": 8.664760419374404e-05}, {\"periodical_name\": \"Arab Observer\", \"cleaned_issue_date\": \"1965-02-15T00:00:00\", \"tokenized_length\": 35993, \"struggle_counts\": 11, \"struggle_ratio\": 0.00030561498069068985}, {\"periodical_name\": \"Arab Observer\", \"cleaned_issue_date\": \"1965-02-22T00:00:00\", \"tokenized_length\": 38734, \"struggle_counts\": 22, \"struggle_ratio\": 0.0005679764547942376}, {\"periodical_name\": \"Arab Observer\", \"cleaned_issue_date\": \"1965-03-01T00:00:00\", \"tokenized_length\": 36627, \"struggle_counts\": 24, \"struggle_ratio\": 0.0006552543205831763}, {\"periodical_name\": \"Arab Observer\", \"cleaned_issue_date\": \"1965-03-08T00:00:00\", \"tokenized_length\": 29707, \"struggle_counts\": 25, \"struggle_ratio\": 0.0008415524960447032}, {\"periodical_name\": \"Arab Observer\", \"cleaned_issue_date\": \"1965-03-15T00:00:00\", \"tokenized_length\": 32354, \"struggle_counts\": 24, \"struggle_ratio\": 0.0007417939049267478}, {\"periodical_name\": \"Arab Observer\", \"cleaned_issue_date\": \"1965-03-29T00:00:00\", \"tokenized_length\": 29506, \"struggle_counts\": 9, \"struggle_ratio\": 0.00030502270724598384}, {\"periodical_name\": \"Arab Observer\", \"cleaned_issue_date\": \"1965-05-17T00:00:00\", \"tokenized_length\": 27029, \"struggle_counts\": 8, \"struggle_ratio\": 0.0002959783935772689}, {\"periodical_name\": \"Arab Observer\", \"cleaned_issue_date\": \"1965-05-24T00:00:00\", \"tokenized_length\": 33829, \"struggle_counts\": 17, \"struggle_ratio\": 0.0005025274173046794}, {\"periodical_name\": \"Arab Observer\", \"cleaned_issue_date\": \"1965-05-31T00:00:00\", \"tokenized_length\": 32793, \"struggle_counts\": 9, \"struggle_ratio\": 0.0002744488152959473}, {\"periodical_name\": \"Arab Observer\", \"cleaned_issue_date\": \"1965-06-07T00:00:00\", \"tokenized_length\": 46123, \"struggle_counts\": 9, \"struggle_ratio\": 0.00019513041215879278}, {\"periodical_name\": \"Arab Observer\", \"cleaned_issue_date\": \"1965-06-21T00:00:00\", \"tokenized_length\": 34659, \"struggle_counts\": 8, \"struggle_ratio\": 0.00023082027756138378}, {\"periodical_name\": \"Arab Observer\", \"cleaned_issue_date\": \"1965-06-28T00:00:00\", \"tokenized_length\": 34815, \"struggle_counts\": 12, \"struggle_ratio\": 0.00034467901766479966}, {\"periodical_name\": \"Arab Observer\", \"cleaned_issue_date\": \"1965-07-05T00:00:00\", \"tokenized_length\": 39851, \"struggle_counts\": 17, \"struggle_ratio\": 0.0004265890441896063}, {\"periodical_name\": \"Arab Observer\", \"cleaned_issue_date\": \"1965-07-12T00:00:00\", \"tokenized_length\": 36783, \"struggle_counts\": 6, \"struggle_ratio\": 0.0001631188320691624}, {\"periodical_name\": \"Arab Observer\", \"cleaned_issue_date\": \"1965-07-19T00:00:00\", \"tokenized_length\": 32370, \"struggle_counts\": 26, \"struggle_ratio\": 0.0008032128514056225}, {\"periodical_name\": \"Arab Observer\", \"cleaned_issue_date\": \"1965-07-26T00:00:00\", \"tokenized_length\": 37429, \"struggle_counts\": 14, \"struggle_ratio\": 0.0003740415186085656}, {\"periodical_name\": \"Arab Observer\", \"cleaned_issue_date\": \"1965-11-01T00:00:00\", \"tokenized_length\": 34386, \"struggle_counts\": 13, \"struggle_ratio\": 0.00037806083871342987}, {\"periodical_name\": \"Arab Observer\", \"cleaned_issue_date\": \"1965-11-08T00:00:00\", \"tokenized_length\": 37872, \"struggle_counts\": 21, \"struggle_ratio\": 0.0005544993662864385}, {\"periodical_name\": \"Arab Observer\", \"cleaned_issue_date\": \"1965-11-15T00:00:00\", \"tokenized_length\": 41919, \"struggle_counts\": 15, \"struggle_ratio\": 0.0003578329635726043}, {\"periodical_name\": \"Arab Observer\", \"cleaned_issue_date\": \"1965-11-22T00:00:00\", \"tokenized_length\": 33496, \"struggle_counts\": 12, \"struggle_ratio\": 0.00035825173155003585}, {\"periodical_name\": \"Arab Observer\", \"cleaned_issue_date\": \"1965-12-13T00:00:00\", \"tokenized_length\": 31835, \"struggle_counts\": 12, \"struggle_ratio\": 0.00037694361551751215}, {\"periodical_name\": \"Arab Observer\", \"cleaned_issue_date\": \"1965-12-20T00:00:00\", \"tokenized_length\": 34856, \"struggle_counts\": 5, \"struggle_ratio\": 0.00014344732614184072}, {\"periodical_name\": \"Arab Observer\", \"cleaned_issue_date\": \"1965-12-27T00:00:00\", \"tokenized_length\": 68282, \"struggle_counts\": 18, \"struggle_ratio\": 0.0002636126651240444}, {\"periodical_name\": \"Arab Observer\", \"cleaned_issue_date\": \"1966-01-17T00:00:00\", \"tokenized_length\": 36833, \"struggle_counts\": 18, \"struggle_ratio\": 0.0004886922053593245}, {\"periodical_name\": \"Arab Observer\", \"cleaned_issue_date\": \"1966-01-24T00:00:00\", \"tokenized_length\": 35975, \"struggle_counts\": 9, \"struggle_ratio\": 0.0002501737317581654}, {\"periodical_name\": \"Arab Observer\", \"cleaned_issue_date\": \"1966-01-31T00:00:00\", \"tokenized_length\": 36444, \"struggle_counts\": 22, \"struggle_ratio\": 0.0006036658983646142}, {\"periodical_name\": \"Arab Observer\", \"cleaned_issue_date\": \"1966-02-07T00:00:00\", \"tokenized_length\": 37805, \"struggle_counts\": 5, \"struggle_ratio\": 0.00013225763787858748}, {\"periodical_name\": \"Arab Observer\", \"cleaned_issue_date\": \"1966-02-14T00:00:00\", \"tokenized_length\": 34540, \"struggle_counts\": 14, \"struggle_ratio\": 0.0004053271569195136}, {\"periodical_name\": \"Arab Observer\", \"cleaned_issue_date\": \"1966-02-21T00:00:00\", \"tokenized_length\": 39705, \"struggle_counts\": 6, \"struggle_ratio\": 0.0001511144692104269}, {\"periodical_name\": \"Arab Observer\", \"cleaned_issue_date\": \"1966-02-28T00:00:00\", \"tokenized_length\": 44368, \"struggle_counts\": 29, \"struggle_ratio\": 0.000653624233681933}, {\"periodical_name\": \"Arab Observer\", \"cleaned_issue_date\": \"1966-03-07T00:00:00\", \"tokenized_length\": 41168, \"struggle_counts\": 16, \"struggle_ratio\": 0.000388651379712398}, {\"periodical_name\": \"Arab Observer\", \"cleaned_issue_date\": \"1966-03-14T00:00:00\", \"tokenized_length\": 41467, \"struggle_counts\": 10, \"struggle_ratio\": 0.00024115561772011478}, {\"periodical_name\": \"Arab Observer\", \"cleaned_issue_date\": \"1966-03-21T00:00:00\", \"tokenized_length\": 37611, \"struggle_counts\": 13, \"struggle_ratio\": 0.00034564356172396375}, {\"periodical_name\": \"Arab Observer\", \"cleaned_issue_date\": \"1966-03-28T00:00:00\", \"tokenized_length\": 36207, \"struggle_counts\": 11, \"struggle_ratio\": 0.000303808655784793}, {\"periodical_name\": \"Arab Observer\", \"cleaned_issue_date\": \"1966-04-11T00:00:00\", \"tokenized_length\": 33966, \"struggle_counts\": 11, \"struggle_ratio\": 0.0003238532650297356}, {\"periodical_name\": \"Arab Observer\", \"cleaned_issue_date\": \"1966-04-18T00:00:00\", \"tokenized_length\": 30885, \"struggle_counts\": 1, \"struggle_ratio\": 3.237817710862878e-05}, {\"periodical_name\": \"Arab Observer\", \"cleaned_issue_date\": \"1966-04-25T00:00:00\", \"tokenized_length\": 39752, \"struggle_counts\": 15, \"struggle_ratio\": 0.00037733950493056955}, {\"periodical_name\": \"Arab Observer\", \"cleaned_issue_date\": \"1966-07-04T00:00:00\", \"tokenized_length\": 36234, \"struggle_counts\": 3, \"struggle_ratio\": 8.279516476237788e-05}, {\"periodical_name\": \"Arab Observer\", \"cleaned_issue_date\": \"1966-07-11T00:00:00\", \"tokenized_length\": 33378, \"struggle_counts\": 8, \"struggle_ratio\": 0.0002396788303673078}, {\"periodical_name\": \"Arab Observer\", \"cleaned_issue_date\": \"1966-07-18T00:00:00\", \"tokenized_length\": 30958, \"struggle_counts\": 8, \"struggle_ratio\": 0.00025841462626784677}, {\"periodical_name\": \"Arab Observer\", \"cleaned_issue_date\": \"1966-07-25T00:00:00\", \"tokenized_length\": 34878, \"struggle_counts\": 14, \"struggle_ratio\": 0.0004013991627960319}, {\"periodical_name\": \"Arab Observer\", \"cleaned_issue_date\": \"1966-08-29T00:00:00\", \"tokenized_length\": 42559, \"struggle_counts\": 8, \"struggle_ratio\": 0.00018797434150238492}, {\"periodical_name\": \"Tricontinental Bulletin\", \"cleaned_issue_date\": \"1966-04-01T00:00:00\", \"tokenized_length\": 8494, \"struggle_counts\": 47, \"struggle_ratio\": 0.005533317635978338}, {\"periodical_name\": \"Tricontinental Bulletin\", \"cleaned_issue_date\": \"1966-05-01T00:00:00\", \"tokenized_length\": 15102, \"struggle_counts\": 40, \"struggle_ratio\": 0.0026486558071778573}, {\"periodical_name\": \"Tricontinental Bulletin\", \"cleaned_issue_date\": \"1966-06-01T00:00:00\", \"tokenized_length\": 55114, \"struggle_counts\": 69, \"struggle_ratio\": 0.001251950502594622}, {\"periodical_name\": \"Tricontinental Bulletin\", \"cleaned_issue_date\": \"1966-07-01T00:00:00\", \"tokenized_length\": 56917, \"struggle_counts\": 56, \"struggle_ratio\": 0.0009838888205632764}, {\"periodical_name\": \"Tricontinental Bulletin\", \"cleaned_issue_date\": \"1967-02-01T00:00:00\", \"tokenized_length\": 13181, \"struggle_counts\": 34, \"struggle_ratio\": 0.0025794704498899933}, {\"periodical_name\": \"Tricontinental Bulletin\", \"cleaned_issue_date\": \"1967-04-01T00:00:00\", \"tokenized_length\": 6532, \"struggle_counts\": 32, \"struggle_ratio\": 0.004898958971218616}, {\"periodical_name\": \"Tricontinental Bulletin\", \"cleaned_issue_date\": \"1968-01-01T00:00:00\", \"tokenized_length\": 77664, \"struggle_counts\": 211, \"struggle_ratio\": 0.0027168314791924187}, {\"periodical_name\": \"Tricontinental Bulletin\", \"cleaned_issue_date\": \"1968-06-01T00:00:00\", \"tokenized_length\": 15980, \"struggle_counts\": 57, \"struggle_ratio\": 0.003566958698372966}, {\"periodical_name\": \"Tricontinental Bulletin\", \"cleaned_issue_date\": \"1968-07-01T00:00:00\", \"tokenized_length\": 95728, \"struggle_counts\": 218, \"struggle_ratio\": 0.002277285642654187}, {\"periodical_name\": \"Tricontinental Bulletin\", \"cleaned_issue_date\": \"1968-08-01T00:00:00\", \"tokenized_length\": 17738, \"struggle_counts\": 68, \"struggle_ratio\": 0.0038335776299470064}, {\"periodical_name\": \"Tricontinental Bulletin\", \"cleaned_issue_date\": \"1968-09-01T00:00:00\", \"tokenized_length\": 25519, \"struggle_counts\": 118, \"struggle_ratio\": 0.004624005642854344}, {\"periodical_name\": \"Tricontinental Bulletin\", \"cleaned_issue_date\": \"1968-11-01T00:00:00\", \"tokenized_length\": 19589, \"struggle_counts\": 58, \"struggle_ratio\": 0.002960845372402879}, {\"periodical_name\": \"Tricontinental Bulletin\", \"cleaned_issue_date\": \"1969-01-01T00:00:00\", \"tokenized_length\": 19515, \"struggle_counts\": 68, \"struggle_ratio\": 0.0034844991032539074}, {\"periodical_name\": \"Tricontinental Bulletin\", \"cleaned_issue_date\": \"1969-02-01T00:00:00\", \"tokenized_length\": 13836, \"struggle_counts\": 50, \"struggle_ratio\": 0.003613761202659728}, {\"periodical_name\": \"Tricontinental Bulletin\", \"cleaned_issue_date\": \"1969-03-01T00:00:00\", \"tokenized_length\": 19536, \"struggle_counts\": 54, \"struggle_ratio\": 0.002764127764127764}, {\"periodical_name\": \"Tricontinental Bulletin\", \"cleaned_issue_date\": \"1969-04-01T00:00:00\", \"tokenized_length\": 73846, \"struggle_counts\": 213, \"struggle_ratio\": 0.0028843810091271024}, {\"periodical_name\": \"Tricontinental Bulletin\", \"cleaned_issue_date\": \"1969-05-01T00:00:00\", \"tokenized_length\": 63845, \"struggle_counts\": 135, \"struggle_ratio\": 0.002114496045109249}, {\"periodical_name\": \"Tricontinental Bulletin\", \"cleaned_issue_date\": \"1969-08-01T00:00:00\", \"tokenized_length\": 16808, \"struggle_counts\": 54, \"struggle_ratio\": 0.0032127558305568775}, {\"periodical_name\": \"Tricontinental Bulletin\", \"cleaned_issue_date\": \"1969-10-01T00:00:00\", \"tokenized_length\": 20171, \"struggle_counts\": 57, \"struggle_ratio\": 0.002825839075901046}, {\"periodical_name\": \"Tricontinental Bulletin\", \"cleaned_issue_date\": \"1969-11-01T00:00:00\", \"tokenized_length\": 59911, \"struggle_counts\": 140, \"struggle_ratio\": 0.002336799586052645}, {\"periodical_name\": \"Tricontinental Bulletin\", \"cleaned_issue_date\": \"1969-12-01T00:00:00\", \"tokenized_length\": 87415, \"struggle_counts\": 244, \"struggle_ratio\": 0.002791282960590288}, {\"periodical_name\": \"Tricontinental Bulletin\", \"cleaned_issue_date\": \"1970-01-01T00:00:00\", \"tokenized_length\": 15035, \"struggle_counts\": 53, \"struggle_ratio\": 0.0035251080811439972}, {\"periodical_name\": \"Tricontinental Bulletin\", \"cleaned_issue_date\": \"1970-02-01T00:00:00\", \"tokenized_length\": 15966, \"struggle_counts\": 16, \"struggle_ratio\": 0.0010021295252411375}, {\"periodical_name\": \"Tricontinental Bulletin\", \"cleaned_issue_date\": \"1970-03-01T00:00:00\", \"tokenized_length\": 18880, \"struggle_counts\": 51, \"struggle_ratio\": 0.002701271186440678}, {\"periodical_name\": \"Tricontinental Bulletin\", \"cleaned_issue_date\": \"1971-01-01T00:00:00\", \"tokenized_length\": 32620, \"struggle_counts\": 140, \"struggle_ratio\": 0.004291845493562232}, {\"periodical_name\": \"Tricontinental Bulletin\", \"cleaned_issue_date\": \"1971-02-01T00:00:00\", \"tokenized_length\": 134561, \"struggle_counts\": 266, \"struggle_ratio\": 0.0019767986266451647}, {\"periodical_name\": \"Tricontinental Bulletin\", \"cleaned_issue_date\": \"1971-04-01T00:00:00\", \"tokenized_length\": 70703, \"struggle_counts\": 232, \"struggle_ratio\": 0.0032813317681003634}, {\"periodical_name\": \"Tricontinental Bulletin\", \"cleaned_issue_date\": \"1971-05-01T00:00:00\", \"tokenized_length\": 27873, \"struggle_counts\": 21, \"struggle_ratio\": 0.0007534172855451513}, {\"periodical_name\": \"Tricontinental Bulletin\", \"cleaned_issue_date\": \"1971-07-01T00:00:00\", \"tokenized_length\": 14712, \"struggle_counts\": 20, \"struggle_ratio\": 0.0013594344752582926}, {\"periodical_name\": \"Tricontinental Bulletin\", \"cleaned_issue_date\": \"1971-08-01T00:00:00\", \"tokenized_length\": 126393, \"struggle_counts\": 185, \"struggle_ratio\": 0.0014636886536437935}, {\"periodical_name\": \"Tricontinental Bulletin\", \"cleaned_issue_date\": \"1971-09-01T00:00:00\", \"tokenized_length\": 12806, \"struggle_counts\": 28, \"struggle_ratio\": 0.0021864750898016555}, {\"periodical_name\": \"Tricontinental Bulletin\", \"cleaned_issue_date\": \"1971-11-01T00:00:00\", \"tokenized_length\": 14776, \"struggle_counts\": 19, \"struggle_ratio\": 0.0012858689767190038}, {\"periodical_name\": \"Tricontinental Bulletin\", \"cleaned_issue_date\": \"1971-12-01T00:00:00\", \"tokenized_length\": 14091, \"struggle_counts\": 23, \"struggle_ratio\": 0.0016322475338868781}, {\"periodical_name\": \"Tricontinental Bulletin\", \"cleaned_issue_date\": \"1972-01-01T00:00:00\", \"tokenized_length\": 16028, \"struggle_counts\": 47, \"struggle_ratio\": 0.0029323683553780884}, {\"periodical_name\": \"Tricontinental Bulletin\", \"cleaned_issue_date\": \"1972-02-01T00:00:00\", \"tokenized_length\": 14379, \"struggle_counts\": 27, \"struggle_ratio\": 0.0018777383684539955}, {\"periodical_name\": \"Tricontinental Bulletin\", \"cleaned_issue_date\": \"1972-03-01T00:00:00\", \"tokenized_length\": 12924, \"struggle_counts\": 35, \"struggle_ratio\": 0.0027081398947694213}, {\"periodical_name\": \"Tricontinental Bulletin\", \"cleaned_issue_date\": \"1972-04-01T00:00:00\", \"tokenized_length\": 13038, \"struggle_counts\": 43, \"struggle_ratio\": 0.0032980518484430127}, {\"periodical_name\": \"Tricontinental Bulletin\", \"cleaned_issue_date\": \"1972-05-01T00:00:00\", \"tokenized_length\": 63570, \"struggle_counts\": 135, \"struggle_ratio\": 0.0021236432279377066}, {\"periodical_name\": \"Tricontinental Bulletin\", \"cleaned_issue_date\": \"1972-06-01T00:00:00\", \"tokenized_length\": 57177, \"struggle_counts\": 124, \"struggle_ratio\": 0.0021687041992409536}, {\"periodical_name\": \"Tricontinental Bulletin\", \"cleaned_issue_date\": \"1972-07-01T00:00:00\", \"tokenized_length\": 12049, \"struggle_counts\": 42, \"struggle_ratio\": 0.0034857664536476055}, {\"periodical_name\": \"Tricontinental Bulletin\", \"cleaned_issue_date\": \"1972-09-01T00:00:00\", \"tokenized_length\": 11833, \"struggle_counts\": 15, \"struggle_ratio\": 0.001267641342009634}, {\"periodical_name\": \"Tricontinental Bulletin\", \"cleaned_issue_date\": \"1972-12-01T00:00:00\", \"tokenized_length\": 14559, \"struggle_counts\": 57, \"struggle_ratio\": 0.003915104059344735}, {\"periodical_name\": \"Tricontinental Bulletin\", \"cleaned_issue_date\": \"1973-01-01T00:00:00\", \"tokenized_length\": 51000, \"struggle_counts\": 151, \"struggle_ratio\": 0.00296078431372549}, {\"periodical_name\": \"Tricontinental Bulletin\", \"cleaned_issue_date\": \"1973-02-01T00:00:00\", \"tokenized_length\": 14028, \"struggle_counts\": 15, \"struggle_ratio\": 0.00106928999144568}, {\"periodical_name\": \"Tricontinental Bulletin\", \"cleaned_issue_date\": \"1973-04-01T00:00:00\", \"tokenized_length\": 18570, \"struggle_counts\": 35, \"struggle_ratio\": 0.001884760366182014}, {\"periodical_name\": \"Tricontinental Bulletin\", \"cleaned_issue_date\": \"1975-01-01T00:00:00\", \"tokenized_length\": 20995, \"struggle_counts\": 32, \"struggle_ratio\": 0.0015241724220052394}, {\"periodical_name\": \"Tricontinental Bulletin\", \"cleaned_issue_date\": \"1976-01-01T00:00:00\", \"tokenized_length\": 54504, \"struggle_counts\": 76, \"struggle_ratio\": 0.001394393072068105}, {\"periodical_name\": \"Tricontinental Bulletin\", \"cleaned_issue_date\": \"1976-12-01T00:00:00\", \"tokenized_length\": 19583, \"struggle_counts\": 19, \"struggle_ratio\": 0.0009702292804983914}, {\"periodical_name\": \"Tricontinental Bulletin\", \"cleaned_issue_date\": \"1977-01-01T00:00:00\", \"tokenized_length\": 20967, \"struggle_counts\": 19, \"struggle_ratio\": 0.0009061859111937807}, {\"periodical_name\": \"Tricontinental Bulletin\", \"cleaned_issue_date\": \"1977-12-01T00:00:00\", \"tokenized_length\": 21866, \"struggle_counts\": 60, \"struggle_ratio\": 0.0027439860971371077}, {\"periodical_name\": \"Tricontinental Bulletin\", \"cleaned_issue_date\": \"1980-01-01T00:00:00\", \"tokenized_length\": 50290, \"struggle_counts\": 139, \"struggle_ratio\": 0.0027639689799164842}, {\"periodical_name\": \"Tricontinental Bulletin\", \"cleaned_issue_date\": \"1980-12-01T00:00:00\", \"tokenized_length\": 38106, \"struggle_counts\": 132, \"struggle_ratio\": 0.003464021413950559}, {\"periodical_name\": \"Black Panther\", \"cleaned_issue_date\": \"1967-04-25T00:00:00\", \"tokenized_length\": 2261, \"struggle_counts\": 0, \"struggle_ratio\": 0.0}, {\"periodical_name\": \"Black Panther\", \"cleaned_issue_date\": \"1967-05-25T00:00:00\", \"tokenized_length\": 14796, \"struggle_counts\": 6, \"struggle_ratio\": 0.00040551500405515005}, {\"periodical_name\": \"Black Panther\", \"cleaned_issue_date\": \"1967-06-20T00:00:00\", \"tokenized_length\": 11978, \"struggle_counts\": 1, \"struggle_ratio\": 8.348639171814995e-05}, {\"periodical_name\": \"Black Panther\", \"cleaned_issue_date\": \"1967-07-03T00:00:00\", \"tokenized_length\": 16153, \"struggle_counts\": 20, \"struggle_ratio\": 0.0012381600941001672}, {\"periodical_name\": \"Black Panther\", \"cleaned_issue_date\": \"1967-07-20T00:00:00\", \"tokenized_length\": 34816, \"struggle_counts\": 41, \"struggle_ratio\": 0.0011776194852941176}, {\"periodical_name\": \"Black Panther\", \"cleaned_issue_date\": \"1967-11-23T00:00:00\", \"tokenized_length\": 14207, \"struggle_counts\": 21, \"struggle_ratio\": 0.0014781445766171605}, {\"periodical_name\": \"Black Panther\", \"cleaned_issue_date\": \"1968-05-04T00:00:00\", \"tokenized_length\": 29468, \"struggle_counts\": 21, \"struggle_ratio\": 0.0007126374372200353}, {\"periodical_name\": \"Black Panther\", \"cleaned_issue_date\": \"1968-05-18T00:00:00\", \"tokenized_length\": 35970, \"struggle_counts\": 54, \"struggle_ratio\": 0.0015012510425354462}, {\"periodical_name\": \"Black Panther\", \"cleaned_issue_date\": \"1968-09-07T00:00:00\", \"tokenized_length\": 18419, \"struggle_counts\": 11, \"struggle_ratio\": 0.0005972094033335143}, {\"periodical_name\": \"Black Panther\", \"cleaned_issue_date\": \"1968-09-14T00:00:00\", \"tokenized_length\": 21120, \"struggle_counts\": 14, \"struggle_ratio\": 0.0006628787878787879}, {\"periodical_name\": \"Black Panther\", \"cleaned_issue_date\": \"1968-09-28T00:00:00\", \"tokenized_length\": 30914, \"struggle_counts\": 20, \"struggle_ratio\": 0.0006469560716827327}, {\"periodical_name\": \"Black Panther\", \"cleaned_issue_date\": \"1968-10-05T00:00:00\", \"tokenized_length\": 22006, \"struggle_counts\": 7, \"struggle_ratio\": 0.00031809506498227754}, {\"periodical_name\": \"Black Panther\", \"cleaned_issue_date\": \"1968-10-12T00:00:00\", \"tokenized_length\": 29531, \"struggle_counts\": 30, \"struggle_ratio\": 0.0010158816159290237}, {\"periodical_name\": \"Black Panther\", \"cleaned_issue_date\": \"1968-10-19T00:00:00\", \"tokenized_length\": 25315, \"struggle_counts\": 104, \"struggle_ratio\": 0.004108236223582856}, {\"periodical_name\": \"Black Panther\", \"cleaned_issue_date\": \"1968-10-26T00:00:00\", \"tokenized_length\": 26406, \"struggle_counts\": 20, \"struggle_ratio\": 0.0007574036203893055}, {\"periodical_name\": \"Black Panther\", \"cleaned_issue_date\": \"1968-11-02T00:00:00\", \"tokenized_length\": 30656, \"struggle_counts\": 31, \"struggle_ratio\": 0.0010112212943632567}, {\"periodical_name\": \"Black Panther\", \"cleaned_issue_date\": \"1968-11-16T00:00:00\", \"tokenized_length\": 41515, \"struggle_counts\": 29, \"struggle_ratio\": 0.0006985426954112971}, {\"periodical_name\": \"Black Panther\", \"cleaned_issue_date\": \"1968-12-07T00:00:00\", \"tokenized_length\": 13669, \"struggle_counts\": 5, \"struggle_ratio\": 0.0003657912063793986}, {\"periodical_name\": \"Black Panther\", \"cleaned_issue_date\": \"1968-12-21T00:00:00\", \"tokenized_length\": 28935, \"struggle_counts\": 31, \"struggle_ratio\": 0.0010713668567478832}, {\"periodical_name\": \"Black Panther\", \"cleaned_issue_date\": \"1969-01-04T00:00:00\", \"tokenized_length\": 34469, \"struggle_counts\": 60, \"struggle_ratio\": 0.001740694537120311}, {\"periodical_name\": \"Black Panther\", \"cleaned_issue_date\": \"1969-01-15T00:00:00\", \"tokenized_length\": 15356, \"struggle_counts\": 5, \"struggle_ratio\": 0.0003256056264652253}, {\"periodical_name\": \"Black Panther\", \"cleaned_issue_date\": \"1969-01-25T00:00:00\", \"tokenized_length\": 26318, \"struggle_counts\": 17, \"struggle_ratio\": 0.0006459457405577931}, {\"periodical_name\": \"Black Panther\", \"cleaned_issue_date\": \"1969-02-02T00:00:00\", \"tokenized_length\": 28645, \"struggle_counts\": 30, \"struggle_ratio\": 0.0010473031942747426}, {\"periodical_name\": \"Black Panther\", \"cleaned_issue_date\": \"1969-02-17T00:00:00\", \"tokenized_length\": 19400, \"struggle_counts\": 45, \"struggle_ratio\": 0.0023195876288659794}, {\"periodical_name\": \"Black Panther\", \"cleaned_issue_date\": \"1969-03-03T00:00:00\", \"tokenized_length\": 24652, \"struggle_counts\": 23, \"struggle_ratio\": 0.0009329871815674185}, {\"periodical_name\": \"Black Panther\", \"cleaned_issue_date\": \"1969-03-09T00:00:00\", \"tokenized_length\": 30539, \"struggle_counts\": 51, \"struggle_ratio\": 0.0016699957431481056}, {\"periodical_name\": \"Black Panther\", \"cleaned_issue_date\": \"1969-03-16T00:00:00\", \"tokenized_length\": 27228, \"struggle_counts\": 36, \"struggle_ratio\": 0.0013221683561040105}, {\"periodical_name\": \"Black Panther\", \"cleaned_issue_date\": \"1969-03-23T00:00:00\", \"tokenized_length\": 27429, \"struggle_counts\": 30, \"struggle_ratio\": 0.0010937329104232746}, {\"periodical_name\": \"Black Panther\", \"cleaned_issue_date\": \"1969-03-31T00:00:00\", \"tokenized_length\": 36146, \"struggle_counts\": 18, \"struggle_ratio\": 0.000497980412770431}, {\"periodical_name\": \"Black Panther\", \"cleaned_issue_date\": \"1969-04-06T00:00:00\", \"tokenized_length\": 21436, \"struggle_counts\": 13, \"struggle_ratio\": 0.0006064564284381414}, {\"periodical_name\": \"Black Panther\", \"cleaned_issue_date\": \"1969-04-20T00:00:00\", \"tokenized_length\": 33972, \"struggle_counts\": 25, \"struggle_ratio\": 0.0007359001530672318}, {\"periodical_name\": \"Black Panther\", \"cleaned_issue_date\": \"1969-04-27T00:00:00\", \"tokenized_length\": 17125, \"struggle_counts\": 23, \"struggle_ratio\": 0.001343065693430657}, {\"periodical_name\": \"Black Panther\", \"cleaned_issue_date\": \"1969-05-04T00:00:00\", \"tokenized_length\": 22454, \"struggle_counts\": 16, \"struggle_ratio\": 0.0007125679166295537}, {\"periodical_name\": \"Black Panther\", \"cleaned_issue_date\": \"1969-05-11T00:00:00\", \"tokenized_length\": 38040, \"struggle_counts\": 87, \"struggle_ratio\": 0.0022870662460567825}, {\"periodical_name\": \"Black Panther\", \"cleaned_issue_date\": \"1969-05-19T00:00:00\", \"tokenized_length\": 24921, \"struggle_counts\": 18, \"struggle_ratio\": 0.0007222824124232575}, {\"periodical_name\": \"Black Panther\", \"cleaned_issue_date\": \"1969-05-25T00:00:00\", \"tokenized_length\": 29323, \"struggle_counts\": 79, \"struggle_ratio\": 0.0026941308870170174}, {\"periodical_name\": \"Black Panther\", \"cleaned_issue_date\": \"1969-05-31T00:00:00\", \"tokenized_length\": 24747, \"struggle_counts\": 17, \"struggle_ratio\": 0.0006869519537721744}, {\"periodical_name\": \"Black Panther\", \"cleaned_issue_date\": \"1969-06-07T00:00:00\", \"tokenized_length\": 26478, \"struggle_counts\": 18, \"struggle_ratio\": 0.0006798096532970768}, {\"periodical_name\": \"Black Panther\", \"cleaned_issue_date\": \"1969-06-14T00:00:00\", \"tokenized_length\": 33036, \"struggle_counts\": 31, \"struggle_ratio\": 0.0009383702627436736}, {\"periodical_name\": \"Black Panther\", \"cleaned_issue_date\": \"1969-06-21T00:00:00\", \"tokenized_length\": 31811, \"struggle_counts\": 17, \"struggle_ratio\": 0.0005344063374304486}, {\"periodical_name\": \"Black Panther\", \"cleaned_issue_date\": \"1969-06-28T00:00:00\", \"tokenized_length\": 26121, \"struggle_counts\": 13, \"struggle_ratio\": 0.0004976838559013821}, {\"periodical_name\": \"Black Panther\", \"cleaned_issue_date\": \"1969-07-05T00:00:00\", \"tokenized_length\": 29878, \"struggle_counts\": 30, \"struggle_ratio\": 0.001004083271972689}, {\"periodical_name\": \"Black Panther\", \"cleaned_issue_date\": \"1969-07-12T00:00:00\", \"tokenized_length\": 38460, \"struggle_counts\": 40, \"struggle_ratio\": 0.0010400416016640667}, {\"periodical_name\": \"Black Panther\", \"cleaned_issue_date\": \"1969-07-19T00:00:00\", \"tokenized_length\": 46336, \"struggle_counts\": 44, \"struggle_ratio\": 0.000949585635359116}, {\"periodical_name\": \"Black Panther\", \"cleaned_issue_date\": \"1969-07-26T00:00:00\", \"tokenized_length\": 39310, \"struggle_counts\": 62, \"struggle_ratio\": 0.0015772068176036632}, {\"periodical_name\": \"Black Panther\", \"cleaned_issue_date\": \"1969-08-02T00:00:00\", \"tokenized_length\": 37008, \"struggle_counts\": 58, \"struggle_ratio\": 0.0015672287073065284}, {\"periodical_name\": \"Black Panther\", \"cleaned_issue_date\": \"1969-08-09T00:00:00\", \"tokenized_length\": 50561, \"struggle_counts\": 57, \"struggle_ratio\": 0.001127351120428789}, {\"periodical_name\": \"Black Panther\", \"cleaned_issue_date\": \"1969-08-16T00:00:00\", \"tokenized_length\": 53894, \"struggle_counts\": 58, \"struggle_ratio\": 0.0010761865884885145}, {\"periodical_name\": \"Black Panther\", \"cleaned_issue_date\": \"1969-08-30T00:00:00\", \"tokenized_length\": 39925, \"struggle_counts\": 37, \"struggle_ratio\": 0.0009267376330619912}, {\"periodical_name\": \"Black Panther\", \"cleaned_issue_date\": \"1969-09-06T00:00:00\", \"tokenized_length\": 47492, \"struggle_counts\": 32, \"struggle_ratio\": 0.000673797692242904}, {\"periodical_name\": \"Black Panther\", \"cleaned_issue_date\": \"1969-09-13T00:00:00\", \"tokenized_length\": 35047, \"struggle_counts\": 65, \"struggle_ratio\": 0.0018546523240220276}, {\"periodical_name\": \"Black Panther\", \"cleaned_issue_date\": \"1969-09-20T00:00:00\", \"tokenized_length\": 44359, \"struggle_counts\": 45, \"struggle_ratio\": 0.0010144502806645776}, {\"periodical_name\": \"Black Panther\", \"cleaned_issue_date\": \"1969-09-27T00:00:00\", \"tokenized_length\": 32290, \"struggle_counts\": 29, \"struggle_ratio\": 0.0008981108702384639}, {\"periodical_name\": \"Black Panther\", \"cleaned_issue_date\": \"1969-10-04T00:00:00\", \"tokenized_length\": 30042, \"struggle_counts\": 14, \"struggle_ratio\": 0.0004660142467212569}, {\"periodical_name\": \"Black Panther\", \"cleaned_issue_date\": \"1969-10-11T00:00:00\", \"tokenized_length\": 28874, \"struggle_counts\": 25, \"struggle_ratio\": 0.000865830851284893}, {\"periodical_name\": \"Black Panther\", \"cleaned_issue_date\": \"1969-10-18T00:00:00\", \"tokenized_length\": 16516, \"struggle_counts\": 9, \"struggle_ratio\": 0.0005449261322354081}, {\"periodical_name\": \"Black Panther\", \"cleaned_issue_date\": \"1969-10-25T00:00:00\", \"tokenized_length\": 47876, \"struggle_counts\": 113, \"struggle_ratio\": 0.002360264015373047}, {\"periodical_name\": \"Black Panther\", \"cleaned_issue_date\": \"1969-11-01T00:00:00\", \"tokenized_length\": 38125, \"struggle_counts\": 49, \"struggle_ratio\": 0.0012852459016393443}, {\"periodical_name\": \"Black Panther\", \"cleaned_issue_date\": \"1969-11-08T00:00:00\", \"tokenized_length\": 43495, \"struggle_counts\": 43, \"struggle_ratio\": 0.0009886193815381078}, {\"periodical_name\": \"Black Panther\", \"cleaned_issue_date\": \"1969-11-15T00:00:00\", \"tokenized_length\": 37452, \"struggle_counts\": 40, \"struggle_ratio\": 0.0010680337498664959}, {\"periodical_name\": \"Black Panther\", \"cleaned_issue_date\": \"1969-11-22T00:00:00\", \"tokenized_length\": 26873, \"struggle_counts\": 17, \"struggle_ratio\": 0.0006326052171324377}, {\"periodical_name\": \"Black Panther\", \"cleaned_issue_date\": \"1969-11-29T00:00:00\", \"tokenized_length\": 33776, \"struggle_counts\": 29, \"struggle_ratio\": 0.0008585978209379441}, {\"periodical_name\": \"Black Panther\", \"cleaned_issue_date\": \"1969-12-06T00:00:00\", \"tokenized_length\": 33963, \"struggle_counts\": 16, \"struggle_ratio\": 0.0004711009039248594}, {\"periodical_name\": \"Black Panther\", \"cleaned_issue_date\": \"1969-12-13T00:00:00\", \"tokenized_length\": 30249, \"struggle_counts\": 35, \"struggle_ratio\": 0.0011570630434063936}, {\"periodical_name\": \"Black Panther\", \"cleaned_issue_date\": \"1970-01-03T00:00:00\", \"tokenized_length\": 47220, \"struggle_counts\": 46, \"struggle_ratio\": 0.0009741634900465904}, {\"periodical_name\": \"Black Panther\", \"cleaned_issue_date\": \"1970-01-10T00:00:00\", \"tokenized_length\": 37524, \"struggle_counts\": 46, \"struggle_ratio\": 0.001225882102121309}, {\"periodical_name\": \"Black Panther\", \"cleaned_issue_date\": \"1970-01-17T00:00:00\", \"tokenized_length\": 37995, \"struggle_counts\": 41, \"struggle_ratio\": 0.0010790893538623503}, {\"periodical_name\": \"Black Panther\", \"cleaned_issue_date\": \"1970-01-24T00:00:00\", \"tokenized_length\": 30208, \"struggle_counts\": 39, \"struggle_ratio\": 0.0012910487288135594}, {\"periodical_name\": \"Black Panther\", \"cleaned_issue_date\": \"1970-01-31T00:00:00\", \"tokenized_length\": 33061, \"struggle_counts\": 60, \"struggle_ratio\": 0.0018148271377151327}, {\"periodical_name\": \"Black Panther\", \"cleaned_issue_date\": \"1970-02-09T00:00:00\", \"tokenized_length\": 34956, \"struggle_counts\": 16, \"struggle_ratio\": 0.0004577182744021055}, {\"periodical_name\": \"Black Panther\", \"cleaned_issue_date\": \"1970-02-17T00:00:00\", \"tokenized_length\": 36971, \"struggle_counts\": 31, \"struggle_ratio\": 0.0008384950366503476}, {\"periodical_name\": \"Black Panther\", \"cleaned_issue_date\": \"1970-02-21T00:00:00\", \"tokenized_length\": 14532, \"struggle_counts\": 0, \"struggle_ratio\": 0.0}, {\"periodical_name\": \"Black Panther\", \"cleaned_issue_date\": \"1970-02-28T00:00:00\", \"tokenized_length\": 44005, \"struggle_counts\": 33, \"struggle_ratio\": 0.0007499147824110897}, {\"periodical_name\": \"Black Panther\", \"cleaned_issue_date\": \"1970-03-07T00:00:00\", \"tokenized_length\": 33503, \"struggle_counts\": 26, \"struggle_ratio\": 0.0007760499059785691}, {\"periodical_name\": \"Black Panther\", \"cleaned_issue_date\": \"1970-03-15T00:00:00\", \"tokenized_length\": 49269, \"struggle_counts\": 53, \"struggle_ratio\": 0.0010757271306501045}, {\"periodical_name\": \"Black Panther\", \"cleaned_issue_date\": \"1970-03-21T00:00:00\", \"tokenized_length\": 46287, \"struggle_counts\": 45, \"struggle_ratio\": 0.0009721952167995333}, {\"periodical_name\": \"Black Panther\", \"cleaned_issue_date\": \"1970-03-28T00:00:00\", \"tokenized_length\": 34336, \"struggle_counts\": 32, \"struggle_ratio\": 0.0009319664492078285}, {\"periodical_name\": \"Black Panther\", \"cleaned_issue_date\": \"1970-04-11T00:00:00\", \"tokenized_length\": 33060, \"struggle_counts\": 36, \"struggle_ratio\": 0.001088929219600726}, {\"periodical_name\": \"Black Panther\", \"cleaned_issue_date\": \"1970-04-18T00:00:00\", \"tokenized_length\": 26484, \"struggle_counts\": 22, \"struggle_ratio\": 0.0008306902280622263}, {\"periodical_name\": \"Black Panther\", \"cleaned_issue_date\": \"1970-04-25T00:00:00\", \"tokenized_length\": 30439, \"struggle_counts\": 33, \"struggle_ratio\": 0.00108413548408292}, {\"periodical_name\": \"Black Panther\", \"cleaned_issue_date\": \"1970-05-09T00:00:00\", \"tokenized_length\": 36469, \"struggle_counts\": 34, \"struggle_ratio\": 0.0009322986646192657}, {\"periodical_name\": \"Black Panther\", \"cleaned_issue_date\": \"1970-05-19T00:00:00\", \"tokenized_length\": 40686, \"struggle_counts\": 30, \"struggle_ratio\": 0.000737354372511429}, {\"periodical_name\": \"Black Panther\", \"cleaned_issue_date\": \"1970-05-31T00:00:00\", \"tokenized_length\": 51607, \"struggle_counts\": 36, \"struggle_ratio\": 0.000697579785687988}, {\"periodical_name\": \"Black Panther\", \"cleaned_issue_date\": \"1970-06-06T00:00:00\", \"tokenized_length\": 39042, \"struggle_counts\": 29, \"struggle_ratio\": 0.0007427898160954869}, {\"periodical_name\": \"Black Panther\", \"cleaned_issue_date\": \"1970-06-13T00:00:00\", \"tokenized_length\": 42266, \"struggle_counts\": 50, \"struggle_ratio\": 0.0011829839587375196}, {\"periodical_name\": \"Black Panther\", \"cleaned_issue_date\": \"1970-06-20T00:00:00\", \"tokenized_length\": 39139, \"struggle_counts\": 53, \"struggle_ratio\": 0.0013541480364853472}, {\"periodical_name\": \"Black Panther\", \"cleaned_issue_date\": \"1970-06-27T00:00:00\", \"tokenized_length\": 42409, \"struggle_counts\": 60, \"struggle_ratio\": 0.0014147940295691952}, {\"periodical_name\": \"Black Panther\", \"cleaned_issue_date\": \"1970-07-04T00:00:00\", \"tokenized_length\": 44531, \"struggle_counts\": 86, \"struggle_ratio\": 0.0019312389122184545}, {\"periodical_name\": \"Black Panther\", \"cleaned_issue_date\": \"1970-07-11T00:00:00\", \"tokenized_length\": 41579, \"struggle_counts\": 26, \"struggle_ratio\": 0.0006253156641573872}, {\"periodical_name\": \"Black Panther\", \"cleaned_issue_date\": \"1970-07-18T00:00:00\", \"tokenized_length\": 43236, \"struggle_counts\": 14, \"struggle_ratio\": 0.0003238042372097326}, {\"periodical_name\": \"Black Panther\", \"cleaned_issue_date\": \"1970-07-25T00:00:00\", \"tokenized_length\": 33296, \"struggle_counts\": 15, \"struggle_ratio\": 0.00045050456511292646}, {\"periodical_name\": \"Black Panther\", \"cleaned_issue_date\": \"1970-08-01T00:00:00\", \"tokenized_length\": 52178, \"struggle_counts\": 22, \"struggle_ratio\": 0.00042163363869830196}, {\"periodical_name\": \"Black Panther\", \"cleaned_issue_date\": \"1970-08-08T00:00:00\", \"tokenized_length\": 41770, \"struggle_counts\": 40, \"struggle_ratio\": 0.0009576250897773521}, {\"periodical_name\": \"Black Panther\", \"cleaned_issue_date\": \"1970-08-15T00:00:00\", \"tokenized_length\": 43096, \"struggle_counts\": 12, \"struggle_ratio\": 0.0002784481158344162}, {\"periodical_name\": \"Black Panther\", \"cleaned_issue_date\": \"1970-08-21T00:00:00\", \"tokenized_length\": 40624, \"struggle_counts\": 19, \"struggle_ratio\": 0.00046770382040173296}, {\"periodical_name\": \"Black Panther\", \"cleaned_issue_date\": \"1970-08-29T00:00:00\", \"tokenized_length\": 25985, \"struggle_counts\": 10, \"struggle_ratio\": 0.00038483740619588223}, {\"periodical_name\": \"Black Panther\", \"cleaned_issue_date\": \"1970-09-05T00:00:00\", \"tokenized_length\": 54066, \"struggle_counts\": 51, \"struggle_ratio\": 0.0009432915325713017}, {\"periodical_name\": \"Black Panther\", \"cleaned_issue_date\": \"1970-09-12T00:00:00\", \"tokenized_length\": 42372, \"struggle_counts\": 21, \"struggle_ratio\": 0.0004956103086944209}, {\"periodical_name\": \"Black Panther\", \"cleaned_issue_date\": \"1970-09-26T00:00:00\", \"tokenized_length\": 36818, \"struggle_counts\": 13, \"struggle_ratio\": 0.00035308816339833777}, {\"periodical_name\": \"Black Panther\", \"cleaned_issue_date\": \"1970-10-03T00:00:00\", \"tokenized_length\": 53559, \"struggle_counts\": 48, \"struggle_ratio\": 0.0008962079202374951}, {\"periodical_name\": \"Black Panther\", \"cleaned_issue_date\": \"1970-10-10T00:00:00\", \"tokenized_length\": 30279, \"struggle_counts\": 22, \"struggle_ratio\": 0.000726576174906701}, {\"periodical_name\": \"Black Panther\", \"cleaned_issue_date\": \"1970-10-17T00:00:00\", \"tokenized_length\": 41310, \"struggle_counts\": 18, \"struggle_ratio\": 0.00043572984749455336}, {\"periodical_name\": \"Black Panther\", \"cleaned_issue_date\": \"1970-10-24T00:00:00\", \"tokenized_length\": 40142, \"struggle_counts\": 27, \"struggle_ratio\": 0.0006726122265955857}, {\"periodical_name\": \"Black Panther\", \"cleaned_issue_date\": \"1970-10-31T00:00:00\", \"tokenized_length\": 34746, \"struggle_counts\": 44, \"struggle_ratio\": 0.0012663328152880907}, {\"periodical_name\": \"Black Panther\", \"cleaned_issue_date\": \"1970-11-07T00:00:00\", \"tokenized_length\": 20361, \"struggle_counts\": 8, \"struggle_ratio\": 0.0003929080104120623}, {\"periodical_name\": \"Black Panther\", \"cleaned_issue_date\": \"1970-11-14T00:00:00\", \"tokenized_length\": 30525, \"struggle_counts\": 27, \"struggle_ratio\": 0.0008845208845208846}, {\"periodical_name\": \"Black Panther\", \"cleaned_issue_date\": \"1970-11-21T00:00:00\", \"tokenized_length\": 28384, \"struggle_counts\": 13, \"struggle_ratio\": 0.00045800450958286356}, {\"periodical_name\": \"Black Panther\", \"cleaned_issue_date\": \"1970-11-28T00:00:00\", \"tokenized_length\": 31290, \"struggle_counts\": 53, \"struggle_ratio\": 0.001693831895174177}, {\"periodical_name\": \"Black Panther\", \"cleaned_issue_date\": \"1970-12-05T00:00:00\", \"tokenized_length\": 22616, \"struggle_counts\": 15, \"struggle_ratio\": 0.0006632472585779978}, {\"periodical_name\": \"Black Panther\", \"cleaned_issue_date\": \"1970-12-14T00:00:00\", \"tokenized_length\": 35119, \"struggle_counts\": 107, \"struggle_ratio\": 0.0030467837922492098}, {\"periodical_name\": \"Black Panther\", \"cleaned_issue_date\": \"1970-12-19T00:00:00\", \"tokenized_length\": 33303, \"struggle_counts\": 72, \"struggle_ratio\": 0.002161967390325196}, {\"periodical_name\": \"Black Panther\", \"cleaned_issue_date\": \"1970-12-26T00:00:00\", \"tokenized_length\": 27507, \"struggle_counts\": 25, \"struggle_ratio\": 0.0009088595630203221}, {\"periodical_name\": \"Black Panther\", \"cleaned_issue_date\": \"1970-12-27T00:00:00\", \"tokenized_length\": 23840, \"struggle_counts\": 26, \"struggle_ratio\": 0.0010906040268456375}, {\"periodical_name\": \"Black Panther\", \"cleaned_issue_date\": \"1971-01-01T00:00:00\", \"tokenized_length\": 12750, \"struggle_counts\": 5, \"struggle_ratio\": 0.000392156862745098}, {\"periodical_name\": \"Black Panther\", \"cleaned_issue_date\": \"1971-01-02T00:00:00\", \"tokenized_length\": 32749, \"struggle_counts\": 24, \"struggle_ratio\": 0.0007328468044825796}, {\"periodical_name\": \"Black Panther\", \"cleaned_issue_date\": \"1971-01-08T00:00:00\", \"tokenized_length\": 14585, \"struggle_counts\": 15, \"struggle_ratio\": 0.0010284538909838875}, {\"periodical_name\": \"Black Panther\", \"cleaned_issue_date\": \"1971-01-09T00:00:00\", \"tokenized_length\": 29955, \"struggle_counts\": 55, \"struggle_ratio\": 0.0018360874645301285}, {\"periodical_name\": \"Black Panther\", \"cleaned_issue_date\": \"1971-01-16T00:00:00\", \"tokenized_length\": 24957, \"struggle_counts\": 50, \"struggle_ratio\": 0.0020034459269944304}, {\"periodical_name\": \"Black Panther\", \"cleaned_issue_date\": \"1971-01-22T00:00:00\", \"tokenized_length\": 12723, \"struggle_counts\": 5, \"struggle_ratio\": 0.00039298907490371767}, {\"periodical_name\": \"Black Panther\", \"cleaned_issue_date\": \"1971-01-23T00:00:00\", \"tokenized_length\": 24125, \"struggle_counts\": 11, \"struggle_ratio\": 0.00045595854922279795}, {\"periodical_name\": \"Black Panther\", \"cleaned_issue_date\": \"1971-01-29T00:00:00\", \"tokenized_length\": 14229, \"struggle_counts\": 2, \"struggle_ratio\": 0.00014055801532082368}, {\"periodical_name\": \"Black Panther\", \"cleaned_issue_date\": \"1971-01-30T00:00:00\", \"tokenized_length\": 28499, \"struggle_counts\": 30, \"struggle_ratio\": 0.0010526685146847257}, {\"periodical_name\": \"Black Panther\", \"cleaned_issue_date\": \"1971-02-05T00:00:00\", \"tokenized_length\": 16264, \"struggle_counts\": 15, \"struggle_ratio\": 0.0009222823413674373}, {\"periodical_name\": \"Black Panther\", \"cleaned_issue_date\": \"1971-02-06T00:00:00\", \"tokenized_length\": 27608, \"struggle_counts\": 13, \"struggle_ratio\": 0.0004708780063749638}, {\"periodical_name\": \"Black Panther\", \"cleaned_issue_date\": \"1971-02-12T00:00:00\", \"tokenized_length\": 11701, \"struggle_counts\": 11, \"struggle_ratio\": 0.0009400905905478165}, {\"periodical_name\": \"Black Panther\", \"cleaned_issue_date\": \"1971-02-13T00:00:00\", \"tokenized_length\": 20121, \"struggle_counts\": 13, \"struggle_ratio\": 0.0006460911485512648}, {\"periodical_name\": \"Black Panther\", \"cleaned_issue_date\": \"1971-02-19T00:00:00\", \"tokenized_length\": 15299, \"struggle_counts\": 5, \"struggle_ratio\": 0.0003268187463232891}, {\"periodical_name\": \"Black Panther\", \"cleaned_issue_date\": \"1971-02-20T00:00:00\", \"tokenized_length\": 21787, \"struggle_counts\": 7, \"struggle_ratio\": 0.0003212925138844265}, {\"periodical_name\": \"Black Panther\", \"cleaned_issue_date\": \"1971-02-26T00:00:00\", \"tokenized_length\": 16933, \"struggle_counts\": 22, \"struggle_ratio\": 0.0012992381739798027}, {\"periodical_name\": \"Black Panther\", \"cleaned_issue_date\": \"1971-02-27T00:00:00\", \"tokenized_length\": 20208, \"struggle_counts\": 27, \"struggle_ratio\": 0.001336104513064133}, {\"periodical_name\": \"Black Panther\", \"cleaned_issue_date\": \"1971-03-01T00:00:00\", \"tokenized_length\": 91682, \"struggle_counts\": 54, \"struggle_ratio\": 0.0005889923867280383}, {\"periodical_name\": \"Black Panther\", \"cleaned_issue_date\": \"1971-03-04T00:00:00\", \"tokenized_length\": 15260, \"struggle_counts\": 59, \"struggle_ratio\": 0.0038663171690694626}, {\"periodical_name\": \"Black Panther\", \"cleaned_issue_date\": \"1971-03-11T00:00:00\", \"tokenized_length\": 14442, \"struggle_counts\": 24, \"struggle_ratio\": 0.0016618196925633569}, {\"periodical_name\": \"Black Panther\", \"cleaned_issue_date\": \"1971-03-18T00:00:00\", \"tokenized_length\": 13632, \"struggle_counts\": 50, \"struggle_ratio\": 0.0036678403755868545}, {\"periodical_name\": \"Black Panther\", \"cleaned_issue_date\": \"1971-04-10T00:00:00\", \"tokenized_length\": 29346, \"struggle_counts\": 29, \"struggle_ratio\": 0.000988209636747768}, {\"periodical_name\": \"Black Panther\", \"cleaned_issue_date\": \"1971-04-17T00:00:00\", \"tokenized_length\": 24542, \"struggle_counts\": 9, \"struggle_ratio\": 0.00036671827886887784}, {\"periodical_name\": \"Black Panther\", \"cleaned_issue_date\": \"1971-05-01T00:00:00\", \"tokenized_length\": 25638, \"struggle_counts\": 50, \"struggle_ratio\": 0.0019502301271550043}, {\"periodical_name\": \"Black Panther\", \"cleaned_issue_date\": \"1971-05-08T00:00:00\", \"tokenized_length\": 24495, \"struggle_counts\": 29, \"struggle_ratio\": 0.0011839150847111656}, {\"periodical_name\": \"Black Panther\", \"cleaned_issue_date\": \"1971-05-15T00:00:00\", \"tokenized_length\": 20343, \"struggle_counts\": 5, \"struggle_ratio\": 0.000245784790837143}, {\"periodical_name\": \"Black Panther\", \"cleaned_issue_date\": \"1971-05-22T00:00:00\", \"tokenized_length\": 20958, \"struggle_counts\": 20, \"struggle_ratio\": 0.0009542895314438401}, {\"periodical_name\": \"Black Panther\", \"cleaned_issue_date\": \"1971-05-29T00:00:00\", \"tokenized_length\": 24123, \"struggle_counts\": 16, \"struggle_ratio\": 0.0006632674211333582}, {\"periodical_name\": \"Black Panther\", \"cleaned_issue_date\": \"1971-06-12T00:00:00\", \"tokenized_length\": 19228, \"struggle_counts\": 6, \"struggle_ratio\": 0.00031204493447056374}, {\"periodical_name\": \"Black Panther\", \"cleaned_issue_date\": \"1971-06-19T00:00:00\", \"tokenized_length\": 19862, \"struggle_counts\": 7, \"struggle_ratio\": 0.00035243177927701136}, {\"periodical_name\": \"Black Panther\", \"cleaned_issue_date\": \"1971-06-26T00:00:00\", \"tokenized_length\": 17540, \"struggle_counts\": 19, \"struggle_ratio\": 0.0010832383124287344}, {\"periodical_name\": \"Black Panther\", \"cleaned_issue_date\": \"1971-07-03T00:00:00\", \"tokenized_length\": 16565, \"struggle_counts\": 12, \"struggle_ratio\": 0.000724418955629339}, {\"periodical_name\": \"Black Panther\", \"cleaned_issue_date\": \"1971-07-10T00:00:00\", \"tokenized_length\": 13034, \"struggle_counts\": 7, \"struggle_ratio\": 0.0005370569280343716}, {\"periodical_name\": \"Black Panther\", \"cleaned_issue_date\": \"1971-07-17T00:00:00\", \"tokenized_length\": 16910, \"struggle_counts\": 11, \"struggle_ratio\": 0.0006505026611472502}, {\"periodical_name\": \"Black Panther\", \"cleaned_issue_date\": \"1971-07-24T00:00:00\", \"tokenized_length\": 31216, \"struggle_counts\": 13, \"struggle_ratio\": 0.00041645310097385954}, {\"periodical_name\": \"Black Panther\", \"cleaned_issue_date\": \"1971-07-31T00:00:00\", \"tokenized_length\": 17162, \"struggle_counts\": 4, \"struggle_ratio\": 0.0002330730684069456}, {\"periodical_name\": \"Black Panther\", \"cleaned_issue_date\": \"1971-08-07T00:00:00\", \"tokenized_length\": 13985, \"struggle_counts\": 4, \"struggle_ratio\": 0.0002860207365033965}, {\"periodical_name\": \"Black Panther\", \"cleaned_issue_date\": \"1971-08-14T00:00:00\", \"tokenized_length\": 15183, \"struggle_counts\": 13, \"struggle_ratio\": 0.0008562207732332214}, {\"periodical_name\": \"Black Panther\", \"cleaned_issue_date\": \"1971-08-21T00:00:00\", \"tokenized_length\": 15216, \"struggle_counts\": 16, \"struggle_ratio\": 0.0010515247108307045}, {\"periodical_name\": \"Black Panther\", \"cleaned_issue_date\": \"1971-08-28T00:00:00\", \"tokenized_length\": 14058, \"struggle_counts\": 9, \"struggle_ratio\": 0.0006402048655569782}, {\"periodical_name\": \"Black Panther\", \"cleaned_issue_date\": \"1971-09-04T00:00:00\", \"tokenized_length\": 12367, \"struggle_counts\": 8, \"struggle_ratio\": 0.0006468828333468101}, {\"periodical_name\": \"Black Panther\", \"cleaned_issue_date\": \"1971-09-11T00:00:00\", \"tokenized_length\": 14359, \"struggle_counts\": 17, \"struggle_ratio\": 0.0011839264572741834}, {\"periodical_name\": \"Black Panther\", \"cleaned_issue_date\": \"1971-09-18T00:00:00\", \"tokenized_length\": 13924, \"struggle_counts\": 17, \"struggle_ratio\": 0.0012209135305946567}, {\"periodical_name\": \"Black Panther\", \"cleaned_issue_date\": \"1971-09-25T00:00:00\", \"tokenized_length\": 11945, \"struggle_counts\": 7, \"struggle_ratio\": 0.0005860192549183759}, {\"periodical_name\": \"Black Panther\", \"cleaned_issue_date\": \"1971-10-04T00:00:00\", \"tokenized_length\": 12683, \"struggle_counts\": 22, \"struggle_ratio\": 0.0017346053772766695}, {\"periodical_name\": \"Black Panther\", \"cleaned_issue_date\": \"1971-10-09T00:00:00\", \"tokenized_length\": 9936, \"struggle_counts\": 6, \"struggle_ratio\": 0.0006038647342995169}, {\"periodical_name\": \"Black Panther\", \"cleaned_issue_date\": \"1971-10-16T00:00:00\", \"tokenized_length\": 14771, \"struggle_counts\": 3, \"struggle_ratio\": 0.00020310067023221177}, {\"periodical_name\": \"Black Panther\", \"cleaned_issue_date\": \"1971-10-23T00:00:00\", \"tokenized_length\": 16160, \"struggle_counts\": 11, \"struggle_ratio\": 0.0006806930693069306}, {\"periodical_name\": \"Black Panther\", \"cleaned_issue_date\": \"1971-10-30T00:00:00\", \"tokenized_length\": 13292, \"struggle_counts\": 9, \"struggle_ratio\": 0.0006770990069214565}, {\"periodical_name\": \"Black Panther\", \"cleaned_issue_date\": \"1971-11-06T00:00:00\", \"tokenized_length\": 12349, \"struggle_counts\": 10, \"struggle_ratio\": 0.0008097821685966475}, {\"periodical_name\": \"Black Panther\", \"cleaned_issue_date\": \"1971-11-13T00:00:00\", \"tokenized_length\": 12334, \"struggle_counts\": 6, \"struggle_ratio\": 0.0004864601913410086}, {\"periodical_name\": \"Black Panther\", \"cleaned_issue_date\": \"1971-11-20T00:00:00\", \"tokenized_length\": 13092, \"struggle_counts\": 10, \"struggle_ratio\": 0.0007638252367858234}, {\"periodical_name\": \"Black Panther\", \"cleaned_issue_date\": \"1971-11-29T00:00:00\", \"tokenized_length\": 18790, \"struggle_counts\": 21, \"struggle_ratio\": 0.0011176157530601383}, {\"periodical_name\": \"Black Panther\", \"cleaned_issue_date\": \"1971-12-04T00:00:00\", \"tokenized_length\": 14525, \"struggle_counts\": 23, \"struggle_ratio\": 0.0015834767641996557}, {\"periodical_name\": \"Black Panther\", \"cleaned_issue_date\": \"1971-12-11T00:00:00\", \"tokenized_length\": 14635, \"struggle_counts\": 3, \"struggle_ratio\": 0.00020498804236419543}, {\"periodical_name\": \"Black Panther\", \"cleaned_issue_date\": \"1971-12-18T00:00:00\", \"tokenized_length\": 15146, \"struggle_counts\": 8, \"struggle_ratio\": 0.0005281922619833619}, {\"periodical_name\": \"Black Panther\", \"cleaned_issue_date\": \"1971-12-25T00:00:00\", \"tokenized_length\": 16079, \"struggle_counts\": 29, \"struggle_ratio\": 0.0018035947509173456}, {\"periodical_name\": \"Black Panther\", \"cleaned_issue_date\": \"1972-03-25T00:00:00\", \"tokenized_length\": 14685, \"struggle_counts\": 33, \"struggle_ratio\": 0.0022471910112359553}, {\"periodical_name\": \"Black Panther\", \"cleaned_issue_date\": \"1972-04-01T00:00:00\", \"tokenized_length\": 12242, \"struggle_counts\": 16, \"struggle_ratio\": 0.0013069759843162881}, {\"periodical_name\": \"Black Panther\", \"cleaned_issue_date\": \"1972-04-08T00:00:00\", \"tokenized_length\": 14155, \"struggle_counts\": 11, \"struggle_ratio\": 0.0007771105616389968}, {\"periodical_name\": \"Black Panther\", \"cleaned_issue_date\": \"1972-04-15T00:00:00\", \"tokenized_length\": 14662, \"struggle_counts\": 15, \"struggle_ratio\": 0.0010230527895239395}, {\"periodical_name\": \"Black Panther\", \"cleaned_issue_date\": \"1972-04-22T00:00:00\", \"tokenized_length\": 13958, \"struggle_counts\": 24, \"struggle_ratio\": 0.0017194440464249892}, {\"periodical_name\": \"Black Panther\", \"cleaned_issue_date\": \"1972-04-29T00:00:00\", \"tokenized_length\": 13647, \"struggle_counts\": 9, \"struggle_ratio\": 0.0006594856012310398}, {\"periodical_name\": \"Black Panther\", \"cleaned_issue_date\": \"1972-05-06T00:00:00\", \"tokenized_length\": 12875, \"struggle_counts\": 2, \"struggle_ratio\": 0.0001553398058252427}, {\"periodical_name\": \"Black Panther\", \"cleaned_issue_date\": \"1972-05-13T00:00:00\", \"tokenized_length\": 13602, \"struggle_counts\": 9, \"struggle_ratio\": 0.0006616674018526688}, {\"periodical_name\": \"Black Panther\", \"cleaned_issue_date\": \"1972-05-20T00:00:00\", \"tokenized_length\": 10336, \"struggle_counts\": 12, \"struggle_ratio\": 0.0011609907120743034}, {\"periodical_name\": \"Black Panther\", \"cleaned_issue_date\": \"1972-05-27T00:00:00\", \"tokenized_length\": 13288, \"struggle_counts\": 6, \"struggle_ratio\": 0.0004515352197471403}, {\"periodical_name\": \"Black Panther\", \"cleaned_issue_date\": \"1972-06-03T00:00:00\", \"tokenized_length\": 11489, \"struggle_counts\": 23, \"struggle_ratio\": 0.00200191487509792}, {\"periodical_name\": \"Black Panther\", \"cleaned_issue_date\": \"1972-06-10T00:00:00\", \"tokenized_length\": 12992, \"struggle_counts\": 2, \"struggle_ratio\": 0.0001539408866995074}, {\"periodical_name\": \"Black Panther\", \"cleaned_issue_date\": \"1972-06-17T00:00:00\", \"tokenized_length\": 12382, \"struggle_counts\": 3, \"struggle_ratio\": 0.00024228719108383137}, {\"periodical_name\": \"Black Panther\", \"cleaned_issue_date\": \"1972-06-24T00:00:00\", \"tokenized_length\": 13302, \"struggle_counts\": 10, \"struggle_ratio\": 0.0007517666516313336}, {\"periodical_name\": \"Black Panther\", \"cleaned_issue_date\": \"1972-07-01T00:00:00\", \"tokenized_length\": 10997, \"struggle_counts\": 16, \"struggle_ratio\": 0.001454942256979176}, {\"periodical_name\": \"Black Panther\", \"cleaned_issue_date\": \"1972-07-08T00:00:00\", \"tokenized_length\": 12011, \"struggle_counts\": 20, \"struggle_ratio\": 0.00166514028806927}, {\"periodical_name\": \"Black Panther\", \"cleaned_issue_date\": \"1972-07-15T00:00:00\", \"tokenized_length\": 13544, \"struggle_counts\": 6, \"struggle_ratio\": 0.0004430005906674542}, {\"periodical_name\": \"Black Panther\", \"cleaned_issue_date\": \"1972-07-22T00:00:00\", \"tokenized_length\": 13444, \"struggle_counts\": 6, \"struggle_ratio\": 0.0004462957453138947}, {\"periodical_name\": \"Black Panther\", \"cleaned_issue_date\": \"1972-07-29T00:00:00\", \"tokenized_length\": 10719, \"struggle_counts\": 11, \"struggle_ratio\": 0.001026215132008583}, {\"periodical_name\": \"Black Panther\", \"cleaned_issue_date\": \"1972-08-05T00:00:00\", \"tokenized_length\": 10609, \"struggle_counts\": 5, \"struggle_ratio\": 0.0004712979545668772}, {\"periodical_name\": \"Black Panther\", \"cleaned_issue_date\": \"1972-08-12T00:00:00\", \"tokenized_length\": 9021, \"struggle_counts\": 4, \"struggle_ratio\": 0.00044340982152754686}, {\"periodical_name\": \"Black Panther\", \"cleaned_issue_date\": \"1972-08-19T00:00:00\", \"tokenized_length\": 12523, \"struggle_counts\": 7, \"struggle_ratio\": 0.0005589714924538849}, {\"periodical_name\": \"Black Panther\", \"cleaned_issue_date\": \"1972-08-23T00:00:00\", \"tokenized_length\": 10287, \"struggle_counts\": 3, \"struggle_ratio\": 0.00029163021289005544}, {\"periodical_name\": \"Black Panther\", \"cleaned_issue_date\": \"1972-09-02T00:00:00\", \"tokenized_length\": 10170, \"struggle_counts\": 8, \"struggle_ratio\": 0.0007866273352999017}, {\"periodical_name\": \"Black Panther\", \"cleaned_issue_date\": \"1972-09-09T00:00:00\", \"tokenized_length\": 10378, \"struggle_counts\": 7, \"struggle_ratio\": 0.0006745037579495086}, {\"periodical_name\": \"Black Panther\", \"cleaned_issue_date\": \"1972-09-16T00:00:00\", \"tokenized_length\": 11342, \"struggle_counts\": 6, \"struggle_ratio\": 0.0005290072297654734}, {\"periodical_name\": \"Black Panther\", \"cleaned_issue_date\": \"1972-09-23T00:00:00\", \"tokenized_length\": 13765, \"struggle_counts\": 10, \"struggle_ratio\": 0.000726480203414457}, {\"periodical_name\": \"Black Panther\", \"cleaned_issue_date\": \"1972-09-30T00:00:00\", \"tokenized_length\": 13255, \"struggle_counts\": 5, \"struggle_ratio\": 0.0003772161448509996}, {\"periodical_name\": \"Black Panther\", \"cleaned_issue_date\": \"1972-10-07T00:00:00\", \"tokenized_length\": 10938, \"struggle_counts\": 2, \"struggle_ratio\": 0.00018284878405558602}, {\"periodical_name\": \"Black Panther\", \"cleaned_issue_date\": \"1972-10-14T00:00:00\", \"tokenized_length\": 11669, \"struggle_counts\": 8, \"struggle_ratio\": 0.0006855771702802296}, {\"periodical_name\": \"Black Panther\", \"cleaned_issue_date\": \"1972-10-21T00:00:00\", \"tokenized_length\": 13975, \"struggle_counts\": 5, \"struggle_ratio\": 0.00035778175313059033}, {\"periodical_name\": \"Black Panther\", \"cleaned_issue_date\": \"1972-10-28T00:00:00\", \"tokenized_length\": 14396, \"struggle_counts\": 5, \"struggle_ratio\": 0.0003473186996387886}, {\"periodical_name\": \"Black Panther\", \"cleaned_issue_date\": \"1972-11-04T00:00:00\", \"tokenized_length\": 11381, \"struggle_counts\": 7, \"struggle_ratio\": 0.0006150601880326861}, {\"periodical_name\": \"Black Panther\", \"cleaned_issue_date\": \"1972-11-09T00:00:00\", \"tokenized_length\": 14955, \"struggle_counts\": 6, \"struggle_ratio\": 0.00040120361083249747}, {\"periodical_name\": \"Black Panther\", \"cleaned_issue_date\": \"1972-11-16T00:00:00\", \"tokenized_length\": 12492, \"struggle_counts\": 17, \"struggle_ratio\": 0.001360870957412744}, {\"periodical_name\": \"Black Panther\", \"cleaned_issue_date\": \"1972-11-23T00:00:00\", \"tokenized_length\": 12579, \"struggle_counts\": 18, \"struggle_ratio\": 0.0014309563558311473}, {\"periodical_name\": \"Black Panther\", \"cleaned_issue_date\": \"1972-11-30T00:00:00\", \"tokenized_length\": 11535, \"struggle_counts\": 13, \"struggle_ratio\": 0.0011270047680970957}, {\"periodical_name\": \"Black Panther\", \"cleaned_issue_date\": \"1972-12-07T00:00:00\", \"tokenized_length\": 9107, \"struggle_counts\": 17, \"struggle_ratio\": 0.001866695948171736}, {\"periodical_name\": \"Black Panther\", \"cleaned_issue_date\": \"1972-12-16T00:00:00\", \"tokenized_length\": 11062, \"struggle_counts\": 8, \"struggle_ratio\": 0.0007231965286566625}, {\"periodical_name\": \"Black Panther\", \"cleaned_issue_date\": \"1972-12-23T00:00:00\", \"tokenized_length\": 11447, \"struggle_counts\": 11, \"struggle_ratio\": 0.0009609504673713636}, {\"periodical_name\": \"Black Panther\", \"cleaned_issue_date\": \"1972-12-30T00:00:00\", \"tokenized_length\": 10523, \"struggle_counts\": 8, \"struggle_ratio\": 0.000760239475434762}, {\"periodical_name\": \"Black Panther\", \"cleaned_issue_date\": \"1973-05-19T00:00:00\", \"tokenized_length\": 14389, \"struggle_counts\": 11, \"struggle_ratio\": 0.0007644728612134269}, {\"periodical_name\": \"Black Panther\", \"cleaned_issue_date\": \"1973-05-26T00:00:00\", \"tokenized_length\": 13371, \"struggle_counts\": 4, \"struggle_ratio\": 0.0002991548874429736}, {\"periodical_name\": \"Black Panther\", \"cleaned_issue_date\": \"1973-06-02T00:00:00\", \"tokenized_length\": 13294, \"struggle_counts\": 6, \"struggle_ratio\": 0.00045133142771174966}, {\"periodical_name\": \"Black Panther\", \"cleaned_issue_date\": \"1973-06-09T00:00:00\", \"tokenized_length\": 18125, \"struggle_counts\": 6, \"struggle_ratio\": 0.0003310344827586207}, {\"periodical_name\": \"Black Panther\", \"cleaned_issue_date\": \"1973-06-16T00:00:00\", \"tokenized_length\": 18950, \"struggle_counts\": 13, \"struggle_ratio\": 0.0006860158311345646}, {\"periodical_name\": \"Black Panther\", \"cleaned_issue_date\": \"1973-06-23T00:00:00\", \"tokenized_length\": 18236, \"struggle_counts\": 12, \"struggle_ratio\": 0.0006580390436499232}, {\"periodical_name\": \"Black Panther\", \"cleaned_issue_date\": \"1973-06-30T00:00:00\", \"tokenized_length\": 19423, \"struggle_counts\": 9, \"struggle_ratio\": 0.00046336817175513564}, {\"periodical_name\": \"Black Panther\", \"cleaned_issue_date\": \"1973-07-07T00:00:00\", \"tokenized_length\": 19335, \"struggle_counts\": 14, \"struggle_ratio\": 0.0007240755107318335}, {\"periodical_name\": \"Black Panther\", \"cleaned_issue_date\": \"1973-07-14T00:00:00\", \"tokenized_length\": 18325, \"struggle_counts\": 6, \"struggle_ratio\": 0.00032742155525238747}, {\"periodical_name\": \"Black Panther\", \"cleaned_issue_date\": \"1973-07-21T00:00:00\", \"tokenized_length\": 16644, \"struggle_counts\": 6, \"struggle_ratio\": 0.0003604902667627974}, {\"periodical_name\": \"Black Panther\", \"cleaned_issue_date\": \"1973-07-28T00:00:00\", \"tokenized_length\": 18244, \"struggle_counts\": 10, \"struggle_ratio\": 0.0005481254110940583}, {\"periodical_name\": \"Black Panther\", \"cleaned_issue_date\": \"1973-08-04T00:00:00\", \"tokenized_length\": 18087, \"struggle_counts\": 10, \"struggle_ratio\": 0.000552883286338254}, {\"periodical_name\": \"Black Panther\", \"cleaned_issue_date\": \"1973-08-11T00:00:00\", \"tokenized_length\": 17200, \"struggle_counts\": 8, \"struggle_ratio\": 0.00046511627906976747}, {\"periodical_name\": \"Black Panther\", \"cleaned_issue_date\": \"1973-08-18T00:00:00\", \"tokenized_length\": 18220, \"struggle_counts\": 9, \"struggle_ratio\": 0.0004939626783754116}, {\"periodical_name\": \"Black Panther\", \"cleaned_issue_date\": \"1973-08-25T00:00:00\", \"tokenized_length\": 17831, \"struggle_counts\": 6, \"struggle_ratio\": 0.00033649262520329764}, {\"periodical_name\": \"Black Panther\", \"cleaned_issue_date\": \"1973-09-01T00:00:00\", \"tokenized_length\": 15237, \"struggle_counts\": 2, \"struggle_ratio\": 0.0001312594342718383}, {\"periodical_name\": \"Black Panther\", \"cleaned_issue_date\": \"1973-09-08T00:00:00\", \"tokenized_length\": 17159, \"struggle_counts\": 3, \"struggle_ratio\": 0.00017483536336616352}, {\"periodical_name\": \"Black Panther\", \"cleaned_issue_date\": \"1973-09-15T00:00:00\", \"tokenized_length\": 17886, \"struggle_counts\": 4, \"struggle_ratio\": 0.00022363860002236387}, {\"periodical_name\": \"Black Panther\", \"cleaned_issue_date\": \"1973-09-22T00:00:00\", \"tokenized_length\": 16102, \"struggle_counts\": 16, \"struggle_ratio\": 0.0009936653831822133}, {\"periodical_name\": \"Black Panther\", \"cleaned_issue_date\": \"1973-09-29T00:00:00\", \"tokenized_length\": 18012, \"struggle_counts\": 8, \"struggle_ratio\": 0.00044414834554741284}, {\"periodical_name\": \"Black Panther\", \"cleaned_issue_date\": \"1973-10-13T00:00:00\", \"tokenized_length\": 17241, \"struggle_counts\": 10, \"struggle_ratio\": 0.0005800127602807262}, {\"periodical_name\": \"Black Panther\", \"cleaned_issue_date\": \"1973-10-20T00:00:00\", \"tokenized_length\": 14510, \"struggle_counts\": 7, \"struggle_ratio\": 0.0004824259131633356}, {\"periodical_name\": \"Black Panther\", \"cleaned_issue_date\": \"1973-10-27T00:00:00\", \"tokenized_length\": 17803, \"struggle_counts\": 8, \"struggle_ratio\": 0.00044936246699994384}, {\"periodical_name\": \"Black Panther\", \"cleaned_issue_date\": \"1973-11-03T00:00:00\", \"tokenized_length\": 17365, \"struggle_counts\": 5, \"struggle_ratio\": 0.00028793550244745177}, {\"periodical_name\": \"Black Panther\", \"cleaned_issue_date\": \"1973-11-10T00:00:00\", \"tokenized_length\": 24515, \"struggle_counts\": 12, \"struggle_ratio\": 0.0004894962267999184}, {\"periodical_name\": \"Black Panther\", \"cleaned_issue_date\": \"1973-11-17T00:00:00\", \"tokenized_length\": 24892, \"struggle_counts\": 9, \"struggle_ratio\": 0.00036156194761369117}, {\"periodical_name\": \"Black Panther\", \"cleaned_issue_date\": \"1973-11-24T00:00:00\", \"tokenized_length\": 24589, \"struggle_counts\": 10, \"struggle_ratio\": 0.00040668591646671274}, {\"periodical_name\": \"Black Panther\", \"cleaned_issue_date\": \"1973-12-08T00:00:00\", \"tokenized_length\": 23413, \"struggle_counts\": 7, \"struggle_ratio\": 0.0002989791995899714}, {\"periodical_name\": \"Black Panther\", \"cleaned_issue_date\": \"1974-01-04T00:00:00\", \"tokenized_length\": 27245, \"struggle_counts\": 11, \"struggle_ratio\": 0.000403743806202973}, {\"periodical_name\": \"Black Panther\", \"cleaned_issue_date\": \"1974-01-05T00:00:00\", \"tokenized_length\": 26036, \"struggle_counts\": 19, \"struggle_ratio\": 0.0007297587955139038}, {\"periodical_name\": \"Black Panther\", \"cleaned_issue_date\": \"1974-01-11T00:00:00\", \"tokenized_length\": 25597, \"struggle_counts\": 16, \"struggle_ratio\": 0.0006250732507715748}, {\"periodical_name\": \"Black Panther\", \"cleaned_issue_date\": \"1974-01-12T00:00:00\", \"tokenized_length\": 26117, \"struggle_counts\": 22, \"struggle_ratio\": 0.0008423632117011908}, {\"periodical_name\": \"Black Panther\", \"cleaned_issue_date\": \"1974-01-18T00:00:00\", \"tokenized_length\": 25644, \"struggle_counts\": 14, \"struggle_ratio\": 0.0005459366713461239}, {\"periodical_name\": \"Black Panther\", \"cleaned_issue_date\": \"1974-01-19T00:00:00\", \"tokenized_length\": 22046, \"struggle_counts\": 12, \"struggle_ratio\": 0.0005443164292842239}, {\"periodical_name\": \"Black Panther\", \"cleaned_issue_date\": \"1974-01-25T00:00:00\", \"tokenized_length\": 25591, \"struggle_counts\": 8, \"struggle_ratio\": 0.0003126099019186433}, {\"periodical_name\": \"Black Panther\", \"cleaned_issue_date\": \"1974-01-26T00:00:00\", \"tokenized_length\": 23751, \"struggle_counts\": 10, \"struggle_ratio\": 0.0004210349037935245}, {\"periodical_name\": \"Black Panther\", \"cleaned_issue_date\": \"1974-02-01T00:00:00\", \"tokenized_length\": 24742, \"struggle_counts\": 21, \"struggle_ratio\": 0.000848759194891278}, {\"periodical_name\": \"Black Panther\", \"cleaned_issue_date\": \"1974-02-02T00:00:00\", \"tokenized_length\": 23054, \"struggle_counts\": 11, \"struggle_ratio\": 0.00047714062635551317}, {\"periodical_name\": \"Black Panther\", \"cleaned_issue_date\": \"1974-02-09T00:00:00\", \"tokenized_length\": 25936, \"struggle_counts\": 6, \"struggle_ratio\": 0.0002313386798272671}, {\"periodical_name\": \"Black Panther\", \"cleaned_issue_date\": \"1974-02-15T00:00:00\", \"tokenized_length\": 22313, \"struggle_counts\": 22, \"struggle_ratio\": 0.0009859723031416664}, {\"periodical_name\": \"Black Panther\", \"cleaned_issue_date\": \"1974-02-16T00:00:00\", \"tokenized_length\": 24939, \"struggle_counts\": 16, \"struggle_ratio\": 0.0006415654196238823}, {\"periodical_name\": \"Black Panther\", \"cleaned_issue_date\": \"1974-02-23T00:00:00\", \"tokenized_length\": 27169, \"struggle_counts\": 25, \"struggle_ratio\": 0.000920166366078987}, {\"periodical_name\": \"Black Panther\", \"cleaned_issue_date\": \"1974-03-02T00:00:00\", \"tokenized_length\": 27340, \"struggle_counts\": 26, \"struggle_ratio\": 0.0009509875640087783}, {\"periodical_name\": \"Black Panther\", \"cleaned_issue_date\": \"1974-03-09T00:00:00\", \"tokenized_length\": 26819, \"struggle_counts\": 26, \"struggle_ratio\": 0.0009694619486185168}, {\"periodical_name\": \"Black Panther\", \"cleaned_issue_date\": \"1974-03-16T00:00:00\", \"tokenized_length\": 24256, \"struggle_counts\": 14, \"struggle_ratio\": 0.0005771767810026385}, {\"periodical_name\": \"Black Panther\", \"cleaned_issue_date\": \"1974-03-23T00:00:00\", \"tokenized_length\": 24256, \"struggle_counts\": 14, \"struggle_ratio\": 0.0005771767810026385}, {\"periodical_name\": \"Black Panther\", \"cleaned_issue_date\": \"1974-03-30T00:00:00\", \"tokenized_length\": 21401, \"struggle_counts\": 12, \"struggle_ratio\": 0.0005607214616139433}, {\"periodical_name\": \"Black Panther\", \"cleaned_issue_date\": \"1974-04-06T00:00:00\", \"tokenized_length\": 27153, \"struggle_counts\": 13, \"struggle_ratio\": 0.0004787684602069753}, {\"periodical_name\": \"Black Panther\", \"cleaned_issue_date\": \"1974-04-13T00:00:00\", \"tokenized_length\": 24213, \"struggle_counts\": 14, \"struggle_ratio\": 0.0005782017924255566}, {\"periodical_name\": \"Black Panther\", \"cleaned_issue_date\": \"1974-04-20T00:00:00\", \"tokenized_length\": 27421, \"struggle_counts\": 5, \"struggle_ratio\": 0.0001823420006564312}, {\"periodical_name\": \"Black Panther\", \"cleaned_issue_date\": \"1974-04-27T00:00:00\", \"tokenized_length\": 26912, \"struggle_counts\": 7, \"struggle_ratio\": 0.00026010701545778835}, {\"periodical_name\": \"Black Panther\", \"cleaned_issue_date\": \"1974-05-04T00:00:00\", \"tokenized_length\": 24781, \"struggle_counts\": 6, \"struggle_ratio\": 0.0002421209797828982}, {\"periodical_name\": \"Black Panther\", \"cleaned_issue_date\": \"1974-05-11T00:00:00\", \"tokenized_length\": 26455, \"struggle_counts\": 14, \"struggle_ratio\": 0.0005292005292005292}, {\"periodical_name\": \"Black Panther\", \"cleaned_issue_date\": \"1974-05-18T00:00:00\", \"tokenized_length\": 27340, \"struggle_counts\": 18, \"struggle_ratio\": 0.0006583760058522311}, {\"periodical_name\": \"Black Panther\", \"cleaned_issue_date\": \"1974-05-25T00:00:00\", \"tokenized_length\": 25979, \"struggle_counts\": 31, \"struggle_ratio\": 0.0011932714885099502}, {\"periodical_name\": \"Black Panther\", \"cleaned_issue_date\": \"1974-06-08T00:00:00\", \"tokenized_length\": 26386, \"struggle_counts\": 21, \"struggle_ratio\": 0.0007958766012279239}, {\"periodical_name\": \"Black Panther\", \"cleaned_issue_date\": \"1974-06-15T00:00:00\", \"tokenized_length\": 25922, \"struggle_counts\": 20, \"struggle_ratio\": 0.0007715454054471106}, {\"periodical_name\": \"Black Panther\", \"cleaned_issue_date\": \"1974-06-29T00:00:00\", \"tokenized_length\": 23807, \"struggle_counts\": 11, \"struggle_ratio\": 0.0004620489771915823}, {\"periodical_name\": \"Black Panther\", \"cleaned_issue_date\": \"1974-07-06T00:00:00\", \"tokenized_length\": 26056, \"struggle_counts\": 20, \"struggle_ratio\": 0.0007675775253300583}, {\"periodical_name\": \"Black Panther\", \"cleaned_issue_date\": \"1974-07-13T00:00:00\", \"tokenized_length\": 27006, \"struggle_counts\": 10, \"struggle_ratio\": 0.00037028808412945273}, {\"periodical_name\": \"Black Panther\", \"cleaned_issue_date\": \"1974-07-20T00:00:00\", \"tokenized_length\": 26478, \"struggle_counts\": 14, \"struggle_ratio\": 0.0005287408414532819}, {\"periodical_name\": \"Black Panther\", \"cleaned_issue_date\": \"1974-08-03T00:00:00\", \"tokenized_length\": 25514, \"struggle_counts\": 6, \"struggle_ratio\": 0.00023516500744689191}, {\"periodical_name\": \"Black Panther\", \"cleaned_issue_date\": \"1974-08-10T00:00:00\", \"tokenized_length\": 25708, \"struggle_counts\": 7, \"struggle_ratio\": 0.0002722887817021939}, {\"periodical_name\": \"Black Panther\", \"cleaned_issue_date\": \"1974-08-17T00:00:00\", \"tokenized_length\": 27034, \"struggle_counts\": 14, \"struggle_ratio\": 0.0005178663904712584}, {\"periodical_name\": \"Black Panther\", \"cleaned_issue_date\": \"1974-08-24T00:00:00\", \"tokenized_length\": 28236, \"struggle_counts\": 6, \"struggle_ratio\": 0.00021249468763280918}, {\"periodical_name\": \"Black Panther\", \"cleaned_issue_date\": \"1974-08-31T00:00:00\", \"tokenized_length\": 24397, \"struggle_counts\": 3, \"struggle_ratio\": 0.0001229659384350535}, {\"periodical_name\": \"Black Panther\", \"cleaned_issue_date\": \"1974-09-07T00:00:00\", \"tokenized_length\": 24949, \"struggle_counts\": 9, \"struggle_ratio\": 0.0003607359012385266}, {\"periodical_name\": \"Black Panther\", \"cleaned_issue_date\": \"1974-09-14T00:00:00\", \"tokenized_length\": 23093, \"struggle_counts\": 12, \"struggle_ratio\": 0.0005196379855367427}, {\"periodical_name\": \"Black Panther\", \"cleaned_issue_date\": \"1974-09-21T00:00:00\", \"tokenized_length\": 27054, \"struggle_counts\": 12, \"struggle_ratio\": 0.00044355732978487467}, {\"periodical_name\": \"Black Panther\", \"cleaned_issue_date\": \"1974-09-28T00:00:00\", \"tokenized_length\": 26396, \"struggle_counts\": 20, \"struggle_ratio\": 0.0007576905591756327}, {\"periodical_name\": \"Black Panther\", \"cleaned_issue_date\": \"1974-10-05T00:00:00\", \"tokenized_length\": 26612, \"struggle_counts\": 13, \"struggle_ratio\": 0.0004885014279272508}, {\"periodical_name\": \"Black Panther\", \"cleaned_issue_date\": \"1974-10-12T00:00:00\", \"tokenized_length\": 22427, \"struggle_counts\": 14, \"struggle_ratio\": 0.0006242475587461541}, {\"periodical_name\": \"Black Panther\", \"cleaned_issue_date\": \"1974-10-19T00:00:00\", \"tokenized_length\": 25484, \"struggle_counts\": 10, \"struggle_ratio\": 0.0003924030764401193}, {\"periodical_name\": \"Black Panther\", \"cleaned_issue_date\": \"1974-10-26T00:00:00\", \"tokenized_length\": 27025, \"struggle_counts\": 12, \"struggle_ratio\": 0.0004440333024976873}, {\"periodical_name\": \"Black Panther\", \"cleaned_issue_date\": \"1974-11-02T00:00:00\", \"tokenized_length\": 25996, \"struggle_counts\": 17, \"struggle_ratio\": 0.00065394676104016}, {\"periodical_name\": \"Black Panther\", \"cleaned_issue_date\": \"1974-11-09T00:00:00\", \"tokenized_length\": 23632, \"struggle_counts\": 15, \"struggle_ratio\": 0.0006347325660121868}, {\"periodical_name\": \"Black Panther\", \"cleaned_issue_date\": \"1974-11-16T00:00:00\", \"tokenized_length\": 24800, \"struggle_counts\": 9, \"struggle_ratio\": 0.00036290322580645164}, {\"periodical_name\": \"Black Panther\", \"cleaned_issue_date\": \"1974-11-23T00:00:00\", \"tokenized_length\": 26401, \"struggle_counts\": 22, \"struggle_ratio\": 0.0008333017688723912}, {\"periodical_name\": \"Black Panther\", \"cleaned_issue_date\": \"1974-11-30T00:00:00\", \"tokenized_length\": 26456, \"struggle_counts\": 18, \"struggle_ratio\": 0.000680374962201391}, {\"periodical_name\": \"Black Panther\", \"cleaned_issue_date\": \"1974-12-07T00:00:00\", \"tokenized_length\": 26594, \"struggle_counts\": 28, \"struggle_ratio\": 0.0010528690682108746}, {\"periodical_name\": \"Black Panther\", \"cleaned_issue_date\": \"1974-12-14T00:00:00\", \"tokenized_length\": 24767, \"struggle_counts\": 12, \"struggle_ratio\": 0.0004845156861953406}, {\"periodical_name\": \"Black Panther\", \"cleaned_issue_date\": \"1974-12-21T00:00:00\", \"tokenized_length\": 25849, \"struggle_counts\": 9, \"struggle_ratio\": 0.0003481759449108283}, {\"periodical_name\": \"Black Panther\", \"cleaned_issue_date\": \"1974-12-28T00:00:00\", \"tokenized_length\": 24528, \"struggle_counts\": 12, \"struggle_ratio\": 0.0004892367906066536}, {\"periodical_name\": \"Black Panther\", \"cleaned_issue_date\": \"1975-02-01T00:00:00\", \"tokenized_length\": 25266, \"struggle_counts\": 18, \"struggle_ratio\": 0.0007124198527665638}, {\"periodical_name\": \"Black Panther\", \"cleaned_issue_date\": \"1975-03-01T00:00:00\", \"tokenized_length\": 26105, \"struggle_counts\": 20, \"struggle_ratio\": 0.0007661367554108408}, {\"periodical_name\": \"Black Panther\", \"cleaned_issue_date\": \"1975-03-08T00:00:00\", \"tokenized_length\": 27216, \"struggle_counts\": 22, \"struggle_ratio\": 0.0008083480305702528}, {\"periodical_name\": \"Black Panther\", \"cleaned_issue_date\": \"1975-03-15T00:00:00\", \"tokenized_length\": 31227, \"struggle_counts\": 31, \"struggle_ratio\": 0.000992730649758222}, {\"periodical_name\": \"Black Panther\", \"cleaned_issue_date\": \"1975-03-22T00:00:00\", \"tokenized_length\": 25531, \"struggle_counts\": 9, \"struggle_ratio\": 0.00035251263170263603}, {\"periodical_name\": \"Black Panther\", \"cleaned_issue_date\": \"1975-03-29T00:00:00\", \"tokenized_length\": 30783, \"struggle_counts\": 16, \"struggle_ratio\": 0.0005197674040866712}, {\"periodical_name\": \"Black Panther\", \"cleaned_issue_date\": \"1975-04-05T00:00:00\", \"tokenized_length\": 30903, \"struggle_counts\": 12, \"struggle_ratio\": 0.00038831181438695275}, {\"periodical_name\": \"Black Panther\", \"cleaned_issue_date\": \"1975-04-10T00:00:00\", \"tokenized_length\": 15277, \"struggle_counts\": 4, \"struggle_ratio\": 0.0002618315114223997}, {\"periodical_name\": \"Black Panther\", \"cleaned_issue_date\": \"1975-04-12T00:00:00\", \"tokenized_length\": 29963, \"struggle_counts\": 29, \"struggle_ratio\": 0.0009678603611120381}, {\"periodical_name\": \"Black Panther\", \"cleaned_issue_date\": \"1975-04-28T00:00:00\", \"tokenized_length\": 31884, \"struggle_counts\": 21, \"struggle_ratio\": 0.0006586375611592021}, {\"periodical_name\": \"Black Panther\", \"cleaned_issue_date\": \"1975-05-05T00:00:00\", \"tokenized_length\": 27313, \"struggle_counts\": 9, \"struggle_ratio\": 0.0003295134185186541}, {\"periodical_name\": \"Black Panther\", \"cleaned_issue_date\": \"1975-05-12T00:00:00\", \"tokenized_length\": 27628, \"struggle_counts\": 10, \"struggle_ratio\": 0.0003619516432604604}, {\"periodical_name\": \"Black Panther\", \"cleaned_issue_date\": \"1975-05-19T00:00:00\", \"tokenized_length\": 26611, \"struggle_counts\": 11, \"struggle_ratio\": 0.0004133628950434031}, {\"periodical_name\": \"Black Panther\", \"cleaned_issue_date\": \"1975-05-26T00:00:00\", \"tokenized_length\": 30001, \"struggle_counts\": 25, \"struggle_ratio\": 0.0008333055564814507}, {\"periodical_name\": \"Black Panther\", \"cleaned_issue_date\": \"1975-06-02T00:00:00\", \"tokenized_length\": 28167, \"struggle_counts\": 19, \"struggle_ratio\": 0.0006745482301984592}, {\"periodical_name\": \"Black Panther\", \"cleaned_issue_date\": \"1975-06-09T00:00:00\", \"tokenized_length\": 29204, \"struggle_counts\": 27, \"struggle_ratio\": 0.0009245308861799753}, {\"periodical_name\": \"Black Panther\", \"cleaned_issue_date\": \"1975-06-16T00:00:00\", \"tokenized_length\": 30631, \"struggle_counts\": 18, \"struggle_ratio\": 0.0005876399725768013}, {\"periodical_name\": \"Black Panther\", \"cleaned_issue_date\": \"1975-06-23T00:00:00\", \"tokenized_length\": 28821, \"struggle_counts\": 40, \"struggle_ratio\": 0.0013878768953193852}, {\"periodical_name\": \"Black Panther\", \"cleaned_issue_date\": \"1975-06-30T00:00:00\", \"tokenized_length\": 28828, \"struggle_counts\": 9, \"struggle_ratio\": 0.0003121964756486749}, {\"periodical_name\": \"Black Panther\", \"cleaned_issue_date\": \"1975-07-07T00:00:00\", \"tokenized_length\": 27566, \"struggle_counts\": 19, \"struggle_ratio\": 0.0006892548791990133}, {\"periodical_name\": \"Black Panther\", \"cleaned_issue_date\": \"1975-07-14T00:00:00\", \"tokenized_length\": 30940, \"struggle_counts\": 33, \"struggle_ratio\": 0.0010665804783451841}, {\"periodical_name\": \"Black Panther\", \"cleaned_issue_date\": \"1975-07-21T00:00:00\", \"tokenized_length\": 29776, \"struggle_counts\": 15, \"struggle_ratio\": 0.0005037614185921548}, {\"periodical_name\": \"Black Panther\", \"cleaned_issue_date\": \"1975-07-28T00:00:00\", \"tokenized_length\": 14888, \"struggle_counts\": 11, \"struggle_ratio\": 0.000738850080601827}, {\"periodical_name\": \"Black Panther\", \"cleaned_issue_date\": \"1975-08-04T00:00:00\", \"tokenized_length\": 30540, \"struggle_counts\": 32, \"struggle_ratio\": 0.0010478061558611656}, {\"periodical_name\": \"Black Panther\", \"cleaned_issue_date\": \"1975-08-11T00:00:00\", \"tokenized_length\": 31072, \"struggle_counts\": 17, \"struggle_ratio\": 0.0005471163748712668}, {\"periodical_name\": \"Black Panther\", \"cleaned_issue_date\": \"1975-08-18T00:00:00\", \"tokenized_length\": 32232, \"struggle_counts\": 44, \"struggle_ratio\": 0.001365103003226607}, {\"periodical_name\": \"Black Panther\", \"cleaned_issue_date\": \"1975-08-25T00:00:00\", \"tokenized_length\": 30421, \"struggle_counts\": 10, \"struggle_ratio\": 0.00032872029190361923}, {\"periodical_name\": \"Black Panther\", \"cleaned_issue_date\": \"1975-09-01T00:00:00\", \"tokenized_length\": 28630, \"struggle_counts\": 12, \"struggle_ratio\": 0.00041914076143904997}, {\"periodical_name\": \"Black Panther\", \"cleaned_issue_date\": \"1975-09-08T00:00:00\", \"tokenized_length\": 30838, \"struggle_counts\": 7, \"struggle_ratio\": 0.00022699267137946688}, {\"periodical_name\": \"Black Panther\", \"cleaned_issue_date\": \"1975-09-15T00:00:00\", \"tokenized_length\": 27499, \"struggle_counts\": 25, \"struggle_ratio\": 0.0009091239681442961}, {\"periodical_name\": \"Black Panther\", \"cleaned_issue_date\": \"1975-09-22T00:00:00\", \"tokenized_length\": 29753, \"struggle_counts\": 10, \"struggle_ratio\": 0.00033610056128793734}, {\"periodical_name\": \"Black Panther\", \"cleaned_issue_date\": \"1975-09-29T00:00:00\", \"tokenized_length\": 30436, \"struggle_counts\": 15, \"struggle_ratio\": 0.0004928374293599685}, {\"periodical_name\": \"Black Panther\", \"cleaned_issue_date\": \"1975-10-06T00:00:00\", \"tokenized_length\": 32069, \"struggle_counts\": 14, \"struggle_ratio\": 0.0004365586703670211}, {\"periodical_name\": \"Black Panther\", \"cleaned_issue_date\": \"1975-10-14T00:00:00\", \"tokenized_length\": 28169, \"struggle_counts\": 19, \"struggle_ratio\": 0.0006745003372501686}, {\"periodical_name\": \"Black Panther\", \"cleaned_issue_date\": \"1975-10-18T00:00:00\", \"tokenized_length\": 31281, \"struggle_counts\": 14, \"struggle_ratio\": 0.0004475560244237716}, {\"periodical_name\": \"Black Panther\", \"cleaned_issue_date\": \"1975-10-25T00:00:00\", \"tokenized_length\": 32791, \"struggle_counts\": 38, \"struggle_ratio\": 0.001158854563752249}, {\"periodical_name\": \"Black Panther\", \"cleaned_issue_date\": \"1975-11-01T00:00:00\", \"tokenized_length\": 27851, \"struggle_counts\": 13, \"struggle_ratio\": 0.0004667695953466662}, {\"periodical_name\": \"Black Panther\", \"cleaned_issue_date\": \"1975-11-15T00:00:00\", \"tokenized_length\": 29573, \"struggle_counts\": 51, \"struggle_ratio\": 0.0017245460386163054}, {\"periodical_name\": \"Black Panther\", \"cleaned_issue_date\": \"1975-11-22T00:00:00\", \"tokenized_length\": 27514, \"struggle_counts\": 9, \"struggle_ratio\": 0.00032710620047975576}, {\"periodical_name\": \"Black Panther\", \"cleaned_issue_date\": \"1975-12-06T00:00:00\", \"tokenized_length\": 32096, \"struggle_counts\": 28, \"struggle_ratio\": 0.000872382851445663}, {\"periodical_name\": \"Black Panther\", \"cleaned_issue_date\": \"1975-12-13T00:00:00\", \"tokenized_length\": 30796, \"struggle_counts\": 20, \"struggle_ratio\": 0.0006494349915573451}, {\"periodical_name\": \"Black Panther\", \"cleaned_issue_date\": \"1975-12-20T00:00:00\", \"tokenized_length\": 26418, \"struggle_counts\": 13, \"struggle_ratio\": 0.000492088727382845}, {\"periodical_name\": \"Black Panther\", \"cleaned_issue_date\": \"1975-12-27T00:00:00\", \"tokenized_length\": 28387, \"struggle_counts\": 20, \"struggle_ratio\": 0.0007045478564131469}, {\"periodical_name\": \"Black Panther\", \"cleaned_issue_date\": \"1976-01-03T00:00:00\", \"tokenized_length\": 30072, \"struggle_counts\": 26, \"struggle_ratio\": 0.0008645916467145518}, {\"periodical_name\": \"Black Panther\", \"cleaned_issue_date\": \"1976-01-10T00:00:00\", \"tokenized_length\": 33744, \"struggle_counts\": 9, \"struggle_ratio\": 0.0002667140825035562}, {\"periodical_name\": \"Black Panther\", \"cleaned_issue_date\": \"1976-01-17T00:00:00\", \"tokenized_length\": 33527, \"struggle_counts\": 23, \"struggle_ratio\": 0.0006860142571658663}, {\"periodical_name\": \"Black Panther\", \"cleaned_issue_date\": \"1976-01-24T00:00:00\", \"tokenized_length\": 29461, \"struggle_counts\": 36, \"struggle_ratio\": 0.0012219544482536234}, {\"periodical_name\": \"Black Panther\", \"cleaned_issue_date\": \"1976-01-31T00:00:00\", \"tokenized_length\": 29400, \"struggle_counts\": 19, \"struggle_ratio\": 0.0006462585034013606}, {\"periodical_name\": \"Black Panther\", \"cleaned_issue_date\": \"1976-02-07T00:00:00\", \"tokenized_length\": 32164, \"struggle_counts\": 26, \"struggle_ratio\": 0.0008083571695062803}, {\"periodical_name\": \"Black Panther\", \"cleaned_issue_date\": \"1976-02-14T00:00:00\", \"tokenized_length\": 29694, \"struggle_counts\": 31, \"struggle_ratio\": 0.0010439819492153296}, {\"periodical_name\": \"Black Panther\", \"cleaned_issue_date\": \"1976-02-21T00:00:00\", \"tokenized_length\": 31720, \"struggle_counts\": 19, \"struggle_ratio\": 0.0005989911727616646}, {\"periodical_name\": \"Black Panther\", \"cleaned_issue_date\": \"1976-02-28T00:00:00\", \"tokenized_length\": 30006, \"struggle_counts\": 29, \"struggle_ratio\": 0.0009664733719922682}, {\"periodical_name\": \"Black Panther\", \"cleaned_issue_date\": \"1976-03-06T00:00:00\", \"tokenized_length\": 27896, \"struggle_counts\": 20, \"struggle_ratio\": 0.0007169486664754804}, {\"periodical_name\": \"Black Panther\", \"cleaned_issue_date\": \"1976-03-13T00:00:00\", \"tokenized_length\": 30382, \"struggle_counts\": 23, \"struggle_ratio\": 0.0007570271871502863}, {\"periodical_name\": \"Black Panther\", \"cleaned_issue_date\": \"1976-03-20T00:00:00\", \"tokenized_length\": 30698, \"struggle_counts\": 13, \"struggle_ratio\": 0.0004234803570265164}, {\"periodical_name\": \"Black Panther\", \"cleaned_issue_date\": \"1976-03-27T00:00:00\", \"tokenized_length\": 30587, \"struggle_counts\": 33, \"struggle_ratio\": 0.001078889724392716}, {\"periodical_name\": \"Black Panther\", \"cleaned_issue_date\": \"1976-04-03T00:00:00\", \"tokenized_length\": 30901, \"struggle_counts\": 30, \"struggle_ratio\": 0.0009708423675609204}, {\"periodical_name\": \"Black Panther\", \"cleaned_issue_date\": \"1976-04-10T00:00:00\", \"tokenized_length\": 30405, \"struggle_counts\": 24, \"struggle_ratio\": 0.0007893438579181056}, {\"periodical_name\": \"Black Panther\", \"cleaned_issue_date\": \"1976-04-17T00:00:00\", \"tokenized_length\": 31155, \"struggle_counts\": 39, \"struggle_ratio\": 0.0012518054886856043}, {\"periodical_name\": \"Black Panther\", \"cleaned_issue_date\": \"1976-04-24T00:00:00\", \"tokenized_length\": 33226, \"struggle_counts\": 24, \"struggle_ratio\": 0.0007223258893637513}, {\"periodical_name\": \"Black Panther\", \"cleaned_issue_date\": \"1976-05-01T00:00:00\", \"tokenized_length\": 31808, \"struggle_counts\": 15, \"struggle_ratio\": 0.000471579476861167}, {\"periodical_name\": \"Black Panther\", \"cleaned_issue_date\": \"1976-05-08T00:00:00\", \"tokenized_length\": 32043, \"struggle_counts\": 19, \"struggle_ratio\": 0.0005929532191118185}, {\"periodical_name\": \"Black Panther\", \"cleaned_issue_date\": \"1976-05-15T00:00:00\", \"tokenized_length\": 32140, \"struggle_counts\": 25, \"struggle_ratio\": 0.0007778469197261979}, {\"periodical_name\": \"Black Panther\", \"cleaned_issue_date\": \"1976-05-22T00:00:00\", \"tokenized_length\": 30585, \"struggle_counts\": 28, \"struggle_ratio\": 0.0009154814451528527}, {\"periodical_name\": \"Black Panther\", \"cleaned_issue_date\": \"1976-05-29T00:00:00\", \"tokenized_length\": 33509, \"struggle_counts\": 27, \"struggle_ratio\": 0.000805753678116327}, {\"periodical_name\": \"Black Panther\", \"cleaned_issue_date\": \"1976-06-05T00:00:00\", \"tokenized_length\": 31976, \"struggle_counts\": 42, \"struggle_ratio\": 0.0013134851138353765}, {\"periodical_name\": \"Black Panther\", \"cleaned_issue_date\": \"1976-06-12T00:00:00\", \"tokenized_length\": 31392, \"struggle_counts\": 43, \"struggle_ratio\": 0.001369775739041794}, {\"periodical_name\": \"Black Panther\", \"cleaned_issue_date\": \"1976-06-19T00:00:00\", \"tokenized_length\": 32316, \"struggle_counts\": 14, \"struggle_ratio\": 0.00043322193340759993}, {\"periodical_name\": \"Black Panther\", \"cleaned_issue_date\": \"1976-06-26T00:00:00\", \"tokenized_length\": 31979, \"struggle_counts\": 40, \"struggle_ratio\": 0.0012508208511835893}, {\"periodical_name\": \"Black Panther\", \"cleaned_issue_date\": \"1976-07-03T00:00:00\", \"tokenized_length\": 32388, \"struggle_counts\": 37, \"struggle_ratio\": 0.001142398419167593}, {\"periodical_name\": \"Black Panther\", \"cleaned_issue_date\": \"1976-07-10T00:00:00\", \"tokenized_length\": 31969, \"struggle_counts\": 19, \"struggle_ratio\": 0.0005943257530732897}, {\"periodical_name\": \"Black Panther\", \"cleaned_issue_date\": \"1976-07-17T00:00:00\", \"tokenized_length\": 31590, \"struggle_counts\": 25, \"struggle_ratio\": 0.0007913896802785691}, {\"periodical_name\": \"Black Panther\", \"cleaned_issue_date\": \"1976-07-24T00:00:00\", \"tokenized_length\": 31226, \"struggle_counts\": 13, \"struggle_ratio\": 0.00041631973355537054}, {\"periodical_name\": \"Black Panther\", \"cleaned_issue_date\": \"1976-08-01T00:00:00\", \"tokenized_length\": 119950, \"struggle_counts\": 89, \"struggle_ratio\": 0.0007419758232596915}, {\"periodical_name\": \"Black Panther\", \"cleaned_issue_date\": \"1976-09-01T00:00:00\", \"tokenized_length\": 121189, \"struggle_counts\": 146, \"struggle_ratio\": 0.0012047298022097716}, {\"periodical_name\": \"Black Panther\", \"cleaned_issue_date\": \"1976-10-01T00:00:00\", \"tokenized_length\": 144952, \"struggle_counts\": 127, \"struggle_ratio\": 0.0008761521055245875}, {\"periodical_name\": \"Black Panther\", \"cleaned_issue_date\": \"1976-11-01T00:00:00\", \"tokenized_length\": 30869, \"struggle_counts\": 24, \"struggle_ratio\": 0.0007774790242638245}]}}, {\"mode\": \"vega-lite\"});\n",
       "</script>"
      ],
      "text/plain": [
       "alt.Chart(...)"
      ]
     },
     "execution_count": 101,
     "metadata": {},
     "output_type": "execute_result"
    }
   ],
   "source": [
    "grouped_df = pd.concat([merged_ao, merged_tb, merged_bp])\n",
    "\n",
    "alt.Chart(grouped_df).mark_bar(size=1).encode(\n",
    "    x='cleaned_issue_date:T',\n",
    "    y='struggle_ratio:Q',\n",
    "    color='periodical_name:N'\n",
    ")"
   ]
  },
  {
   "cell_type": "code",
   "execution_count": 102,
   "metadata": {},
   "outputs": [],
   "source": [
    "tw_ao_df = arab_observer_df[arab_observer_df.text.str.contains('|'.join(revolutionary_terms))]\n",
    "tw_tb_df = tricontinental_bulletin_df[tricontinental_bulletin_df.text.str.contains(\n",
    "    '|'.join(revolutionary_terms))]\n",
    "tw_bp_df = black_panther_df[black_panther_df.text.str.contains('|'.join(revolutionary_terms))]\n"
   ]
  },
  {
   "cell_type": "code",
   "execution_count": 103,
   "metadata": {},
   "outputs": [
    {
     "data": {
      "text/plain": [
       "(1758, 1575, 1439, 3417)"
      ]
     },
     "execution_count": 103,
     "metadata": {},
     "output_type": "execute_result"
    }
   ],
   "source": [
    "len(tw_tb_df), len(tw_ao_df[tw_ao_df.cleaned_issue_date.dt.year >= 1963]), len(tw_ao_df[tw_ao_df.cleaned_issue_date.dt.year <= 1963]) , len(tw_bp_df)\n"
   ]
  },
  {
   "cell_type": "code",
   "execution_count": 104,
   "metadata": {},
   "outputs": [],
   "source": [
    "tw_ao_df = arab_observer_df[arab_observer_df.text.str.contains(\n",
    "    'bloc')]\n",
    "tw_tb_df = tricontinental_bulletin_df[tricontinental_bulletin_df.text.str.contains(\n",
    "    'bloc')]\n",
    "tw_bp_df = black_panther_df[black_panther_df.text.str.contains('bloc')]\n"
   ]
  },
  {
   "cell_type": "code",
   "execution_count": 105,
   "metadata": {},
   "outputs": [
    {
     "data": {
      "text/plain": [
       "(1245, 1410)"
      ]
     },
     "execution_count": 105,
     "metadata": {},
     "output_type": "execute_result"
    }
   ],
   "source": [
    "ao_bloc = arab_observer_df[arab_observer_df.text.str.contains(\n",
    "    'bloc|alignment')]\n",
    "ao_non_bloc  = arab_observer_df[arab_observer_df.text.str.contains(\n",
    "    'bloc|alignment') == False]\n",
    "ao_bloc = ao_bloc[ao_bloc.tokenized_length > 100]\n",
    "ao_non_bloc = ao_non_bloc[ao_non_bloc.tokenized_length > 100].sample(frac=0.15)\n",
    "len(ao_bloc), len(ao_non_bloc)"
   ]
  },
  {
   "cell_type": "code",
   "execution_count": null,
   "metadata": {},
   "outputs": [],
   "source": [
    "tri_rev = tricontinental_bulletin_df[(tricontinental_bulletin_df.text.str.contains('revolution')) & (tricontinental_bulletin_df.tokenized_length > 100)]\n",
    "tri_nonrev = tricontinental_bulletin_df[(tricontinental_bulletin_df.text.str.contains('revolution') == False) & (tricontinental_bulletin_df.tokenized_length > 100)]"
   ]
  },
  {
   "cell_type": "code",
   "execution_count": null,
   "metadata": {
    "notebookRunGroups": {
     "groupValue": "1"
    }
   },
   "outputs": [],
   "source": [
    "tw_tb_df = tw_tb_df[tw_tb_df.tokenized_length > 100]\n",
    "tw_ao_df = tw_ao_df[tw_ao_df.tokenized_length > 100]"
   ]
  },
  {
   "cell_type": "code",
   "execution_count": null,
   "metadata": {},
   "outputs": [],
   "source": [
    "len(tw_ao_df), len(tw_tb_df)"
   ]
  },
  {
   "cell_type": "code",
   "execution_count": null,
   "metadata": {},
   "outputs": [],
   "source": [
    "import warnings\n",
    "warnings.filterwarnings('ignore')"
   ]
  },
  {
   "cell_type": "code",
   "execution_count": null,
   "metadata": {},
   "outputs": [],
   "source": [
    "# tw_ao_df = tw_ao_df[tw_ao_df.cleaned_issue_date.dt.year <= 1963]\n"
   ]
  },
  {
   "cell_type": "code",
   "execution_count": null,
   "metadata": {},
   "outputs": [],
   "source": [
    "ao_bloc['classify'] = 'Contains Non-Aligned Blocs'\n",
    "ao_non_bloc['classify'] = 'Control'\n",
    "tri_rev['classify'] = 'Contains Revolution'\n",
    "tri_nonrev['classify'] = 'Control'"
   ]
  },
  {
   "cell_type": "code",
   "execution_count": null,
   "metadata": {},
   "outputs": [],
   "source": [
    "def create_corpora(first_df, second_df, class_field):\n",
    "    full_tw_df = pd.concat([first_df[['issue', 'page_number', 'text', 'periodical_name', 'cleaned_issue_date', 'classify']], second_df[['issue', 'page_number', 'text', 'periodical_name', 'cleaned_issue_date', 'classify']]], axis=0)\n",
    "    full_tw_df['class_number'] = 0\n",
    "    full_tw_df.loc[full_tw_df.classify == class_field, 'class_number'] = 1\n",
    "    full_tw_df.class_number = full_tw_df.class_number.astype(int)\n",
    "    full_corpus_df = pd.concat([arab_observer_df[arab_observer_df.tokenized_length > 100][['issue', 'page_number', 'text', 'periodical_name']], tricontinental_bulletin_df[tricontinental_bulletin_df.tokenized_length > 100][['issue', 'page_number', 'text', 'periodical_name']]])\n",
    "    return full_tw_df, full_corpus_df"
   ]
  },
  {
   "cell_type": "code",
   "execution_count": null,
   "metadata": {},
   "outputs": [],
   "source": [
    "ao_subset_df, ao_corpus_df = create_corpora(ao_bloc, ao_non_bloc, 'Control')\n",
    "tri_subset_df, tri_corpus_df = create_corpora(tri_rev, tri_nonrev, 'Control')"
   ]
  },
  {
   "cell_type": "code",
   "execution_count": null,
   "metadata": {},
   "outputs": [],
   "source": [
    "\n"
   ]
  },
  {
   "cell_type": "code",
   "execution_count": null,
   "metadata": {},
   "outputs": [],
   "source": [
    "def train_model(df, file_name, full_corpus_df, max_features=1000):\n",
    "    df = shuffle(df)\n",
    "    y = df['class_number']\n",
    "    category_id_df = df[['classify', 'class_number']\n",
    "                        ].drop_duplicates().sort_values('class_number')\n",
    "    category_to_id = dict(category_id_df.values)\n",
    "    id_to_category = dict(category_id_df[['classify', 'class_number']].values)\n",
    "    labels = y\n",
    "    tfidf_model = TfidfVectorizer(max_df=.9, min_df=1, use_idf=True, norm=None, stop_words=stopwords.words(\n",
    "        'english'), ngram_range=(1, 2), max_features=max_features)\n",
    "    features = tfidf_model.fit_transform(df.text.tolist())\n",
    "\n",
    "    features_nd = features.toarray()\n",
    "\n",
    "    training_features, test_features, training_target, test_target = train_test_split(\n",
    "        features_nd[0:len(df['text'])], y, test_size=0.3)\n",
    "    x_train, x_val, y_train, y_val = train_test_split(\n",
    "        training_features, training_target, test_size=0.3, random_state=12)\n",
    "\n",
    "    sm = SMOTE(sampling_strategy='auto')\n",
    "    x_train_res, y_train_res = sm.fit_resample(x_train, y_train)\n",
    "\n",
    "    log_model = LogisticRegression()\n",
    "    log_model = log_model.fit(X=x_train_res, y=y_train_res)\n",
    "    y_pred = log_model.predict(x_val)\n",
    "    print('Validation Results')\n",
    "    print(log_model.score(x_val, y_val))\n",
    "    print(metrics.recall_score(y_val, y_pred, average=None))\n",
    "    print(\"Precision:\", metrics.precision_score(y_val, y_pred, average=None))\n",
    "    print('\\nTest Results')\n",
    "    print(log_model.score(test_features, test_target))\n",
    "    print(metrics.recall_score(test_target,\n",
    "          log_model.predict(test_features), average=None))\n",
    "    print(\"Precision:\", metrics.precision_score(\n",
    "        test_target, log_model.predict(test_features), average=None))\n",
    "    kfold = KFold(n_splits=10, random_state=7, shuffle=True)\n",
    "    scoring = 'accuracy'\n",
    "    results = cross_val_score(log_model, x_train_res,\n",
    "                              y_train_res, scoring='accuracy', cv=kfold)\n",
    "    print(\"10-fold cross validation average accuracy: %.3f\" % (results.mean()))\n",
    "\n",
    "    print(metrics.classification_report(\n",
    "        y_val, y_pred, target_names=df['classify'].unique()))\n",
    "\n",
    "    conf_mat = metrics.confusion_matrix(y_val, y_pred)\n",
    "    print(conf_mat)\n",
    "    fig, ax = plt.subplots(figsize=(10, 10))\n",
    "    sns.heatmap(conf_mat, annot=True, fmt='d',\n",
    "                xticklabels=category_id_df.classify.values, yticklabels=category_id_df.classify.values)\n",
    "    plt.ylabel('Actual')\n",
    "    plt.xlabel('Predicted')\n",
    "    # plt.show()\n",
    "    fig.savefig(file_name + '_confusionmatrix.png')\n",
    "\n",
    "    # Output a pickle file for the model\n",
    "\n",
    "    get_most_informative_features(tfidf_model, log_model, file_name)\n",
    "    classify_corpus(full_corpus_df, tfidf_model, log_model, file_name)\n",
    "    joblib.dump(log_model, file_name+'_saved_logit_model.pkl')\n",
    "    joblib.dump(tfidf_model, file_name+'_saved_tfidf_model.pkl')\n"
   ]
  },
  {
   "cell_type": "code",
   "execution_count": null,
   "metadata": {},
   "outputs": [],
   "source": [
    "# train_model(full_tw_df, '../compute_magazines/models_data/model_large_struggle_no_params', full_corpus_df, max_features=10000)"
   ]
  },
  {
   "cell_type": "code",
   "execution_count": null,
   "metadata": {},
   "outputs": [],
   "source": [
    "train_model(ao_subset_df, '../compute_magazines/models_data/model_large_ao_bloc', ao_corpus_df, max_features=10000)"
   ]
  },
  {
   "cell_type": "code",
   "execution_count": null,
   "metadata": {},
   "outputs": [],
   "source": [
    "train_model(tri_subset_df, '../compute_magazines/models_data/model_large_tri_revolution', tri_corpus_df, max_features=10000)"
   ]
  },
  {
   "cell_type": "code",
   "execution_count": null,
   "metadata": {},
   "outputs": [],
   "source": [
    "tri_features = pd.read_csv('../compute_magazines/models_data/model_large_tri_revolution_features.csv')\n",
    "ao_features = pd.read_csv('../compute_magazines/models_data/model_large_ao_bloc_features.csv')"
   ]
  },
  {
   "cell_type": "code",
   "execution_count": null,
   "metadata": {},
   "outputs": [],
   "source": [
    "ao_bloc_features = ao_features[ao_features.coef_0 < 0][['coef_0', 'feature_0']]\n",
    "ao_bloc_features.columns = ['coef', 'feature']\n",
    "ao_bloc_features['coef'] = ao_bloc_features['coef'].abs()\n",
    "ao_bloc_features = ao_bloc_features.sort_values('coef', ascending=False)\n",
    "ao_nonbloc_features = ao_features[ao_features.coef_1 > 0][[\n",
    "    'coef_1', 'feature_1']]\n",
    "ao_nonbloc_features.columns = ['coef', 'feature']\n",
    "ao_nonbloc_features['coef'] = ao_nonbloc_features['coef'].abs()\n",
    "ao_nonbloc_features = ao_nonbloc_features.sort_values('coef', ascending=False)"
   ]
  },
  {
   "cell_type": "code",
   "execution_count": null,
   "metadata": {},
   "outputs": [],
   "source": [
    "ao_bloc_features.head(10)"
   ]
  },
  {
   "cell_type": "code",
   "execution_count": null,
   "metadata": {},
   "outputs": [],
   "source": [
    "ao_nonbloc_features.head(10)"
   ]
  },
  {
   "cell_type": "code",
   "execution_count": null,
   "metadata": {},
   "outputs": [],
   "source": [
    "tri_rev_features = tri_features[tri_features.coef_0 < 0][['coef_0', 'feature_0']]\n",
    "tri_rev_features.columns = ['coef', 'feature']\n",
    "tri_rev_features['coef'] = tri_rev_features['coef'].abs()\n",
    "tri_rev_features = tri_rev_features.sort_values('coef', ascending=False)\n",
    "tri_nonrev_features = tri_features[tri_features.coef_1 > 0][[\n",
    "    'coef_1', 'feature_1']]\n",
    "tri_nonrev_features.columns = ['coef', 'feature']\n",
    "tri_nonrev_features['coef'] = tri_nonrev_features['coef'].abs()\n",
    "tri_nonrev_features = tri_nonrev_features.sort_values('coef', ascending=False)"
   ]
  },
  {
   "cell_type": "code",
   "execution_count": null,
   "metadata": {},
   "outputs": [],
   "source": [
    "tri_rev_features.head(10)"
   ]
  },
  {
   "cell_type": "code",
   "execution_count": null,
   "metadata": {},
   "outputs": [],
   "source": [
    "freedomways_df = pd.read_csv(\"../annotated_datasets/freedomways_1961_1985_annotated.csv\")"
   ]
  },
  {
   "cell_type": "code",
   "execution_count": null,
   "metadata": {},
   "outputs": [],
   "source": [
    "freedomways_df['cleaned_issue_date'] = pd.to_datetime(freedomways_df['start_issue'], errors='coerce')"
   ]
  },
  {
   "cell_type": "code",
   "execution_count": null,
   "metadata": {},
   "outputs": [],
   "source": [
    "freedomways_df = freedomways_df.rename(columns={'lowercase': 'text'})"
   ]
  },
  {
   "cell_type": "code",
   "execution_count": null,
   "metadata": {},
   "outputs": [],
   "source": [
    "freedomways_df['tokenized_text'] = freedomways_df['text'].apply(lambda x: word_tokenize(x))\n",
    "freedomways_df['tokenized_length'] = freedomways_df['tokenized_text'].str.len()"
   ]
  },
  {
   "cell_type": "code",
   "execution_count": null,
   "metadata": {},
   "outputs": [],
   "source": [
    "# load model\n",
    "\n",
    "loaded_logit_model = joblib.load('../compute_magazines/models_data/model_large_struggle_no_params_saved_logit_model.pkl')\n",
    "loaded_tfidf_model = joblib.load('../compute_magazines/models_data/model_large_struggle_no_params_saved_tfidf_model.pkl')"
   ]
  },
  {
   "cell_type": "code",
   "execution_count": null,
   "metadata": {},
   "outputs": [],
   "source": [
    "# load model\n",
    "\n",
    "ao_loaded_logit_model = joblib.load('../compute_magazines/models_data/model_large_ao_bloc_saved_logit_model.pkl')\n",
    "ao_loaded_tfidf_model = joblib.load('../compute_magazines/models_data/model_large_ao_bloc_saved_tfidf_model.pkl')\n",
    "# load model\n",
    "\n",
    "tri_loaded_logit_model = joblib.load('../compute_magazines/models_data/model_large_tri_revolution_saved_logit_model.pkl')\n",
    "tri_loaded_tfidf_model = joblib.load('../compute_magazines/models_data/model_large_tri_revolution_saved_tfidf_model.pkl')"
   ]
  },
  {
   "cell_type": "code",
   "execution_count": null,
   "metadata": {},
   "outputs": [],
   "source": [
    "classify_corpus(arab_observer_df[arab_observer_df.tokenized_length > 100], tri_loaded_tfidf_model, tri_loaded_logit_model, '../compute_magazines/models_data/ao_tri_revolution')"
   ]
  },
  {
   "cell_type": "code",
   "execution_count": null,
   "metadata": {},
   "outputs": [],
   "source": [
    "classify_corpus(tricontinental_bulletin_df[tricontinental_bulletin_df.tokenized_length > 100], ao_loaded_tfidf_model, ao_loaded_logit_model, '../compute_magazines/models_data/tri_ao_bloc')"
   ]
  },
  {
   "cell_type": "code",
   "execution_count": null,
   "metadata": {},
   "outputs": [],
   "source": [
    "classify_corpus(freedomways_df[freedomways_df.tokenized_length > 100], loaded_tfidf_model, loaded_logit_model, '../compute_magazines/models_data/freedomways_struggle_no_params')"
   ]
  },
  {
   "cell_type": "code",
   "execution_count": null,
   "metadata": {},
   "outputs": [],
   "source": [
    "features_df = pd.read_csv(\n",
    "    \"../compute_magazines/models_data/model_large_struggle_features.csv\")\n"
   ]
  },
  {
   "cell_type": "code",
   "execution_count": null,
   "metadata": {},
   "outputs": [],
   "source": [
    "freedomways_classified = pd.read_csv(\"../compute_magazines/models_data/freedomways_struggle_classified_corpus.csv\")"
   ]
  },
  {
   "cell_type": "code",
   "execution_count": null,
   "metadata": {},
   "outputs": [],
   "source": [
    "tw_ao_features = features_df[features_df.coef_0 < 0][['coef_0', 'feature_0']]\n",
    "tw_ao_features.columns = ['coef', 'feature']\n",
    "tw_ao_features['coef'] = tw_ao_features['coef'].abs()\n",
    "tw_ao_features = tw_ao_features.sort_values('coef', ascending=True)\n",
    "tw_tb_features = features_df[features_df.coef_1 > 0][[\n",
    "    'coef_1', 'feature_1']]\n",
    "tw_tb_features.columns = ['coef', 'feature']\n",
    "tw_tb_features['coef'] = tw_tb_features['coef'].abs()\n",
    "tw_tb_features = tw_tb_features.sort_values('coef', ascending=True)"
   ]
  },
  {
   "cell_type": "code",
   "execution_count": null,
   "metadata": {},
   "outputs": [],
   "source": [
    "tw_ao_features['classify'] = 'Arab Observer Third World'\n",
    "tw_tb_features['classify'] = 'Tricontinental Bulletin Third World'"
   ]
  },
  {
   "cell_type": "code",
   "execution_count": null,
   "metadata": {},
   "outputs": [],
   "source": [
    "tw_ao_features.head(20)\n"
   ]
  },
  {
   "cell_type": "code",
   "execution_count": null,
   "metadata": {},
   "outputs": [],
   "source": [
    "tw_tb_features.head(20)\n"
   ]
  },
  {
   "cell_type": "code",
   "execution_count": null,
   "metadata": {},
   "outputs": [],
   "source": [
    "arab_observer_df.columns"
   ]
  },
  {
   "cell_type": "code",
   "execution_count": null,
   "metadata": {},
   "outputs": [],
   "source": [
    "arab_observer_df[arab_observer_df.text.str.contains('progressive')]"
   ]
  },
  {
   "cell_type": "code",
   "execution_count": null,
   "metadata": {},
   "outputs": [],
   "source": [
    "combined_features = pd.concat([tw_ao_features, tw_tb_features])"
   ]
  },
  {
   "cell_type": "code",
   "execution_count": null,
   "metadata": {},
   "outputs": [],
   "source": [
    "classified_corpus = pd.read_csv(\n",
    "    \"../compute_magazines/models_data/model_large_struggle_no_params_classified_corpus.csv\")\n"
   ]
  },
  {
   "cell_type": "code",
   "execution_count": null,
   "metadata": {},
   "outputs": [],
   "source": [
    "ao_classified_corpus = pd.read_csv(\"../compute_magazines/models_data/ao_tri_revolution_classified_corpus.csv\")\n",
    "tri_classified_corpus = pd.read_csv(\"../compute_magazines/models_data/tri_ao_bloc_classified_corpus.csv\")"
   ]
  },
  {
   "cell_type": "code",
   "execution_count": null,
   "metadata": {},
   "outputs": [],
   "source": [
    "subset_ao = classified_corpus[classified_corpus.periodical_name == \"Arab Observer\"]\n",
    "subset_ao['page_number'] = subset_ao['page_number'].astype(int)"
   ]
  },
  {
   "cell_type": "code",
   "execution_count": null,
   "metadata": {},
   "outputs": [],
   "source": [
    "subset_tb = classified_corpus[classified_corpus.periodical_name == \"Tricontinental Bulletin\"]\n",
    "# subset_tb['page_number'] = subset_tb['page_number'].astype(int)"
   ]
  },
  {
   "cell_type": "code",
   "execution_count": null,
   "metadata": {},
   "outputs": [],
   "source": [
    "dates_tb = pd.merge(tricontinental_bulletin_df[tricontinental_bulletin_df.tokenized_length > 100][['page_number', 'issue', 'cleaned_issue_date']], subset_tb, on=['page_number', 'issue'], how='left')"
   ]
  },
  {
   "cell_type": "code",
   "execution_count": null,
   "metadata": {},
   "outputs": [],
   "source": [
    "dates_ao = pd.merge(arab_observer_df[arab_observer_df.tokenized_length > 100][['page_number', 'issue', 'cleaned_issue_date']], subset_ao, on=['page_number', 'issue'], how='left')"
   ]
  },
  {
   "cell_type": "code",
   "execution_count": null,
   "metadata": {},
   "outputs": [],
   "source": [
    "# classified_corpus[(classified_corpus['prediction'] == 1) & (classified_corpus['periodical_name'] == 'Arab Observer')].sort_values(by=['prediction_proba_1'], ascending=True).head(20)"
   ]
  },
  {
   "cell_type": "code",
   "execution_count": null,
   "metadata": {},
   "outputs": [],
   "source": [
    "# classified_corpus[(classified_corpus['prediction'] == 0) & (classified_corpus['periodical_name']\n",
    "#                                                             == 'Tricontinental Bulletin')].sort_values(by=['prediction_proba_0'], ascending=False).head(20)\n"
   ]
  },
  {
   "cell_type": "code",
   "execution_count": null,
   "metadata": {},
   "outputs": [],
   "source": [
    "import altair as alt"
   ]
  },
  {
   "cell_type": "code",
   "execution_count": null,
   "metadata": {},
   "outputs": [],
   "source": [
    "alt.data_transformers.disable_max_rows()"
   ]
  },
  {
   "cell_type": "code",
   "execution_count": null,
   "metadata": {},
   "outputs": [],
   "source": [
    "chart = alt.Chart(dates_ao).mark_bar().encode(\n",
    "    x=alt.X('cleaned_issue_date:T', title='Date'),\n",
    "    y=alt.Y('count()', title='Number of Articles'),\n",
    "    color=alt.Color('prediction:N', title='Prediction'),\n",
    "    # tooltip=['prediction', 'prediction_proba_0', 'prediction_proba_1']\n",
    ").properties(\n",
    "    title='Predictions for Arab Observer'\n",
    ")\n",
    "\n",
    "chart1 = alt.Chart(dates_tb).mark_bar().encode(\n",
    "    x=alt.X('cleaned_issue_date:T', title='Date'),\n",
    "    y=alt.Y('count()', title='Number of Articles'),\n",
    "    color=alt.Color('prediction:N', title='Prediction'),\n",
    "    # tooltip=['prediction', 'prediction_proba_0', 'prediction_proba_1']\n",
    ").properties(\n",
    "    title='Predictions for Tricontinental Bulletin'\n",
    ")\n",
    "\n",
    "chart2 = alt.Chart(freedomways_classified).mark_bar().encode(\n",
    "    x=alt.X('cleaned_issue_date:T', title='Date'),\n",
    "    y=alt.Y('count()', title='Number of Articles'),\n",
    "    color=alt.Color('prediction:N', title='Prediction'),\n",
    "    # tooltip=['prediction', 'prediction_proba_0', 'prediction_proba_1']\n",
    ").properties(\n",
    "    title='Predictions for Freedomways'\n",
    ")\n",
    "\n",
    "\n",
    "alt.vconcat(*[chart, chart1, chart2])"
   ]
  },
  {
   "cell_type": "code",
   "execution_count": null,
   "metadata": {},
   "outputs": [],
   "source": [
    "chart = alt.Chart(ao_classified_corpus).mark_bar().encode(\n",
    "    x=alt.X('cleaned_issue_date:T', title='Date'),\n",
    "    y=alt.Y('count()', title='Number of Articles'),\n",
    "    color=alt.Color('prediction:N', title='Prediction'),\n",
    "    # tooltip=['prediction', 'prediction_proba_0', 'prediction_proba_1']\n",
    ").properties(\n",
    "    title='Predictions for Arab Observer'\n",
    ")\n",
    "\n",
    "chart1 = alt.Chart(tri_classified_corpus).mark_bar().encode(\n",
    "    x=alt.X('cleaned_issue_date:T', title='Date'),\n",
    "    y=alt.Y('count()', title='Number of Articles'),\n",
    "    color=alt.Color('prediction:N', title='Prediction'),\n",
    "    # tooltip=['prediction', 'prediction_proba_0', 'prediction_proba_1']\n",
    ").properties(\n",
    "    title='Predictions for Tricontinental Bulletin'\n",
    ")\n",
    "\n",
    "alt.hconcat(*[chart, chart1])\n"
   ]
  },
  {
   "cell_type": "code",
   "execution_count": null,
   "metadata": {},
   "outputs": [],
   "source": [
    "ao_classified_corpus.sort_values(by=['prediction_proba_0'], ascending=False).head(10)"
   ]
  },
  {
   "cell_type": "code",
   "execution_count": null,
   "metadata": {},
   "outputs": [],
   "source": [
    "tri_classified_corpus.sort_values(by=['prediction_proba_0'], ascending=False)[['issue', 'text', 'page_number', 'date', 'prediction_proba_0']].head(30)"
   ]
  },
  {
   "cell_type": "code",
   "execution_count": null,
   "metadata": {},
   "outputs": [],
   "source": [
    "tri_classified_corpus[(tri_classified_corpus.cleaned_issue_date > '1978-01-01') & (tri_classified_corpus.prediction == 0)].sort_values(by=['prediction_proba_0'], ascending=False)[['issue', 'text', 'page_number', 'date', 'prediction_proba_0']].head(30)"
   ]
  },
  {
   "cell_type": "code",
   "execution_count": null,
   "metadata": {},
   "outputs": [],
   "source": []
  }
 ],
 "metadata": {
  "kernelspec": {
   "display_name": "htrc-periodicals-venv",
   "language": "python",
   "name": "python3"
  },
  "language_info": {
   "codemirror_mode": {
    "name": "ipython",
    "version": 3
   },
   "file_extension": ".py",
   "mimetype": "text/x-python",
   "name": "python",
   "nbconvert_exporter": "python",
   "pygments_lexer": "ipython3",
   "version": "3.9.16"
  },
  "orig_nbformat": 4,
  "vscode": {
   "interpreter": {
    "hash": "c381cce0a11cdbd185210d50217a0d0995dd5a70dabd1dcfa7b80ed438c02b46"
   }
  }
 },
 "nbformat": 4,
 "nbformat_minor": 2
}
