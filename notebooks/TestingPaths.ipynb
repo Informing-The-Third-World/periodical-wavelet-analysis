{
 "cells": [
  {
   "cell_type": "code",
   "execution_count": 3,
   "metadata": {},
   "outputs": [
    {
     "name": "stdout",
     "output_type": "stream",
     "text": [
      "/Users/zleblanc/Informing-The-Third-World/periodical_augmentation/periodical-issue-segmentation/notebooks\n",
      "['/Users/zleblanc/Informing-The-Third-World/periodical_augmentation/periodical-issue-segmentation/notebooks', '/opt/homebrew/Cellar/python@3.9/3.9.18_1/Frameworks/Python.framework/Versions/3.9/lib/python39.zip', '/opt/homebrew/Cellar/python@3.9/3.9.18_1/Frameworks/Python.framework/Versions/3.9/lib/python3.9', '/opt/homebrew/Cellar/python@3.9/3.9.18_1/Frameworks/Python.framework/Versions/3.9/lib/python3.9/lib-dynload', '', '/Users/zleblanc/.virtualenvs/htrc-periodicals-venv/lib/python3.9/site-packages', '../', '../']\n"
     ]
    }
   ],
   "source": [
    "import os\n",
    "import sys\n",
    "\n",
    "sys.path.append(\"../\")\n",
    "print(os.getcwd())\n",
    "print(sys.path)\n",
    "from segmentation_scripts.filter_records import *"
   ]
  },
  {
   "cell_type": "code",
   "execution_count": 4,
   "metadata": {},
   "outputs": [],
   "source": [
    "import pandas as pd\n",
    "\n",
    "df = pd.read_csv(\"../datasets/mapping_files/directory_annotation_metadata_mapping.csv\")"
   ]
  },
  {
   "cell_type": "code",
   "execution_count": 5,
   "metadata": {},
   "outputs": [
    {
     "data": {
      "text/html": [
       "<div>\n",
       "<style scoped>\n",
       "    .dataframe tbody tr th:only-of-type {\n",
       "        vertical-align: middle;\n",
       "    }\n",
       "\n",
       "    .dataframe tbody tr th {\n",
       "        vertical-align: top;\n",
       "    }\n",
       "\n",
       "    .dataframe thead th {\n",
       "        text-align: right;\n",
       "    }\n",
       "</style>\n",
       "<table border=\"1\" class=\"dataframe\">\n",
       "  <thead>\n",
       "    <tr style=\"text-align: right;\">\n",
       "      <th></th>\n",
       "      <th>annotation_file</th>\n",
       "      <th>metadata_file</th>\n",
       "      <th>magazine_name</th>\n",
       "      <th>local_dir</th>\n",
       "      <th>file_name</th>\n",
       "      <th>fuzzy_ratio</th>\n",
       "      <th>final_dir</th>\n",
       "    </tr>\n",
       "  </thead>\n",
       "  <tbody>\n",
       "    <tr>\n",
       "      <th>0</th>\n",
       "      <td>solidarity_annotated_dataset.csv</td>\n",
       "      <td>solidarity_002799178.csv</td>\n",
       "      <td>solidarity</td>\n",
       "      <td>solidarity_aapso</td>\n",
       "      <td>solidarity</td>\n",
       "      <td>NaN</td>\n",
       "      <td>/solidarity_aapso</td>\n",
       "    </tr>\n",
       "    <tr>\n",
       "      <th>1</th>\n",
       "      <td>afro_asian_peoples_annotated_dataset.csv</td>\n",
       "      <td>afro_asian_peoples_006064527.csv</td>\n",
       "      <td>afro_asian_peoples</td>\n",
       "      <td>afro_asian_peoples</td>\n",
       "      <td>afro_asian_peoples</td>\n",
       "      <td>100.0</td>\n",
       "      <td>/afro_asian_peoples</td>\n",
       "    </tr>\n",
       "    <tr>\n",
       "      <th>2</th>\n",
       "      <td>liberator_annotated_dataset.csv</td>\n",
       "      <td>liberator_102427627.csv</td>\n",
       "      <td>liberator</td>\n",
       "      <td>liberator</td>\n",
       "      <td>liberator</td>\n",
       "      <td>100.0</td>\n",
       "      <td>/liberator</td>\n",
       "    </tr>\n",
       "    <tr>\n",
       "      <th>3</th>\n",
       "      <td>afro_asian_and_world_affairs_annotated_dataset...</td>\n",
       "      <td>afro_asian_and_world_affairs_000495647.csv</td>\n",
       "      <td>afro_asian_and_world_affairs</td>\n",
       "      <td>afro_asian_and_world_affairs</td>\n",
       "      <td>afro_asian_and_world_affairs</td>\n",
       "      <td>100.0</td>\n",
       "      <td>/afro_asian_and_world_affairs</td>\n",
       "    </tr>\n",
       "    <tr>\n",
       "      <th>4</th>\n",
       "      <td>afro_asian_bulletin_annotated_dataset.csv</td>\n",
       "      <td>afro_asian_bulletin_000055797.csv</td>\n",
       "      <td>afro_asian_bulletin</td>\n",
       "      <td>afro_asian_bulletin</td>\n",
       "      <td>afro_asian_bulletin</td>\n",
       "      <td>100.0</td>\n",
       "      <td>/afro_asian_bulletin</td>\n",
       "    </tr>\n",
       "    <tr>\n",
       "      <th>5</th>\n",
       "      <td>arab_observer_annotated_dataset.csv</td>\n",
       "      <td>arab_observer_000679918_006064523.csv</td>\n",
       "      <td>arab_observer</td>\n",
       "      <td>arab_observer_and_the_scribe</td>\n",
       "      <td>arab_observer</td>\n",
       "      <td>NaN</td>\n",
       "      <td>/arab_observer_and_the_scribe</td>\n",
       "    </tr>\n",
       "    <tr>\n",
       "      <th>6</th>\n",
       "      <td>arab_observer_annotated_dataset.csv</td>\n",
       "      <td>arab_observer_000679918_006064523.csv</td>\n",
       "      <td>arab_observer</td>\n",
       "      <td>arab_observer_and_the_scribe</td>\n",
       "      <td>arab_observer</td>\n",
       "      <td>NaN</td>\n",
       "      <td>/arab_observer_and_the_scribe</td>\n",
       "    </tr>\n",
       "    <tr>\n",
       "      <th>7</th>\n",
       "      <td>lotus_annotated_dataset.csv</td>\n",
       "      <td>lotus_000534608.csv</td>\n",
       "      <td>lotus</td>\n",
       "      <td>lotus</td>\n",
       "      <td>lotus</td>\n",
       "      <td>100.0</td>\n",
       "      <td>/lotus</td>\n",
       "    </tr>\n",
       "    <tr>\n",
       "      <th>8</th>\n",
       "      <td>scribe_annotated_dataset.csv</td>\n",
       "      <td>scribe_000507426.csv</td>\n",
       "      <td>scribe</td>\n",
       "      <td>scribe</td>\n",
       "      <td>scribe</td>\n",
       "      <td>100.0</td>\n",
       "      <td>/scribe</td>\n",
       "    </tr>\n",
       "    <tr>\n",
       "      <th>9</th>\n",
       "      <td>tricontinental_annotated_dataset.csv</td>\n",
       "      <td>tricontinental_010744668.csv</td>\n",
       "      <td>tricontinental</td>\n",
       "      <td>tricontinental</td>\n",
       "      <td>tricontinental</td>\n",
       "      <td>100.0</td>\n",
       "      <td>/tricontinental</td>\n",
       "    </tr>\n",
       "  </tbody>\n",
       "</table>\n",
       "</div>"
      ],
      "text/plain": [
       "                                     annotation_file  \\\n",
       "0                   solidarity_annotated_dataset.csv   \n",
       "1           afro_asian_peoples_annotated_dataset.csv   \n",
       "2                    liberator_annotated_dataset.csv   \n",
       "3  afro_asian_and_world_affairs_annotated_dataset...   \n",
       "4          afro_asian_bulletin_annotated_dataset.csv   \n",
       "5                arab_observer_annotated_dataset.csv   \n",
       "6                arab_observer_annotated_dataset.csv   \n",
       "7                        lotus_annotated_dataset.csv   \n",
       "8                       scribe_annotated_dataset.csv   \n",
       "9               tricontinental_annotated_dataset.csv   \n",
       "\n",
       "                                metadata_file                 magazine_name  \\\n",
       "0                    solidarity_002799178.csv                    solidarity   \n",
       "1            afro_asian_peoples_006064527.csv            afro_asian_peoples   \n",
       "2                     liberator_102427627.csv                     liberator   \n",
       "3  afro_asian_and_world_affairs_000495647.csv  afro_asian_and_world_affairs   \n",
       "4           afro_asian_bulletin_000055797.csv           afro_asian_bulletin   \n",
       "5       arab_observer_000679918_006064523.csv                 arab_observer   \n",
       "6       arab_observer_000679918_006064523.csv                 arab_observer   \n",
       "7                         lotus_000534608.csv                         lotus   \n",
       "8                        scribe_000507426.csv                        scribe   \n",
       "9                tricontinental_010744668.csv                tricontinental   \n",
       "\n",
       "                      local_dir                     file_name  fuzzy_ratio  \\\n",
       "0              solidarity_aapso                    solidarity          NaN   \n",
       "1            afro_asian_peoples            afro_asian_peoples        100.0   \n",
       "2                     liberator                     liberator        100.0   \n",
       "3  afro_asian_and_world_affairs  afro_asian_and_world_affairs        100.0   \n",
       "4           afro_asian_bulletin           afro_asian_bulletin        100.0   \n",
       "5  arab_observer_and_the_scribe                 arab_observer          NaN   \n",
       "6  arab_observer_and_the_scribe                 arab_observer          NaN   \n",
       "7                         lotus                         lotus        100.0   \n",
       "8                        scribe                        scribe        100.0   \n",
       "9                tricontinental                tricontinental        100.0   \n",
       "\n",
       "                       final_dir  \n",
       "0              /solidarity_aapso  \n",
       "1            /afro_asian_peoples  \n",
       "2                     /liberator  \n",
       "3  /afro_asian_and_world_affairs  \n",
       "4           /afro_asian_bulletin  \n",
       "5  /arab_observer_and_the_scribe  \n",
       "6  /arab_observer_and_the_scribe  \n",
       "7                         /lotus  \n",
       "8                        /scribe  \n",
       "9                /tricontinental  "
      ]
     },
     "execution_count": 5,
     "metadata": {},
     "output_type": "execute_result"
    }
   ],
   "source": [
    "df"
   ]
  },
  {
   "cell_type": "code",
   "execution_count": 2,
   "metadata": {},
   "outputs": [
    {
     "data": {
      "text/plain": [
       "True"
      ]
     },
     "execution_count": 2,
     "metadata": {},
     "output_type": "execute_result"
    }
   ],
   "source": [
    "os.path.exists(\"/Users/zleblanc/Informing-The-Third-World/periodical-collection-curation/HathiTrust-pcc-datasets/datasets/ht_ef_datasets\")"
   ]
  },
  {
   "cell_type": "code",
   "execution_count": 6,
   "metadata": {},
   "outputs": [
    {
     "name": "stdout",
     "output_type": "stream",
     "text": [
      "Relative path: ../periodical-collection-curation/HathiTrust-pcc-datasets/datasets/ht_ef_datasets\n",
      "Absolute path: /Users/zleblanc/Informing-The-Third-World/periodical_augmentation/periodical-issue-segmentation/periodical-collection-curation/HathiTrust-pcc-datasets/datasets/ht_ef_datasets\n",
      "Path exists: False\n"
     ]
    }
   ],
   "source": [
    "import os\n",
    "\n",
    "# Define the relative path from the current working directory\n",
    "relative_path = os.path.join(\"..\", \"periodical-collection-curation\", \"HathiTrust-pcc-datasets\", \"datasets\", \"ht_ef_datasets\")\n",
    "\n",
    "# Compute the absolute path\n",
    "absolute_path = os.path.abspath(relative_path)\n",
    "\n",
    "# Check if the path exists\n",
    "path_exists = os.path.exists(absolute_path)\n",
    "\n",
    "print(\"Relative path:\", relative_path)\n",
    "print(\"Absolute path:\", absolute_path)\n",
    "print(\"Path exists:\", path_exists)"
   ]
  },
  {
   "cell_type": "code",
   "execution_count": 7,
   "metadata": {},
   "outputs": [
    {
     "data": {
      "text/plain": [
       "True"
      ]
     },
     "execution_count": 7,
     "metadata": {},
     "output_type": "execute_result"
    }
   ],
   "source": [
    "os.path.exists(\"../datasets\")"
   ]
  },
  {
   "cell_type": "code",
   "execution_count": 16,
   "metadata": {},
   "outputs": [
    {
     "name": "stdout",
     "output_type": "stream",
     "text": [
      "True\n"
     ]
    }
   ],
   "source": [
    "relative_extracted_features_path = os.path.join(\"..\", \"..\", \"..\", \"periodical-collection-curation\", \"HathiTrust-pcc-datasets\", \"datasets\", \"ht_ef_datasets\")\n",
    "print(os.path.exists(relative_extracted_features_path))"
   ]
  },
  {
   "cell_type": "code",
   "execution_count": 19,
   "metadata": {},
   "outputs": [],
   "source": [
    "dir_list = [subdir.replace(relative_extracted_features_path, '') for subdir, _, _ in os.walk(relative_extracted_features_path)]"
   ]
  },
  {
   "cell_type": "code",
   "execution_count": 21,
   "metadata": {},
   "outputs": [],
   "source": [
    "# subset to only paths with one level of depth\n",
    "subset_dir_list = [d for d in dir_list if d.count(os.sep) == 1]"
   ]
  },
  {
   "cell_type": "code",
   "execution_count": 22,
   "metadata": {},
   "outputs": [
    {
     "data": {
      "text/plain": [
       "['/liberator',\n",
       " '/spearhead',\n",
       " '/presence_africaine',\n",
       " '/arab_observer_and_the_scribe',\n",
       " \"/bulletin_d’information__bureau_d'information_du_gouvernement_révolutionnaire_provisoire_de_la_république_du_sud_viet-nam_à_paris\",\n",
       " '/news_from_xinhua_news_agency,_chinadaily_bulletin',\n",
       " '/oau_bulletin',\n",
       " '/black_news',\n",
       " '/lotus',\n",
       " '/tricontinental',\n",
       " '/afro_asian_and_world_affairs',\n",
       " '/afro_asian_peoples',\n",
       " '/la_documentation_arabe_',\n",
       " '/nahdat_ifriqiyah_african_renaissance',\n",
       " '/freedomways',\n",
       " '/direct_from_cuba',\n",
       " '/lsm_news__liberation_support_movement,_information_center',\n",
       " '/negro_digest',\n",
       " '/black_world',\n",
       " '/asia_and_africa_today',\n",
       " '/afro_asian_women',\n",
       " '/solidarity_swapo',\n",
       " '/afrique_documents',\n",
       " '/mozambican_revolution',\n",
       " '/al-nashrah_al-ifrīqīyah_al-āsyawīyah',\n",
       " '/solidarity_aapso',\n",
       " '/afro_asian_bulletin',\n",
       " '/im_information_bulletin__mozambique_information_agency',\n",
       " '/révolution_africaine']"
      ]
     },
     "execution_count": 22,
     "metadata": {},
     "output_type": "execute_result"
    }
   ],
   "source": [
    "subset_dir_list"
   ]
  },
  {
   "cell_type": "markdown",
   "metadata": {},
   "source": []
  }
 ],
 "metadata": {
  "kernelspec": {
   "display_name": "htrc-periodicals-venv",
   "language": "python",
   "name": "python3"
  },
  "language_info": {
   "codemirror_mode": {
    "name": "ipython",
    "version": 3
   },
   "file_extension": ".py",
   "mimetype": "text/x-python",
   "name": "python",
   "nbconvert_exporter": "python",
   "pygments_lexer": "ipython3",
   "version": "3.9.18"
  }
 },
 "nbformat": 4,
 "nbformat_minor": 2
}
