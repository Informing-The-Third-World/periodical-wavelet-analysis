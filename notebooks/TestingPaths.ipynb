{
 "cells": [
  {
   "cell_type": "code",
   "execution_count": 1,
   "metadata": {},
   "outputs": [
    {
     "name": "stdout",
     "output_type": "stream",
     "text": [
      "/Users/zleblanc/Informing-The-Third-World/periodical_augmentation/periodical-issue-segmentation/notebooks\n",
      "['/Users/zleblanc/Informing-The-Third-World/periodical_augmentation/periodical-issue-segmentation/notebooks', '/opt/homebrew/Cellar/python@3.9/3.9.18_1/Frameworks/Python.framework/Versions/3.9/lib/python39.zip', '/opt/homebrew/Cellar/python@3.9/3.9.18_1/Frameworks/Python.framework/Versions/3.9/lib/python3.9', '/opt/homebrew/Cellar/python@3.9/3.9.18_1/Frameworks/Python.framework/Versions/3.9/lib/python3.9/lib-dynload', '', '/Users/zleblanc/.virtualenvs/htrc-periodicals-venv/lib/python3.9/site-packages', '../']\n"
     ]
    }
   ],
   "source": [
    "import os\n",
    "import sys\n",
    "\n",
    "sys.path.append(\"../\")\n",
    "print(os.getcwd())\n",
    "print(sys.path)\n",
    "from segmentation_scripts.filter_records import *"
   ]
  },
  {
   "cell_type": "code",
   "execution_count": 97,
   "metadata": {},
   "outputs": [],
   "source": [
    "import pandas as pd\n",
    "import os\n",
    "df = pd.read_csv(os.path.join(\"..\", \"..\", \"..\", \"periodical-collection-curation\", \"HathiTrust-pcc-datasets\", \"datasets\", \"preidentified_periodicals_with_full_metadata.csv\"))"
   ]
  },
  {
   "cell_type": "code",
   "execution_count": 98,
   "metadata": {},
   "outputs": [
    {
     "data": {
      "text/html": [
       "<div>\n",
       "<style scoped>\n",
       "    .dataframe tbody tr th:only-of-type {\n",
       "        vertical-align: middle;\n",
       "    }\n",
       "\n",
       "    .dataframe tbody tr th {\n",
       "        vertical-align: top;\n",
       "    }\n",
       "\n",
       "    .dataframe thead th {\n",
       "        text-align: right;\n",
       "    }\n",
       "</style>\n",
       "<table border=\"1\" class=\"dataframe\">\n",
       "  <thead>\n",
       "    <tr style=\"text-align: right;\">\n",
       "      <th></th>\n",
       "      <th>periodical_name</th>\n",
       "      <th>lowercase_periodical_name</th>\n",
       "      <th>publication_directory</th>\n",
       "      <th>volume_directory</th>\n",
       "      <th>record_url</th>\n",
       "    </tr>\n",
       "  </thead>\n",
       "  <tbody>\n",
       "    <tr>\n",
       "      <th>0</th>\n",
       "      <td>La Documentation Arabe</td>\n",
       "      <td>la_documentation_arabe_</td>\n",
       "      <td>datasets/ht_ef_datasets/la_documentation_arabe...</td>\n",
       "      <td>inu_30000093395964</td>\n",
       "      <td>https://catalog.hathitrust.org/Record/007579658</td>\n",
       "    </tr>\n",
       "  </tbody>\n",
       "</table>\n",
       "</div>"
      ],
      "text/plain": [
       "           periodical_name lowercase_periodical_name  \\\n",
       "0  La Documentation Arabe    la_documentation_arabe_   \n",
       "\n",
       "                               publication_directory    volume_directory  \\\n",
       "0  datasets/ht_ef_datasets/la_documentation_arabe...  inu_30000093395964   \n",
       "\n",
       "                                        record_url  \n",
       "0  https://catalog.hathitrust.org/Record/007579658  "
      ]
     },
     "execution_count": 98,
     "metadata": {},
     "output_type": "execute_result"
    }
   ],
   "source": [
    "df[0:1][['periodical_name', 'lowercase_periodical_name', 'publication_directory', 'volume_directory', 'record_url']]"
   ]
  },
  {
   "cell_type": "code",
   "execution_count": 99,
   "metadata": {},
   "outputs": [],
   "source": [
    "subset_df = df[df.lowercase_periodical_name.str.contains('arab_observer', na=False)]"
   ]
  },
  {
   "cell_type": "code",
   "execution_count": 100,
   "metadata": {},
   "outputs": [],
   "source": [
    "from datetime import datetime\n",
    "\n",
    "def transform_annotated_dates(rows: pd.DataFrame) -> pd.DataFrame:\n",
    "    \"\"\"Transform metadata dates into mergeable dates.\"\"\"\n",
    "    date = rows.iloc[0].dates.replace('-', ' ').split(' ')\n",
    "    day = date[1] if (len(date) == 3) and ('-' not in rows.iloc[0].dates) else '1'\n",
    "    start_month = date[0]\n",
    "    end_month = date[1] if (len(date) > 2) and ('-' in rows.iloc[0].dates) else start_month\n",
    "    year = date[-1]\n",
    "\n",
    "    start_date = f\"{day} {start_month} {year}\"\n",
    "    end_date = f\"{day} {end_month} {year}\"\n",
    "    rows['start_issue'] = datetime.strptime(start_date, '%d %B %Y')\n",
    "    rows['end_issue'] = datetime.strptime(end_date, '%d %B %Y')\n",
    "    return rows\n",
    "\n",
    "def clean_annotated_df(annotated_df: pd.DataFrame) -> pd.DataFrame:\n",
    "    \"\"\"Clean and normalize dates in the annotated datasets that were created manually in Notion.\"\"\"\n",
    "    annotated_df.columns = [x.lower().replace(' ', '_') for x in annotated_df.columns]\n",
    "    annotated_df['notes'] = annotated_df['notes'].fillna('')\n",
    "    annotated_df = annotated_df.ffill()\n",
    "    print(annotated_df.columns)\n",
    "    annotated_df = annotated_df.groupby('dates', group_keys=False).apply(transform_annotated_dates, include_groups=True)\n",
    "    return annotated_df"
   ]
  },
  {
   "cell_type": "code",
   "execution_count": 166,
   "metadata": {},
   "outputs": [
    {
     "name": "stdout",
     "output_type": "stream",
     "text": [
      "Index(['issue_number', 'dates', 'page_number', 'type_of_page',\n",
      "       'original_volumes', 'notes'],\n",
      "      dtype='object')\n"
     ]
    },
    {
     "name": "stderr",
     "output_type": "stream",
     "text": [
      "/var/folders/fc/c_5vvt992871rr8qbqy645340000gq/T/ipykernel_87386/1098092194.py:23: DeprecationWarning: DataFrameGroupBy.apply operated on the grouping columns. This behavior is deprecated, and in a future version of pandas the grouping columns will be excluded from the operation. Either pass `include_groups=False` to exclude the groupings or explicitly select the grouping columns after groupby to silence this warning.\n",
      "  annotated_df = annotated_df.groupby('dates', group_keys=False).apply(transform_annotated_dates, include_groups=True)\n"
     ]
    }
   ],
   "source": [
    "test_annotated_df = pd.read_csv(\"../datasets/annotated_datasets/arab_observer_annotated_dataset.csv\")\n",
    "cleaned_test_annotated_df = clean_annotated_df(test_annotated_df)"
   ]
  },
  {
   "cell_type": "code",
   "execution_count": 167,
   "metadata": {},
   "outputs": [],
   "source": [
    "subset_df = subset_df.rename(columns={'date': 'original_volumes'})"
   ]
  },
  {
   "cell_type": "code",
   "execution_count": 169,
   "metadata": {},
   "outputs": [],
   "source": [
    "merged_annotated_df = pd.merge(cleaned_test_annotated_df,subset_df,  on='original_volumes', how='inner')"
   ]
  },
  {
   "cell_type": "code",
   "execution_count": 170,
   "metadata": {},
   "outputs": [
    {
     "data": {
      "text/plain": [
       "23"
      ]
     },
     "execution_count": 170,
     "metadata": {},
     "output_type": "execute_result"
    }
   ],
   "source": [
    "merged_annotated_df['original_volumes'].nunique()"
   ]
  },
  {
   "cell_type": "code",
   "execution_count": 171,
   "metadata": {},
   "outputs": [
    {
     "data": {
      "text/plain": [
       "array(['mdp.39015056038071', 'mdp.39015056038238', 'mdp.39015056038253',\n",
       "       'mdp.39015056038246', 'mdp.39015056038063', 'mdp.39015056038410',\n",
       "       'mdp.39015056038402', 'uc1.l0082986993', 'uc1.l0082987033',\n",
       "       'uc1.l0063473003', 'uc1.l0063472831', 'mdp.39015056038089',\n",
       "       'mdp.39015056038394', 'mdp.39015056038386', 'mdp.39015056038220',\n",
       "       'mdp.39015056038378', 'mdp.39015056038212', 'inu.32000013025095',\n",
       "       'inu.32000013025087', 'inu.32000013025079', 'inu.32000013025061',\n",
       "       'inu.32000013025053', 'inu.32000013025046'], dtype=object)"
      ]
     },
     "execution_count": 171,
     "metadata": {},
     "output_type": "execute_result"
    }
   ],
   "source": [
    "merged_annotated_df.htid.unique()"
   ]
  },
  {
   "cell_type": "code",
   "execution_count": 69,
   "metadata": {},
   "outputs": [
    {
     "data": {
      "text/plain": [
       "'../../../periodical-collection-curation/HathiTrust-pcc-datasets/datasets/ht_ef_datasets/afro_asian_and_world_affairs/volumes/mdp_39015035518128/mdp_39015035518128_individual_tokens.csv'"
      ]
     },
     "execution_count": 69,
     "metadata": {},
     "output_type": "execute_result"
    }
   ],
   "source": [
    "test_path = os.path.join(\"..\", \"..\", \"..\", \"periodical-collection-curation\", \"HathiTrust-pcc-datasets\", \"datasets/ht_ef_datasets/afro_asian_and_world_affairs/volumes/mdp_39015035518128/mdp_39015035518128_individual_tokens.csv\")\n",
    "test_path"
   ]
  },
  {
   "cell_type": "code",
   "execution_count": 172,
   "metadata": {},
   "outputs": [],
   "source": [
    "ht_df = pd.read_csv(\"/Users/zleblanc/Informing-The-Third-World/periodical-collection-curation/HathiTrust-pcc-datasets/datasets/ht_ef_datasets/arab_observer_and_the_scribe/volumes/mdp_39015056038071/mdp_39015056038071_individual_tokens.csv\")\n"
   ]
  },
  {
   "cell_type": "code",
   "execution_count": 173,
   "metadata": {},
   "outputs": [
    {
     "data": {
      "text/html": [
       "<div>\n",
       "<style scoped>\n",
       "    .dataframe tbody tr th:only-of-type {\n",
       "        vertical-align: middle;\n",
       "    }\n",
       "\n",
       "    .dataframe tbody tr th {\n",
       "        vertical-align: top;\n",
       "    }\n",
       "\n",
       "    .dataframe thead th {\n",
       "        text-align: right;\n",
       "    }\n",
       "</style>\n",
       "<table border=\"1\" class=\"dataframe\">\n",
       "  <thead>\n",
       "    <tr style=\"text-align: right;\">\n",
       "      <th></th>\n",
       "      <th>lowercase_periodical_name</th>\n",
       "      <th>htid</th>\n",
       "      <th>record_url</th>\n",
       "    </tr>\n",
       "  </thead>\n",
       "  <tbody>\n",
       "    <tr>\n",
       "      <th>0</th>\n",
       "      <td>arab_observer_and_the_scribe</td>\n",
       "      <td>mdp.39015056038071</td>\n",
       "      <td>https://catalog.hathitrust.org/Record/000679918</td>\n",
       "    </tr>\n",
       "  </tbody>\n",
       "</table>\n",
       "</div>"
      ],
      "text/plain": [
       "      lowercase_periodical_name                htid  \\\n",
       "0  arab_observer_and_the_scribe  mdp.39015056038071   \n",
       "\n",
       "                                        record_url  \n",
       "0  https://catalog.hathitrust.org/Record/000679918  "
      ]
     },
     "execution_count": 173,
     "metadata": {},
     "output_type": "execute_result"
    }
   ],
   "source": [
    "ht_df = ht_df.rename(columns={'page': 'page_number', 'periodical_name': 'lowercase_periodical_name'})\n",
    "ht_df[0:1][['lowercase_periodical_name', 'htid', 'record_url']]"
   ]
  },
  {
   "cell_type": "code",
   "execution_count": 177,
   "metadata": {},
   "outputs": [
    {
     "data": {
      "text/plain": [
       "(36, 23)"
      ]
     },
     "execution_count": 177,
     "metadata": {},
     "output_type": "execute_result"
    }
   ],
   "source": [
    "subset_df.htid.nunique(), merged_annotated_df.htid.nunique()"
   ]
  },
  {
   "cell_type": "code",
   "execution_count": 241,
   "metadata": {},
   "outputs": [],
   "source": [
    "htid_value = ht_df.htid.unique()[0]\n",
    "subset_merged_annotated_df = pd.merge(merged_annotated_df[merged_annotated_df.htid==htid_value], ht_df, on=['lowercase_periodical_name', 'htid', 'record_url', 'page_number'], how='outer')"
   ]
  },
  {
   "cell_type": "code",
   "execution_count": 244,
   "metadata": {},
   "outputs": [
    {
     "data": {
      "text/html": [
       "<div>\n",
       "<style scoped>\n",
       "    .dataframe tbody tr th:only-of-type {\n",
       "        vertical-align: middle;\n",
       "    }\n",
       "\n",
       "    .dataframe tbody tr th {\n",
       "        vertical-align: top;\n",
       "    }\n",
       "\n",
       "    .dataframe thead th {\n",
       "        text-align: right;\n",
       "    }\n",
       "</style>\n",
       "<table border=\"1\" class=\"dataframe\">\n",
       "  <thead>\n",
       "    <tr style=\"text-align: right;\">\n",
       "      <th></th>\n",
       "      <th>publication_directory</th>\n",
       "      <th>volume_directory</th>\n",
       "      <th>original_volumes</th>\n",
       "      <th>start_issue</th>\n",
       "      <th>end_issue</th>\n",
       "      <th>htid</th>\n",
       "      <th>record_url</th>\n",
       "    </tr>\n",
       "  </thead>\n",
       "  <tbody>\n",
       "    <tr>\n",
       "      <th>0</th>\n",
       "      <td>datasets/ht_ef_datasets/arab_observer_and_the_...</td>\n",
       "      <td>mdp_39015056038071</td>\n",
       "      <td>1962 Jan-Jun</td>\n",
       "      <td>1962-01-01</td>\n",
       "      <td>1962-01-01</td>\n",
       "      <td>mdp.39015056038071</td>\n",
       "      <td>https://catalog.hathitrust.org/Record/000679918</td>\n",
       "    </tr>\n",
       "    <tr>\n",
       "      <th>1</th>\n",
       "      <td>datasets/ht_ef_datasets/arab_observer_and_the_...</td>\n",
       "      <td>mdp_39015056038071</td>\n",
       "      <td>1962 Jan-Jun</td>\n",
       "      <td>1962-01-01</td>\n",
       "      <td>1962-01-01</td>\n",
       "      <td>mdp.39015056038071</td>\n",
       "      <td>https://catalog.hathitrust.org/Record/000679918</td>\n",
       "    </tr>\n",
       "    <tr>\n",
       "      <th>2</th>\n",
       "      <td>datasets/ht_ef_datasets/arab_observer_and_the_...</td>\n",
       "      <td>mdp_39015056038071</td>\n",
       "      <td>1962 Jan-Jun</td>\n",
       "      <td>1962-01-01</td>\n",
       "      <td>1962-01-01</td>\n",
       "      <td>mdp.39015056038071</td>\n",
       "      <td>https://catalog.hathitrust.org/Record/000679918</td>\n",
       "    </tr>\n",
       "    <tr>\n",
       "      <th>3</th>\n",
       "      <td>datasets/ht_ef_datasets/arab_observer_and_the_...</td>\n",
       "      <td>mdp_39015056038071</td>\n",
       "      <td>1962 Jan-Jun</td>\n",
       "      <td>1962-01-08</td>\n",
       "      <td>1962-01-08</td>\n",
       "      <td>mdp.39015056038071</td>\n",
       "      <td>https://catalog.hathitrust.org/Record/000679918</td>\n",
       "    </tr>\n",
       "    <tr>\n",
       "      <th>4</th>\n",
       "      <td>datasets/ht_ef_datasets/arab_observer_and_the_...</td>\n",
       "      <td>mdp_39015056038071</td>\n",
       "      <td>1962 Jan-Jun</td>\n",
       "      <td>1962-01-08</td>\n",
       "      <td>1962-01-08</td>\n",
       "      <td>mdp.39015056038071</td>\n",
       "      <td>https://catalog.hathitrust.org/Record/000679918</td>\n",
       "    </tr>\n",
       "    <tr>\n",
       "      <th>...</th>\n",
       "      <td>...</td>\n",
       "      <td>...</td>\n",
       "      <td>...</td>\n",
       "      <td>...</td>\n",
       "      <td>...</td>\n",
       "      <td>...</td>\n",
       "      <td>...</td>\n",
       "    </tr>\n",
       "    <tr>\n",
       "      <th>567</th>\n",
       "      <td>datasets/ht_ef_datasets/arab_observer_and_the_...</td>\n",
       "      <td>inu_32000013025046</td>\n",
       "      <td>no.327-331 1966</td>\n",
       "      <td>1966-10-17</td>\n",
       "      <td>1966-10-17</td>\n",
       "      <td>inu.32000013025046</td>\n",
       "      <td>https://catalog.hathitrust.org/Record/006064523</td>\n",
       "    </tr>\n",
       "    <tr>\n",
       "      <th>568</th>\n",
       "      <td>datasets/ht_ef_datasets/arab_observer_and_the_...</td>\n",
       "      <td>inu_32000013025046</td>\n",
       "      <td>no.327-331 1966</td>\n",
       "      <td>1966-10-24</td>\n",
       "      <td>1966-10-24</td>\n",
       "      <td>inu.32000013025046</td>\n",
       "      <td>https://catalog.hathitrust.org/Record/006064523</td>\n",
       "    </tr>\n",
       "    <tr>\n",
       "      <th>569</th>\n",
       "      <td>datasets/ht_ef_datasets/arab_observer_and_the_...</td>\n",
       "      <td>inu_32000013025046</td>\n",
       "      <td>no.327-331 1966</td>\n",
       "      <td>1966-10-24</td>\n",
       "      <td>1966-10-24</td>\n",
       "      <td>inu.32000013025046</td>\n",
       "      <td>https://catalog.hathitrust.org/Record/006064523</td>\n",
       "    </tr>\n",
       "    <tr>\n",
       "      <th>570</th>\n",
       "      <td>datasets/ht_ef_datasets/arab_observer_and_the_...</td>\n",
       "      <td>inu_32000013025046</td>\n",
       "      <td>no.327-331 1966</td>\n",
       "      <td>1966-10-31</td>\n",
       "      <td>1966-10-31</td>\n",
       "      <td>inu.32000013025046</td>\n",
       "      <td>https://catalog.hathitrust.org/Record/006064523</td>\n",
       "    </tr>\n",
       "    <tr>\n",
       "      <th>571</th>\n",
       "      <td>datasets/ht_ef_datasets/arab_observer_and_the_...</td>\n",
       "      <td>inu_32000013025046</td>\n",
       "      <td>no.327-331 1966</td>\n",
       "      <td>1966-10-31</td>\n",
       "      <td>1966-10-31</td>\n",
       "      <td>inu.32000013025046</td>\n",
       "      <td>https://catalog.hathitrust.org/Record/006064523</td>\n",
       "    </tr>\n",
       "  </tbody>\n",
       "</table>\n",
       "<p>572 rows × 7 columns</p>\n",
       "</div>"
      ],
      "text/plain": [
       "                                 publication_directory    volume_directory  \\\n",
       "0    datasets/ht_ef_datasets/arab_observer_and_the_...  mdp_39015056038071   \n",
       "1    datasets/ht_ef_datasets/arab_observer_and_the_...  mdp_39015056038071   \n",
       "2    datasets/ht_ef_datasets/arab_observer_and_the_...  mdp_39015056038071   \n",
       "3    datasets/ht_ef_datasets/arab_observer_and_the_...  mdp_39015056038071   \n",
       "4    datasets/ht_ef_datasets/arab_observer_and_the_...  mdp_39015056038071   \n",
       "..                                                 ...                 ...   \n",
       "567  datasets/ht_ef_datasets/arab_observer_and_the_...  inu_32000013025046   \n",
       "568  datasets/ht_ef_datasets/arab_observer_and_the_...  inu_32000013025046   \n",
       "569  datasets/ht_ef_datasets/arab_observer_and_the_...  inu_32000013025046   \n",
       "570  datasets/ht_ef_datasets/arab_observer_and_the_...  inu_32000013025046   \n",
       "571  datasets/ht_ef_datasets/arab_observer_and_the_...  inu_32000013025046   \n",
       "\n",
       "    original_volumes start_issue  end_issue                htid  \\\n",
       "0       1962 Jan-Jun  1962-01-01 1962-01-01  mdp.39015056038071   \n",
       "1       1962 Jan-Jun  1962-01-01 1962-01-01  mdp.39015056038071   \n",
       "2       1962 Jan-Jun  1962-01-01 1962-01-01  mdp.39015056038071   \n",
       "3       1962 Jan-Jun  1962-01-08 1962-01-08  mdp.39015056038071   \n",
       "4       1962 Jan-Jun  1962-01-08 1962-01-08  mdp.39015056038071   \n",
       "..               ...         ...        ...                 ...   \n",
       "567  no.327-331 1966  1966-10-17 1966-10-17  inu.32000013025046   \n",
       "568  no.327-331 1966  1966-10-24 1966-10-24  inu.32000013025046   \n",
       "569  no.327-331 1966  1966-10-24 1966-10-24  inu.32000013025046   \n",
       "570  no.327-331 1966  1966-10-31 1966-10-31  inu.32000013025046   \n",
       "571  no.327-331 1966  1966-10-31 1966-10-31  inu.32000013025046   \n",
       "\n",
       "                                          record_url  \n",
       "0    https://catalog.hathitrust.org/Record/000679918  \n",
       "1    https://catalog.hathitrust.org/Record/000679918  \n",
       "2    https://catalog.hathitrust.org/Record/000679918  \n",
       "3    https://catalog.hathitrust.org/Record/000679918  \n",
       "4    https://catalog.hathitrust.org/Record/000679918  \n",
       "..                                               ...  \n",
       "567  https://catalog.hathitrust.org/Record/006064523  \n",
       "568  https://catalog.hathitrust.org/Record/006064523  \n",
       "569  https://catalog.hathitrust.org/Record/006064523  \n",
       "570  https://catalog.hathitrust.org/Record/006064523  \n",
       "571  https://catalog.hathitrust.org/Record/006064523  \n",
       "\n",
       "[572 rows x 7 columns]"
      ]
     },
     "execution_count": 244,
     "metadata": {},
     "output_type": "execute_result"
    }
   ],
   "source": [
    "merged_annotated_df[['publication_directory', 'volume_directory', 'original_volumes', 'start_issue', 'end_issue', 'htid', 'record_url']]"
   ]
  },
  {
   "cell_type": "code",
   "execution_count": 242,
   "metadata": {},
   "outputs": [
    {
     "name": "stderr",
     "output_type": "stream",
     "text": [
      "/var/folders/fc/c_5vvt992871rr8qbqy645340000gq/T/ipykernel_87386/4046917960.py:29: DeprecationWarning: DataFrameGroupBy.apply operated on the grouping columns. This behavior is deprecated, and in a future version of pandas the grouping columns will be excluded from the operation. Either pass `include_groups=False` to exclude the groupings or explicitly select the grouping columns after groupby to silence this warning.\n",
      "  subset_merged_annotated_df = subset_merged_annotated_df.groupby('issue_id', group_keys=False).apply(fill_issue_block)\n"
     ]
    }
   ],
   "source": [
    "# Sort the DataFrame\n",
    "# subset_merged_annotated_df = subset_merged_annotated_df.sort_values(by=['original_volumes', 'page_number'])\n",
    "\n",
    "# Fill forward to propagate the last non-null date through NaNs temporarily\n",
    "subset_merged_annotated_df['temp_date'] = subset_merged_annotated_df['dates'].ffill()\n",
    "\n",
    "# Create a unique group ID based on when a new date occurs\n",
    "subset_merged_annotated_df['issue_id'] = (subset_merged_annotated_df['temp_date'] != subset_merged_annotated_df['temp_date'].shift()).cumsum()\n",
    "# Cast specific columns to desired types before filling\n",
    "subset_merged_annotated_df['token'] = subset_merged_annotated_df['token'].astype(str)\n",
    "subset_merged_annotated_df['notes'] = subset_merged_annotated_df['notes'].astype(str)\n",
    "subset_merged_annotated_df['section'] = subset_merged_annotated_df['section'].astype(str)\n",
    "subset_merged_annotated_df['pos'] = subset_merged_annotated_df['pos'].astype(str)\n",
    "subset_merged_annotated_df['count'] = subset_merged_annotated_df['count'].astype(float)  # Or \n",
    "with pd.option_context('future.no_silent_downcasting', True):\n",
    "\t# Function to fill within each issue block\n",
    "\tdef fill_issue_block(group):\n",
    "\t\t# Fill specific columns within the group\n",
    "\t\tgroup[['token', 'notes', 'section', 'pos']] = group[['token', 'notes', 'section', 'pos']].fillna('')\n",
    "\t\tgroup['count'] = group['count'].fillna(0)\n",
    "\t\tgroup['type_of_page'] = group['type_of_page'].fillna(\"content\")\n",
    "\t\t\n",
    "\t\t# Forward-fill and backward-fill within the group\n",
    "\t\tgroup = group.ffill().bfill()\n",
    "\t\t\n",
    "\t\treturn group\n",
    "\n",
    "\t# Apply the filling function to each group\n",
    "\tsubset_merged_annotated_df = subset_merged_annotated_df.groupby('issue_id', group_keys=False).apply(fill_issue_block)\n",
    "\n",
    "# Drop the temporary columns\n",
    "subset_merged_annotated_df = subset_merged_annotated_df.drop(columns=['temp_date', 'issue_id'])\n",
    "\n",
    "# Infer data types after filling\n",
    "subset_merged_annotated_df = subset_merged_annotated_df.infer_objects()"
   ]
  },
  {
   "cell_type": "code",
   "execution_count": 230,
   "metadata": {},
   "outputs": [
    {
     "data": {
      "text/plain": [
       "dates\n",
       "June 25 1962        12986\n",
       "March 19 1962       12918\n",
       "March 12 1962       12453\n",
       "January 29 1962     12322\n",
       "January 22 1962     12039\n",
       "March 26 1962       11992\n",
       "January 1 1962      11929\n",
       "May 14 1962         11891\n",
       "April 23 1962       11833\n",
       "June 18 1962        11832\n",
       "February 19 1962    11766\n",
       "April 30 1962       11690\n",
       "March 5 1962        11665\n",
       "February 26 1962    11623\n",
       "April 16 1962       11496\n",
       "June 11 1962        11488\n",
       "January 15 1962     11354\n",
       "February 12 1962    11346\n",
       "February 5 1962     11299\n",
       "April 2 1962        11257\n",
       "May 28 1962         10852\n",
       "May 21 1962         10840\n",
       "June 4 1962         10721\n",
       "May 7 1962          10708\n",
       "April 9 1962        10561\n",
       "January 8 1962      10034\n",
       "Name: count, dtype: int64"
      ]
     },
     "execution_count": 230,
     "metadata": {},
     "output_type": "execute_result"
    }
   ],
   "source": [
    "subset_merged_annotated_df.dates.value_counts()"
   ]
  },
  {
   "cell_type": "code",
   "execution_count": 231,
   "metadata": {},
   "outputs": [],
   "source": [
    "# # Sort the DataFrame\n",
    "# subset_merged_annotated_df = subset_merged_annotated_df.sort_values(by=['original_volumes', 'page_number'])\n",
    "\n",
    "# # Ensure you are working with a copy\n",
    "# subset_merged_annotated_df = subset_merged_annotated_df.copy()\n",
    "\n",
    "# # Replace nulls in 'type_of_page' with 'content'\n",
    "# subset_merged_annotated_df.loc[subset_merged_annotated_df['type_of_page'].isnull(), 'type_of_page'] = 'content'\n",
    "\n",
    "# # Fill NaNs in specific columns with appropriate values\n",
    "# subset_merged_annotated_df[['token', 'notes', 'section', 'pos']] = subset_merged_annotated_df[['token', 'notes', 'section', 'pos']].fillna('')\n",
    "\n",
    "# # Fill NaNs in 'count' column with 0\n",
    "# subset_merged_annotated_df['count'] = subset_merged_annotated_df['count'].fillna(0)\n",
    "\n",
    "# # Forward-fill and backward-fill without downcasting\n",
    "# subset_merged_annotated_df = subset_merged_annotated_df.ffill().bfill()\n",
    "\n",
    "# # Infer data types after filling\n",
    "# subset_merged_annotated_df = subset_merged_annotated_df.infer_objects()"
   ]
  },
  {
   "cell_type": "code",
   "execution_count": 232,
   "metadata": {},
   "outputs": [],
   "source": [
    "def cut_vols(rows):\n",
    "    # Make a copy to ensure original data is preserved\n",
    "    final_rows = rows.copy()\n",
    "\n",
    "    # Filter rows up to the last `end_of_issue` page_number, if present\n",
    "    if 'end_of_issue' in final_rows['type_of_page'].values:\n",
    "        end_page_number = final_rows[final_rows['type_of_page'] == 'end_of_issue']['page_number'].tolist()[-1]\n",
    "        final_rows = final_rows[final_rows['page_number'] <= end_page_number]\n",
    "\n",
    "    # Determine the first page_number to include based on `cover_page` or fallback to `toc`\n",
    "    if 'cover_page' in final_rows['type_of_page'].values:\n",
    "        first_page_number = final_rows[final_rows['type_of_page'] == 'cover_page']['page_number'].values[0]\n",
    "    elif 'toc' in final_rows['type_of_page'].values:\n",
    "        first_page_number = final_rows[final_rows['type_of_page'] == 'toc']['page_number'].values[0]\n",
    "    else:\n",
    "        first_page_number = 0  # Default to the beginning if neither `cover_page` nor `toc` is present\n",
    "\n",
    "    # Exclude rows before the determined first page_number\n",
    "    final_rows = final_rows[final_rows['page_number'] > first_page_number - 1]\n",
    "\n",
    "    # Remove page_numbers within duplicate ranges, if `duplicates` is present\n",
    "    if 'duplicates' in final_rows['type_of_page'].values:\n",
    "        duplicates_range = final_rows[final_rows['type_of_page'] == 'duplicates']['notes'].values[0]\n",
    "        start, end = map(int, duplicates_range.split('-'))\n",
    "        final_rows = final_rows[~final_rows['page_number'].between(start, end)]\n",
    "\n",
    "    return final_rows"
   ]
  },
  {
   "cell_type": "code",
   "execution_count": 233,
   "metadata": {},
   "outputs": [],
   "source": [
    "test = subset_merged_annotated_df.copy()\n",
    "test = test.sort_values(by=['original_volumes', 'page_number'])"
   ]
  },
  {
   "cell_type": "code",
   "execution_count": 234,
   "metadata": {},
   "outputs": [
    {
     "name": "stderr",
     "output_type": "stream",
     "text": [
      "/var/folders/fc/c_5vvt992871rr8qbqy645340000gq/T/ipykernel_87386/2002313983.py:1: DeprecationWarning: DataFrameGroupBy.apply operated on the grouping columns. This behavior is deprecated, and in a future version of pandas the grouping columns will be excluded from the operation. Either pass `include_groups=False` to exclude the groupings or explicitly select the grouping columns after groupby to silence this warning.\n",
      "  test2 = test.groupby('dates', group_keys=False).apply(cut_vols, include_groups=True)\n"
     ]
    }
   ],
   "source": [
    "test2 = test.groupby('dates', group_keys=False).apply(cut_vols, include_groups=True)"
   ]
  },
  {
   "cell_type": "code",
   "execution_count": 235,
   "metadata": {},
   "outputs": [
    {
     "data": {
      "text/plain": [
       "(300895, 300791, 300895)"
      ]
     },
     "execution_count": 235,
     "metadata": {},
     "output_type": "execute_result"
    }
   ],
   "source": [
    "len(test), len(test2), len(subset_merged_annotated_df)"
   ]
  },
  {
   "cell_type": "code",
   "execution_count": 236,
   "metadata": {},
   "outputs": [
    {
     "data": {
      "text/plain": [
       "type_of_page\n",
       "content         293243\n",
       "toc               6502\n",
       "cover_page        1045\n",
       "end_of_issue         1\n",
       "Name: count, dtype: int64"
      ]
     },
     "execution_count": 236,
     "metadata": {},
     "output_type": "execute_result"
    }
   ],
   "source": [
    "test2.type_of_page.value_counts()"
   ]
  },
  {
   "cell_type": "code",
   "execution_count": 237,
   "metadata": {},
   "outputs": [
    {
     "data": {
      "text/plain": [
       "type_of_page\n",
       "content         293332\n",
       "toc               6502\n",
       "cover_page        1045\n",
       "duplicates          14\n",
       "scanner_page         1\n",
       "end_of_issue         1\n",
       "Name: count, dtype: int64"
      ]
     },
     "execution_count": 237,
     "metadata": {},
     "output_type": "execute_result"
    }
   ],
   "source": [
    "subset_merged_annotated_df.type_of_page.value_counts()"
   ]
  },
  {
   "cell_type": "code",
   "execution_count": 162,
   "metadata": {},
   "outputs": [
    {
     "data": {
      "text/plain": [
       "dates\n",
       "June 25 1962        12986\n",
       "April 23 1962         611\n",
       "May 14 1962           432\n",
       "May 7 1962            355\n",
       "April 30 1962         351\n",
       "June 11 1962          351\n",
       "June 18 1962          348\n",
       "January 1 1962        319\n",
       "January 22 1962       300\n",
       "January 15 1962       285\n",
       "March 12 1962         281\n",
       "February 12 1962      280\n",
       "March 26 1962         277\n",
       "February 19 1962      276\n",
       "March 19 1962         276\n",
       "February 26 1962      265\n",
       "April 2 1962          256\n",
       "May 21 1962           245\n",
       "January 8 1962        239\n",
       "May 28 1962           237\n",
       "February 5 1962       232\n",
       "April 9 1962          232\n",
       "March 5 1962          225\n",
       "April 16 1962         213\n",
       "January 29 1962       205\n",
       "June 4 1962           122\n",
       "Name: count, dtype: int64"
      ]
     },
     "execution_count": 162,
     "metadata": {},
     "output_type": "execute_result"
    }
   ],
   "source": [
    "test2.dates.value_counts()"
   ]
  },
  {
   "cell_type": "code",
   "execution_count": 9,
   "metadata": {},
   "outputs": [
    {
     "name": "stderr",
     "output_type": "stream",
     "text": [
      "0it [00:00, ?it/s]"
     ]
    },
    {
     "data": {
      "text/html": [
       "<pre style=\"white-space:pre;overflow-x:auto;line-height:normal;font-family:Menlo,'DejaVu Sans Mono',consolas,'Courier New',monospace\"><span style=\"color: #800080; text-decoration-color: #800080\">Processing freedomways_annotated_dataset.csv</span><span style=\"color: #808000; text-decoration-color: #808000\">...</span>\n",
       "</pre>\n"
      ],
      "text/plain": [
       "\u001b[35mProcessing freedomways_annotated_dataset.csv\u001b[0m\u001b[33m...\u001b[0m\n"
      ]
     },
     "metadata": {},
     "output_type": "display_data"
    },
    {
     "data": {
      "text/html": [
       "<pre style=\"white-space:pre;overflow-x:auto;line-height:normal;font-family:Menlo,'DejaVu Sans Mono',consolas,'Courier New',monospace\"><span style=\"color: #800080; text-decoration-color: #800080\">Processing solidarity_annotated_dataset.csv</span><span style=\"color: #808000; text-decoration-color: #808000\">...</span>\n",
       "</pre>\n"
      ],
      "text/plain": [
       "\u001b[35mProcessing solidarity_annotated_dataset.csv\u001b[0m\u001b[33m...\u001b[0m\n"
      ]
     },
     "metadata": {},
     "output_type": "display_data"
    },
    {
     "name": "stdout",
     "output_type": "stream",
     "text": [
      "solidarity\n",
      "No fuzzy match found for solidarity\n"
     ]
    },
    {
     "data": {
      "text/html": [
       "<pre style=\"white-space:pre;overflow-x:auto;line-height:normal;font-family:Menlo,'DejaVu Sans Mono',consolas,'Courier New',monospace\"><span style=\"color: #800080; text-decoration-color: #800080\">Processing afro_asian_peoples_annotated_dataset.csv</span><span style=\"color: #808000; text-decoration-color: #808000\">...</span>\n",
       "</pre>\n"
      ],
      "text/plain": [
       "\u001b[35mProcessing afro_asian_peoples_annotated_dataset.csv\u001b[0m\u001b[33m...\u001b[0m\n"
      ]
     },
     "metadata": {},
     "output_type": "display_data"
    },
    {
     "name": "stdout",
     "output_type": "stream",
     "text": [
      "afro_asian_peoples\n",
      "Fuzzy match found: afro_asian_peoples\n",
      "Index(['issue_number', 'dates', 'page_number', 'type_of_page',\n",
      "       'original_volumes', 'notes'],\n",
      "      dtype='object')\n",
      "Index(['issue_number', 'dates', 'page_number', 'type_of_page',\n",
      "       'original_volumes', 'notes', 'start_issue', 'end_issue'],\n",
      "      dtype='object')\n"
     ]
    },
    {
     "name": "stderr",
     "output_type": "stream",
     "text": [
      "/var/folders/fc/c_5vvt992871rr8qbqy645340000gq/T/ipykernel_87386/2969925928.py:20: FutureWarning: DataFrame.fillna with 'method' is deprecated and will raise in a future version. Use obj.ffill() or obj.bfill() instead.\n",
      "  annotated_df = annotated_df.fillna(method='ffill')\n",
      "/var/folders/fc/c_5vvt992871rr8qbqy645340000gq/T/ipykernel_87386/2969925928.py:22: DeprecationWarning: DataFrameGroupBy.apply operated on the grouping columns. This behavior is deprecated, and in a future version of pandas the grouping columns will be excluded from the operation. Either pass `include_groups=False` to exclude the groupings or explicitly select the grouping columns after groupby to silence this warning.\n",
      "  annotated_df = annotated_df.groupby('dates').apply(transform_annotated_dates)\n"
     ]
    },
    {
     "data": {
      "text/html": [
       "<pre style=\"white-space:pre;overflow-x:auto;line-height:normal;font-family:Menlo,'DejaVu Sans Mono',consolas,'Courier New',monospace\"><span style=\"color: #800080; text-decoration-color: #800080\">Processing liberator_annotated_dataset.csv</span><span style=\"color: #808000; text-decoration-color: #808000\">...</span>\n",
       "</pre>\n"
      ],
      "text/plain": [
       "\u001b[35mProcessing liberator_annotated_dataset.csv\u001b[0m\u001b[33m...\u001b[0m\n"
      ]
     },
     "metadata": {},
     "output_type": "display_data"
    },
    {
     "name": "stdout",
     "output_type": "stream",
     "text": [
      "liberator\n",
      "Fuzzy match found: liberator\n",
      "Index(['issue_number', 'dates', 'page_number', 'type_of_page',\n",
      "       'original_volumes', 'notes'],\n",
      "      dtype='object')\n",
      "Index(['issue_number', 'dates', 'page_number', 'type_of_page',\n",
      "       'original_volumes', 'notes', 'start_issue', 'end_issue'],\n",
      "      dtype='object')\n"
     ]
    },
    {
     "name": "stderr",
     "output_type": "stream",
     "text": [
      "/var/folders/fc/c_5vvt992871rr8qbqy645340000gq/T/ipykernel_87386/2969925928.py:20: FutureWarning: DataFrame.fillna with 'method' is deprecated and will raise in a future version. Use obj.ffill() or obj.bfill() instead.\n",
      "  annotated_df = annotated_df.fillna(method='ffill')\n",
      "/var/folders/fc/c_5vvt992871rr8qbqy645340000gq/T/ipykernel_87386/2969925928.py:22: DeprecationWarning: DataFrameGroupBy.apply operated on the grouping columns. This behavior is deprecated, and in a future version of pandas the grouping columns will be excluded from the operation. Either pass `include_groups=False` to exclude the groupings or explicitly select the grouping columns after groupby to silence this warning.\n",
      "  annotated_df = annotated_df.groupby('dates').apply(transform_annotated_dates)\n"
     ]
    },
    {
     "data": {
      "text/html": [
       "<pre style=\"white-space:pre;overflow-x:auto;line-height:normal;font-family:Menlo,'DejaVu Sans Mono',consolas,'Courier New',monospace\"><span style=\"color: #800080; text-decoration-color: #800080\">Processing afro_asian_and_world_affairs_annotated_dataset.csv</span><span style=\"color: #808000; text-decoration-color: #808000\">...</span>\n",
       "</pre>\n"
      ],
      "text/plain": [
       "\u001b[35mProcessing afro_asian_and_world_affairs_annotated_dataset.csv\u001b[0m\u001b[33m...\u001b[0m\n"
      ]
     },
     "metadata": {},
     "output_type": "display_data"
    },
    {
     "name": "stdout",
     "output_type": "stream",
     "text": [
      "afro_asian_and_world_affairs\n",
      "Fuzzy match found: afro_asian_and_world_affairs\n",
      "Index(['issue_number', 'dates', 'page_number', 'type_of_page',\n",
      "       'original_volumes', 'notes'],\n",
      "      dtype='object')\n",
      "Index(['issue_number', 'dates', 'page_number', 'type_of_page',\n",
      "       'original_volumes', 'notes', 'start_issue', 'end_issue'],\n",
      "      dtype='object')\n"
     ]
    },
    {
     "name": "stderr",
     "output_type": "stream",
     "text": [
      "/var/folders/fc/c_5vvt992871rr8qbqy645340000gq/T/ipykernel_87386/2969925928.py:20: FutureWarning: DataFrame.fillna with 'method' is deprecated and will raise in a future version. Use obj.ffill() or obj.bfill() instead.\n",
      "  annotated_df = annotated_df.fillna(method='ffill')\n",
      "/var/folders/fc/c_5vvt992871rr8qbqy645340000gq/T/ipykernel_87386/2969925928.py:22: DeprecationWarning: DataFrameGroupBy.apply operated on the grouping columns. This behavior is deprecated, and in a future version of pandas the grouping columns will be excluded from the operation. Either pass `include_groups=False` to exclude the groupings or explicitly select the grouping columns after groupby to silence this warning.\n",
      "  annotated_df = annotated_df.groupby('dates').apply(transform_annotated_dates)\n"
     ]
    },
    {
     "data": {
      "text/html": [
       "<pre style=\"white-space:pre;overflow-x:auto;line-height:normal;font-family:Menlo,'DejaVu Sans Mono',consolas,'Courier New',monospace\"><span style=\"color: #800080; text-decoration-color: #800080\">Processing afro_asian_bulletin_annotated_dataset.csv</span><span style=\"color: #808000; text-decoration-color: #808000\">...</span>\n",
       "</pre>\n"
      ],
      "text/plain": [
       "\u001b[35mProcessing afro_asian_bulletin_annotated_dataset.csv\u001b[0m\u001b[33m...\u001b[0m\n"
      ]
     },
     "metadata": {},
     "output_type": "display_data"
    },
    {
     "name": "stdout",
     "output_type": "stream",
     "text": [
      "afro_asian_bulletin\n",
      "Fuzzy match found: afro_asian_bulletin\n",
      "Index(['issue_number', 'dates', 'page_number', 'type_of_page',\n",
      "       'original_volumes', 'volumes', 'notes'],\n",
      "      dtype='object')\n",
      "Index(['issue_number', 'dates', 'page_number', 'type_of_page',\n",
      "       'original_volumes', 'volumes', 'notes', 'start_issue', 'end_issue'],\n",
      "      dtype='object')\n"
     ]
    },
    {
     "name": "stderr",
     "output_type": "stream",
     "text": [
      "/var/folders/fc/c_5vvt992871rr8qbqy645340000gq/T/ipykernel_87386/2969925928.py:20: FutureWarning: DataFrame.fillna with 'method' is deprecated and will raise in a future version. Use obj.ffill() or obj.bfill() instead.\n",
      "  annotated_df = annotated_df.fillna(method='ffill')\n",
      "/var/folders/fc/c_5vvt992871rr8qbqy645340000gq/T/ipykernel_87386/2969925928.py:22: DeprecationWarning: DataFrameGroupBy.apply operated on the grouping columns. This behavior is deprecated, and in a future version of pandas the grouping columns will be excluded from the operation. Either pass `include_groups=False` to exclude the groupings or explicitly select the grouping columns after groupby to silence this warning.\n",
      "  annotated_df = annotated_df.groupby('dates').apply(transform_annotated_dates)\n"
     ]
    },
    {
     "data": {
      "text/html": [
       "<pre style=\"white-space:pre;overflow-x:auto;line-height:normal;font-family:Menlo,'DejaVu Sans Mono',consolas,'Courier New',monospace\"><span style=\"color: #800080; text-decoration-color: #800080\">Processing arab_observer_annotated_dataset.csv</span><span style=\"color: #808000; text-decoration-color: #808000\">...</span>\n",
       "</pre>\n"
      ],
      "text/plain": [
       "\u001b[35mProcessing arab_observer_annotated_dataset.csv\u001b[0m\u001b[33m...\u001b[0m\n"
      ]
     },
     "metadata": {},
     "output_type": "display_data"
    },
    {
     "name": "stdout",
     "output_type": "stream",
     "text": [
      "arab_observer\n",
      "No fuzzy match found for arab_observer\n"
     ]
    },
    {
     "data": {
      "text/html": [
       "<pre style=\"white-space:pre;overflow-x:auto;line-height:normal;font-family:Menlo,'DejaVu Sans Mono',consolas,'Courier New',monospace\"><span style=\"color: #800080; text-decoration-color: #800080\">Processing lotus_annotated_dataset.csv</span><span style=\"color: #808000; text-decoration-color: #808000\">...</span>\n",
       "</pre>\n"
      ],
      "text/plain": [
       "\u001b[35mProcessing lotus_annotated_dataset.csv\u001b[0m\u001b[33m...\u001b[0m\n"
      ]
     },
     "metadata": {},
     "output_type": "display_data"
    },
    {
     "name": "stderr",
     "output_type": "stream",
     "text": [
      "/var/folders/fc/c_5vvt992871rr8qbqy645340000gq/T/ipykernel_87386/2969925928.py:20: FutureWarning: DataFrame.fillna with 'method' is deprecated and will raise in a future version. Use obj.ffill() or obj.bfill() instead.\n",
      "  annotated_df = annotated_df.fillna(method='ffill')\n"
     ]
    },
    {
     "name": "stdout",
     "output_type": "stream",
     "text": [
      "lotus\n",
      "Fuzzy match found: lotus\n",
      "Index(['issue_number', 'dates', 'page_number', 'type_of_page',\n",
      "       'original_volumes', 'notes'],\n",
      "      dtype='object')\n",
      "Index(['issue_number', 'dates', 'page_number', 'type_of_page',\n",
      "       'original_volumes', 'notes', 'start_issue', 'end_issue'],\n",
      "      dtype='object')\n"
     ]
    },
    {
     "name": "stderr",
     "output_type": "stream",
     "text": [
      "/var/folders/fc/c_5vvt992871rr8qbqy645340000gq/T/ipykernel_87386/2969925928.py:22: DeprecationWarning: DataFrameGroupBy.apply operated on the grouping columns. This behavior is deprecated, and in a future version of pandas the grouping columns will be excluded from the operation. Either pass `include_groups=False` to exclude the groupings or explicitly select the grouping columns after groupby to silence this warning.\n",
      "  annotated_df = annotated_df.groupby('dates').apply(transform_annotated_dates)\n"
     ]
    },
    {
     "data": {
      "text/html": [
       "<pre style=\"white-space:pre;overflow-x:auto;line-height:normal;font-family:Menlo,'DejaVu Sans Mono',consolas,'Courier New',monospace\"><span style=\"color: #800080; text-decoration-color: #800080\">Processing scribe_annotated_dataset.csv</span><span style=\"color: #808000; text-decoration-color: #808000\">...</span>\n",
       "</pre>\n"
      ],
      "text/plain": [
       "\u001b[35mProcessing scribe_annotated_dataset.csv\u001b[0m\u001b[33m...\u001b[0m\n"
      ]
     },
     "metadata": {},
     "output_type": "display_data"
    },
    {
     "name": "stdout",
     "output_type": "stream",
     "text": [
      "scribe\n",
      "Fuzzy match found: scribe\n",
      "Index(['issue_number', 'dates', 'page_number', 'type_of_page',\n",
      "       'original_volumes', 'notes'],\n",
      "      dtype='object')\n",
      "Index(['issue_number', 'dates', 'page_number', 'type_of_page',\n",
      "       'original_volumes', 'notes', 'start_issue', 'end_issue'],\n",
      "      dtype='object')\n"
     ]
    },
    {
     "name": "stderr",
     "output_type": "stream",
     "text": [
      "/var/folders/fc/c_5vvt992871rr8qbqy645340000gq/T/ipykernel_87386/2969925928.py:20: FutureWarning: DataFrame.fillna with 'method' is deprecated and will raise in a future version. Use obj.ffill() or obj.bfill() instead.\n",
      "  annotated_df = annotated_df.fillna(method='ffill')\n",
      "/var/folders/fc/c_5vvt992871rr8qbqy645340000gq/T/ipykernel_87386/2969925928.py:22: DeprecationWarning: DataFrameGroupBy.apply operated on the grouping columns. This behavior is deprecated, and in a future version of pandas the grouping columns will be excluded from the operation. Either pass `include_groups=False` to exclude the groupings or explicitly select the grouping columns after groupby to silence this warning.\n",
      "  annotated_df = annotated_df.groupby('dates').apply(transform_annotated_dates)\n"
     ]
    },
    {
     "data": {
      "text/html": [
       "<pre style=\"white-space:pre;overflow-x:auto;line-height:normal;font-family:Menlo,'DejaVu Sans Mono',consolas,'Courier New',monospace\"><span style=\"color: #800080; text-decoration-color: #800080\">Processing tricontinental_annotated_dataset.csv</span><span style=\"color: #808000; text-decoration-color: #808000\">...</span>\n",
       "</pre>\n"
      ],
      "text/plain": [
       "\u001b[35mProcessing tricontinental_annotated_dataset.csv\u001b[0m\u001b[33m...\u001b[0m\n"
      ]
     },
     "metadata": {},
     "output_type": "display_data"
    },
    {
     "name": "stdout",
     "output_type": "stream",
     "text": [
      "tricontinental\n",
      "Fuzzy match found: tricontinental\n",
      "Index(['issue_number', 'dates', 'page_number', 'type_of_page',\n",
      "       'original_volumes', 'notes'],\n",
      "      dtype='object')\n"
     ]
    },
    {
     "name": "stderr",
     "output_type": "stream",
     "text": [
      "/var/folders/fc/c_5vvt992871rr8qbqy645340000gq/T/ipykernel_87386/2969925928.py:20: FutureWarning: DataFrame.fillna with 'method' is deprecated and will raise in a future version. Use obj.ffill() or obj.bfill() instead.\n",
      "  annotated_df = annotated_df.fillna(method='ffill')\n",
      "/var/folders/fc/c_5vvt992871rr8qbqy645340000gq/T/ipykernel_87386/2969925928.py:22: DeprecationWarning: DataFrameGroupBy.apply operated on the grouping columns. This behavior is deprecated, and in a future version of pandas the grouping columns will be excluded from the operation. Either pass `include_groups=False` to exclude the groupings or explicitly select the grouping columns after groupby to silence this warning.\n",
      "  annotated_df = annotated_df.groupby('dates').apply(transform_annotated_dates)\n",
      "1it [00:00,  2.34it/s]"
     ]
    },
    {
     "name": "stdout",
     "output_type": "stream",
     "text": [
      "Index(['issue_number', 'dates', 'page_number', 'type_of_page',\n",
      "       'original_volumes', 'notes', 'start_issue', 'end_issue'],\n",
      "      dtype='object')\n"
     ]
    },
    {
     "name": "stderr",
     "output_type": "stream",
     "text": [
      "\n"
     ]
    }
   ],
   "source": [
    "from thefuzz import fuzz, process\n",
    "from rich.console import Console\n",
    "console = Console()\n",
    "\n",
    "annotated_datasets_output_path = os.path.join('..', 'datasets', 'annotated_datasets')\n",
    "for _, _, files in tqdm(os.walk(annotated_datasets_output_path)):\n",
    "\tfor f in files:\n",
    "\t\tif (f.endswith('.csv')):\n",
    "\t\t\tconsole.print(f'Processing {f}...', style=\"magenta\")\n",
    "\t\t\tif 'freedomways' in f:\n",
    "\t\t\t\tcontinue\n",
    "\t\t\t# Create file name and join directories for files\n",
    "\t\t\tfile_name = f.rsplit('.', 1)[0]\n",
    "\t\t\tfilenames = '_'.join([fi for fi in file_name.split('_') if not fi.isdigit()])\n",
    "\t\t\tfilenames = filenames.replace('_annotated_dataset', '')\n",
    "\t\t\tappended_data = False\n",
    "\t\t\tfinal_dir = ''\n",
    "\t\t\tprint(filenames)\n",
    "\t\t\tchoices = df.lowercase_periodical_name.unique().tolist()\n",
    "\t\t\tfuzzy_matches = process.extract(filenames, choices, scorer=fuzz.token_sort_ratio, limit=5)\n",
    "\t\t\ttop_match = fuzzy_matches[0]\n",
    "\t\t\tif top_match[1] == 100:\n",
    "\t\t\t\tprint(f'Fuzzy match found: {top_match[0]}')\n",
    "\t\t\t\t# print(df[df.lowercase_periodical_name == top_match[0]])\n",
    "\t\t\t\tfinal_dir = df[df.lowercase_periodical_name == top_match[0]].iloc[0]['publication_directory']\n",
    "\t\t\t\tappended_data = True\n",
    "\t\t\t\tannotated_df = pd.read_csv(os.path.join(annotated_datasets_output_path, f))\n",
    "\t\t\t\tannotated_df.Dates = annotated_df.Dates.str.replace('Decmeber', 'December')\n",
    "\t\t\t\tannotated_df.Dates = annotated_df.Dates.str.replace('Summer', 'July')\n",
    "\t\t\t\tcleaned_annotated_df = clean_annotated_df(annotated_df)\n",
    "\t\t\t\tprint(cleaned_annotated_df.columns)\n",
    "\t\t\telse:\n",
    "\t\t\t\tprint(f'No fuzzy match found for {filenames}')"
   ]
  },
  {
   "cell_type": "code",
   "execution_count": 7,
   "metadata": {},
   "outputs": [
    {
     "data": {
      "text/html": [
       "<div>\n",
       "<style scoped>\n",
       "    .dataframe tbody tr th:only-of-type {\n",
       "        vertical-align: middle;\n",
       "    }\n",
       "\n",
       "    .dataframe tbody tr th {\n",
       "        vertical-align: top;\n",
       "    }\n",
       "\n",
       "    .dataframe thead th {\n",
       "        text-align: right;\n",
       "    }\n",
       "</style>\n",
       "<table border=\"1\" class=\"dataframe\">\n",
       "  <thead>\n",
       "    <tr style=\"text-align: right;\">\n",
       "      <th></th>\n",
       "      <th>link</th>\n",
       "      <th>htid</th>\n",
       "      <th>date</th>\n",
       "      <th>original_source</th>\n",
       "      <th>record_url</th>\n",
       "      <th>periodical_name</th>\n",
       "      <th>publication_type</th>\n",
       "      <th>id</th>\n",
       "      <th>metadata_schema_version</th>\n",
       "      <th>enumeration_chronology</th>\n",
       "      <th>...</th>\n",
       "      <th>is_part_of</th>\n",
       "      <th>last_rights_update_date</th>\n",
       "      <th>pub_place_ld</th>\n",
       "      <th>pub_place</th>\n",
       "      <th>main_entity_of_page</th>\n",
       "      <th>publisher_ld</th>\n",
       "      <th>publisher</th>\n",
       "      <th>lowercase_periodical_name</th>\n",
       "      <th>publication_directory</th>\n",
       "      <th>volume_directory</th>\n",
       "    </tr>\n",
       "  </thead>\n",
       "  <tbody>\n",
       "    <tr>\n",
       "      <th>0</th>\n",
       "      <td>https://hdl.handle.net/2027/inu.30000093395964</td>\n",
       "      <td>inu.30000093395964</td>\n",
       "      <td>NaN</td>\n",
       "      <td>\\n                       Indiana University\\n ...</td>\n",
       "      <td>https://catalog.hathitrust.org/Record/007579658</td>\n",
       "      <td>La Documentation Arabe</td>\n",
       "      <td>Information Bulletin</td>\n",
       "      <td>inu.30000093395964</td>\n",
       "      <td>https://schemas.hathitrust.org/EF_Schema_Metad...</td>\n",
       "      <td>NaN</td>\n",
       "      <td>...</td>\n",
       "      <td>{'id': 'http://www.worldcat.org/oclc/6101458',...</td>\n",
       "      <td>20180507.0</td>\n",
       "      <td>{'id': 'http://id.loc.gov/vocabulary/countries...</td>\n",
       "      <td>Egypt</td>\n",
       "      <td>['https://catalog.hathitrust.org/Record/007579...</td>\n",
       "      <td>{'id': \"http://catalogdata.library.illinois.ed...</td>\n",
       "      <td>Agence d'information du Moyen-Orient.</td>\n",
       "      <td>la_documentation_arabe_</td>\n",
       "      <td>../datasets/ht_ef_datasets/la_documentation_ar...</td>\n",
       "      <td>inu_30000093395964</td>\n",
       "    </tr>\n",
       "    <tr>\n",
       "      <th>1</th>\n",
       "      <td>https://hdl.handle.net/2027/inu.30000093395972</td>\n",
       "      <td>inu.30000093395972</td>\n",
       "      <td>v.2,no.1-23 1963</td>\n",
       "      <td>\\n                       Indiana University\\n ...</td>\n",
       "      <td>https://catalog.hathitrust.org/Record/007579658</td>\n",
       "      <td>La Documentation Arabe</td>\n",
       "      <td>Information Bulletin</td>\n",
       "      <td>inu.30000093395972</td>\n",
       "      <td>https://schemas.hathitrust.org/EF_Schema_Metad...</td>\n",
       "      <td>v.2,no.1-23 1963</td>\n",
       "      <td>...</td>\n",
       "      <td>{'id': 'http://www.worldcat.org/oclc/6101458',...</td>\n",
       "      <td>20180507.0</td>\n",
       "      <td>{'id': 'http://id.loc.gov/vocabulary/countries...</td>\n",
       "      <td>Egypt</td>\n",
       "      <td>['https://catalog.hathitrust.org/Record/007579...</td>\n",
       "      <td>{'id': \"http://catalogdata.library.illinois.ed...</td>\n",
       "      <td>Agence d'information du Moyen-Orient.</td>\n",
       "      <td>la_documentation_arabe_</td>\n",
       "      <td>../datasets/ht_ef_datasets/la_documentation_ar...</td>\n",
       "      <td>inu_30000093395972</td>\n",
       "    </tr>\n",
       "    <tr>\n",
       "      <th>2</th>\n",
       "      <td>https://hdl.handle.net/2027/inu.30000117844955</td>\n",
       "      <td>inu.30000117844955</td>\n",
       "      <td>no.75-78 1964-1965</td>\n",
       "      <td>\\n                       Indiana University\\n ...</td>\n",
       "      <td>https://catalog.hathitrust.org/Record/008569258</td>\n",
       "      <td>Afrique Documents</td>\n",
       "      <td>Information Bulletin</td>\n",
       "      <td>inu.30000117844955</td>\n",
       "      <td>https://schemas.hathitrust.org/EF_Schema_Metad...</td>\n",
       "      <td>no.75-78 1964-1965</td>\n",
       "      <td>...</td>\n",
       "      <td>{'id': 'http://www.worldcat.org/oclc/5969711',...</td>\n",
       "      <td>20180419.0</td>\n",
       "      <td>{'id': 'http://id.loc.gov/vocabulary/countries...</td>\n",
       "      <td>Senegal</td>\n",
       "      <td>['https://catalog.hathitrust.org/Record/008569...</td>\n",
       "      <td>{'id': 'http://catalogdata.library.illinois.ed...</td>\n",
       "      <td>Afrique Documents</td>\n",
       "      <td>afrique_documents</td>\n",
       "      <td>../datasets/ht_ef_datasets/afrique_documents/v...</td>\n",
       "      <td>inu_30000117844955</td>\n",
       "    </tr>\n",
       "    <tr>\n",
       "      <th>3</th>\n",
       "      <td>https://hdl.handle.net/2027/inu.30000117844948</td>\n",
       "      <td>inu.30000117844948</td>\n",
       "      <td>no.81-83 1965</td>\n",
       "      <td>\\n                       Indiana University\\n ...</td>\n",
       "      <td>https://catalog.hathitrust.org/Record/008569258</td>\n",
       "      <td>Afrique Documents</td>\n",
       "      <td>Information Bulletin</td>\n",
       "      <td>inu.30000117844948</td>\n",
       "      <td>https://schemas.hathitrust.org/EF_Schema_Metad...</td>\n",
       "      <td>no.81-83 1965</td>\n",
       "      <td>...</td>\n",
       "      <td>{'id': 'http://www.worldcat.org/oclc/5969711',...</td>\n",
       "      <td>20180419.0</td>\n",
       "      <td>{'id': 'http://id.loc.gov/vocabulary/countries...</td>\n",
       "      <td>Senegal</td>\n",
       "      <td>['https://catalog.hathitrust.org/Record/008569...</td>\n",
       "      <td>{'id': 'http://catalogdata.library.illinois.ed...</td>\n",
       "      <td>Afrique Documents</td>\n",
       "      <td>afrique_documents</td>\n",
       "      <td>../datasets/ht_ef_datasets/afrique_documents/v...</td>\n",
       "      <td>inu_30000117844948</td>\n",
       "    </tr>\n",
       "    <tr>\n",
       "      <th>4</th>\n",
       "      <td>https://hdl.handle.net/2027/inu.30000117844963</td>\n",
       "      <td>inu.30000117844963</td>\n",
       "      <td>no.84-89 1966</td>\n",
       "      <td>\\n                       Indiana University\\n ...</td>\n",
       "      <td>https://catalog.hathitrust.org/Record/008569258</td>\n",
       "      <td>Afrique Documents</td>\n",
       "      <td>Information Bulletin</td>\n",
       "      <td>inu.30000117844963</td>\n",
       "      <td>https://schemas.hathitrust.org/EF_Schema_Metad...</td>\n",
       "      <td>no.84-89 1966</td>\n",
       "      <td>...</td>\n",
       "      <td>{'id': 'http://www.worldcat.org/oclc/5969711',...</td>\n",
       "      <td>20180419.0</td>\n",
       "      <td>{'id': 'http://id.loc.gov/vocabulary/countries...</td>\n",
       "      <td>Senegal</td>\n",
       "      <td>['https://catalog.hathitrust.org/Record/008569...</td>\n",
       "      <td>{'id': 'http://catalogdata.library.illinois.ed...</td>\n",
       "      <td>Afrique Documents</td>\n",
       "      <td>afrique_documents</td>\n",
       "      <td>../datasets/ht_ef_datasets/afrique_documents/v...</td>\n",
       "      <td>inu_30000117844963</td>\n",
       "    </tr>\n",
       "    <tr>\n",
       "      <th>...</th>\n",
       "      <td>...</td>\n",
       "      <td>...</td>\n",
       "      <td>...</td>\n",
       "      <td>...</td>\n",
       "      <td>...</td>\n",
       "      <td>...</td>\n",
       "      <td>...</td>\n",
       "      <td>...</td>\n",
       "      <td>...</td>\n",
       "      <td>...</td>\n",
       "      <td>...</td>\n",
       "      <td>...</td>\n",
       "      <td>...</td>\n",
       "      <td>...</td>\n",
       "      <td>...</td>\n",
       "      <td>...</td>\n",
       "      <td>...</td>\n",
       "      <td>...</td>\n",
       "      <td>...</td>\n",
       "      <td>...</td>\n",
       "      <td>...</td>\n",
       "    </tr>\n",
       "    <tr>\n",
       "      <th>534</th>\n",
       "      <td>https://babel.hathitrust.org/cgi/pt?id=inu.300...</td>\n",
       "      <td>inu.30000125592216</td>\n",
       "      <td>v.6 1963</td>\n",
       "      <td>Indiana University</td>\n",
       "      <td>https://catalog.hathitrust.org/Record/000507426</td>\n",
       "      <td>Scribe</td>\n",
       "      <td>Information Bulletin</td>\n",
       "      <td>NaN</td>\n",
       "      <td>NaN</td>\n",
       "      <td>NaN</td>\n",
       "      <td>...</td>\n",
       "      <td>NaN</td>\n",
       "      <td>NaN</td>\n",
       "      <td>NaN</td>\n",
       "      <td>NaN</td>\n",
       "      <td>NaN</td>\n",
       "      <td>NaN</td>\n",
       "      <td>NaN</td>\n",
       "      <td>NaN</td>\n",
       "      <td>NaN</td>\n",
       "      <td>NaN</td>\n",
       "    </tr>\n",
       "    <tr>\n",
       "      <th>535</th>\n",
       "      <td>https://babel.hathitrust.org/cgi/pt?id=mdp.390...</td>\n",
       "      <td>mdp.39015070444719</td>\n",
       "      <td>v.7-8 no.1-5, 1-3 1963-1964</td>\n",
       "      <td>University of Michigan</td>\n",
       "      <td>https://catalog.hathitrust.org/Record/000507426</td>\n",
       "      <td>Scribe</td>\n",
       "      <td>Information Bulletin</td>\n",
       "      <td>NaN</td>\n",
       "      <td>NaN</td>\n",
       "      <td>NaN</td>\n",
       "      <td>...</td>\n",
       "      <td>NaN</td>\n",
       "      <td>NaN</td>\n",
       "      <td>NaN</td>\n",
       "      <td>NaN</td>\n",
       "      <td>NaN</td>\n",
       "      <td>NaN</td>\n",
       "      <td>NaN</td>\n",
       "      <td>NaN</td>\n",
       "      <td>NaN</td>\n",
       "      <td>NaN</td>\n",
       "    </tr>\n",
       "    <tr>\n",
       "      <th>536</th>\n",
       "      <td>https://babel.hathitrust.org/cgi/pt?id=inu.300...</td>\n",
       "      <td>inu.30000125592224</td>\n",
       "      <td>v.7 1963-1964</td>\n",
       "      <td>Indiana University</td>\n",
       "      <td>https://catalog.hathitrust.org/Record/000507426</td>\n",
       "      <td>Scribe</td>\n",
       "      <td>Information Bulletin</td>\n",
       "      <td>NaN</td>\n",
       "      <td>NaN</td>\n",
       "      <td>NaN</td>\n",
       "      <td>...</td>\n",
       "      <td>NaN</td>\n",
       "      <td>NaN</td>\n",
       "      <td>NaN</td>\n",
       "      <td>NaN</td>\n",
       "      <td>NaN</td>\n",
       "      <td>NaN</td>\n",
       "      <td>NaN</td>\n",
       "      <td>NaN</td>\n",
       "      <td>NaN</td>\n",
       "      <td>NaN</td>\n",
       "    </tr>\n",
       "    <tr>\n",
       "      <th>537</th>\n",
       "      <td>https://babel.hathitrust.org/cgi/pt?id=inu.300...</td>\n",
       "      <td>inu.30000125592232</td>\n",
       "      <td>v.8 1964</td>\n",
       "      <td>Indiana University</td>\n",
       "      <td>https://catalog.hathitrust.org/Record/000507426</td>\n",
       "      <td>Scribe</td>\n",
       "      <td>Information Bulletin</td>\n",
       "      <td>NaN</td>\n",
       "      <td>NaN</td>\n",
       "      <td>NaN</td>\n",
       "      <td>...</td>\n",
       "      <td>NaN</td>\n",
       "      <td>NaN</td>\n",
       "      <td>NaN</td>\n",
       "      <td>NaN</td>\n",
       "      <td>NaN</td>\n",
       "      <td>NaN</td>\n",
       "      <td>NaN</td>\n",
       "      <td>NaN</td>\n",
       "      <td>NaN</td>\n",
       "      <td>NaN</td>\n",
       "    </tr>\n",
       "    <tr>\n",
       "      <th>538</th>\n",
       "      <td>https://babel.hathitrust.org/cgi/pt?id=inu.300...</td>\n",
       "      <td>inu.30000125592240</td>\n",
       "      <td>v.9 1964-1965</td>\n",
       "      <td>Indiana University</td>\n",
       "      <td>https://catalog.hathitrust.org/Record/000507426</td>\n",
       "      <td>Scribe</td>\n",
       "      <td>Information Bulletin</td>\n",
       "      <td>NaN</td>\n",
       "      <td>NaN</td>\n",
       "      <td>NaN</td>\n",
       "      <td>...</td>\n",
       "      <td>NaN</td>\n",
       "      <td>NaN</td>\n",
       "      <td>NaN</td>\n",
       "      <td>NaN</td>\n",
       "      <td>NaN</td>\n",
       "      <td>NaN</td>\n",
       "      <td>NaN</td>\n",
       "      <td>NaN</td>\n",
       "      <td>NaN</td>\n",
       "      <td>NaN</td>\n",
       "    </tr>\n",
       "  </tbody>\n",
       "</table>\n",
       "<p>539 rows × 44 columns</p>\n",
       "</div>"
      ],
      "text/plain": [
       "                                                  link                htid  \\\n",
       "0       https://hdl.handle.net/2027/inu.30000093395964  inu.30000093395964   \n",
       "1       https://hdl.handle.net/2027/inu.30000093395972  inu.30000093395972   \n",
       "2       https://hdl.handle.net/2027/inu.30000117844955  inu.30000117844955   \n",
       "3       https://hdl.handle.net/2027/inu.30000117844948  inu.30000117844948   \n",
       "4       https://hdl.handle.net/2027/inu.30000117844963  inu.30000117844963   \n",
       "..                                                 ...                 ...   \n",
       "534  https://babel.hathitrust.org/cgi/pt?id=inu.300...  inu.30000125592216   \n",
       "535  https://babel.hathitrust.org/cgi/pt?id=mdp.390...  mdp.39015070444719   \n",
       "536  https://babel.hathitrust.org/cgi/pt?id=inu.300...  inu.30000125592224   \n",
       "537  https://babel.hathitrust.org/cgi/pt?id=inu.300...  inu.30000125592232   \n",
       "538  https://babel.hathitrust.org/cgi/pt?id=inu.300...  inu.30000125592240   \n",
       "\n",
       "                            date  \\\n",
       "0                            NaN   \n",
       "1               v.2,no.1-23 1963   \n",
       "2             no.75-78 1964-1965   \n",
       "3                  no.81-83 1965   \n",
       "4                  no.84-89 1966   \n",
       "..                           ...   \n",
       "534                     v.6 1963   \n",
       "535  v.7-8 no.1-5, 1-3 1963-1964   \n",
       "536                v.7 1963-1964   \n",
       "537                     v.8 1964   \n",
       "538                v.9 1964-1965   \n",
       "\n",
       "                                       original_source  \\\n",
       "0    \\n                       Indiana University\\n ...   \n",
       "1    \\n                       Indiana University\\n ...   \n",
       "2    \\n                       Indiana University\\n ...   \n",
       "3    \\n                       Indiana University\\n ...   \n",
       "4    \\n                       Indiana University\\n ...   \n",
       "..                                                 ...   \n",
       "534                                 Indiana University   \n",
       "535                             University of Michigan   \n",
       "536                                 Indiana University   \n",
       "537                                 Indiana University   \n",
       "538                                 Indiana University   \n",
       "\n",
       "                                          record_url          periodical_name  \\\n",
       "0    https://catalog.hathitrust.org/Record/007579658  La Documentation Arabe    \n",
       "1    https://catalog.hathitrust.org/Record/007579658  La Documentation Arabe    \n",
       "2    https://catalog.hathitrust.org/Record/008569258        Afrique Documents   \n",
       "3    https://catalog.hathitrust.org/Record/008569258        Afrique Documents   \n",
       "4    https://catalog.hathitrust.org/Record/008569258        Afrique Documents   \n",
       "..                                               ...                      ...   \n",
       "534  https://catalog.hathitrust.org/Record/000507426                   Scribe   \n",
       "535  https://catalog.hathitrust.org/Record/000507426                   Scribe   \n",
       "536  https://catalog.hathitrust.org/Record/000507426                   Scribe   \n",
       "537  https://catalog.hathitrust.org/Record/000507426                   Scribe   \n",
       "538  https://catalog.hathitrust.org/Record/000507426                   Scribe   \n",
       "\n",
       "         publication_type                  id  \\\n",
       "0    Information Bulletin  inu.30000093395964   \n",
       "1    Information Bulletin  inu.30000093395972   \n",
       "2    Information Bulletin  inu.30000117844955   \n",
       "3    Information Bulletin  inu.30000117844948   \n",
       "4    Information Bulletin  inu.30000117844963   \n",
       "..                    ...                 ...   \n",
       "534  Information Bulletin                 NaN   \n",
       "535  Information Bulletin                 NaN   \n",
       "536  Information Bulletin                 NaN   \n",
       "537  Information Bulletin                 NaN   \n",
       "538  Information Bulletin                 NaN   \n",
       "\n",
       "                               metadata_schema_version enumeration_chronology  \\\n",
       "0    https://schemas.hathitrust.org/EF_Schema_Metad...                    NaN   \n",
       "1    https://schemas.hathitrust.org/EF_Schema_Metad...       v.2,no.1-23 1963   \n",
       "2    https://schemas.hathitrust.org/EF_Schema_Metad...     no.75-78 1964-1965   \n",
       "3    https://schemas.hathitrust.org/EF_Schema_Metad...          no.81-83 1965   \n",
       "4    https://schemas.hathitrust.org/EF_Schema_Metad...          no.84-89 1966   \n",
       "..                                                 ...                    ...   \n",
       "534                                                NaN                    NaN   \n",
       "535                                                NaN                    NaN   \n",
       "536                                                NaN                    NaN   \n",
       "537                                                NaN                    NaN   \n",
       "538                                                NaN                    NaN   \n",
       "\n",
       "     ...                                         is_part_of  \\\n",
       "0    ...  {'id': 'http://www.worldcat.org/oclc/6101458',...   \n",
       "1    ...  {'id': 'http://www.worldcat.org/oclc/6101458',...   \n",
       "2    ...  {'id': 'http://www.worldcat.org/oclc/5969711',...   \n",
       "3    ...  {'id': 'http://www.worldcat.org/oclc/5969711',...   \n",
       "4    ...  {'id': 'http://www.worldcat.org/oclc/5969711',...   \n",
       "..   ...                                                ...   \n",
       "534  ...                                                NaN   \n",
       "535  ...                                                NaN   \n",
       "536  ...                                                NaN   \n",
       "537  ...                                                NaN   \n",
       "538  ...                                                NaN   \n",
       "\n",
       "    last_rights_update_date  \\\n",
       "0                20180507.0   \n",
       "1                20180507.0   \n",
       "2                20180419.0   \n",
       "3                20180419.0   \n",
       "4                20180419.0   \n",
       "..                      ...   \n",
       "534                     NaN   \n",
       "535                     NaN   \n",
       "536                     NaN   \n",
       "537                     NaN   \n",
       "538                     NaN   \n",
       "\n",
       "                                          pub_place_ld  pub_place  \\\n",
       "0    {'id': 'http://id.loc.gov/vocabulary/countries...      Egypt   \n",
       "1    {'id': 'http://id.loc.gov/vocabulary/countries...      Egypt   \n",
       "2    {'id': 'http://id.loc.gov/vocabulary/countries...    Senegal   \n",
       "3    {'id': 'http://id.loc.gov/vocabulary/countries...    Senegal   \n",
       "4    {'id': 'http://id.loc.gov/vocabulary/countries...    Senegal   \n",
       "..                                                 ...        ...   \n",
       "534                                                NaN        NaN   \n",
       "535                                                NaN        NaN   \n",
       "536                                                NaN        NaN   \n",
       "537                                                NaN        NaN   \n",
       "538                                                NaN        NaN   \n",
       "\n",
       "                                   main_entity_of_page  \\\n",
       "0    ['https://catalog.hathitrust.org/Record/007579...   \n",
       "1    ['https://catalog.hathitrust.org/Record/007579...   \n",
       "2    ['https://catalog.hathitrust.org/Record/008569...   \n",
       "3    ['https://catalog.hathitrust.org/Record/008569...   \n",
       "4    ['https://catalog.hathitrust.org/Record/008569...   \n",
       "..                                                 ...   \n",
       "534                                                NaN   \n",
       "535                                                NaN   \n",
       "536                                                NaN   \n",
       "537                                                NaN   \n",
       "538                                                NaN   \n",
       "\n",
       "                                          publisher_ld  \\\n",
       "0    {'id': \"http://catalogdata.library.illinois.ed...   \n",
       "1    {'id': \"http://catalogdata.library.illinois.ed...   \n",
       "2    {'id': 'http://catalogdata.library.illinois.ed...   \n",
       "3    {'id': 'http://catalogdata.library.illinois.ed...   \n",
       "4    {'id': 'http://catalogdata.library.illinois.ed...   \n",
       "..                                                 ...   \n",
       "534                                                NaN   \n",
       "535                                                NaN   \n",
       "536                                                NaN   \n",
       "537                                                NaN   \n",
       "538                                                NaN   \n",
       "\n",
       "                                 publisher lowercase_periodical_name  \\\n",
       "0    Agence d'information du Moyen-Orient.   la_documentation_arabe_   \n",
       "1    Agence d'information du Moyen-Orient.   la_documentation_arabe_   \n",
       "2                        Afrique Documents         afrique_documents   \n",
       "3                        Afrique Documents         afrique_documents   \n",
       "4                        Afrique Documents         afrique_documents   \n",
       "..                                     ...                       ...   \n",
       "534                                    NaN                       NaN   \n",
       "535                                    NaN                       NaN   \n",
       "536                                    NaN                       NaN   \n",
       "537                                    NaN                       NaN   \n",
       "538                                    NaN                       NaN   \n",
       "\n",
       "                                 publication_directory    volume_directory  \n",
       "0    ../datasets/ht_ef_datasets/la_documentation_ar...  inu_30000093395964  \n",
       "1    ../datasets/ht_ef_datasets/la_documentation_ar...  inu_30000093395972  \n",
       "2    ../datasets/ht_ef_datasets/afrique_documents/v...  inu_30000117844955  \n",
       "3    ../datasets/ht_ef_datasets/afrique_documents/v...  inu_30000117844948  \n",
       "4    ../datasets/ht_ef_datasets/afrique_documents/v...  inu_30000117844963  \n",
       "..                                                 ...                 ...  \n",
       "534                                                NaN                 NaN  \n",
       "535                                                NaN                 NaN  \n",
       "536                                                NaN                 NaN  \n",
       "537                                                NaN                 NaN  \n",
       "538                                                NaN                 NaN  \n",
       "\n",
       "[539 rows x 44 columns]"
      ]
     },
     "execution_count": 7,
     "metadata": {},
     "output_type": "execute_result"
    }
   ],
   "source": [
    "\t\tdir_list = [subdir.replace(extracted_features_output_dir, '') for subdir, _, _ in os.walk(extracted_features_output_dir)]\n",
    "\t\tsubset_dir_list = [d for d in dir_list if d.count(os.sep) == 1]\n",
    "\t\t# Read the annotated mapping file\n",
    "\t\tannotated_mapping_output_path = os.path.join('..', 'datasets', 'mapping_files', 'annotation_metadata_mapping.csv')\n",
    "\t\tannotated_mapping_df = pd.read_csv(annotated_mapping_output_path)\n",
    "\t\tdfs = []\n",
    "\n",
    "\t\t# Iterate over all metadata files\n",
    "\t\tmetadata_output_path = os.path.join('..', 'datasets', 'metadatas')\n",
    "\t\tfor _, _, files in tqdm(os.walk(metadata_output_path)):\n",
    "\t\t\tfor f in files:\n",
    "\t\t\t\tif f.endswith('.csv'):\n",
    "\t\t\t\t\tconsole.print(f'Processing {f}...', style=\"magenta\")\n",
    "\t\t\t\t\t# Create file name and join directories for files\n",
    "\t\t\t\t\tfile_name = f.rsplit('.', 1)[0]\n",
    "\t\t\t\t\tfilenames = '_'.join([fi for fi in file_name.split('_') if not fi.isdigit()])\n",
    "\t\t\t\t\tappended_data = False\n",
    "\t\t\t\t\tfinal_dir = ''\n",
    "\t\t\t\t\tfor dir_name in subset_dir_list:\n",
    "\t\t\t\t\t\tfuzziness = fuzz.ratio(filenames.replace('/', '').replace('_', ' '), dir_name.replace('/', '').replace('_', ' '))\n",
    "\t\t\t\t\t\tif fuzziness > 80:\n",
    "\t\t\t\t\t\t\tconsole.print(f\"Found a match for {file_name} with {filenames.replace('/', '').replace('_', ' ')} and {dir_name.replace('/', '').replace('_', ' ')} of {fuzziness} fuzzy ratio.\", style=\"bold green\")\n",
    "\t\t\t\t\t\t\tappended_data = True\n",
    "\t\t\t\t\t\t\tfinal_dir = dir_name\n",
    "\t\t\t\t\t\t\tdf = pd.DataFrame([{\n",
    "\t\t\t\t\t\t\t\t'local_dir': dir_name.split('/')[-1],\n",
    "\t\t\t\t\t\t\t\t'file_name': filenames,\n",
    "\t\t\t\t\t\t\t\t'fuzzy_ratio': fuzziness,\n",
    "\t\t\t\t\t\t\t\t'metadata_file': f,\n",
    "\t\t\t\t\t\t\t\t'final_dir': final_dir\n",
    "\t\t\t\t\t\t\t}])\n",
    "\t\t\t\t\t\t\tdfs.append(df)\n",
    "\t\t\t\t\t\t\tbreak\n",
    "\t\t\t\t\tif appended_data == False:\n",
    "\t\t\t\t\t\t# turn subdir list into enumerated dictionary\n",
    "\t\t\t\t\t\tprocessed_subset_dir_list = {i: d for i, d in enumerate(subset_dir_list)}\n",
    "\t\t\t\t\t\tconsole.print(\"No match found for\", filenames.replace('/', '').replace('_', ' '), \"in the subset directories. Please select the correct directory from the list below:\", style=\"bold red\")\n",
    "\t\t\t\t\t\tconsole.print(processed_subset_dir_list, style=\"bold blue\")\n",
    "\t\t\t\t\t\tselected_dir = int(input(\"Please select the correct directory: \"))\n",
    "\t\t\t\t\t\tfinal_dir = processed_subset_dir_list[selected_dir]\n",
    "\t\t\t\t\t\tdf = pd.DataFrame([{\n",
    "\t\t\t\t\t\t\t'local_dir': final_dir.split('/')[-1],\n",
    "\t\t\t\t\t\t\t'file_name': filenames,\n",
    "\t\t\t\t\t\t\t'fuzzy_ratio': None,\n",
    "\t\t\t\t\t\t\t'metadata_file': f,\n",
    "\t\t\t\t\t\t\t'final_dir': final_dir\n",
    "\t\t\t\t\t\t}])\n",
    "\t\t\t\t\t\tdfs.append(df)"
   ]
  },
  {
   "cell_type": "code",
   "execution_count": 2,
   "metadata": {},
   "outputs": [
    {
     "data": {
      "text/plain": [
       "True"
      ]
     },
     "execution_count": 2,
     "metadata": {},
     "output_type": "execute_result"
    }
   ],
   "source": [
    "os.path.exists(\"/Users/zleblanc/Informing-The-Third-World/periodical-collection-curation/HathiTrust-pcc-datasets/datasets/ht_ef_datasets\")"
   ]
  },
  {
   "cell_type": "code",
   "execution_count": 6,
   "metadata": {},
   "outputs": [
    {
     "name": "stdout",
     "output_type": "stream",
     "text": [
      "Relative path: ../periodical-collection-curation/HathiTrust-pcc-datasets/datasets/ht_ef_datasets\n",
      "Absolute path: /Users/zleblanc/Informing-The-Third-World/periodical_augmentation/periodical-issue-segmentation/periodical-collection-curation/HathiTrust-pcc-datasets/datasets/ht_ef_datasets\n",
      "Path exists: False\n"
     ]
    }
   ],
   "source": [
    "import os\n",
    "\n",
    "# Define the relative path from the current working directory\n",
    "relative_path = os.path.join(\"..\", \"periodical-collection-curation\", \"HathiTrust-pcc-datasets\", \"datasets\", \"ht_ef_datasets\")\n",
    "\n",
    "# Compute the absolute path\n",
    "absolute_path = os.path.abspath(relative_path)\n",
    "\n",
    "# Check if the path exists\n",
    "path_exists = os.path.exists(absolute_path)\n",
    "\n",
    "print(\"Relative path:\", relative_path)\n",
    "print(\"Absolute path:\", absolute_path)\n",
    "print(\"Path exists:\", path_exists)"
   ]
  },
  {
   "cell_type": "code",
   "execution_count": 7,
   "metadata": {},
   "outputs": [
    {
     "data": {
      "text/plain": [
       "True"
      ]
     },
     "execution_count": 7,
     "metadata": {},
     "output_type": "execute_result"
    }
   ],
   "source": [
    "os.path.exists(\"../datasets\")"
   ]
  },
  {
   "cell_type": "code",
   "execution_count": 16,
   "metadata": {},
   "outputs": [
    {
     "name": "stdout",
     "output_type": "stream",
     "text": [
      "True\n"
     ]
    }
   ],
   "source": [
    "relative_extracted_features_path = os.path.join(\"..\", \"..\", \"..\", \"periodical-collection-curation\", \"HathiTrust-pcc-datasets\", \"datasets\", \"ht_ef_datasets\")\n",
    "print(os.path.exists(relative_extracted_features_path))"
   ]
  },
  {
   "cell_type": "code",
   "execution_count": 19,
   "metadata": {},
   "outputs": [],
   "source": [
    "dir_list = [subdir.replace(relative_extracted_features_path, '') for subdir, _, _ in os.walk(relative_extracted_features_path)]"
   ]
  },
  {
   "cell_type": "code",
   "execution_count": 21,
   "metadata": {},
   "outputs": [],
   "source": [
    "# subset to only paths with one level of depth\n",
    "subset_dir_list = [d for d in dir_list if d.count(os.sep) == 1]"
   ]
  },
  {
   "cell_type": "code",
   "execution_count": 22,
   "metadata": {},
   "outputs": [
    {
     "data": {
      "text/plain": [
       "['/liberator',\n",
       " '/spearhead',\n",
       " '/presence_africaine',\n",
       " '/arab_observer_and_the_scribe',\n",
       " \"/bulletin_d’information__bureau_d'information_du_gouvernement_révolutionnaire_provisoire_de_la_république_du_sud_viet-nam_à_paris\",\n",
       " '/news_from_xinhua_news_agency,_chinadaily_bulletin',\n",
       " '/oau_bulletin',\n",
       " '/black_news',\n",
       " '/lotus',\n",
       " '/tricontinental',\n",
       " '/afro_asian_and_world_affairs',\n",
       " '/afro_asian_peoples',\n",
       " '/la_documentation_arabe_',\n",
       " '/nahdat_ifriqiyah_african_renaissance',\n",
       " '/freedomways',\n",
       " '/direct_from_cuba',\n",
       " '/lsm_news__liberation_support_movement,_information_center',\n",
       " '/negro_digest',\n",
       " '/black_world',\n",
       " '/asia_and_africa_today',\n",
       " '/afro_asian_women',\n",
       " '/solidarity_swapo',\n",
       " '/afrique_documents',\n",
       " '/mozambican_revolution',\n",
       " '/al-nashrah_al-ifrīqīyah_al-āsyawīyah',\n",
       " '/solidarity_aapso',\n",
       " '/afro_asian_bulletin',\n",
       " '/im_information_bulletin__mozambique_information_agency',\n",
       " '/révolution_africaine']"
      ]
     },
     "execution_count": 22,
     "metadata": {},
     "output_type": "execute_result"
    }
   ],
   "source": [
    "subset_dir_list"
   ]
  },
  {
   "cell_type": "markdown",
   "metadata": {},
   "source": []
  }
 ],
 "metadata": {
  "kernelspec": {
   "display_name": "htrc-periodicals-venv",
   "language": "python",
   "name": "python3"
  },
  "language_info": {
   "codemirror_mode": {
    "name": "ipython",
    "version": 3
   },
   "file_extension": ".py",
   "mimetype": "text/x-python",
   "name": "python",
   "nbconvert_exporter": "python",
   "pygments_lexer": "ipython3",
   "version": "3.9.18"
  }
 },
 "nbformat": 4,
 "nbformat_minor": 2
}
