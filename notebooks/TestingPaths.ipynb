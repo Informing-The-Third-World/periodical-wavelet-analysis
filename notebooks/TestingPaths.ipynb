{
 "cells": [
  {
   "cell_type": "code",
   "execution_count": 1,
   "metadata": {},
   "outputs": [
    {
     "name": "stdout",
     "output_type": "stream",
     "text": [
      "/Users/zleblanc/Informing-The-Third-World/periodical_augmentation/periodical-issue-segmentation/notebooks\n",
      "['/Users/zleblanc/Informing-The-Third-World/periodical_augmentation/periodical-issue-segmentation/notebooks', '/opt/homebrew/Cellar/python@3.9/3.9.18_1/Frameworks/Python.framework/Versions/3.9/lib/python39.zip', '/opt/homebrew/Cellar/python@3.9/3.9.18_1/Frameworks/Python.framework/Versions/3.9/lib/python3.9', '/opt/homebrew/Cellar/python@3.9/3.9.18_1/Frameworks/Python.framework/Versions/3.9/lib/python3.9/lib-dynload', '', '/Users/zleblanc/.virtualenvs/htrc-periodicals-venv/lib/python3.9/site-packages', '../']\n"
     ]
    }
   ],
   "source": [
    "import os\n",
    "import sys\n",
    "\n",
    "sys.path.append(\"../\")\n",
    "print(os.getcwd())\n",
    "print(sys.path)\n",
    "from segmentation_scripts.filter_records import *"
   ]
  },
  {
   "cell_type": "code",
   "execution_count": 5,
   "metadata": {},
   "outputs": [
    {
     "data": {
      "text/plain": [
       "True"
      ]
     },
     "execution_count": 5,
     "metadata": {},
     "output_type": "execute_result"
    }
   ],
   "source": [
    "os.path.exists(\"/Users/zleblanc/Informing-The-Third-World/periodical-collection-curation/HathiTrust-pcc-datasets/datasets/ht_ef_datasets\")"
   ]
  },
  {
   "cell_type": "code",
   "execution_count": 6,
   "metadata": {},
   "outputs": [
    {
     "name": "stdout",
     "output_type": "stream",
     "text": [
      "Relative path: ../periodical-collection-curation/HathiTrust-pcc-datasets/datasets/ht_ef_datasets\n",
      "Absolute path: /Users/zleblanc/Informing-The-Third-World/periodical_augmentation/periodical-issue-segmentation/periodical-collection-curation/HathiTrust-pcc-datasets/datasets/ht_ef_datasets\n",
      "Path exists: False\n"
     ]
    }
   ],
   "source": [
    "import os\n",
    "\n",
    "# Define the relative path from the current working directory\n",
    "relative_path = os.path.join(\"..\", \"periodical-collection-curation\", \"HathiTrust-pcc-datasets\", \"datasets\", \"ht_ef_datasets\")\n",
    "\n",
    "# Compute the absolute path\n",
    "absolute_path = os.path.abspath(relative_path)\n",
    "\n",
    "# Check if the path exists\n",
    "path_exists = os.path.exists(absolute_path)\n",
    "\n",
    "print(\"Relative path:\", relative_path)\n",
    "print(\"Absolute path:\", absolute_path)\n",
    "print(\"Path exists:\", path_exists)"
   ]
  },
  {
   "cell_type": "code",
   "execution_count": 7,
   "metadata": {},
   "outputs": [
    {
     "data": {
      "text/plain": [
       "True"
      ]
     },
     "execution_count": 7,
     "metadata": {},
     "output_type": "execute_result"
    }
   ],
   "source": [
    "os.path.exists(\"../datasets\")"
   ]
  },
  {
   "cell_type": "code",
   "execution_count": 16,
   "metadata": {},
   "outputs": [
    {
     "name": "stdout",
     "output_type": "stream",
     "text": [
      "True\n"
     ]
    }
   ],
   "source": [
    "relative_extracted_features_path = os.path.join(\"..\", \"..\", \"..\", \"periodical-collection-curation\", \"HathiTrust-pcc-datasets\", \"datasets\", \"ht_ef_datasets\")\n",
    "print(os.path.exists(relative_extracted_features_path))"
   ]
  },
  {
   "cell_type": "code",
   "execution_count": 19,
   "metadata": {},
   "outputs": [],
   "source": [
    "dir_list = [subdir.replace(relative_extracted_features_path, '') for subdir, _, _ in os.walk(relative_extracted_features_path)]"
   ]
  },
  {
   "cell_type": "code",
   "execution_count": 21,
   "metadata": {},
   "outputs": [],
   "source": [
    "# subset to only paths with one level of depth\n",
    "subset_dir_list = [d for d in dir_list if d.count(os.sep) == 1]"
   ]
  },
  {
   "cell_type": "code",
   "execution_count": 22,
   "metadata": {},
   "outputs": [
    {
     "data": {
      "text/plain": [
       "['/liberator',\n",
       " '/spearhead',\n",
       " '/presence_africaine',\n",
       " '/arab_observer_and_the_scribe',\n",
       " \"/bulletin_d’information__bureau_d'information_du_gouvernement_révolutionnaire_provisoire_de_la_république_du_sud_viet-nam_à_paris\",\n",
       " '/news_from_xinhua_news_agency,_chinadaily_bulletin',\n",
       " '/oau_bulletin',\n",
       " '/black_news',\n",
       " '/lotus',\n",
       " '/tricontinental',\n",
       " '/afro_asian_and_world_affairs',\n",
       " '/afro_asian_peoples',\n",
       " '/la_documentation_arabe_',\n",
       " '/nahdat_ifriqiyah_african_renaissance',\n",
       " '/freedomways',\n",
       " '/direct_from_cuba',\n",
       " '/lsm_news__liberation_support_movement,_information_center',\n",
       " '/negro_digest',\n",
       " '/black_world',\n",
       " '/asia_and_africa_today',\n",
       " '/afro_asian_women',\n",
       " '/solidarity_swapo',\n",
       " '/afrique_documents',\n",
       " '/mozambican_revolution',\n",
       " '/al-nashrah_al-ifrīqīyah_al-āsyawīyah',\n",
       " '/solidarity_aapso',\n",
       " '/afro_asian_bulletin',\n",
       " '/im_information_bulletin__mozambique_information_agency',\n",
       " '/révolution_africaine']"
      ]
     },
     "execution_count": 22,
     "metadata": {},
     "output_type": "execute_result"
    }
   ],
   "source": [
    "subset_dir_list"
   ]
  },
  {
   "cell_type": "markdown",
   "metadata": {},
   "source": []
  }
 ],
 "metadata": {
  "kernelspec": {
   "display_name": "htrc-periodicals-venv",
   "language": "python",
   "name": "python3"
  },
  "language_info": {
   "codemirror_mode": {
    "name": "ipython",
    "version": 3
   },
   "file_extension": ".py",
   "mimetype": "text/x-python",
   "name": "python",
   "nbconvert_exporter": "python",
   "pygments_lexer": "ipython3",
   "version": "3.9.18"
  }
 },
 "nbformat": 4,
 "nbformat_minor": 2
}
