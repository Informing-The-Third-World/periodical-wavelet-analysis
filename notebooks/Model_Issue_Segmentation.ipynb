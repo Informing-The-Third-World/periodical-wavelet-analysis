{
 "cells": [
  {
   "cell_type": "markdown",
   "metadata": {},
   "source": [
    "# Experiments in Modeling Issue Segmentation"
   ]
  },
  {
   "cell_type": "markdown",
   "metadata": {},
   "source": [
    "## Load Libraries and Datasets"
   ]
  },
  {
   "cell_type": "code",
   "execution_count": 7,
   "metadata": {},
   "outputs": [],
   "source": [
    "import os\n",
    "import re\n",
    "import pandas as pd\n",
    "from tqdm import tqdm\n",
    "import altair as alt\n",
    "alt.data_transformers.disable_max_rows()\n",
    "from collections import deque\n",
    "import warnings\n",
    "warnings.filterwarnings('ignore')\n",
    "from rich.console import Console\n",
    "from rich.table import Table\n",
    "import numpy as np\n",
    "import scipy.stats as stats\n",
    "from minineedle import needle, core\n",
    "\n",
    "console = Console()\n",
    "import sys\n",
    "\n",
    "sys.path.append(\"..\")\n",
    "from segmentation_scripts.utils import read_csv_file, get_data_directory_path"
   ]
  },
  {
   "cell_type": "code",
   "execution_count": 2,
   "metadata": {},
   "outputs": [
    {
     "data": {
      "text/html": [
       "<pre style=\"white-space:pre;overflow-x:auto;line-height:normal;font-family:Menlo,'DejaVu Sans Mono',consolas,'Courier New',monospace\">Volume has this many tokens: <span style=\"color: #008080; text-decoration-color: #008080; font-weight: bold\">300791</span>\n",
       "</pre>\n"
      ],
      "text/plain": [
       "Volume has this many tokens: \u001b[1;36m300791\u001b[0m\n"
      ]
     },
     "metadata": {},
     "output_type": "display_data"
    },
    {
     "data": {
      "text/html": [
       "<pre style=\"white-space:pre;overflow-x:auto;line-height:normal;font-family:Menlo,'DejaVu Sans Mono',consolas,'Courier New',monospace\">Volume has this many issues: <span style=\"color: #008080; text-decoration-color: #008080; font-weight: bold\">26</span>\n",
       "</pre>\n"
      ],
      "text/plain": [
       "Volume has this many issues: \u001b[1;36m26\u001b[0m\n"
      ]
     },
     "metadata": {},
     "output_type": "display_data"
    },
    {
     "data": {
      "text/html": [
       "<pre style=\"white-space:pre;overflow-x:auto;line-height:normal;font-family:Menlo,'DejaVu Sans Mono',consolas,'Courier New',monospace\">Volume has this many pages: <span style=\"color: #008080; text-decoration-color: #008080; font-weight: bold\">907</span>\n",
       "</pre>\n"
      ],
      "text/plain": [
       "Volume has this many pages: \u001b[1;36m907\u001b[0m\n"
      ]
     },
     "metadata": {},
     "output_type": "display_data"
    }
   ],
   "source": [
    "full_df = read_csv_file(\"../datasets/annotated_ht_ef_datasets/arab_observer_and_the_scribe/mdp_39015056038071/mdp_39015056038071_annotated_individual_tokens.csv\")\n",
    "console.print(f\"Volume has this many tokens: {len(full_df)}\")\n",
    "console.print(f\"Volume has this many issues: {full_df.start_issue.nunique()}\")\n",
    "console.print(f\"Volume has this many pages: {full_df.page_number.nunique()}\")\n",
    "# Factorize the 'issue_number' column to create 'actual_issue_number'\n",
    "full_df = full_df.sort_values(by=['page_number'])\n",
    "full_df = full_df.rename(columns={'issue_number': 'original_issue_number'})\n",
    "full_df['temp_issue_number'] = pd.factorize(full_df['original_issue_number'])[0]"
   ]
  },
  {
   "cell_type": "code",
   "execution_count": 3,
   "metadata": {},
   "outputs": [],
   "source": [
    "def generate_table(df, table_title):\n",
    "    # Create a Rich Table\n",
    "    table = Table(title=table_title)\n",
    "    columns = df.columns\n",
    "    for column in columns:\n",
    "        table.add_column(column.replace(\"_\", \" \").capitalize(), justify=\"center\", style=\"cyan\", no_wrap=True)    \n",
    "\n",
    "    # Add rows to the table\n",
    "    for _, row in df.iterrows():\n",
    "        table.add_row(*[str(value) if pd.notna(value) else \"\" for value in row])\n",
    "\n",
    "    # Print the table\n",
    "    console.print(table)"
   ]
  },
  {
   "cell_type": "markdown",
   "metadata": {},
   "source": [
    "### Clean Page Numbers"
   ]
  },
  {
   "cell_type": "code",
   "execution_count": 4,
   "metadata": {},
   "outputs": [
    {
     "data": {
      "text/html": [
       "<pre style=\"white-space:pre;overflow-x:auto;line-height:normal;font-family:Menlo,'DejaVu Sans Mono',consolas,'Courier New',monospace\">Number of digits in this volume: <span style=\"color: #008080; text-decoration-color: #008080; font-weight: bold\">6885</span>\n",
       "</pre>\n"
      ],
      "text/plain": [
       "Number of digits in this volume: \u001b[1;36m6885\u001b[0m\n"
      ]
     },
     "metadata": {},
     "output_type": "display_data"
    },
    {
     "data": {
      "text/html": [
       "<pre style=\"white-space:pre;overflow-x:auto;line-height:normal;font-family:Menlo,'DejaVu Sans Mono',consolas,'Courier New',monospace\">Number of non-digit pages in this volume: <span style=\"color: #008080; text-decoration-color: #008080; font-weight: bold\">97</span>\n",
       "</pre>\n"
      ],
      "text/plain": [
       "Number of non-digit pages in this volume: \u001b[1;36m97\u001b[0m\n"
      ]
     },
     "metadata": {},
     "output_type": "display_data"
    },
    {
     "data": {
      "text/html": [
       "<pre style=\"white-space:pre;overflow-x:auto;line-height:normal;font-family:Menlo,'DejaVu Sans Mono',consolas,'Courier New',monospace\">Number of digits in this volume after filtering for max page length: <span style=\"color: #008080; text-decoration-color: #008080; font-weight: bold\">5299</span>\n",
       "</pre>\n"
      ],
      "text/plain": [
       "Number of digits in this volume after filtering for max page length: \u001b[1;36m5299\u001b[0m\n"
      ]
     },
     "metadata": {},
     "output_type": "display_data"
    },
    {
     "data": {
      "text/html": [
       "<pre style=\"white-space:pre;overflow-x:auto;line-height:normal;font-family:Menlo,'DejaVu Sans Mono',consolas,'Courier New',monospace\">Number of pages without digits in this volume after filtering for max page length: <span style=\"color: #008080; text-decoration-color: #008080; font-weight: bold\">21</span>\n",
       "</pre>\n"
      ],
      "text/plain": [
       "Number of pages without digits in this volume after filtering for max page length: \u001b[1;36m21\u001b[0m\n"
      ]
     },
     "metadata": {},
     "output_type": "display_data"
    },
    {
     "data": {
      "text/html": [
       "<pre style=\"white-space:pre;overflow-x:auto;line-height:normal;font-family:Menlo,'DejaVu Sans Mono',consolas,'Courier New',monospace\">Number of digits in this volume after filtering for max page length and implied zero: <span style=\"color: #008080; text-decoration-color: #008080; font-weight: bold\">4923</span>\n",
       "</pre>\n"
      ],
      "text/plain": [
       "Number of digits in this volume after filtering for max page length and implied zero: \u001b[1;36m4923\u001b[0m\n"
      ]
     },
     "metadata": {},
     "output_type": "display_data"
    },
    {
     "data": {
      "text/html": [
       "<pre style=\"white-space:pre;overflow-x:auto;line-height:normal;font-family:Menlo,'DejaVu Sans Mono',consolas,'Courier New',monospace\">Number of pages without digits in this volume after filtering for max page length and digit pages: <span style=\"color: #008080; text-decoration-color: #008080; font-weight: bold\">24</span>\n",
       "</pre>\n"
      ],
      "text/plain": [
       "Number of pages without digits in this volume after filtering for max page length and digit pages: \u001b[1;36m24\u001b[0m\n"
      ]
     },
     "metadata": {},
     "output_type": "display_data"
    },
    {
     "data": {
      "text/html": [
       "<pre style=\"white-space:pre;overflow-x:auto;line-height:normal;font-family:Menlo,'DejaVu Sans Mono',consolas,'Courier New',monospace\">Number of pages after including non-digit pages: <span style=\"color: #008080; text-decoration-color: #008080; font-weight: bold\">907</span>\n",
       "</pre>\n"
      ],
      "text/plain": [
       "Number of pages after including non-digit pages: \u001b[1;36m907\u001b[0m\n"
      ]
     },
     "metadata": {},
     "output_type": "display_data"
    },
    {
     "data": {
      "text/html": [
       "<pre style=\"white-space:pre;overflow-x:auto;line-height:normal;font-family:Menlo,'DejaVu Sans Mono',consolas,'Courier New',monospace\"><span style=\"font-style: italic\"> Counts per Annotated  </span>\n",
       "<span style=\"font-style: italic\">         Issue         </span>\n",
       "┏━━━━━━━━━━━━━┳━━━━━━━┓\n",
       "┃<span style=\"font-weight: bold\"> Start issue </span>┃<span style=\"font-weight: bold\"> Count </span>┃\n",
       "┡━━━━━━━━━━━━━╇━━━━━━━┩\n",
       "│<span style=\"color: #008080; text-decoration-color: #008080\"> 1962-05-14  </span>│<span style=\"color: #008080; text-decoration-color: #008080\">  253  </span>│\n",
       "│<span style=\"color: #008080; text-decoration-color: #008080\"> 1962-04-16  </span>│<span style=\"color: #008080; text-decoration-color: #008080\">  238  </span>│\n",
       "│<span style=\"color: #008080; text-decoration-color: #008080\"> 1962-04-23  </span>│<span style=\"color: #008080; text-decoration-color: #008080\">  235  </span>│\n",
       "│<span style=\"color: #008080; text-decoration-color: #008080\"> 1962-03-26  </span>│<span style=\"color: #008080; text-decoration-color: #008080\">  229  </span>│\n",
       "│<span style=\"color: #008080; text-decoration-color: #008080\"> 1962-04-02  </span>│<span style=\"color: #008080; text-decoration-color: #008080\">  228  </span>│\n",
       "│<span style=\"color: #008080; text-decoration-color: #008080\"> 1962-01-08  </span>│<span style=\"color: #008080; text-decoration-color: #008080\">  222  </span>│\n",
       "│<span style=\"color: #008080; text-decoration-color: #008080\"> 1962-03-19  </span>│<span style=\"color: #008080; text-decoration-color: #008080\">  220  </span>│\n",
       "│<span style=\"color: #008080; text-decoration-color: #008080\"> 1962-05-28  </span>│<span style=\"color: #008080; text-decoration-color: #008080\">  220  </span>│\n",
       "│<span style=\"color: #008080; text-decoration-color: #008080\"> 1962-05-21  </span>│<span style=\"color: #008080; text-decoration-color: #008080\">  219  </span>│\n",
       "│<span style=\"color: #008080; text-decoration-color: #008080\"> 1962-06-25  </span>│<span style=\"color: #008080; text-decoration-color: #008080\">  219  </span>│\n",
       "│<span style=\"color: #008080; text-decoration-color: #008080\"> 1962-03-12  </span>│<span style=\"color: #008080; text-decoration-color: #008080\">  214  </span>│\n",
       "│<span style=\"color: #008080; text-decoration-color: #008080\"> 1962-04-30  </span>│<span style=\"color: #008080; text-decoration-color: #008080\">  214  </span>│\n",
       "│<span style=\"color: #008080; text-decoration-color: #008080\"> 1962-06-18  </span>│<span style=\"color: #008080; text-decoration-color: #008080\">  203  </span>│\n",
       "│<span style=\"color: #008080; text-decoration-color: #008080\"> 1962-03-05  </span>│<span style=\"color: #008080; text-decoration-color: #008080\">  200  </span>│\n",
       "│<span style=\"color: #008080; text-decoration-color: #008080\"> 1962-02-26  </span>│<span style=\"color: #008080; text-decoration-color: #008080\">  200  </span>│\n",
       "│<span style=\"color: #008080; text-decoration-color: #008080\"> 1962-02-12  </span>│<span style=\"color: #008080; text-decoration-color: #008080\">  189  </span>│\n",
       "│<span style=\"color: #008080; text-decoration-color: #008080\"> 1962-02-19  </span>│<span style=\"color: #008080; text-decoration-color: #008080\">  179  </span>│\n",
       "│<span style=\"color: #008080; text-decoration-color: #008080\"> 1962-06-11  </span>│<span style=\"color: #008080; text-decoration-color: #008080\">  176  </span>│\n",
       "│<span style=\"color: #008080; text-decoration-color: #008080\"> 1962-02-05  </span>│<span style=\"color: #008080; text-decoration-color: #008080\">  173  </span>│\n",
       "│<span style=\"color: #008080; text-decoration-color: #008080\"> 1962-04-09  </span>│<span style=\"color: #008080; text-decoration-color: #008080\">  172  </span>│\n",
       "│<span style=\"color: #008080; text-decoration-color: #008080\"> 1962-05-07  </span>│<span style=\"color: #008080; text-decoration-color: #008080\">  170  </span>│\n",
       "│<span style=\"color: #008080; text-decoration-color: #008080\"> 1962-06-04  </span>│<span style=\"color: #008080; text-decoration-color: #008080\">  169  </span>│\n",
       "│<span style=\"color: #008080; text-decoration-color: #008080\"> 1962-01-22  </span>│<span style=\"color: #008080; text-decoration-color: #008080\">  152  </span>│\n",
       "│<span style=\"color: #008080; text-decoration-color: #008080\"> 1962-01-29  </span>│<span style=\"color: #008080; text-decoration-color: #008080\">  148  </span>│\n",
       "│<span style=\"color: #008080; text-decoration-color: #008080\"> 1962-01-15  </span>│<span style=\"color: #008080; text-decoration-color: #008080\">  130  </span>│\n",
       "│<span style=\"color: #008080; text-decoration-color: #008080\"> 1962-01-01  </span>│<span style=\"color: #008080; text-decoration-color: #008080\">  93   </span>│\n",
       "└─────────────┴───────┘\n",
       "</pre>\n"
      ],
      "text/plain": [
       "\u001b[3m Counts per Annotated  \u001b[0m\n",
       "\u001b[3m         Issue         \u001b[0m\n",
       "┏━━━━━━━━━━━━━┳━━━━━━━┓\n",
       "┃\u001b[1m \u001b[0m\u001b[1mStart issue\u001b[0m\u001b[1m \u001b[0m┃\u001b[1m \u001b[0m\u001b[1mCount\u001b[0m\u001b[1m \u001b[0m┃\n",
       "┡━━━━━━━━━━━━━╇━━━━━━━┩\n",
       "│\u001b[36m \u001b[0m\u001b[36m1962-05-14 \u001b[0m\u001b[36m \u001b[0m│\u001b[36m \u001b[0m\u001b[36m 253 \u001b[0m\u001b[36m \u001b[0m│\n",
       "│\u001b[36m \u001b[0m\u001b[36m1962-04-16 \u001b[0m\u001b[36m \u001b[0m│\u001b[36m \u001b[0m\u001b[36m 238 \u001b[0m\u001b[36m \u001b[0m│\n",
       "│\u001b[36m \u001b[0m\u001b[36m1962-04-23 \u001b[0m\u001b[36m \u001b[0m│\u001b[36m \u001b[0m\u001b[36m 235 \u001b[0m\u001b[36m \u001b[0m│\n",
       "│\u001b[36m \u001b[0m\u001b[36m1962-03-26 \u001b[0m\u001b[36m \u001b[0m│\u001b[36m \u001b[0m\u001b[36m 229 \u001b[0m\u001b[36m \u001b[0m│\n",
       "│\u001b[36m \u001b[0m\u001b[36m1962-04-02 \u001b[0m\u001b[36m \u001b[0m│\u001b[36m \u001b[0m\u001b[36m 228 \u001b[0m\u001b[36m \u001b[0m│\n",
       "│\u001b[36m \u001b[0m\u001b[36m1962-01-08 \u001b[0m\u001b[36m \u001b[0m│\u001b[36m \u001b[0m\u001b[36m 222 \u001b[0m\u001b[36m \u001b[0m│\n",
       "│\u001b[36m \u001b[0m\u001b[36m1962-03-19 \u001b[0m\u001b[36m \u001b[0m│\u001b[36m \u001b[0m\u001b[36m 220 \u001b[0m\u001b[36m \u001b[0m│\n",
       "│\u001b[36m \u001b[0m\u001b[36m1962-05-28 \u001b[0m\u001b[36m \u001b[0m│\u001b[36m \u001b[0m\u001b[36m 220 \u001b[0m\u001b[36m \u001b[0m│\n",
       "│\u001b[36m \u001b[0m\u001b[36m1962-05-21 \u001b[0m\u001b[36m \u001b[0m│\u001b[36m \u001b[0m\u001b[36m 219 \u001b[0m\u001b[36m \u001b[0m│\n",
       "│\u001b[36m \u001b[0m\u001b[36m1962-06-25 \u001b[0m\u001b[36m \u001b[0m│\u001b[36m \u001b[0m\u001b[36m 219 \u001b[0m\u001b[36m \u001b[0m│\n",
       "│\u001b[36m \u001b[0m\u001b[36m1962-03-12 \u001b[0m\u001b[36m \u001b[0m│\u001b[36m \u001b[0m\u001b[36m 214 \u001b[0m\u001b[36m \u001b[0m│\n",
       "│\u001b[36m \u001b[0m\u001b[36m1962-04-30 \u001b[0m\u001b[36m \u001b[0m│\u001b[36m \u001b[0m\u001b[36m 214 \u001b[0m\u001b[36m \u001b[0m│\n",
       "│\u001b[36m \u001b[0m\u001b[36m1962-06-18 \u001b[0m\u001b[36m \u001b[0m│\u001b[36m \u001b[0m\u001b[36m 203 \u001b[0m\u001b[36m \u001b[0m│\n",
       "│\u001b[36m \u001b[0m\u001b[36m1962-03-05 \u001b[0m\u001b[36m \u001b[0m│\u001b[36m \u001b[0m\u001b[36m 200 \u001b[0m\u001b[36m \u001b[0m│\n",
       "│\u001b[36m \u001b[0m\u001b[36m1962-02-26 \u001b[0m\u001b[36m \u001b[0m│\u001b[36m \u001b[0m\u001b[36m 200 \u001b[0m\u001b[36m \u001b[0m│\n",
       "│\u001b[36m \u001b[0m\u001b[36m1962-02-12 \u001b[0m\u001b[36m \u001b[0m│\u001b[36m \u001b[0m\u001b[36m 189 \u001b[0m\u001b[36m \u001b[0m│\n",
       "│\u001b[36m \u001b[0m\u001b[36m1962-02-19 \u001b[0m\u001b[36m \u001b[0m│\u001b[36m \u001b[0m\u001b[36m 179 \u001b[0m\u001b[36m \u001b[0m│\n",
       "│\u001b[36m \u001b[0m\u001b[36m1962-06-11 \u001b[0m\u001b[36m \u001b[0m│\u001b[36m \u001b[0m\u001b[36m 176 \u001b[0m\u001b[36m \u001b[0m│\n",
       "│\u001b[36m \u001b[0m\u001b[36m1962-02-05 \u001b[0m\u001b[36m \u001b[0m│\u001b[36m \u001b[0m\u001b[36m 173 \u001b[0m\u001b[36m \u001b[0m│\n",
       "│\u001b[36m \u001b[0m\u001b[36m1962-04-09 \u001b[0m\u001b[36m \u001b[0m│\u001b[36m \u001b[0m\u001b[36m 172 \u001b[0m\u001b[36m \u001b[0m│\n",
       "│\u001b[36m \u001b[0m\u001b[36m1962-05-07 \u001b[0m\u001b[36m \u001b[0m│\u001b[36m \u001b[0m\u001b[36m 170 \u001b[0m\u001b[36m \u001b[0m│\n",
       "│\u001b[36m \u001b[0m\u001b[36m1962-06-04 \u001b[0m\u001b[36m \u001b[0m│\u001b[36m \u001b[0m\u001b[36m 169 \u001b[0m\u001b[36m \u001b[0m│\n",
       "│\u001b[36m \u001b[0m\u001b[36m1962-01-22 \u001b[0m\u001b[36m \u001b[0m│\u001b[36m \u001b[0m\u001b[36m 152 \u001b[0m\u001b[36m \u001b[0m│\n",
       "│\u001b[36m \u001b[0m\u001b[36m1962-01-29 \u001b[0m\u001b[36m \u001b[0m│\u001b[36m \u001b[0m\u001b[36m 148 \u001b[0m\u001b[36m \u001b[0m│\n",
       "│\u001b[36m \u001b[0m\u001b[36m1962-01-15 \u001b[0m\u001b[36m \u001b[0m│\u001b[36m \u001b[0m\u001b[36m 130 \u001b[0m\u001b[36m \u001b[0m│\n",
       "│\u001b[36m \u001b[0m\u001b[36m1962-01-01 \u001b[0m\u001b[36m \u001b[0m│\u001b[36m \u001b[0m\u001b[36m 93  \u001b[0m\u001b[36m \u001b[0m│\n",
       "└─────────────┴───────┘\n"
      ]
     },
     "metadata": {},
     "output_type": "display_data"
    }
   ],
   "source": [
    "def filter_integers(token: str) -> bool:\n",
    "\t\"\"\"Check if the token is an integer.\"\"\"\n",
    "\treturn bool(re.match(r'^\\d+$', token))\n",
    "\n",
    "def clean_digits(df: pd.DataFrame) -> pd.DataFrame:\n",
    "\t\"\"\"Clean and filter digit tokens in the DataFrame while retaining non-digit pages.\"\"\"\n",
    "\tmax_page = df.page_number.max()\n",
    "\t\n",
    "\tdf['token'] = df['token'].astype(str)\n",
    "\tif 'volume_name' in df.columns:\n",
    "\t\tdf['volume_number'] = df['volume_number'].fillna(0)\n",
    "\t\n",
    "\t# Identify pages with digit tokens\n",
    "\tsubset_digits = df[df['token'].str.isdigit()].copy()\n",
    "\tpossible_pages = subset_digits[subset_digits['token'].apply(filter_integers)].copy()\n",
    "\tnon_digits_pages = df[(~df['token'].str.isdigit()) & (~df.page_number.isin(subset_digits.page_number))].copy()\n",
    "\t# just take the first page of non_digits_pages\n",
    "\tnon_digits_pages = non_digits_pages.groupby('page_number').first().reset_index()\n",
    "\t\n",
    "\t# Use the smaller subset if possible_pages is smaller\n",
    "\tif len(possible_pages) < len(subset_digits):\n",
    "\t\tsubset_digits = possible_pages\n",
    "\t\n",
    "\tconsole.print(f\"Number of digits in this volume: {len(subset_digits)}\")\n",
    "\tconsole.print(f\"Number of non-digit pages in this volume: {len(non_digits_pages)}\")\n",
    "\t\n",
    "\tsubset_digits['number'] = subset_digits['token'].astype(int, errors='ignore')\n",
    "\tmax_possible_number = max_page + 25\n",
    "\tfiltered_subset_digits = subset_digits[subset_digits['number'] < max_possible_number]\n",
    "\tnon_filtered_subset_digits = subset_digits[(subset_digits['number'] >= max_possible_number) & (~subset_digits.page_number.isin(filtered_subset_digits.page_number))].groupby('page_number').first().reset_index()\n",
    "\tconsole.print(f\"Number of digits in this volume after filtering for max page length: {len(filtered_subset_digits)}\")\n",
    "\tconsole.print(f\"Number of pages without digits in this volume after filtering for max page length: {len(non_filtered_subset_digits)}\")\n",
    "\t\n",
    "\t# Calculate implied zero only for digit pages\n",
    "\tfiltered_subset_digits['implied_zero'] = filtered_subset_digits['page_number'].astype(int) - filtered_subset_digits['number']\n",
    "\t\n",
    "\tfinal_subset_digits = filtered_subset_digits[filtered_subset_digits['implied_zero'] >= 0]\n",
    "\tconsole.print(f\"Number of digits in this volume after filtering for max page length and implied zero: {len(final_subset_digits)}\")\n",
    "\tremaining_missing_pages = df[(~df.page_number.isin(final_subset_digits.page_number)) & (~df.page_number.isin(non_digits_pages.page_number))].copy()\n",
    "\tremaining_missing_pages = remaining_missing_pages.groupby('page_number').first().reset_index()\n",
    "\tconsole.print(f\"Number of pages without digits in this volume after filtering for max page length and digit pages: {len(remaining_missing_pages)}\")\n",
    "\t\n",
    "\t# Merge non-digit pages back into the DataFrame\n",
    "\tnon_digits_pages['page_type'] = 'non_digit'\n",
    "\tremaining_missing_pages['page_type'] = 'negative_digit'\n",
    "\tfinal_subset_digits['page_type'] = 'digit'\n",
    "\tnon_filtered_subset_digits['page_type'] = 'digit_too_large'\n",
    "\tfull_df_with_digits = pd.concat([final_subset_digits, non_digits_pages, remaining_missing_pages, non_filtered_subset_digits]).sort_values(by=['page_number']).reset_index(drop=True)\n",
    "\t\n",
    "\tconsole.print(f\"Number of pages after including non-digit pages: {full_df_with_digits.page_number.nunique()}\")\n",
    "\n",
    "\tif full_df_with_digits.page_number.nunique() != full_df.page_number.nunique():\n",
    "\t\tadded_pages = full_df[~full_df.page_number.isin(full_df_with_digits.page_number)].copy()\n",
    "\t\tadded_pages = added_pages.groupby('page_number').first().reset_index()\n",
    "\t\tadded_pages['page_type'] = 'added'\n",
    "\t\tfull_df_with_digits = pd.concat([full_df_with_digits, added_pages]).sort_values(by=['page_number']).reset_index(drop=True)\n",
    "\t\tconsole.print(f\"Number of pages after including added pages: {full_df_with_digits.page_number.nunique()}\")\n",
    "\t\n",
    "\treturn full_df_with_digits\n",
    "\n",
    "# Example usage\n",
    "subset_digits = clean_digits(full_df)\n",
    "counts_per_annotated_issue = subset_digits.start_issue.value_counts().reset_index()\n",
    "generate_table(counts_per_annotated_issue, \"Counts per Annotated Issue\")"
   ]
  },
  {
   "cell_type": "markdown",
   "metadata": {},
   "source": [
    "### Detect Likely First Issue"
   ]
  },
  {
   "cell_type": "code",
   "execution_count": 5,
   "metadata": {},
   "outputs": [
    {
     "name": "stderr",
     "output_type": "stream",
     "text": [
      "Threshold Sizes:   0%|          | 0/190 [00:00<?, ?it/s]"
     ]
    },
    {
     "name": "stderr",
     "output_type": "stream",
     "text": [
      "Threshold Sizes: 100%|██████████| 190/190 [00:56<00:00,  3.37it/s]\n"
     ]
    }
   ],
   "source": [
    "def run_global_sequence_alignment(window: list, target_sequence: list, placeholder: int = -1) -> tuple:\n",
    "    \"\"\"Apply global sequence alignment on the implied zero values within a window using minineedle, with placeholders.\"\"\"\n",
    "    observed_sequence = [int(p[1]) if pd.notna(p[1]) else placeholder for p in window]\n",
    "    \n",
    "    # Check for valid entries in the observed sequence\n",
    "    if all(val == placeholder for val in observed_sequence):\n",
    "        return 0, [], []\n",
    "\n",
    "    # Create Needleman-Wunsch global alignment instance\n",
    "    alignment = needle.NeedlemanWunsch(observed_sequence, target_sequence)\n",
    "    alignment.change_matrix(core.ScoreMatrix(match=4, miss=-0.5, gap=-1))\n",
    "\n",
    "    try:\n",
    "        # Run the alignment\n",
    "        alignment.align()\n",
    "        aligned_observed, aligned_target = alignment.get_aligned_sequences(core.AlignmentFormat.list)\n",
    "        alignment_score = alignment.get_score()\n",
    "        return alignment_score, aligned_observed, aligned_target\n",
    "\n",
    "    except ZeroDivisionError:\n",
    "        return 0, [], []\n",
    "\n",
    "def sequence_alignment_issue_detection_global(df: pd.DataFrame, threshold_sizes: list, placeholder: int = -1) -> pd.DataFrame:\n",
    "    \"\"\"Detect issue boundaries using global sequence alignment.\"\"\"\n",
    "    df['page_number'] = df['page_number'].astype(int)\n",
    "    df = df.sort_values(by=['page_number', 'implied_zero'])\n",
    "\n",
    "    all_boundaries = []\n",
    "\n",
    "    for threshold_size in tqdm(range(threshold_sizes[0], threshold_sizes[1]), desc=\"Threshold Sizes\"):\n",
    "        target_sequence = list(range(1, threshold_size + 1))  # Generate the target sequence\n",
    "        first_page_number = df.page_number.min()\n",
    "        final_page_number = df[df.page_number == first_page_number + threshold_size].page_number.max()\n",
    "        \n",
    "        for additional_page in range(5):\n",
    "            current_first_page_number = first_page_number + additional_page\n",
    "            selected_rows = df[(df.page_number <= final_page_number) & (df.page_number >= current_first_page_number)]\n",
    "            potential_sequence = list(zip(selected_rows['page_number'], selected_rows['implied_zero']))\n",
    "            \n",
    "            # Run sequence alignment with placeholders\n",
    "            alignment_score, aligned_observed, aligned_target = run_global_sequence_alignment(potential_sequence, target_sequence, placeholder=placeholder)\n",
    "            \n",
    "            # Analyze the alignment score\n",
    "            if alignment_score >= (0.6 * threshold_size):  # Adjust this threshold as needed\n",
    "                all_boundaries.append((alignment_score, aligned_observed, aligned_target, threshold_size, current_first_page_number, final_page_number))\n",
    "\n",
    "    boundaries_df = pd.DataFrame(all_boundaries, columns=['alignment_score', 'aligned_observed', 'aligned_target', 'threshold_size', 'start_page', 'end_page'])\n",
    "    return boundaries_df\n",
    "\n",
    "\n",
    "# Example usage\n",
    "likely_first_issue_boundaries_df = sequence_alignment_issue_detection_global(subset_digits, threshold_sizes=[10, 200], placeholder=-1)"
   ]
  },
  {
   "cell_type": "code",
   "execution_count": 8,
   "metadata": {},
   "outputs": [
    {
     "data": {
      "text/html": [
       "<pre style=\"white-space:pre;overflow-x:auto;line-height:normal;font-family:Menlo,'DejaVu Sans Mono',consolas,'Courier New',monospace\"><span style=\"font-style: italic\">           Top Ten Likely First Issue Boundaries            </span>\n",
       "┏━━━━━━━━━━━━━━━━━┳━━━━━━━━━━━━━━━━┳━━━━━━━━━━━━┳━━━━━━━━━━┓\n",
       "┃<span style=\"font-weight: bold\"> Alignment score </span>┃<span style=\"font-weight: bold\"> Threshold size </span>┃<span style=\"font-weight: bold\"> Start page </span>┃<span style=\"font-weight: bold\"> End page </span>┃\n",
       "┡━━━━━━━━━━━━━━━━━╇━━━━━━━━━━━━━━━━╇━━━━━━━━━━━━╇━━━━━━━━━━┩\n",
       "│<span style=\"color: #008080; text-decoration-color: #008080\">      31.0       </span>│<span style=\"color: #008080; text-decoration-color: #008080\">      36.0      </span>│<span style=\"color: #008080; text-decoration-color: #008080\">    8.0     </span>│<span style=\"color: #008080; text-decoration-color: #008080\">   43.0   </span>│\n",
       "│<span style=\"color: #008080; text-decoration-color: #008080\">      31.0       </span>│<span style=\"color: #008080; text-decoration-color: #008080\">      36.0      </span>│<span style=\"color: #008080; text-decoration-color: #008080\">    9.0     </span>│<span style=\"color: #008080; text-decoration-color: #008080\">   43.0   </span>│\n",
       "│<span style=\"color: #008080; text-decoration-color: #008080\">      30.5       </span>│<span style=\"color: #008080; text-decoration-color: #008080\">      37.0      </span>│<span style=\"color: #008080; text-decoration-color: #008080\">    8.0     </span>│<span style=\"color: #008080; text-decoration-color: #008080\">   44.0   </span>│\n",
       "│<span style=\"color: #008080; text-decoration-color: #008080\">      30.5       </span>│<span style=\"color: #008080; text-decoration-color: #008080\">      37.0      </span>│<span style=\"color: #008080; text-decoration-color: #008080\">    9.0     </span>│<span style=\"color: #008080; text-decoration-color: #008080\">   44.0   </span>│\n",
       "│<span style=\"color: #008080; text-decoration-color: #008080\">      29.5       </span>│<span style=\"color: #008080; text-decoration-color: #008080\">      36.0      </span>│<span style=\"color: #008080; text-decoration-color: #008080\">    7.0     </span>│<span style=\"color: #008080; text-decoration-color: #008080\">   43.0   </span>│\n",
       "│<span style=\"color: #008080; text-decoration-color: #008080\">      29.0       </span>│<span style=\"color: #008080; text-decoration-color: #008080\">      37.0      </span>│<span style=\"color: #008080; text-decoration-color: #008080\">    7.0     </span>│<span style=\"color: #008080; text-decoration-color: #008080\">   44.0   </span>│\n",
       "│<span style=\"color: #008080; text-decoration-color: #008080\">      27.5       </span>│<span style=\"color: #008080; text-decoration-color: #008080\">      34.0      </span>│<span style=\"color: #008080; text-decoration-color: #008080\">    8.0     </span>│<span style=\"color: #008080; text-decoration-color: #008080\">   41.0   </span>│\n",
       "│<span style=\"color: #008080; text-decoration-color: #008080\">      27.5       </span>│<span style=\"color: #008080; text-decoration-color: #008080\">      34.0      </span>│<span style=\"color: #008080; text-decoration-color: #008080\">    9.0     </span>│<span style=\"color: #008080; text-decoration-color: #008080\">   41.0   </span>│\n",
       "│<span style=\"color: #008080; text-decoration-color: #008080\">      26.0       </span>│<span style=\"color: #008080; text-decoration-color: #008080\">      34.0      </span>│<span style=\"color: #008080; text-decoration-color: #008080\">    7.0     </span>│<span style=\"color: #008080; text-decoration-color: #008080\">   41.0   </span>│\n",
       "│<span style=\"color: #008080; text-decoration-color: #008080\">      25.0       </span>│<span style=\"color: #008080; text-decoration-color: #008080\">      15.0      </span>│<span style=\"color: #008080; text-decoration-color: #008080\">    8.0     </span>│<span style=\"color: #008080; text-decoration-color: #008080\">   22.0   </span>│\n",
       "└─────────────────┴────────────────┴────────────┴──────────┘\n",
       "</pre>\n"
      ],
      "text/plain": [
       "\u001b[3m           Top Ten Likely First Issue Boundaries            \u001b[0m\n",
       "┏━━━━━━━━━━━━━━━━━┳━━━━━━━━━━━━━━━━┳━━━━━━━━━━━━┳━━━━━━━━━━┓\n",
       "┃\u001b[1m \u001b[0m\u001b[1mAlignment score\u001b[0m\u001b[1m \u001b[0m┃\u001b[1m \u001b[0m\u001b[1mThreshold size\u001b[0m\u001b[1m \u001b[0m┃\u001b[1m \u001b[0m\u001b[1mStart page\u001b[0m\u001b[1m \u001b[0m┃\u001b[1m \u001b[0m\u001b[1mEnd page\u001b[0m\u001b[1m \u001b[0m┃\n",
       "┡━━━━━━━━━━━━━━━━━╇━━━━━━━━━━━━━━━━╇━━━━━━━━━━━━╇━━━━━━━━━━┩\n",
       "│\u001b[36m \u001b[0m\u001b[36m     31.0      \u001b[0m\u001b[36m \u001b[0m│\u001b[36m \u001b[0m\u001b[36m     36.0     \u001b[0m\u001b[36m \u001b[0m│\u001b[36m \u001b[0m\u001b[36m   8.0    \u001b[0m\u001b[36m \u001b[0m│\u001b[36m \u001b[0m\u001b[36m  43.0  \u001b[0m\u001b[36m \u001b[0m│\n",
       "│\u001b[36m \u001b[0m\u001b[36m     31.0      \u001b[0m\u001b[36m \u001b[0m│\u001b[36m \u001b[0m\u001b[36m     36.0     \u001b[0m\u001b[36m \u001b[0m│\u001b[36m \u001b[0m\u001b[36m   9.0    \u001b[0m\u001b[36m \u001b[0m│\u001b[36m \u001b[0m\u001b[36m  43.0  \u001b[0m\u001b[36m \u001b[0m│\n",
       "│\u001b[36m \u001b[0m\u001b[36m     30.5      \u001b[0m\u001b[36m \u001b[0m│\u001b[36m \u001b[0m\u001b[36m     37.0     \u001b[0m\u001b[36m \u001b[0m│\u001b[36m \u001b[0m\u001b[36m   8.0    \u001b[0m\u001b[36m \u001b[0m│\u001b[36m \u001b[0m\u001b[36m  44.0  \u001b[0m\u001b[36m \u001b[0m│\n",
       "│\u001b[36m \u001b[0m\u001b[36m     30.5      \u001b[0m\u001b[36m \u001b[0m│\u001b[36m \u001b[0m\u001b[36m     37.0     \u001b[0m\u001b[36m \u001b[0m│\u001b[36m \u001b[0m\u001b[36m   9.0    \u001b[0m\u001b[36m \u001b[0m│\u001b[36m \u001b[0m\u001b[36m  44.0  \u001b[0m\u001b[36m \u001b[0m│\n",
       "│\u001b[36m \u001b[0m\u001b[36m     29.5      \u001b[0m\u001b[36m \u001b[0m│\u001b[36m \u001b[0m\u001b[36m     36.0     \u001b[0m\u001b[36m \u001b[0m│\u001b[36m \u001b[0m\u001b[36m   7.0    \u001b[0m\u001b[36m \u001b[0m│\u001b[36m \u001b[0m\u001b[36m  43.0  \u001b[0m\u001b[36m \u001b[0m│\n",
       "│\u001b[36m \u001b[0m\u001b[36m     29.0      \u001b[0m\u001b[36m \u001b[0m│\u001b[36m \u001b[0m\u001b[36m     37.0     \u001b[0m\u001b[36m \u001b[0m│\u001b[36m \u001b[0m\u001b[36m   7.0    \u001b[0m\u001b[36m \u001b[0m│\u001b[36m \u001b[0m\u001b[36m  44.0  \u001b[0m\u001b[36m \u001b[0m│\n",
       "│\u001b[36m \u001b[0m\u001b[36m     27.5      \u001b[0m\u001b[36m \u001b[0m│\u001b[36m \u001b[0m\u001b[36m     34.0     \u001b[0m\u001b[36m \u001b[0m│\u001b[36m \u001b[0m\u001b[36m   8.0    \u001b[0m\u001b[36m \u001b[0m│\u001b[36m \u001b[0m\u001b[36m  41.0  \u001b[0m\u001b[36m \u001b[0m│\n",
       "│\u001b[36m \u001b[0m\u001b[36m     27.5      \u001b[0m\u001b[36m \u001b[0m│\u001b[36m \u001b[0m\u001b[36m     34.0     \u001b[0m\u001b[36m \u001b[0m│\u001b[36m \u001b[0m\u001b[36m   9.0    \u001b[0m\u001b[36m \u001b[0m│\u001b[36m \u001b[0m\u001b[36m  41.0  \u001b[0m\u001b[36m \u001b[0m│\n",
       "│\u001b[36m \u001b[0m\u001b[36m     26.0      \u001b[0m\u001b[36m \u001b[0m│\u001b[36m \u001b[0m\u001b[36m     34.0     \u001b[0m\u001b[36m \u001b[0m│\u001b[36m \u001b[0m\u001b[36m   7.0    \u001b[0m\u001b[36m \u001b[0m│\u001b[36m \u001b[0m\u001b[36m  41.0  \u001b[0m\u001b[36m \u001b[0m│\n",
       "│\u001b[36m \u001b[0m\u001b[36m     25.0      \u001b[0m\u001b[36m \u001b[0m│\u001b[36m \u001b[0m\u001b[36m     15.0     \u001b[0m\u001b[36m \u001b[0m│\u001b[36m \u001b[0m\u001b[36m   8.0    \u001b[0m\u001b[36m \u001b[0m│\u001b[36m \u001b[0m\u001b[36m  22.0  \u001b[0m\u001b[36m \u001b[0m│\n",
       "└─────────────────┴────────────────┴────────────┴──────────┘\n"
      ]
     },
     "metadata": {},
     "output_type": "display_data"
    }
   ],
   "source": [
    "top_ten_boundaries = likely_first_issue_boundaries_df.sort_values(by=['alignment_score', 'start_page'], ascending=[False, True]).head(10)\n",
    "generate_table(top_ten_boundaries[['alignment_score', 'threshold_size', 'start_page', 'end_page']], \"Top Ten Likely First Issue Boundaries\")"
   ]
  },
  {
   "cell_type": "code",
   "execution_count": 15,
   "metadata": {},
   "outputs": [
    {
     "data": {
      "text/html": [
       "<pre style=\"white-space:pre;overflow-x:auto;line-height:normal;font-family:Menlo,'DejaVu Sans Mono',consolas,'Courier New',monospace\"><span style=\"font-style: italic\">                 Best First Issue Candidate                 </span>\n",
       "┏━━━━━━━━━━━━━━━━━┳━━━━━━━━━━━━━━━━┳━━━━━━━━━━━━┳━━━━━━━━━━┓\n",
       "┃<span style=\"font-weight: bold\"> Alignment score </span>┃<span style=\"font-weight: bold\"> Threshold size </span>┃<span style=\"font-weight: bold\"> Start page </span>┃<span style=\"font-weight: bold\"> End page </span>┃\n",
       "┡━━━━━━━━━━━━━━━━━╇━━━━━━━━━━━━━━━━╇━━━━━━━━━━━━╇━━━━━━━━━━┩\n",
       "│<span style=\"color: #008080; text-decoration-color: #008080\">      31.0       </span>│<span style=\"color: #008080; text-decoration-color: #008080\">      36.0      </span>│<span style=\"color: #008080; text-decoration-color: #008080\">    8.0     </span>│<span style=\"color: #008080; text-decoration-color: #008080\">   43.0   </span>│\n",
       "└─────────────────┴────────────────┴────────────┴──────────┘\n",
       "</pre>\n"
      ],
      "text/plain": [
       "\u001b[3m                 Best First Issue Candidate                 \u001b[0m\n",
       "┏━━━━━━━━━━━━━━━━━┳━━━━━━━━━━━━━━━━┳━━━━━━━━━━━━┳━━━━━━━━━━┓\n",
       "┃\u001b[1m \u001b[0m\u001b[1mAlignment score\u001b[0m\u001b[1m \u001b[0m┃\u001b[1m \u001b[0m\u001b[1mThreshold size\u001b[0m\u001b[1m \u001b[0m┃\u001b[1m \u001b[0m\u001b[1mStart page\u001b[0m\u001b[1m \u001b[0m┃\u001b[1m \u001b[0m\u001b[1mEnd page\u001b[0m\u001b[1m \u001b[0m┃\n",
       "┡━━━━━━━━━━━━━━━━━╇━━━━━━━━━━━━━━━━╇━━━━━━━━━━━━╇━━━━━━━━━━┩\n",
       "│\u001b[36m \u001b[0m\u001b[36m     31.0      \u001b[0m\u001b[36m \u001b[0m│\u001b[36m \u001b[0m\u001b[36m     36.0     \u001b[0m\u001b[36m \u001b[0m│\u001b[36m \u001b[0m\u001b[36m   8.0    \u001b[0m\u001b[36m \u001b[0m│\u001b[36m \u001b[0m\u001b[36m  43.0  \u001b[0m\u001b[36m \u001b[0m│\n",
       "└─────────────────┴────────────────┴────────────┴──────────┘\n"
      ]
     },
     "metadata": {},
     "output_type": "display_data"
    },
    {
     "data": {
      "text/html": [
       "<pre style=\"white-space:pre;overflow-x:auto;line-height:normal;font-family:Menlo,'DejaVu Sans Mono',consolas,'Courier New',monospace\"><span style=\"font-weight: bold\">Threshold Size: Mean = </span><span style=\"color: #008080; text-decoration-color: #008080; font-weight: bold\">33.6</span><span style=\"font-weight: bold\">, CI = (</span><span style=\"color: #008080; text-decoration-color: #008080; font-weight: bold\">29.47630533223672</span><span style=\"font-weight: bold\">, </span><span style=\"color: #008080; text-decoration-color: #008080; font-weight: bold\">37.72369466776328</span><span style=\"font-weight: bold\">), Margin of Error = </span><span style=\"color: #008080; text-decoration-color: #008080; font-weight: bold\">4.123694667763282</span>\n",
       "</pre>\n"
      ],
      "text/plain": [
       "\u001b[1mThreshold Size: Mean = \u001b[0m\u001b[1;36m33.6\u001b[0m\u001b[1m, CI = \u001b[0m\u001b[1m(\u001b[0m\u001b[1;36m29.47630533223672\u001b[0m\u001b[1m, \u001b[0m\u001b[1;36m37.72369466776328\u001b[0m\u001b[1m)\u001b[0m\u001b[1m, Margin of Error = \u001b[0m\u001b[1;36m4.123694667763282\u001b[0m\n"
      ]
     },
     "metadata": {},
     "output_type": "display_data"
    },
    {
     "data": {
      "text/html": [
       "<pre style=\"white-space:pre;overflow-x:auto;line-height:normal;font-family:Menlo,'DejaVu Sans Mono',consolas,'Courier New',monospace\"><span style=\"font-weight: bold\">Alignment Score: Mean = </span><span style=\"color: #008080; text-decoration-color: #008080; font-weight: bold\">28.75</span><span style=\"font-weight: bold\">, CI = (</span><span style=\"color: #008080; text-decoration-color: #008080; font-weight: bold\">27.417080383304743</span><span style=\"font-weight: bold\">, </span><span style=\"color: #008080; text-decoration-color: #008080; font-weight: bold\">30.082919616695257</span><span style=\"font-weight: bold\">), Margin of Error = </span><span style=\"color: #008080; text-decoration-color: #008080; font-weight: bold\">1.3329196166952577</span>\n",
       "</pre>\n"
      ],
      "text/plain": [
       "\u001b[1mAlignment Score: Mean = \u001b[0m\u001b[1;36m28.75\u001b[0m\u001b[1m, CI = \u001b[0m\u001b[1m(\u001b[0m\u001b[1;36m27.417080383304743\u001b[0m\u001b[1m, \u001b[0m\u001b[1;36m30.082919616695257\u001b[0m\u001b[1m)\u001b[0m\u001b[1m, Margin of Error = \u001b[0m\u001b[1;36m1.3329196166952577\u001b[0m\n"
      ]
     },
     "metadata": {},
     "output_type": "display_data"
    }
   ],
   "source": [
    "def select_likely_first_issue(df: pd.DataFrame, mean_threshold: float) -> pd.Series:\n",
    "    \"\"\"Select the most likely first issue based on weighted scores.\"\"\"\n",
    "    # Calculate frequency of start_page, end_page, and threshold_size\n",
    "    start_page_freq = df['start_page'].value_counts(normalize=True).to_dict()\n",
    "    end_page_freq = df['end_page'].value_counts(normalize=True).to_dict()\n",
    "    threshold_size_freq = df['threshold_size'].value_counts(normalize=True).to_dict()\n",
    "\n",
    "    # Define weights\n",
    "    alpha, beta, gamma, delta = 0.4, 0.2, 0.2, 0.2\n",
    "\n",
    "    # Add a column for weighted score\n",
    "    def calculate_weighted_score(row):\n",
    "        alignment_score = row['alignment_score']\n",
    "        start_page_score = start_page_freq.get(row['start_page'], 0)\n",
    "        end_page_score = end_page_freq.get(row['end_page'], 0)\n",
    "        threshold_diff = abs(row['threshold_size'] - mean_threshold)\n",
    "        threshold_score = 1 - (threshold_diff / mean_threshold)\n",
    "\n",
    "        return (alpha * alignment_score +\n",
    "                beta * start_page_score +\n",
    "                gamma * end_page_score +\n",
    "                delta * threshold_score)\n",
    "\n",
    "    df['weighted_score'] = df.apply(calculate_weighted_score, axis=1)\n",
    "\n",
    "    # Select the candidate with the highest weighted score\n",
    "    best_candidate = df.sort_values(by='weighted_score', ascending=False).iloc[0]\n",
    "\n",
    "    return best_candidate\n",
    "\n",
    "def calculate_confidence_interval(df: pd.DataFrame, column: str, confidence: float = 0.95) -> tuple:\n",
    "    \"\"\"Calculate the confidence interval for a given column.\"\"\"\n",
    "    mean_val = df[column].mean()\n",
    "    std_dev = df[column].std()\n",
    "    n = len(df)\n",
    "\n",
    "    # Calculate standard error\n",
    "    standard_error = std_dev / np.sqrt(n)\n",
    "\n",
    "    # Calculate confidence interval\n",
    "    z_score = stats.norm.ppf((1 + confidence) / 2)\n",
    "    margin_of_error = z_score * standard_error\n",
    "\n",
    "    lower_bound = mean_val - margin_of_error\n",
    "    upper_bound = mean_val + margin_of_error\n",
    "\n",
    "    return mean_val, lower_bound, upper_bound, margin_of_error\n",
    "\n",
    "\n",
    "# Calculate the mean of threshold sizes\n",
    "mean_threshold = top_ten_boundaries['threshold_size'].mean()\n",
    "\n",
    "# Apply the selection function to the top ten boundaries\n",
    "best_first_issue = select_likely_first_issue(top_ten_boundaries, mean_threshold)\n",
    "best_first_issue_df = pd.DataFrame([best_first_issue]).reset_index(drop=True)\n",
    "generate_table(best_first_issue_df[['alignment_score', 'threshold_size', 'start_page', 'end_page']], \"Best First Issue Candidate\")\n",
    "\n",
    "# Calculate confidence intervals for threshold_size and alignment_score\n",
    "mean_threshold, lower_threshold, upper_threshold, margin_error_threshold = calculate_confidence_interval(top_ten_boundaries, 'threshold_size')\n",
    "mean_score, lower_score, upper_score, margin_error_score = calculate_confidence_interval(top_ten_boundaries, 'alignment_score')\n",
    "\n",
    "console.print(f\"Threshold Size: Mean = {mean_threshold}, CI = ({lower_threshold}, {upper_threshold}), Margin of Error = {margin_error_threshold}\", style=\"bold\")\n",
    "console.print(f\"Alignment Score: Mean = {mean_score}, CI = ({lower_score}, {upper_score}), Margin of Error = {margin_error_score}\", style=\"bold\")\n"
   ]
  },
  {
   "cell_type": "markdown",
   "metadata": {},
   "source": [
    "### Detect Remaining Issues"
   ]
  },
  {
   "cell_type": "code",
   "execution_count": 15,
   "metadata": {},
   "outputs": [
    {
     "name": "stderr",
     "output_type": "stream",
     "text": [
      "Page Numbers: 100%|██████████| 907/907 [00:00<00:00, 1539.01it/s]\n",
      "Page Numbers: 100%|██████████| 907/907 [00:00<00:00, 1380.01it/s]\n",
      "Page Numbers: 100%|██████████| 907/907 [00:00<00:00, 1702.51it/s]\n",
      "Page Numbers: 100%|██████████| 907/907 [00:00<00:00, 1293.69it/s]\n",
      "Page Numbers: 100%|██████████| 907/907 [00:00<00:00, 1284.66it/s]\n",
      "Page Numbers: 100%|██████████| 907/907 [00:00<00:00, 1856.12it/s]\n",
      "Page Numbers: 100%|██████████| 907/907 [00:00<00:00, 1656.09it/s]\n",
      "Page Numbers: 100%|██████████| 907/907 [00:00<00:00, 1323.21it/s]\n",
      "Page Numbers: 100%|██████████| 907/907 [00:00<00:00, 1215.32it/s]\n",
      "Page Numbers: 100%|██████████| 907/907 [00:00<00:00, 1758.51it/s]\n",
      "Page Numbers: 100%|██████████| 907/907 [00:00<00:00, 1290.34it/s]\n",
      "Page Numbers: 100%|██████████| 907/907 [00:00<00:00, 1275.69it/s]\n",
      "Page Numbers: 100%|██████████| 907/907 [00:00<00:00, 1881.91it/s]\n",
      "Threshold Sizes: 100%|██████████| 13/13 [00:08<00:00,  1.60it/s]\n"
     ]
    },
    {
     "data": {
      "text/html": [
       "<pre style=\"white-space:pre;overflow-x:auto;line-height:normal;font-family:Menlo,'DejaVu Sans Mono',consolas,'Courier New',monospace\">Detected <span style=\"color: #008080; text-decoration-color: #008080; font-weight: bold\">6883</span> potential boundaries across <span style=\"color: #008080; text-decoration-color: #008080; font-weight: bold\">13</span> thresholds.\n",
       "</pre>\n"
      ],
      "text/plain": [
       "Detected \u001b[1;36m6883\u001b[0m potential boundaries across \u001b[1;36m13\u001b[0m thresholds.\n"
      ]
     },
     "metadata": {},
     "output_type": "display_data"
    }
   ],
   "source": [
    "def probabilistic_issue_detection(df: pd.DataFrame, window_size: int = 5, threshold_sizes: list = [30]) -> pd.DataFrame:\n",
    "    \"\"\"Detect issue boundaries probabilistically without relying on annotations.\"\"\"\n",
    "\n",
    "    df['page_number'] = df['page_number'].astype(int)\n",
    "    df['implied_zero'] = df['implied_zero'].astype(int, errors='ignore')\n",
    "    df = df.sort_values(by=['page_number'])\n",
    "\n",
    "    # Initialize list to store detected boundaries across all thresholds\n",
    "    all_boundaries = []\n",
    "\n",
    "    for threshold in tqdm(threshold_sizes, desc=\"Threshold Sizes\"):\n",
    "        # Initialize deque to maintain a sliding window of page numbers for each threshold\n",
    "        sliding_window = deque(maxlen=window_size)\n",
    "        # Initialize list to store detected boundaries for this threshold\n",
    "        issue_boundaries = []\n",
    "        issue_number = 0\n",
    "        existing_start_issue = None\n",
    "\n",
    "        page_numbers = df['page_number'].unique().tolist()\n",
    "        for index, page_number in tqdm(enumerate(page_numbers), desc=\"Page Numbers\", total=len(page_numbers)):\n",
    "            selected_rows = df[df['page_number'] == page_number]\n",
    "            implied_zero_values = selected_rows[(selected_rows.implied_zero.notna()) & (selected_rows.page_type == \"digit\")]['implied_zero'].tolist()\n",
    "            is_digit_page = selected_rows['page_type'].values[0]\n",
    "\n",
    "            if index == 0:\n",
    "                existing_start_issue = selected_rows['start_issue'].values[0]\n",
    "\n",
    "            # Update the sliding window\n",
    "            if is_digit_page == \"digit\":\n",
    "                for implied_zero in implied_zero_values:\n",
    "                    sliding_window.append((page_number, implied_zero))\n",
    "            else:\n",
    "                sliding_window.append((page_number, None))\n",
    "\n",
    "            # Check boundaries when window is full\n",
    "            if len(sliding_window) == window_size:\n",
    "                page_range = max(p[0] for p in sliding_window if p[1] is not None) - min(p[0] for p in sliding_window if p[1] is not None)\n",
    "                implied_zero_diff = max(p[1] for p in sliding_window if p[1] is not None) - min(p[1] for p in sliding_window if p[1] is not None)\n",
    "\n",
    "                # Probabilistic scoring for boundary detection\n",
    "                score = 0\n",
    "                if page_range > threshold:\n",
    "                    score += 0.5\n",
    "                    # If the page range exceeds the threshold, add to score by 0.5. \n",
    "\n",
    "                if implied_zero_diff > threshold:\n",
    "                    score += 0.5\n",
    "                    # If the implied zero difference exceeds the threshold, add to score by 0.5.\n",
    "\n",
    "                # Check if non-digit pages contribute to score\n",
    "                non_digit_count = sum(1 for p in sliding_window if p[1] is None)\n",
    "                if non_digit_count > 0:\n",
    "                    score += 0.2 * (non_digit_count / window_size)\n",
    "                    # If non-digit pages are present, add to score by 0.2 for each non-digit page.\n",
    "\n",
    "                # Flag boundary if score is sufficient\n",
    "                if score > 0:\n",
    "                    issue_boundaries.append((\n",
    "                        page_number, implied_zero_values, 'potential_boundary',\n",
    "                        selected_rows['start_issue'].values[0], issue_number, threshold, selected_rows['temp_issue_number'].values[0], is_digit_page\n",
    "                    ))\n",
    "\n",
    "            # Increment issue_number for a new start_issue\n",
    "            if existing_start_issue != selected_rows['start_issue'].values[0]:\n",
    "                issue_number += 1\n",
    "                existing_start_issue = selected_rows['start_issue'].values[0]\n",
    "\n",
    "        # Print summary after each threshold\n",
    "        all_boundaries.extend(issue_boundaries)\n",
    "\n",
    "    # Create DataFrame for all boundaries\n",
    "    boundaries_df = pd.DataFrame(all_boundaries, columns=['page_number', 'implied_zero_values', 'status', 'start_issue', 'status_issue_number', 'threshold', 'temp_issue_number', 'page_type'])\n",
    "\n",
    "    # Calculate probabilistic weights for each threshold\n",
    "    boundaries_df['boundary_prob'] = boundaries_df.groupby('threshold')['page_number'].transform('count') / len(df['page_number'].unique())\n",
    "\n",
    "    return boundaries_df\n",
    "\n",
    "# Example usage with a more focused range of thresholds\n",
    "range_of_max_issue_length = [20, 25, 30, 35, 40, 45, 50, 55, 60, 70, 80, 90, 100]\n",
    "boundaries_df = probabilistic_issue_detection(subset_digits, threshold_sizes=range_of_max_issue_length)\n",
    "\n",
    "# Analyze results\n",
    "console.print(f\"Detected {len(boundaries_df)} potential boundaries across {len(boundaries_df.threshold.unique())} thresholds.\")\n",
    "\n"
   ]
  },
  {
   "cell_type": "code",
   "execution_count": 60,
   "metadata": {},
   "outputs": [],
   "source": [
    "output = subset_digits[(subset_digits.page_number >= 1) & (subset_digits.page_number <= 30)][['number', 'implied_zero', 'page_number', 'page_type', 'section']].sort_values(by=['page_number', 'implied_zero']).to_dict(orient='records')\n",
    "import pyperclip\n",
    "pyperclip.copy(str(output))"
   ]
  },
  {
   "cell_type": "code",
   "execution_count": 12,
   "metadata": {},
   "outputs": [],
   "source": [
    "# def advanced_sequence_detection(df: pd.DataFrame, threshold: int = 30, score_threshold: float = 0.5) -> pd.DataFrame:\n",
    "#     \"\"\"Detect issue boundaries using sequential scoring and section-based weighting.\"\"\"\n",
    "\n",
    "#     df['page_number'] = df['page_number'].astype(int)\n",
    "#     df['implied_zero'] = df['implied_zero'].astype(int, errors='ignore')\n",
    "#     df = df.sort_values(by=['page_number'])\n",
    "\n",
    "#     # Initialize list to store detected boundaries\n",
    "#     issue_boundaries = []\n",
    "#     max_score = 0\n",
    "\n",
    "#     page_numbers = df['page_number'].unique().tolist()\n",
    "\n",
    "#     # Slide window across the pages, based on the specified threshold size\n",
    "#     for start_page in tqdm(range(0, len(page_numbers) - threshold + 1), desc=\"Sliding Window\"):\n",
    "\n",
    "#         # Define window range\n",
    "#         window_pages = page_numbers[start_page:start_page + threshold]\n",
    "#         window_df = df[df['page_number'].isin(window_pages)]\n",
    "\n",
    "#         # Initialize variables for scoring\n",
    "#         seq_digits = 0  # Number of digits forming a sequence\n",
    "#         total_digits = 0  # Total number of digits in the window\n",
    "#         pages_with_digits = 0  # Number of pages containing digits\n",
    "#         section_score = 0  # Section-based weighting\n",
    "#         missing_pages = 0  # Number of pages without digits\n",
    "\n",
    "#         # Calculate the sequence score within the window\n",
    "#         for _, row in window_df.iterrows():\n",
    "#             digit = row['number'] if row['page_type'] == 'digit' else None\n",
    "#             section = row['section']\n",
    "\n",
    "#             if digit is not None:\n",
    "#                 total_digits += 1\n",
    "#                 # Check if digit is part of a plausible sequence\n",
    "#                 print(total_digits)\n",
    "#                 if (total_digits > 1) and (abs(digit - previous_digit) <= 1):\n",
    "#                     seq_digits += 1  # Increment if digits form a sequence\n",
    "\n",
    "#                 # Apply section-based weighting\n",
    "#                 if section != \"body\":\n",
    "#                     section_score += 0.2  # Higher weight for headers/footers\n",
    "\n",
    "#             else:\n",
    "#                 missing_pages += 1  # Increment for pages without digits\n",
    "\n",
    "#             previous_digit = digit  # Update for next iteration\n",
    "\n",
    "#         # Calculate final score for the window\n",
    "#         sequence_score = (seq_digits / total_digits) if total_digits > 0 else 0\n",
    "#         page_density_score = pages_with_digits / threshold\n",
    "#         missing_page_penalty = (missing_pages / threshold) * 0.1  # Small penalty for missing pages\n",
    "#         total_score = sequence_score + page_density_score + section_score - missing_page_penalty\n",
    "\n",
    "#         # Flag boundary if total score exceeds threshold\n",
    "#         if total_score >= score_threshold:\n",
    "#             end_page = window_pages[-1]\n",
    "#             issue_boundaries.append((end_page, total_score, 'potential_boundary'))\n",
    "#             max_score = max(max_score, total_score)  # Track the highest score\n",
    "\n",
    "#     # Create DataFrame for detected boundaries\n",
    "#     boundaries_df = pd.DataFrame(issue_boundaries, columns=['page_number', 'boundary_score', 'status'])\n",
    "#     return boundaries_df\n",
    "\n",
    "# # Example usage\n",
    "# threshold_size = 30  # Example threshold\n",
    "# advanced_boundaries_df = advanced_sequence_detection(subset_digits, threshold=threshold_size, score_threshold=0.5)\n",
    "\n",
    "# # Analyze results\n",
    "# console.print(f\"Detected {len(advanced_boundaries_df)} potential boundaries.\")\n",
    "# console.print(advanced_boundaries_df.head())"
   ]
  },
  {
   "cell_type": "code",
   "execution_count": 21,
   "metadata": {},
   "outputs": [
    {
     "name": "stderr",
     "output_type": "stream",
     "text": [
      "Page Numbers: 100%|██████████| 907/907 [00:00<00:00, 1753.19it/s]\n",
      "Page Numbers: 100%|██████████| 907/907 [00:00<00:00, 1218.36it/s]\n",
      "Page Numbers: 100%|██████████| 907/907 [00:00<00:00, 1824.31it/s]\n",
      "Page Numbers: 100%|██████████| 907/907 [00:00<00:00, 1503.79it/s]\n",
      "Page Numbers: 100%|██████████| 907/907 [00:00<00:00, 1658.33it/s]\n",
      "Page Numbers: 100%|██████████| 907/907 [00:00<00:00, 1203.18it/s]\n",
      "Page Numbers: 100%|██████████| 907/907 [00:00<00:00, 1226.15it/s]\n",
      "Page Numbers: 100%|██████████| 907/907 [00:00<00:00, 1011.13it/s]\n",
      "Page Numbers: 100%|██████████| 907/907 [00:00<00:00, 932.79it/s]\n",
      "Page Numbers: 100%|██████████| 907/907 [00:01<00:00, 706.96it/s]\n",
      "Page Numbers: 100%|██████████| 907/907 [00:00<00:00, 1448.73it/s]\n",
      "Page Numbers: 100%|██████████| 907/907 [00:00<00:00, 1658.95it/s]\n",
      "Page Numbers: 100%|██████████| 907/907 [00:00<00:00, 1711.14it/s]\n",
      "Page Numbers: 100%|██████████| 907/907 [00:00<00:00, 1238.87it/s]\n",
      "Page Numbers: 100%|██████████| 907/907 [00:00<00:00, 1449.65it/s]\n",
      "Page Numbers: 100%|██████████| 907/907 [00:00<00:00, 1249.38it/s]\n",
      "Threshold Sizes: 100%|██████████| 16/16 [00:11<00:00,  1.40it/s]\n"
     ]
    },
    {
     "data": {
      "text/html": [
       "<pre style=\"white-space:pre;overflow-x:auto;line-height:normal;font-family:Menlo,'DejaVu Sans Mono',consolas,'Courier New',monospace\">Detected <span style=\"color: #008080; text-decoration-color: #008080; font-weight: bold\">4381</span> potential boundaries across <span style=\"color: #008080; text-decoration-color: #008080; font-weight: bold\">16</span> thresholds.\n",
       "</pre>\n"
      ],
      "text/plain": [
       "Detected \u001b[1;36m4381\u001b[0m potential boundaries across \u001b[1;36m16\u001b[0m thresholds.\n"
      ]
     },
     "metadata": {},
     "output_type": "display_data"
    }
   ],
   "source": [
    "def updated_probabilistic_issue_detection(df: pd.DataFrame, window_size: int = 5, threshold_sizes: list = [30], score_threshold: float = 0.5) -> pd.DataFrame:\n",
    "\t\"\"\"Detect issue boundaries probabilistically without relying on annotations.\"\"\"\n",
    "\n",
    "\tdf['page_number'] = df['page_number'].astype(int)\n",
    "\tdf['implied_zero'] = df['implied_zero'].astype(int, errors='ignore')\n",
    "\tdf = df.sort_values(by=['page_number'])\n",
    "\n",
    "\t# Initialize list to store detected boundaries across all thresholds\n",
    "\tall_boundaries = []\n",
    "\n",
    "\tfor threshold in tqdm(threshold_sizes, desc=\"Threshold Sizes\"):\n",
    "\t\tsliding_window = deque(maxlen=window_size)\n",
    "\t\tissue_boundaries = []\n",
    "\t\tissue_number = 0\n",
    "\t\texisting_start_issue = None\n",
    "\n",
    "\t\tpage_numbers = df['page_number'].unique().tolist()\n",
    "\t\tcumulative_score = 0  # Use cumulative scoring\n",
    "\n",
    "\t\tfor index, page_number in tqdm(enumerate(page_numbers), desc=\"Page Numbers\", total=len(page_numbers)):\n",
    "\t\t\tselected_rows = df[df['page_number'] == page_number]\n",
    "\t\t\timplied_zero_values = selected_rows[(selected_rows.implied_zero.notna()) & (selected_rows.page_type == \"digit\")][['implied_zero', 'section']].to_dict(orient='records')\n",
    "\t\t\tis_digit_page = selected_rows['page_type'].values[0]\n",
    "\n",
    "\t\t\tif index == 0:\n",
    "\t\t\t\texisting_start_issue = selected_rows['start_issue'].values[0]\n",
    "\n",
    "\t\t\t# Update the sliding window\n",
    "\t\t\tif is_digit_page == \"digit\":\n",
    "\t\t\t\tfor implied_zero_dict in implied_zero_values:\n",
    "\t\t\t\t\timplied_zero = implied_zero_dict['implied_zero']\n",
    "\t\t\t\t\tsection_weight = 0.2 if implied_zero_dict['section'] != \"body\" else 0\n",
    "\t\t\t\t\tsliding_window.append((page_number, implied_zero, section_weight))\n",
    "\t\t\telse:\n",
    "\t\t\t\tsliding_window.append((page_number, None, 0))\n",
    "\n",
    "\t\t\t# Check boundaries when window is full\n",
    "\t\t\tif len(sliding_window) == window_size:\n",
    "\t\t\t\tpage_range = max(p[0] for p in sliding_window if p[1] is not None) - min(p[0] for p in sliding_window if p[1] is not None)\n",
    "\t\t\t\timplied_zero_diff = max(p[1] for p in sliding_window if p[1] is not None) - min(p[1] for p in sliding_window if p[1] is not None)\n",
    "\n",
    "\t\t\t\t# Adjust weights for boundary detection\n",
    "\t\t\t\tscore = 0\n",
    "\t\t\t\tif page_range > threshold:\n",
    "\t\t\t\t\tscore += 0.6  # Increased weight for page range\n",
    "\n",
    "\t\t\t\tif implied_zero_diff > threshold:\n",
    "\t\t\t\t\tscore += 0.4  # Increased weight for implied zero diff\n",
    "\n",
    "\t\t\t\t# Increase weight of non-digit pages in the score\n",
    "\t\t\t\tnon_digit_count = sum(1 for p in sliding_window if p[1] is None)\n",
    "\t\t\t\tif non_digit_count > 0:\n",
    "\t\t\t\t\tscore += 0.3 * (non_digit_count / window_size)  # Increase weight for non-digit pages\n",
    "\t\t\t\t\t\n",
    "\t\t\t\t# Increase weight of section headers in the score\n",
    "\t\t\t\tsection_weight = sum(p[2] for p in sliding_window)\n",
    "\t\t\t\tif section_weight > 0:\n",
    "\t\t\t\t\tscore += 0.1 * section_weight\n",
    "\n",
    "\t\t\t\t# Use cumulative scoring\n",
    "\t\t\t\tcumulative_score += score\n",
    "\n",
    "\t\t\t\t# Flag boundary if cumulative score is sufficient\n",
    "\t\t\t\tif cumulative_score >= score_threshold:\n",
    "\t\t\t\t\tissue_boundaries.append((\n",
    "\t\t\t\t\t\tpage_number, implied_zero_values, 'potential_boundary',\n",
    "\t\t\t\t\t\tselected_rows['start_issue'].values[0], issue_number, threshold, selected_rows['temp_issue_number'].values[0], is_digit_page\n",
    "\t\t\t\t\t))\n",
    "\t\t\t\t\tcumulative_score = 0  # Reset cumulative score after detecting a boundary\n",
    "\n",
    "\t\t\t# Increment issue_number for a new start_issue\n",
    "\t\t\tif existing_start_issue != selected_rows['start_issue'].values[0]:\n",
    "\t\t\t\tissue_number += 1\n",
    "\t\t\t\texisting_start_issue = selected_rows['start_issue'].values[0]\n",
    "\n",
    "\t\t# Print summary after each threshold\n",
    "\t\tall_boundaries.extend(issue_boundaries)\n",
    "\n",
    "\t# Create DataFrame for all boundaries\n",
    "\tboundaries_df = pd.DataFrame(all_boundaries, columns=['page_number', 'implied_zero_values', 'status', 'start_issue', 'status_issue_number', 'threshold', 'temp_issue_number', 'page_type'])\n",
    "\n",
    "\t# Calculate probabilistic weights for each threshold\n",
    "\tboundaries_df['boundary_prob'] = boundaries_df.groupby('threshold')['page_number'].transform('count') / len(df['page_number'].unique())\n",
    "\n",
    "\treturn boundaries_df\n",
    "\n",
    "# Example usage with adjusted score threshold and weighting\n",
    "range_of_max_issue_length = [5, 10, 15, 20, 25, 30, 35, 40, 45, 50, 55, 60, 70, 80, 90, 100]\n",
    "updated_boundaries_df = updated_probabilistic_issue_detection(subset_digits, threshold_sizes=range_of_max_issue_length, score_threshold=0.5)\n",
    "\n",
    "# Analyze results\n",
    "console.print(f\"Detected {len(updated_boundaries_df)} potential boundaries across {len(updated_boundaries_df.threshold.unique())} thresholds.\")"
   ]
  },
  {
   "cell_type": "code",
   "execution_count": 22,
   "metadata": {},
   "outputs": [
    {
     "data": {
      "text/html": [
       "<pre style=\"white-space:pre;overflow-x:auto;line-height:normal;font-family:Menlo,'DejaVu Sans Mono',consolas,'Courier New',monospace\">     status_issue_number  threshold  avg_boundary_prob  likelihood\n",
       "<span style=\"color: #008080; text-decoration-color: #008080; font-weight: bold\">0</span>                      <span style=\"color: #008080; text-decoration-color: #008080; font-weight: bold\">0</span>          <span style=\"color: #008080; text-decoration-color: #008080; font-weight: bold\">5</span>           <span style=\"color: #008080; text-decoration-color: #008080; font-weight: bold\">0.510474</span>    <span style=\"color: #008080; text-decoration-color: #008080; font-weight: bold\">0.510474</span>\n",
       "<span style=\"color: #008080; text-decoration-color: #008080; font-weight: bold\">1</span>                      <span style=\"color: #008080; text-decoration-color: #008080; font-weight: bold\">0</span>         <span style=\"color: #008080; text-decoration-color: #008080; font-weight: bold\">10</span>           <span style=\"color: #008080; text-decoration-color: #008080; font-weight: bold\">0.489526</span>    <span style=\"color: #008080; text-decoration-color: #008080; font-weight: bold\">0.489526</span>\n",
       "<span style=\"color: #008080; text-decoration-color: #008080; font-weight: bold\">2</span>                      <span style=\"color: #008080; text-decoration-color: #008080; font-weight: bold\">0</span>         <span style=\"color: #008080; text-decoration-color: #008080; font-weight: bold\">15</span>           <span style=\"color: #008080; text-decoration-color: #008080; font-weight: bold\">0.459757</span>    <span style=\"color: #008080; text-decoration-color: #008080; font-weight: bold\">0.459757</span>\n",
       "<span style=\"color: #008080; text-decoration-color: #008080; font-weight: bold\">3</span>                      <span style=\"color: #008080; text-decoration-color: #008080; font-weight: bold\">0</span>         <span style=\"color: #008080; text-decoration-color: #008080; font-weight: bold\">20</span>           <span style=\"color: #008080; text-decoration-color: #008080; font-weight: bold\">0.416759</span>    <span style=\"color: #008080; text-decoration-color: #008080; font-weight: bold\">0.416759</span>\n",
       "<span style=\"color: #008080; text-decoration-color: #008080; font-weight: bold\">4</span>                      <span style=\"color: #008080; text-decoration-color: #008080; font-weight: bold\">0</span>         <span style=\"color: #008080; text-decoration-color: #008080; font-weight: bold\">25</span>           <span style=\"color: #008080; text-decoration-color: #008080; font-weight: bold\">0.366042</span>    <span style=\"color: #008080; text-decoration-color: #008080; font-weight: bold\">0.366042</span>\n",
       "..                   <span style=\"color: #808000; text-decoration-color: #808000\">...</span>        <span style=\"color: #808000; text-decoration-color: #808000\">...</span>                <span style=\"color: #808000; text-decoration-color: #808000\">...</span>         <span style=\"color: #808000; text-decoration-color: #808000\">...</span>\n",
       "<span style=\"color: #008080; text-decoration-color: #008080; font-weight: bold\">411</span>                   <span style=\"color: #008080; text-decoration-color: #008080; font-weight: bold\">25</span>         <span style=\"color: #008080; text-decoration-color: #008080; font-weight: bold\">60</span>           <span style=\"color: #008080; text-decoration-color: #008080; font-weight: bold\">0.231533</span>    <span style=\"color: #008080; text-decoration-color: #008080; font-weight: bold\">0.231533</span>\n",
       "<span style=\"color: #008080; text-decoration-color: #008080; font-weight: bold\">412</span>                   <span style=\"color: #008080; text-decoration-color: #008080; font-weight: bold\">25</span>         <span style=\"color: #008080; text-decoration-color: #008080; font-weight: bold\">70</span>           <span style=\"color: #008080; text-decoration-color: #008080; font-weight: bold\">0.213892</span>    <span style=\"color: #008080; text-decoration-color: #008080; font-weight: bold\">0.213892</span>\n",
       "<span style=\"color: #008080; text-decoration-color: #008080; font-weight: bold\">413</span>                   <span style=\"color: #008080; text-decoration-color: #008080; font-weight: bold\">25</span>         <span style=\"color: #008080; text-decoration-color: #008080; font-weight: bold\">80</span>           <span style=\"color: #008080; text-decoration-color: #008080; font-weight: bold\">0.196251</span>    <span style=\"color: #008080; text-decoration-color: #008080; font-weight: bold\">0.196251</span>\n",
       "<span style=\"color: #008080; text-decoration-color: #008080; font-weight: bold\">414</span>                   <span style=\"color: #008080; text-decoration-color: #008080; font-weight: bold\">25</span>         <span style=\"color: #008080; text-decoration-color: #008080; font-weight: bold\">90</span>           <span style=\"color: #008080; text-decoration-color: #008080; font-weight: bold\">0.175303</span>    <span style=\"color: #008080; text-decoration-color: #008080; font-weight: bold\">0.175303</span>\n",
       "<span style=\"color: #008080; text-decoration-color: #008080; font-weight: bold\">415</span>                   <span style=\"color: #008080; text-decoration-color: #008080; font-weight: bold\">25</span>        <span style=\"color: #008080; text-decoration-color: #008080; font-weight: bold\">100</span>           <span style=\"color: #008080; text-decoration-color: #008080; font-weight: bold\">0.153252</span>    <span style=\"color: #008080; text-decoration-color: #008080; font-weight: bold\">0.153252</span>\n",
       "\n",
       "<span style=\"font-weight: bold\">[</span><span style=\"color: #008080; text-decoration-color: #008080; font-weight: bold\">416</span> rows x <span style=\"color: #008080; text-decoration-color: #008080; font-weight: bold\">4</span> columns<span style=\"font-weight: bold\">]</span>\n",
       "</pre>\n"
      ],
      "text/plain": [
       "     status_issue_number  threshold  avg_boundary_prob  likelihood\n",
       "\u001b[1;36m0\u001b[0m                      \u001b[1;36m0\u001b[0m          \u001b[1;36m5\u001b[0m           \u001b[1;36m0.510474\u001b[0m    \u001b[1;36m0.510474\u001b[0m\n",
       "\u001b[1;36m1\u001b[0m                      \u001b[1;36m0\u001b[0m         \u001b[1;36m10\u001b[0m           \u001b[1;36m0.489526\u001b[0m    \u001b[1;36m0.489526\u001b[0m\n",
       "\u001b[1;36m2\u001b[0m                      \u001b[1;36m0\u001b[0m         \u001b[1;36m15\u001b[0m           \u001b[1;36m0.459757\u001b[0m    \u001b[1;36m0.459757\u001b[0m\n",
       "\u001b[1;36m3\u001b[0m                      \u001b[1;36m0\u001b[0m         \u001b[1;36m20\u001b[0m           \u001b[1;36m0.416759\u001b[0m    \u001b[1;36m0.416759\u001b[0m\n",
       "\u001b[1;36m4\u001b[0m                      \u001b[1;36m0\u001b[0m         \u001b[1;36m25\u001b[0m           \u001b[1;36m0.366042\u001b[0m    \u001b[1;36m0.366042\u001b[0m\n",
       "..                   \u001b[33m...\u001b[0m        \u001b[33m...\u001b[0m                \u001b[33m...\u001b[0m         \u001b[33m...\u001b[0m\n",
       "\u001b[1;36m411\u001b[0m                   \u001b[1;36m25\u001b[0m         \u001b[1;36m60\u001b[0m           \u001b[1;36m0.231533\u001b[0m    \u001b[1;36m0.231533\u001b[0m\n",
       "\u001b[1;36m412\u001b[0m                   \u001b[1;36m25\u001b[0m         \u001b[1;36m70\u001b[0m           \u001b[1;36m0.213892\u001b[0m    \u001b[1;36m0.213892\u001b[0m\n",
       "\u001b[1;36m413\u001b[0m                   \u001b[1;36m25\u001b[0m         \u001b[1;36m80\u001b[0m           \u001b[1;36m0.196251\u001b[0m    \u001b[1;36m0.196251\u001b[0m\n",
       "\u001b[1;36m414\u001b[0m                   \u001b[1;36m25\u001b[0m         \u001b[1;36m90\u001b[0m           \u001b[1;36m0.175303\u001b[0m    \u001b[1;36m0.175303\u001b[0m\n",
       "\u001b[1;36m415\u001b[0m                   \u001b[1;36m25\u001b[0m        \u001b[1;36m100\u001b[0m           \u001b[1;36m0.153252\u001b[0m    \u001b[1;36m0.153252\u001b[0m\n",
       "\n",
       "\u001b[1m[\u001b[0m\u001b[1;36m416\u001b[0m rows x \u001b[1;36m4\u001b[0m columns\u001b[1m]\u001b[0m\n"
      ]
     },
     "metadata": {},
     "output_type": "display_data"
    },
    {
     "data": {
      "text/html": [
       "\n",
       "<style>\n",
       "  #altair-viz-bfb45ed16ad540faba14cd1fdb89646e.vega-embed {\n",
       "    width: 100%;\n",
       "    display: flex;\n",
       "  }\n",
       "\n",
       "  #altair-viz-bfb45ed16ad540faba14cd1fdb89646e.vega-embed details,\n",
       "  #altair-viz-bfb45ed16ad540faba14cd1fdb89646e.vega-embed details summary {\n",
       "    position: relative;\n",
       "  }\n",
       "</style>\n",
       "<div id=\"altair-viz-bfb45ed16ad540faba14cd1fdb89646e\"></div>\n",
       "<script type=\"text/javascript\">\n",
       "  var VEGA_DEBUG = (typeof VEGA_DEBUG == \"undefined\") ? {} : VEGA_DEBUG;\n",
       "  (function(spec, embedOpt){\n",
       "    let outputDiv = document.currentScript.previousElementSibling;\n",
       "    if (outputDiv.id !== \"altair-viz-bfb45ed16ad540faba14cd1fdb89646e\") {\n",
       "      outputDiv = document.getElementById(\"altair-viz-bfb45ed16ad540faba14cd1fdb89646e\");\n",
       "    }\n",
       "    const paths = {\n",
       "      \"vega\": \"https://cdn.jsdelivr.net/npm/vega@5?noext\",\n",
       "      \"vega-lib\": \"https://cdn.jsdelivr.net/npm/vega-lib?noext\",\n",
       "      \"vega-lite\": \"https://cdn.jsdelivr.net/npm/vega-lite@5.8.0?noext\",\n",
       "      \"vega-embed\": \"https://cdn.jsdelivr.net/npm/vega-embed@6?noext\",\n",
       "    };\n",
       "\n",
       "    function maybeLoadScript(lib, version) {\n",
       "      var key = `${lib.replace(\"-\", \"\")}_version`;\n",
       "      return (VEGA_DEBUG[key] == version) ?\n",
       "        Promise.resolve(paths[lib]) :\n",
       "        new Promise(function(resolve, reject) {\n",
       "          var s = document.createElement('script');\n",
       "          document.getElementsByTagName(\"head\")[0].appendChild(s);\n",
       "          s.async = true;\n",
       "          s.onload = () => {\n",
       "            VEGA_DEBUG[key] = version;\n",
       "            return resolve(paths[lib]);\n",
       "          };\n",
       "          s.onerror = () => reject(`Error loading script: ${paths[lib]}`);\n",
       "          s.src = paths[lib];\n",
       "        });\n",
       "    }\n",
       "\n",
       "    function showError(err) {\n",
       "      outputDiv.innerHTML = `<div class=\"error\" style=\"color:red;\">${err}</div>`;\n",
       "      throw err;\n",
       "    }\n",
       "\n",
       "    function displayChart(vegaEmbed) {\n",
       "      vegaEmbed(outputDiv, spec, embedOpt)\n",
       "        .catch(err => showError(`Javascript Error: ${err.message}<br>This usually means there's a typo in your chart specification. See the javascript console for the full traceback.`));\n",
       "    }\n",
       "\n",
       "    if(typeof define === \"function\" && define.amd) {\n",
       "      requirejs.config({paths});\n",
       "      require([\"vega-embed\"], displayChart, err => showError(`Error loading script: ${err.message}`));\n",
       "    } else {\n",
       "      maybeLoadScript(\"vega\", \"5\")\n",
       "        .then(() => maybeLoadScript(\"vega-lite\", \"5.8.0\"))\n",
       "        .then(() => maybeLoadScript(\"vega-embed\", \"6\"))\n",
       "        .catch(showError)\n",
       "        .then(() => displayChart(vegaEmbed));\n",
       "    }\n",
       "  })({\"config\": {\"view\": {\"continuousWidth\": 300, \"continuousHeight\": 300}}, \"data\": {\"name\": \"data-e08d8c4f227b9f3007d8359d52276291\"}, \"mark\": {\"type\": \"line\", \"point\": true}, \"encoding\": {\"color\": {\"field\": \"threshold\", \"type\": \"nominal\"}, \"tooltip\": [{\"field\": \"status_issue_number\", \"type\": \"quantitative\"}, {\"field\": \"threshold\", \"type\": \"quantitative\"}, {\"field\": \"likelihood\", \"type\": \"quantitative\"}], \"x\": {\"field\": \"status_issue_number\", \"type\": \"ordinal\"}, \"y\": {\"field\": \"likelihood\", \"type\": \"quantitative\"}}, \"title\": \"Average Boundary Probability Across Status Issue Number and Threshold\", \"$schema\": \"https://vega.github.io/schema/vega-lite/v5.8.0.json\", \"datasets\": {\"data-e08d8c4f227b9f3007d8359d52276291\": [{\"status_issue_number\": 0, \"threshold\": 5, \"avg_boundary_prob\": 0.5104740904079382, \"likelihood\": 0.5104740904079382}, {\"status_issue_number\": 0, \"threshold\": 10, \"avg_boundary_prob\": 0.4895259095920617, \"likelihood\": 0.4895259095920617}, {\"status_issue_number\": 0, \"threshold\": 15, \"avg_boundary_prob\": 0.4597574421168688, \"likelihood\": 0.4597574421168688}, {\"status_issue_number\": 0, \"threshold\": 20, \"avg_boundary_prob\": 0.41675854465270123, \"likelihood\": 0.41675854465270123}, {\"status_issue_number\": 0, \"threshold\": 25, \"avg_boundary_prob\": 0.3660418963616318, \"likelihood\": 0.3660418963616318}, {\"status_issue_number\": 0, \"threshold\": 30, \"avg_boundary_prob\": 0.31422271223814774, \"likelihood\": 0.31422271223814774}, {\"status_issue_number\": 0, \"threshold\": 35, \"avg_boundary_prob\": 0.28776185226019846, \"likelihood\": 0.28776185226019846}, {\"status_issue_number\": 0, \"threshold\": 40, \"avg_boundary_prob\": 0.269018743109151, \"likelihood\": 0.269018743109151}, {\"status_issue_number\": 0, \"threshold\": 45, \"avg_boundary_prob\": 0.26019845644983464, \"likelihood\": 0.26019845644983464}, {\"status_issue_number\": 0, \"threshold\": 50, \"avg_boundary_prob\": 0.24696802646085997, \"likelihood\": 0.24696802646085997}, {\"status_issue_number\": 0, \"threshold\": 55, \"avg_boundary_prob\": 0.2392502756339581, \"likelihood\": 0.2392502756339581}, {\"status_issue_number\": 0, \"threshold\": 60, \"avg_boundary_prob\": 0.23153252480705622, \"likelihood\": 0.23153252480705622}, {\"status_issue_number\": 0, \"threshold\": 70, \"avg_boundary_prob\": 0.21389195148842338, \"likelihood\": 0.21389195148842338}, {\"status_issue_number\": 0, \"threshold\": 80, \"avg_boundary_prob\": 0.19625137816979052, \"likelihood\": 0.19625137816979052}, {\"status_issue_number\": 0, \"threshold\": 90, \"avg_boundary_prob\": 0.175303197353914, \"likelihood\": 0.175303197353914}, {\"status_issue_number\": 0, \"threshold\": 100, \"avg_boundary_prob\": 0.15325248070562295, \"likelihood\": 0.15325248070562295}, {\"status_issue_number\": 1, \"threshold\": 5, \"avg_boundary_prob\": 0.5104740904079382, \"likelihood\": 0.5104740904079382}, {\"status_issue_number\": 1, \"threshold\": 10, \"avg_boundary_prob\": 0.48952590959206177, \"likelihood\": 0.48952590959206177}, {\"status_issue_number\": 1, \"threshold\": 15, \"avg_boundary_prob\": 0.4597574421168688, \"likelihood\": 0.4597574421168688}, {\"status_issue_number\": 1, \"threshold\": 20, \"avg_boundary_prob\": 0.41675854465270123, \"likelihood\": 0.41675854465270123}, {\"status_issue_number\": 1, \"threshold\": 25, \"avg_boundary_prob\": 0.36604189636163176, \"likelihood\": 0.36604189636163176}, {\"status_issue_number\": 1, \"threshold\": 30, \"avg_boundary_prob\": 0.31422271223814774, \"likelihood\": 0.31422271223814774}, {\"status_issue_number\": 1, \"threshold\": 35, \"avg_boundary_prob\": 0.28776185226019846, \"likelihood\": 0.28776185226019846}, {\"status_issue_number\": 1, \"threshold\": 40, \"avg_boundary_prob\": 0.269018743109151, \"likelihood\": 0.269018743109151}, {\"status_issue_number\": 1, \"threshold\": 45, \"avg_boundary_prob\": 0.26019845644983464, \"likelihood\": 0.26019845644983464}, {\"status_issue_number\": 1, \"threshold\": 50, \"avg_boundary_prob\": 0.24696802646085994, \"likelihood\": 0.24696802646085994}, {\"status_issue_number\": 1, \"threshold\": 55, \"avg_boundary_prob\": 0.2392502756339581, \"likelihood\": 0.2392502756339581}, {\"status_issue_number\": 1, \"threshold\": 60, \"avg_boundary_prob\": 0.23153252480705622, \"likelihood\": 0.23153252480705622}, {\"status_issue_number\": 1, \"threshold\": 70, \"avg_boundary_prob\": 0.21389195148842338, \"likelihood\": 0.21389195148842338}, {\"status_issue_number\": 1, \"threshold\": 80, \"avg_boundary_prob\": 0.19625137816979052, \"likelihood\": 0.19625137816979052}, {\"status_issue_number\": 1, \"threshold\": 90, \"avg_boundary_prob\": 0.175303197353914, \"likelihood\": 0.175303197353914}, {\"status_issue_number\": 1, \"threshold\": 100, \"avg_boundary_prob\": 0.15325248070562295, \"likelihood\": 0.15325248070562295}, {\"status_issue_number\": 2, \"threshold\": 5, \"avg_boundary_prob\": 0.5104740904079382, \"likelihood\": 0.5104740904079382}, {\"status_issue_number\": 2, \"threshold\": 10, \"avg_boundary_prob\": 0.4895259095920617, \"likelihood\": 0.4895259095920617}, {\"status_issue_number\": 2, \"threshold\": 15, \"avg_boundary_prob\": 0.4597574421168688, \"likelihood\": 0.4597574421168688}, {\"status_issue_number\": 2, \"threshold\": 20, \"avg_boundary_prob\": 0.41675854465270123, \"likelihood\": 0.41675854465270123}, {\"status_issue_number\": 2, \"threshold\": 25, \"avg_boundary_prob\": 0.3660418963616318, \"likelihood\": 0.3660418963616318}, {\"status_issue_number\": 2, \"threshold\": 30, \"avg_boundary_prob\": 0.31422271223814774, \"likelihood\": 0.31422271223814774}, {\"status_issue_number\": 2, \"threshold\": 35, \"avg_boundary_prob\": 0.28776185226019846, \"likelihood\": 0.28776185226019846}, {\"status_issue_number\": 2, \"threshold\": 40, \"avg_boundary_prob\": 0.269018743109151, \"likelihood\": 0.269018743109151}, {\"status_issue_number\": 2, \"threshold\": 45, \"avg_boundary_prob\": 0.26019845644983464, \"likelihood\": 0.26019845644983464}, {\"status_issue_number\": 2, \"threshold\": 50, \"avg_boundary_prob\": 0.24696802646085997, \"likelihood\": 0.24696802646085997}, {\"status_issue_number\": 2, \"threshold\": 55, \"avg_boundary_prob\": 0.2392502756339581, \"likelihood\": 0.2392502756339581}, {\"status_issue_number\": 2, \"threshold\": 60, \"avg_boundary_prob\": 0.2315325248070562, \"likelihood\": 0.2315325248070562}, {\"status_issue_number\": 2, \"threshold\": 70, \"avg_boundary_prob\": 0.21389195148842338, \"likelihood\": 0.21389195148842338}, {\"status_issue_number\": 2, \"threshold\": 80, \"avg_boundary_prob\": 0.19625137816979052, \"likelihood\": 0.19625137816979052}, {\"status_issue_number\": 2, \"threshold\": 90, \"avg_boundary_prob\": 0.175303197353914, \"likelihood\": 0.175303197353914}, {\"status_issue_number\": 2, \"threshold\": 100, \"avg_boundary_prob\": 0.15325248070562295, \"likelihood\": 0.15325248070562295}, {\"status_issue_number\": 3, \"threshold\": 5, \"avg_boundary_prob\": 0.5104740904079382, \"likelihood\": 0.5104740904079382}, {\"status_issue_number\": 3, \"threshold\": 10, \"avg_boundary_prob\": 0.4895259095920617, \"likelihood\": 0.4895259095920617}, {\"status_issue_number\": 3, \"threshold\": 15, \"avg_boundary_prob\": 0.4597574421168688, \"likelihood\": 0.4597574421168688}, {\"status_issue_number\": 3, \"threshold\": 20, \"avg_boundary_prob\": 0.41675854465270123, \"likelihood\": 0.41675854465270123}, {\"status_issue_number\": 3, \"threshold\": 25, \"avg_boundary_prob\": 0.36604189636163176, \"likelihood\": 0.36604189636163176}, {\"status_issue_number\": 3, \"threshold\": 30, \"avg_boundary_prob\": 0.31422271223814774, \"likelihood\": 0.31422271223814774}, {\"status_issue_number\": 3, \"threshold\": 35, \"avg_boundary_prob\": 0.28776185226019846, \"likelihood\": 0.28776185226019846}, {\"status_issue_number\": 3, \"threshold\": 40, \"avg_boundary_prob\": 0.269018743109151, \"likelihood\": 0.269018743109151}, {\"status_issue_number\": 3, \"threshold\": 45, \"avg_boundary_prob\": 0.26019845644983464, \"likelihood\": 0.26019845644983464}, {\"status_issue_number\": 3, \"threshold\": 50, \"avg_boundary_prob\": 0.24696802646085994, \"likelihood\": 0.24696802646085994}, {\"status_issue_number\": 3, \"threshold\": 55, \"avg_boundary_prob\": 0.2392502756339581, \"likelihood\": 0.2392502756339581}, {\"status_issue_number\": 3, \"threshold\": 60, \"avg_boundary_prob\": 0.23153252480705622, \"likelihood\": 0.23153252480705622}, {\"status_issue_number\": 3, \"threshold\": 70, \"avg_boundary_prob\": 0.21389195148842338, \"likelihood\": 0.21389195148842338}, {\"status_issue_number\": 3, \"threshold\": 80, \"avg_boundary_prob\": 0.19625137816979052, \"likelihood\": 0.19625137816979052}, {\"status_issue_number\": 3, \"threshold\": 90, \"avg_boundary_prob\": 0.175303197353914, \"likelihood\": 0.175303197353914}, {\"status_issue_number\": 3, \"threshold\": 100, \"avg_boundary_prob\": 0.15325248070562295, \"likelihood\": 0.15325248070562295}, {\"status_issue_number\": 4, \"threshold\": 5, \"avg_boundary_prob\": 0.5104740904079382, \"likelihood\": 0.5104740904079382}, {\"status_issue_number\": 4, \"threshold\": 10, \"avg_boundary_prob\": 0.48952590959206177, \"likelihood\": 0.48952590959206177}, {\"status_issue_number\": 4, \"threshold\": 15, \"avg_boundary_prob\": 0.4597574421168688, \"likelihood\": 0.4597574421168688}, {\"status_issue_number\": 4, \"threshold\": 20, \"avg_boundary_prob\": 0.41675854465270123, \"likelihood\": 0.41675854465270123}, {\"status_issue_number\": 4, \"threshold\": 25, \"avg_boundary_prob\": 0.36604189636163176, \"likelihood\": 0.36604189636163176}, {\"status_issue_number\": 4, \"threshold\": 30, \"avg_boundary_prob\": 0.31422271223814774, \"likelihood\": 0.31422271223814774}, {\"status_issue_number\": 4, \"threshold\": 35, \"avg_boundary_prob\": 0.28776185226019846, \"likelihood\": 0.28776185226019846}, {\"status_issue_number\": 4, \"threshold\": 40, \"avg_boundary_prob\": 0.269018743109151, \"likelihood\": 0.269018743109151}, {\"status_issue_number\": 4, \"threshold\": 45, \"avg_boundary_prob\": 0.26019845644983464, \"likelihood\": 0.26019845644983464}, {\"status_issue_number\": 4, \"threshold\": 50, \"avg_boundary_prob\": 0.24696802646085997, \"likelihood\": 0.24696802646085997}, {\"status_issue_number\": 4, \"threshold\": 55, \"avg_boundary_prob\": 0.2392502756339581, \"likelihood\": 0.2392502756339581}, {\"status_issue_number\": 4, \"threshold\": 60, \"avg_boundary_prob\": 0.23153252480705622, \"likelihood\": 0.23153252480705622}, {\"status_issue_number\": 4, \"threshold\": 70, \"avg_boundary_prob\": 0.21389195148842335, \"likelihood\": 0.21389195148842335}, {\"status_issue_number\": 4, \"threshold\": 80, \"avg_boundary_prob\": 0.19625137816979052, \"likelihood\": 0.19625137816979052}, {\"status_issue_number\": 4, \"threshold\": 90, \"avg_boundary_prob\": 0.175303197353914, \"likelihood\": 0.175303197353914}, {\"status_issue_number\": 4, \"threshold\": 100, \"avg_boundary_prob\": 0.15325248070562295, \"likelihood\": 0.15325248070562295}, {\"status_issue_number\": 5, \"threshold\": 5, \"avg_boundary_prob\": 0.5104740904079382, \"likelihood\": 0.5104740904079382}, {\"status_issue_number\": 5, \"threshold\": 10, \"avg_boundary_prob\": 0.48952590959206177, \"likelihood\": 0.48952590959206177}, {\"status_issue_number\": 5, \"threshold\": 15, \"avg_boundary_prob\": 0.4597574421168688, \"likelihood\": 0.4597574421168688}, {\"status_issue_number\": 5, \"threshold\": 20, \"avg_boundary_prob\": 0.41675854465270123, \"likelihood\": 0.41675854465270123}, {\"status_issue_number\": 5, \"threshold\": 25, \"avg_boundary_prob\": 0.36604189636163176, \"likelihood\": 0.36604189636163176}, {\"status_issue_number\": 5, \"threshold\": 30, \"avg_boundary_prob\": 0.31422271223814774, \"likelihood\": 0.31422271223814774}, {\"status_issue_number\": 5, \"threshold\": 35, \"avg_boundary_prob\": 0.28776185226019846, \"likelihood\": 0.28776185226019846}, {\"status_issue_number\": 5, \"threshold\": 40, \"avg_boundary_prob\": 0.269018743109151, \"likelihood\": 0.269018743109151}, {\"status_issue_number\": 5, \"threshold\": 45, \"avg_boundary_prob\": 0.26019845644983464, \"likelihood\": 0.26019845644983464}, {\"status_issue_number\": 5, \"threshold\": 50, \"avg_boundary_prob\": 0.24696802646085994, \"likelihood\": 0.24696802646085994}, {\"status_issue_number\": 5, \"threshold\": 55, \"avg_boundary_prob\": 0.2392502756339581, \"likelihood\": 0.2392502756339581}, {\"status_issue_number\": 5, \"threshold\": 60, \"avg_boundary_prob\": 0.23153252480705622, \"likelihood\": 0.23153252480705622}, {\"status_issue_number\": 5, \"threshold\": 70, \"avg_boundary_prob\": 0.21389195148842335, \"likelihood\": 0.21389195148842335}, {\"status_issue_number\": 5, \"threshold\": 80, \"avg_boundary_prob\": 0.19625137816979052, \"likelihood\": 0.19625137816979052}, {\"status_issue_number\": 5, \"threshold\": 90, \"avg_boundary_prob\": 0.175303197353914, \"likelihood\": 0.175303197353914}, {\"status_issue_number\": 5, \"threshold\": 100, \"avg_boundary_prob\": 0.15325248070562295, \"likelihood\": 0.15325248070562295}, {\"status_issue_number\": 6, \"threshold\": 5, \"avg_boundary_prob\": 0.5104740904079382, \"likelihood\": 0.5104740904079382}, {\"status_issue_number\": 6, \"threshold\": 10, \"avg_boundary_prob\": 0.48952590959206177, \"likelihood\": 0.48952590959206177}, {\"status_issue_number\": 6, \"threshold\": 15, \"avg_boundary_prob\": 0.4597574421168688, \"likelihood\": 0.4597574421168688}, {\"status_issue_number\": 6, \"threshold\": 20, \"avg_boundary_prob\": 0.41675854465270123, \"likelihood\": 0.41675854465270123}, {\"status_issue_number\": 6, \"threshold\": 25, \"avg_boundary_prob\": 0.36604189636163176, \"likelihood\": 0.36604189636163176}, {\"status_issue_number\": 6, \"threshold\": 30, \"avg_boundary_prob\": 0.31422271223814774, \"likelihood\": 0.31422271223814774}, {\"status_issue_number\": 6, \"threshold\": 35, \"avg_boundary_prob\": 0.28776185226019846, \"likelihood\": 0.28776185226019846}, {\"status_issue_number\": 6, \"threshold\": 40, \"avg_boundary_prob\": 0.269018743109151, \"likelihood\": 0.269018743109151}, {\"status_issue_number\": 6, \"threshold\": 45, \"avg_boundary_prob\": 0.26019845644983464, \"likelihood\": 0.26019845644983464}, {\"status_issue_number\": 6, \"threshold\": 50, \"avg_boundary_prob\": 0.24696802646086, \"likelihood\": 0.24696802646086}, {\"status_issue_number\": 6, \"threshold\": 55, \"avg_boundary_prob\": 0.23925027563395812, \"likelihood\": 0.23925027563395812}, {\"status_issue_number\": 6, \"threshold\": 60, \"avg_boundary_prob\": 0.2315325248070562, \"likelihood\": 0.2315325248070562}, {\"status_issue_number\": 6, \"threshold\": 70, \"avg_boundary_prob\": 0.21389195148842338, \"likelihood\": 0.21389195148842338}, {\"status_issue_number\": 6, \"threshold\": 80, \"avg_boundary_prob\": 0.19625137816979052, \"likelihood\": 0.19625137816979052}, {\"status_issue_number\": 6, \"threshold\": 90, \"avg_boundary_prob\": 0.175303197353914, \"likelihood\": 0.175303197353914}, {\"status_issue_number\": 6, \"threshold\": 100, \"avg_boundary_prob\": 0.15325248070562295, \"likelihood\": 0.15325248070562295}, {\"status_issue_number\": 7, \"threshold\": 5, \"avg_boundary_prob\": 0.5104740904079382, \"likelihood\": 0.5104740904079382}, {\"status_issue_number\": 7, \"threshold\": 10, \"avg_boundary_prob\": 0.4895259095920617, \"likelihood\": 0.4895259095920617}, {\"status_issue_number\": 7, \"threshold\": 15, \"avg_boundary_prob\": 0.4597574421168688, \"likelihood\": 0.4597574421168688}, {\"status_issue_number\": 7, \"threshold\": 20, \"avg_boundary_prob\": 0.41675854465270123, \"likelihood\": 0.41675854465270123}, {\"status_issue_number\": 7, \"threshold\": 25, \"avg_boundary_prob\": 0.36604189636163176, \"likelihood\": 0.36604189636163176}, {\"status_issue_number\": 7, \"threshold\": 30, \"avg_boundary_prob\": 0.31422271223814774, \"likelihood\": 0.31422271223814774}, {\"status_issue_number\": 7, \"threshold\": 35, \"avg_boundary_prob\": 0.28776185226019846, \"likelihood\": 0.28776185226019846}, {\"status_issue_number\": 7, \"threshold\": 40, \"avg_boundary_prob\": 0.269018743109151, \"likelihood\": 0.269018743109151}, {\"status_issue_number\": 7, \"threshold\": 45, \"avg_boundary_prob\": 0.26019845644983464, \"likelihood\": 0.26019845644983464}, {\"status_issue_number\": 7, \"threshold\": 50, \"avg_boundary_prob\": 0.24696802646085997, \"likelihood\": 0.24696802646085997}, {\"status_issue_number\": 7, \"threshold\": 55, \"avg_boundary_prob\": 0.2392502756339581, \"likelihood\": 0.2392502756339581}, {\"status_issue_number\": 7, \"threshold\": 60, \"avg_boundary_prob\": 0.23153252480705622, \"likelihood\": 0.23153252480705622}, {\"status_issue_number\": 7, \"threshold\": 70, \"avg_boundary_prob\": 0.21389195148842338, \"likelihood\": 0.21389195148842338}, {\"status_issue_number\": 7, \"threshold\": 80, \"avg_boundary_prob\": 0.19625137816979052, \"likelihood\": 0.19625137816979052}, {\"status_issue_number\": 7, \"threshold\": 90, \"avg_boundary_prob\": 0.175303197353914, \"likelihood\": 0.175303197353914}, {\"status_issue_number\": 7, \"threshold\": 100, \"avg_boundary_prob\": 0.15325248070562295, \"likelihood\": 0.15325248070562295}, {\"status_issue_number\": 8, \"threshold\": 5, \"avg_boundary_prob\": 0.5104740904079382, \"likelihood\": 0.5104740904079382}, {\"status_issue_number\": 8, \"threshold\": 10, \"avg_boundary_prob\": 0.48952590959206177, \"likelihood\": 0.48952590959206177}, {\"status_issue_number\": 8, \"threshold\": 15, \"avg_boundary_prob\": 0.4597574421168688, \"likelihood\": 0.4597574421168688}, {\"status_issue_number\": 8, \"threshold\": 20, \"avg_boundary_prob\": 0.41675854465270123, \"likelihood\": 0.41675854465270123}, {\"status_issue_number\": 8, \"threshold\": 25, \"avg_boundary_prob\": 0.3660418963616318, \"likelihood\": 0.3660418963616318}, {\"status_issue_number\": 8, \"threshold\": 30, \"avg_boundary_prob\": 0.31422271223814774, \"likelihood\": 0.31422271223814774}, {\"status_issue_number\": 8, \"threshold\": 35, \"avg_boundary_prob\": 0.28776185226019846, \"likelihood\": 0.28776185226019846}, {\"status_issue_number\": 8, \"threshold\": 40, \"avg_boundary_prob\": 0.269018743109151, \"likelihood\": 0.269018743109151}, {\"status_issue_number\": 8, \"threshold\": 45, \"avg_boundary_prob\": 0.26019845644983464, \"likelihood\": 0.26019845644983464}, {\"status_issue_number\": 8, \"threshold\": 50, \"avg_boundary_prob\": 0.24696802646085997, \"likelihood\": 0.24696802646085997}, {\"status_issue_number\": 8, \"threshold\": 55, \"avg_boundary_prob\": 0.2392502756339581, \"likelihood\": 0.2392502756339581}, {\"status_issue_number\": 8, \"threshold\": 60, \"avg_boundary_prob\": 0.23153252480705624, \"likelihood\": 0.23153252480705624}, {\"status_issue_number\": 8, \"threshold\": 70, \"avg_boundary_prob\": 0.21389195148842335, \"likelihood\": 0.21389195148842335}, {\"status_issue_number\": 8, \"threshold\": 80, \"avg_boundary_prob\": 0.19625137816979052, \"likelihood\": 0.19625137816979052}, {\"status_issue_number\": 8, \"threshold\": 90, \"avg_boundary_prob\": 0.175303197353914, \"likelihood\": 0.175303197353914}, {\"status_issue_number\": 8, \"threshold\": 100, \"avg_boundary_prob\": 0.15325248070562295, \"likelihood\": 0.15325248070562295}, {\"status_issue_number\": 9, \"threshold\": 5, \"avg_boundary_prob\": 0.5104740904079382, \"likelihood\": 0.5104740904079382}, {\"status_issue_number\": 9, \"threshold\": 10, \"avg_boundary_prob\": 0.4895259095920617, \"likelihood\": 0.4895259095920617}, {\"status_issue_number\": 9, \"threshold\": 15, \"avg_boundary_prob\": 0.4597574421168688, \"likelihood\": 0.4597574421168688}, {\"status_issue_number\": 9, \"threshold\": 20, \"avg_boundary_prob\": 0.41675854465270123, \"likelihood\": 0.41675854465270123}, {\"status_issue_number\": 9, \"threshold\": 25, \"avg_boundary_prob\": 0.36604189636163176, \"likelihood\": 0.36604189636163176}, {\"status_issue_number\": 9, \"threshold\": 30, \"avg_boundary_prob\": 0.31422271223814774, \"likelihood\": 0.31422271223814774}, {\"status_issue_number\": 9, \"threshold\": 35, \"avg_boundary_prob\": 0.28776185226019846, \"likelihood\": 0.28776185226019846}, {\"status_issue_number\": 9, \"threshold\": 40, \"avg_boundary_prob\": 0.269018743109151, \"likelihood\": 0.269018743109151}, {\"status_issue_number\": 9, \"threshold\": 45, \"avg_boundary_prob\": 0.26019845644983464, \"likelihood\": 0.26019845644983464}, {\"status_issue_number\": 9, \"threshold\": 50, \"avg_boundary_prob\": 0.24696802646085997, \"likelihood\": 0.24696802646085997}, {\"status_issue_number\": 9, \"threshold\": 55, \"avg_boundary_prob\": 0.23925027563395812, \"likelihood\": 0.23925027563395812}, {\"status_issue_number\": 9, \"threshold\": 60, \"avg_boundary_prob\": 0.23153252480705622, \"likelihood\": 0.23153252480705622}, {\"status_issue_number\": 9, \"threshold\": 70, \"avg_boundary_prob\": 0.21389195148842338, \"likelihood\": 0.21389195148842338}, {\"status_issue_number\": 9, \"threshold\": 80, \"avg_boundary_prob\": 0.19625137816979052, \"likelihood\": 0.19625137816979052}, {\"status_issue_number\": 9, \"threshold\": 90, \"avg_boundary_prob\": 0.175303197353914, \"likelihood\": 0.175303197353914}, {\"status_issue_number\": 9, \"threshold\": 100, \"avg_boundary_prob\": 0.15325248070562295, \"likelihood\": 0.15325248070562295}, {\"status_issue_number\": 10, \"threshold\": 5, \"avg_boundary_prob\": 0.5104740904079382, \"likelihood\": 0.5104740904079382}, {\"status_issue_number\": 10, \"threshold\": 10, \"avg_boundary_prob\": 0.4895259095920617, \"likelihood\": 0.4895259095920617}, {\"status_issue_number\": 10, \"threshold\": 15, \"avg_boundary_prob\": 0.4597574421168688, \"likelihood\": 0.4597574421168688}, {\"status_issue_number\": 10, \"threshold\": 20, \"avg_boundary_prob\": 0.41675854465270123, \"likelihood\": 0.41675854465270123}, {\"status_issue_number\": 10, \"threshold\": 25, \"avg_boundary_prob\": 0.36604189636163176, \"likelihood\": 0.36604189636163176}, {\"status_issue_number\": 10, \"threshold\": 30, \"avg_boundary_prob\": 0.31422271223814774, \"likelihood\": 0.31422271223814774}, {\"status_issue_number\": 10, \"threshold\": 35, \"avg_boundary_prob\": 0.28776185226019846, \"likelihood\": 0.28776185226019846}, {\"status_issue_number\": 10, \"threshold\": 40, \"avg_boundary_prob\": 0.269018743109151, \"likelihood\": 0.269018743109151}, {\"status_issue_number\": 10, \"threshold\": 45, \"avg_boundary_prob\": 0.26019845644983464, \"likelihood\": 0.26019845644983464}, {\"status_issue_number\": 10, \"threshold\": 50, \"avg_boundary_prob\": 0.24696802646085997, \"likelihood\": 0.24696802646085997}, {\"status_issue_number\": 10, \"threshold\": 55, \"avg_boundary_prob\": 0.2392502756339581, \"likelihood\": 0.2392502756339581}, {\"status_issue_number\": 10, \"threshold\": 60, \"avg_boundary_prob\": 0.23153252480705622, \"likelihood\": 0.23153252480705622}, {\"status_issue_number\": 10, \"threshold\": 70, \"avg_boundary_prob\": 0.21389195148842338, \"likelihood\": 0.21389195148842338}, {\"status_issue_number\": 10, \"threshold\": 80, \"avg_boundary_prob\": 0.19625137816979052, \"likelihood\": 0.19625137816979052}, {\"status_issue_number\": 10, \"threshold\": 90, \"avg_boundary_prob\": 0.175303197353914, \"likelihood\": 0.175303197353914}, {\"status_issue_number\": 10, \"threshold\": 100, \"avg_boundary_prob\": 0.15325248070562295, \"likelihood\": 0.15325248070562295}, {\"status_issue_number\": 11, \"threshold\": 5, \"avg_boundary_prob\": 0.5104740904079382, \"likelihood\": 0.5104740904079382}, {\"status_issue_number\": 11, \"threshold\": 10, \"avg_boundary_prob\": 0.4895259095920617, \"likelihood\": 0.4895259095920617}, {\"status_issue_number\": 11, \"threshold\": 15, \"avg_boundary_prob\": 0.4597574421168688, \"likelihood\": 0.4597574421168688}, {\"status_issue_number\": 11, \"threshold\": 20, \"avg_boundary_prob\": 0.41675854465270123, \"likelihood\": 0.41675854465270123}, {\"status_issue_number\": 11, \"threshold\": 25, \"avg_boundary_prob\": 0.36604189636163176, \"likelihood\": 0.36604189636163176}, {\"status_issue_number\": 11, \"threshold\": 30, \"avg_boundary_prob\": 0.3142227122381477, \"likelihood\": 0.3142227122381477}, {\"status_issue_number\": 11, \"threshold\": 35, \"avg_boundary_prob\": 0.28776185226019846, \"likelihood\": 0.28776185226019846}, {\"status_issue_number\": 11, \"threshold\": 40, \"avg_boundary_prob\": 0.269018743109151, \"likelihood\": 0.269018743109151}, {\"status_issue_number\": 11, \"threshold\": 45, \"avg_boundary_prob\": 0.26019845644983464, \"likelihood\": 0.26019845644983464}, {\"status_issue_number\": 11, \"threshold\": 50, \"avg_boundary_prob\": 0.24696802646085997, \"likelihood\": 0.24696802646085997}, {\"status_issue_number\": 11, \"threshold\": 55, \"avg_boundary_prob\": 0.23925027563395812, \"likelihood\": 0.23925027563395812}, {\"status_issue_number\": 11, \"threshold\": 60, \"avg_boundary_prob\": 0.23153252480705622, \"likelihood\": 0.23153252480705622}, {\"status_issue_number\": 11, \"threshold\": 70, \"avg_boundary_prob\": 0.21389195148842338, \"likelihood\": 0.21389195148842338}, {\"status_issue_number\": 11, \"threshold\": 80, \"avg_boundary_prob\": 0.19625137816979052, \"likelihood\": 0.19625137816979052}, {\"status_issue_number\": 11, \"threshold\": 90, \"avg_boundary_prob\": 0.175303197353914, \"likelihood\": 0.175303197353914}, {\"status_issue_number\": 11, \"threshold\": 100, \"avg_boundary_prob\": 0.15325248070562295, \"likelihood\": 0.15325248070562295}, {\"status_issue_number\": 12, \"threshold\": 5, \"avg_boundary_prob\": 0.5104740904079382, \"likelihood\": 0.5104740904079382}, {\"status_issue_number\": 12, \"threshold\": 10, \"avg_boundary_prob\": 0.4895259095920617, \"likelihood\": 0.4895259095920617}, {\"status_issue_number\": 12, \"threshold\": 15, \"avg_boundary_prob\": 0.4597574421168688, \"likelihood\": 0.4597574421168688}, {\"status_issue_number\": 12, \"threshold\": 20, \"avg_boundary_prob\": 0.41675854465270123, \"likelihood\": 0.41675854465270123}, {\"status_issue_number\": 12, \"threshold\": 25, \"avg_boundary_prob\": 0.36604189636163176, \"likelihood\": 0.36604189636163176}, {\"status_issue_number\": 12, \"threshold\": 30, \"avg_boundary_prob\": 0.31422271223814774, \"likelihood\": 0.31422271223814774}, {\"status_issue_number\": 12, \"threshold\": 35, \"avg_boundary_prob\": 0.28776185226019846, \"likelihood\": 0.28776185226019846}, {\"status_issue_number\": 12, \"threshold\": 40, \"avg_boundary_prob\": 0.269018743109151, \"likelihood\": 0.269018743109151}, {\"status_issue_number\": 12, \"threshold\": 45, \"avg_boundary_prob\": 0.26019845644983464, \"likelihood\": 0.26019845644983464}, {\"status_issue_number\": 12, \"threshold\": 50, \"avg_boundary_prob\": 0.24696802646085997, \"likelihood\": 0.24696802646085997}, {\"status_issue_number\": 12, \"threshold\": 55, \"avg_boundary_prob\": 0.2392502756339581, \"likelihood\": 0.2392502756339581}, {\"status_issue_number\": 12, \"threshold\": 60, \"avg_boundary_prob\": 0.23153252480705622, \"likelihood\": 0.23153252480705622}, {\"status_issue_number\": 12, \"threshold\": 70, \"avg_boundary_prob\": 0.21389195148842335, \"likelihood\": 0.21389195148842335}, {\"status_issue_number\": 12, \"threshold\": 80, \"avg_boundary_prob\": 0.19625137816979052, \"likelihood\": 0.19625137816979052}, {\"status_issue_number\": 12, \"threshold\": 90, \"avg_boundary_prob\": 0.175303197353914, \"likelihood\": 0.175303197353914}, {\"status_issue_number\": 12, \"threshold\": 100, \"avg_boundary_prob\": 0.15325248070562295, \"likelihood\": 0.15325248070562295}, {\"status_issue_number\": 13, \"threshold\": 5, \"avg_boundary_prob\": 0.5104740904079382, \"likelihood\": 0.5104740904079382}, {\"status_issue_number\": 13, \"threshold\": 10, \"avg_boundary_prob\": 0.48952590959206177, \"likelihood\": 0.48952590959206177}, {\"status_issue_number\": 13, \"threshold\": 15, \"avg_boundary_prob\": 0.4597574421168688, \"likelihood\": 0.4597574421168688}, {\"status_issue_number\": 13, \"threshold\": 20, \"avg_boundary_prob\": 0.41675854465270123, \"likelihood\": 0.41675854465270123}, {\"status_issue_number\": 13, \"threshold\": 25, \"avg_boundary_prob\": 0.36604189636163176, \"likelihood\": 0.36604189636163176}, {\"status_issue_number\": 13, \"threshold\": 30, \"avg_boundary_prob\": 0.31422271223814774, \"likelihood\": 0.31422271223814774}, {\"status_issue_number\": 13, \"threshold\": 35, \"avg_boundary_prob\": 0.28776185226019846, \"likelihood\": 0.28776185226019846}, {\"status_issue_number\": 13, \"threshold\": 40, \"avg_boundary_prob\": 0.269018743109151, \"likelihood\": 0.269018743109151}, {\"status_issue_number\": 13, \"threshold\": 45, \"avg_boundary_prob\": 0.26019845644983464, \"likelihood\": 0.26019845644983464}, {\"status_issue_number\": 13, \"threshold\": 50, \"avg_boundary_prob\": 0.24696802646085997, \"likelihood\": 0.24696802646085997}, {\"status_issue_number\": 13, \"threshold\": 55, \"avg_boundary_prob\": 0.23925027563395812, \"likelihood\": 0.23925027563395812}, {\"status_issue_number\": 13, \"threshold\": 60, \"avg_boundary_prob\": 0.2315325248070562, \"likelihood\": 0.2315325248070562}, {\"status_issue_number\": 13, \"threshold\": 70, \"avg_boundary_prob\": 0.21389195148842338, \"likelihood\": 0.21389195148842338}, {\"status_issue_number\": 13, \"threshold\": 80, \"avg_boundary_prob\": 0.19625137816979052, \"likelihood\": 0.19625137816979052}, {\"status_issue_number\": 13, \"threshold\": 90, \"avg_boundary_prob\": 0.175303197353914, \"likelihood\": 0.175303197353914}, {\"status_issue_number\": 13, \"threshold\": 100, \"avg_boundary_prob\": 0.15325248070562295, \"likelihood\": 0.15325248070562295}, {\"status_issue_number\": 14, \"threshold\": 5, \"avg_boundary_prob\": 0.5104740904079382, \"likelihood\": 0.5104740904079382}, {\"status_issue_number\": 14, \"threshold\": 10, \"avg_boundary_prob\": 0.4895259095920617, \"likelihood\": 0.4895259095920617}, {\"status_issue_number\": 14, \"threshold\": 15, \"avg_boundary_prob\": 0.4597574421168688, \"likelihood\": 0.4597574421168688}, {\"status_issue_number\": 14, \"threshold\": 20, \"avg_boundary_prob\": 0.41675854465270123, \"likelihood\": 0.41675854465270123}, {\"status_issue_number\": 14, \"threshold\": 25, \"avg_boundary_prob\": 0.36604189636163176, \"likelihood\": 0.36604189636163176}, {\"status_issue_number\": 14, \"threshold\": 30, \"avg_boundary_prob\": 0.3142227122381477, \"likelihood\": 0.3142227122381477}, {\"status_issue_number\": 14, \"threshold\": 35, \"avg_boundary_prob\": 0.28776185226019846, \"likelihood\": 0.28776185226019846}, {\"status_issue_number\": 14, \"threshold\": 40, \"avg_boundary_prob\": 0.269018743109151, \"likelihood\": 0.269018743109151}, {\"status_issue_number\": 14, \"threshold\": 45, \"avg_boundary_prob\": 0.26019845644983464, \"likelihood\": 0.26019845644983464}, {\"status_issue_number\": 14, \"threshold\": 50, \"avg_boundary_prob\": 0.24696802646085994, \"likelihood\": 0.24696802646085994}, {\"status_issue_number\": 14, \"threshold\": 55, \"avg_boundary_prob\": 0.2392502756339581, \"likelihood\": 0.2392502756339581}, {\"status_issue_number\": 14, \"threshold\": 60, \"avg_boundary_prob\": 0.23153252480705622, \"likelihood\": 0.23153252480705622}, {\"status_issue_number\": 14, \"threshold\": 70, \"avg_boundary_prob\": 0.21389195148842338, \"likelihood\": 0.21389195148842338}, {\"status_issue_number\": 14, \"threshold\": 80, \"avg_boundary_prob\": 0.19625137816979052, \"likelihood\": 0.19625137816979052}, {\"status_issue_number\": 14, \"threshold\": 90, \"avg_boundary_prob\": 0.175303197353914, \"likelihood\": 0.175303197353914}, {\"status_issue_number\": 14, \"threshold\": 100, \"avg_boundary_prob\": 0.15325248070562295, \"likelihood\": 0.15325248070562295}, {\"status_issue_number\": 15, \"threshold\": 5, \"avg_boundary_prob\": 0.5104740904079382, \"likelihood\": 0.5104740904079382}, {\"status_issue_number\": 15, \"threshold\": 10, \"avg_boundary_prob\": 0.4895259095920617, \"likelihood\": 0.4895259095920617}, {\"status_issue_number\": 15, \"threshold\": 15, \"avg_boundary_prob\": 0.4597574421168688, \"likelihood\": 0.4597574421168688}, {\"status_issue_number\": 15, \"threshold\": 20, \"avg_boundary_prob\": 0.41675854465270123, \"likelihood\": 0.41675854465270123}, {\"status_issue_number\": 15, \"threshold\": 25, \"avg_boundary_prob\": 0.36604189636163176, \"likelihood\": 0.36604189636163176}, {\"status_issue_number\": 15, \"threshold\": 30, \"avg_boundary_prob\": 0.3142227122381477, \"likelihood\": 0.3142227122381477}, {\"status_issue_number\": 15, \"threshold\": 35, \"avg_boundary_prob\": 0.28776185226019846, \"likelihood\": 0.28776185226019846}, {\"status_issue_number\": 15, \"threshold\": 40, \"avg_boundary_prob\": 0.269018743109151, \"likelihood\": 0.269018743109151}, {\"status_issue_number\": 15, \"threshold\": 45, \"avg_boundary_prob\": 0.26019845644983464, \"likelihood\": 0.26019845644983464}, {\"status_issue_number\": 15, \"threshold\": 50, \"avg_boundary_prob\": 0.24696802646085994, \"likelihood\": 0.24696802646085994}, {\"status_issue_number\": 15, \"threshold\": 55, \"avg_boundary_prob\": 0.2392502756339581, \"likelihood\": 0.2392502756339581}, {\"status_issue_number\": 15, \"threshold\": 60, \"avg_boundary_prob\": 0.23153252480705622, \"likelihood\": 0.23153252480705622}, {\"status_issue_number\": 15, \"threshold\": 70, \"avg_boundary_prob\": 0.2138919514884234, \"likelihood\": 0.2138919514884234}, {\"status_issue_number\": 15, \"threshold\": 80, \"avg_boundary_prob\": 0.19625137816979052, \"likelihood\": 0.19625137816979052}, {\"status_issue_number\": 15, \"threshold\": 90, \"avg_boundary_prob\": 0.175303197353914, \"likelihood\": 0.175303197353914}, {\"status_issue_number\": 15, \"threshold\": 100, \"avg_boundary_prob\": 0.15325248070562295, \"likelihood\": 0.15325248070562295}, {\"status_issue_number\": 16, \"threshold\": 5, \"avg_boundary_prob\": 0.5104740904079382, \"likelihood\": 0.5104740904079382}, {\"status_issue_number\": 16, \"threshold\": 10, \"avg_boundary_prob\": 0.48952590959206177, \"likelihood\": 0.48952590959206177}, {\"status_issue_number\": 16, \"threshold\": 15, \"avg_boundary_prob\": 0.4597574421168688, \"likelihood\": 0.4597574421168688}, {\"status_issue_number\": 16, \"threshold\": 20, \"avg_boundary_prob\": 0.41675854465270123, \"likelihood\": 0.41675854465270123}, {\"status_issue_number\": 16, \"threshold\": 25, \"avg_boundary_prob\": 0.36604189636163176, \"likelihood\": 0.36604189636163176}, {\"status_issue_number\": 16, \"threshold\": 30, \"avg_boundary_prob\": 0.31422271223814774, \"likelihood\": 0.31422271223814774}, {\"status_issue_number\": 16, \"threshold\": 35, \"avg_boundary_prob\": 0.28776185226019846, \"likelihood\": 0.28776185226019846}, {\"status_issue_number\": 16, \"threshold\": 40, \"avg_boundary_prob\": 0.269018743109151, \"likelihood\": 0.269018743109151}, {\"status_issue_number\": 16, \"threshold\": 45, \"avg_boundary_prob\": 0.26019845644983464, \"likelihood\": 0.26019845644983464}, {\"status_issue_number\": 16, \"threshold\": 50, \"avg_boundary_prob\": 0.24696802646085997, \"likelihood\": 0.24696802646085997}, {\"status_issue_number\": 16, \"threshold\": 55, \"avg_boundary_prob\": 0.23925027563395812, \"likelihood\": 0.23925027563395812}, {\"status_issue_number\": 16, \"threshold\": 60, \"avg_boundary_prob\": 0.23153252480705622, \"likelihood\": 0.23153252480705622}, {\"status_issue_number\": 16, \"threshold\": 70, \"avg_boundary_prob\": 0.21389195148842338, \"likelihood\": 0.21389195148842338}, {\"status_issue_number\": 16, \"threshold\": 80, \"avg_boundary_prob\": 0.19625137816979052, \"likelihood\": 0.19625137816979052}, {\"status_issue_number\": 16, \"threshold\": 90, \"avg_boundary_prob\": 0.175303197353914, \"likelihood\": 0.175303197353914}, {\"status_issue_number\": 16, \"threshold\": 100, \"avg_boundary_prob\": 0.15325248070562295, \"likelihood\": 0.15325248070562295}, {\"status_issue_number\": 17, \"threshold\": 5, \"avg_boundary_prob\": 0.5104740904079382, \"likelihood\": 0.5104740904079382}, {\"status_issue_number\": 17, \"threshold\": 10, \"avg_boundary_prob\": 0.48952590959206177, \"likelihood\": 0.48952590959206177}, {\"status_issue_number\": 17, \"threshold\": 15, \"avg_boundary_prob\": 0.4597574421168688, \"likelihood\": 0.4597574421168688}, {\"status_issue_number\": 17, \"threshold\": 20, \"avg_boundary_prob\": 0.41675854465270123, \"likelihood\": 0.41675854465270123}, {\"status_issue_number\": 17, \"threshold\": 25, \"avg_boundary_prob\": 0.36604189636163176, \"likelihood\": 0.36604189636163176}, {\"status_issue_number\": 17, \"threshold\": 30, \"avg_boundary_prob\": 0.31422271223814774, \"likelihood\": 0.31422271223814774}, {\"status_issue_number\": 17, \"threshold\": 35, \"avg_boundary_prob\": 0.28776185226019846, \"likelihood\": 0.28776185226019846}, {\"status_issue_number\": 17, \"threshold\": 40, \"avg_boundary_prob\": 0.269018743109151, \"likelihood\": 0.269018743109151}, {\"status_issue_number\": 17, \"threshold\": 45, \"avg_boundary_prob\": 0.26019845644983464, \"likelihood\": 0.26019845644983464}, {\"status_issue_number\": 17, \"threshold\": 50, \"avg_boundary_prob\": 0.24696802646085997, \"likelihood\": 0.24696802646085997}, {\"status_issue_number\": 17, \"threshold\": 55, \"avg_boundary_prob\": 0.2392502756339581, \"likelihood\": 0.2392502756339581}, {\"status_issue_number\": 17, \"threshold\": 60, \"avg_boundary_prob\": 0.23153252480705624, \"likelihood\": 0.23153252480705624}, {\"status_issue_number\": 17, \"threshold\": 70, \"avg_boundary_prob\": 0.21389195148842338, \"likelihood\": 0.21389195148842338}, {\"status_issue_number\": 17, \"threshold\": 80, \"avg_boundary_prob\": 0.19625137816979052, \"likelihood\": 0.19625137816979052}, {\"status_issue_number\": 17, \"threshold\": 90, \"avg_boundary_prob\": 0.175303197353914, \"likelihood\": 0.175303197353914}, {\"status_issue_number\": 17, \"threshold\": 100, \"avg_boundary_prob\": 0.15325248070562295, \"likelihood\": 0.15325248070562295}, {\"status_issue_number\": 18, \"threshold\": 5, \"avg_boundary_prob\": 0.5104740904079382, \"likelihood\": 0.5104740904079382}, {\"status_issue_number\": 18, \"threshold\": 10, \"avg_boundary_prob\": 0.4895259095920617, \"likelihood\": 0.4895259095920617}, {\"status_issue_number\": 18, \"threshold\": 15, \"avg_boundary_prob\": 0.4597574421168688, \"likelihood\": 0.4597574421168688}, {\"status_issue_number\": 18, \"threshold\": 20, \"avg_boundary_prob\": 0.4167585446527012, \"likelihood\": 0.4167585446527012}, {\"status_issue_number\": 18, \"threshold\": 25, \"avg_boundary_prob\": 0.3660418963616318, \"likelihood\": 0.3660418963616318}, {\"status_issue_number\": 18, \"threshold\": 30, \"avg_boundary_prob\": 0.31422271223814774, \"likelihood\": 0.31422271223814774}, {\"status_issue_number\": 18, \"threshold\": 35, \"avg_boundary_prob\": 0.28776185226019846, \"likelihood\": 0.28776185226019846}, {\"status_issue_number\": 18, \"threshold\": 40, \"avg_boundary_prob\": 0.269018743109151, \"likelihood\": 0.269018743109151}, {\"status_issue_number\": 18, \"threshold\": 45, \"avg_boundary_prob\": 0.26019845644983464, \"likelihood\": 0.26019845644983464}, {\"status_issue_number\": 18, \"threshold\": 50, \"avg_boundary_prob\": 0.24696802646086, \"likelihood\": 0.24696802646086}, {\"status_issue_number\": 18, \"threshold\": 55, \"avg_boundary_prob\": 0.2392502756339581, \"likelihood\": 0.2392502756339581}, {\"status_issue_number\": 18, \"threshold\": 60, \"avg_boundary_prob\": 0.2315325248070562, \"likelihood\": 0.2315325248070562}, {\"status_issue_number\": 18, \"threshold\": 70, \"avg_boundary_prob\": 0.21389195148842338, \"likelihood\": 0.21389195148842338}, {\"status_issue_number\": 18, \"threshold\": 80, \"avg_boundary_prob\": 0.19625137816979052, \"likelihood\": 0.19625137816979052}, {\"status_issue_number\": 18, \"threshold\": 90, \"avg_boundary_prob\": 0.175303197353914, \"likelihood\": 0.175303197353914}, {\"status_issue_number\": 18, \"threshold\": 100, \"avg_boundary_prob\": 0.15325248070562295, \"likelihood\": 0.15325248070562295}, {\"status_issue_number\": 19, \"threshold\": 5, \"avg_boundary_prob\": 0.5104740904079382, \"likelihood\": 0.5104740904079382}, {\"status_issue_number\": 19, \"threshold\": 10, \"avg_boundary_prob\": 0.4895259095920617, \"likelihood\": 0.4895259095920617}, {\"status_issue_number\": 19, \"threshold\": 15, \"avg_boundary_prob\": 0.4597574421168688, \"likelihood\": 0.4597574421168688}, {\"status_issue_number\": 19, \"threshold\": 20, \"avg_boundary_prob\": 0.4167585446527012, \"likelihood\": 0.4167585446527012}, {\"status_issue_number\": 19, \"threshold\": 25, \"avg_boundary_prob\": 0.36604189636163176, \"likelihood\": 0.36604189636163176}, {\"status_issue_number\": 19, \"threshold\": 30, \"avg_boundary_prob\": 0.31422271223814774, \"likelihood\": 0.31422271223814774}, {\"status_issue_number\": 19, \"threshold\": 35, \"avg_boundary_prob\": 0.28776185226019846, \"likelihood\": 0.28776185226019846}, {\"status_issue_number\": 19, \"threshold\": 40, \"avg_boundary_prob\": 0.269018743109151, \"likelihood\": 0.269018743109151}, {\"status_issue_number\": 19, \"threshold\": 45, \"avg_boundary_prob\": 0.26019845644983464, \"likelihood\": 0.26019845644983464}, {\"status_issue_number\": 19, \"threshold\": 50, \"avg_boundary_prob\": 0.24696802646085997, \"likelihood\": 0.24696802646085997}, {\"status_issue_number\": 19, \"threshold\": 55, \"avg_boundary_prob\": 0.23925027563395812, \"likelihood\": 0.23925027563395812}, {\"status_issue_number\": 19, \"threshold\": 60, \"avg_boundary_prob\": 0.23153252480705622, \"likelihood\": 0.23153252480705622}, {\"status_issue_number\": 19, \"threshold\": 70, \"avg_boundary_prob\": 0.21389195148842338, \"likelihood\": 0.21389195148842338}, {\"status_issue_number\": 19, \"threshold\": 80, \"avg_boundary_prob\": 0.19625137816979052, \"likelihood\": 0.19625137816979052}, {\"status_issue_number\": 19, \"threshold\": 90, \"avg_boundary_prob\": 0.175303197353914, \"likelihood\": 0.175303197353914}, {\"status_issue_number\": 19, \"threshold\": 100, \"avg_boundary_prob\": 0.15325248070562295, \"likelihood\": 0.15325248070562295}, {\"status_issue_number\": 20, \"threshold\": 5, \"avg_boundary_prob\": 0.5104740904079382, \"likelihood\": 0.5104740904079382}, {\"status_issue_number\": 20, \"threshold\": 10, \"avg_boundary_prob\": 0.4895259095920617, \"likelihood\": 0.4895259095920617}, {\"status_issue_number\": 20, \"threshold\": 15, \"avg_boundary_prob\": 0.4597574421168688, \"likelihood\": 0.4597574421168688}, {\"status_issue_number\": 20, \"threshold\": 20, \"avg_boundary_prob\": 0.41675854465270123, \"likelihood\": 0.41675854465270123}, {\"status_issue_number\": 20, \"threshold\": 25, \"avg_boundary_prob\": 0.36604189636163176, \"likelihood\": 0.36604189636163176}, {\"status_issue_number\": 20, \"threshold\": 30, \"avg_boundary_prob\": 0.31422271223814774, \"likelihood\": 0.31422271223814774}, {\"status_issue_number\": 20, \"threshold\": 35, \"avg_boundary_prob\": 0.28776185226019846, \"likelihood\": 0.28776185226019846}, {\"status_issue_number\": 20, \"threshold\": 40, \"avg_boundary_prob\": 0.269018743109151, \"likelihood\": 0.269018743109151}, {\"status_issue_number\": 20, \"threshold\": 45, \"avg_boundary_prob\": 0.26019845644983464, \"likelihood\": 0.26019845644983464}, {\"status_issue_number\": 20, \"threshold\": 50, \"avg_boundary_prob\": 0.24696802646086, \"likelihood\": 0.24696802646086}, {\"status_issue_number\": 20, \"threshold\": 55, \"avg_boundary_prob\": 0.2392502756339581, \"likelihood\": 0.2392502756339581}, {\"status_issue_number\": 20, \"threshold\": 60, \"avg_boundary_prob\": 0.23153252480705622, \"likelihood\": 0.23153252480705622}, {\"status_issue_number\": 20, \"threshold\": 70, \"avg_boundary_prob\": 0.21389195148842338, \"likelihood\": 0.21389195148842338}, {\"status_issue_number\": 20, \"threshold\": 80, \"avg_boundary_prob\": 0.19625137816979052, \"likelihood\": 0.19625137816979052}, {\"status_issue_number\": 20, \"threshold\": 90, \"avg_boundary_prob\": 0.175303197353914, \"likelihood\": 0.175303197353914}, {\"status_issue_number\": 20, \"threshold\": 100, \"avg_boundary_prob\": 0.15325248070562295, \"likelihood\": 0.15325248070562295}, {\"status_issue_number\": 21, \"threshold\": 5, \"avg_boundary_prob\": 0.5104740904079382, \"likelihood\": 0.5104740904079382}, {\"status_issue_number\": 21, \"threshold\": 10, \"avg_boundary_prob\": 0.4895259095920617, \"likelihood\": 0.4895259095920617}, {\"status_issue_number\": 21, \"threshold\": 15, \"avg_boundary_prob\": 0.4597574421168688, \"likelihood\": 0.4597574421168688}, {\"status_issue_number\": 21, \"threshold\": 20, \"avg_boundary_prob\": 0.41675854465270123, \"likelihood\": 0.41675854465270123}, {\"status_issue_number\": 21, \"threshold\": 25, \"avg_boundary_prob\": 0.36604189636163176, \"likelihood\": 0.36604189636163176}, {\"status_issue_number\": 21, \"threshold\": 30, \"avg_boundary_prob\": 0.31422271223814774, \"likelihood\": 0.31422271223814774}, {\"status_issue_number\": 21, \"threshold\": 35, \"avg_boundary_prob\": 0.28776185226019846, \"likelihood\": 0.28776185226019846}, {\"status_issue_number\": 21, \"threshold\": 40, \"avg_boundary_prob\": 0.269018743109151, \"likelihood\": 0.269018743109151}, {\"status_issue_number\": 21, \"threshold\": 45, \"avg_boundary_prob\": 0.26019845644983464, \"likelihood\": 0.26019845644983464}, {\"status_issue_number\": 21, \"threshold\": 50, \"avg_boundary_prob\": 0.24696802646085994, \"likelihood\": 0.24696802646085994}, {\"status_issue_number\": 21, \"threshold\": 55, \"avg_boundary_prob\": 0.2392502756339581, \"likelihood\": 0.2392502756339581}, {\"status_issue_number\": 21, \"threshold\": 60, \"avg_boundary_prob\": 0.23153252480705622, \"likelihood\": 0.23153252480705622}, {\"status_issue_number\": 21, \"threshold\": 70, \"avg_boundary_prob\": 0.2138919514884234, \"likelihood\": 0.2138919514884234}, {\"status_issue_number\": 21, \"threshold\": 80, \"avg_boundary_prob\": 0.19625137816979052, \"likelihood\": 0.19625137816979052}, {\"status_issue_number\": 21, \"threshold\": 90, \"avg_boundary_prob\": 0.175303197353914, \"likelihood\": 0.175303197353914}, {\"status_issue_number\": 21, \"threshold\": 100, \"avg_boundary_prob\": 0.15325248070562295, \"likelihood\": 0.15325248070562295}, {\"status_issue_number\": 22, \"threshold\": 5, \"avg_boundary_prob\": 0.5104740904079382, \"likelihood\": 0.5104740904079382}, {\"status_issue_number\": 22, \"threshold\": 10, \"avg_boundary_prob\": 0.4895259095920617, \"likelihood\": 0.4895259095920617}, {\"status_issue_number\": 22, \"threshold\": 15, \"avg_boundary_prob\": 0.4597574421168688, \"likelihood\": 0.4597574421168688}, {\"status_issue_number\": 22, \"threshold\": 20, \"avg_boundary_prob\": 0.41675854465270123, \"likelihood\": 0.41675854465270123}, {\"status_issue_number\": 22, \"threshold\": 25, \"avg_boundary_prob\": 0.36604189636163176, \"likelihood\": 0.36604189636163176}, {\"status_issue_number\": 22, \"threshold\": 30, \"avg_boundary_prob\": 0.31422271223814774, \"likelihood\": 0.31422271223814774}, {\"status_issue_number\": 22, \"threshold\": 35, \"avg_boundary_prob\": 0.28776185226019846, \"likelihood\": 0.28776185226019846}, {\"status_issue_number\": 22, \"threshold\": 40, \"avg_boundary_prob\": 0.269018743109151, \"likelihood\": 0.269018743109151}, {\"status_issue_number\": 22, \"threshold\": 45, \"avg_boundary_prob\": 0.26019845644983464, \"likelihood\": 0.26019845644983464}, {\"status_issue_number\": 22, \"threshold\": 50, \"avg_boundary_prob\": 0.24696802646085997, \"likelihood\": 0.24696802646085997}, {\"status_issue_number\": 22, \"threshold\": 55, \"avg_boundary_prob\": 0.23925027563395812, \"likelihood\": 0.23925027563395812}, {\"status_issue_number\": 22, \"threshold\": 60, \"avg_boundary_prob\": 0.23153252480705622, \"likelihood\": 0.23153252480705622}, {\"status_issue_number\": 22, \"threshold\": 70, \"avg_boundary_prob\": 0.21389195148842338, \"likelihood\": 0.21389195148842338}, {\"status_issue_number\": 22, \"threshold\": 80, \"avg_boundary_prob\": 0.19625137816979052, \"likelihood\": 0.19625137816979052}, {\"status_issue_number\": 22, \"threshold\": 90, \"avg_boundary_prob\": 0.175303197353914, \"likelihood\": 0.175303197353914}, {\"status_issue_number\": 22, \"threshold\": 100, \"avg_boundary_prob\": 0.15325248070562295, \"likelihood\": 0.15325248070562295}, {\"status_issue_number\": 23, \"threshold\": 5, \"avg_boundary_prob\": 0.5104740904079382, \"likelihood\": 0.5104740904079382}, {\"status_issue_number\": 23, \"threshold\": 10, \"avg_boundary_prob\": 0.4895259095920617, \"likelihood\": 0.4895259095920617}, {\"status_issue_number\": 23, \"threshold\": 15, \"avg_boundary_prob\": 0.4597574421168688, \"likelihood\": 0.4597574421168688}, {\"status_issue_number\": 23, \"threshold\": 20, \"avg_boundary_prob\": 0.41675854465270123, \"likelihood\": 0.41675854465270123}, {\"status_issue_number\": 23, \"threshold\": 25, \"avg_boundary_prob\": 0.3660418963616318, \"likelihood\": 0.3660418963616318}, {\"status_issue_number\": 23, \"threshold\": 30, \"avg_boundary_prob\": 0.31422271223814774, \"likelihood\": 0.31422271223814774}, {\"status_issue_number\": 23, \"threshold\": 35, \"avg_boundary_prob\": 0.28776185226019846, \"likelihood\": 0.28776185226019846}, {\"status_issue_number\": 23, \"threshold\": 40, \"avg_boundary_prob\": 0.269018743109151, \"likelihood\": 0.269018743109151}, {\"status_issue_number\": 23, \"threshold\": 45, \"avg_boundary_prob\": 0.26019845644983464, \"likelihood\": 0.26019845644983464}, {\"status_issue_number\": 23, \"threshold\": 50, \"avg_boundary_prob\": 0.24696802646085997, \"likelihood\": 0.24696802646085997}, {\"status_issue_number\": 23, \"threshold\": 55, \"avg_boundary_prob\": 0.23925027563395812, \"likelihood\": 0.23925027563395812}, {\"status_issue_number\": 23, \"threshold\": 60, \"avg_boundary_prob\": 0.23153252480705622, \"likelihood\": 0.23153252480705622}, {\"status_issue_number\": 23, \"threshold\": 70, \"avg_boundary_prob\": 0.21389195148842338, \"likelihood\": 0.21389195148842338}, {\"status_issue_number\": 23, \"threshold\": 80, \"avg_boundary_prob\": 0.19625137816979052, \"likelihood\": 0.19625137816979052}, {\"status_issue_number\": 23, \"threshold\": 90, \"avg_boundary_prob\": 0.175303197353914, \"likelihood\": 0.175303197353914}, {\"status_issue_number\": 23, \"threshold\": 100, \"avg_boundary_prob\": 0.15325248070562295, \"likelihood\": 0.15325248070562295}, {\"status_issue_number\": 24, \"threshold\": 5, \"avg_boundary_prob\": 0.5104740904079382, \"likelihood\": 0.5104740904079382}, {\"status_issue_number\": 24, \"threshold\": 10, \"avg_boundary_prob\": 0.48952590959206177, \"likelihood\": 0.48952590959206177}, {\"status_issue_number\": 24, \"threshold\": 15, \"avg_boundary_prob\": 0.4597574421168688, \"likelihood\": 0.4597574421168688}, {\"status_issue_number\": 24, \"threshold\": 20, \"avg_boundary_prob\": 0.41675854465270123, \"likelihood\": 0.41675854465270123}, {\"status_issue_number\": 24, \"threshold\": 25, \"avg_boundary_prob\": 0.36604189636163176, \"likelihood\": 0.36604189636163176}, {\"status_issue_number\": 24, \"threshold\": 30, \"avg_boundary_prob\": 0.31422271223814774, \"likelihood\": 0.31422271223814774}, {\"status_issue_number\": 24, \"threshold\": 35, \"avg_boundary_prob\": 0.28776185226019846, \"likelihood\": 0.28776185226019846}, {\"status_issue_number\": 24, \"threshold\": 40, \"avg_boundary_prob\": 0.269018743109151, \"likelihood\": 0.269018743109151}, {\"status_issue_number\": 24, \"threshold\": 45, \"avg_boundary_prob\": 0.26019845644983464, \"likelihood\": 0.26019845644983464}, {\"status_issue_number\": 24, \"threshold\": 50, \"avg_boundary_prob\": 0.24696802646085997, \"likelihood\": 0.24696802646085997}, {\"status_issue_number\": 24, \"threshold\": 55, \"avg_boundary_prob\": 0.2392502756339581, \"likelihood\": 0.2392502756339581}, {\"status_issue_number\": 24, \"threshold\": 60, \"avg_boundary_prob\": 0.23153252480705624, \"likelihood\": 0.23153252480705624}, {\"status_issue_number\": 24, \"threshold\": 70, \"avg_boundary_prob\": 0.21389195148842335, \"likelihood\": 0.21389195148842335}, {\"status_issue_number\": 24, \"threshold\": 80, \"avg_boundary_prob\": 0.19625137816979052, \"likelihood\": 0.19625137816979052}, {\"status_issue_number\": 24, \"threshold\": 90, \"avg_boundary_prob\": 0.175303197353914, \"likelihood\": 0.175303197353914}, {\"status_issue_number\": 24, \"threshold\": 100, \"avg_boundary_prob\": 0.15325248070562295, \"likelihood\": 0.15325248070562295}, {\"status_issue_number\": 25, \"threshold\": 5, \"avg_boundary_prob\": 0.5104740904079382, \"likelihood\": 0.5104740904079382}, {\"status_issue_number\": 25, \"threshold\": 10, \"avg_boundary_prob\": 0.4895259095920617, \"likelihood\": 0.4895259095920617}, {\"status_issue_number\": 25, \"threshold\": 15, \"avg_boundary_prob\": 0.4597574421168688, \"likelihood\": 0.4597574421168688}, {\"status_issue_number\": 25, \"threshold\": 20, \"avg_boundary_prob\": 0.41675854465270123, \"likelihood\": 0.41675854465270123}, {\"status_issue_number\": 25, \"threshold\": 25, \"avg_boundary_prob\": 0.36604189636163176, \"likelihood\": 0.36604189636163176}, {\"status_issue_number\": 25, \"threshold\": 30, \"avg_boundary_prob\": 0.3142227122381477, \"likelihood\": 0.3142227122381477}, {\"status_issue_number\": 25, \"threshold\": 35, \"avg_boundary_prob\": 0.28776185226019846, \"likelihood\": 0.28776185226019846}, {\"status_issue_number\": 25, \"threshold\": 40, \"avg_boundary_prob\": 0.269018743109151, \"likelihood\": 0.269018743109151}, {\"status_issue_number\": 25, \"threshold\": 45, \"avg_boundary_prob\": 0.26019845644983464, \"likelihood\": 0.26019845644983464}, {\"status_issue_number\": 25, \"threshold\": 50, \"avg_boundary_prob\": 0.24696802646085997, \"likelihood\": 0.24696802646085997}, {\"status_issue_number\": 25, \"threshold\": 55, \"avg_boundary_prob\": 0.23925027563395812, \"likelihood\": 0.23925027563395812}, {\"status_issue_number\": 25, \"threshold\": 60, \"avg_boundary_prob\": 0.2315325248070562, \"likelihood\": 0.2315325248070562}, {\"status_issue_number\": 25, \"threshold\": 70, \"avg_boundary_prob\": 0.21389195148842338, \"likelihood\": 0.21389195148842338}, {\"status_issue_number\": 25, \"threshold\": 80, \"avg_boundary_prob\": 0.19625137816979052, \"likelihood\": 0.19625137816979052}, {\"status_issue_number\": 25, \"threshold\": 90, \"avg_boundary_prob\": 0.175303197353914, \"likelihood\": 0.175303197353914}, {\"status_issue_number\": 25, \"threshold\": 100, \"avg_boundary_prob\": 0.15325248070562295, \"likelihood\": 0.15325248070562295}]}}, {\"mode\": \"vega-lite\"});\n",
       "</script>"
      ],
      "text/plain": [
       "alt.Chart(...)"
      ]
     },
     "execution_count": 22,
     "metadata": {},
     "output_type": "execute_result"
    }
   ],
   "source": [
    "# Calculate average boundary probability across status_issue_number and threshold\n",
    "avg_boundary_prob_df = updated_boundaries_df.groupby(['status_issue_number', 'threshold']).boundary_prob.mean().reset_index()\n",
    "\n",
    "# Add a likelihood column that represents the probability of a boundary for each issue\n",
    "avg_boundary_prob_df = avg_boundary_prob_df.rename(columns={'boundary_prob': 'avg_boundary_prob'})\n",
    "avg_boundary_prob_df['likelihood'] = avg_boundary_prob_df['avg_boundary_prob']\n",
    "\n",
    "\n",
    "# Display the average boundary probabilities\n",
    "console.print(avg_boundary_prob_df)\n",
    "\n",
    "# Visualize the likelihood distribution across thresholds and status_issue_number\n",
    "chart = alt.Chart(avg_boundary_prob_df).mark_line(point=True).encode(\n",
    "    x='status_issue_number:O',\n",
    "    y='likelihood:Q',\n",
    "    color='threshold:N',\n",
    "    tooltip=['status_issue_number', 'threshold', 'likelihood']\n",
    ").properties(\n",
    "    title='Average Boundary Probability Across Status Issue Number and Threshold'\n",
    ")\n",
    "\n",
    "chart"
   ]
  },
  {
   "cell_type": "code",
   "execution_count": 12,
   "metadata": {},
   "outputs": [],
   "source": [
    "# def detect_issue_boundaries(df: pd.DataFrame, window_size: int = 5, threshold_sizes: list = [30]) -> pd.DataFrame:\n",
    "#     \"\"\"Detect issue boundaries in the dataset using a sliding window approach, while retaining non-digit pages.\n",
    "\n",
    "#     Args:\n",
    "#         df (pd.DataFrame): The input DataFrame containing page numbers and implied zeros.\n",
    "#         window_size (int): The size of the sliding window.\n",
    "#         threshold_sizes (list): A list of threshold sizes to detect boundaries.\n",
    "\n",
    "#     Returns:\n",
    "#         pd.DataFrame: A DataFrame containing detected boundaries.\n",
    "#     \"\"\"\n",
    "#     # Prepare the DataFrame by ensuring necessary columns are integers\n",
    "#     df['page_number'] = df['page_number'].astype(int)\n",
    "#     df['implied_zero'] = df['implied_zero'].astype(int, errors='ignore')\n",
    "    \n",
    "#     # Sort by page_number for sequential window analysis\n",
    "#     df = df.sort_values(by=['page_number'])\n",
    "    \n",
    "#     # Initialize list to store detected boundaries across all thresholds\n",
    "#     all_boundaries = []\n",
    "    \n",
    "#     for threshold in tqdm(threshold_sizes, desc=\"Threshold Sizes\"):\n",
    "#         # Initialize deque to maintain a sliding window of page numbers for each threshold\n",
    "#         sliding_window = deque(maxlen=window_size)\n",
    "        \n",
    "#         # Initialize list to store detected boundaries for this threshold\n",
    "#         issue_boundaries = []\n",
    "#         issue_number = 0\n",
    "#         existing_start_issue = None\n",
    "        \n",
    "#         page_numbers = df['page_number'].unique().tolist()\n",
    "        \n",
    "#         for index, page_number in tqdm(enumerate(page_numbers), desc=\"Page Numbers\", total=len(page_numbers)):\n",
    "#             selected_rows = df[df['page_number'] == page_number]\n",
    "#             implied_zero_values = selected_rows['implied_zero'].tolist()\n",
    "#             print('implied_zero_values', implied_zero_values)\n",
    "#             is_digit_page = selected_rows['is_digit_page'].values[0]\n",
    "#             print('is_digit_page', is_digit_page)\n",
    "            \n",
    "#             if index == 0:\n",
    "#                 existing_start_issue = selected_rows['start_issue'].values[0]\n",
    "            \n",
    "#             # Update the sliding window with each unique page and its implied zeros, including non-digit pages\n",
    "#             if is_digit_page:\n",
    "#                 for implied_zero in implied_zero_values:\n",
    "#                     sliding_window.append((page_number, implied_zero))\n",
    "#             else:\n",
    "#                 sliding_window.append((page_number, None))  # Use None for non-digit pages\n",
    "            \n",
    "#             # Check for boundary conditions only if window is full\n",
    "#             if len(sliding_window) == window_size:\n",
    "#                 print(sliding_window)\n",
    "#                 page_range = max(p[0] for p in sliding_window if p[1] is not None) - min(p[0] for p in sliding_window if p[1] is not None)\n",
    "#                 implied_zero_diff = max(p[1] for p in sliding_window if p[1] is not None) - min(p[1] for p in sliding_window if p[1] is not None)\n",
    "\n",
    "\n",
    "#                 # If the page range or implied zero diff exceeds the threshold, flag a potential boundary\n",
    "#                 if page_range > threshold or implied_zero_diff > threshold:\n",
    "#                     issue_boundaries.append((page_number, implied_zero_values, 'potential_boundary', selected_rows['start_issue'].values[0], issue_number, threshold, selected_rows['temp_issue_number'].values[0]))\n",
    "            \n",
    "#             # Only increment issue_number when a new start_issue is encountered and not the same as the existing one\n",
    "#             if existing_start_issue != selected_rows['start_issue'].values[0]:\n",
    "#                 issue_number += 1\n",
    "#                 existing_start_issue = selected_rows['start_issue'].values[0]\n",
    "        \n",
    "#         # Append results for this threshold to all boundaries outside of page loop\n",
    "#         all_boundaries.extend(issue_boundaries)\n",
    "    \n",
    "#     # Create DataFrame for all boundaries with threshold as a column\n",
    "#     boundaries_df = pd.DataFrame(all_boundaries, columns=['page_number', 'implied_zero_values', 'status', 'start_issue', 'status_issue_number', 'threshold', 'temp_issue_number'])\n",
    "#     return boundaries_df\n",
    "\n",
    "# # Example usage with multiple threshold sizes\n",
    "# range_of_max_issue_length = [10, 15, 20, 25, 30, 35, 40, 45, 50, 60, 70, 80, 90, 100, 200, 300]\n",
    "# boundaries_df = detect_issue_boundaries(subset_digits, threshold_sizes=range_of_max_issue_length)\n",
    "\n",
    "# # Display results\n",
    "# console.print(f\"Detected this many potential boundaries: {len(boundaries_df)} across this many thresholds: {len(boundaries_df.threshold.unique())}\")"
   ]
  },
  {
   "cell_type": "code",
   "execution_count": 13,
   "metadata": {},
   "outputs": [],
   "source": [
    "# def detect_issue_boundaries(df: pd.DataFrame, window_size: int = 5, threshold_sizes: list = [30]) -> pd.DataFrame:\n",
    "#     \"\"\"Detect issue boundaries in the dataset using a sliding window approach.\n",
    "\n",
    "#     Args:\n",
    "#         df (pd.DataFrame): The input DataFrame containing page numbers and implied zeros.\n",
    "#         window_size (int): The size of the sliding window.\n",
    "#         threshold_sizes (list): A list of threshold sizes to detect boundaries.\n",
    "\n",
    "#     Returns:\n",
    "#         pd.DataFrame: A DataFrame containing detected boundaries.\n",
    "#     \"\"\"\n",
    "#     # Prepare the DataFrame by ensuring necessary columns are integers\n",
    "#     df['page_number'] = df['page_number'].astype(int)\n",
    "#     df['implied_zero'] = df['implied_zero'].astype(int)\n",
    "    \n",
    "#     # Sort by page_number for sequential window analysis\n",
    "#     df = df.sort_values(by=['page_number'])\n",
    "    \n",
    "#     # Initialize list to store detected boundaries across all thresholds\n",
    "#     all_boundaries = []\n",
    "    \n",
    "#     for threshold in tqdm(threshold_sizes, desc=\"Threshold Sizes\"):\n",
    "#         # Initialize deque to maintain a sliding window of page numbers for each threshold\n",
    "#         sliding_window = deque(maxlen=window_size)\n",
    "        \n",
    "#         # Initialize list to store detected boundaries for this threshold\n",
    "#         issue_boundaries = []\n",
    "#         issue_number = 0\n",
    "#         existing_start_issue = None\n",
    "        \n",
    "#         page_numbers = df['page_number'].unique().tolist()\n",
    "        \n",
    "#         for index, page_number in tqdm(enumerate(page_numbers), desc=\"Page Numbers\", total=len(page_numbers)):\n",
    "#             selected_rows = df[df['page_number'] == page_number]\n",
    "#             implied_zero_values = selected_rows['implied_zero'].tolist()\n",
    "            \n",
    "#             if index == 0:\n",
    "#                 existing_start_issue = selected_rows['start_issue'].values[0]\n",
    "            \n",
    "#             # Update the sliding window with each unique page and its implied zeros\n",
    "#             for implied_zero in implied_zero_values:\n",
    "#                 sliding_window.append((page_number, implied_zero))\n",
    "                \n",
    "#             # Check for boundary conditions only if window is full\n",
    "#             if len(sliding_window) == window_size:\n",
    "#                 print(sliding_window)\n",
    "#                 page_range = max(p[0] for p in sliding_window) - min(p[0] for p in sliding_window)\n",
    "#                 implied_zero_diff = max(p[1] for p in sliding_window) - min(p[1] for p in sliding_window)\n",
    "                \n",
    "#                 if page_range > threshold or implied_zero_diff > threshold:\n",
    "#                     # Append only once per page with existing page details and current threshold\n",
    "#                     issue_boundaries.append((page_number, implied_zero_values, 'potential_boundary', selected_rows['start_issue'].values[0], issue_number, threshold, selected_rows['temp_issue_number'].values[0]))\n",
    "            \n",
    "#             # Only increment issue_number when a new start_issue is encountered and not the same as the existing one\n",
    "#             if existing_start_issue != selected_rows['start_issue'].values[0]:\n",
    "#                 issue_number += 1\n",
    "#                 existing_start_issue = selected_rows['start_issue'].values[0]\n",
    "        \n",
    "#         # Append results for this threshold to all boundaries outside of page loop\n",
    "#         all_boundaries.extend(issue_boundaries)\n",
    "    \n",
    "#     # Create DataFrame for all boundaries with threshold as a column\n",
    "#     boundaries_df = pd.DataFrame(all_boundaries, columns=['page_number', 'implied_zero_values', 'status', 'start_issue', 'status_issue_number', 'threshold', 'temp_issue_number'])\n",
    "#     return boundaries_df\n",
    "\n",
    "# # Example usage with multiple threshold sizes\n",
    "# range_of_max_issue_length = [10, 15, 20, 25, 30, 35, 40, 45, 50, 60, 70, 80, 90, 100, 200, 300]\n",
    "# subset_digits = subset_digits.sort_values(by=['page_number'])\n",
    "# boundaries_df = detect_issue_boundaries(subset_digits, threshold_sizes=range_of_max_issue_length)\n",
    "\n",
    "# # Display results\n",
    "# print(f\"Detected this many potential boundaries: {len(boundaries_df)} across this many thresholds: {len(boundaries_df.threshold.unique())}\")\n",
    "# print(\"Detected potential boundaries per threshold:\\n\", boundaries_df.groupby(['threshold']).size())"
   ]
  },
  {
   "cell_type": "code",
   "execution_count": 12,
   "metadata": {},
   "outputs": [
    {
     "data": {
      "text/html": [
       "\n",
       "<style>\n",
       "  #altair-viz-f20bcf1bda1141d2974eaad380c0a578.vega-embed {\n",
       "    width: 100%;\n",
       "    display: flex;\n",
       "  }\n",
       "\n",
       "  #altair-viz-f20bcf1bda1141d2974eaad380c0a578.vega-embed details,\n",
       "  #altair-viz-f20bcf1bda1141d2974eaad380c0a578.vega-embed details summary {\n",
       "    position: relative;\n",
       "  }\n",
       "</style>\n",
       "<div id=\"altair-viz-f20bcf1bda1141d2974eaad380c0a578\"></div>\n",
       "<script type=\"text/javascript\">\n",
       "  var VEGA_DEBUG = (typeof VEGA_DEBUG == \"undefined\") ? {} : VEGA_DEBUG;\n",
       "  (function(spec, embedOpt){\n",
       "    let outputDiv = document.currentScript.previousElementSibling;\n",
       "    if (outputDiv.id !== \"altair-viz-f20bcf1bda1141d2974eaad380c0a578\") {\n",
       "      outputDiv = document.getElementById(\"altair-viz-f20bcf1bda1141d2974eaad380c0a578\");\n",
       "    }\n",
       "    const paths = {\n",
       "      \"vega\": \"https://cdn.jsdelivr.net/npm/vega@5?noext\",\n",
       "      \"vega-lib\": \"https://cdn.jsdelivr.net/npm/vega-lib?noext\",\n",
       "      \"vega-lite\": \"https://cdn.jsdelivr.net/npm/vega-lite@5.8.0?noext\",\n",
       "      \"vega-embed\": \"https://cdn.jsdelivr.net/npm/vega-embed@6?noext\",\n",
       "    };\n",
       "\n",
       "    function maybeLoadScript(lib, version) {\n",
       "      var key = `${lib.replace(\"-\", \"\")}_version`;\n",
       "      return (VEGA_DEBUG[key] == version) ?\n",
       "        Promise.resolve(paths[lib]) :\n",
       "        new Promise(function(resolve, reject) {\n",
       "          var s = document.createElement('script');\n",
       "          document.getElementsByTagName(\"head\")[0].appendChild(s);\n",
       "          s.async = true;\n",
       "          s.onload = () => {\n",
       "            VEGA_DEBUG[key] = version;\n",
       "            return resolve(paths[lib]);\n",
       "          };\n",
       "          s.onerror = () => reject(`Error loading script: ${paths[lib]}`);\n",
       "          s.src = paths[lib];\n",
       "        });\n",
       "    }\n",
       "\n",
       "    function showError(err) {\n",
       "      outputDiv.innerHTML = `<div class=\"error\" style=\"color:red;\">${err}</div>`;\n",
       "      throw err;\n",
       "    }\n",
       "\n",
       "    function displayChart(vegaEmbed) {\n",
       "      vegaEmbed(outputDiv, spec, embedOpt)\n",
       "        .catch(err => showError(`Javascript Error: ${err.message}<br>This usually means there's a typo in your chart specification. See the javascript console for the full traceback.`));\n",
       "    }\n",
       "\n",
       "    if(typeof define === \"function\" && define.amd) {\n",
       "      requirejs.config({paths});\n",
       "      require([\"vega-embed\"], displayChart, err => showError(`Error loading script: ${err.message}`));\n",
       "    } else {\n",
       "      maybeLoadScript(\"vega\", \"5\")\n",
       "        .then(() => maybeLoadScript(\"vega-lite\", \"5.8.0\"))\n",
       "        .then(() => maybeLoadScript(\"vega-embed\", \"6\"))\n",
       "        .catch(showError)\n",
       "        .then(() => displayChart(vegaEmbed));\n",
       "    }\n",
       "  })({\"config\": {\"view\": {\"continuousWidth\": 300, \"continuousHeight\": 300}}, \"data\": {\"name\": \"data-fd9daf8005b35f6bd399f84c17304e9d\"}, \"mark\": {\"type\": \"point\", \"filled\": true}, \"encoding\": {\"color\": {\"field\": \"threshold\", \"type\": \"nominal\"}, \"tooltip\": [{\"field\": \"threshold\", \"type\": \"quantitative\"}, {\"field\": \"correspondence\", \"type\": \"quantitative\"}, {\"field\": \"start_issue\", \"type\": \"temporal\"}], \"x\": {\"field\": \"start_issue\", \"type\": \"temporal\"}, \"y\": {\"field\": \"correspondence\", \"type\": \"quantitative\"}}, \"title\": \"Correspondence between status_issue_number and temp_issue_number by Threshold\", \"$schema\": \"https://vega.github.io/schema/vega-lite/v5.8.0.json\", \"datasets\": {\"data-fd9daf8005b35f6bd399f84c17304e9d\": [{\"threshold\": 20, \"start_issue\": \"1962-01-01\", \"correspondence\": 1.0}, {\"threshold\": 20, \"start_issue\": \"1962-01-08\", \"correspondence\": 0.9655172413793104}, {\"threshold\": 20, \"start_issue\": \"1962-01-15\", \"correspondence\": 0.9615384615384616}, {\"threshold\": 20, \"start_issue\": \"1962-01-22\", \"correspondence\": 0.9642857142857143}, {\"threshold\": 20, \"start_issue\": \"1962-01-29\", \"correspondence\": 0.967741935483871}, {\"threshold\": 20, \"start_issue\": \"1962-02-05\", \"correspondence\": 0.9696969696969697}, {\"threshold\": 20, \"start_issue\": \"1962-02-12\", \"correspondence\": 0.9655172413793104}, {\"threshold\": 20, \"start_issue\": \"1962-02-19\", \"correspondence\": 0.9655172413793104}, {\"threshold\": 20, \"start_issue\": \"1962-02-26\", \"correspondence\": 0.9629629629629629}, {\"threshold\": 20, \"start_issue\": \"1962-03-05\", \"correspondence\": 0.967741935483871}, {\"threshold\": 20, \"start_issue\": \"1962-03-12\", \"correspondence\": 0.9629629629629629}, {\"threshold\": 20, \"start_issue\": \"1962-03-19\", \"correspondence\": 0.9666666666666667}, {\"threshold\": 20, \"start_issue\": \"1962-03-26\", \"correspondence\": 0.967741935483871}, {\"threshold\": 20, \"start_issue\": \"1962-04-02\", \"correspondence\": 0.967741935483871}, {\"threshold\": 20, \"start_issue\": \"1962-04-09\", \"correspondence\": 0.9666666666666667}, {\"threshold\": 20, \"start_issue\": \"1962-04-16\", \"correspondence\": 0.9666666666666667}, {\"threshold\": 20, \"start_issue\": \"1962-04-23\", \"correspondence\": 0.9655172413793104}, {\"threshold\": 20, \"start_issue\": \"1962-04-30\", \"correspondence\": 0.9714285714285714}, {\"threshold\": 20, \"start_issue\": \"1962-05-07\", \"correspondence\": 0.9629629629629629}, {\"threshold\": 20, \"start_issue\": \"1962-05-14\", \"correspondence\": 0.9565217391304348}, {\"threshold\": 20, \"start_issue\": \"1962-05-21\", \"correspondence\": 0.9642857142857143}, {\"threshold\": 20, \"start_issue\": \"1962-05-28\", \"correspondence\": 0.9705882352941176}, {\"threshold\": 20, \"start_issue\": \"1962-06-04\", \"correspondence\": 0.9666666666666667}, {\"threshold\": 20, \"start_issue\": \"1962-06-11\", \"correspondence\": 0.9642857142857143}, {\"threshold\": 20, \"start_issue\": \"1962-06-18\", \"correspondence\": 0.967741935483871}, {\"threshold\": 20, \"start_issue\": \"1962-06-25\", \"correspondence\": 0.9714285714285714}, {\"threshold\": 25, \"start_issue\": \"1962-01-01\", \"correspondence\": 1.0}, {\"threshold\": 25, \"start_issue\": \"1962-01-08\", \"correspondence\": 0.9583333333333334}, {\"threshold\": 25, \"start_issue\": \"1962-01-15\", \"correspondence\": 0.9565217391304348}, {\"threshold\": 25, \"start_issue\": \"1962-01-22\", \"correspondence\": 0.9545454545454546}, {\"threshold\": 25, \"start_issue\": \"1962-01-29\", \"correspondence\": 0.9629629629629629}, {\"threshold\": 25, \"start_issue\": \"1962-02-05\", \"correspondence\": 0.9655172413793104}, {\"threshold\": 25, \"start_issue\": \"1962-02-12\", \"correspondence\": 0.96}, {\"threshold\": 25, \"start_issue\": \"1962-02-19\", \"correspondence\": 0.9615384615384616}, {\"threshold\": 25, \"start_issue\": \"1962-02-26\", \"correspondence\": 0.9565217391304348}, {\"threshold\": 25, \"start_issue\": \"1962-03-05\", \"correspondence\": 0.9655172413793104}, {\"threshold\": 25, \"start_issue\": \"1962-03-12\", \"correspondence\": 0.9615384615384616}, {\"threshold\": 25, \"start_issue\": \"1962-03-19\", \"correspondence\": 0.9629629629629629}, {\"threshold\": 25, \"start_issue\": \"1962-03-26\", \"correspondence\": 0.9642857142857143}, {\"threshold\": 25, \"start_issue\": \"1962-04-02\", \"correspondence\": 0.9642857142857143}, {\"threshold\": 25, \"start_issue\": \"1962-04-09\", \"correspondence\": 0.9655172413793104}, {\"threshold\": 25, \"start_issue\": \"1962-04-16\", \"correspondence\": 0.9642857142857143}, {\"threshold\": 25, \"start_issue\": \"1962-04-23\", \"correspondence\": 0.9583333333333334}, {\"threshold\": 25, \"start_issue\": \"1962-04-30\", \"correspondence\": 0.9705882352941176}, {\"threshold\": 25, \"start_issue\": \"1962-05-07\", \"correspondence\": 0.9615384615384616}, {\"threshold\": 25, \"start_issue\": \"1962-05-14\", \"correspondence\": 0.95}, {\"threshold\": 25, \"start_issue\": \"1962-05-21\", \"correspondence\": 0.9629629629629629}, {\"threshold\": 25, \"start_issue\": \"1962-05-28\", \"correspondence\": 0.96875}, {\"threshold\": 25, \"start_issue\": \"1962-06-04\", \"correspondence\": 0.9629629629629629}, {\"threshold\": 25, \"start_issue\": \"1962-06-11\", \"correspondence\": 0.96}, {\"threshold\": 25, \"start_issue\": \"1962-06-18\", \"correspondence\": 0.9629629629629629}, {\"threshold\": 25, \"start_issue\": \"1962-06-25\", \"correspondence\": 0.9666666666666667}, {\"threshold\": 30, \"start_issue\": \"1962-01-01\", \"correspondence\": 1.0}, {\"threshold\": 30, \"start_issue\": \"1962-01-08\", \"correspondence\": 0.9523809523809523}, {\"threshold\": 30, \"start_issue\": \"1962-01-15\", \"correspondence\": 0.95}, {\"threshold\": 30, \"start_issue\": \"1962-01-22\", \"correspondence\": 0.95}, {\"threshold\": 30, \"start_issue\": \"1962-01-29\", \"correspondence\": 0.9375}, {\"threshold\": 30, \"start_issue\": \"1962-02-05\", \"correspondence\": 0.9523809523809523}, {\"threshold\": 30, \"start_issue\": \"1962-02-12\", \"correspondence\": 0.9545454545454546}, {\"threshold\": 30, \"start_issue\": \"1962-02-19\", \"correspondence\": 0.96}, {\"threshold\": 30, \"start_issue\": \"1962-02-26\", \"correspondence\": 0.9473684210526315}, {\"threshold\": 30, \"start_issue\": \"1962-03-05\", \"correspondence\": 0.9629629629629629}, {\"threshold\": 30, \"start_issue\": \"1962-03-12\", \"correspondence\": 0.9565217391304348}, {\"threshold\": 30, \"start_issue\": \"1962-03-19\", \"correspondence\": 0.96}, {\"threshold\": 30, \"start_issue\": \"1962-03-26\", \"correspondence\": 0.9583333333333334}, {\"threshold\": 30, \"start_issue\": \"1962-04-02\", \"correspondence\": 0.9565217391304348}, {\"threshold\": 30, \"start_issue\": \"1962-04-09\", \"correspondence\": 0.9629629629629629}, {\"threshold\": 30, \"start_issue\": \"1962-04-16\", \"correspondence\": 1.0}, {\"threshold\": 30, \"start_issue\": \"1962-04-23\", \"correspondence\": 0.9565217391304348}, {\"threshold\": 30, \"start_issue\": \"1962-04-30\", \"correspondence\": 0.96875}, {\"threshold\": 30, \"start_issue\": \"1962-05-07\", \"correspondence\": 0.96}, {\"threshold\": 30, \"start_issue\": \"1962-05-14\", \"correspondence\": 0.9411764705882353}, {\"threshold\": 30, \"start_issue\": \"1962-05-21\", \"correspondence\": 0.9615384615384616}, {\"threshold\": 30, \"start_issue\": \"1962-05-28\", \"correspondence\": 0.9666666666666667}, {\"threshold\": 30, \"start_issue\": \"1962-06-04\", \"correspondence\": 0.9583333333333334}, {\"threshold\": 30, \"start_issue\": \"1962-06-11\", \"correspondence\": 0.9583333333333334}, {\"threshold\": 30, \"start_issue\": \"1962-06-18\", \"correspondence\": 0.9565217391304348}, {\"threshold\": 30, \"start_issue\": \"1962-06-25\", \"correspondence\": 0.9642857142857143}, {\"threshold\": 35, \"start_issue\": \"1962-01-01\", \"correspondence\": 1.0}, {\"threshold\": 35, \"start_issue\": \"1962-01-08\", \"correspondence\": 0.9473684210526315}, {\"threshold\": 35, \"start_issue\": \"1962-01-15\", \"correspondence\": 0.95}, {\"threshold\": 35, \"start_issue\": \"1962-01-22\", \"correspondence\": 0.95}, {\"threshold\": 35, \"start_issue\": \"1962-01-29\", \"correspondence\": 0.9333333333333333}, {\"threshold\": 35, \"start_issue\": \"1962-02-05\", \"correspondence\": 0.9473684210526315}, {\"threshold\": 35, \"start_issue\": \"1962-02-12\", \"correspondence\": 0.9545454545454546}, {\"threshold\": 35, \"start_issue\": \"1962-02-19\", \"correspondence\": 0.9583333333333334}, {\"threshold\": 35, \"start_issue\": \"1962-02-26\", \"correspondence\": 0.9444444444444444}, {\"threshold\": 35, \"start_issue\": \"1962-03-05\", \"correspondence\": 0.9615384615384616}, {\"threshold\": 35, \"start_issue\": \"1962-03-12\", \"correspondence\": 0.95}, {\"threshold\": 35, \"start_issue\": \"1962-03-19\", \"correspondence\": 0.9583333333333334}, {\"threshold\": 35, \"start_issue\": \"1962-03-26\", \"correspondence\": 0.9565217391304348}, {\"threshold\": 35, \"start_issue\": \"1962-04-02\", \"correspondence\": 0.9545454545454546}, {\"threshold\": 35, \"start_issue\": \"1962-04-09\", \"correspondence\": 0.9629629629629629}, {\"threshold\": 35, \"start_issue\": \"1962-04-16\", \"correspondence\": 1.0}, {\"threshold\": 35, \"start_issue\": \"1962-04-23\", \"correspondence\": 0.9523809523809523}, {\"threshold\": 35, \"start_issue\": \"1962-04-30\", \"correspondence\": 0.9666666666666667}, {\"threshold\": 35, \"start_issue\": \"1962-05-07\", \"correspondence\": 0.96}, {\"threshold\": 35, \"start_issue\": \"1962-05-14\", \"correspondence\": 0.9411764705882353}, {\"threshold\": 35, \"start_issue\": \"1962-05-21\", \"correspondence\": 0.9615384615384616}, {\"threshold\": 35, \"start_issue\": \"1962-05-28\", \"correspondence\": 0.9666666666666667}, {\"threshold\": 35, \"start_issue\": \"1962-06-04\", \"correspondence\": 0.9565217391304348}, {\"threshold\": 35, \"start_issue\": \"1962-06-11\", \"correspondence\": 0.9545454545454546}, {\"threshold\": 35, \"start_issue\": \"1962-06-18\", \"correspondence\": 0.9523809523809523}, {\"threshold\": 35, \"start_issue\": \"1962-06-25\", \"correspondence\": 0.9629629629629629}, {\"threshold\": 40, \"start_issue\": \"1962-01-01\", \"correspondence\": 1.0}, {\"threshold\": 40, \"start_issue\": \"1962-01-08\", \"correspondence\": 0.9375}, {\"threshold\": 40, \"start_issue\": \"1962-01-15\", \"correspondence\": 0.9411764705882353}, {\"threshold\": 40, \"start_issue\": \"1962-01-22\", \"correspondence\": 0.95}, {\"threshold\": 40, \"start_issue\": \"1962-01-29\", \"correspondence\": 0.9230769230769231}, {\"threshold\": 40, \"start_issue\": \"1962-02-05\", \"correspondence\": 0.9333333333333333}, {\"threshold\": 40, \"start_issue\": \"1962-02-12\", \"correspondence\": 0.9545454545454546}, {\"threshold\": 40, \"start_issue\": \"1962-02-19\", \"correspondence\": 0.9545454545454546}, {\"threshold\": 40, \"start_issue\": \"1962-02-26\", \"correspondence\": 0.9411764705882353}, {\"threshold\": 40, \"start_issue\": \"1962-03-05\", \"correspondence\": 0.9565217391304348}, {\"threshold\": 40, \"start_issue\": \"1962-03-12\", \"correspondence\": 0.9444444444444444}, {\"threshold\": 40, \"start_issue\": \"1962-03-19\", \"correspondence\": 0.9583333333333334}, {\"threshold\": 40, \"start_issue\": \"1962-03-26\", \"correspondence\": 0.9545454545454546}, {\"threshold\": 40, \"start_issue\": \"1962-04-02\", \"correspondence\": 0.9545454545454546}, {\"threshold\": 40, \"start_issue\": \"1962-04-09\", \"correspondence\": 0.9629629629629629}, {\"threshold\": 40, \"start_issue\": \"1962-04-16\", \"correspondence\": 1.0}, {\"threshold\": 40, \"start_issue\": \"1962-04-23\", \"correspondence\": 0.9523809523809523}, {\"threshold\": 40, \"start_issue\": \"1962-04-30\", \"correspondence\": 0.9642857142857143}, {\"threshold\": 40, \"start_issue\": \"1962-05-07\", \"correspondence\": 0.96}, {\"threshold\": 40, \"start_issue\": \"1962-05-14\", \"correspondence\": 0.9411764705882353}, {\"threshold\": 40, \"start_issue\": \"1962-05-21\", \"correspondence\": 0.9615384615384616}, {\"threshold\": 40, \"start_issue\": \"1962-05-28\", \"correspondence\": 0.9666666666666667}, {\"threshold\": 40, \"start_issue\": \"1962-06-04\", \"correspondence\": 0.9565217391304348}, {\"threshold\": 40, \"start_issue\": \"1962-06-11\", \"correspondence\": 0.9473684210526315}, {\"threshold\": 40, \"start_issue\": \"1962-06-18\", \"correspondence\": 0.95}, {\"threshold\": 40, \"start_issue\": \"1962-06-25\", \"correspondence\": 0.9583333333333334}, {\"threshold\": 45, \"start_issue\": \"1962-01-01\", \"correspondence\": 1.0}, {\"threshold\": 45, \"start_issue\": \"1962-01-08\", \"correspondence\": 0.9333333333333333}, {\"threshold\": 45, \"start_issue\": \"1962-01-15\", \"correspondence\": 0.9285714285714286}, {\"threshold\": 45, \"start_issue\": \"1962-01-22\", \"correspondence\": 0.95}, {\"threshold\": 45, \"start_issue\": \"1962-01-29\", \"correspondence\": 0.9230769230769231}, {\"threshold\": 45, \"start_issue\": \"1962-02-05\", \"correspondence\": 0.9333333333333333}, {\"threshold\": 45, \"start_issue\": \"1962-02-12\", \"correspondence\": 0.9523809523809523}, {\"threshold\": 45, \"start_issue\": \"1962-02-19\", \"correspondence\": 0.9473684210526315}, {\"threshold\": 45, \"start_issue\": \"1962-02-26\", \"correspondence\": 0.9333333333333333}, {\"threshold\": 45, \"start_issue\": \"1962-03-05\", \"correspondence\": 0.9565217391304348}, {\"threshold\": 45, \"start_issue\": \"1962-03-12\", \"correspondence\": 0.9444444444444444}, {\"threshold\": 45, \"start_issue\": \"1962-03-19\", \"correspondence\": 0.9545454545454546}, {\"threshold\": 45, \"start_issue\": \"1962-03-26\", \"correspondence\": 0.9523809523809523}, {\"threshold\": 45, \"start_issue\": \"1962-04-02\", \"correspondence\": 0.9523809523809523}, {\"threshold\": 45, \"start_issue\": \"1962-04-09\", \"correspondence\": 0.9615384615384616}, {\"threshold\": 45, \"start_issue\": \"1962-04-16\", \"correspondence\": 1.0}, {\"threshold\": 45, \"start_issue\": \"1962-04-23\", \"correspondence\": 0.9523809523809523}, {\"threshold\": 45, \"start_issue\": \"1962-04-30\", \"correspondence\": 0.9642857142857143}, {\"threshold\": 45, \"start_issue\": \"1962-05-07\", \"correspondence\": 0.96}, {\"threshold\": 45, \"start_issue\": \"1962-05-14\", \"correspondence\": 0.9411764705882353}, {\"threshold\": 45, \"start_issue\": \"1962-05-21\", \"correspondence\": 0.9615384615384616}, {\"threshold\": 45, \"start_issue\": \"1962-05-28\", \"correspondence\": 0.9655172413793104}, {\"threshold\": 45, \"start_issue\": \"1962-06-04\", \"correspondence\": 0.9565217391304348}, {\"threshold\": 45, \"start_issue\": \"1962-06-11\", \"correspondence\": 0.9473684210526315}, {\"threshold\": 45, \"start_issue\": \"1962-06-18\", \"correspondence\": 0.95}, {\"threshold\": 45, \"start_issue\": \"1962-06-25\", \"correspondence\": 0.9583333333333334}, {\"threshold\": 50, \"start_issue\": \"1962-01-01\", \"correspondence\": 1.0}, {\"threshold\": 50, \"start_issue\": \"1962-01-08\", \"correspondence\": 0.9230769230769231}, {\"threshold\": 50, \"start_issue\": \"1962-01-15\", \"correspondence\": 0.9285714285714286}, {\"threshold\": 50, \"start_issue\": \"1962-01-22\", \"correspondence\": 0.9444444444444444}, {\"threshold\": 50, \"start_issue\": \"1962-01-29\", \"correspondence\": 0.9090909090909091}, {\"threshold\": 50, \"start_issue\": \"1962-02-05\", \"correspondence\": 0.9285714285714286}, {\"threshold\": 50, \"start_issue\": \"1962-02-12\", \"correspondence\": 0.9523809523809523}, {\"threshold\": 50, \"start_issue\": \"1962-02-19\", \"correspondence\": 0.9411764705882353}, {\"threshold\": 50, \"start_issue\": \"1962-02-26\", \"correspondence\": 0.9333333333333333}, {\"threshold\": 50, \"start_issue\": \"1962-03-05\", \"correspondence\": 0.9565217391304348}, {\"threshold\": 50, \"start_issue\": \"1962-03-12\", \"correspondence\": 0.9444444444444444}, {\"threshold\": 50, \"start_issue\": \"1962-03-19\", \"correspondence\": 0.95}, {\"threshold\": 50, \"start_issue\": \"1962-03-26\", \"correspondence\": 0.95}, {\"threshold\": 50, \"start_issue\": \"1962-04-02\", \"correspondence\": 0.95}, {\"threshold\": 50, \"start_issue\": \"1962-04-09\", \"correspondence\": 0.9615384615384616}, {\"threshold\": 50, \"start_issue\": \"1962-04-16\", \"correspondence\": 1.0}, {\"threshold\": 50, \"start_issue\": \"1962-04-23\", \"correspondence\": 0.9523809523809523}, {\"threshold\": 50, \"start_issue\": \"1962-04-30\", \"correspondence\": 0.9642857142857143}, {\"threshold\": 50, \"start_issue\": \"1962-05-07\", \"correspondence\": 0.96}, {\"threshold\": 50, \"start_issue\": \"1962-05-14\", \"correspondence\": 0.9411764705882353}, {\"threshold\": 50, \"start_issue\": \"1962-05-21\", \"correspondence\": 0.9615384615384616}, {\"threshold\": 50, \"start_issue\": \"1962-05-28\", \"correspondence\": 0.9642857142857143}, {\"threshold\": 50, \"start_issue\": \"1962-06-04\", \"correspondence\": 0.9545454545454546}, {\"threshold\": 50, \"start_issue\": \"1962-06-11\", \"correspondence\": 0.9444444444444444}, {\"threshold\": 50, \"start_issue\": \"1962-06-18\", \"correspondence\": 0.9473684210526315}, {\"threshold\": 50, \"start_issue\": \"1962-06-25\", \"correspondence\": 0.9583333333333334}, {\"threshold\": 55, \"start_issue\": \"1962-01-01\", \"correspondence\": 1.0}, {\"threshold\": 55, \"start_issue\": \"1962-01-08\", \"correspondence\": 0.9166666666666666}, {\"threshold\": 55, \"start_issue\": \"1962-01-15\", \"correspondence\": 0.9285714285714286}, {\"threshold\": 55, \"start_issue\": \"1962-01-22\", \"correspondence\": 0.9444444444444444}, {\"threshold\": 55, \"start_issue\": \"1962-01-29\", \"correspondence\": 0.9090909090909091}, {\"threshold\": 55, \"start_issue\": \"1962-02-05\", \"correspondence\": 0.9285714285714286}, {\"threshold\": 55, \"start_issue\": \"1962-02-12\", \"correspondence\": 0.95}, {\"threshold\": 55, \"start_issue\": \"1962-02-19\", \"correspondence\": 0.9285714285714286}, {\"threshold\": 55, \"start_issue\": \"1962-02-26\", \"correspondence\": 0.9333333333333333}, {\"threshold\": 55, \"start_issue\": \"1962-03-05\", \"correspondence\": 0.9545454545454546}, {\"threshold\": 55, \"start_issue\": \"1962-03-12\", \"correspondence\": 0.9444444444444444}, {\"threshold\": 55, \"start_issue\": \"1962-03-19\", \"correspondence\": 0.95}, {\"threshold\": 55, \"start_issue\": \"1962-03-26\", \"correspondence\": 0.95}, {\"threshold\": 55, \"start_issue\": \"1962-04-02\", \"correspondence\": 0.95}, {\"threshold\": 55, \"start_issue\": \"1962-04-09\", \"correspondence\": 0.9583333333333334}, {\"threshold\": 55, \"start_issue\": \"1962-04-16\", \"correspondence\": 1.0}, {\"threshold\": 55, \"start_issue\": \"1962-04-23\", \"correspondence\": 0.9523809523809523}, {\"threshold\": 55, \"start_issue\": \"1962-04-30\", \"correspondence\": 0.9642857142857143}, {\"threshold\": 55, \"start_issue\": \"1962-05-07\", \"correspondence\": 0.96}, {\"threshold\": 55, \"start_issue\": \"1962-05-14\", \"correspondence\": 0.9411764705882353}, {\"threshold\": 55, \"start_issue\": \"1962-05-21\", \"correspondence\": 0.9615384615384616}, {\"threshold\": 55, \"start_issue\": \"1962-05-28\", \"correspondence\": 0.9642857142857143}, {\"threshold\": 55, \"start_issue\": \"1962-06-04\", \"correspondence\": 0.95}, {\"threshold\": 55, \"start_issue\": \"1962-06-11\", \"correspondence\": 0.9444444444444444}, {\"threshold\": 55, \"start_issue\": \"1962-06-18\", \"correspondence\": 0.9473684210526315}, {\"threshold\": 55, \"start_issue\": \"1962-06-25\", \"correspondence\": 0.9565217391304348}, {\"threshold\": 60, \"start_issue\": \"1962-01-01\", \"correspondence\": 1.0}, {\"threshold\": 60, \"start_issue\": \"1962-01-08\", \"correspondence\": 0.9166666666666666}, {\"threshold\": 60, \"start_issue\": \"1962-01-15\", \"correspondence\": 0.9230769230769231}, {\"threshold\": 60, \"start_issue\": \"1962-01-22\", \"correspondence\": 0.9444444444444444}, {\"threshold\": 60, \"start_issue\": \"1962-01-29\", \"correspondence\": 0.9}, {\"threshold\": 60, \"start_issue\": \"1962-02-05\", \"correspondence\": 0.9285714285714286}, {\"threshold\": 60, \"start_issue\": \"1962-02-12\", \"correspondence\": 0.9473684210526315}, {\"threshold\": 60, \"start_issue\": \"1962-02-19\", \"correspondence\": 0.9230769230769231}, {\"threshold\": 60, \"start_issue\": \"1962-02-26\", \"correspondence\": 0.9333333333333333}, {\"threshold\": 60, \"start_issue\": \"1962-03-05\", \"correspondence\": 0.9545454545454546}, {\"threshold\": 60, \"start_issue\": \"1962-03-12\", \"correspondence\": 0.9411764705882353}, {\"threshold\": 60, \"start_issue\": \"1962-03-19\", \"correspondence\": 0.95}, {\"threshold\": 60, \"start_issue\": \"1962-03-26\", \"correspondence\": 0.9411764705882353}, {\"threshold\": 60, \"start_issue\": \"1962-04-02\", \"correspondence\": 0.95}, {\"threshold\": 60, \"start_issue\": \"1962-04-09\", \"correspondence\": 0.9583333333333334}, {\"threshold\": 60, \"start_issue\": \"1962-04-16\", \"correspondence\": 1.0}, {\"threshold\": 60, \"start_issue\": \"1962-04-23\", \"correspondence\": 0.9523809523809523}, {\"threshold\": 60, \"start_issue\": \"1962-04-30\", \"correspondence\": 0.9642857142857143}, {\"threshold\": 60, \"start_issue\": \"1962-05-07\", \"correspondence\": 0.96}, {\"threshold\": 60, \"start_issue\": \"1962-05-14\", \"correspondence\": 0.9411764705882353}, {\"threshold\": 60, \"start_issue\": \"1962-05-21\", \"correspondence\": 0.96}, {\"threshold\": 60, \"start_issue\": \"1962-05-28\", \"correspondence\": 0.9642857142857143}, {\"threshold\": 60, \"start_issue\": \"1962-06-04\", \"correspondence\": 0.95}, {\"threshold\": 60, \"start_issue\": \"1962-06-11\", \"correspondence\": 0.9375}, {\"threshold\": 60, \"start_issue\": \"1962-06-18\", \"correspondence\": 0.9444444444444444}, {\"threshold\": 60, \"start_issue\": \"1962-06-25\", \"correspondence\": 0.9565217391304348}, {\"threshold\": 70, \"start_issue\": \"1962-01-01\", \"correspondence\": 1.0}, {\"threshold\": 70, \"start_issue\": \"1962-01-08\", \"correspondence\": 0.9166666666666666}, {\"threshold\": 70, \"start_issue\": \"1962-01-15\", \"correspondence\": 0.9090909090909091}, {\"threshold\": 70, \"start_issue\": \"1962-01-22\", \"correspondence\": 0.9375}, {\"threshold\": 70, \"start_issue\": \"1962-01-29\", \"correspondence\": 0.8888888888888888}, {\"threshold\": 70, \"start_issue\": \"1962-02-05\", \"correspondence\": 0.9230769230769231}, {\"threshold\": 70, \"start_issue\": \"1962-02-12\", \"correspondence\": 0.9411764705882353}, {\"threshold\": 70, \"start_issue\": \"1962-02-19\", \"correspondence\": 0.9166666666666666}, {\"threshold\": 70, \"start_issue\": \"1962-02-26\", \"correspondence\": 0.9285714285714286}, {\"threshold\": 70, \"start_issue\": \"1962-03-05\", \"correspondence\": 0.9473684210526315}, {\"threshold\": 70, \"start_issue\": \"1962-03-12\", \"correspondence\": 0.9375}, {\"threshold\": 70, \"start_issue\": \"1962-03-19\", \"correspondence\": 0.95}, {\"threshold\": 70, \"start_issue\": \"1962-03-26\", \"correspondence\": 0.9411764705882353}, {\"threshold\": 70, \"start_issue\": \"1962-04-02\", \"correspondence\": 0.9444444444444444}, {\"threshold\": 70, \"start_issue\": \"1962-04-09\", \"correspondence\": 0.9565217391304348}, {\"threshold\": 70, \"start_issue\": \"1962-04-16\", \"correspondence\": 1.0}, {\"threshold\": 70, \"start_issue\": \"1962-04-23\", \"correspondence\": 0.95}, {\"threshold\": 70, \"start_issue\": \"1962-04-30\", \"correspondence\": 0.9642857142857143}, {\"threshold\": 70, \"start_issue\": \"1962-05-07\", \"correspondence\": 0.96}, {\"threshold\": 70, \"start_issue\": \"1962-05-14\", \"correspondence\": 0.9375}, {\"threshold\": 70, \"start_issue\": \"1962-05-21\", \"correspondence\": 0.9545454545454546}, {\"threshold\": 70, \"start_issue\": \"1962-05-28\", \"correspondence\": 0.9629629629629629}, {\"threshold\": 70, \"start_issue\": \"1962-06-04\", \"correspondence\": 0.95}, {\"threshold\": 70, \"start_issue\": \"1962-06-11\", \"correspondence\": 0.9375}, {\"threshold\": 70, \"start_issue\": \"1962-06-18\", \"correspondence\": 0.9375}, {\"threshold\": 70, \"start_issue\": \"1962-06-25\", \"correspondence\": 0.9523809523809523}, {\"threshold\": 80, \"start_issue\": \"1962-01-01\", \"correspondence\": 1.0}, {\"threshold\": 80, \"start_issue\": \"1962-01-08\", \"correspondence\": 0.9166666666666666}, {\"threshold\": 80, \"start_issue\": \"1962-01-15\", \"correspondence\": 0.8888888888888888}, {\"threshold\": 80, \"start_issue\": \"1962-01-22\", \"correspondence\": 0.9230769230769231}, {\"threshold\": 80, \"start_issue\": \"1962-01-29\", \"correspondence\": 0.8888888888888888}, {\"threshold\": 80, \"start_issue\": \"1962-02-05\", \"correspondence\": 0.9230769230769231}, {\"threshold\": 80, \"start_issue\": \"1962-02-12\", \"correspondence\": 0.9375}, {\"threshold\": 80, \"start_issue\": \"1962-02-19\", \"correspondence\": 0.9166666666666666}, {\"threshold\": 80, \"start_issue\": \"1962-02-26\", \"correspondence\": 0.9230769230769231}, {\"threshold\": 80, \"start_issue\": \"1962-03-05\", \"correspondence\": 0.9375}, {\"threshold\": 80, \"start_issue\": \"1962-03-12\", \"correspondence\": 0.9285714285714286}, {\"threshold\": 80, \"start_issue\": \"1962-03-19\", \"correspondence\": 0.9411764705882353}, {\"threshold\": 80, \"start_issue\": \"1962-03-26\", \"correspondence\": 0.9411764705882353}, {\"threshold\": 80, \"start_issue\": \"1962-04-02\", \"correspondence\": 0.9411764705882353}, {\"threshold\": 80, \"start_issue\": \"1962-04-09\", \"correspondence\": 0.9565217391304348}, {\"threshold\": 80, \"start_issue\": \"1962-04-16\", \"correspondence\": 1.0}, {\"threshold\": 80, \"start_issue\": \"1962-04-23\", \"correspondence\": 0.95}, {\"threshold\": 80, \"start_issue\": \"1962-04-30\", \"correspondence\": 0.9629629629629629}, {\"threshold\": 80, \"start_issue\": \"1962-05-07\", \"correspondence\": 0.9523809523809523}, {\"threshold\": 80, \"start_issue\": \"1962-05-14\", \"correspondence\": 0.9333333333333333}, {\"threshold\": 80, \"start_issue\": \"1962-05-21\", \"correspondence\": 0.9545454545454546}, {\"threshold\": 80, \"start_issue\": \"1962-05-28\", \"correspondence\": 0.9629629629629629}, {\"threshold\": 80, \"start_issue\": \"1962-06-04\", \"correspondence\": 0.95}, {\"threshold\": 80, \"start_issue\": \"1962-06-11\", \"correspondence\": 0.9375}, {\"threshold\": 80, \"start_issue\": \"1962-06-18\", \"correspondence\": 0.9375}, {\"threshold\": 80, \"start_issue\": \"1962-06-25\", \"correspondence\": 0.9473684210526315}, {\"threshold\": 90, \"start_issue\": \"1962-01-01\", \"correspondence\": 1.0}, {\"threshold\": 90, \"start_issue\": \"1962-01-08\", \"correspondence\": 0.9166666666666666}, {\"threshold\": 90, \"start_issue\": \"1962-01-15\", \"correspondence\": 0.8571428571428571}, {\"threshold\": 90, \"start_issue\": \"1962-01-22\", \"correspondence\": 1.0}, {\"threshold\": 90, \"start_issue\": \"1962-01-29\", \"correspondence\": 0.8888888888888888}, {\"threshold\": 90, \"start_issue\": \"1962-02-05\", \"correspondence\": 0.9166666666666666}, {\"threshold\": 90, \"start_issue\": \"1962-02-12\", \"correspondence\": 0.9333333333333333}, {\"threshold\": 90, \"start_issue\": \"1962-02-19\", \"correspondence\": 0.9090909090909091}, {\"threshold\": 90, \"start_issue\": \"1962-02-26\", \"correspondence\": 0.9166666666666666}, {\"threshold\": 90, \"start_issue\": \"1962-03-05\", \"correspondence\": 0.9375}, {\"threshold\": 90, \"start_issue\": \"1962-03-12\", \"correspondence\": 0.9166666666666666}, {\"threshold\": 90, \"start_issue\": \"1962-03-19\", \"correspondence\": 1.0}, {\"threshold\": 90, \"start_issue\": \"1962-03-26\", \"correspondence\": 0.9411764705882353}, {\"threshold\": 90, \"start_issue\": \"1962-04-02\", \"correspondence\": 0.9411764705882353}, {\"threshold\": 90, \"start_issue\": \"1962-04-09\", \"correspondence\": 0.9545454545454546}, {\"threshold\": 90, \"start_issue\": \"1962-04-16\", \"correspondence\": 1.0}, {\"threshold\": 90, \"start_issue\": \"1962-04-23\", \"correspondence\": 0.9473684210526315}, {\"threshold\": 90, \"start_issue\": \"1962-04-30\", \"correspondence\": 0.96}, {\"threshold\": 90, \"start_issue\": \"1962-05-07\", \"correspondence\": 0.9523809523809523}, {\"threshold\": 90, \"start_issue\": \"1962-05-14\", \"correspondence\": 0.9285714285714286}, {\"threshold\": 90, \"start_issue\": \"1962-05-21\", \"correspondence\": 0.9545454545454546}, {\"threshold\": 90, \"start_issue\": \"1962-05-28\", \"correspondence\": 0.96}, {\"threshold\": 90, \"start_issue\": \"1962-06-04\", \"correspondence\": 0.95}, {\"threshold\": 90, \"start_issue\": \"1962-06-11\", \"correspondence\": 0.9333333333333333}, {\"threshold\": 90, \"start_issue\": \"1962-06-18\", \"correspondence\": 0.9375}, {\"threshold\": 90, \"start_issue\": \"1962-06-25\", \"correspondence\": 0.9333333333333333}, {\"threshold\": 100, \"start_issue\": \"1962-01-01\", \"correspondence\": 1.0}, {\"threshold\": 100, \"start_issue\": \"1962-01-08\", \"correspondence\": 0.9166666666666666}, {\"threshold\": 100, \"start_issue\": \"1962-01-15\", \"correspondence\": 0.8571428571428571}, {\"threshold\": 100, \"start_issue\": \"1962-01-22\", \"correspondence\": 1.0}, {\"threshold\": 100, \"start_issue\": \"1962-01-29\", \"correspondence\": 0.8571428571428571}, {\"threshold\": 100, \"start_issue\": \"1962-02-05\", \"correspondence\": 0.8888888888888888}, {\"threshold\": 100, \"start_issue\": \"1962-02-12\", \"correspondence\": 0.9230769230769231}, {\"threshold\": 100, \"start_issue\": \"1962-02-19\", \"correspondence\": 0.9090909090909091}, {\"threshold\": 100, \"start_issue\": \"1962-02-26\", \"correspondence\": 0.9166666666666666}, {\"threshold\": 100, \"start_issue\": \"1962-03-05\", \"correspondence\": 0.9333333333333333}, {\"threshold\": 100, \"start_issue\": \"1962-03-12\", \"correspondence\": 0.9090909090909091}, {\"threshold\": 100, \"start_issue\": \"1962-03-19\", \"correspondence\": 1.0}, {\"threshold\": 100, \"start_issue\": \"1962-03-26\", \"correspondence\": 0.9411764705882353}, {\"threshold\": 100, \"start_issue\": \"1962-04-02\", \"correspondence\": 0.9375}, {\"threshold\": 100, \"start_issue\": \"1962-04-09\", \"correspondence\": 0.9523809523809523}, {\"threshold\": 100, \"start_issue\": \"1962-04-16\", \"correspondence\": 1.0}, {\"threshold\": 100, \"start_issue\": \"1962-04-23\", \"correspondence\": 1.0}, {\"threshold\": 100, \"start_issue\": \"1962-04-30\", \"correspondence\": 0.9565217391304348}, {\"threshold\": 100, \"start_issue\": \"1962-05-07\", \"correspondence\": 0.95}, {\"threshold\": 100, \"start_issue\": \"1962-05-14\", \"correspondence\": 0.9230769230769231}, {\"threshold\": 100, \"start_issue\": \"1962-05-21\", \"correspondence\": 0.95}, {\"threshold\": 100, \"start_issue\": \"1962-05-28\", \"correspondence\": 0.96}, {\"threshold\": 100, \"start_issue\": \"1962-06-04\", \"correspondence\": 0.9473684210526315}, {\"threshold\": 100, \"start_issue\": \"1962-06-11\", \"correspondence\": 0.9285714285714286}, {\"threshold\": 100, \"start_issue\": \"1962-06-18\", \"correspondence\": 0.9333333333333333}, {\"threshold\": 100, \"start_issue\": \"1962-06-25\", \"correspondence\": 0.9333333333333333}]}}, {\"mode\": \"vega-lite\"});\n",
       "</script>"
      ],
      "text/plain": [
       "alt.Chart(...)"
      ]
     },
     "execution_count": 12,
     "metadata": {},
     "output_type": "execute_result"
    }
   ],
   "source": [
    "correspondence_df = boundaries_df.groupby(['threshold', 'start_issue']).apply(\n",
    "    lambda x: (x['status_issue_number'] == x['temp_issue_number']).mean()\n",
    ").reset_index(name='correspondence')\n",
    "\n",
    "chart = alt.Chart(correspondence_df).mark_point(filled=True).encode(\n",
    "    x='start_issue:T',\n",
    "    y='correspondence:Q',\n",
    "\tcolor='threshold:N',\n",
    "    tooltip=['threshold', 'correspondence', 'start_issue:T']\n",
    ").properties(\n",
    "    title='Correspondence between status_issue_number and temp_issue_number by Threshold'\n",
    ")\n",
    "\n",
    "chart"
   ]
  },
  {
   "cell_type": "code",
   "execution_count": 13,
   "metadata": {},
   "outputs": [
    {
     "data": {
      "text/html": [
       "<div>\n",
       "<style scoped>\n",
       "    .dataframe tbody tr th:only-of-type {\n",
       "        vertical-align: middle;\n",
       "    }\n",
       "\n",
       "    .dataframe tbody tr th {\n",
       "        vertical-align: top;\n",
       "    }\n",
       "\n",
       "    .dataframe thead th {\n",
       "        text-align: right;\n",
       "    }\n",
       "</style>\n",
       "<table border=\"1\" class=\"dataframe\">\n",
       "  <thead>\n",
       "    <tr style=\"text-align: right;\">\n",
       "      <th></th>\n",
       "      <th>threshold</th>\n",
       "      <th>mean</th>\n",
       "      <th>std</th>\n",
       "      <th>var</th>\n",
       "      <th>cv</th>\n",
       "    </tr>\n",
       "  </thead>\n",
       "  <tbody>\n",
       "    <tr>\n",
       "      <th>0</th>\n",
       "      <td>20</td>\n",
       "      <td>0.967323</td>\n",
       "      <td>0.007398</td>\n",
       "      <td>0.000055</td>\n",
       "      <td>0.007648</td>\n",
       "    </tr>\n",
       "    <tr>\n",
       "      <th>1</th>\n",
       "      <td>25</td>\n",
       "      <td>0.963427</td>\n",
       "      <td>0.008683</td>\n",
       "      <td>0.000075</td>\n",
       "      <td>0.009012</td>\n",
       "    </tr>\n",
       "    <tr>\n",
       "      <th>2</th>\n",
       "      <td>30</td>\n",
       "      <td>0.959754</td>\n",
       "      <td>0.013828</td>\n",
       "      <td>0.000191</td>\n",
       "      <td>0.014408</td>\n",
       "    </tr>\n",
       "    <tr>\n",
       "      <th>3</th>\n",
       "      <td>35</td>\n",
       "      <td>0.957851</td>\n",
       "      <td>0.014633</td>\n",
       "      <td>0.000214</td>\n",
       "      <td>0.015276</td>\n",
       "    </tr>\n",
       "    <tr>\n",
       "      <th>4</th>\n",
       "      <td>40</td>\n",
       "      <td>0.954807</td>\n",
       "      <td>0.016763</td>\n",
       "      <td>0.000281</td>\n",
       "      <td>0.017556</td>\n",
       "    </tr>\n",
       "    <tr>\n",
       "      <th>5</th>\n",
       "      <td>45</td>\n",
       "      <td>0.953090</td>\n",
       "      <td>0.017777</td>\n",
       "      <td>0.000316</td>\n",
       "      <td>0.018652</td>\n",
       "    </tr>\n",
       "    <tr>\n",
       "      <th>6</th>\n",
       "      <td>50</td>\n",
       "      <td>0.950827</td>\n",
       "      <td>0.019749</td>\n",
       "      <td>0.000390</td>\n",
       "      <td>0.020770</td>\n",
       "    </tr>\n",
       "    <tr>\n",
       "      <th>7</th>\n",
       "      <td>55</td>\n",
       "      <td>0.949561</td>\n",
       "      <td>0.020388</td>\n",
       "      <td>0.000416</td>\n",
       "      <td>0.021471</td>\n",
       "    </tr>\n",
       "    <tr>\n",
       "      <th>8</th>\n",
       "      <td>60</td>\n",
       "      <td>0.947783</td>\n",
       "      <td>0.021794</td>\n",
       "      <td>0.000475</td>\n",
       "      <td>0.022995</td>\n",
       "    </tr>\n",
       "    <tr>\n",
       "      <th>9</th>\n",
       "      <td>70</td>\n",
       "      <td>0.944051</td>\n",
       "      <td>0.024008</td>\n",
       "      <td>0.000576</td>\n",
       "      <td>0.025431</td>\n",
       "    </tr>\n",
       "    <tr>\n",
       "      <th>10</th>\n",
       "      <td>80</td>\n",
       "      <td>0.940481</td>\n",
       "      <td>0.025704</td>\n",
       "      <td>0.000661</td>\n",
       "      <td>0.027331</td>\n",
       "    </tr>\n",
       "    <tr>\n",
       "      <th>11</th>\n",
       "      <td>90</td>\n",
       "      <td>0.941791</td>\n",
       "      <td>0.033904</td>\n",
       "      <td>0.001149</td>\n",
       "      <td>0.036000</td>\n",
       "    </tr>\n",
       "    <tr>\n",
       "      <th>12</th>\n",
       "      <td>100</td>\n",
       "      <td>0.939399</td>\n",
       "      <td>0.039627</td>\n",
       "      <td>0.001570</td>\n",
       "      <td>0.042184</td>\n",
       "    </tr>\n",
       "  </tbody>\n",
       "</table>\n",
       "</div>"
      ],
      "text/plain": [
       "    threshold      mean       std       var        cv\n",
       "0          20  0.967323  0.007398  0.000055  0.007648\n",
       "1          25  0.963427  0.008683  0.000075  0.009012\n",
       "2          30  0.959754  0.013828  0.000191  0.014408\n",
       "3          35  0.957851  0.014633  0.000214  0.015276\n",
       "4          40  0.954807  0.016763  0.000281  0.017556\n",
       "5          45  0.953090  0.017777  0.000316  0.018652\n",
       "6          50  0.950827  0.019749  0.000390  0.020770\n",
       "7          55  0.949561  0.020388  0.000416  0.021471\n",
       "8          60  0.947783  0.021794  0.000475  0.022995\n",
       "9          70  0.944051  0.024008  0.000576  0.025431\n",
       "10         80  0.940481  0.025704  0.000661  0.027331\n",
       "11         90  0.941791  0.033904  0.001149  0.036000\n",
       "12        100  0.939399  0.039627  0.001570  0.042184"
      ]
     },
     "execution_count": 13,
     "metadata": {},
     "output_type": "execute_result"
    }
   ],
   "source": [
    "# Calculate mean, standard deviation, variance, and coefficient of variation\n",
    "stats_df = correspondence_df.groupby('threshold').correspondence.aggregate(\n",
    "    mean='mean',\n",
    "    std='std',\n",
    "    var='var',\n",
    "    cv=lambda x: x.std() / x.mean()\n",
    ").reset_index()\n",
    "\n",
    "stats_df"
   ]
  },
  {
   "cell_type": "code",
   "execution_count": 35,
   "metadata": {},
   "outputs": [
    {
     "name": "stderr",
     "output_type": "stream",
     "text": [
      "Initializing Raw Scores: 100%|██████████| 5065/5065 [00:00<00:00, 29739.01it/s]\n"
     ]
    },
    {
     "data": {
      "text/html": [
       "<pre style=\"white-space:pre;overflow-x:auto;line-height:normal;font-family:Menlo,'DejaVu Sans Mono',consolas,'Courier New',monospace\">Score at <span style=\"font-weight: bold\">[</span><span style=\"color: #008080; text-decoration-color: #008080; font-weight: bold\">0</span>,<span style=\"color: #008080; text-decoration-color: #008080; font-weight: bold\">0</span><span style=\"font-weight: bold\">]</span>: <span style=\"color: #008080; text-decoration-color: #008080; font-weight: bold\">0.01</span>\n",
       "</pre>\n"
      ],
      "text/plain": [
       "Score at \u001b[1m[\u001b[0m\u001b[1;36m0\u001b[0m,\u001b[1;36m0\u001b[0m\u001b[1m]\u001b[0m: \u001b[1;36m0.01\u001b[0m\n"
      ]
     },
     "metadata": {},
     "output_type": "display_data"
    },
    {
     "data": {
      "text/html": [
       "<pre style=\"white-space:pre;overflow-x:auto;line-height:normal;font-family:Menlo,'DejaVu Sans Mono',consolas,'Courier New',monospace\">Score at <span style=\"font-weight: bold\">[</span><span style=\"color: #008080; text-decoration-color: #008080; font-weight: bold\">0</span>,<span style=\"color: #008080; text-decoration-color: #008080; font-weight: bold\">1</span><span style=\"font-weight: bold\">]</span>: <span style=\"color: #008080; text-decoration-color: #008080; font-weight: bold\">0.01</span>\n",
       "</pre>\n"
      ],
      "text/plain": [
       "Score at \u001b[1m[\u001b[0m\u001b[1;36m0\u001b[0m,\u001b[1;36m1\u001b[0m\u001b[1m]\u001b[0m: \u001b[1;36m0.01\u001b[0m\n"
      ]
     },
     "metadata": {},
     "output_type": "display_data"
    },
    {
     "data": {
      "text/html": [
       "<pre style=\"white-space:pre;overflow-x:auto;line-height:normal;font-family:Menlo,'DejaVu Sans Mono',consolas,'Courier New',monospace\">Score at <span style=\"font-weight: bold\">[</span><span style=\"color: #008080; text-decoration-color: #008080; font-weight: bold\">0</span>,<span style=\"color: #008080; text-decoration-color: #008080; font-weight: bold\">2</span><span style=\"font-weight: bold\">]</span>: <span style=\"color: #008080; text-decoration-color: #008080; font-weight: bold\">0.01</span>\n",
       "</pre>\n"
      ],
      "text/plain": [
       "Score at \u001b[1m[\u001b[0m\u001b[1;36m0\u001b[0m,\u001b[1;36m2\u001b[0m\u001b[1m]\u001b[0m: \u001b[1;36m0.01\u001b[0m\n"
      ]
     },
     "metadata": {},
     "output_type": "display_data"
    },
    {
     "data": {
      "text/html": [
       "<pre style=\"white-space:pre;overflow-x:auto;line-height:normal;font-family:Menlo,'DejaVu Sans Mono',consolas,'Courier New',monospace\">Score at <span style=\"font-weight: bold\">[</span><span style=\"color: #008080; text-decoration-color: #008080; font-weight: bold\">0</span>,<span style=\"color: #008080; text-decoration-color: #008080; font-weight: bold\">3</span><span style=\"font-weight: bold\">]</span>: <span style=\"color: #008080; text-decoration-color: #008080; font-weight: bold\">0.01</span>\n",
       "</pre>\n"
      ],
      "text/plain": [
       "Score at \u001b[1m[\u001b[0m\u001b[1;36m0\u001b[0m,\u001b[1;36m3\u001b[0m\u001b[1m]\u001b[0m: \u001b[1;36m0.01\u001b[0m\n"
      ]
     },
     "metadata": {},
     "output_type": "display_data"
    },
    {
     "data": {
      "text/html": [
       "<pre style=\"white-space:pre;overflow-x:auto;line-height:normal;font-family:Menlo,'DejaVu Sans Mono',consolas,'Courier New',monospace\">Score at <span style=\"font-weight: bold\">[</span><span style=\"color: #008080; text-decoration-color: #008080; font-weight: bold\">0</span>,<span style=\"color: #008080; text-decoration-color: #008080; font-weight: bold\">4</span><span style=\"font-weight: bold\">]</span>: <span style=\"color: #008080; text-decoration-color: #008080; font-weight: bold\">0.01</span>\n",
       "</pre>\n"
      ],
      "text/plain": [
       "Score at \u001b[1m[\u001b[0m\u001b[1;36m0\u001b[0m,\u001b[1;36m4\u001b[0m\u001b[1m]\u001b[0m: \u001b[1;36m0.01\u001b[0m\n"
      ]
     },
     "metadata": {},
     "output_type": "display_data"
    },
    {
     "data": {
      "text/html": [
       "<pre style=\"white-space:pre;overflow-x:auto;line-height:normal;font-family:Menlo,'DejaVu Sans Mono',consolas,'Courier New',monospace\">Score at <span style=\"font-weight: bold\">[</span><span style=\"color: #008080; text-decoration-color: #008080; font-weight: bold\">1</span>,<span style=\"color: #008080; text-decoration-color: #008080; font-weight: bold\">0</span><span style=\"font-weight: bold\">]</span>: <span style=\"color: #008080; text-decoration-color: #008080; font-weight: bold\">0.01</span>\n",
       "</pre>\n"
      ],
      "text/plain": [
       "Score at \u001b[1m[\u001b[0m\u001b[1;36m1\u001b[0m,\u001b[1;36m0\u001b[0m\u001b[1m]\u001b[0m: \u001b[1;36m0.01\u001b[0m\n"
      ]
     },
     "metadata": {},
     "output_type": "display_data"
    },
    {
     "data": {
      "text/html": [
       "<pre style=\"white-space:pre;overflow-x:auto;line-height:normal;font-family:Menlo,'DejaVu Sans Mono',consolas,'Courier New',monospace\">Score at <span style=\"font-weight: bold\">[</span><span style=\"color: #008080; text-decoration-color: #008080; font-weight: bold\">1</span>,<span style=\"color: #008080; text-decoration-color: #008080; font-weight: bold\">1</span><span style=\"font-weight: bold\">]</span>: <span style=\"color: #008080; text-decoration-color: #008080; font-weight: bold\">0.01</span>\n",
       "</pre>\n"
      ],
      "text/plain": [
       "Score at \u001b[1m[\u001b[0m\u001b[1;36m1\u001b[0m,\u001b[1;36m1\u001b[0m\u001b[1m]\u001b[0m: \u001b[1;36m0.01\u001b[0m\n"
      ]
     },
     "metadata": {},
     "output_type": "display_data"
    },
    {
     "data": {
      "text/html": [
       "<pre style=\"white-space:pre;overflow-x:auto;line-height:normal;font-family:Menlo,'DejaVu Sans Mono',consolas,'Courier New',monospace\">Score at <span style=\"font-weight: bold\">[</span><span style=\"color: #008080; text-decoration-color: #008080; font-weight: bold\">1</span>,<span style=\"color: #008080; text-decoration-color: #008080; font-weight: bold\">2</span><span style=\"font-weight: bold\">]</span>: <span style=\"color: #008080; text-decoration-color: #008080; font-weight: bold\">0.01</span>\n",
       "</pre>\n"
      ],
      "text/plain": [
       "Score at \u001b[1m[\u001b[0m\u001b[1;36m1\u001b[0m,\u001b[1;36m2\u001b[0m\u001b[1m]\u001b[0m: \u001b[1;36m0.01\u001b[0m\n"
      ]
     },
     "metadata": {},
     "output_type": "display_data"
    },
    {
     "data": {
      "text/html": [
       "<pre style=\"white-space:pre;overflow-x:auto;line-height:normal;font-family:Menlo,'DejaVu Sans Mono',consolas,'Courier New',monospace\">Score at <span style=\"font-weight: bold\">[</span><span style=\"color: #008080; text-decoration-color: #008080; font-weight: bold\">1</span>,<span style=\"color: #008080; text-decoration-color: #008080; font-weight: bold\">3</span><span style=\"font-weight: bold\">]</span>: <span style=\"color: #008080; text-decoration-color: #008080; font-weight: bold\">0.01</span>\n",
       "</pre>\n"
      ],
      "text/plain": [
       "Score at \u001b[1m[\u001b[0m\u001b[1;36m1\u001b[0m,\u001b[1;36m3\u001b[0m\u001b[1m]\u001b[0m: \u001b[1;36m0.01\u001b[0m\n"
      ]
     },
     "metadata": {},
     "output_type": "display_data"
    },
    {
     "data": {
      "text/html": [
       "<pre style=\"white-space:pre;overflow-x:auto;line-height:normal;font-family:Menlo,'DejaVu Sans Mono',consolas,'Courier New',monospace\">Score at <span style=\"font-weight: bold\">[</span><span style=\"color: #008080; text-decoration-color: #008080; font-weight: bold\">1</span>,<span style=\"color: #008080; text-decoration-color: #008080; font-weight: bold\">4</span><span style=\"font-weight: bold\">]</span>: <span style=\"color: #008080; text-decoration-color: #008080; font-weight: bold\">0.01</span>\n",
       "</pre>\n"
      ],
      "text/plain": [
       "Score at \u001b[1m[\u001b[0m\u001b[1;36m1\u001b[0m,\u001b[1;36m4\u001b[0m\u001b[1m]\u001b[0m: \u001b[1;36m0.01\u001b[0m\n"
      ]
     },
     "metadata": {},
     "output_type": "display_data"
    },
    {
     "data": {
      "text/html": [
       "<pre style=\"white-space:pre;overflow-x:auto;line-height:normal;font-family:Menlo,'DejaVu Sans Mono',consolas,'Courier New',monospace\">Score at <span style=\"font-weight: bold\">[</span><span style=\"color: #008080; text-decoration-color: #008080; font-weight: bold\">2</span>,<span style=\"color: #008080; text-decoration-color: #008080; font-weight: bold\">0</span><span style=\"font-weight: bold\">]</span>: <span style=\"color: #008080; text-decoration-color: #008080; font-weight: bold\">0.01</span>\n",
       "</pre>\n"
      ],
      "text/plain": [
       "Score at \u001b[1m[\u001b[0m\u001b[1;36m2\u001b[0m,\u001b[1;36m0\u001b[0m\u001b[1m]\u001b[0m: \u001b[1;36m0.01\u001b[0m\n"
      ]
     },
     "metadata": {},
     "output_type": "display_data"
    },
    {
     "data": {
      "text/html": [
       "<pre style=\"white-space:pre;overflow-x:auto;line-height:normal;font-family:Menlo,'DejaVu Sans Mono',consolas,'Courier New',monospace\">Score at <span style=\"font-weight: bold\">[</span><span style=\"color: #008080; text-decoration-color: #008080; font-weight: bold\">2</span>,<span style=\"color: #008080; text-decoration-color: #008080; font-weight: bold\">1</span><span style=\"font-weight: bold\">]</span>: <span style=\"color: #008080; text-decoration-color: #008080; font-weight: bold\">0.01</span>\n",
       "</pre>\n"
      ],
      "text/plain": [
       "Score at \u001b[1m[\u001b[0m\u001b[1;36m2\u001b[0m,\u001b[1;36m1\u001b[0m\u001b[1m]\u001b[0m: \u001b[1;36m0.01\u001b[0m\n"
      ]
     },
     "metadata": {},
     "output_type": "display_data"
    },
    {
     "data": {
      "text/html": [
       "<pre style=\"white-space:pre;overflow-x:auto;line-height:normal;font-family:Menlo,'DejaVu Sans Mono',consolas,'Courier New',monospace\">Score at <span style=\"font-weight: bold\">[</span><span style=\"color: #008080; text-decoration-color: #008080; font-weight: bold\">2</span>,<span style=\"color: #008080; text-decoration-color: #008080; font-weight: bold\">2</span><span style=\"font-weight: bold\">]</span>: <span style=\"color: #008080; text-decoration-color: #008080; font-weight: bold\">0.01</span>\n",
       "</pre>\n"
      ],
      "text/plain": [
       "Score at \u001b[1m[\u001b[0m\u001b[1;36m2\u001b[0m,\u001b[1;36m2\u001b[0m\u001b[1m]\u001b[0m: \u001b[1;36m0.01\u001b[0m\n"
      ]
     },
     "metadata": {},
     "output_type": "display_data"
    },
    {
     "data": {
      "text/html": [
       "<pre style=\"white-space:pre;overflow-x:auto;line-height:normal;font-family:Menlo,'DejaVu Sans Mono',consolas,'Courier New',monospace\">Score at <span style=\"font-weight: bold\">[</span><span style=\"color: #008080; text-decoration-color: #008080; font-weight: bold\">2</span>,<span style=\"color: #008080; text-decoration-color: #008080; font-weight: bold\">3</span><span style=\"font-weight: bold\">]</span>: <span style=\"color: #008080; text-decoration-color: #008080; font-weight: bold\">0.01</span>\n",
       "</pre>\n"
      ],
      "text/plain": [
       "Score at \u001b[1m[\u001b[0m\u001b[1;36m2\u001b[0m,\u001b[1;36m3\u001b[0m\u001b[1m]\u001b[0m: \u001b[1;36m0.01\u001b[0m\n"
      ]
     },
     "metadata": {},
     "output_type": "display_data"
    },
    {
     "data": {
      "text/html": [
       "<pre style=\"white-space:pre;overflow-x:auto;line-height:normal;font-family:Menlo,'DejaVu Sans Mono',consolas,'Courier New',monospace\">Score at <span style=\"font-weight: bold\">[</span><span style=\"color: #008080; text-decoration-color: #008080; font-weight: bold\">2</span>,<span style=\"color: #008080; text-decoration-color: #008080; font-weight: bold\">4</span><span style=\"font-weight: bold\">]</span>: <span style=\"color: #008080; text-decoration-color: #008080; font-weight: bold\">0.01</span>\n",
       "</pre>\n"
      ],
      "text/plain": [
       "Score at \u001b[1m[\u001b[0m\u001b[1;36m2\u001b[0m,\u001b[1;36m4\u001b[0m\u001b[1m]\u001b[0m: \u001b[1;36m0.01\u001b[0m\n"
      ]
     },
     "metadata": {},
     "output_type": "display_data"
    },
    {
     "data": {
      "text/html": [
       "<pre style=\"white-space:pre;overflow-x:auto;line-height:normal;font-family:Menlo,'DejaVu Sans Mono',consolas,'Courier New',monospace\">Score at <span style=\"font-weight: bold\">[</span><span style=\"color: #008080; text-decoration-color: #008080; font-weight: bold\">3</span>,<span style=\"color: #008080; text-decoration-color: #008080; font-weight: bold\">0</span><span style=\"font-weight: bold\">]</span>: <span style=\"color: #008080; text-decoration-color: #008080; font-weight: bold\">0.01</span>\n",
       "</pre>\n"
      ],
      "text/plain": [
       "Score at \u001b[1m[\u001b[0m\u001b[1;36m3\u001b[0m,\u001b[1;36m0\u001b[0m\u001b[1m]\u001b[0m: \u001b[1;36m0.01\u001b[0m\n"
      ]
     },
     "metadata": {},
     "output_type": "display_data"
    },
    {
     "data": {
      "text/html": [
       "<pre style=\"white-space:pre;overflow-x:auto;line-height:normal;font-family:Menlo,'DejaVu Sans Mono',consolas,'Courier New',monospace\">Score at <span style=\"font-weight: bold\">[</span><span style=\"color: #008080; text-decoration-color: #008080; font-weight: bold\">3</span>,<span style=\"color: #008080; text-decoration-color: #008080; font-weight: bold\">1</span><span style=\"font-weight: bold\">]</span>: <span style=\"color: #008080; text-decoration-color: #008080; font-weight: bold\">0.01</span>\n",
       "</pre>\n"
      ],
      "text/plain": [
       "Score at \u001b[1m[\u001b[0m\u001b[1;36m3\u001b[0m,\u001b[1;36m1\u001b[0m\u001b[1m]\u001b[0m: \u001b[1;36m0.01\u001b[0m\n"
      ]
     },
     "metadata": {},
     "output_type": "display_data"
    },
    {
     "data": {
      "text/html": [
       "<pre style=\"white-space:pre;overflow-x:auto;line-height:normal;font-family:Menlo,'DejaVu Sans Mono',consolas,'Courier New',monospace\">Score at <span style=\"font-weight: bold\">[</span><span style=\"color: #008080; text-decoration-color: #008080; font-weight: bold\">3</span>,<span style=\"color: #008080; text-decoration-color: #008080; font-weight: bold\">2</span><span style=\"font-weight: bold\">]</span>: <span style=\"color: #008080; text-decoration-color: #008080; font-weight: bold\">0.01</span>\n",
       "</pre>\n"
      ],
      "text/plain": [
       "Score at \u001b[1m[\u001b[0m\u001b[1;36m3\u001b[0m,\u001b[1;36m2\u001b[0m\u001b[1m]\u001b[0m: \u001b[1;36m0.01\u001b[0m\n"
      ]
     },
     "metadata": {},
     "output_type": "display_data"
    },
    {
     "data": {
      "text/html": [
       "<pre style=\"white-space:pre;overflow-x:auto;line-height:normal;font-family:Menlo,'DejaVu Sans Mono',consolas,'Courier New',monospace\">Score at <span style=\"font-weight: bold\">[</span><span style=\"color: #008080; text-decoration-color: #008080; font-weight: bold\">3</span>,<span style=\"color: #008080; text-decoration-color: #008080; font-weight: bold\">3</span><span style=\"font-weight: bold\">]</span>: <span style=\"color: #008080; text-decoration-color: #008080; font-weight: bold\">0.01</span>\n",
       "</pre>\n"
      ],
      "text/plain": [
       "Score at \u001b[1m[\u001b[0m\u001b[1;36m3\u001b[0m,\u001b[1;36m3\u001b[0m\u001b[1m]\u001b[0m: \u001b[1;36m0.01\u001b[0m\n"
      ]
     },
     "metadata": {},
     "output_type": "display_data"
    },
    {
     "data": {
      "text/html": [
       "<pre style=\"white-space:pre;overflow-x:auto;line-height:normal;font-family:Menlo,'DejaVu Sans Mono',consolas,'Courier New',monospace\">Score at <span style=\"font-weight: bold\">[</span><span style=\"color: #008080; text-decoration-color: #008080; font-weight: bold\">3</span>,<span style=\"color: #008080; text-decoration-color: #008080; font-weight: bold\">4</span><span style=\"font-weight: bold\">]</span>: <span style=\"color: #008080; text-decoration-color: #008080; font-weight: bold\">0.01</span>\n",
       "</pre>\n"
      ],
      "text/plain": [
       "Score at \u001b[1m[\u001b[0m\u001b[1;36m3\u001b[0m,\u001b[1;36m4\u001b[0m\u001b[1m]\u001b[0m: \u001b[1;36m0.01\u001b[0m\n"
      ]
     },
     "metadata": {},
     "output_type": "display_data"
    },
    {
     "data": {
      "text/html": [
       "<pre style=\"white-space:pre;overflow-x:auto;line-height:normal;font-family:Menlo,'DejaVu Sans Mono',consolas,'Courier New',monospace\">Score at <span style=\"font-weight: bold\">[</span><span style=\"color: #008080; text-decoration-color: #008080; font-weight: bold\">4</span>,<span style=\"color: #008080; text-decoration-color: #008080; font-weight: bold\">0</span><span style=\"font-weight: bold\">]</span>: <span style=\"color: #008080; text-decoration-color: #008080; font-weight: bold\">0.01</span>\n",
       "</pre>\n"
      ],
      "text/plain": [
       "Score at \u001b[1m[\u001b[0m\u001b[1;36m4\u001b[0m,\u001b[1;36m0\u001b[0m\u001b[1m]\u001b[0m: \u001b[1;36m0.01\u001b[0m\n"
      ]
     },
     "metadata": {},
     "output_type": "display_data"
    },
    {
     "data": {
      "text/html": [
       "<pre style=\"white-space:pre;overflow-x:auto;line-height:normal;font-family:Menlo,'DejaVu Sans Mono',consolas,'Courier New',monospace\">Score at <span style=\"font-weight: bold\">[</span><span style=\"color: #008080; text-decoration-color: #008080; font-weight: bold\">4</span>,<span style=\"color: #008080; text-decoration-color: #008080; font-weight: bold\">1</span><span style=\"font-weight: bold\">]</span>: <span style=\"color: #008080; text-decoration-color: #008080; font-weight: bold\">0.01</span>\n",
       "</pre>\n"
      ],
      "text/plain": [
       "Score at \u001b[1m[\u001b[0m\u001b[1;36m4\u001b[0m,\u001b[1;36m1\u001b[0m\u001b[1m]\u001b[0m: \u001b[1;36m0.01\u001b[0m\n"
      ]
     },
     "metadata": {},
     "output_type": "display_data"
    },
    {
     "data": {
      "text/html": [
       "<pre style=\"white-space:pre;overflow-x:auto;line-height:normal;font-family:Menlo,'DejaVu Sans Mono',consolas,'Courier New',monospace\">Score at <span style=\"font-weight: bold\">[</span><span style=\"color: #008080; text-decoration-color: #008080; font-weight: bold\">4</span>,<span style=\"color: #008080; text-decoration-color: #008080; font-weight: bold\">2</span><span style=\"font-weight: bold\">]</span>: <span style=\"color: #008080; text-decoration-color: #008080; font-weight: bold\">0.01</span>\n",
       "</pre>\n"
      ],
      "text/plain": [
       "Score at \u001b[1m[\u001b[0m\u001b[1;36m4\u001b[0m,\u001b[1;36m2\u001b[0m\u001b[1m]\u001b[0m: \u001b[1;36m0.01\u001b[0m\n"
      ]
     },
     "metadata": {},
     "output_type": "display_data"
    },
    {
     "data": {
      "text/html": [
       "<pre style=\"white-space:pre;overflow-x:auto;line-height:normal;font-family:Menlo,'DejaVu Sans Mono',consolas,'Courier New',monospace\">Score at <span style=\"font-weight: bold\">[</span><span style=\"color: #008080; text-decoration-color: #008080; font-weight: bold\">4</span>,<span style=\"color: #008080; text-decoration-color: #008080; font-weight: bold\">3</span><span style=\"font-weight: bold\">]</span>: <span style=\"color: #008080; text-decoration-color: #008080; font-weight: bold\">0.01</span>\n",
       "</pre>\n"
      ],
      "text/plain": [
       "Score at \u001b[1m[\u001b[0m\u001b[1;36m4\u001b[0m,\u001b[1;36m3\u001b[0m\u001b[1m]\u001b[0m: \u001b[1;36m0.01\u001b[0m\n"
      ]
     },
     "metadata": {},
     "output_type": "display_data"
    },
    {
     "data": {
      "text/html": [
       "<pre style=\"white-space:pre;overflow-x:auto;line-height:normal;font-family:Menlo,'DejaVu Sans Mono',consolas,'Courier New',monospace\">Score at <span style=\"font-weight: bold\">[</span><span style=\"color: #008080; text-decoration-color: #008080; font-weight: bold\">4</span>,<span style=\"color: #008080; text-decoration-color: #008080; font-weight: bold\">4</span><span style=\"font-weight: bold\">]</span>: <span style=\"color: #008080; text-decoration-color: #008080; font-weight: bold\">0.01</span>\n",
       "</pre>\n"
      ],
      "text/plain": [
       "Score at \u001b[1m[\u001b[0m\u001b[1;36m4\u001b[0m,\u001b[1;36m4\u001b[0m\u001b[1m]\u001b[0m: \u001b[1;36m0.01\u001b[0m\n"
      ]
     },
     "metadata": {},
     "output_type": "display_data"
    },
    {
     "data": {
      "text/html": [
       "<pre style=\"white-space:pre;overflow-x:auto;line-height:normal;font-family:Menlo,'DejaVu Sans Mono',consolas,'Courier New',monospace\">Score at <span style=\"font-weight: bold\">[</span><span style=\"color: #008080; text-decoration-color: #008080; font-weight: bold\">0</span>,<span style=\"color: #008080; text-decoration-color: #008080; font-weight: bold\">0</span><span style=\"font-weight: bold\">]</span>: <span style=\"color: #008080; text-decoration-color: #008080; font-weight: bold\">1.01</span>\n",
       "</pre>\n"
      ],
      "text/plain": [
       "Score at \u001b[1m[\u001b[0m\u001b[1;36m0\u001b[0m,\u001b[1;36m0\u001b[0m\u001b[1m]\u001b[0m: \u001b[1;36m1.01\u001b[0m\n"
      ]
     },
     "metadata": {},
     "output_type": "display_data"
    },
    {
     "data": {
      "text/html": [
       "<pre style=\"white-space:pre;overflow-x:auto;line-height:normal;font-family:Menlo,'DejaVu Sans Mono',consolas,'Courier New',monospace\">Score at <span style=\"font-weight: bold\">[</span><span style=\"color: #008080; text-decoration-color: #008080; font-weight: bold\">0</span>,<span style=\"color: #008080; text-decoration-color: #008080; font-weight: bold\">1</span><span style=\"font-weight: bold\">]</span>: <span style=\"color: #008080; text-decoration-color: #008080; font-weight: bold\">0.51</span>\n",
       "</pre>\n"
      ],
      "text/plain": [
       "Score at \u001b[1m[\u001b[0m\u001b[1;36m0\u001b[0m,\u001b[1;36m1\u001b[0m\u001b[1m]\u001b[0m: \u001b[1;36m0.51\u001b[0m\n"
      ]
     },
     "metadata": {},
     "output_type": "display_data"
    },
    {
     "data": {
      "text/html": [
       "<pre style=\"white-space:pre;overflow-x:auto;line-height:normal;font-family:Menlo,'DejaVu Sans Mono',consolas,'Courier New',monospace\">Score at <span style=\"font-weight: bold\">[</span><span style=\"color: #008080; text-decoration-color: #008080; font-weight: bold\">0</span>,<span style=\"color: #008080; text-decoration-color: #008080; font-weight: bold\">2</span><span style=\"font-weight: bold\">]</span>: <span style=\"color: #008080; text-decoration-color: #008080; font-weight: bold\">0.01</span>\n",
       "</pre>\n"
      ],
      "text/plain": [
       "Score at \u001b[1m[\u001b[0m\u001b[1;36m0\u001b[0m,\u001b[1;36m2\u001b[0m\u001b[1m]\u001b[0m: \u001b[1;36m0.01\u001b[0m\n"
      ]
     },
     "metadata": {},
     "output_type": "display_data"
    },
    {
     "data": {
      "text/html": [
       "<pre style=\"white-space:pre;overflow-x:auto;line-height:normal;font-family:Menlo,'DejaVu Sans Mono',consolas,'Courier New',monospace\">Score at <span style=\"font-weight: bold\">[</span><span style=\"color: #008080; text-decoration-color: #008080; font-weight: bold\">0</span>,<span style=\"color: #008080; text-decoration-color: #008080; font-weight: bold\">3</span><span style=\"font-weight: bold\">]</span>: <span style=\"color: #008080; text-decoration-color: #008080; font-weight: bold\">0.01</span>\n",
       "</pre>\n"
      ],
      "text/plain": [
       "Score at \u001b[1m[\u001b[0m\u001b[1;36m0\u001b[0m,\u001b[1;36m3\u001b[0m\u001b[1m]\u001b[0m: \u001b[1;36m0.01\u001b[0m\n"
      ]
     },
     "metadata": {},
     "output_type": "display_data"
    },
    {
     "data": {
      "text/html": [
       "<pre style=\"white-space:pre;overflow-x:auto;line-height:normal;font-family:Menlo,'DejaVu Sans Mono',consolas,'Courier New',monospace\">Score at <span style=\"font-weight: bold\">[</span><span style=\"color: #008080; text-decoration-color: #008080; font-weight: bold\">0</span>,<span style=\"color: #008080; text-decoration-color: #008080; font-weight: bold\">4</span><span style=\"font-weight: bold\">]</span>: <span style=\"color: #008080; text-decoration-color: #008080; font-weight: bold\">0.01</span>\n",
       "</pre>\n"
      ],
      "text/plain": [
       "Score at \u001b[1m[\u001b[0m\u001b[1;36m0\u001b[0m,\u001b[1;36m4\u001b[0m\u001b[1m]\u001b[0m: \u001b[1;36m0.01\u001b[0m\n"
      ]
     },
     "metadata": {},
     "output_type": "display_data"
    },
    {
     "data": {
      "text/html": [
       "<pre style=\"white-space:pre;overflow-x:auto;line-height:normal;font-family:Menlo,'DejaVu Sans Mono',consolas,'Courier New',monospace\">Score at <span style=\"font-weight: bold\">[</span><span style=\"color: #008080; text-decoration-color: #008080; font-weight: bold\">1</span>,<span style=\"color: #008080; text-decoration-color: #008080; font-weight: bold\">0</span><span style=\"font-weight: bold\">]</span>: <span style=\"color: #008080; text-decoration-color: #008080; font-weight: bold\">0.51</span>\n",
       "</pre>\n"
      ],
      "text/plain": [
       "Score at \u001b[1m[\u001b[0m\u001b[1;36m1\u001b[0m,\u001b[1;36m0\u001b[0m\u001b[1m]\u001b[0m: \u001b[1;36m0.51\u001b[0m\n"
      ]
     },
     "metadata": {},
     "output_type": "display_data"
    },
    {
     "data": {
      "text/html": [
       "<pre style=\"white-space:pre;overflow-x:auto;line-height:normal;font-family:Menlo,'DejaVu Sans Mono',consolas,'Courier New',monospace\">Score at <span style=\"font-weight: bold\">[</span><span style=\"color: #008080; text-decoration-color: #008080; font-weight: bold\">1</span>,<span style=\"color: #008080; text-decoration-color: #008080; font-weight: bold\">1</span><span style=\"font-weight: bold\">]</span>: <span style=\"color: #008080; text-decoration-color: #008080; font-weight: bold\">0.26</span>\n",
       "</pre>\n"
      ],
      "text/plain": [
       "Score at \u001b[1m[\u001b[0m\u001b[1;36m1\u001b[0m,\u001b[1;36m1\u001b[0m\u001b[1m]\u001b[0m: \u001b[1;36m0.26\u001b[0m\n"
      ]
     },
     "metadata": {},
     "output_type": "display_data"
    },
    {
     "data": {
      "text/html": [
       "<pre style=\"white-space:pre;overflow-x:auto;line-height:normal;font-family:Menlo,'DejaVu Sans Mono',consolas,'Courier New',monospace\">Score at <span style=\"font-weight: bold\">[</span><span style=\"color: #008080; text-decoration-color: #008080; font-weight: bold\">1</span>,<span style=\"color: #008080; text-decoration-color: #008080; font-weight: bold\">2</span><span style=\"font-weight: bold\">]</span>: <span style=\"color: #008080; text-decoration-color: #008080; font-weight: bold\">0.01</span>\n",
       "</pre>\n"
      ],
      "text/plain": [
       "Score at \u001b[1m[\u001b[0m\u001b[1;36m1\u001b[0m,\u001b[1;36m2\u001b[0m\u001b[1m]\u001b[0m: \u001b[1;36m0.01\u001b[0m\n"
      ]
     },
     "metadata": {},
     "output_type": "display_data"
    },
    {
     "data": {
      "text/html": [
       "<pre style=\"white-space:pre;overflow-x:auto;line-height:normal;font-family:Menlo,'DejaVu Sans Mono',consolas,'Courier New',monospace\">Score at <span style=\"font-weight: bold\">[</span><span style=\"color: #008080; text-decoration-color: #008080; font-weight: bold\">1</span>,<span style=\"color: #008080; text-decoration-color: #008080; font-weight: bold\">3</span><span style=\"font-weight: bold\">]</span>: <span style=\"color: #008080; text-decoration-color: #008080; font-weight: bold\">0.01</span>\n",
       "</pre>\n"
      ],
      "text/plain": [
       "Score at \u001b[1m[\u001b[0m\u001b[1;36m1\u001b[0m,\u001b[1;36m3\u001b[0m\u001b[1m]\u001b[0m: \u001b[1;36m0.01\u001b[0m\n"
      ]
     },
     "metadata": {},
     "output_type": "display_data"
    },
    {
     "data": {
      "text/html": [
       "<pre style=\"white-space:pre;overflow-x:auto;line-height:normal;font-family:Menlo,'DejaVu Sans Mono',consolas,'Courier New',monospace\">Score at <span style=\"font-weight: bold\">[</span><span style=\"color: #008080; text-decoration-color: #008080; font-weight: bold\">1</span>,<span style=\"color: #008080; text-decoration-color: #008080; font-weight: bold\">4</span><span style=\"font-weight: bold\">]</span>: <span style=\"color: #008080; text-decoration-color: #008080; font-weight: bold\">0.01</span>\n",
       "</pre>\n"
      ],
      "text/plain": [
       "Score at \u001b[1m[\u001b[0m\u001b[1;36m1\u001b[0m,\u001b[1;36m4\u001b[0m\u001b[1m]\u001b[0m: \u001b[1;36m0.01\u001b[0m\n"
      ]
     },
     "metadata": {},
     "output_type": "display_data"
    },
    {
     "data": {
      "text/html": [
       "<pre style=\"white-space:pre;overflow-x:auto;line-height:normal;font-family:Menlo,'DejaVu Sans Mono',consolas,'Courier New',monospace\">Score at <span style=\"font-weight: bold\">[</span><span style=\"color: #008080; text-decoration-color: #008080; font-weight: bold\">2</span>,<span style=\"color: #008080; text-decoration-color: #008080; font-weight: bold\">0</span><span style=\"font-weight: bold\">]</span>: <span style=\"color: #008080; text-decoration-color: #008080; font-weight: bold\">0.01</span>\n",
       "</pre>\n"
      ],
      "text/plain": [
       "Score at \u001b[1m[\u001b[0m\u001b[1;36m2\u001b[0m,\u001b[1;36m0\u001b[0m\u001b[1m]\u001b[0m: \u001b[1;36m0.01\u001b[0m\n"
      ]
     },
     "metadata": {},
     "output_type": "display_data"
    },
    {
     "data": {
      "text/html": [
       "<pre style=\"white-space:pre;overflow-x:auto;line-height:normal;font-family:Menlo,'DejaVu Sans Mono',consolas,'Courier New',monospace\">Score at <span style=\"font-weight: bold\">[</span><span style=\"color: #008080; text-decoration-color: #008080; font-weight: bold\">2</span>,<span style=\"color: #008080; text-decoration-color: #008080; font-weight: bold\">1</span><span style=\"font-weight: bold\">]</span>: <span style=\"color: #008080; text-decoration-color: #008080; font-weight: bold\">0.01</span>\n",
       "</pre>\n"
      ],
      "text/plain": [
       "Score at \u001b[1m[\u001b[0m\u001b[1;36m2\u001b[0m,\u001b[1;36m1\u001b[0m\u001b[1m]\u001b[0m: \u001b[1;36m0.01\u001b[0m\n"
      ]
     },
     "metadata": {},
     "output_type": "display_data"
    },
    {
     "data": {
      "text/html": [
       "<pre style=\"white-space:pre;overflow-x:auto;line-height:normal;font-family:Menlo,'DejaVu Sans Mono',consolas,'Courier New',monospace\">Score at <span style=\"font-weight: bold\">[</span><span style=\"color: #008080; text-decoration-color: #008080; font-weight: bold\">2</span>,<span style=\"color: #008080; text-decoration-color: #008080; font-weight: bold\">2</span><span style=\"font-weight: bold\">]</span>: <span style=\"color: #008080; text-decoration-color: #008080; font-weight: bold\">0.01</span>\n",
       "</pre>\n"
      ],
      "text/plain": [
       "Score at \u001b[1m[\u001b[0m\u001b[1;36m2\u001b[0m,\u001b[1;36m2\u001b[0m\u001b[1m]\u001b[0m: \u001b[1;36m0.01\u001b[0m\n"
      ]
     },
     "metadata": {},
     "output_type": "display_data"
    },
    {
     "data": {
      "text/html": [
       "<pre style=\"white-space:pre;overflow-x:auto;line-height:normal;font-family:Menlo,'DejaVu Sans Mono',consolas,'Courier New',monospace\">Score at <span style=\"font-weight: bold\">[</span><span style=\"color: #008080; text-decoration-color: #008080; font-weight: bold\">2</span>,<span style=\"color: #008080; text-decoration-color: #008080; font-weight: bold\">3</span><span style=\"font-weight: bold\">]</span>: <span style=\"color: #008080; text-decoration-color: #008080; font-weight: bold\">0.01</span>\n",
       "</pre>\n"
      ],
      "text/plain": [
       "Score at \u001b[1m[\u001b[0m\u001b[1;36m2\u001b[0m,\u001b[1;36m3\u001b[0m\u001b[1m]\u001b[0m: \u001b[1;36m0.01\u001b[0m\n"
      ]
     },
     "metadata": {},
     "output_type": "display_data"
    },
    {
     "data": {
      "text/html": [
       "<pre style=\"white-space:pre;overflow-x:auto;line-height:normal;font-family:Menlo,'DejaVu Sans Mono',consolas,'Courier New',monospace\">Score at <span style=\"font-weight: bold\">[</span><span style=\"color: #008080; text-decoration-color: #008080; font-weight: bold\">2</span>,<span style=\"color: #008080; text-decoration-color: #008080; font-weight: bold\">4</span><span style=\"font-weight: bold\">]</span>: <span style=\"color: #008080; text-decoration-color: #008080; font-weight: bold\">0.01</span>\n",
       "</pre>\n"
      ],
      "text/plain": [
       "Score at \u001b[1m[\u001b[0m\u001b[1;36m2\u001b[0m,\u001b[1;36m4\u001b[0m\u001b[1m]\u001b[0m: \u001b[1;36m0.01\u001b[0m\n"
      ]
     },
     "metadata": {},
     "output_type": "display_data"
    },
    {
     "data": {
      "text/html": [
       "<pre style=\"white-space:pre;overflow-x:auto;line-height:normal;font-family:Menlo,'DejaVu Sans Mono',consolas,'Courier New',monospace\">Score at <span style=\"font-weight: bold\">[</span><span style=\"color: #008080; text-decoration-color: #008080; font-weight: bold\">3</span>,<span style=\"color: #008080; text-decoration-color: #008080; font-weight: bold\">0</span><span style=\"font-weight: bold\">]</span>: <span style=\"color: #008080; text-decoration-color: #008080; font-weight: bold\">0.01</span>\n",
       "</pre>\n"
      ],
      "text/plain": [
       "Score at \u001b[1m[\u001b[0m\u001b[1;36m3\u001b[0m,\u001b[1;36m0\u001b[0m\u001b[1m]\u001b[0m: \u001b[1;36m0.01\u001b[0m\n"
      ]
     },
     "metadata": {},
     "output_type": "display_data"
    },
    {
     "data": {
      "text/html": [
       "<pre style=\"white-space:pre;overflow-x:auto;line-height:normal;font-family:Menlo,'DejaVu Sans Mono',consolas,'Courier New',monospace\">Score at <span style=\"font-weight: bold\">[</span><span style=\"color: #008080; text-decoration-color: #008080; font-weight: bold\">3</span>,<span style=\"color: #008080; text-decoration-color: #008080; font-weight: bold\">1</span><span style=\"font-weight: bold\">]</span>: <span style=\"color: #008080; text-decoration-color: #008080; font-weight: bold\">0.01</span>\n",
       "</pre>\n"
      ],
      "text/plain": [
       "Score at \u001b[1m[\u001b[0m\u001b[1;36m3\u001b[0m,\u001b[1;36m1\u001b[0m\u001b[1m]\u001b[0m: \u001b[1;36m0.01\u001b[0m\n"
      ]
     },
     "metadata": {},
     "output_type": "display_data"
    },
    {
     "data": {
      "text/html": [
       "<pre style=\"white-space:pre;overflow-x:auto;line-height:normal;font-family:Menlo,'DejaVu Sans Mono',consolas,'Courier New',monospace\">Score at <span style=\"font-weight: bold\">[</span><span style=\"color: #008080; text-decoration-color: #008080; font-weight: bold\">3</span>,<span style=\"color: #008080; text-decoration-color: #008080; font-weight: bold\">2</span><span style=\"font-weight: bold\">]</span>: <span style=\"color: #008080; text-decoration-color: #008080; font-weight: bold\">0.01</span>\n",
       "</pre>\n"
      ],
      "text/plain": [
       "Score at \u001b[1m[\u001b[0m\u001b[1;36m3\u001b[0m,\u001b[1;36m2\u001b[0m\u001b[1m]\u001b[0m: \u001b[1;36m0.01\u001b[0m\n"
      ]
     },
     "metadata": {},
     "output_type": "display_data"
    },
    {
     "data": {
      "text/html": [
       "<pre style=\"white-space:pre;overflow-x:auto;line-height:normal;font-family:Menlo,'DejaVu Sans Mono',consolas,'Courier New',monospace\">Score at <span style=\"font-weight: bold\">[</span><span style=\"color: #008080; text-decoration-color: #008080; font-weight: bold\">3</span>,<span style=\"color: #008080; text-decoration-color: #008080; font-weight: bold\">3</span><span style=\"font-weight: bold\">]</span>: <span style=\"color: #008080; text-decoration-color: #008080; font-weight: bold\">0.01</span>\n",
       "</pre>\n"
      ],
      "text/plain": [
       "Score at \u001b[1m[\u001b[0m\u001b[1;36m3\u001b[0m,\u001b[1;36m3\u001b[0m\u001b[1m]\u001b[0m: \u001b[1;36m0.01\u001b[0m\n"
      ]
     },
     "metadata": {},
     "output_type": "display_data"
    },
    {
     "data": {
      "text/html": [
       "<pre style=\"white-space:pre;overflow-x:auto;line-height:normal;font-family:Menlo,'DejaVu Sans Mono',consolas,'Courier New',monospace\">Score at <span style=\"font-weight: bold\">[</span><span style=\"color: #008080; text-decoration-color: #008080; font-weight: bold\">3</span>,<span style=\"color: #008080; text-decoration-color: #008080; font-weight: bold\">4</span><span style=\"font-weight: bold\">]</span>: <span style=\"color: #008080; text-decoration-color: #008080; font-weight: bold\">0.01</span>\n",
       "</pre>\n"
      ],
      "text/plain": [
       "Score at \u001b[1m[\u001b[0m\u001b[1;36m3\u001b[0m,\u001b[1;36m4\u001b[0m\u001b[1m]\u001b[0m: \u001b[1;36m0.01\u001b[0m\n"
      ]
     },
     "metadata": {},
     "output_type": "display_data"
    },
    {
     "data": {
      "text/html": [
       "<pre style=\"white-space:pre;overflow-x:auto;line-height:normal;font-family:Menlo,'DejaVu Sans Mono',consolas,'Courier New',monospace\">Score at <span style=\"font-weight: bold\">[</span><span style=\"color: #008080; text-decoration-color: #008080; font-weight: bold\">4</span>,<span style=\"color: #008080; text-decoration-color: #008080; font-weight: bold\">0</span><span style=\"font-weight: bold\">]</span>: <span style=\"color: #008080; text-decoration-color: #008080; font-weight: bold\">0.01</span>\n",
       "</pre>\n"
      ],
      "text/plain": [
       "Score at \u001b[1m[\u001b[0m\u001b[1;36m4\u001b[0m,\u001b[1;36m0\u001b[0m\u001b[1m]\u001b[0m: \u001b[1;36m0.01\u001b[0m\n"
      ]
     },
     "metadata": {},
     "output_type": "display_data"
    },
    {
     "data": {
      "text/html": [
       "<pre style=\"white-space:pre;overflow-x:auto;line-height:normal;font-family:Menlo,'DejaVu Sans Mono',consolas,'Courier New',monospace\">Score at <span style=\"font-weight: bold\">[</span><span style=\"color: #008080; text-decoration-color: #008080; font-weight: bold\">4</span>,<span style=\"color: #008080; text-decoration-color: #008080; font-weight: bold\">1</span><span style=\"font-weight: bold\">]</span>: <span style=\"color: #008080; text-decoration-color: #008080; font-weight: bold\">0.01</span>\n",
       "</pre>\n"
      ],
      "text/plain": [
       "Score at \u001b[1m[\u001b[0m\u001b[1;36m4\u001b[0m,\u001b[1;36m1\u001b[0m\u001b[1m]\u001b[0m: \u001b[1;36m0.01\u001b[0m\n"
      ]
     },
     "metadata": {},
     "output_type": "display_data"
    },
    {
     "data": {
      "text/html": [
       "<pre style=\"white-space:pre;overflow-x:auto;line-height:normal;font-family:Menlo,'DejaVu Sans Mono',consolas,'Courier New',monospace\">Score at <span style=\"font-weight: bold\">[</span><span style=\"color: #008080; text-decoration-color: #008080; font-weight: bold\">4</span>,<span style=\"color: #008080; text-decoration-color: #008080; font-weight: bold\">2</span><span style=\"font-weight: bold\">]</span>: <span style=\"color: #008080; text-decoration-color: #008080; font-weight: bold\">0.01</span>\n",
       "</pre>\n"
      ],
      "text/plain": [
       "Score at \u001b[1m[\u001b[0m\u001b[1;36m4\u001b[0m,\u001b[1;36m2\u001b[0m\u001b[1m]\u001b[0m: \u001b[1;36m0.01\u001b[0m\n"
      ]
     },
     "metadata": {},
     "output_type": "display_data"
    },
    {
     "data": {
      "text/html": [
       "<pre style=\"white-space:pre;overflow-x:auto;line-height:normal;font-family:Menlo,'DejaVu Sans Mono',consolas,'Courier New',monospace\">Score at <span style=\"font-weight: bold\">[</span><span style=\"color: #008080; text-decoration-color: #008080; font-weight: bold\">4</span>,<span style=\"color: #008080; text-decoration-color: #008080; font-weight: bold\">3</span><span style=\"font-weight: bold\">]</span>: <span style=\"color: #008080; text-decoration-color: #008080; font-weight: bold\">0.01</span>\n",
       "</pre>\n"
      ],
      "text/plain": [
       "Score at \u001b[1m[\u001b[0m\u001b[1;36m4\u001b[0m,\u001b[1;36m3\u001b[0m\u001b[1m]\u001b[0m: \u001b[1;36m0.01\u001b[0m\n"
      ]
     },
     "metadata": {},
     "output_type": "display_data"
    },
    {
     "data": {
      "text/html": [
       "<pre style=\"white-space:pre;overflow-x:auto;line-height:normal;font-family:Menlo,'DejaVu Sans Mono',consolas,'Courier New',monospace\">Score at <span style=\"font-weight: bold\">[</span><span style=\"color: #008080; text-decoration-color: #008080; font-weight: bold\">4</span>,<span style=\"color: #008080; text-decoration-color: #008080; font-weight: bold\">4</span><span style=\"font-weight: bold\">]</span>: <span style=\"color: #008080; text-decoration-color: #008080; font-weight: bold\">0.01</span>\n",
       "</pre>\n"
      ],
      "text/plain": [
       "Score at \u001b[1m[\u001b[0m\u001b[1;36m4\u001b[0m,\u001b[1;36m4\u001b[0m\u001b[1m]\u001b[0m: \u001b[1;36m0.01\u001b[0m\n"
      ]
     },
     "metadata": {},
     "output_type": "display_data"
    },
    {
     "data": {
      "text/html": [
       "<pre style=\"white-space:pre;overflow-x:auto;line-height:normal;font-family:Menlo,'DejaVu Sans Mono',consolas,'Courier New',monospace\">Prefix Sum detected <span style=\"color: #008080; text-decoration-color: #008080; font-weight: bold\">912</span> potential boundaries.\n",
       "</pre>\n"
      ],
      "text/plain": [
       "Prefix Sum detected \u001b[1;36m912\u001b[0m potential boundaries.\n"
      ]
     },
     "metadata": {},
     "output_type": "display_data"
    },
    {
     "data": {
      "text/html": [
       "<pre style=\"white-space:pre;overflow-x:auto;line-height:normal;font-family:Menlo,'DejaVu Sans Mono',consolas,'Courier New',monospace\">   page_number  predicted_boundary  boundary_score\n",
       "<span style=\"color: #008080; text-decoration-color: #008080; font-weight: bold\">0</span>            <span style=\"color: #008080; text-decoration-color: #008080; font-weight: bold\">7</span>                   <span style=\"color: #008080; text-decoration-color: #008080; font-weight: bold\">1</span>             <span style=\"color: #008080; text-decoration-color: #008080; font-weight: bold\">1.0</span>\n",
       "<span style=\"color: #008080; text-decoration-color: #008080; font-weight: bold\">1</span>            <span style=\"color: #008080; text-decoration-color: #008080; font-weight: bold\">9</span>                   <span style=\"color: #008080; text-decoration-color: #008080; font-weight: bold\">1</span>             <span style=\"color: #008080; text-decoration-color: #008080; font-weight: bold\">1.0</span>\n",
       "<span style=\"color: #008080; text-decoration-color: #008080; font-weight: bold\">2</span>           <span style=\"color: #008080; text-decoration-color: #008080; font-weight: bold\">10</span>                   <span style=\"color: #008080; text-decoration-color: #008080; font-weight: bold\">0</span>             <span style=\"color: #008080; text-decoration-color: #008080; font-weight: bold\">1.0</span>\n",
       "<span style=\"color: #008080; text-decoration-color: #008080; font-weight: bold\">3</span>           <span style=\"color: #008080; text-decoration-color: #008080; font-weight: bold\">11</span>                   <span style=\"color: #008080; text-decoration-color: #008080; font-weight: bold\">0</span>             <span style=\"color: #008080; text-decoration-color: #008080; font-weight: bold\">1.0</span>\n",
       "<span style=\"color: #008080; text-decoration-color: #008080; font-weight: bold\">4</span>           <span style=\"color: #008080; text-decoration-color: #008080; font-weight: bold\">12</span>                   <span style=\"color: #008080; text-decoration-color: #008080; font-weight: bold\">1</span>             <span style=\"color: #008080; text-decoration-color: #008080; font-weight: bold\">2.0</span>\n",
       "</pre>\n"
      ],
      "text/plain": [
       "   page_number  predicted_boundary  boundary_score\n",
       "\u001b[1;36m0\u001b[0m            \u001b[1;36m7\u001b[0m                   \u001b[1;36m1\u001b[0m             \u001b[1;36m1.0\u001b[0m\n",
       "\u001b[1;36m1\u001b[0m            \u001b[1;36m9\u001b[0m                   \u001b[1;36m1\u001b[0m             \u001b[1;36m1.0\u001b[0m\n",
       "\u001b[1;36m2\u001b[0m           \u001b[1;36m10\u001b[0m                   \u001b[1;36m0\u001b[0m             \u001b[1;36m1.0\u001b[0m\n",
       "\u001b[1;36m3\u001b[0m           \u001b[1;36m11\u001b[0m                   \u001b[1;36m0\u001b[0m             \u001b[1;36m1.0\u001b[0m\n",
       "\u001b[1;36m4\u001b[0m           \u001b[1;36m12\u001b[0m                   \u001b[1;36m1\u001b[0m             \u001b[1;36m2.0\u001b[0m\n"
      ]
     },
     "metadata": {},
     "output_type": "display_data"
    }
   ],
   "source": [
    "# Initialize Raw Scores Function\n",
    "def initialize_raw_scores(df):\n",
    "    max_page = df['page_number'].max()\n",
    "    max_possible_number = max_page + 25\n",
    "    raw_scores = np.zeros((max_page + 1, max_possible_number + 1), dtype=int)\n",
    "\n",
    "    raw_scores_counter = 0\n",
    "    for _, row in tqdm(df.iterrows(), total=len(df), desc=\"Initializing Raw Scores\"):\n",
    "        page = int(row['page_number'])\n",
    "        number = int(row['number']) if row['page_type'] == 'digit' else 0  # Set non-digit numbers to 0\n",
    "        \n",
    "        # Check if indices are within bounds\n",
    "        if 0 <= page <= max_page and 0 <= number <= max_possible_number:\n",
    "            raw_scores[page, number] += 1\n",
    "            raw_scores_counter += 1\n",
    "        else:\n",
    "            console.print(f\"Skipped out-of-bounds entry at page {page}, number {number}\")\n",
    "\n",
    "    return raw_scores\n",
    "\n",
    "# Prefix Sum Calculation\n",
    "def prefix_sums(raw_scores, updown=0.5, diag=0.25, otherwise=0.01, points=1.0):  # Increased points to 1.0\n",
    "    scores = raw_scores.copy()\n",
    "    nrows, ncols = raw_scores.shape\n",
    "\n",
    "    for i in range(nrows):\n",
    "        for j in range(ncols):\n",
    "            cell = otherwise + points * raw_scores[i, j]\n",
    "            choices = []\n",
    "            if j > 0:\n",
    "                choices.append(scores[i, j-1] * updown)\n",
    "            if i > 0:\n",
    "                choices.append(scores[i-1, j] * updown)\n",
    "                if j > 0:\n",
    "                    choices.append(scores[i-1, j-1] * diag)\n",
    "            cell += max(choices, default=0)\n",
    "            scores[i, j] = cell\n",
    "            # Debug: Print accumulated score for first few rows/columns\n",
    "            if i < 5 and j < 5:\n",
    "                console.print(f\"Score at [{i},{j}]: {cell}\")\n",
    "\n",
    "    return scores\n",
    "\n",
    "# Combine Forward and Backward Passes\n",
    "def combined_scores(raw_scores, backpass_weight=0.66):\n",
    "    forward = prefix_sums(raw_scores)\n",
    "    backward = prefix_sums(raw_scores[::-1, :])[::-1, :]\n",
    "    combined = backpass_weight * backward + (1 - backpass_weight) * forward\n",
    "    return combined\n",
    "\n",
    "# Predict Boundaries Using Combined Scores\n",
    "def predict_boundaries_prefix_sum(combined_scores):\n",
    "    predictions = []\n",
    "    for i in range(combined_scores.shape[0]):\n",
    "        max_score_idx = np.argmax(combined_scores[i])\n",
    "        score_at_max = combined_scores[i, max_score_idx]\n",
    "\n",
    "        # Flag boundaries with a minimum score threshold\n",
    "        if score_at_max > 0:  # Adjust this condition if needed\n",
    "            predictions.append((i, max_score_idx, score_at_max))\n",
    "\n",
    "    predictions_df = pd.DataFrame(predictions, columns=['page_number', 'predicted_boundary', 'boundary_score'])\n",
    "    return predictions_df\n",
    "\n",
    "# Apply the Prefix Sum Method to the Cleaned Data\n",
    "raw_scores = initialize_raw_scores(subset_digits)\n",
    "combined = combined_scores(raw_scores)\n",
    "prefix_sum_df = predict_boundaries_prefix_sum(combined)\n",
    "\n",
    "console.print(f\"Prefix Sum detected {len(prefix_sum_df)} potential boundaries.\")\n",
    "console.print(prefix_sum_df.head())"
   ]
  },
  {
   "cell_type": "code",
   "execution_count": 36,
   "metadata": {},
   "outputs": [
    {
     "data": {
      "text/html": [
       "<div>\n",
       "<style scoped>\n",
       "    .dataframe tbody tr th:only-of-type {\n",
       "        vertical-align: middle;\n",
       "    }\n",
       "\n",
       "    .dataframe tbody tr th {\n",
       "        vertical-align: top;\n",
       "    }\n",
       "\n",
       "    .dataframe thead th {\n",
       "        text-align: right;\n",
       "    }\n",
       "</style>\n",
       "<table border=\"1\" class=\"dataframe\">\n",
       "  <thead>\n",
       "    <tr style=\"text-align: right;\">\n",
       "      <th></th>\n",
       "      <th>page_number</th>\n",
       "      <th>predicted_boundary</th>\n",
       "      <th>boundary_score</th>\n",
       "    </tr>\n",
       "  </thead>\n",
       "  <tbody>\n",
       "    <tr>\n",
       "      <th>0</th>\n",
       "      <td>7</td>\n",
       "      <td>1</td>\n",
       "      <td>1.00</td>\n",
       "    </tr>\n",
       "    <tr>\n",
       "      <th>1</th>\n",
       "      <td>9</td>\n",
       "      <td>1</td>\n",
       "      <td>1.00</td>\n",
       "    </tr>\n",
       "    <tr>\n",
       "      <th>2</th>\n",
       "      <td>10</td>\n",
       "      <td>0</td>\n",
       "      <td>1.00</td>\n",
       "    </tr>\n",
       "    <tr>\n",
       "      <th>3</th>\n",
       "      <td>11</td>\n",
       "      <td>0</td>\n",
       "      <td>1.00</td>\n",
       "    </tr>\n",
       "    <tr>\n",
       "      <th>4</th>\n",
       "      <td>12</td>\n",
       "      <td>1</td>\n",
       "      <td>2.00</td>\n",
       "    </tr>\n",
       "    <tr>\n",
       "      <th>5</th>\n",
       "      <td>13</td>\n",
       "      <td>1</td>\n",
       "      <td>1.34</td>\n",
       "    </tr>\n",
       "    <tr>\n",
       "      <th>6</th>\n",
       "      <td>14</td>\n",
       "      <td>1</td>\n",
       "      <td>1.34</td>\n",
       "    </tr>\n",
       "    <tr>\n",
       "      <th>7</th>\n",
       "      <td>15</td>\n",
       "      <td>1</td>\n",
       "      <td>1.34</td>\n",
       "    </tr>\n",
       "    <tr>\n",
       "      <th>8</th>\n",
       "      <td>16</td>\n",
       "      <td>8</td>\n",
       "      <td>1.00</td>\n",
       "    </tr>\n",
       "    <tr>\n",
       "      <th>9</th>\n",
       "      <td>17</td>\n",
       "      <td>1</td>\n",
       "      <td>1.00</td>\n",
       "    </tr>\n",
       "  </tbody>\n",
       "</table>\n",
       "</div>"
      ],
      "text/plain": [
       "   page_number  predicted_boundary  boundary_score\n",
       "0            7                   1            1.00\n",
       "1            9                   1            1.00\n",
       "2           10                   0            1.00\n",
       "3           11                   0            1.00\n",
       "4           12                   1            2.00\n",
       "5           13                   1            1.34\n",
       "6           14                   1            1.34\n",
       "7           15                   1            1.34\n",
       "8           16                   8            1.00\n",
       "9           17                   1            1.00"
      ]
     },
     "execution_count": 36,
     "metadata": {},
     "output_type": "execute_result"
    }
   ],
   "source": [
    "prefix_sum_df.sort_values(by=['page_number', 'predicted_boundary']).head(10)"
   ]
  },
  {
   "cell_type": "code",
   "execution_count": 42,
   "metadata": {},
   "outputs": [],
   "source": [
    "subset_full_df = full_df[['page_number', 'start_issue', 'type_of_page', 'temp_issue_number']].copy().drop_duplicates()\n",
    "merged_prefix_sum_df = prefix_sum_df.merge(subset_full_df, on='page_number', how='left').sort_values(by=['page_number', 'predicted_boundary']).head(10)"
   ]
  },
  {
   "cell_type": "code",
   "execution_count": 46,
   "metadata": {},
   "outputs": [
    {
     "data": {
      "text/html": [
       "\n",
       "<style>\n",
       "  #altair-viz-2943abc53a914c269a4f296f7eb4bd02.vega-embed {\n",
       "    width: 100%;\n",
       "    display: flex;\n",
       "  }\n",
       "\n",
       "  #altair-viz-2943abc53a914c269a4f296f7eb4bd02.vega-embed details,\n",
       "  #altair-viz-2943abc53a914c269a4f296f7eb4bd02.vega-embed details summary {\n",
       "    position: relative;\n",
       "  }\n",
       "</style>\n",
       "<div id=\"altair-viz-2943abc53a914c269a4f296f7eb4bd02\"></div>\n",
       "<script type=\"text/javascript\">\n",
       "  var VEGA_DEBUG = (typeof VEGA_DEBUG == \"undefined\") ? {} : VEGA_DEBUG;\n",
       "  (function(spec, embedOpt){\n",
       "    let outputDiv = document.currentScript.previousElementSibling;\n",
       "    if (outputDiv.id !== \"altair-viz-2943abc53a914c269a4f296f7eb4bd02\") {\n",
       "      outputDiv = document.getElementById(\"altair-viz-2943abc53a914c269a4f296f7eb4bd02\");\n",
       "    }\n",
       "    const paths = {\n",
       "      \"vega\": \"https://cdn.jsdelivr.net/npm/vega@5?noext\",\n",
       "      \"vega-lib\": \"https://cdn.jsdelivr.net/npm/vega-lib?noext\",\n",
       "      \"vega-lite\": \"https://cdn.jsdelivr.net/npm/vega-lite@5.8.0?noext\",\n",
       "      \"vega-embed\": \"https://cdn.jsdelivr.net/npm/vega-embed@6?noext\",\n",
       "    };\n",
       "\n",
       "    function maybeLoadScript(lib, version) {\n",
       "      var key = `${lib.replace(\"-\", \"\")}_version`;\n",
       "      return (VEGA_DEBUG[key] == version) ?\n",
       "        Promise.resolve(paths[lib]) :\n",
       "        new Promise(function(resolve, reject) {\n",
       "          var s = document.createElement('script');\n",
       "          document.getElementsByTagName(\"head\")[0].appendChild(s);\n",
       "          s.async = true;\n",
       "          s.onload = () => {\n",
       "            VEGA_DEBUG[key] = version;\n",
       "            return resolve(paths[lib]);\n",
       "          };\n",
       "          s.onerror = () => reject(`Error loading script: ${paths[lib]}`);\n",
       "          s.src = paths[lib];\n",
       "        });\n",
       "    }\n",
       "\n",
       "    function showError(err) {\n",
       "      outputDiv.innerHTML = `<div class=\"error\" style=\"color:red;\">${err}</div>`;\n",
       "      throw err;\n",
       "    }\n",
       "\n",
       "    function displayChart(vegaEmbed) {\n",
       "      vegaEmbed(outputDiv, spec, embedOpt)\n",
       "        .catch(err => showError(`Javascript Error: ${err.message}<br>This usually means there's a typo in your chart specification. See the javascript console for the full traceback.`));\n",
       "    }\n",
       "\n",
       "    if(typeof define === \"function\" && define.amd) {\n",
       "      requirejs.config({paths});\n",
       "      require([\"vega-embed\"], displayChart, err => showError(`Error loading script: ${err.message}`));\n",
       "    } else {\n",
       "      maybeLoadScript(\"vega\", \"5\")\n",
       "        .then(() => maybeLoadScript(\"vega-lite\", \"5.8.0\"))\n",
       "        .then(() => maybeLoadScript(\"vega-embed\", \"6\"))\n",
       "        .catch(showError)\n",
       "        .then(() => displayChart(vegaEmbed));\n",
       "    }\n",
       "  })({\"config\": {\"view\": {\"continuousWidth\": 300, \"continuousHeight\": 300}}, \"layer\": [{\"mark\": {\"type\": \"line\", \"color\": \"blue\"}, \"encoding\": {\"tooltip\": [{\"field\": \"page_number\", \"type\": \"quantitative\"}, {\"field\": \"rolling_avg_score\", \"type\": \"quantitative\"}], \"x\": {\"field\": \"page_number\", \"title\": \"Page Number\", \"type\": \"quantitative\"}, \"y\": {\"field\": \"rolling_avg_score\", \"title\": \"Rolling Average Score\", \"type\": \"quantitative\"}}, \"name\": \"view_3\", \"title\": \"Actual vs. Predicted Issue Boundaries\"}, {\"mark\": {\"type\": \"point\", \"filled\": true}, \"encoding\": {\"color\": {\"field\": \"category\", \"scale\": {\"domain\": [\"Actual\", \"Predicted\"], \"range\": [\"red\", \"green\"]}, \"type\": \"nominal\"}, \"shape\": {\"field\": \"category\", \"scale\": {\"domain\": [\"Actual\", \"Predicted\"], \"range\": [\"cross\", \"circle\"]}, \"type\": \"nominal\"}, \"tooltip\": [{\"field\": \"page_number\", \"type\": \"quantitative\"}, {\"field\": \"start_issue\", \"type\": \"nominal\"}, {\"field\": \"boundary_score\", \"type\": \"quantitative\"}], \"x\": {\"field\": \"page_number\", \"title\": \"Page Number\", \"type\": \"quantitative\"}, \"y\": {\"field\": \"category\", \"scale\": {\"domain\": [\"Actual\", \"Predicted\"]}, \"title\": \"Boundary Type\", \"type\": \"nominal\"}}}], \"data\": {\"name\": \"data-f2db51484f45a5227dd93348cf74ccf1\"}, \"params\": [{\"name\": \"param_3\", \"select\": {\"type\": \"interval\", \"encodings\": [\"x\", \"y\"]}, \"bind\": \"scales\", \"views\": [\"view_3\"]}], \"$schema\": \"https://vega.github.io/schema/vega-lite/v5.8.0.json\", \"datasets\": {\"data-f2db51484f45a5227dd93348cf74ccf1\": [{\"page_number\": 7, \"predicted_boundary\": 1, \"boundary_score\": 1.0, \"rolling_avg_score\": 1.0, \"start_issue\": \"1962-01-01\", \"temp_issue_number\": 0.0, \"category\": \"Actual\"}, {\"page_number\": 9, \"predicted_boundary\": 1, \"boundary_score\": 1.0, \"rolling_avg_score\": 1.0, \"start_issue\": \"1962-01-01\", \"temp_issue_number\": 0.0, \"category\": \"Actual\"}, {\"page_number\": 10, \"predicted_boundary\": 0, \"boundary_score\": 1.0, \"rolling_avg_score\": 1.0, \"start_issue\": \"1962-01-01\", \"temp_issue_number\": 0.0, \"category\": \"Actual\"}, {\"page_number\": 11, \"predicted_boundary\": 0, \"boundary_score\": 1.0, \"rolling_avg_score\": 1.0, \"start_issue\": \"1962-01-01\", \"temp_issue_number\": 0.0, \"category\": \"Actual\"}, {\"page_number\": 12, \"predicted_boundary\": 1, \"boundary_score\": 2.0, \"rolling_avg_score\": 1.2, \"start_issue\": \"1962-01-01\", \"temp_issue_number\": 0.0, \"category\": \"Actual\"}, {\"page_number\": 13, \"predicted_boundary\": 1, \"boundary_score\": 1.3399999999999999, \"rolling_avg_score\": 1.268, \"start_issue\": \"1962-01-01\", \"temp_issue_number\": 0.0, \"category\": \"Actual\"}, {\"page_number\": 14, \"predicted_boundary\": 1, \"boundary_score\": 1.3399999999999999, \"rolling_avg_score\": 1.3359999999999999, \"start_issue\": \"1962-01-01\", \"temp_issue_number\": 0.0, \"category\": \"Actual\"}, {\"page_number\": 15, \"predicted_boundary\": 1, \"boundary_score\": 1.3399999999999999, \"rolling_avg_score\": 1.404, \"start_issue\": \"1962-01-01\", \"temp_issue_number\": 0.0, \"category\": \"Actual\"}, {\"page_number\": 16, \"predicted_boundary\": 8, \"boundary_score\": 1.0, \"rolling_avg_score\": 1.404, \"start_issue\": \"1962-01-01\", \"temp_issue_number\": 0.0, \"category\": \"Actual\"}, {\"page_number\": 17, \"predicted_boundary\": 1, \"boundary_score\": 1.0, \"rolling_avg_score\": 1.204, \"start_issue\": \"1962-01-01\", \"temp_issue_number\": 0.0, \"category\": \"Actual\"}, {\"page_number\": 18, \"predicted_boundary\": 0, \"boundary_score\": 1.0, \"rolling_avg_score\": 1.136, \"start_issue\": \"1962-01-01\", \"temp_issue_number\": 0.0, \"category\": \"Actual\"}, {\"page_number\": 19, \"predicted_boundary\": 5, \"boundary_score\": 1.0, \"rolling_avg_score\": 1.068, \"start_issue\": \"1962-01-01\", \"temp_issue_number\": 0.0, \"category\": \"Actual\"}, {\"page_number\": 20, \"predicted_boundary\": 5, \"boundary_score\": 1.0, \"rolling_avg_score\": 1.0, \"start_issue\": \"1962-01-01\", \"temp_issue_number\": 0.0, \"category\": \"Actual\"}, {\"page_number\": 21, \"predicted_boundary\": 13, \"boundary_score\": 1.0, \"rolling_avg_score\": 1.0, \"start_issue\": \"1962-01-01\", \"temp_issue_number\": 0.0, \"category\": \"Actual\"}, {\"page_number\": 22, \"predicted_boundary\": 14, \"boundary_score\": 1.0, \"rolling_avg_score\": 1.0, \"start_issue\": \"1962-01-01\", \"temp_issue_number\": 0.0, \"category\": \"Actual\"}, {\"page_number\": 23, \"predicted_boundary\": 1, \"boundary_score\": 1.0, \"rolling_avg_score\": 1.0, \"start_issue\": \"1962-01-01\", \"temp_issue_number\": 0.0, \"category\": \"Actual\"}, {\"page_number\": 24, \"predicted_boundary\": 10, \"boundary_score\": 1.0, \"rolling_avg_score\": 1.0, \"start_issue\": \"1962-01-01\", \"temp_issue_number\": 0.0, \"category\": \"Actual\"}, {\"page_number\": 25, \"predicted_boundary\": 1, \"boundary_score\": 1.0, \"rolling_avg_score\": 1.0, \"start_issue\": \"1962-01-01\", \"temp_issue_number\": 0.0, \"category\": \"Actual\"}, {\"page_number\": 26, \"predicted_boundary\": 0, \"boundary_score\": 1.0, \"rolling_avg_score\": 1.0, \"start_issue\": \"1962-01-01\", \"temp_issue_number\": 0.0, \"category\": \"Actual\"}, {\"page_number\": 27, \"predicted_boundary\": 1, \"boundary_score\": 1.6600000000000001, \"rolling_avg_score\": 1.1320000000000001, \"start_issue\": \"1962-01-01\", \"temp_issue_number\": 0.0, \"category\": \"Actual\"}, {\"page_number\": 28, \"predicted_boundary\": 1, \"boundary_score\": 2.66, \"rolling_avg_score\": 1.464, \"start_issue\": \"1962-01-01\", \"temp_issue_number\": 0.0, \"category\": \"Actual\"}, {\"page_number\": 29, \"predicted_boundary\": 1, \"boundary_score\": 2.0, \"rolling_avg_score\": 1.6640000000000001, \"start_issue\": \"1962-01-01\", \"temp_issue_number\": 0.0, \"category\": \"Actual\"}, {\"page_number\": 30, \"predicted_boundary\": 1, \"boundary_score\": 2.0, \"rolling_avg_score\": 1.864, \"start_issue\": \"1962-01-01\", \"temp_issue_number\": 0.0, \"category\": \"Actual\"}, {\"page_number\": 31, \"predicted_boundary\": 1, \"boundary_score\": 2.34, \"rolling_avg_score\": 2.132, \"start_issue\": \"1962-01-01\", \"temp_issue_number\": 0.0, \"category\": \"Actual\"}, {\"page_number\": 32, \"predicted_boundary\": 4, \"boundary_score\": 1.0, \"rolling_avg_score\": 2.0, \"start_issue\": \"1962-01-01\", \"temp_issue_number\": 0.0, \"category\": \"Actual\"}, {\"page_number\": 33, \"predicted_boundary\": 0, \"boundary_score\": 1.0, \"rolling_avg_score\": 1.668, \"start_issue\": \"1962-01-01\", \"temp_issue_number\": 0.0, \"category\": \"Actual\"}, {\"page_number\": 34, \"predicted_boundary\": 2, \"boundary_score\": 1.0, \"rolling_avg_score\": 1.468, \"start_issue\": \"1962-01-01\", \"temp_issue_number\": 0.0, \"category\": \"Actual\"}, {\"page_number\": 35, \"predicted_boundary\": 1, \"boundary_score\": 1.0, \"rolling_avg_score\": 1.268, \"start_issue\": \"1962-01-01\", \"temp_issue_number\": 0.0, \"category\": \"Actual\"}, {\"page_number\": 36, \"predicted_boundary\": 28, \"boundary_score\": 1.0, \"rolling_avg_score\": 1.0, \"start_issue\": \"1962-01-01\", \"temp_issue_number\": 0.0, \"category\": \"Actual\"}, {\"page_number\": 37, \"predicted_boundary\": 29, \"boundary_score\": 1.0, \"rolling_avg_score\": 1.0, \"start_issue\": \"1962-01-01\", \"temp_issue_number\": 0.0, \"category\": \"Actual\"}, {\"page_number\": 38, \"predicted_boundary\": 23, \"boundary_score\": 1.0, \"rolling_avg_score\": 1.0, \"start_issue\": \"1962-01-01\", \"temp_issue_number\": 0.0, \"category\": \"Actual\"}, {\"page_number\": 39, \"predicted_boundary\": 2, \"boundary_score\": 1.0, \"rolling_avg_score\": 1.0, \"start_issue\": \"1962-01-01\", \"temp_issue_number\": 0.0, \"category\": \"Actual\"}, {\"page_number\": 40, \"predicted_boundary\": 32, \"boundary_score\": 1.0, \"rolling_avg_score\": 1.0, \"start_issue\": \"1962-01-01\", \"temp_issue_number\": 0.0, \"category\": \"Actual\"}, {\"page_number\": 41, \"predicted_boundary\": 0, \"boundary_score\": 1.0, \"rolling_avg_score\": 1.0, \"start_issue\": \"1962-01-01\", \"temp_issue_number\": 0.0, \"category\": \"Actual\"}, {\"page_number\": 43, \"predicted_boundary\": 4, \"boundary_score\": 1.0, \"rolling_avg_score\": 1.0, \"start_issue\": \"1962-01-08\", \"temp_issue_number\": 1.0, \"category\": \"Actual\"}, {\"page_number\": 44, \"predicted_boundary\": 0, \"boundary_score\": 1.0, \"rolling_avg_score\": 1.0, \"start_issue\": \"1962-01-08\", \"temp_issue_number\": 1.0, \"category\": \"Actual\"}, {\"page_number\": 45, \"predicted_boundary\": 0, \"boundary_score\": 1.0, \"rolling_avg_score\": 1.0, \"start_issue\": \"1962-01-08\", \"temp_issue_number\": 1.0, \"category\": \"Actual\"}, {\"page_number\": 46, \"predicted_boundary\": 0, \"boundary_score\": 1.0, \"rolling_avg_score\": 1.0, \"start_issue\": \"1962-01-08\", \"temp_issue_number\": 1.0, \"category\": \"Actual\"}, {\"page_number\": 47, \"predicted_boundary\": 0, \"boundary_score\": 1.0, \"rolling_avg_score\": 1.0, \"start_issue\": \"1962-01-08\", \"temp_issue_number\": 1.0, \"category\": \"Actual\"}, {\"page_number\": 48, \"predicted_boundary\": 8, \"boundary_score\": 1.0, \"rolling_avg_score\": 1.0, \"start_issue\": \"1962-01-08\", \"temp_issue_number\": 1.0, \"category\": \"Actual\"}, {\"page_number\": 49, \"predicted_boundary\": 1, \"boundary_score\": 1.0, \"rolling_avg_score\": 1.0, \"start_issue\": \"1962-01-08\", \"temp_issue_number\": 1.0, \"category\": \"Actual\"}, {\"page_number\": 50, \"predicted_boundary\": 0, \"boundary_score\": 2.0, \"rolling_avg_score\": 1.2, \"start_issue\": \"1962-01-08\", \"temp_issue_number\": 1.0, \"category\": \"Actual\"}, {\"page_number\": 51, \"predicted_boundary\": 2, \"boundary_score\": 1.0, \"rolling_avg_score\": 1.2, \"start_issue\": \"1962-01-08\", \"temp_issue_number\": 1.0, \"category\": \"Actual\"}, {\"page_number\": 52, \"predicted_boundary\": 1, \"boundary_score\": 1.0, \"rolling_avg_score\": 1.2, \"start_issue\": \"1962-01-08\", \"temp_issue_number\": 1.0, \"category\": \"Actual\"}, {\"page_number\": 53, \"predicted_boundary\": 1, \"boundary_score\": 1.0, \"rolling_avg_score\": 1.2, \"start_issue\": \"1962-01-08\", \"temp_issue_number\": 1.0, \"category\": \"Actual\"}, {\"page_number\": 54, \"predicted_boundary\": 0, \"boundary_score\": 2.0, \"rolling_avg_score\": 1.4, \"start_issue\": \"1962-01-08\", \"temp_issue_number\": 1.0, \"category\": \"Actual\"}, {\"page_number\": 55, \"predicted_boundary\": 1, \"boundary_score\": 1.0, \"rolling_avg_score\": 1.2, \"start_issue\": \"1962-01-08\", \"temp_issue_number\": 1.0, \"category\": \"Actual\"}, {\"page_number\": 56, \"predicted_boundary\": 1, \"boundary_score\": 1.0, \"rolling_avg_score\": 1.2, \"start_issue\": \"1962-01-08\", \"temp_issue_number\": 1.0, \"category\": \"Actual\"}, {\"page_number\": 57, \"predicted_boundary\": 1, \"boundary_score\": 1.0, \"rolling_avg_score\": 1.2, \"start_issue\": \"1962-01-08\", \"temp_issue_number\": 1.0, \"category\": \"Actual\"}, {\"page_number\": 58, \"predicted_boundary\": 3, \"boundary_score\": 1.0, \"rolling_avg_score\": 1.2, \"start_issue\": \"1962-01-08\", \"temp_issue_number\": 1.0, \"category\": \"Actual\"}, {\"page_number\": 59, \"predicted_boundary\": 3, \"boundary_score\": 1.0, \"rolling_avg_score\": 1.0, \"start_issue\": \"1962-01-08\", \"temp_issue_number\": 1.0, \"category\": \"Actual\"}, {\"page_number\": 60, \"predicted_boundary\": 1, \"boundary_score\": 1.0, \"rolling_avg_score\": 1.0, \"start_issue\": \"1962-01-08\", \"temp_issue_number\": 1.0, \"category\": \"Actual\"}, {\"page_number\": 61, \"predicted_boundary\": 2, \"boundary_score\": 1.0, \"rolling_avg_score\": 1.0, \"start_issue\": \"1962-01-08\", \"temp_issue_number\": 1.0, \"category\": \"Actual\"}, {\"page_number\": 62, \"predicted_boundary\": 1, \"boundary_score\": 1.0, \"rolling_avg_score\": 1.0, \"start_issue\": \"1962-01-08\", \"temp_issue_number\": 1.0, \"category\": \"Actual\"}, {\"page_number\": 63, \"predicted_boundary\": 19, \"boundary_score\": 1.0, \"rolling_avg_score\": 1.0, \"start_issue\": \"1962-01-08\", \"temp_issue_number\": 1.0, \"category\": \"Actual\"}, {\"page_number\": 64, \"predicted_boundary\": 20, \"boundary_score\": 1.0, \"rolling_avg_score\": 1.0, \"start_issue\": \"1962-01-08\", \"temp_issue_number\": 1.0, \"category\": \"Actual\"}, {\"page_number\": 65, \"predicted_boundary\": 1, \"boundary_score\": 1.0, \"rolling_avg_score\": 1.0, \"start_issue\": \"1962-01-08\", \"temp_issue_number\": 1.0, \"category\": \"Actual\"}, {\"page_number\": 66, \"predicted_boundary\": 5, \"boundary_score\": 1.0, \"rolling_avg_score\": 1.0, \"start_issue\": \"1962-01-08\", \"temp_issue_number\": 1.0, \"category\": \"Actual\"}, {\"page_number\": 67, \"predicted_boundary\": 3, \"boundary_score\": 1.0, \"rolling_avg_score\": 1.0, \"start_issue\": \"1962-01-08\", \"temp_issue_number\": 1.0, \"category\": \"Actual\"}, {\"page_number\": 68, \"predicted_boundary\": 3, \"boundary_score\": 1.0, \"rolling_avg_score\": 1.0, \"start_issue\": \"1962-01-08\", \"temp_issue_number\": 1.0, \"category\": \"Actual\"}, {\"page_number\": 69, \"predicted_boundary\": 1, \"boundary_score\": 1.0, \"rolling_avg_score\": 1.0, \"start_issue\": \"1962-01-08\", \"temp_issue_number\": 1.0, \"category\": \"Actual\"}, {\"page_number\": 70, \"predicted_boundary\": 3, \"boundary_score\": 1.0, \"rolling_avg_score\": 1.0, \"start_issue\": \"1962-01-08\", \"temp_issue_number\": 1.0, \"category\": \"Actual\"}, {\"page_number\": 71, \"predicted_boundary\": 4, \"boundary_score\": 1.0, \"rolling_avg_score\": 1.0, \"start_issue\": \"1962-01-08\", \"temp_issue_number\": 1.0, \"category\": \"Actual\"}, {\"page_number\": 72, \"predicted_boundary\": 28, \"boundary_score\": 1.0, \"rolling_avg_score\": 1.0, \"start_issue\": \"1962-01-08\", \"temp_issue_number\": 1.0, \"category\": \"Actual\"}, {\"page_number\": 73, \"predicted_boundary\": 28, \"boundary_score\": 1.0, \"rolling_avg_score\": 1.0, \"start_issue\": \"1962-01-08\", \"temp_issue_number\": 1.0, \"category\": \"Actual\"}, {\"page_number\": 74, \"predicted_boundary\": 0, \"boundary_score\": 1.6600000000000001, \"rolling_avg_score\": 1.1320000000000001, \"start_issue\": \"1962-01-08\", \"temp_issue_number\": 1.0, \"category\": \"Actual\"}, {\"page_number\": 75, \"predicted_boundary\": 0, \"boundary_score\": 1.6600000000000001, \"rolling_avg_score\": 1.264, \"start_issue\": \"1962-01-08\", \"temp_issue_number\": 1.0, \"category\": \"Actual\"}, {\"page_number\": 76, \"predicted_boundary\": 0, \"boundary_score\": 2.0, \"rolling_avg_score\": 1.464, \"start_issue\": \"1962-01-08\", \"temp_issue_number\": 1.0, \"category\": \"Actual\"}, {\"page_number\": 77, \"predicted_boundary\": 0, \"boundary_score\": 1.3399999999999999, \"rolling_avg_score\": 1.532, \"start_issue\": \"1962-01-08\", \"temp_issue_number\": 1.0, \"category\": \"Actual\"}, {\"page_number\": 78, \"predicted_boundary\": 0, \"boundary_score\": 1.3399999999999999, \"rolling_avg_score\": 1.6, \"start_issue\": \"1962-01-08\", \"temp_issue_number\": 1.0, \"category\": \"Actual\"}, {\"page_number\": 79, \"predicted_boundary\": 2, \"boundary_score\": 1.0, \"rolling_avg_score\": 1.468, \"start_issue\": \"1962-01-15\", \"temp_issue_number\": 2.0, \"category\": \"Actual\"}, {\"page_number\": 80, \"predicted_boundary\": 1, \"boundary_score\": 0.66, \"rolling_avg_score\": 1.268, \"start_issue\": null, \"temp_issue_number\": null, \"category\": \"Predicted\"}, {\"page_number\": 81, \"predicted_boundary\": 1, \"boundary_score\": 1.6600000000000001, \"rolling_avg_score\": 1.2, \"start_issue\": \"1962-01-15\", \"temp_issue_number\": 2.0, \"category\": \"Actual\"}, {\"page_number\": 82, \"predicted_boundary\": 1, \"boundary_score\": 2.0, \"rolling_avg_score\": 1.332, \"start_issue\": \"1962-01-15\", \"temp_issue_number\": 2.0, \"category\": \"Actual\"}, {\"page_number\": 83, \"predicted_boundary\": 0, \"boundary_score\": 2.0, \"rolling_avg_score\": 1.464, \"start_issue\": \"1962-01-15\", \"temp_issue_number\": 2.0, \"category\": \"Actual\"}, {\"page_number\": 84, \"predicted_boundary\": 1, \"boundary_score\": 1.0, \"rolling_avg_score\": 1.464, \"start_issue\": \"1962-01-15\", \"temp_issue_number\": 2.0, \"category\": \"Actual\"}, {\"page_number\": 85, \"predicted_boundary\": 5, \"boundary_score\": 1.0, \"rolling_avg_score\": 1.532, \"start_issue\": \"1962-01-15\", \"temp_issue_number\": 2.0, \"category\": \"Actual\"}, {\"page_number\": 86, \"predicted_boundary\": 6, \"boundary_score\": 1.0, \"rolling_avg_score\": 1.4, \"start_issue\": \"1962-01-15\", \"temp_issue_number\": 2.0, \"category\": \"Actual\"}, {\"page_number\": 87, \"predicted_boundary\": 7, \"boundary_score\": 1.0, \"rolling_avg_score\": 1.2, \"start_issue\": \"1962-01-15\", \"temp_issue_number\": 2.0, \"category\": \"Actual\"}, {\"page_number\": 88, \"predicted_boundary\": 9, \"boundary_score\": 1.0, \"rolling_avg_score\": 1.0, \"start_issue\": \"1962-01-15\", \"temp_issue_number\": 2.0, \"category\": \"Actual\"}, {\"page_number\": 89, \"predicted_boundary\": 13, \"boundary_score\": 1.0, \"rolling_avg_score\": 1.0, \"start_issue\": \"1962-01-15\", \"temp_issue_number\": 2.0, \"category\": \"Actual\"}, {\"page_number\": 90, \"predicted_boundary\": 10, \"boundary_score\": 1.0, \"rolling_avg_score\": 1.0, \"start_issue\": \"1962-01-15\", \"temp_issue_number\": 2.0, \"category\": \"Actual\"}, {\"page_number\": 91, \"predicted_boundary\": 11, \"boundary_score\": 1.0, \"rolling_avg_score\": 1.0, \"start_issue\": \"1962-01-15\", \"temp_issue_number\": 2.0, \"category\": \"Actual\"}, {\"page_number\": 92, \"predicted_boundary\": 16, \"boundary_score\": 1.0, \"rolling_avg_score\": 1.0, \"start_issue\": \"1962-01-15\", \"temp_issue_number\": 2.0, \"category\": \"Actual\"}, {\"page_number\": 93, \"predicted_boundary\": 1, \"boundary_score\": 1.0, \"rolling_avg_score\": 1.0, \"start_issue\": \"1962-01-15\", \"temp_issue_number\": 2.0, \"category\": \"Actual\"}, {\"page_number\": 94, \"predicted_boundary\": 1, \"boundary_score\": 1.0, \"rolling_avg_score\": 1.0, \"start_issue\": \"1962-01-15\", \"temp_issue_number\": 2.0, \"category\": \"Actual\"}, {\"page_number\": 95, \"predicted_boundary\": 1, \"boundary_score\": 1.0, \"rolling_avg_score\": 1.0, \"start_issue\": \"1962-01-15\", \"temp_issue_number\": 2.0, \"category\": \"Actual\"}, {\"page_number\": 96, \"predicted_boundary\": 16, \"boundary_score\": 1.0, \"rolling_avg_score\": 1.0, \"start_issue\": \"1962-01-15\", \"temp_issue_number\": 2.0, \"category\": \"Actual\"}, {\"page_number\": 97, \"predicted_boundary\": 1, \"boundary_score\": 1.0, \"rolling_avg_score\": 1.0, \"start_issue\": \"1962-01-15\", \"temp_issue_number\": 2.0, \"category\": \"Actual\"}, {\"page_number\": 98, \"predicted_boundary\": 1, \"boundary_score\": 1.0, \"rolling_avg_score\": 1.0, \"start_issue\": \"1962-01-15\", \"temp_issue_number\": 2.0, \"category\": \"Actual\"}, {\"page_number\": 99, \"predicted_boundary\": 15, \"boundary_score\": 1.0, \"rolling_avg_score\": 1.0, \"start_issue\": \"1962-01-15\", \"temp_issue_number\": 2.0, \"category\": \"Actual\"}, {\"page_number\": 100, \"predicted_boundary\": 20, \"boundary_score\": 1.0, \"rolling_avg_score\": 1.0, \"start_issue\": \"1962-01-15\", \"temp_issue_number\": 2.0, \"category\": \"Actual\"}, {\"page_number\": 101, \"predicted_boundary\": 7, \"boundary_score\": 1.0, \"rolling_avg_score\": 1.0, \"start_issue\": \"1962-01-15\", \"temp_issue_number\": 2.0, \"category\": \"Actual\"}, {\"page_number\": 102, \"predicted_boundary\": 22, \"boundary_score\": 1.0, \"rolling_avg_score\": 1.0, \"start_issue\": \"1962-01-15\", \"temp_issue_number\": 2.0, \"category\": \"Actual\"}, {\"page_number\": 103, \"predicted_boundary\": 1, \"boundary_score\": 1.0, \"rolling_avg_score\": 1.0, \"start_issue\": \"1962-01-15\", \"temp_issue_number\": 2.0, \"category\": \"Actual\"}, {\"page_number\": 104, \"predicted_boundary\": 58, \"boundary_score\": 1.0, \"rolling_avg_score\": 1.0, \"start_issue\": \"1962-01-15\", \"temp_issue_number\": 2.0, \"category\": \"Actual\"}, {\"page_number\": 105, \"predicted_boundary\": 1, \"boundary_score\": 1.0, \"rolling_avg_score\": 1.0, \"start_issue\": \"1962-01-15\", \"temp_issue_number\": 2.0, \"category\": \"Actual\"}, {\"page_number\": 106, \"predicted_boundary\": 4, \"boundary_score\": 1.0, \"rolling_avg_score\": 1.0, \"start_issue\": \"1962-01-15\", \"temp_issue_number\": 2.0, \"category\": \"Actual\"}, {\"page_number\": 107, \"predicted_boundary\": 2, \"boundary_score\": 1.0, \"rolling_avg_score\": 1.0, \"start_issue\": \"1962-01-15\", \"temp_issue_number\": 2.0, \"category\": \"Actual\"}, {\"page_number\": 108, \"predicted_boundary\": 0, \"boundary_score\": 1.0, \"rolling_avg_score\": 1.0, \"start_issue\": \"1962-01-15\", \"temp_issue_number\": 2.0, \"category\": \"Actual\"}, {\"page_number\": 109, \"predicted_boundary\": 8, \"boundary_score\": 1.0, \"rolling_avg_score\": 1.0, \"start_issue\": \"1962-01-15\", \"temp_issue_number\": 2.0, \"category\": \"Actual\"}, {\"page_number\": 110, \"predicted_boundary\": 0, \"boundary_score\": 1.0, \"rolling_avg_score\": 1.0, \"start_issue\": \"1962-01-15\", \"temp_issue_number\": 2.0, \"category\": \"Actual\"}, {\"page_number\": 111, \"predicted_boundary\": 5, \"boundary_score\": 1.0, \"rolling_avg_score\": 1.0, \"start_issue\": \"1962-01-15\", \"temp_issue_number\": 2.0, \"category\": \"Actual\"}, {\"page_number\": 112, \"predicted_boundary\": 0, \"boundary_score\": 1.0, \"rolling_avg_score\": 1.0, \"start_issue\": \"1962-01-15\", \"temp_issue_number\": 2.0, \"category\": \"Actual\"}, {\"page_number\": 113, \"predicted_boundary\": 0, \"boundary_score\": 1.0, \"rolling_avg_score\": 1.0, \"start_issue\": \"1962-01-15\", \"temp_issue_number\": 2.0, \"category\": \"Actual\"}, {\"page_number\": 115, \"predicted_boundary\": 0, \"boundary_score\": 1.0, \"rolling_avg_score\": 1.0, \"start_issue\": \"1962-01-22\", \"temp_issue_number\": 3.0, \"category\": \"Actual\"}, {\"page_number\": 116, \"predicted_boundary\": 0, \"boundary_score\": 1.0, \"rolling_avg_score\": 1.0, \"start_issue\": \"1962-01-22\", \"temp_issue_number\": 3.0, \"category\": \"Actual\"}, {\"page_number\": 117, \"predicted_boundary\": 1, \"boundary_score\": 1.0, \"rolling_avg_score\": 1.0, \"start_issue\": \"1962-01-22\", \"temp_issue_number\": 3.0, \"category\": \"Actual\"}, {\"page_number\": 118, \"predicted_boundary\": 5, \"boundary_score\": 1.0, \"rolling_avg_score\": 1.0, \"start_issue\": \"1962-01-22\", \"temp_issue_number\": 3.0, \"category\": \"Actual\"}, {\"page_number\": 119, \"predicted_boundary\": 0, \"boundary_score\": 1.0, \"rolling_avg_score\": 1.0, \"start_issue\": \"1962-01-22\", \"temp_issue_number\": 3.0, \"category\": \"Actual\"}, {\"page_number\": 120, \"predicted_boundary\": 4, \"boundary_score\": 1.0, \"rolling_avg_score\": 1.0, \"start_issue\": \"1962-01-22\", \"temp_issue_number\": 3.0, \"category\": \"Actual\"}, {\"page_number\": 121, \"predicted_boundary\": 1, \"boundary_score\": 1.0, \"rolling_avg_score\": 1.0, \"start_issue\": \"1962-01-22\", \"temp_issue_number\": 3.0, \"category\": \"Actual\"}, {\"page_number\": 122, \"predicted_boundary\": 8, \"boundary_score\": 1.0, \"rolling_avg_score\": 1.0, \"start_issue\": \"1962-01-22\", \"temp_issue_number\": 3.0, \"category\": \"Actual\"}, {\"page_number\": 123, \"predicted_boundary\": 1, \"boundary_score\": 1.6600000000000001, \"rolling_avg_score\": 1.1320000000000001, \"start_issue\": \"1962-01-22\", \"temp_issue_number\": 3.0, \"category\": \"Actual\"}, {\"page_number\": 124, \"predicted_boundary\": 4, \"boundary_score\": 3.0, \"rolling_avg_score\": 1.532, \"start_issue\": \"1962-01-22\", \"temp_issue_number\": 3.0, \"category\": \"Actual\"}, {\"page_number\": 125, \"predicted_boundary\": 9, \"boundary_score\": 1.0, \"rolling_avg_score\": 1.532, \"start_issue\": \"1962-01-22\", \"temp_issue_number\": 3.0, \"category\": \"Actual\"}, {\"page_number\": 126, \"predicted_boundary\": 1, \"boundary_score\": 1.0, \"rolling_avg_score\": 1.532, \"start_issue\": \"1962-01-22\", \"temp_issue_number\": 3.0, \"category\": \"Actual\"}, {\"page_number\": 127, \"predicted_boundary\": 11, \"boundary_score\": 1.0, \"rolling_avg_score\": 1.532, \"start_issue\": \"1962-01-22\", \"temp_issue_number\": 3.0, \"category\": \"Actual\"}, {\"page_number\": 128, \"predicted_boundary\": 12, \"boundary_score\": 1.0, \"rolling_avg_score\": 1.4, \"start_issue\": \"1962-01-22\", \"temp_issue_number\": 3.0, \"category\": \"Actual\"}, {\"page_number\": 129, \"predicted_boundary\": 4, \"boundary_score\": 1.0, \"rolling_avg_score\": 1.0, \"start_issue\": \"1962-01-22\", \"temp_issue_number\": 3.0, \"category\": \"Actual\"}, {\"page_number\": 130, \"predicted_boundary\": 1, \"boundary_score\": 1.0, \"rolling_avg_score\": 1.0, \"start_issue\": \"1962-01-22\", \"temp_issue_number\": 3.0, \"category\": \"Actual\"}, {\"page_number\": 131, \"predicted_boundary\": 15, \"boundary_score\": 1.0, \"rolling_avg_score\": 1.0, \"start_issue\": \"1962-01-22\", \"temp_issue_number\": 3.0, \"category\": \"Actual\"}, {\"page_number\": 132, \"predicted_boundary\": 2, \"boundary_score\": 1.0, \"rolling_avg_score\": 1.0, \"start_issue\": \"1962-01-22\", \"temp_issue_number\": 3.0, \"category\": \"Actual\"}, {\"page_number\": 133, \"predicted_boundary\": 1, \"boundary_score\": 1.0, \"rolling_avg_score\": 1.0, \"start_issue\": \"1962-01-22\", \"temp_issue_number\": 3.0, \"category\": \"Actual\"}, {\"page_number\": 134, \"predicted_boundary\": 0, \"boundary_score\": 1.0, \"rolling_avg_score\": 1.0, \"start_issue\": \"1962-01-22\", \"temp_issue_number\": 3.0, \"category\": \"Actual\"}, {\"page_number\": 135, \"predicted_boundary\": 5, \"boundary_score\": 1.0, \"rolling_avg_score\": 1.0, \"start_issue\": \"1962-01-22\", \"temp_issue_number\": 3.0, \"category\": \"Actual\"}, {\"page_number\": 136, \"predicted_boundary\": 0, \"boundary_score\": 1.0, \"rolling_avg_score\": 1.0, \"start_issue\": \"1962-01-22\", \"temp_issue_number\": 3.0, \"category\": \"Actual\"}, {\"page_number\": 137, \"predicted_boundary\": 2, \"boundary_score\": 2.0, \"rolling_avg_score\": 1.2, \"start_issue\": \"1962-01-22\", \"temp_issue_number\": 3.0, \"category\": \"Actual\"}, {\"page_number\": 138, \"predicted_boundary\": 1, \"boundary_score\": 1.0, \"rolling_avg_score\": 1.2, \"start_issue\": \"1962-01-22\", \"temp_issue_number\": 3.0, \"category\": \"Actual\"}, {\"page_number\": 139, \"predicted_boundary\": 22, \"boundary_score\": 1.0, \"rolling_avg_score\": 1.2, \"start_issue\": \"1962-01-22\", \"temp_issue_number\": 3.0, \"category\": \"Actual\"}, {\"page_number\": 140, \"predicted_boundary\": 1, \"boundary_score\": 1.0, \"rolling_avg_score\": 1.2, \"start_issue\": \"1962-01-22\", \"temp_issue_number\": 3.0, \"category\": \"Actual\"}, {\"page_number\": 141, \"predicted_boundary\": 1, \"boundary_score\": 1.0, \"rolling_avg_score\": 1.2, \"start_issue\": \"1962-01-22\", \"temp_issue_number\": 3.0, \"category\": \"Actual\"}, {\"page_number\": 142, \"predicted_boundary\": 1, \"boundary_score\": 1.0, \"rolling_avg_score\": 1.0, \"start_issue\": \"1962-01-22\", \"temp_issue_number\": 3.0, \"category\": \"Actual\"}, {\"page_number\": 143, \"predicted_boundary\": 1, \"boundary_score\": 1.0, \"rolling_avg_score\": 1.0, \"start_issue\": \"1962-01-22\", \"temp_issue_number\": 3.0, \"category\": \"Actual\"}, {\"page_number\": 144, \"predicted_boundary\": 28, \"boundary_score\": 1.0, \"rolling_avg_score\": 1.0, \"start_issue\": \"1962-01-22\", \"temp_issue_number\": 3.0, \"category\": \"Actual\"}, {\"page_number\": 145, \"predicted_boundary\": 0, \"boundary_score\": 1.0, \"rolling_avg_score\": 1.0, \"start_issue\": \"1962-01-22\", \"temp_issue_number\": 3.0, \"category\": \"Actual\"}, {\"page_number\": 146, \"predicted_boundary\": 10, \"boundary_score\": 1.0, \"rolling_avg_score\": 1.0, \"start_issue\": \"1962-01-22\", \"temp_issue_number\": 3.0, \"category\": \"Actual\"}, {\"page_number\": 147, \"predicted_boundary\": 22, \"boundary_score\": 1.0, \"rolling_avg_score\": 1.0, \"start_issue\": \"1962-01-22\", \"temp_issue_number\": 3.0, \"category\": \"Actual\"}, {\"page_number\": 148, \"predicted_boundary\": 12, \"boundary_score\": 1.0, \"rolling_avg_score\": 1.0, \"start_issue\": \"1962-01-22\", \"temp_issue_number\": 3.0, \"category\": \"Actual\"}, {\"page_number\": 150, \"predicted_boundary\": 0, \"boundary_score\": 1.0, \"rolling_avg_score\": 1.0, \"start_issue\": \"1962-01-22\", \"temp_issue_number\": 3.0, \"category\": \"Actual\"}, {\"page_number\": 151, \"predicted_boundary\": 0, \"boundary_score\": 1.0, \"rolling_avg_score\": 1.0, \"start_issue\": \"1962-01-29\", \"temp_issue_number\": 4.0, \"category\": \"Actual\"}, {\"page_number\": 152, \"predicted_boundary\": 0, \"boundary_score\": 1.0, \"rolling_avg_score\": 1.0, \"start_issue\": \"1962-01-29\", \"temp_issue_number\": 4.0, \"category\": \"Actual\"}, {\"page_number\": 153, \"predicted_boundary\": 3, \"boundary_score\": 1.0, \"rolling_avg_score\": 1.0, \"start_issue\": \"1962-01-29\", \"temp_issue_number\": 4.0, \"category\": \"Actual\"}, {\"page_number\": 154, \"predicted_boundary\": 5, \"boundary_score\": 1.0, \"rolling_avg_score\": 1.0, \"start_issue\": \"1962-01-29\", \"temp_issue_number\": 4.0, \"category\": \"Actual\"}, {\"page_number\": 155, \"predicted_boundary\": 37, \"boundary_score\": 1.0, \"rolling_avg_score\": 1.0, \"start_issue\": \"1962-01-29\", \"temp_issue_number\": 4.0, \"category\": \"Actual\"}, {\"page_number\": 156, \"predicted_boundary\": 1, \"boundary_score\": 1.0, \"rolling_avg_score\": 1.0, \"start_issue\": \"1962-01-29\", \"temp_issue_number\": 4.0, \"category\": \"Actual\"}, {\"page_number\": 157, \"predicted_boundary\": 5, \"boundary_score\": 1.0, \"rolling_avg_score\": 1.0, \"start_issue\": \"1962-01-29\", \"temp_issue_number\": 4.0, \"category\": \"Actual\"}, {\"page_number\": 158, \"predicted_boundary\": 1, \"boundary_score\": 1.0, \"rolling_avg_score\": 1.0, \"start_issue\": \"1962-01-29\", \"temp_issue_number\": 4.0, \"category\": \"Actual\"}, {\"page_number\": 159, \"predicted_boundary\": 2, \"boundary_score\": 1.0, \"rolling_avg_score\": 1.0, \"start_issue\": \"1962-01-29\", \"temp_issue_number\": 4.0, \"category\": \"Actual\"}, {\"page_number\": 160, \"predicted_boundary\": 2, \"boundary_score\": 1.0, \"rolling_avg_score\": 1.0, \"start_issue\": \"1962-01-29\", \"temp_issue_number\": 4.0, \"category\": \"Actual\"}, {\"page_number\": 161, \"predicted_boundary\": 3, \"boundary_score\": 1.0, \"rolling_avg_score\": 1.0, \"start_issue\": \"1962-01-29\", \"temp_issue_number\": 4.0, \"category\": \"Actual\"}, {\"page_number\": 162, \"predicted_boundary\": 10, \"boundary_score\": 1.0, \"rolling_avg_score\": 1.0, \"start_issue\": \"1962-01-29\", \"temp_issue_number\": 4.0, \"category\": \"Actual\"}, {\"page_number\": 163, \"predicted_boundary\": 1, \"boundary_score\": 1.0, \"rolling_avg_score\": 1.0, \"start_issue\": \"1962-01-29\", \"temp_issue_number\": 4.0, \"category\": \"Actual\"}, {\"page_number\": 164, \"predicted_boundary\": 1, \"boundary_score\": 1.0, \"rolling_avg_score\": 1.0, \"start_issue\": \"1962-01-29\", \"temp_issue_number\": 4.0, \"category\": \"Actual\"}, {\"page_number\": 165, \"predicted_boundary\": 1, \"boundary_score\": 1.0, \"rolling_avg_score\": 1.0, \"start_issue\": \"1962-01-29\", \"temp_issue_number\": 4.0, \"category\": \"Actual\"}, {\"page_number\": 166, \"predicted_boundary\": 1, \"boundary_score\": 1.0, \"rolling_avg_score\": 1.0, \"start_issue\": \"1962-01-29\", \"temp_issue_number\": 4.0, \"category\": \"Actual\"}, {\"page_number\": 167, \"predicted_boundary\": 10, \"boundary_score\": 1.0, \"rolling_avg_score\": 1.0, \"start_issue\": \"1962-01-29\", \"temp_issue_number\": 4.0, \"category\": \"Actual\"}, {\"page_number\": 168, \"predicted_boundary\": 7, \"boundary_score\": 1.0, \"rolling_avg_score\": 1.0, \"start_issue\": \"1962-01-29\", \"temp_issue_number\": 4.0, \"category\": \"Actual\"}, {\"page_number\": 169, \"predicted_boundary\": 1, \"boundary_score\": 1.6600000000000001, \"rolling_avg_score\": 1.1320000000000001, \"start_issue\": \"1962-01-29\", \"temp_issue_number\": 4.0, \"category\": \"Actual\"}, {\"page_number\": 170, \"predicted_boundary\": 1, \"boundary_score\": 2.0, \"rolling_avg_score\": 1.332, \"start_issue\": \"1962-01-29\", \"temp_issue_number\": 4.0, \"category\": \"Actual\"}, {\"page_number\": 171, \"predicted_boundary\": 1, \"boundary_score\": 1.0, \"rolling_avg_score\": 1.332, \"start_issue\": \"1962-01-29\", \"temp_issue_number\": 4.0, \"category\": \"Actual\"}, {\"page_number\": 172, \"predicted_boundary\": 1, \"boundary_score\": 2.0, \"rolling_avg_score\": 1.532, \"start_issue\": \"1962-01-29\", \"temp_issue_number\": 4.0, \"category\": \"Actual\"}, {\"page_number\": 173, \"predicted_boundary\": 3, \"boundary_score\": 1.0, \"rolling_avg_score\": 1.532, \"start_issue\": \"1962-01-29\", \"temp_issue_number\": 4.0, \"category\": \"Actual\"}, {\"page_number\": 174, \"predicted_boundary\": 22, \"boundary_score\": 1.0, \"rolling_avg_score\": 1.4, \"start_issue\": \"1962-01-29\", \"temp_issue_number\": 4.0, \"category\": \"Actual\"}, {\"page_number\": 175, \"predicted_boundary\": 6, \"boundary_score\": 1.0, \"rolling_avg_score\": 1.2, \"start_issue\": \"1962-01-29\", \"temp_issue_number\": 4.0, \"category\": \"Actual\"}, {\"page_number\": 176, \"predicted_boundary\": 0, \"boundary_score\": 1.0, \"rolling_avg_score\": 1.2, \"start_issue\": \"1962-01-29\", \"temp_issue_number\": 4.0, \"category\": \"Actual\"}, {\"page_number\": 177, \"predicted_boundary\": 25, \"boundary_score\": 1.0, \"rolling_avg_score\": 1.0, \"start_issue\": \"1962-01-29\", \"temp_issue_number\": 4.0, \"category\": \"Actual\"}, {\"page_number\": 178, \"predicted_boundary\": 1, \"boundary_score\": 1.0, \"rolling_avg_score\": 1.0, \"start_issue\": \"1962-01-29\", \"temp_issue_number\": 4.0, \"category\": \"Actual\"}, {\"page_number\": 179, \"predicted_boundary\": 0, \"boundary_score\": 1.0, \"rolling_avg_score\": 1.0, \"start_issue\": \"1962-01-29\", \"temp_issue_number\": 4.0, \"category\": \"Actual\"}, {\"page_number\": 180, \"predicted_boundary\": 0, \"boundary_score\": 1.0, \"rolling_avg_score\": 1.0, \"start_issue\": \"1962-01-29\", \"temp_issue_number\": 4.0, \"category\": \"Actual\"}, {\"page_number\": 181, \"predicted_boundary\": 1, \"boundary_score\": 1.0, \"rolling_avg_score\": 1.0, \"start_issue\": \"1962-01-29\", \"temp_issue_number\": 4.0, \"category\": \"Actual\"}, {\"page_number\": 182, \"predicted_boundary\": 1, \"boundary_score\": 1.0, \"rolling_avg_score\": 1.0, \"start_issue\": \"1962-01-29\", \"temp_issue_number\": 4.0, \"category\": \"Actual\"}, {\"page_number\": 183, \"predicted_boundary\": 29, \"boundary_score\": 1.0, \"rolling_avg_score\": 1.0, \"start_issue\": \"1962-01-29\", \"temp_issue_number\": 4.0, \"category\": \"Actual\"}, {\"page_number\": 184, \"predicted_boundary\": 32, \"boundary_score\": 1.0, \"rolling_avg_score\": 1.0, \"start_issue\": \"1962-01-29\", \"temp_issue_number\": 4.0, \"category\": \"Actual\"}, {\"page_number\": 185, \"predicted_boundary\": 0, \"boundary_score\": 1.0, \"rolling_avg_score\": 1.0, \"start_issue\": \"1962-01-29\", \"temp_issue_number\": 4.0, \"category\": \"Actual\"}, {\"page_number\": 186, \"predicted_boundary\": 0, \"boundary_score\": 1.0, \"rolling_avg_score\": 1.0, \"start_issue\": \"1962-01-29\", \"temp_issue_number\": 4.0, \"category\": \"Actual\"}, {\"page_number\": 187, \"predicted_boundary\": 0, \"boundary_score\": 1.0, \"rolling_avg_score\": 1.0, \"start_issue\": \"1962-02-05\", \"temp_issue_number\": 5.0, \"category\": \"Actual\"}, {\"page_number\": 188, \"predicted_boundary\": 0, \"boundary_score\": 1.0, \"rolling_avg_score\": 1.0, \"start_issue\": \"1962-02-05\", \"temp_issue_number\": 5.0, \"category\": \"Actual\"}, {\"page_number\": 189, \"predicted_boundary\": 0, \"boundary_score\": 1.0, \"rolling_avg_score\": 1.0, \"start_issue\": \"1962-02-05\", \"temp_issue_number\": 5.0, \"category\": \"Actual\"}, {\"page_number\": 190, \"predicted_boundary\": 5, \"boundary_score\": 1.0, \"rolling_avg_score\": 1.0, \"start_issue\": \"1962-02-05\", \"temp_issue_number\": 5.0, \"category\": \"Actual\"}, {\"page_number\": 191, \"predicted_boundary\": 2, \"boundary_score\": 1.0, \"rolling_avg_score\": 1.0, \"start_issue\": \"1962-02-05\", \"temp_issue_number\": 5.0, \"category\": \"Actual\"}, {\"page_number\": 192, \"predicted_boundary\": 4, \"boundary_score\": 1.0, \"rolling_avg_score\": 1.0, \"start_issue\": \"1962-02-05\", \"temp_issue_number\": 5.0, \"category\": \"Actual\"}, {\"page_number\": 193, \"predicted_boundary\": 5, \"boundary_score\": 1.0, \"rolling_avg_score\": 1.0, \"start_issue\": \"1962-02-05\", \"temp_issue_number\": 5.0, \"category\": \"Actual\"}, {\"page_number\": 194, \"predicted_boundary\": 4, \"boundary_score\": 1.0, \"rolling_avg_score\": 1.0, \"start_issue\": \"1962-02-05\", \"temp_issue_number\": 5.0, \"category\": \"Actual\"}, {\"page_number\": 195, \"predicted_boundary\": 5, \"boundary_score\": 1.0, \"rolling_avg_score\": 1.0, \"start_issue\": \"1962-02-05\", \"temp_issue_number\": 5.0, \"category\": \"Actual\"}, {\"page_number\": 196, \"predicted_boundary\": 1, \"boundary_score\": 1.0, \"rolling_avg_score\": 1.0, \"start_issue\": \"1962-02-05\", \"temp_issue_number\": 5.0, \"category\": \"Actual\"}, {\"page_number\": 197, \"predicted_boundary\": 5, \"boundary_score\": 1.0, \"rolling_avg_score\": 1.0, \"start_issue\": \"1962-02-05\", \"temp_issue_number\": 5.0, \"category\": \"Actual\"}, {\"page_number\": 198, \"predicted_boundary\": 10, \"boundary_score\": 1.0, \"rolling_avg_score\": 1.0, \"start_issue\": \"1962-02-05\", \"temp_issue_number\": 5.0, \"category\": \"Actual\"}, {\"page_number\": 199, \"predicted_boundary\": 6, \"boundary_score\": 1.0, \"rolling_avg_score\": 1.0, \"start_issue\": \"1962-02-05\", \"temp_issue_number\": 5.0, \"category\": \"Actual\"}, {\"page_number\": 200, \"predicted_boundary\": 1, \"boundary_score\": 1.6600000000000001, \"rolling_avg_score\": 1.1320000000000001, \"start_issue\": \"1962-02-05\", \"temp_issue_number\": 5.0, \"category\": \"Actual\"}, {\"page_number\": 201, \"predicted_boundary\": 1, \"boundary_score\": 2.0, \"rolling_avg_score\": 1.332, \"start_issue\": \"1962-02-05\", \"temp_issue_number\": 5.0, \"category\": \"Actual\"}, {\"page_number\": 202, \"predicted_boundary\": 1, \"boundary_score\": 1.3399999999999999, \"rolling_avg_score\": 1.4, \"start_issue\": \"1962-02-05\", \"temp_issue_number\": 5.0, \"category\": \"Actual\"}, {\"page_number\": 203, \"predicted_boundary\": 5, \"boundary_score\": 1.0, \"rolling_avg_score\": 1.4, \"start_issue\": \"1962-02-05\", \"temp_issue_number\": 5.0, \"category\": \"Actual\"}, {\"page_number\": 204, \"predicted_boundary\": 1, \"boundary_score\": 1.0, \"rolling_avg_score\": 1.4, \"start_issue\": \"1962-02-05\", \"temp_issue_number\": 5.0, \"category\": \"Actual\"}, {\"page_number\": 206, \"predicted_boundary\": 1, \"boundary_score\": 1.0, \"rolling_avg_score\": 1.268, \"start_issue\": \"1962-02-05\", \"temp_issue_number\": 5.0, \"category\": \"Actual\"}, {\"page_number\": 207, \"predicted_boundary\": 1, \"boundary_score\": 1.0, \"rolling_avg_score\": 1.068, \"start_issue\": \"1962-02-05\", \"temp_issue_number\": 5.0, \"category\": \"Actual\"}, {\"page_number\": 208, \"predicted_boundary\": 12, \"boundary_score\": 1.0, \"rolling_avg_score\": 1.0, \"start_issue\": \"1962-02-05\", \"temp_issue_number\": 5.0, \"category\": \"Actual\"}, {\"page_number\": 209, \"predicted_boundary\": 1, \"boundary_score\": 1.0, \"rolling_avg_score\": 1.0, \"start_issue\": \"1962-02-05\", \"temp_issue_number\": 5.0, \"category\": \"Actual\"}, {\"page_number\": 210, \"predicted_boundary\": 14, \"boundary_score\": 1.0, \"rolling_avg_score\": 1.0, \"start_issue\": \"1962-02-05\", \"temp_issue_number\": 5.0, \"category\": \"Actual\"}, {\"page_number\": 211, \"predicted_boundary\": 5, \"boundary_score\": 1.0, \"rolling_avg_score\": 1.0, \"start_issue\": \"1962-02-05\", \"temp_issue_number\": 5.0, \"category\": \"Actual\"}, {\"page_number\": 212, \"predicted_boundary\": 24, \"boundary_score\": 1.0, \"rolling_avg_score\": 1.0, \"start_issue\": \"1962-02-05\", \"temp_issue_number\": 5.0, \"category\": \"Actual\"}, {\"page_number\": 213, \"predicted_boundary\": 5, \"boundary_score\": 2.0, \"rolling_avg_score\": 1.2, \"start_issue\": \"1962-02-05\", \"temp_issue_number\": 5.0, \"category\": \"Actual\"}, {\"page_number\": 214, \"predicted_boundary\": 10, \"boundary_score\": 1.0, \"rolling_avg_score\": 1.2, \"start_issue\": \"1962-02-05\", \"temp_issue_number\": 5.0, \"category\": \"Actual\"}, {\"page_number\": 215, \"predicted_boundary\": 1, \"boundary_score\": 1.0, \"rolling_avg_score\": 1.2, \"start_issue\": \"1962-02-05\", \"temp_issue_number\": 5.0, \"category\": \"Actual\"}, {\"page_number\": 216, \"predicted_boundary\": 23, \"boundary_score\": 1.0, \"rolling_avg_score\": 1.2, \"start_issue\": \"1962-02-05\", \"temp_issue_number\": 5.0, \"category\": \"Actual\"}, {\"page_number\": 217, \"predicted_boundary\": 5, \"boundary_score\": 1.0, \"rolling_avg_score\": 1.2, \"start_issue\": \"1962-02-05\", \"temp_issue_number\": 5.0, \"category\": \"Actual\"}, {\"page_number\": 218, \"predicted_boundary\": 20, \"boundary_score\": 1.0, \"rolling_avg_score\": 1.0, \"start_issue\": \"1962-02-05\", \"temp_issue_number\": 5.0, \"category\": \"Actual\"}, {\"page_number\": 219, \"predicted_boundary\": 0, \"boundary_score\": 2.0, \"rolling_avg_score\": 1.2, \"start_issue\": \"1962-02-05\", \"temp_issue_number\": 5.0, \"category\": \"Actual\"}, {\"page_number\": 220, \"predicted_boundary\": 3, \"boundary_score\": 1.0, \"rolling_avg_score\": 1.2, \"start_issue\": \"1962-02-05\", \"temp_issue_number\": 5.0, \"category\": \"Actual\"}, {\"page_number\": 221, \"predicted_boundary\": 0, \"boundary_score\": 1.0, \"rolling_avg_score\": 1.2, \"start_issue\": \"1962-02-05\", \"temp_issue_number\": 5.0, \"category\": \"Actual\"}, {\"page_number\": 222, \"predicted_boundary\": 4, \"boundary_score\": 1.0, \"rolling_avg_score\": 1.2, \"start_issue\": \"1962-02-05\", \"temp_issue_number\": 5.0, \"category\": \"Actual\"}, {\"page_number\": 223, \"predicted_boundary\": 2, \"boundary_score\": 1.0, \"rolling_avg_score\": 1.2, \"start_issue\": \"1962-02-12\", \"temp_issue_number\": 6.0, \"category\": \"Actual\"}, {\"page_number\": 224, \"predicted_boundary\": 0, \"boundary_score\": 1.0, \"rolling_avg_score\": 1.0, \"start_issue\": \"1962-02-12\", \"temp_issue_number\": 6.0, \"category\": \"Actual\"}, {\"page_number\": 225, \"predicted_boundary\": 0, \"boundary_score\": 1.0, \"rolling_avg_score\": 1.0, \"start_issue\": \"1962-02-12\", \"temp_issue_number\": 6.0, \"category\": \"Actual\"}, {\"page_number\": 226, \"predicted_boundary\": 5, \"boundary_score\": 1.0, \"rolling_avg_score\": 1.0, \"start_issue\": \"1962-02-12\", \"temp_issue_number\": 6.0, \"category\": \"Actual\"}, {\"page_number\": 227, \"predicted_boundary\": 0, \"boundary_score\": 1.0, \"rolling_avg_score\": 1.0, \"start_issue\": \"1962-02-12\", \"temp_issue_number\": 6.0, \"category\": \"Actual\"}, {\"page_number\": 228, \"predicted_boundary\": 4, \"boundary_score\": 1.0, \"rolling_avg_score\": 1.0, \"start_issue\": \"1962-02-12\", \"temp_issue_number\": 6.0, \"category\": \"Actual\"}, {\"page_number\": 229, \"predicted_boundary\": 6, \"boundary_score\": 1.0, \"rolling_avg_score\": 1.0, \"start_issue\": \"1962-02-12\", \"temp_issue_number\": 6.0, \"category\": \"Actual\"}, {\"page_number\": 230, \"predicted_boundary\": 15, \"boundary_score\": 1.0, \"rolling_avg_score\": 1.0, \"start_issue\": \"1962-02-12\", \"temp_issue_number\": 6.0, \"category\": \"Actual\"}, {\"page_number\": 231, \"predicted_boundary\": 2, \"boundary_score\": 1.0, \"rolling_avg_score\": 1.0, \"start_issue\": \"1962-02-12\", \"temp_issue_number\": 6.0, \"category\": \"Actual\"}, {\"page_number\": 232, \"predicted_boundary\": 0, \"boundary_score\": 1.0, \"rolling_avg_score\": 1.0, \"start_issue\": \"1962-02-12\", \"temp_issue_number\": 6.0, \"category\": \"Actual\"}, {\"page_number\": 233, \"predicted_boundary\": 1, \"boundary_score\": 1.0, \"rolling_avg_score\": 1.0, \"start_issue\": \"1962-02-12\", \"temp_issue_number\": 6.0, \"category\": \"Actual\"}, {\"page_number\": 234, \"predicted_boundary\": 1, \"boundary_score\": 1.0, \"rolling_avg_score\": 1.0, \"start_issue\": \"1962-02-12\", \"temp_issue_number\": 6.0, \"category\": \"Actual\"}, {\"page_number\": 235, \"predicted_boundary\": 7, \"boundary_score\": 1.0, \"rolling_avg_score\": 1.0, \"start_issue\": \"1962-02-12\", \"temp_issue_number\": 6.0, \"category\": \"Actual\"}, {\"page_number\": 236, \"predicted_boundary\": 4, \"boundary_score\": 1.0, \"rolling_avg_score\": 1.0, \"start_issue\": \"1962-02-12\", \"temp_issue_number\": 6.0, \"category\": \"Actual\"}, {\"page_number\": 237, \"predicted_boundary\": 12, \"boundary_score\": 1.0, \"rolling_avg_score\": 1.0, \"start_issue\": \"1962-02-12\", \"temp_issue_number\": 6.0, \"category\": \"Actual\"}, {\"page_number\": 238, \"predicted_boundary\": 14, \"boundary_score\": 1.0, \"rolling_avg_score\": 1.0, \"start_issue\": \"1962-02-12\", \"temp_issue_number\": 6.0, \"category\": \"Actual\"}, {\"page_number\": 239, \"predicted_boundary\": 2, \"boundary_score\": 1.6600000000000001, \"rolling_avg_score\": 1.1320000000000001, \"start_issue\": \"1962-02-12\", \"temp_issue_number\": 6.0, \"category\": \"Actual\"}, {\"page_number\": 240, \"predicted_boundary\": 1, \"boundary_score\": 2.0, \"rolling_avg_score\": 1.332, \"start_issue\": \"1962-02-12\", \"temp_issue_number\": 6.0, \"category\": \"Actual\"}, {\"page_number\": 241, \"predicted_boundary\": 12, \"boundary_score\": 1.0, \"rolling_avg_score\": 1.332, \"start_issue\": \"1962-02-12\", \"temp_issue_number\": 6.0, \"category\": \"Actual\"}, {\"page_number\": 242, \"predicted_boundary\": 1, \"boundary_score\": 1.0, \"rolling_avg_score\": 1.332, \"start_issue\": \"1962-02-12\", \"temp_issue_number\": 6.0, \"category\": \"Actual\"}, {\"page_number\": 243, \"predicted_boundary\": 1, \"boundary_score\": 1.0, \"rolling_avg_score\": 1.332, \"start_issue\": \"1962-02-12\", \"temp_issue_number\": 6.0, \"category\": \"Actual\"}, {\"page_number\": 244, \"predicted_boundary\": 1, \"boundary_score\": 1.0, \"rolling_avg_score\": 1.2, \"start_issue\": \"1962-02-12\", \"temp_issue_number\": 6.0, \"category\": \"Actual\"}, {\"page_number\": 245, \"predicted_boundary\": 0, \"boundary_score\": 1.0, \"rolling_avg_score\": 1.0, \"start_issue\": \"1962-02-12\", \"temp_issue_number\": 6.0, \"category\": \"Actual\"}, {\"page_number\": 246, \"predicted_boundary\": 1, \"boundary_score\": 1.0, \"rolling_avg_score\": 1.0, \"start_issue\": \"1962-02-12\", \"temp_issue_number\": 6.0, \"category\": \"Actual\"}, {\"page_number\": 247, \"predicted_boundary\": 6, \"boundary_score\": 1.0, \"rolling_avg_score\": 1.0, \"start_issue\": \"1962-02-12\", \"temp_issue_number\": 6.0, \"category\": \"Actual\"}, {\"page_number\": 248, \"predicted_boundary\": 1, \"boundary_score\": 1.0, \"rolling_avg_score\": 1.0, \"start_issue\": \"1962-02-12\", \"temp_issue_number\": 6.0, \"category\": \"Actual\"}, {\"page_number\": 249, \"predicted_boundary\": 1, \"boundary_score\": 1.0, \"rolling_avg_score\": 1.0, \"start_issue\": \"1962-02-12\", \"temp_issue_number\": 6.0, \"category\": \"Actual\"}, {\"page_number\": 250, \"predicted_boundary\": 0, \"boundary_score\": 1.0, \"rolling_avg_score\": 1.0, \"start_issue\": \"1962-02-12\", \"temp_issue_number\": 6.0, \"category\": \"Actual\"}, {\"page_number\": 251, \"predicted_boundary\": 0, \"boundary_score\": 1.0, \"rolling_avg_score\": 1.0, \"start_issue\": \"1962-02-12\", \"temp_issue_number\": 6.0, \"category\": \"Actual\"}, {\"page_number\": 252, \"predicted_boundary\": 1, \"boundary_score\": 1.0, \"rolling_avg_score\": 1.0, \"start_issue\": \"1962-02-12\", \"temp_issue_number\": 6.0, \"category\": \"Actual\"}, {\"page_number\": 253, \"predicted_boundary\": 12, \"boundary_score\": 1.0, \"rolling_avg_score\": 1.0, \"start_issue\": \"1962-02-12\", \"temp_issue_number\": 6.0, \"category\": \"Actual\"}, {\"page_number\": 254, \"predicted_boundary\": 30, \"boundary_score\": 1.0, \"rolling_avg_score\": 1.0, \"start_issue\": \"1962-02-12\", \"temp_issue_number\": 6.0, \"category\": \"Actual\"}, {\"page_number\": 255, \"predicted_boundary\": 5, \"boundary_score\": 1.0, \"rolling_avg_score\": 1.0, \"start_issue\": \"1962-02-12\", \"temp_issue_number\": 6.0, \"category\": \"Actual\"}, {\"page_number\": 256, \"predicted_boundary\": 1, \"boundary_score\": 1.0, \"rolling_avg_score\": 1.0, \"start_issue\": \"1962-02-12\", \"temp_issue_number\": 6.0, \"category\": \"Actual\"}, {\"page_number\": 257, \"predicted_boundary\": 0, \"boundary_score\": 1.0, \"rolling_avg_score\": 1.0, \"start_issue\": \"1962-02-12\", \"temp_issue_number\": 6.0, \"category\": \"Actual\"}, {\"page_number\": 258, \"predicted_boundary\": 0, \"boundary_score\": 1.0, \"rolling_avg_score\": 1.0, \"start_issue\": \"1962-02-12\", \"temp_issue_number\": 6.0, \"category\": \"Actual\"}, {\"page_number\": 259, \"predicted_boundary\": 19, \"boundary_score\": 1.0, \"rolling_avg_score\": 1.0, \"start_issue\": \"1962-02-19\", \"temp_issue_number\": 7.0, \"category\": \"Actual\"}, {\"page_number\": 260, \"predicted_boundary\": 0, \"boundary_score\": 1.0, \"rolling_avg_score\": 1.0, \"start_issue\": \"1962-02-19\", \"temp_issue_number\": 7.0, \"category\": \"Actual\"}, {\"page_number\": 261, \"predicted_boundary\": 0, \"boundary_score\": 1.0, \"rolling_avg_score\": 1.0, \"start_issue\": \"1962-02-19\", \"temp_issue_number\": 7.0, \"category\": \"Actual\"}, {\"page_number\": 262, \"predicted_boundary\": 23, \"boundary_score\": 1.0, \"rolling_avg_score\": 1.0, \"start_issue\": \"1962-02-19\", \"temp_issue_number\": 7.0, \"category\": \"Actual\"}, {\"page_number\": 264, \"predicted_boundary\": 1, \"boundary_score\": 1.0, \"rolling_avg_score\": 1.0, \"start_issue\": \"1962-02-19\", \"temp_issue_number\": 7.0, \"category\": \"Actual\"}, {\"page_number\": 265, \"predicted_boundary\": 8, \"boundary_score\": 1.0, \"rolling_avg_score\": 1.0, \"start_issue\": \"1962-02-19\", \"temp_issue_number\": 7.0, \"category\": \"Actual\"}, {\"page_number\": 266, \"predicted_boundary\": 1, \"boundary_score\": 1.0, \"rolling_avg_score\": 1.0, \"start_issue\": \"1962-02-19\", \"temp_issue_number\": 7.0, \"category\": \"Actual\"}, {\"page_number\": 267, \"predicted_boundary\": 10, \"boundary_score\": 1.0, \"rolling_avg_score\": 1.0, \"start_issue\": \"1962-02-19\", \"temp_issue_number\": 7.0, \"category\": \"Actual\"}, {\"page_number\": 268, \"predicted_boundary\": 1, \"boundary_score\": 1.0, \"rolling_avg_score\": 1.0, \"start_issue\": \"1962-02-19\", \"temp_issue_number\": 7.0, \"category\": \"Actual\"}, {\"page_number\": 269, \"predicted_boundary\": 0, \"boundary_score\": 1.0, \"rolling_avg_score\": 1.0, \"start_issue\": \"1962-02-19\", \"temp_issue_number\": 7.0, \"category\": \"Actual\"}, {\"page_number\": 270, \"predicted_boundary\": 6, \"boundary_score\": 1.0, \"rolling_avg_score\": 1.0, \"start_issue\": \"1962-02-19\", \"temp_issue_number\": 7.0, \"category\": \"Actual\"}, {\"page_number\": 271, \"predicted_boundary\": 3, \"boundary_score\": 1.0, \"rolling_avg_score\": 1.0, \"start_issue\": \"1962-02-19\", \"temp_issue_number\": 7.0, \"category\": \"Actual\"}, {\"page_number\": 272, \"predicted_boundary\": 0, \"boundary_score\": 1.0, \"rolling_avg_score\": 1.0, \"start_issue\": \"1962-02-19\", \"temp_issue_number\": 7.0, \"category\": \"Actual\"}, {\"page_number\": 273, \"predicted_boundary\": 2, \"boundary_score\": 1.0, \"rolling_avg_score\": 1.0, \"start_issue\": \"1962-02-19\", \"temp_issue_number\": 7.0, \"category\": \"Actual\"}, {\"page_number\": 274, \"predicted_boundary\": 7, \"boundary_score\": 1.0, \"rolling_avg_score\": 1.0, \"start_issue\": \"1962-02-19\", \"temp_issue_number\": 7.0, \"category\": \"Actual\"}, {\"page_number\": 275, \"predicted_boundary\": 1, \"boundary_score\": 1.0, \"rolling_avg_score\": 1.0, \"start_issue\": \"1962-02-19\", \"temp_issue_number\": 7.0, \"category\": \"Actual\"}, {\"page_number\": 276, \"predicted_boundary\": 16, \"boundary_score\": 1.0, \"rolling_avg_score\": 1.0, \"start_issue\": \"1962-02-19\", \"temp_issue_number\": 7.0, \"category\": \"Actual\"}, {\"page_number\": 277, \"predicted_boundary\": 17, \"boundary_score\": 1.0, \"rolling_avg_score\": 1.0, \"start_issue\": \"1962-02-19\", \"temp_issue_number\": 7.0, \"category\": \"Actual\"}, {\"page_number\": 278, \"predicted_boundary\": 3, \"boundary_score\": 2.0, \"rolling_avg_score\": 1.2, \"start_issue\": \"1962-02-19\", \"temp_issue_number\": 7.0, \"category\": \"Actual\"}, {\"page_number\": 279, \"predicted_boundary\": 2, \"boundary_score\": 1.0, \"rolling_avg_score\": 1.2, \"start_issue\": \"1962-02-19\", \"temp_issue_number\": 7.0, \"category\": \"Actual\"}, {\"page_number\": 280, \"predicted_boundary\": 37, \"boundary_score\": 1.0, \"rolling_avg_score\": 1.2, \"start_issue\": \"1962-02-19\", \"temp_issue_number\": 7.0, \"category\": \"Actual\"}, {\"page_number\": 281, \"predicted_boundary\": 1, \"boundary_score\": 1.0, \"rolling_avg_score\": 1.2, \"start_issue\": \"1962-02-19\", \"temp_issue_number\": 7.0, \"category\": \"Actual\"}, {\"page_number\": 282, \"predicted_boundary\": 22, \"boundary_score\": 1.0, \"rolling_avg_score\": 1.2, \"start_issue\": \"1962-02-19\", \"temp_issue_number\": 7.0, \"category\": \"Actual\"}, {\"page_number\": 283, \"predicted_boundary\": 6, \"boundary_score\": 1.0, \"rolling_avg_score\": 1.0, \"start_issue\": \"1962-02-19\", \"temp_issue_number\": 7.0, \"category\": \"Actual\"}, {\"page_number\": 284, \"predicted_boundary\": 24, \"boundary_score\": 1.0, \"rolling_avg_score\": 1.0, \"start_issue\": \"1962-02-19\", \"temp_issue_number\": 7.0, \"category\": \"Actual\"}, {\"page_number\": 285, \"predicted_boundary\": 13, \"boundary_score\": 1.0, \"rolling_avg_score\": 1.0, \"start_issue\": \"1962-02-19\", \"temp_issue_number\": 7.0, \"category\": \"Actual\"}, {\"page_number\": 286, \"predicted_boundary\": 3, \"boundary_score\": 1.0, \"rolling_avg_score\": 1.0, \"start_issue\": \"1962-02-19\", \"temp_issue_number\": 7.0, \"category\": \"Actual\"}, {\"page_number\": 287, \"predicted_boundary\": 2, \"boundary_score\": 3.0, \"rolling_avg_score\": 1.4, \"start_issue\": \"1962-02-19\", \"temp_issue_number\": 7.0, \"category\": \"Actual\"}, {\"page_number\": 288, \"predicted_boundary\": 1, \"boundary_score\": 1.3399999999999999, \"rolling_avg_score\": 1.468, \"start_issue\": \"1962-02-19\", \"temp_issue_number\": 7.0, \"category\": \"Actual\"}, {\"page_number\": 289, \"predicted_boundary\": 19, \"boundary_score\": 1.0, \"rolling_avg_score\": 1.468, \"start_issue\": \"1962-02-19\", \"temp_issue_number\": 7.0, \"category\": \"Actual\"}, {\"page_number\": 290, \"predicted_boundary\": 50, \"boundary_score\": 1.0, \"rolling_avg_score\": 1.468, \"start_issue\": \"1962-02-19\", \"temp_issue_number\": 7.0, \"category\": \"Actual\"}, {\"page_number\": 291, \"predicted_boundary\": 12, \"boundary_score\": 1.0, \"rolling_avg_score\": 1.468, \"start_issue\": \"1962-02-19\", \"temp_issue_number\": 7.0, \"category\": \"Actual\"}, {\"page_number\": 292, \"predicted_boundary\": 10, \"boundary_score\": 1.0, \"rolling_avg_score\": 1.068, \"start_issue\": \"1962-02-19\", \"temp_issue_number\": 7.0, \"category\": \"Actual\"}, {\"page_number\": 293, \"predicted_boundary\": 0, \"boundary_score\": 1.0, \"rolling_avg_score\": 1.0, \"start_issue\": \"1962-02-19\", \"temp_issue_number\": 7.0, \"category\": \"Actual\"}, {\"page_number\": 294, \"predicted_boundary\": 0, \"boundary_score\": 1.0, \"rolling_avg_score\": 1.0, \"start_issue\": \"1962-02-19\", \"temp_issue_number\": 7.0, \"category\": \"Actual\"}, {\"page_number\": 295, \"predicted_boundary\": 0, \"boundary_score\": 1.0, \"rolling_avg_score\": 1.0, \"start_issue\": \"1962-02-26\", \"temp_issue_number\": 8.0, \"category\": \"Actual\"}, {\"page_number\": 296, \"predicted_boundary\": 1, \"boundary_score\": 1.0, \"rolling_avg_score\": 1.0, \"start_issue\": \"1962-02-26\", \"temp_issue_number\": 8.0, \"category\": \"Actual\"}, {\"page_number\": 297, \"predicted_boundary\": 0, \"boundary_score\": 1.0, \"rolling_avg_score\": 1.0, \"start_issue\": \"1962-02-26\", \"temp_issue_number\": 8.0, \"category\": \"Actual\"}, {\"page_number\": 298, \"predicted_boundary\": 21, \"boundary_score\": 1.0, \"rolling_avg_score\": 1.0, \"start_issue\": \"1962-02-26\", \"temp_issue_number\": 8.0, \"category\": \"Actual\"}, {\"page_number\": 299, \"predicted_boundary\": 0, \"boundary_score\": 1.0, \"rolling_avg_score\": 1.0, \"start_issue\": \"1962-02-26\", \"temp_issue_number\": 8.0, \"category\": \"Actual\"}, {\"page_number\": 300, \"predicted_boundary\": 14, \"boundary_score\": 1.0, \"rolling_avg_score\": 1.0, \"start_issue\": \"1962-02-26\", \"temp_issue_number\": 8.0, \"category\": \"Actual\"}, {\"page_number\": 301, \"predicted_boundary\": 0, \"boundary_score\": 1.0, \"rolling_avg_score\": 1.0, \"start_issue\": \"1962-02-26\", \"temp_issue_number\": 8.0, \"category\": \"Actual\"}, {\"page_number\": 302, \"predicted_boundary\": 2, \"boundary_score\": 1.0, \"rolling_avg_score\": 1.0, \"start_issue\": \"1962-02-26\", \"temp_issue_number\": 8.0, \"category\": \"Actual\"}, {\"page_number\": 303, \"predicted_boundary\": 1, \"boundary_score\": 1.0, \"rolling_avg_score\": 1.0, \"start_issue\": \"1962-02-26\", \"temp_issue_number\": 8.0, \"category\": \"Actual\"}, {\"page_number\": 304, \"predicted_boundary\": 4, \"boundary_score\": 1.0, \"rolling_avg_score\": 1.0, \"start_issue\": \"1962-02-26\", \"temp_issue_number\": 8.0, \"category\": \"Actual\"}, {\"page_number\": 305, \"predicted_boundary\": 18, \"boundary_score\": 1.0, \"rolling_avg_score\": 1.0, \"start_issue\": \"1962-02-26\", \"temp_issue_number\": 8.0, \"category\": \"Actual\"}, {\"page_number\": 306, \"predicted_boundary\": 18, \"boundary_score\": 1.0, \"rolling_avg_score\": 1.0, \"start_issue\": \"1962-02-26\", \"temp_issue_number\": 8.0, \"category\": \"Actual\"}, {\"page_number\": 307, \"predicted_boundary\": 1, \"boundary_score\": 1.0, \"rolling_avg_score\": 1.0, \"start_issue\": \"1962-02-26\", \"temp_issue_number\": 8.0, \"category\": \"Actual\"}, {\"page_number\": 308, \"predicted_boundary\": 1, \"boundary_score\": 1.0, \"rolling_avg_score\": 1.0, \"start_issue\": \"1962-02-26\", \"temp_issue_number\": 8.0, \"category\": \"Actual\"}, {\"page_number\": 309, \"predicted_boundary\": 13, \"boundary_score\": 1.0, \"rolling_avg_score\": 1.0, \"start_issue\": \"1962-02-26\", \"temp_issue_number\": 8.0, \"category\": \"Actual\"}, {\"page_number\": 310, \"predicted_boundary\": 1, \"boundary_score\": 1.0, \"rolling_avg_score\": 1.0, \"start_issue\": \"1962-02-26\", \"temp_issue_number\": 8.0, \"category\": \"Actual\"}, {\"page_number\": 311, \"predicted_boundary\": 28, \"boundary_score\": 1.0, \"rolling_avg_score\": 1.0, \"start_issue\": \"1962-02-26\", \"temp_issue_number\": 8.0, \"category\": \"Actual\"}, {\"page_number\": 312, \"predicted_boundary\": 2, \"boundary_score\": 2.0, \"rolling_avg_score\": 1.2, \"start_issue\": \"1962-02-26\", \"temp_issue_number\": 8.0, \"category\": \"Actual\"}, {\"page_number\": 313, \"predicted_boundary\": 17, \"boundary_score\": 1.0, \"rolling_avg_score\": 1.2, \"start_issue\": \"1962-02-26\", \"temp_issue_number\": 8.0, \"category\": \"Actual\"}, {\"page_number\": 314, \"predicted_boundary\": 1, \"boundary_score\": 2.0, \"rolling_avg_score\": 1.4, \"start_issue\": \"1962-02-26\", \"temp_issue_number\": 8.0, \"category\": \"Actual\"}, {\"page_number\": 315, \"predicted_boundary\": 1, \"boundary_score\": 1.3399999999999999, \"rolling_avg_score\": 1.468, \"start_issue\": \"1962-02-26\", \"temp_issue_number\": 8.0, \"category\": \"Actual\"}, {\"page_number\": 316, \"predicted_boundary\": 1, \"boundary_score\": 1.3399999999999999, \"rolling_avg_score\": 1.536, \"start_issue\": \"1962-02-26\", \"temp_issue_number\": 8.0, \"category\": \"Actual\"}, {\"page_number\": 317, \"predicted_boundary\": 2, \"boundary_score\": 1.3399999999999999, \"rolling_avg_score\": 1.404, \"start_issue\": \"1962-02-26\", \"temp_issue_number\": 8.0, \"category\": \"Actual\"}, {\"page_number\": 318, \"predicted_boundary\": 9, \"boundary_score\": 1.0, \"rolling_avg_score\": 1.404, \"start_issue\": \"1962-02-26\", \"temp_issue_number\": 8.0, \"category\": \"Actual\"}, {\"page_number\": 319, \"predicted_boundary\": 3, \"boundary_score\": 1.0, \"rolling_avg_score\": 1.204, \"start_issue\": \"1962-02-26\", \"temp_issue_number\": 8.0, \"category\": \"Actual\"}, {\"page_number\": 320, \"predicted_boundary\": 14, \"boundary_score\": 1.0, \"rolling_avg_score\": 1.136, \"start_issue\": \"1962-02-26\", \"temp_issue_number\": 8.0, \"category\": \"Actual\"}, {\"page_number\": 321, \"predicted_boundary\": 2, \"boundary_score\": 1.6600000000000001, \"rolling_avg_score\": 1.2, \"start_issue\": \"1962-02-26\", \"temp_issue_number\": 8.0, \"category\": \"Actual\"}, {\"page_number\": 322, \"predicted_boundary\": 1, \"boundary_score\": 1.6600000000000001, \"rolling_avg_score\": 1.264, \"start_issue\": \"1962-02-26\", \"temp_issue_number\": 8.0, \"category\": \"Actual\"}, {\"page_number\": 323, \"predicted_boundary\": 1, \"boundary_score\": 1.6600000000000001, \"rolling_avg_score\": 1.3960000000000001, \"start_issue\": \"1962-02-26\", \"temp_issue_number\": 8.0, \"category\": \"Actual\"}, {\"page_number\": 324, \"predicted_boundary\": 2, \"boundary_score\": 3.0, \"rolling_avg_score\": 1.796, \"start_issue\": \"1962-02-26\", \"temp_issue_number\": 8.0, \"category\": \"Actual\"}, {\"page_number\": 325, \"predicted_boundary\": 21, \"boundary_score\": 1.3399999999999999, \"rolling_avg_score\": 1.864, \"start_issue\": \"1962-02-26\", \"temp_issue_number\": 8.0, \"category\": \"Actual\"}, {\"page_number\": 326, \"predicted_boundary\": 20, \"boundary_score\": 1.0, \"rolling_avg_score\": 1.732, \"start_issue\": \"1962-02-26\", \"temp_issue_number\": 8.0, \"category\": \"Actual\"}, {\"page_number\": 327, \"predicted_boundary\": 31, \"boundary_score\": 1.0, \"rolling_avg_score\": 1.6, \"start_issue\": \"1962-02-26\", \"temp_issue_number\": 8.0, \"category\": \"Actual\"}, {\"page_number\": 328, \"predicted_boundary\": 1, \"boundary_score\": 1.0, \"rolling_avg_score\": 1.468, \"start_issue\": \"1962-02-26\", \"temp_issue_number\": 8.0, \"category\": \"Actual\"}, {\"page_number\": 329, \"predicted_boundary\": 0, \"boundary_score\": 1.0, \"rolling_avg_score\": 1.068, \"start_issue\": \"1962-02-26\", \"temp_issue_number\": 8.0, \"category\": \"Actual\"}, {\"page_number\": 330, \"predicted_boundary\": 0, \"boundary_score\": 1.0, \"rolling_avg_score\": 1.0, \"start_issue\": \"1962-02-26\", \"temp_issue_number\": 8.0, \"category\": \"Actual\"}, {\"page_number\": 331, \"predicted_boundary\": 0, \"boundary_score\": 1.0, \"rolling_avg_score\": 1.0, \"start_issue\": \"1962-03-05\", \"temp_issue_number\": 9.0, \"category\": \"Actual\"}, {\"page_number\": 332, \"predicted_boundary\": 0, \"boundary_score\": 1.0, \"rolling_avg_score\": 1.0, \"start_issue\": \"1962-03-05\", \"temp_issue_number\": 9.0, \"category\": \"Actual\"}, {\"page_number\": 333, \"predicted_boundary\": 0, \"boundary_score\": 1.0, \"rolling_avg_score\": 1.0, \"start_issue\": \"1962-03-05\", \"temp_issue_number\": 9.0, \"category\": \"Actual\"}, {\"page_number\": 334, \"predicted_boundary\": 0, \"boundary_score\": 1.0, \"rolling_avg_score\": 1.0, \"start_issue\": \"1962-03-05\", \"temp_issue_number\": 9.0, \"category\": \"Actual\"}, {\"page_number\": 335, \"predicted_boundary\": 1, \"boundary_score\": 2.0, \"rolling_avg_score\": 1.2, \"start_issue\": \"1962-03-05\", \"temp_issue_number\": 9.0, \"category\": \"Actual\"}, {\"page_number\": 336, \"predicted_boundary\": 1, \"boundary_score\": 1.3399999999999999, \"rolling_avg_score\": 1.268, \"start_issue\": \"1962-03-05\", \"temp_issue_number\": 9.0, \"category\": \"Actual\"}, {\"page_number\": 337, \"predicted_boundary\": 0, \"boundary_score\": 1.0, \"rolling_avg_score\": 1.268, \"start_issue\": \"1962-03-05\", \"temp_issue_number\": 9.0, \"category\": \"Actual\"}, {\"page_number\": 338, \"predicted_boundary\": 6, \"boundary_score\": 1.0, \"rolling_avg_score\": 1.268, \"start_issue\": \"1962-03-05\", \"temp_issue_number\": 9.0, \"category\": \"Actual\"}, {\"page_number\": 339, \"predicted_boundary\": 11, \"boundary_score\": 1.0, \"rolling_avg_score\": 1.268, \"start_issue\": \"1962-03-05\", \"temp_issue_number\": 9.0, \"category\": \"Actual\"}, {\"page_number\": 340, \"predicted_boundary\": 4, \"boundary_score\": 1.0, \"rolling_avg_score\": 1.068, \"start_issue\": \"1962-03-05\", \"temp_issue_number\": 9.0, \"category\": \"Actual\"}, {\"page_number\": 341, \"predicted_boundary\": 0, \"boundary_score\": 1.0, \"rolling_avg_score\": 1.0, \"start_issue\": \"1962-03-05\", \"temp_issue_number\": 9.0, \"category\": \"Actual\"}, {\"page_number\": 342, \"predicted_boundary\": 10, \"boundary_score\": 1.0, \"rolling_avg_score\": 1.0, \"start_issue\": \"1962-03-05\", \"temp_issue_number\": 9.0, \"category\": \"Actual\"}, {\"page_number\": 343, \"predicted_boundary\": 0, \"boundary_score\": 1.0, \"rolling_avg_score\": 1.0, \"start_issue\": \"1962-03-05\", \"temp_issue_number\": 9.0, \"category\": \"Actual\"}, {\"page_number\": 344, \"predicted_boundary\": 2, \"boundary_score\": 1.0, \"rolling_avg_score\": 1.0, \"start_issue\": \"1962-03-05\", \"temp_issue_number\": 9.0, \"category\": \"Actual\"}, {\"page_number\": 345, \"predicted_boundary\": 13, \"boundary_score\": 1.0, \"rolling_avg_score\": 1.0, \"start_issue\": \"1962-03-05\", \"temp_issue_number\": 9.0, \"category\": \"Actual\"}, {\"page_number\": 346, \"predicted_boundary\": 14, \"boundary_score\": 1.0, \"rolling_avg_score\": 1.0, \"start_issue\": \"1962-03-05\", \"temp_issue_number\": 9.0, \"category\": \"Actual\"}, {\"page_number\": 347, \"predicted_boundary\": 3, \"boundary_score\": 1.0, \"rolling_avg_score\": 1.0, \"start_issue\": \"1962-03-05\", \"temp_issue_number\": 9.0, \"category\": \"Actual\"}, {\"page_number\": 348, \"predicted_boundary\": 1, \"boundary_score\": 1.0, \"rolling_avg_score\": 1.0, \"start_issue\": \"1962-03-05\", \"temp_issue_number\": 9.0, \"category\": \"Actual\"}, {\"page_number\": 349, \"predicted_boundary\": 22, \"boundary_score\": 1.0, \"rolling_avg_score\": 1.0, \"start_issue\": \"1962-03-05\", \"temp_issue_number\": 9.0, \"category\": \"Actual\"}, {\"page_number\": 350, \"predicted_boundary\": 6, \"boundary_score\": 1.0, \"rolling_avg_score\": 1.0, \"start_issue\": \"1962-03-05\", \"temp_issue_number\": 9.0, \"category\": \"Actual\"}, {\"page_number\": 351, \"predicted_boundary\": 1, \"boundary_score\": 1.0, \"rolling_avg_score\": 1.0, \"start_issue\": \"1962-03-05\", \"temp_issue_number\": 9.0, \"category\": \"Actual\"}, {\"page_number\": 352, \"predicted_boundary\": 0, \"boundary_score\": 2.0, \"rolling_avg_score\": 1.2, \"start_issue\": \"1962-03-05\", \"temp_issue_number\": 9.0, \"category\": \"Actual\"}, {\"page_number\": 353, \"predicted_boundary\": 5, \"boundary_score\": 1.0, \"rolling_avg_score\": 1.2, \"start_issue\": \"1962-03-05\", \"temp_issue_number\": 9.0, \"category\": \"Actual\"}, {\"page_number\": 354, \"predicted_boundary\": 14, \"boundary_score\": 1.0, \"rolling_avg_score\": 1.2, \"start_issue\": \"1962-03-05\", \"temp_issue_number\": 9.0, \"category\": \"Actual\"}, {\"page_number\": 355, \"predicted_boundary\": 9, \"boundary_score\": 1.0, \"rolling_avg_score\": 1.2, \"start_issue\": \"1962-03-05\", \"temp_issue_number\": 9.0, \"category\": \"Actual\"}, {\"page_number\": 356, \"predicted_boundary\": 1, \"boundary_score\": 1.0, \"rolling_avg_score\": 1.2, \"start_issue\": \"1962-03-05\", \"temp_issue_number\": 9.0, \"category\": \"Actual\"}, {\"page_number\": 357, \"predicted_boundary\": 7, \"boundary_score\": 1.0, \"rolling_avg_score\": 1.0, \"start_issue\": \"1962-03-05\", \"temp_issue_number\": 9.0, \"category\": \"Actual\"}, {\"page_number\": 358, \"predicted_boundary\": 0, \"boundary_score\": 1.0, \"rolling_avg_score\": 1.0, \"start_issue\": \"1962-03-05\", \"temp_issue_number\": 9.0, \"category\": \"Actual\"}, {\"page_number\": 359, \"predicted_boundary\": 0, \"boundary_score\": 1.0, \"rolling_avg_score\": 1.0, \"start_issue\": \"1962-03-05\", \"temp_issue_number\": 9.0, \"category\": \"Actual\"}, {\"page_number\": 360, \"predicted_boundary\": 7, \"boundary_score\": 1.6600000000000001, \"rolling_avg_score\": 1.1320000000000001, \"start_issue\": \"1962-03-05\", \"temp_issue_number\": 9.0, \"category\": \"Actual\"}, {\"page_number\": 361, \"predicted_boundary\": 5, \"boundary_score\": 2.0, \"rolling_avg_score\": 1.332, \"start_issue\": \"1962-03-05\", \"temp_issue_number\": 9.0, \"category\": \"Actual\"}, {\"page_number\": 362, \"predicted_boundary\": 30, \"boundary_score\": 1.0, \"rolling_avg_score\": 1.332, \"start_issue\": \"1962-03-05\", \"temp_issue_number\": 9.0, \"category\": \"Actual\"}, {\"page_number\": 363, \"predicted_boundary\": 1, \"boundary_score\": 1.0, \"rolling_avg_score\": 1.332, \"start_issue\": \"1962-03-05\", \"temp_issue_number\": 9.0, \"category\": \"Actual\"}, {\"page_number\": 364, \"predicted_boundary\": 1, \"boundary_score\": 1.0, \"rolling_avg_score\": 1.332, \"start_issue\": \"1962-03-05\", \"temp_issue_number\": 9.0, \"category\": \"Actual\"}, {\"page_number\": 366, \"predicted_boundary\": 0, \"boundary_score\": 1.0, \"rolling_avg_score\": 1.2, \"start_issue\": \"1962-03-05\", \"temp_issue_number\": 9.0, \"category\": \"Actual\"}, {\"page_number\": 367, \"predicted_boundary\": 2, \"boundary_score\": 1.0, \"rolling_avg_score\": 1.0, \"start_issue\": \"1962-03-12\", \"temp_issue_number\": 10.0, \"category\": \"Actual\"}, {\"page_number\": 369, \"predicted_boundary\": 1, \"boundary_score\": 1.0, \"rolling_avg_score\": 1.0, \"start_issue\": \"1962-03-12\", \"temp_issue_number\": 10.0, \"category\": \"Actual\"}, {\"page_number\": 370, \"predicted_boundary\": 11, \"boundary_score\": 1.0, \"rolling_avg_score\": 1.0, \"start_issue\": \"1962-03-12\", \"temp_issue_number\": 10.0, \"category\": \"Actual\"}, {\"page_number\": 371, \"predicted_boundary\": 1, \"boundary_score\": 1.6600000000000001, \"rolling_avg_score\": 1.1320000000000001, \"start_issue\": \"1962-03-12\", \"temp_issue_number\": 10.0, \"category\": \"Actual\"}, {\"page_number\": 372, \"predicted_boundary\": 1, \"boundary_score\": 1.6600000000000001, \"rolling_avg_score\": 1.264, \"start_issue\": \"1962-03-12\", \"temp_issue_number\": 10.0, \"category\": \"Actual\"}, {\"page_number\": 373, \"predicted_boundary\": 1, \"boundary_score\": 2.0, \"rolling_avg_score\": 1.464, \"start_issue\": \"1962-03-12\", \"temp_issue_number\": 10.0, \"category\": \"Actual\"}, {\"page_number\": 374, \"predicted_boundary\": 6, \"boundary_score\": 1.0, \"rolling_avg_score\": 1.464, \"start_issue\": \"1962-03-12\", \"temp_issue_number\": 10.0, \"category\": \"Actual\"}, {\"page_number\": 375, \"predicted_boundary\": 1, \"boundary_score\": 1.0, \"rolling_avg_score\": 1.464, \"start_issue\": \"1962-03-12\", \"temp_issue_number\": 10.0, \"category\": \"Actual\"}, {\"page_number\": 376, \"predicted_boundary\": 1, \"boundary_score\": 1.0, \"rolling_avg_score\": 1.332, \"start_issue\": \"1962-03-12\", \"temp_issue_number\": 10.0, \"category\": \"Actual\"}, {\"page_number\": 377, \"predicted_boundary\": 0, \"boundary_score\": 1.0, \"rolling_avg_score\": 1.2, \"start_issue\": \"1962-03-12\", \"temp_issue_number\": 10.0, \"category\": \"Actual\"}, {\"page_number\": 378, \"predicted_boundary\": 10, \"boundary_score\": 1.0, \"rolling_avg_score\": 1.0, \"start_issue\": \"1962-03-12\", \"temp_issue_number\": 10.0, \"category\": \"Actual\"}, {\"page_number\": 379, \"predicted_boundary\": 13, \"boundary_score\": 1.0, \"rolling_avg_score\": 1.0, \"start_issue\": \"1962-03-12\", \"temp_issue_number\": 10.0, \"category\": \"Actual\"}, {\"page_number\": 380, \"predicted_boundary\": 12, \"boundary_score\": 1.0, \"rolling_avg_score\": 1.0, \"start_issue\": \"1962-03-12\", \"temp_issue_number\": 10.0, \"category\": \"Actual\"}, {\"page_number\": 381, \"predicted_boundary\": 1, \"boundary_score\": 1.0, \"rolling_avg_score\": 1.0, \"start_issue\": \"1962-03-12\", \"temp_issue_number\": 10.0, \"category\": \"Actual\"}, {\"page_number\": 382, \"predicted_boundary\": 1, \"boundary_score\": 1.0, \"rolling_avg_score\": 1.0, \"start_issue\": \"1962-03-12\", \"temp_issue_number\": 10.0, \"category\": \"Actual\"}, {\"page_number\": 383, \"predicted_boundary\": 15, \"boundary_score\": 1.0, \"rolling_avg_score\": 1.0, \"start_issue\": \"1962-03-12\", \"temp_issue_number\": 10.0, \"category\": \"Actual\"}, {\"page_number\": 384, \"predicted_boundary\": 1, \"boundary_score\": 1.0, \"rolling_avg_score\": 1.0, \"start_issue\": \"1962-03-12\", \"temp_issue_number\": 10.0, \"category\": \"Actual\"}, {\"page_number\": 385, \"predicted_boundary\": 17, \"boundary_score\": 1.0, \"rolling_avg_score\": 1.0, \"start_issue\": \"1962-03-12\", \"temp_issue_number\": 10.0, \"category\": \"Actual\"}, {\"page_number\": 386, \"predicted_boundary\": 12, \"boundary_score\": 1.0, \"rolling_avg_score\": 1.0, \"start_issue\": \"1962-03-12\", \"temp_issue_number\": 10.0, \"category\": \"Actual\"}, {\"page_number\": 387, \"predicted_boundary\": 1, \"boundary_score\": 1.6600000000000001, \"rolling_avg_score\": 1.1320000000000001, \"start_issue\": \"1962-03-12\", \"temp_issue_number\": 10.0, \"category\": \"Actual\"}, {\"page_number\": 388, \"predicted_boundary\": 1, \"boundary_score\": 1.6600000000000001, \"rolling_avg_score\": 1.264, \"start_issue\": \"1962-03-12\", \"temp_issue_number\": 10.0, \"category\": \"Actual\"}, {\"page_number\": 389, \"predicted_boundary\": 1, \"boundary_score\": 1.6600000000000001, \"rolling_avg_score\": 1.3960000000000001, \"start_issue\": \"1962-03-12\", \"temp_issue_number\": 10.0, \"category\": \"Actual\"}, {\"page_number\": 390, \"predicted_boundary\": 1, \"boundary_score\": 1.6600000000000001, \"rolling_avg_score\": 1.528, \"start_issue\": \"1962-03-12\", \"temp_issue_number\": 10.0, \"category\": \"Actual\"}, {\"page_number\": 391, \"predicted_boundary\": 1, \"boundary_score\": 3.0, \"rolling_avg_score\": 1.9280000000000002, \"start_issue\": \"1962-03-12\", \"temp_issue_number\": 10.0, \"category\": \"Actual\"}, {\"page_number\": 392, \"predicted_boundary\": 1, \"boundary_score\": 2.0, \"rolling_avg_score\": 1.996, \"start_issue\": \"1962-03-12\", \"temp_issue_number\": 10.0, \"category\": \"Actual\"}, {\"page_number\": 393, \"predicted_boundary\": 1, \"boundary_score\": 2.0, \"rolling_avg_score\": 2.064, \"start_issue\": \"1962-03-12\", \"temp_issue_number\": 10.0, \"category\": \"Actual\"}, {\"page_number\": 394, \"predicted_boundary\": 1, \"boundary_score\": 2.0, \"rolling_avg_score\": 2.132, \"start_issue\": \"1962-03-12\", \"temp_issue_number\": 10.0, \"category\": \"Actual\"}, {\"page_number\": 395, \"predicted_boundary\": 1, \"boundary_score\": 2.0, \"rolling_avg_score\": 2.2, \"start_issue\": \"1962-03-12\", \"temp_issue_number\": 10.0, \"category\": \"Actual\"}, {\"page_number\": 396, \"predicted_boundary\": 1, \"boundary_score\": 2.0, \"rolling_avg_score\": 2.0, \"start_issue\": \"1962-03-12\", \"temp_issue_number\": 10.0, \"category\": \"Actual\"}, {\"page_number\": 397, \"predicted_boundary\": 0, \"boundary_score\": 2.0, \"rolling_avg_score\": 2.0, \"start_issue\": \"1962-03-12\", \"temp_issue_number\": 10.0, \"category\": \"Actual\"}, {\"page_number\": 398, \"predicted_boundary\": 1, \"boundary_score\": 1.0, \"rolling_avg_score\": 1.8, \"start_issue\": \"1962-03-12\", \"temp_issue_number\": 10.0, \"category\": \"Actual\"}, {\"page_number\": 399, \"predicted_boundary\": 12, \"boundary_score\": 1.0, \"rolling_avg_score\": 1.6, \"start_issue\": \"1962-03-12\", \"temp_issue_number\": 10.0, \"category\": \"Actual\"}, {\"page_number\": 400, \"predicted_boundary\": 1, \"boundary_score\": 1.0, \"rolling_avg_score\": 1.4, \"start_issue\": \"1962-03-12\", \"temp_issue_number\": 10.0, \"category\": \"Actual\"}, {\"page_number\": 402, \"predicted_boundary\": 0, \"boundary_score\": 1.0, \"rolling_avg_score\": 1.2, \"start_issue\": \"1962-03-12\", \"temp_issue_number\": 10.0, \"category\": \"Actual\"}, {\"page_number\": 403, \"predicted_boundary\": 2, \"boundary_score\": 1.0, \"rolling_avg_score\": 1.0, \"start_issue\": \"1962-03-19\", \"temp_issue_number\": 11.0, \"category\": \"Actual\"}, {\"page_number\": 404, \"predicted_boundary\": 0, \"boundary_score\": 1.0, \"rolling_avg_score\": 1.0, \"start_issue\": \"1962-03-19\", \"temp_issue_number\": 11.0, \"category\": \"Actual\"}, {\"page_number\": 405, \"predicted_boundary\": 0, \"boundary_score\": 1.0, \"rolling_avg_score\": 1.0, \"start_issue\": \"1962-03-19\", \"temp_issue_number\": 11.0, \"category\": \"Actual\"}, {\"page_number\": 406, \"predicted_boundary\": 3, \"boundary_score\": 1.0, \"rolling_avg_score\": 1.0, \"start_issue\": \"1962-03-19\", \"temp_issue_number\": 11.0, \"category\": \"Actual\"}, {\"page_number\": 408, \"predicted_boundary\": 4, \"boundary_score\": 1.0, \"rolling_avg_score\": 1.0, \"start_issue\": \"1962-03-19\", \"temp_issue_number\": 11.0, \"category\": \"Actual\"}, {\"page_number\": 409, \"predicted_boundary\": 1, \"boundary_score\": 1.0, \"rolling_avg_score\": 1.0, \"start_issue\": \"1962-03-19\", \"temp_issue_number\": 11.0, \"category\": \"Actual\"}, {\"page_number\": 410, \"predicted_boundary\": 6, \"boundary_score\": 1.0, \"rolling_avg_score\": 1.0, \"start_issue\": \"1962-03-19\", \"temp_issue_number\": 11.0, \"category\": \"Actual\"}, {\"page_number\": 411, \"predicted_boundary\": 19, \"boundary_score\": 1.0, \"rolling_avg_score\": 1.0, \"start_issue\": \"1962-03-19\", \"temp_issue_number\": 11.0, \"category\": \"Actual\"}, {\"page_number\": 412, \"predicted_boundary\": 4, \"boundary_score\": 1.0, \"rolling_avg_score\": 1.0, \"start_issue\": \"1962-03-19\", \"temp_issue_number\": 11.0, \"category\": \"Actual\"}, {\"page_number\": 413, \"predicted_boundary\": 1, \"boundary_score\": 1.0, \"rolling_avg_score\": 1.0, \"start_issue\": \"1962-03-19\", \"temp_issue_number\": 11.0, \"category\": \"Actual\"}, {\"page_number\": 414, \"predicted_boundary\": 1, \"boundary_score\": 1.0, \"rolling_avg_score\": 1.0, \"start_issue\": \"1962-03-19\", \"temp_issue_number\": 11.0, \"category\": \"Actual\"}, {\"page_number\": 415, \"predicted_boundary\": 1, \"boundary_score\": 1.0, \"rolling_avg_score\": 1.0, \"start_issue\": \"1962-03-19\", \"temp_issue_number\": 11.0, \"category\": \"Actual\"}, {\"page_number\": 416, \"predicted_boundary\": 1, \"boundary_score\": 1.0, \"rolling_avg_score\": 1.0, \"start_issue\": \"1962-03-19\", \"temp_issue_number\": 11.0, \"category\": \"Actual\"}, {\"page_number\": 417, \"predicted_boundary\": 12, \"boundary_score\": 1.0, \"rolling_avg_score\": 1.0, \"start_issue\": \"1962-03-19\", \"temp_issue_number\": 11.0, \"category\": \"Actual\"}, {\"page_number\": 418, \"predicted_boundary\": 0, \"boundary_score\": 2.0, \"rolling_avg_score\": 1.2, \"start_issue\": \"1962-03-19\", \"temp_issue_number\": 11.0, \"category\": \"Actual\"}, {\"page_number\": 419, \"predicted_boundary\": 0, \"boundary_score\": 1.3399999999999999, \"rolling_avg_score\": 1.268, \"start_issue\": \"1962-03-19\", \"temp_issue_number\": 11.0, \"category\": \"Actual\"}, {\"page_number\": 420, \"predicted_boundary\": 1, \"boundary_score\": 1.3399999999999999, \"rolling_avg_score\": 1.3359999999999999, \"start_issue\": \"1962-03-19\", \"temp_issue_number\": 11.0, \"category\": \"Actual\"}, {\"page_number\": 421, \"predicted_boundary\": 13, \"boundary_score\": 1.0, \"rolling_avg_score\": 1.3359999999999999, \"start_issue\": \"1962-03-19\", \"temp_issue_number\": 11.0, \"category\": \"Actual\"}, {\"page_number\": 422, \"predicted_boundary\": 0, \"boundary_score\": 1.0, \"rolling_avg_score\": 1.3359999999999999, \"start_issue\": \"1962-03-19\", \"temp_issue_number\": 11.0, \"category\": \"Actual\"}, {\"page_number\": 423, \"predicted_boundary\": 14, \"boundary_score\": 1.0, \"rolling_avg_score\": 1.136, \"start_issue\": \"1962-03-19\", \"temp_issue_number\": 11.0, \"category\": \"Actual\"}, {\"page_number\": 424, \"predicted_boundary\": 4, \"boundary_score\": 1.0, \"rolling_avg_score\": 1.068, \"start_issue\": \"1962-03-19\", \"temp_issue_number\": 11.0, \"category\": \"Actual\"}, {\"page_number\": 425, \"predicted_boundary\": 9, \"boundary_score\": 1.0, \"rolling_avg_score\": 1.0, \"start_issue\": \"1962-03-19\", \"temp_issue_number\": 11.0, \"category\": \"Actual\"}, {\"page_number\": 426, \"predicted_boundary\": 1, \"boundary_score\": 1.0, \"rolling_avg_score\": 1.0, \"start_issue\": \"1962-03-19\", \"temp_issue_number\": 11.0, \"category\": \"Actual\"}, {\"page_number\": 427, \"predicted_boundary\": 3, \"boundary_score\": 1.0, \"rolling_avg_score\": 1.0, \"start_issue\": \"1962-03-19\", \"temp_issue_number\": 11.0, \"category\": \"Actual\"}, {\"page_number\": 428, \"predicted_boundary\": 3, \"boundary_score\": 1.0, \"rolling_avg_score\": 1.0, \"start_issue\": \"1962-03-19\", \"temp_issue_number\": 11.0, \"category\": \"Actual\"}, {\"page_number\": 429, \"predicted_boundary\": 2, \"boundary_score\": 1.0, \"rolling_avg_score\": 1.0, \"start_issue\": \"1962-03-19\", \"temp_issue_number\": 11.0, \"category\": \"Actual\"}, {\"page_number\": 430, \"predicted_boundary\": 0, \"boundary_score\": 1.0, \"rolling_avg_score\": 1.0, \"start_issue\": \"1962-03-19\", \"temp_issue_number\": 11.0, \"category\": \"Actual\"}, {\"page_number\": 431, \"predicted_boundary\": 0, \"boundary_score\": 1.0, \"rolling_avg_score\": 1.0, \"start_issue\": \"1962-03-19\", \"temp_issue_number\": 11.0, \"category\": \"Actual\"}, {\"page_number\": 432, \"predicted_boundary\": 0, \"boundary_score\": 1.0, \"rolling_avg_score\": 1.0, \"start_issue\": \"1962-03-19\", \"temp_issue_number\": 11.0, \"category\": \"Actual\"}, {\"page_number\": 433, \"predicted_boundary\": 19, \"boundary_score\": 1.0, \"rolling_avg_score\": 1.0, \"start_issue\": \"1962-03-19\", \"temp_issue_number\": 11.0, \"category\": \"Actual\"}, {\"page_number\": 434, \"predicted_boundary\": 0, \"boundary_score\": 2.0, \"rolling_avg_score\": 1.2, \"start_issue\": \"1962-03-19\", \"temp_issue_number\": 11.0, \"category\": \"Actual\"}, {\"page_number\": 435, \"predicted_boundary\": 1, \"boundary_score\": 1.0, \"rolling_avg_score\": 1.2, \"start_issue\": \"1962-03-19\", \"temp_issue_number\": 11.0, \"category\": \"Actual\"}, {\"page_number\": 436, \"predicted_boundary\": 33, \"boundary_score\": 1.0, \"rolling_avg_score\": 1.2, \"start_issue\": \"1962-03-19\", \"temp_issue_number\": 11.0, \"category\": \"Actual\"}, {\"page_number\": 438, \"predicted_boundary\": 0, \"boundary_score\": 1.0, \"rolling_avg_score\": 1.2, \"start_issue\": \"1962-03-19\", \"temp_issue_number\": 11.0, \"category\": \"Actual\"}, {\"page_number\": 439, \"predicted_boundary\": 2, \"boundary_score\": 1.0, \"rolling_avg_score\": 1.2, \"start_issue\": \"1962-03-26\", \"temp_issue_number\": 12.0, \"category\": \"Actual\"}, {\"page_number\": 441, \"predicted_boundary\": 0, \"boundary_score\": 1.0, \"rolling_avg_score\": 1.0, \"start_issue\": \"1962-03-26\", \"temp_issue_number\": 12.0, \"category\": \"Actual\"}, {\"page_number\": 442, \"predicted_boundary\": 0, \"boundary_score\": 1.0, \"rolling_avg_score\": 1.0, \"start_issue\": \"1962-03-26\", \"temp_issue_number\": 12.0, \"category\": \"Actual\"}, {\"page_number\": 443, \"predicted_boundary\": 0, \"boundary_score\": 1.0, \"rolling_avg_score\": 1.0, \"start_issue\": \"1962-03-26\", \"temp_issue_number\": 12.0, \"category\": \"Actual\"}, {\"page_number\": 444, \"predicted_boundary\": 0, \"boundary_score\": 1.0, \"rolling_avg_score\": 1.0, \"start_issue\": \"1962-03-26\", \"temp_issue_number\": 12.0, \"category\": \"Actual\"}, {\"page_number\": 445, \"predicted_boundary\": 1, \"boundary_score\": 1.0, \"rolling_avg_score\": 1.0, \"start_issue\": \"1962-03-26\", \"temp_issue_number\": 12.0, \"category\": \"Actual\"}, {\"page_number\": 446, \"predicted_boundary\": 1, \"boundary_score\": 1.0, \"rolling_avg_score\": 1.0, \"start_issue\": \"1962-03-26\", \"temp_issue_number\": 12.0, \"category\": \"Actual\"}, {\"page_number\": 447, \"predicted_boundary\": 1, \"boundary_score\": 1.0, \"rolling_avg_score\": 1.0, \"start_issue\": \"1962-03-26\", \"temp_issue_number\": 12.0, \"category\": \"Actual\"}, {\"page_number\": 448, \"predicted_boundary\": 14, \"boundary_score\": 1.0, \"rolling_avg_score\": 1.0, \"start_issue\": \"1962-03-26\", \"temp_issue_number\": 12.0, \"category\": \"Actual\"}, {\"page_number\": 449, \"predicted_boundary\": 0, \"boundary_score\": 1.0, \"rolling_avg_score\": 1.0, \"start_issue\": \"1962-03-26\", \"temp_issue_number\": 12.0, \"category\": \"Actual\"}, {\"page_number\": 450, \"predicted_boundary\": 1, \"boundary_score\": 1.6600000000000001, \"rolling_avg_score\": 1.1320000000000001, \"start_issue\": \"1962-03-26\", \"temp_issue_number\": 12.0, \"category\": \"Actual\"}, {\"page_number\": 451, \"predicted_boundary\": 1, \"boundary_score\": 1.6600000000000001, \"rolling_avg_score\": 1.264, \"start_issue\": \"1962-03-26\", \"temp_issue_number\": 12.0, \"category\": \"Actual\"}, {\"page_number\": 452, \"predicted_boundary\": 1, \"boundary_score\": 2.0, \"rolling_avg_score\": 1.464, \"start_issue\": \"1962-03-26\", \"temp_issue_number\": 12.0, \"category\": \"Actual\"}, {\"page_number\": 453, \"predicted_boundary\": 0, \"boundary_score\": 2.0, \"rolling_avg_score\": 1.6640000000000001, \"start_issue\": \"1962-03-26\", \"temp_issue_number\": 12.0, \"category\": \"Actual\"}, {\"page_number\": 454, \"predicted_boundary\": 0, \"boundary_score\": 1.3399999999999999, \"rolling_avg_score\": 1.732, \"start_issue\": \"1962-03-26\", \"temp_issue_number\": 12.0, \"category\": \"Actual\"}, {\"page_number\": 455, \"predicted_boundary\": 1, \"boundary_score\": 1.3399999999999999, \"rolling_avg_score\": 1.668, \"start_issue\": \"1962-03-26\", \"temp_issue_number\": 12.0, \"category\": \"Actual\"}, {\"page_number\": 456, \"predicted_boundary\": 4, \"boundary_score\": 1.0, \"rolling_avg_score\": 1.536, \"start_issue\": \"1962-03-26\", \"temp_issue_number\": 12.0, \"category\": \"Actual\"}, {\"page_number\": 457, \"predicted_boundary\": 7, \"boundary_score\": 1.0, \"rolling_avg_score\": 1.3359999999999999, \"start_issue\": \"1962-03-26\", \"temp_issue_number\": 12.0, \"category\": \"Actual\"}, {\"page_number\": 458, \"predicted_boundary\": 0, \"boundary_score\": 2.0, \"rolling_avg_score\": 1.3359999999999999, \"start_issue\": \"1962-03-26\", \"temp_issue_number\": 12.0, \"category\": \"Actual\"}, {\"page_number\": 459, \"predicted_boundary\": 10, \"boundary_score\": 1.0, \"rolling_avg_score\": 1.268, \"start_issue\": \"1962-03-26\", \"temp_issue_number\": 12.0, \"category\": \"Actual\"}, {\"page_number\": 460, \"predicted_boundary\": 1, \"boundary_score\": 1.0, \"rolling_avg_score\": 1.2, \"start_issue\": \"1962-03-26\", \"temp_issue_number\": 12.0, \"category\": \"Actual\"}, {\"page_number\": 461, \"predicted_boundary\": 1, \"boundary_score\": 1.0, \"rolling_avg_score\": 1.2, \"start_issue\": \"1962-03-26\", \"temp_issue_number\": 12.0, \"category\": \"Actual\"}, {\"page_number\": 462, \"predicted_boundary\": 4, \"boundary_score\": 1.0, \"rolling_avg_score\": 1.2, \"start_issue\": \"1962-03-26\", \"temp_issue_number\": 12.0, \"category\": \"Actual\"}, {\"page_number\": 463, \"predicted_boundary\": 1, \"boundary_score\": 1.6600000000000001, \"rolling_avg_score\": 1.1320000000000001, \"start_issue\": \"1962-03-26\", \"temp_issue_number\": 12.0, \"category\": \"Actual\"}, {\"page_number\": 464, \"predicted_boundary\": 1, \"boundary_score\": 2.0, \"rolling_avg_score\": 1.332, \"start_issue\": \"1962-03-26\", \"temp_issue_number\": 12.0, \"category\": \"Actual\"}, {\"page_number\": 465, \"predicted_boundary\": 1, \"boundary_score\": 1.3399999999999999, \"rolling_avg_score\": 1.4, \"start_issue\": \"1962-03-26\", \"temp_issue_number\": 12.0, \"category\": \"Actual\"}, {\"page_number\": 466, \"predicted_boundary\": 4, \"boundary_score\": 1.0, \"rolling_avg_score\": 1.4, \"start_issue\": \"1962-03-26\", \"temp_issue_number\": 12.0, \"category\": \"Actual\"}, {\"page_number\": 467, \"predicted_boundary\": 7, \"boundary_score\": 2.0, \"rolling_avg_score\": 1.6, \"start_issue\": \"1962-03-26\", \"temp_issue_number\": 12.0, \"category\": \"Actual\"}, {\"page_number\": 468, \"predicted_boundary\": 7, \"boundary_score\": 1.3399999999999999, \"rolling_avg_score\": 1.536, \"start_issue\": \"1962-03-26\", \"temp_issue_number\": 12.0, \"category\": \"Actual\"}, {\"page_number\": 469, \"predicted_boundary\": 0, \"boundary_score\": 2.0, \"rolling_avg_score\": 1.536, \"start_issue\": \"1962-03-26\", \"temp_issue_number\": 12.0, \"category\": \"Actual\"}, {\"page_number\": 470, \"predicted_boundary\": 0, \"boundary_score\": 1.3399999999999999, \"rolling_avg_score\": 1.536, \"start_issue\": \"1962-03-26\", \"temp_issue_number\": 12.0, \"category\": \"Actual\"}, {\"page_number\": 471, \"predicted_boundary\": 1, \"boundary_score\": 1.3399999999999999, \"rolling_avg_score\": 1.6039999999999999, \"start_issue\": \"1962-03-26\", \"temp_issue_number\": 12.0, \"category\": \"Actual\"}, {\"page_number\": 472, \"predicted_boundary\": 1, \"boundary_score\": 1.3399999999999999, \"rolling_avg_score\": 1.472, \"start_issue\": \"1962-03-26\", \"temp_issue_number\": 12.0, \"category\": \"Actual\"}, {\"page_number\": 473, \"predicted_boundary\": 0, \"boundary_score\": 1.0, \"rolling_avg_score\": 1.404, \"start_issue\": \"1962-03-26\", \"temp_issue_number\": 12.0, \"category\": \"Actual\"}, {\"page_number\": 475, \"predicted_boundary\": 2, \"boundary_score\": 1.0, \"rolling_avg_score\": 1.204, \"start_issue\": \"1962-04-02\", \"temp_issue_number\": 13.0, \"category\": \"Actual\"}, {\"page_number\": 476, \"predicted_boundary\": 0, \"boundary_score\": 1.0, \"rolling_avg_score\": 1.136, \"start_issue\": \"1962-04-02\", \"temp_issue_number\": 13.0, \"category\": \"Actual\"}, {\"page_number\": 477, \"predicted_boundary\": 0, \"boundary_score\": 1.0, \"rolling_avg_score\": 1.068, \"start_issue\": \"1962-04-02\", \"temp_issue_number\": 13.0, \"category\": \"Actual\"}, {\"page_number\": 478, \"predicted_boundary\": 50, \"boundary_score\": 1.0, \"rolling_avg_score\": 1.0, \"start_issue\": \"1962-04-02\", \"temp_issue_number\": 13.0, \"category\": \"Actual\"}, {\"page_number\": 479, \"predicted_boundary\": 0, \"boundary_score\": 1.0, \"rolling_avg_score\": 1.0, \"start_issue\": \"1962-04-02\", \"temp_issue_number\": 13.0, \"category\": \"Actual\"}, {\"page_number\": 480, \"predicted_boundary\": 2, \"boundary_score\": 1.0, \"rolling_avg_score\": 1.0, \"start_issue\": \"1962-04-02\", \"temp_issue_number\": 13.0, \"category\": \"Actual\"}, {\"page_number\": 481, \"predicted_boundary\": 2, \"boundary_score\": 1.0, \"rolling_avg_score\": 1.0, \"start_issue\": \"1962-04-02\", \"temp_issue_number\": 13.0, \"category\": \"Actual\"}, {\"page_number\": 482, \"predicted_boundary\": 4, \"boundary_score\": 1.0, \"rolling_avg_score\": 1.0, \"start_issue\": \"1962-04-02\", \"temp_issue_number\": 13.0, \"category\": \"Actual\"}, {\"page_number\": 483, \"predicted_boundary\": 1, \"boundary_score\": 1.0, \"rolling_avg_score\": 1.0, \"start_issue\": \"1962-04-02\", \"temp_issue_number\": 13.0, \"category\": \"Actual\"}, {\"page_number\": 484, \"predicted_boundary\": 8, \"boundary_score\": 1.0, \"rolling_avg_score\": 1.0, \"start_issue\": \"1962-04-02\", \"temp_issue_number\": 13.0, \"category\": \"Actual\"}, {\"page_number\": 485, \"predicted_boundary\": 0, \"boundary_score\": 1.0, \"rolling_avg_score\": 1.0, \"start_issue\": \"1962-04-02\", \"temp_issue_number\": 13.0, \"category\": \"Actual\"}, {\"page_number\": 486, \"predicted_boundary\": 1, \"boundary_score\": 1.0, \"rolling_avg_score\": 1.0, \"start_issue\": \"1962-04-02\", \"temp_issue_number\": 13.0, \"category\": \"Actual\"}, {\"page_number\": 487, \"predicted_boundary\": 1, \"boundary_score\": 1.0, \"rolling_avg_score\": 1.0, \"start_issue\": \"1962-04-02\", \"temp_issue_number\": 13.0, \"category\": \"Actual\"}, {\"page_number\": 488, \"predicted_boundary\": 12, \"boundary_score\": 1.0, \"rolling_avg_score\": 1.0, \"start_issue\": \"1962-04-02\", \"temp_issue_number\": 13.0, \"category\": \"Actual\"}, {\"page_number\": 489, \"predicted_boundary\": 2, \"boundary_score\": 1.0, \"rolling_avg_score\": 1.0, \"start_issue\": \"1962-04-02\", \"temp_issue_number\": 13.0, \"category\": \"Actual\"}, {\"page_number\": 490, \"predicted_boundary\": 1, \"boundary_score\": 1.0, \"rolling_avg_score\": 1.0, \"start_issue\": \"1962-04-02\", \"temp_issue_number\": 13.0, \"category\": \"Actual\"}, {\"page_number\": 491, \"predicted_boundary\": 2, \"boundary_score\": 1.0, \"rolling_avg_score\": 1.0, \"start_issue\": \"1962-04-02\", \"temp_issue_number\": 13.0, \"category\": \"Actual\"}, {\"page_number\": 492, \"predicted_boundary\": 0, \"boundary_score\": 1.0, \"rolling_avg_score\": 1.0, \"start_issue\": \"1962-04-02\", \"temp_issue_number\": 13.0, \"category\": \"Actual\"}, {\"page_number\": 493, \"predicted_boundary\": 1, \"boundary_score\": 1.0, \"rolling_avg_score\": 1.0, \"start_issue\": \"1962-04-02\", \"temp_issue_number\": 13.0, \"category\": \"Actual\"}, {\"page_number\": 494, \"predicted_boundary\": 18, \"boundary_score\": 1.0, \"rolling_avg_score\": 1.0, \"start_issue\": \"1962-04-02\", \"temp_issue_number\": 13.0, \"category\": \"Actual\"}, {\"page_number\": 495, \"predicted_boundary\": 1, \"boundary_score\": 1.0, \"rolling_avg_score\": 1.0, \"start_issue\": \"1962-04-02\", \"temp_issue_number\": 13.0, \"category\": \"Actual\"}, {\"page_number\": 496, \"predicted_boundary\": 0, \"boundary_score\": 1.0, \"rolling_avg_score\": 1.0, \"start_issue\": \"1962-04-02\", \"temp_issue_number\": 13.0, \"category\": \"Actual\"}, {\"page_number\": 497, \"predicted_boundary\": 17, \"boundary_score\": 1.0, \"rolling_avg_score\": 1.0, \"start_issue\": \"1962-04-02\", \"temp_issue_number\": 13.0, \"category\": \"Actual\"}, {\"page_number\": 498, \"predicted_boundary\": 1, \"boundary_score\": 1.0, \"rolling_avg_score\": 1.0, \"start_issue\": \"1962-04-02\", \"temp_issue_number\": 13.0, \"category\": \"Actual\"}, {\"page_number\": 499, \"predicted_boundary\": 1, \"boundary_score\": 1.0, \"rolling_avg_score\": 1.0, \"start_issue\": \"1962-04-02\", \"temp_issue_number\": 13.0, \"category\": \"Actual\"}, {\"page_number\": 500, \"predicted_boundary\": 2, \"boundary_score\": 1.6600000000000001, \"rolling_avg_score\": 1.1320000000000001, \"start_issue\": \"1962-04-02\", \"temp_issue_number\": 13.0, \"category\": \"Actual\"}, {\"page_number\": 501, \"predicted_boundary\": 2, \"boundary_score\": 1.6600000000000001, \"rolling_avg_score\": 1.264, \"start_issue\": \"1962-04-02\", \"temp_issue_number\": 13.0, \"category\": \"Actual\"}, {\"page_number\": 502, \"predicted_boundary\": 1, \"boundary_score\": 1.6600000000000001, \"rolling_avg_score\": 1.3960000000000001, \"start_issue\": \"1962-04-02\", \"temp_issue_number\": 13.0, \"category\": \"Actual\"}, {\"page_number\": 503, \"predicted_boundary\": 0, \"boundary_score\": 3.0, \"rolling_avg_score\": 1.796, \"start_issue\": \"1962-04-02\", \"temp_issue_number\": 13.0, \"category\": \"Actual\"}, {\"page_number\": 504, \"predicted_boundary\": 1, \"boundary_score\": 1.3399999999999999, \"rolling_avg_score\": 1.864, \"start_issue\": \"1962-04-02\", \"temp_issue_number\": 13.0, \"category\": \"Actual\"}, {\"page_number\": 505, \"predicted_boundary\": 200, \"boundary_score\": 1.0, \"rolling_avg_score\": 1.732, \"start_issue\": \"1962-04-02\", \"temp_issue_number\": 13.0, \"category\": \"Actual\"}, {\"page_number\": 506, \"predicted_boundary\": 0, \"boundary_score\": 2.0, \"rolling_avg_score\": 1.8, \"start_issue\": \"1962-04-02\", \"temp_issue_number\": 13.0, \"category\": \"Actual\"}, {\"page_number\": 507, \"predicted_boundary\": 0, \"boundary_score\": 1.3399999999999999, \"rolling_avg_score\": 1.736, \"start_issue\": \"1962-04-02\", \"temp_issue_number\": 13.0, \"category\": \"Actual\"}, {\"page_number\": 508, \"predicted_boundary\": 32, \"boundary_score\": 1.0, \"rolling_avg_score\": 1.3359999999999999, \"start_issue\": \"1962-04-02\", \"temp_issue_number\": 13.0, \"category\": \"Actual\"}, {\"page_number\": 509, \"predicted_boundary\": 0, \"boundary_score\": 1.0, \"rolling_avg_score\": 1.268, \"start_issue\": \"1962-04-02\", \"temp_issue_number\": 13.0, \"category\": \"Actual\"}, {\"page_number\": 510, \"predicted_boundary\": 0, \"boundary_score\": 1.0, \"rolling_avg_score\": 1.268, \"start_issue\": \"1962-04-02\", \"temp_issue_number\": 13.0, \"category\": \"Actual\"}, {\"page_number\": 511, \"predicted_boundary\": 9, \"boundary_score\": 1.0, \"rolling_avg_score\": 1.068, \"start_issue\": \"1962-04-09\", \"temp_issue_number\": 14.0, \"category\": \"Actual\"}, {\"page_number\": 513, \"predicted_boundary\": 0, \"boundary_score\": 1.0, \"rolling_avg_score\": 1.0, \"start_issue\": \"1962-04-09\", \"temp_issue_number\": 14.0, \"category\": \"Actual\"}, {\"page_number\": 514, \"predicted_boundary\": 0, \"boundary_score\": 1.0, \"rolling_avg_score\": 1.0, \"start_issue\": \"1962-04-09\", \"temp_issue_number\": 14.0, \"category\": \"Actual\"}, {\"page_number\": 516, \"predicted_boundary\": 20, \"boundary_score\": 1.0, \"rolling_avg_score\": 1.0, \"start_issue\": \"1962-04-09\", \"temp_issue_number\": 14.0, \"category\": \"Actual\"}, {\"page_number\": 517, \"predicted_boundary\": 0, \"boundary_score\": 1.0, \"rolling_avg_score\": 1.0, \"start_issue\": \"1962-04-09\", \"temp_issue_number\": 14.0, \"category\": \"Actual\"}, {\"page_number\": 518, \"predicted_boundary\": 1, \"boundary_score\": 1.0, \"rolling_avg_score\": 1.0, \"start_issue\": \"1962-04-09\", \"temp_issue_number\": 14.0, \"category\": \"Actual\"}, {\"page_number\": 519, \"predicted_boundary\": 1, \"boundary_score\": 1.0, \"rolling_avg_score\": 1.0, \"start_issue\": \"1962-04-09\", \"temp_issue_number\": 14.0, \"category\": \"Actual\"}, {\"page_number\": 520, \"predicted_boundary\": 1, \"boundary_score\": 1.0, \"rolling_avg_score\": 1.0, \"start_issue\": \"1962-04-09\", \"temp_issue_number\": 14.0, \"category\": \"Actual\"}, {\"page_number\": 521, \"predicted_boundary\": 0, \"boundary_score\": 1.0, \"rolling_avg_score\": 1.0, \"start_issue\": \"1962-04-09\", \"temp_issue_number\": 14.0, \"category\": \"Actual\"}, {\"page_number\": 522, \"predicted_boundary\": 0, \"boundary_score\": 1.0, \"rolling_avg_score\": 1.0, \"start_issue\": \"1962-04-09\", \"temp_issue_number\": 14.0, \"category\": \"Actual\"}, {\"page_number\": 523, \"predicted_boundary\": 54, \"boundary_score\": 1.0, \"rolling_avg_score\": 1.0, \"start_issue\": \"1962-04-09\", \"temp_issue_number\": 14.0, \"category\": \"Actual\"}, {\"page_number\": 524, \"predicted_boundary\": 5, \"boundary_score\": 1.0, \"rolling_avg_score\": 1.0, \"start_issue\": \"1962-04-09\", \"temp_issue_number\": 14.0, \"category\": \"Actual\"}, {\"page_number\": 525, \"predicted_boundary\": 1, \"boundary_score\": 1.0, \"rolling_avg_score\": 1.0, \"start_issue\": \"1962-04-09\", \"temp_issue_number\": 14.0, \"category\": \"Actual\"}, {\"page_number\": 526, \"predicted_boundary\": 14, \"boundary_score\": 1.0, \"rolling_avg_score\": 1.0, \"start_issue\": \"1962-04-09\", \"temp_issue_number\": 14.0, \"category\": \"Actual\"}, {\"page_number\": 527, \"predicted_boundary\": 4, \"boundary_score\": 1.0, \"rolling_avg_score\": 1.0, \"start_issue\": \"1962-04-09\", \"temp_issue_number\": 14.0, \"category\": \"Actual\"}, {\"page_number\": 528, \"predicted_boundary\": 16, \"boundary_score\": 1.0, \"rolling_avg_score\": 1.0, \"start_issue\": \"1962-04-09\", \"temp_issue_number\": 14.0, \"category\": \"Actual\"}, {\"page_number\": 529, \"predicted_boundary\": 1, \"boundary_score\": 1.0, \"rolling_avg_score\": 1.0, \"start_issue\": \"1962-04-09\", \"temp_issue_number\": 14.0, \"category\": \"Actual\"}, {\"page_number\": 530, \"predicted_boundary\": 1, \"boundary_score\": 1.0, \"rolling_avg_score\": 1.0, \"start_issue\": \"1962-04-09\", \"temp_issue_number\": 14.0, \"category\": \"Actual\"}, {\"page_number\": 531, \"predicted_boundary\": 9, \"boundary_score\": 1.0, \"rolling_avg_score\": 1.0, \"start_issue\": \"1962-04-09\", \"temp_issue_number\": 14.0, \"category\": \"Actual\"}, {\"page_number\": 532, \"predicted_boundary\": 7, \"boundary_score\": 1.0, \"rolling_avg_score\": 1.0, \"start_issue\": \"1962-04-09\", \"temp_issue_number\": 14.0, \"category\": \"Actual\"}, {\"page_number\": 533, \"predicted_boundary\": 1, \"boundary_score\": 1.0, \"rolling_avg_score\": 1.0, \"start_issue\": \"1962-04-09\", \"temp_issue_number\": 14.0, \"category\": \"Actual\"}, {\"page_number\": 534, \"predicted_boundary\": 0, \"boundary_score\": 2.0, \"rolling_avg_score\": 1.2, \"start_issue\": \"1962-04-09\", \"temp_issue_number\": 14.0, \"category\": \"Actual\"}, {\"page_number\": 535, \"predicted_boundary\": 9, \"boundary_score\": 1.0, \"rolling_avg_score\": 1.2, \"start_issue\": \"1962-04-09\", \"temp_issue_number\": 14.0, \"category\": \"Actual\"}, {\"page_number\": 536, \"predicted_boundary\": 1, \"boundary_score\": 1.0, \"rolling_avg_score\": 1.2, \"start_issue\": \"1962-04-09\", \"temp_issue_number\": 14.0, \"category\": \"Actual\"}, {\"page_number\": 537, \"predicted_boundary\": 2, \"boundary_score\": 1.0, \"rolling_avg_score\": 1.2, \"start_issue\": \"1962-04-09\", \"temp_issue_number\": 14.0, \"category\": \"Actual\"}, {\"page_number\": 538, \"predicted_boundary\": 1, \"boundary_score\": 1.0, \"rolling_avg_score\": 1.2, \"start_issue\": \"1962-04-09\", \"temp_issue_number\": 14.0, \"category\": \"Actual\"}, {\"page_number\": 539, \"predicted_boundary\": 5, \"boundary_score\": 1.0, \"rolling_avg_score\": 1.0, \"start_issue\": \"1962-04-09\", \"temp_issue_number\": 14.0, \"category\": \"Actual\"}, {\"page_number\": 540, \"predicted_boundary\": 0, \"boundary_score\": 1.0, \"rolling_avg_score\": 1.0, \"start_issue\": \"1962-04-09\", \"temp_issue_number\": 14.0, \"category\": \"Actual\"}, {\"page_number\": 541, \"predicted_boundary\": 5, \"boundary_score\": 1.0, \"rolling_avg_score\": 1.0, \"start_issue\": \"1962-04-09\", \"temp_issue_number\": 14.0, \"category\": \"Actual\"}, {\"page_number\": 542, \"predicted_boundary\": 1, \"boundary_score\": 1.0, \"rolling_avg_score\": 1.0, \"start_issue\": \"1962-04-09\", \"temp_issue_number\": 14.0, \"category\": \"Actual\"}, {\"page_number\": 543, \"predicted_boundary\": 0, \"boundary_score\": 1.0, \"rolling_avg_score\": 1.0, \"start_issue\": \"1962-04-09\", \"temp_issue_number\": 14.0, \"category\": \"Actual\"}, {\"page_number\": 544, \"predicted_boundary\": 1, \"boundary_score\": 1.0, \"rolling_avg_score\": 1.0, \"start_issue\": \"1962-04-09\", \"temp_issue_number\": 14.0, \"category\": \"Actual\"}, {\"page_number\": 546, \"predicted_boundary\": 0, \"boundary_score\": 1.0, \"rolling_avg_score\": 1.0, \"start_issue\": \"1962-04-09\", \"temp_issue_number\": 14.0, \"category\": \"Actual\"}, {\"page_number\": 547, \"predicted_boundary\": 10, \"boundary_score\": 1.0, \"rolling_avg_score\": 1.0, \"start_issue\": \"1962-04-09\", \"temp_issue_number\": 14.0, \"category\": \"Actual\"}, {\"page_number\": 548, \"predicted_boundary\": 0, \"boundary_score\": 1.0, \"rolling_avg_score\": 1.0, \"start_issue\": \"1962-04-09\", \"temp_issue_number\": 14.0, \"category\": \"Actual\"}, {\"page_number\": 549, \"predicted_boundary\": 0, \"boundary_score\": 1.0, \"rolling_avg_score\": 1.0, \"start_issue\": \"1962-04-16\", \"temp_issue_number\": 15.0, \"category\": \"Actual\"}, {\"page_number\": 550, \"predicted_boundary\": 1, \"boundary_score\": 1.0, \"rolling_avg_score\": 1.0, \"start_issue\": \"1962-04-16\", \"temp_issue_number\": 15.0, \"category\": \"Actual\"}, {\"page_number\": 551, \"predicted_boundary\": 0, \"boundary_score\": 1.0, \"rolling_avg_score\": 1.0, \"start_issue\": \"1962-04-16\", \"temp_issue_number\": 15.0, \"category\": \"Actual\"}, {\"page_number\": 552, \"predicted_boundary\": 2, \"boundary_score\": 1.0, \"rolling_avg_score\": 1.0, \"start_issue\": \"1962-04-16\", \"temp_issue_number\": 15.0, \"category\": \"Actual\"}, {\"page_number\": 553, \"predicted_boundary\": 16, \"boundary_score\": 1.0, \"rolling_avg_score\": 1.0, \"start_issue\": \"1962-04-16\", \"temp_issue_number\": 15.0, \"category\": \"Actual\"}, {\"page_number\": 554, \"predicted_boundary\": 1, \"boundary_score\": 2.66, \"rolling_avg_score\": 1.332, \"start_issue\": \"1962-04-16\", \"temp_issue_number\": 15.0, \"category\": \"Actual\"}, {\"page_number\": 555, \"predicted_boundary\": 1, \"boundary_score\": 2.0, \"rolling_avg_score\": 1.532, \"start_issue\": \"1962-04-16\", \"temp_issue_number\": 15.0, \"category\": \"Actual\"}, {\"page_number\": 556, \"predicted_boundary\": 1, \"boundary_score\": 2.34, \"rolling_avg_score\": 1.8, \"start_issue\": \"1962-04-16\", \"temp_issue_number\": 15.0, \"category\": \"Actual\"}, {\"page_number\": 557, \"predicted_boundary\": 3, \"boundary_score\": 1.0, \"rolling_avg_score\": 1.8, \"start_issue\": \"1962-04-16\", \"temp_issue_number\": 15.0, \"category\": \"Actual\"}, {\"page_number\": 558, \"predicted_boundary\": 7, \"boundary_score\": 1.0, \"rolling_avg_score\": 1.8, \"start_issue\": \"1962-04-16\", \"temp_issue_number\": 15.0, \"category\": \"Actual\"}, {\"page_number\": 559, \"predicted_boundary\": 7, \"boundary_score\": 1.0, \"rolling_avg_score\": 1.468, \"start_issue\": \"1962-04-16\", \"temp_issue_number\": 15.0, \"category\": \"Actual\"}, {\"page_number\": 560, \"predicted_boundary\": 12, \"boundary_score\": 1.0, \"rolling_avg_score\": 1.268, \"start_issue\": \"1962-04-16\", \"temp_issue_number\": 15.0, \"category\": \"Actual\"}, {\"page_number\": 561, \"predicted_boundary\": 0, \"boundary_score\": 1.0, \"rolling_avg_score\": 1.0, \"start_issue\": \"1962-04-16\", \"temp_issue_number\": 15.0, \"category\": \"Actual\"}, {\"page_number\": 562, \"predicted_boundary\": 0, \"boundary_score\": 1.0, \"rolling_avg_score\": 1.0, \"start_issue\": \"1962-04-16\", \"temp_issue_number\": 15.0, \"category\": \"Actual\"}, {\"page_number\": 563, \"predicted_boundary\": 1, \"boundary_score\": 1.0, \"rolling_avg_score\": 1.0, \"start_issue\": \"1962-04-16\", \"temp_issue_number\": 15.0, \"category\": \"Actual\"}, {\"page_number\": 564, \"predicted_boundary\": 0, \"boundary_score\": 1.0, \"rolling_avg_score\": 1.0, \"start_issue\": \"1962-04-16\", \"temp_issue_number\": 15.0, \"category\": \"Actual\"}, {\"page_number\": 565, \"predicted_boundary\": 7, \"boundary_score\": 1.0, \"rolling_avg_score\": 1.0, \"start_issue\": \"1962-04-16\", \"temp_issue_number\": 15.0, \"category\": \"Actual\"}, {\"page_number\": 566, \"predicted_boundary\": 28, \"boundary_score\": 1.0, \"rolling_avg_score\": 1.0, \"start_issue\": \"1962-04-16\", \"temp_issue_number\": 15.0, \"category\": \"Actual\"}, {\"page_number\": 567, \"predicted_boundary\": 1, \"boundary_score\": 1.0, \"rolling_avg_score\": 1.0, \"start_issue\": \"1962-04-16\", \"temp_issue_number\": 15.0, \"category\": \"Actual\"}, {\"page_number\": 568, \"predicted_boundary\": 0, \"boundary_score\": 1.0, \"rolling_avg_score\": 1.0, \"start_issue\": \"1962-04-16\", \"temp_issue_number\": 15.0, \"category\": \"Actual\"}, {\"page_number\": 569, \"predicted_boundary\": 21, \"boundary_score\": 2.0, \"rolling_avg_score\": 1.2, \"start_issue\": \"1962-04-16\", \"temp_issue_number\": 15.0, \"category\": \"Actual\"}, {\"page_number\": 570, \"predicted_boundary\": 9, \"boundary_score\": 1.0, \"rolling_avg_score\": 1.2, \"start_issue\": \"1962-04-16\", \"temp_issue_number\": 15.0, \"category\": \"Actual\"}, {\"page_number\": 571, \"predicted_boundary\": 1, \"boundary_score\": 1.0, \"rolling_avg_score\": 1.2, \"start_issue\": \"1962-04-16\", \"temp_issue_number\": 15.0, \"category\": \"Actual\"}, {\"page_number\": 572, \"predicted_boundary\": 4, \"boundary_score\": 1.0, \"rolling_avg_score\": 1.2, \"start_issue\": \"1962-04-16\", \"temp_issue_number\": 15.0, \"category\": \"Actual\"}, {\"page_number\": 573, \"predicted_boundary\": 0, \"boundary_score\": 1.0, \"rolling_avg_score\": 1.2, \"start_issue\": \"1962-04-16\", \"temp_issue_number\": 15.0, \"category\": \"Actual\"}, {\"page_number\": 574, \"predicted_boundary\": 1, \"boundary_score\": 1.0, \"rolling_avg_score\": 1.0, \"start_issue\": \"1962-04-16\", \"temp_issue_number\": 15.0, \"category\": \"Actual\"}, {\"page_number\": 575, \"predicted_boundary\": 4, \"boundary_score\": 1.6600000000000001, \"rolling_avg_score\": 1.1320000000000001, \"start_issue\": \"1962-04-16\", \"temp_issue_number\": 15.0, \"category\": \"Actual\"}, {\"page_number\": 576, \"predicted_boundary\": 4, \"boundary_score\": 2.0, \"rolling_avg_score\": 1.332, \"start_issue\": \"1962-04-16\", \"temp_issue_number\": 15.0, \"category\": \"Actual\"}, {\"page_number\": 577, \"predicted_boundary\": 0, \"boundary_score\": 1.0, \"rolling_avg_score\": 1.332, \"start_issue\": \"1962-04-16\", \"temp_issue_number\": 15.0, \"category\": \"Actual\"}, {\"page_number\": 578, \"predicted_boundary\": 8, \"boundary_score\": 1.0, \"rolling_avg_score\": 1.332, \"start_issue\": \"1962-04-16\", \"temp_issue_number\": 15.0, \"category\": \"Actual\"}, {\"page_number\": 579, \"predicted_boundary\": 16, \"boundary_score\": 1.0, \"rolling_avg_score\": 1.332, \"start_issue\": \"1962-04-16\", \"temp_issue_number\": 15.0, \"category\": \"Actual\"}, {\"page_number\": 580, \"predicted_boundary\": 19, \"boundary_score\": 1.0, \"rolling_avg_score\": 1.2, \"start_issue\": \"1962-04-16\", \"temp_issue_number\": 15.0, \"category\": \"Actual\"}, {\"page_number\": 581, \"predicted_boundary\": 0, \"boundary_score\": 1.0, \"rolling_avg_score\": 1.0, \"start_issue\": \"1962-04-16\", \"temp_issue_number\": 15.0, \"category\": \"Actual\"}, {\"page_number\": 582, \"predicted_boundary\": 0, \"boundary_score\": 1.0, \"rolling_avg_score\": 1.0, \"start_issue\": \"1962-04-16\", \"temp_issue_number\": 15.0, \"category\": \"Actual\"}, {\"page_number\": 583, \"predicted_boundary\": 1, \"boundary_score\": 1.0, \"rolling_avg_score\": 1.0, \"start_issue\": \"1962-04-16\", \"temp_issue_number\": 15.0, \"category\": \"Actual\"}, {\"page_number\": 585, \"predicted_boundary\": 0, \"boundary_score\": 1.0, \"rolling_avg_score\": 1.0, \"start_issue\": \"1962-04-23\", \"temp_issue_number\": 16.0, \"category\": \"Actual\"}, {\"page_number\": 586, \"predicted_boundary\": 10, \"boundary_score\": 1.0, \"rolling_avg_score\": 1.0, \"start_issue\": \"1962-04-23\", \"temp_issue_number\": 16.0, \"category\": \"Actual\"}, {\"page_number\": 589, \"predicted_boundary\": 5, \"boundary_score\": 1.0, \"rolling_avg_score\": 1.0, \"start_issue\": \"1962-04-23\", \"temp_issue_number\": 16.0, \"category\": \"Actual\"}, {\"page_number\": 590, \"predicted_boundary\": 1, \"boundary_score\": 1.0, \"rolling_avg_score\": 1.0, \"start_issue\": \"1962-04-23\", \"temp_issue_number\": 16.0, \"category\": \"Actual\"}, {\"page_number\": 591, \"predicted_boundary\": 0, \"boundary_score\": 1.0, \"rolling_avg_score\": 1.0, \"start_issue\": \"1962-04-23\", \"temp_issue_number\": 16.0, \"category\": \"Actual\"}, {\"page_number\": 592, \"predicted_boundary\": 1, \"boundary_score\": 1.0, \"rolling_avg_score\": 1.0, \"start_issue\": \"1962-04-23\", \"temp_issue_number\": 16.0, \"category\": \"Actual\"}, {\"page_number\": 593, \"predicted_boundary\": 7, \"boundary_score\": 1.0, \"rolling_avg_score\": 1.0, \"start_issue\": \"1962-04-23\", \"temp_issue_number\": 16.0, \"category\": \"Actual\"}, {\"page_number\": 594, \"predicted_boundary\": 3, \"boundary_score\": 1.0, \"rolling_avg_score\": 1.0, \"start_issue\": \"1962-04-23\", \"temp_issue_number\": 16.0, \"category\": \"Actual\"}, {\"page_number\": 595, \"predicted_boundary\": 23, \"boundary_score\": 1.0, \"rolling_avg_score\": 1.0, \"start_issue\": \"1962-04-23\", \"temp_issue_number\": 16.0, \"category\": \"Actual\"}, {\"page_number\": 596, \"predicted_boundary\": 0, \"boundary_score\": 1.0, \"rolling_avg_score\": 1.0, \"start_issue\": \"1962-04-23\", \"temp_issue_number\": 16.0, \"category\": \"Actual\"}, {\"page_number\": 597, \"predicted_boundary\": 13, \"boundary_score\": 1.0, \"rolling_avg_score\": 1.0, \"start_issue\": \"1962-04-23\", \"temp_issue_number\": 16.0, \"category\": \"Actual\"}, {\"page_number\": 598, \"predicted_boundary\": 1, \"boundary_score\": 1.0, \"rolling_avg_score\": 1.0, \"start_issue\": \"1962-04-23\", \"temp_issue_number\": 16.0, \"category\": \"Actual\"}, {\"page_number\": 599, \"predicted_boundary\": 1, \"boundary_score\": 1.0, \"rolling_avg_score\": 1.0, \"start_issue\": \"1962-04-23\", \"temp_issue_number\": 16.0, \"category\": \"Actual\"}, {\"page_number\": 600, \"predicted_boundary\": 4, \"boundary_score\": 1.0, \"rolling_avg_score\": 1.0, \"start_issue\": \"1962-04-23\", \"temp_issue_number\": 16.0, \"category\": \"Actual\"}, {\"page_number\": 601, \"predicted_boundary\": 1, \"boundary_score\": 2.0, \"rolling_avg_score\": 1.2, \"start_issue\": \"1962-04-23\", \"temp_issue_number\": 16.0, \"category\": \"Actual\"}, {\"page_number\": 602, \"predicted_boundary\": 15, \"boundary_score\": 1.0, \"rolling_avg_score\": 1.2, \"start_issue\": \"1962-04-23\", \"temp_issue_number\": 16.0, \"category\": \"Actual\"}, {\"page_number\": 603, \"predicted_boundary\": 2, \"boundary_score\": 1.0, \"rolling_avg_score\": 1.2, \"start_issue\": \"1962-04-23\", \"temp_issue_number\": 16.0, \"category\": \"Actual\"}, {\"page_number\": 604, \"predicted_boundary\": 3, \"boundary_score\": 1.0, \"rolling_avg_score\": 1.2, \"start_issue\": \"1962-04-23\", \"temp_issue_number\": 16.0, \"category\": \"Actual\"}, {\"page_number\": 605, \"predicted_boundary\": 1, \"boundary_score\": 1.0, \"rolling_avg_score\": 1.2, \"start_issue\": \"1962-04-23\", \"temp_issue_number\": 16.0, \"category\": \"Actual\"}, {\"page_number\": 606, \"predicted_boundary\": 22, \"boundary_score\": 1.0, \"rolling_avg_score\": 1.0, \"start_issue\": \"1962-04-23\", \"temp_issue_number\": 16.0, \"category\": \"Actual\"}, {\"page_number\": 607, \"predicted_boundary\": 0, \"boundary_score\": 1.0, \"rolling_avg_score\": 1.0, \"start_issue\": \"1962-04-23\", \"temp_issue_number\": 16.0, \"category\": \"Actual\"}, {\"page_number\": 608, \"predicted_boundary\": 1, \"boundary_score\": 1.6600000000000001, \"rolling_avg_score\": 1.1320000000000001, \"start_issue\": \"1962-04-23\", \"temp_issue_number\": 16.0, \"category\": \"Actual\"}, {\"page_number\": 609, \"predicted_boundary\": 1, \"boundary_score\": 1.6600000000000001, \"rolling_avg_score\": 1.264, \"start_issue\": \"1962-04-23\", \"temp_issue_number\": 16.0, \"category\": \"Actual\"}, {\"page_number\": 610, \"predicted_boundary\": 1, \"boundary_score\": 1.6600000000000001, \"rolling_avg_score\": 1.3960000000000001, \"start_issue\": \"1962-04-23\", \"temp_issue_number\": 16.0, \"category\": \"Actual\"}, {\"page_number\": 611, \"predicted_boundary\": 1, \"boundary_score\": 1.6600000000000001, \"rolling_avg_score\": 1.528, \"start_issue\": \"1962-04-23\", \"temp_issue_number\": 16.0, \"category\": \"Actual\"}, {\"page_number\": 612, \"predicted_boundary\": 1, \"boundary_score\": 2.0, \"rolling_avg_score\": 1.7280000000000002, \"start_issue\": \"1962-04-23\", \"temp_issue_number\": 16.0, \"category\": \"Actual\"}, {\"page_number\": 613, \"predicted_boundary\": 1, \"boundary_score\": 1.3399999999999999, \"rolling_avg_score\": 1.6640000000000001, \"start_issue\": \"1962-04-23\", \"temp_issue_number\": 16.0, \"category\": \"Actual\"}, {\"page_number\": 614, \"predicted_boundary\": 22, \"boundary_score\": 1.0, \"rolling_avg_score\": 1.532, \"start_issue\": \"1962-04-23\", \"temp_issue_number\": 16.0, \"category\": \"Actual\"}, {\"page_number\": 615, \"predicted_boundary\": 28, \"boundary_score\": 1.0, \"rolling_avg_score\": 1.4, \"start_issue\": \"1962-04-23\", \"temp_issue_number\": 16.0, \"category\": \"Actual\"}, {\"page_number\": 616, \"predicted_boundary\": 1, \"boundary_score\": 1.0, \"rolling_avg_score\": 1.268, \"start_issue\": \"1962-04-23\", \"temp_issue_number\": 16.0, \"category\": \"Actual\"}, {\"page_number\": 617, \"predicted_boundary\": 0, \"boundary_score\": 1.0, \"rolling_avg_score\": 1.068, \"start_issue\": \"1962-04-23\", \"temp_issue_number\": 16.0, \"category\": \"Actual\"}, {\"page_number\": 619, \"predicted_boundary\": 2, \"boundary_score\": 1.0, \"rolling_avg_score\": 1.0, \"start_issue\": \"1962-04-23\", \"temp_issue_number\": 16.0, \"category\": \"Actual\"}, {\"page_number\": 620, \"predicted_boundary\": 0, \"boundary_score\": 1.0, \"rolling_avg_score\": 1.0, \"start_issue\": \"1962-04-23\", \"temp_issue_number\": 16.0, \"category\": \"Actual\"}, {\"page_number\": 621, \"predicted_boundary\": 1, \"boundary_score\": 2.0, \"rolling_avg_score\": 1.2, \"start_issue\": \"1962-04-23\", \"temp_issue_number\": 16.0, \"category\": \"Actual\"}, {\"page_number\": 622, \"predicted_boundary\": 0, \"boundary_score\": 1.0, \"rolling_avg_score\": 1.2, \"start_issue\": \"1962-04-23\", \"temp_issue_number\": 16.0, \"category\": \"Actual\"}, {\"page_number\": 623, \"predicted_boundary\": 0, \"boundary_score\": 1.0, \"rolling_avg_score\": 1.2, \"start_issue\": \"1962-04-30\", \"temp_issue_number\": 17.0, \"category\": \"Actual\"}, {\"page_number\": 624, \"predicted_boundary\": 2, \"boundary_score\": 1.0, \"rolling_avg_score\": 1.2, \"start_issue\": \"1962-04-30\", \"temp_issue_number\": 17.0, \"category\": \"Actual\"}, {\"page_number\": 625, \"predicted_boundary\": 28, \"boundary_score\": 1.0, \"rolling_avg_score\": 1.2, \"start_issue\": \"1962-04-30\", \"temp_issue_number\": 17.0, \"category\": \"Actual\"}, {\"page_number\": 626, \"predicted_boundary\": 6, \"boundary_score\": 1.0, \"rolling_avg_score\": 1.0, \"start_issue\": \"1962-04-30\", \"temp_issue_number\": 17.0, \"category\": \"Actual\"}, {\"page_number\": 627, \"predicted_boundary\": 8, \"boundary_score\": 1.6600000000000001, \"rolling_avg_score\": 1.1320000000000001, \"start_issue\": \"1962-04-30\", \"temp_issue_number\": 17.0, \"category\": \"Actual\"}, {\"page_number\": 628, \"predicted_boundary\": 7, \"boundary_score\": 2.0, \"rolling_avg_score\": 1.332, \"start_issue\": \"1962-04-30\", \"temp_issue_number\": 17.0, \"category\": \"Actual\"}, {\"page_number\": 629, \"predicted_boundary\": 3, \"boundary_score\": 1.0, \"rolling_avg_score\": 1.332, \"start_issue\": \"1962-04-30\", \"temp_issue_number\": 17.0, \"category\": \"Actual\"}, {\"page_number\": 630, \"predicted_boundary\": 224, \"boundary_score\": 1.0, \"rolling_avg_score\": 1.332, \"start_issue\": \"1962-04-30\", \"temp_issue_number\": 17.0, \"category\": \"Actual\"}, {\"page_number\": 631, \"predicted_boundary\": 3, \"boundary_score\": 1.0, \"rolling_avg_score\": 1.332, \"start_issue\": \"1962-04-30\", \"temp_issue_number\": 17.0, \"category\": \"Actual\"}, {\"page_number\": 632, \"predicted_boundary\": 1, \"boundary_score\": 1.0, \"rolling_avg_score\": 1.2, \"start_issue\": \"1962-04-30\", \"temp_issue_number\": 17.0, \"category\": \"Actual\"}, {\"page_number\": 633, \"predicted_boundary\": 12, \"boundary_score\": 1.0, \"rolling_avg_score\": 1.0, \"start_issue\": \"1962-04-30\", \"temp_issue_number\": 17.0, \"category\": \"Actual\"}, {\"page_number\": 634, \"predicted_boundary\": 14, \"boundary_score\": 1.0, \"rolling_avg_score\": 1.0, \"start_issue\": \"1962-04-30\", \"temp_issue_number\": 17.0, \"category\": \"Actual\"}, {\"page_number\": 635, \"predicted_boundary\": 1, \"boundary_score\": 1.0, \"rolling_avg_score\": 1.0, \"start_issue\": \"1962-04-30\", \"temp_issue_number\": 17.0, \"category\": \"Actual\"}, {\"page_number\": 636, \"predicted_boundary\": 0, \"boundary_score\": 1.0, \"rolling_avg_score\": 1.0, \"start_issue\": \"1962-04-30\", \"temp_issue_number\": 17.0, \"category\": \"Actual\"}, {\"page_number\": 637, \"predicted_boundary\": 17, \"boundary_score\": 1.0, \"rolling_avg_score\": 1.0, \"start_issue\": \"1962-04-30\", \"temp_issue_number\": 17.0, \"category\": \"Actual\"}, {\"page_number\": 638, \"predicted_boundary\": 1, \"boundary_score\": 1.0, \"rolling_avg_score\": 1.0, \"start_issue\": \"1962-04-30\", \"temp_issue_number\": 17.0, \"category\": \"Actual\"}, {\"page_number\": 639, \"predicted_boundary\": 1, \"boundary_score\": 1.0, \"rolling_avg_score\": 1.0, \"start_issue\": \"1962-04-30\", \"temp_issue_number\": 17.0, \"category\": \"Actual\"}, {\"page_number\": 640, \"predicted_boundary\": 2, \"boundary_score\": 2.0, \"rolling_avg_score\": 1.2, \"start_issue\": \"1962-04-30\", \"temp_issue_number\": 17.0, \"category\": \"Actual\"}, {\"page_number\": 641, \"predicted_boundary\": 9, \"boundary_score\": 1.0, \"rolling_avg_score\": 1.2, \"start_issue\": \"1962-04-30\", \"temp_issue_number\": 17.0, \"category\": \"Actual\"}, {\"page_number\": 642, \"predicted_boundary\": 0, \"boundary_score\": 1.0, \"rolling_avg_score\": 1.2, \"start_issue\": \"1962-04-30\", \"temp_issue_number\": 17.0, \"category\": \"Actual\"}, {\"page_number\": 643, \"predicted_boundary\": 10, \"boundary_score\": 1.0, \"rolling_avg_score\": 1.2, \"start_issue\": \"1962-04-30\", \"temp_issue_number\": 17.0, \"category\": \"Actual\"}, {\"page_number\": 644, \"predicted_boundary\": 1, \"boundary_score\": 1.6600000000000001, \"rolling_avg_score\": 1.332, \"start_issue\": \"1962-04-30\", \"temp_issue_number\": 17.0, \"category\": \"Actual\"}, {\"page_number\": 645, \"predicted_boundary\": 1, \"boundary_score\": 2.66, \"rolling_avg_score\": 1.464, \"start_issue\": \"1962-04-30\", \"temp_issue_number\": 17.0, \"category\": \"Actual\"}, {\"page_number\": 646, \"predicted_boundary\": 0, \"boundary_score\": 2.0, \"rolling_avg_score\": 1.6640000000000001, \"start_issue\": \"1962-04-30\", \"temp_issue_number\": 17.0, \"category\": \"Actual\"}, {\"page_number\": 647, \"predicted_boundary\": 0, \"boundary_score\": 1.3399999999999999, \"rolling_avg_score\": 1.732, \"start_issue\": \"1962-04-30\", \"temp_issue_number\": 17.0, \"category\": \"Actual\"}, {\"page_number\": 648, \"predicted_boundary\": 1, \"boundary_score\": 1.3399999999999999, \"rolling_avg_score\": 1.8, \"start_issue\": \"1962-04-30\", \"temp_issue_number\": 17.0, \"category\": \"Actual\"}, {\"page_number\": 649, \"predicted_boundary\": 1, \"boundary_score\": 1.3399999999999999, \"rolling_avg_score\": 1.736, \"start_issue\": \"1962-04-30\", \"temp_issue_number\": 17.0, \"category\": \"Actual\"}, {\"page_number\": 650, \"predicted_boundary\": 11, \"boundary_score\": 1.0, \"rolling_avg_score\": 1.404, \"start_issue\": \"1962-04-30\", \"temp_issue_number\": 17.0, \"category\": \"Actual\"}, {\"page_number\": 651, \"predicted_boundary\": 30, \"boundary_score\": 1.0, \"rolling_avg_score\": 1.204, \"start_issue\": \"1962-04-30\", \"temp_issue_number\": 17.0, \"category\": \"Actual\"}, {\"page_number\": 652, \"predicted_boundary\": 32, \"boundary_score\": 1.0, \"rolling_avg_score\": 1.136, \"start_issue\": \"1962-04-30\", \"temp_issue_number\": 17.0, \"category\": \"Actual\"}, {\"page_number\": 653, \"predicted_boundary\": 0, \"boundary_score\": 1.0, \"rolling_avg_score\": 1.068, \"start_issue\": \"1962-04-30\", \"temp_issue_number\": 17.0, \"category\": \"Actual\"}, {\"page_number\": 654, \"predicted_boundary\": 0, \"boundary_score\": 1.0, \"rolling_avg_score\": 1.0, \"start_issue\": \"1962-04-30\", \"temp_issue_number\": 17.0, \"category\": \"Actual\"}, {\"page_number\": 655, \"predicted_boundary\": 2, \"boundary_score\": 1.0, \"rolling_avg_score\": 1.0, \"start_issue\": \"1962-04-30\", \"temp_issue_number\": 17.0, \"category\": \"Actual\"}, {\"page_number\": 656, \"predicted_boundary\": 0, \"boundary_score\": 1.0, \"rolling_avg_score\": 1.0, \"start_issue\": \"1962-04-30\", \"temp_issue_number\": 17.0, \"category\": \"Actual\"}, {\"page_number\": 657, \"predicted_boundary\": 0, \"boundary_score\": 1.0, \"rolling_avg_score\": 1.0, \"start_issue\": \"1962-04-30\", \"temp_issue_number\": 17.0, \"category\": \"Actual\"}, {\"page_number\": 658, \"predicted_boundary\": 0, \"boundary_score\": 1.0, \"rolling_avg_score\": 1.0, \"start_issue\": \"1962-04-30\", \"temp_issue_number\": 17.0, \"category\": \"Actual\"}, {\"page_number\": 659, \"predicted_boundary\": 0, \"boundary_score\": 1.0, \"rolling_avg_score\": 1.0, \"start_issue\": \"1962-05-07\", \"temp_issue_number\": 18.0, \"category\": \"Actual\"}, {\"page_number\": 660, \"predicted_boundary\": 1, \"boundary_score\": 1.0, \"rolling_avg_score\": 1.0, \"start_issue\": \"1962-05-07\", \"temp_issue_number\": 18.0, \"category\": \"Actual\"}, {\"page_number\": 661, \"predicted_boundary\": 7, \"boundary_score\": 1.0, \"rolling_avg_score\": 1.0, \"start_issue\": \"1962-05-07\", \"temp_issue_number\": 18.0, \"category\": \"Actual\"}, {\"page_number\": 662, \"predicted_boundary\": 1, \"boundary_score\": 1.0, \"rolling_avg_score\": 1.0, \"start_issue\": \"1962-05-07\", \"temp_issue_number\": 18.0, \"category\": \"Actual\"}, {\"page_number\": 663, \"predicted_boundary\": 7, \"boundary_score\": 1.0, \"rolling_avg_score\": 1.0, \"start_issue\": \"1962-05-07\", \"temp_issue_number\": 18.0, \"category\": \"Actual\"}, {\"page_number\": 664, \"predicted_boundary\": 3, \"boundary_score\": 1.0, \"rolling_avg_score\": 1.0, \"start_issue\": \"1962-05-07\", \"temp_issue_number\": 18.0, \"category\": \"Actual\"}, {\"page_number\": 665, \"predicted_boundary\": 1, \"boundary_score\": 2.0, \"rolling_avg_score\": 1.2, \"start_issue\": \"1962-05-07\", \"temp_issue_number\": 18.0, \"category\": \"Actual\"}, {\"page_number\": 666, \"predicted_boundary\": 1, \"boundary_score\": 1.3399999999999999, \"rolling_avg_score\": 1.268, \"start_issue\": \"1962-05-07\", \"temp_issue_number\": 18.0, \"category\": \"Actual\"}, {\"page_number\": 667, \"predicted_boundary\": 1, \"boundary_score\": 1.3399999999999999, \"rolling_avg_score\": 1.3359999999999999, \"start_issue\": \"1962-05-07\", \"temp_issue_number\": 18.0, \"category\": \"Actual\"}, {\"page_number\": 668, \"predicted_boundary\": 1, \"boundary_score\": 1.3399999999999999, \"rolling_avg_score\": 1.404, \"start_issue\": \"1962-05-07\", \"temp_issue_number\": 18.0, \"category\": \"Actual\"}, {\"page_number\": 669, \"predicted_boundary\": 7, \"boundary_score\": 1.0, \"rolling_avg_score\": 1.404, \"start_issue\": \"1962-05-07\", \"temp_issue_number\": 18.0, \"category\": \"Actual\"}, {\"page_number\": 670, \"predicted_boundary\": 1, \"boundary_score\": 1.0, \"rolling_avg_score\": 1.204, \"start_issue\": \"1962-05-07\", \"temp_issue_number\": 18.0, \"category\": \"Actual\"}, {\"page_number\": 671, \"predicted_boundary\": 1, \"boundary_score\": 1.0, \"rolling_avg_score\": 1.136, \"start_issue\": \"1962-05-07\", \"temp_issue_number\": 18.0, \"category\": \"Actual\"}, {\"page_number\": 672, \"predicted_boundary\": 1, \"boundary_score\": 1.0, \"rolling_avg_score\": 1.068, \"start_issue\": \"1962-05-07\", \"temp_issue_number\": 18.0, \"category\": \"Actual\"}, {\"page_number\": 673, \"predicted_boundary\": 28, \"boundary_score\": 1.0, \"rolling_avg_score\": 1.0, \"start_issue\": \"1962-05-07\", \"temp_issue_number\": 18.0, \"category\": \"Actual\"}, {\"page_number\": 674, \"predicted_boundary\": 18, \"boundary_score\": 1.0, \"rolling_avg_score\": 1.0, \"start_issue\": \"1962-05-07\", \"temp_issue_number\": 18.0, \"category\": \"Actual\"}, {\"page_number\": 675, \"predicted_boundary\": 19, \"boundary_score\": 1.0, \"rolling_avg_score\": 1.0, \"start_issue\": \"1962-05-07\", \"temp_issue_number\": 18.0, \"category\": \"Actual\"}, {\"page_number\": 676, \"predicted_boundary\": 16, \"boundary_score\": 1.0, \"rolling_avg_score\": 1.0, \"start_issue\": \"1962-05-07\", \"temp_issue_number\": 18.0, \"category\": \"Actual\"}, {\"page_number\": 677, \"predicted_boundary\": 1, \"boundary_score\": 1.0, \"rolling_avg_score\": 1.0, \"start_issue\": \"1962-05-07\", \"temp_issue_number\": 18.0, \"category\": \"Actual\"}, {\"page_number\": 678, \"predicted_boundary\": 1, \"boundary_score\": 1.0, \"rolling_avg_score\": 1.0, \"start_issue\": \"1962-05-07\", \"temp_issue_number\": 18.0, \"category\": \"Actual\"}, {\"page_number\": 679, \"predicted_boundary\": 0, \"boundary_score\": 1.0, \"rolling_avg_score\": 1.0, \"start_issue\": \"1962-05-07\", \"temp_issue_number\": 18.0, \"category\": \"Actual\"}, {\"page_number\": 680, \"predicted_boundary\": 1, \"boundary_score\": 1.0, \"rolling_avg_score\": 1.0, \"start_issue\": \"1962-05-07\", \"temp_issue_number\": 18.0, \"category\": \"Actual\"}, {\"page_number\": 681, \"predicted_boundary\": 2, \"boundary_score\": 1.6600000000000001, \"rolling_avg_score\": 1.1320000000000001, \"start_issue\": \"1962-05-07\", \"temp_issue_number\": 18.0, \"category\": \"Actual\"}, {\"page_number\": 682, \"predicted_boundary\": 1, \"boundary_score\": 1.6600000000000001, \"rolling_avg_score\": 1.264, \"start_issue\": \"1962-05-07\", \"temp_issue_number\": 18.0, \"category\": \"Actual\"}, {\"page_number\": 683, \"predicted_boundary\": 1, \"boundary_score\": 1.6600000000000001, \"rolling_avg_score\": 1.3960000000000001, \"start_issue\": \"1962-05-07\", \"temp_issue_number\": 18.0, \"category\": \"Actual\"}, {\"page_number\": 684, \"predicted_boundary\": 1, \"boundary_score\": 2.66, \"rolling_avg_score\": 1.7280000000000002, \"start_issue\": \"1962-05-07\", \"temp_issue_number\": 18.0, \"category\": \"Actual\"}, {\"page_number\": 685, \"predicted_boundary\": 0, \"boundary_score\": 2.0, \"rolling_avg_score\": 1.9280000000000002, \"start_issue\": \"1962-05-07\", \"temp_issue_number\": 18.0, \"category\": \"Actual\"}, {\"page_number\": 686, \"predicted_boundary\": 0, \"boundary_score\": 1.3399999999999999, \"rolling_avg_score\": 1.864, \"start_issue\": \"1962-05-07\", \"temp_issue_number\": 18.0, \"category\": \"Actual\"}, {\"page_number\": 687, \"predicted_boundary\": 7, \"boundary_score\": 1.0, \"rolling_avg_score\": 1.732, \"start_issue\": \"1962-05-07\", \"temp_issue_number\": 18.0, \"category\": \"Actual\"}, {\"page_number\": 688, \"predicted_boundary\": 3, \"boundary_score\": 1.0, \"rolling_avg_score\": 1.6, \"start_issue\": \"1962-05-07\", \"temp_issue_number\": 18.0, \"category\": \"Actual\"}, {\"page_number\": 690, \"predicted_boundary\": 0, \"boundary_score\": 1.0, \"rolling_avg_score\": 1.268, \"start_issue\": \"1962-05-07\", \"temp_issue_number\": 18.0, \"category\": \"Actual\"}, {\"page_number\": 691, \"predicted_boundary\": 2, \"boundary_score\": 1.0, \"rolling_avg_score\": 1.068, \"start_issue\": \"1962-05-07\", \"temp_issue_number\": 18.0, \"category\": \"Actual\"}, {\"page_number\": 693, \"predicted_boundary\": 0, \"boundary_score\": 1.0, \"rolling_avg_score\": 1.0, \"start_issue\": \"1962-05-07\", \"temp_issue_number\": 18.0, \"category\": \"Actual\"}, {\"page_number\": 694, \"predicted_boundary\": 0, \"boundary_score\": 1.0, \"rolling_avg_score\": 1.0, \"start_issue\": \"1962-05-07\", \"temp_issue_number\": 18.0, \"category\": \"Actual\"}, {\"page_number\": 695, \"predicted_boundary\": 0, \"boundary_score\": 1.0, \"rolling_avg_score\": 1.0, \"start_issue\": \"1962-05-14\", \"temp_issue_number\": 19.0, \"category\": \"Actual\"}, {\"page_number\": 696, \"predicted_boundary\": 9, \"boundary_score\": 1.0, \"rolling_avg_score\": 1.0, \"start_issue\": \"1962-05-14\", \"temp_issue_number\": 19.0, \"category\": \"Actual\"}, {\"page_number\": 697, \"predicted_boundary\": 14, \"boundary_score\": 1.0, \"rolling_avg_score\": 1.0, \"start_issue\": \"1962-05-14\", \"temp_issue_number\": 19.0, \"category\": \"Actual\"}, {\"page_number\": 698, \"predicted_boundary\": 1, \"boundary_score\": 2.0, \"rolling_avg_score\": 1.2, \"start_issue\": \"1962-05-14\", \"temp_issue_number\": 19.0, \"category\": \"Actual\"}, {\"page_number\": 699, \"predicted_boundary\": 14, \"boundary_score\": 1.0, \"rolling_avg_score\": 1.2, \"start_issue\": \"1962-05-14\", \"temp_issue_number\": 19.0, \"category\": \"Actual\"}, {\"page_number\": 700, \"predicted_boundary\": 8, \"boundary_score\": 1.0, \"rolling_avg_score\": 1.2, \"start_issue\": \"1962-05-14\", \"temp_issue_number\": 19.0, \"category\": \"Actual\"}, {\"page_number\": 701, \"predicted_boundary\": 1, \"boundary_score\": 1.0, \"rolling_avg_score\": 1.2, \"start_issue\": \"1962-05-14\", \"temp_issue_number\": 19.0, \"category\": \"Actual\"}, {\"page_number\": 702, \"predicted_boundary\": 14, \"boundary_score\": 1.0, \"rolling_avg_score\": 1.2, \"start_issue\": \"1962-05-14\", \"temp_issue_number\": 19.0, \"category\": \"Actual\"}, {\"page_number\": 703, \"predicted_boundary\": 2, \"boundary_score\": 1.6600000000000001, \"rolling_avg_score\": 1.1320000000000001, \"start_issue\": \"1962-05-14\", \"temp_issue_number\": 19.0, \"category\": \"Actual\"}, {\"page_number\": 704, \"predicted_boundary\": 2, \"boundary_score\": 1.6600000000000001, \"rolling_avg_score\": 1.264, \"start_issue\": \"1962-05-14\", \"temp_issue_number\": 19.0, \"category\": \"Actual\"}, {\"page_number\": 705, \"predicted_boundary\": 2, \"boundary_score\": 2.0, \"rolling_avg_score\": 1.464, \"start_issue\": \"1962-05-14\", \"temp_issue_number\": 19.0, \"category\": \"Actual\"}, {\"page_number\": 706, \"predicted_boundary\": 4, \"boundary_score\": 1.3399999999999999, \"rolling_avg_score\": 1.532, \"start_issue\": \"1962-05-14\", \"temp_issue_number\": 19.0, \"category\": \"Actual\"}, {\"page_number\": 707, \"predicted_boundary\": 4, \"boundary_score\": 1.3399999999999999, \"rolling_avg_score\": 1.6, \"start_issue\": \"1962-05-14\", \"temp_issue_number\": 19.0, \"category\": \"Actual\"}, {\"page_number\": 708, \"predicted_boundary\": 3, \"boundary_score\": 1.0, \"rolling_avg_score\": 1.468, \"start_issue\": \"1962-05-14\", \"temp_issue_number\": 19.0, \"category\": \"Actual\"}, {\"page_number\": 709, \"predicted_boundary\": 1, \"boundary_score\": 1.0, \"rolling_avg_score\": 1.3359999999999999, \"start_issue\": \"1962-05-14\", \"temp_issue_number\": 19.0, \"category\": \"Actual\"}, {\"page_number\": 710, \"predicted_boundary\": 3, \"boundary_score\": 1.6600000000000001, \"rolling_avg_score\": 1.268, \"start_issue\": \"1962-05-14\", \"temp_issue_number\": 19.0, \"category\": \"Actual\"}, {\"page_number\": 711, \"predicted_boundary\": 3, \"boundary_score\": 1.6600000000000001, \"rolling_avg_score\": 1.332, \"start_issue\": \"1962-05-14\", \"temp_issue_number\": 19.0, \"category\": \"Actual\"}, {\"page_number\": 712, \"predicted_boundary\": 2, \"boundary_score\": 1.6600000000000001, \"rolling_avg_score\": 1.3960000000000001, \"start_issue\": \"1962-05-14\", \"temp_issue_number\": 19.0, \"category\": \"Actual\"}, {\"page_number\": 713, \"predicted_boundary\": 1, \"boundary_score\": 2.66, \"rolling_avg_score\": 1.7280000000000002, \"start_issue\": \"1962-05-14\", \"temp_issue_number\": 19.0, \"category\": \"Actual\"}, {\"page_number\": 714, \"predicted_boundary\": 2, \"boundary_score\": 3.0, \"rolling_avg_score\": 2.128, \"start_issue\": \"1962-05-14\", \"temp_issue_number\": 19.0, \"category\": \"Actual\"}, {\"page_number\": 715, \"predicted_boundary\": 2, \"boundary_score\": 1.3399999999999999, \"rolling_avg_score\": 2.064, \"start_issue\": \"1962-05-14\", \"temp_issue_number\": 19.0, \"category\": \"Actual\"}, {\"page_number\": 716, \"predicted_boundary\": 21, \"boundary_score\": 1.6600000000000001, \"rolling_avg_score\": 2.064, \"start_issue\": \"1962-05-14\", \"temp_issue_number\": 19.0, \"category\": \"Actual\"}, {\"page_number\": 717, \"predicted_boundary\": 2, \"boundary_score\": 3.0, \"rolling_avg_score\": 2.332, \"start_issue\": \"1962-05-14\", \"temp_issue_number\": 19.0, \"category\": \"Actual\"}, {\"page_number\": 718, \"predicted_boundary\": 3, \"boundary_score\": 3.0, \"rolling_avg_score\": 2.4, \"start_issue\": \"1962-05-14\", \"temp_issue_number\": 19.0, \"category\": \"Actual\"}, {\"page_number\": 719, \"predicted_boundary\": 1, \"boundary_score\": 2.0, \"rolling_avg_score\": 2.2, \"start_issue\": \"1962-05-14\", \"temp_issue_number\": 19.0, \"category\": \"Actual\"}, {\"page_number\": 720, \"predicted_boundary\": 1, \"boundary_score\": 2.0, \"rolling_avg_score\": 2.332, \"start_issue\": \"1962-05-14\", \"temp_issue_number\": 19.0, \"category\": \"Actual\"}, {\"page_number\": 721, \"predicted_boundary\": 0, \"boundary_score\": 1.6600000000000001, \"rolling_avg_score\": 2.332, \"start_issue\": \"1962-05-14\", \"temp_issue_number\": 19.0, \"category\": \"Actual\"}, {\"page_number\": 722, \"predicted_boundary\": 0, \"boundary_score\": 1.6600000000000001, \"rolling_avg_score\": 2.064, \"start_issue\": \"1962-05-14\", \"temp_issue_number\": 19.0, \"category\": \"Actual\"}, {\"page_number\": 723, \"predicted_boundary\": 0, \"boundary_score\": 2.0, \"rolling_avg_score\": 1.864, \"start_issue\": \"1962-05-14\", \"temp_issue_number\": 19.0, \"category\": \"Actual\"}, {\"page_number\": 724, \"predicted_boundary\": 0, \"boundary_score\": 1.3399999999999999, \"rolling_avg_score\": 1.732, \"start_issue\": \"1962-05-14\", \"temp_issue_number\": 19.0, \"category\": \"Actual\"}, {\"page_number\": 725, \"predicted_boundary\": 0, \"boundary_score\": 1.3399999999999999, \"rolling_avg_score\": 1.6, \"start_issue\": \"1962-05-14\", \"temp_issue_number\": 19.0, \"category\": \"Actual\"}, {\"page_number\": 726, \"predicted_boundary\": 0, \"boundary_score\": 0.33999999999999997, \"rolling_avg_score\": 1.3359999999999999, \"start_issue\": null, \"temp_issue_number\": null, \"category\": \"Predicted\"}, {\"page_number\": 727, \"predicted_boundary\": 2, \"boundary_score\": 1.0, \"rolling_avg_score\": 1.204, \"start_issue\": \"1962-05-21\", \"temp_issue_number\": 20.0, \"category\": \"Actual\"}, {\"page_number\": 728, \"predicted_boundary\": 0, \"boundary_score\": 1.6600000000000001, \"rolling_avg_score\": 1.136, \"start_issue\": \"1962-05-21\", \"temp_issue_number\": 20.0, \"category\": \"Actual\"}, {\"page_number\": 729, \"predicted_boundary\": 0, \"boundary_score\": 2.0, \"rolling_avg_score\": 1.268, \"start_issue\": \"1962-05-21\", \"temp_issue_number\": 20.0, \"category\": \"Actual\"}, {\"page_number\": 730, \"predicted_boundary\": 1, \"boundary_score\": 1.3399999999999999, \"rolling_avg_score\": 1.268, \"start_issue\": \"1962-05-21\", \"temp_issue_number\": 20.0, \"category\": \"Actual\"}, {\"page_number\": 731, \"predicted_boundary\": 1, \"boundary_score\": 0.33999999999999997, \"rolling_avg_score\": 1.268, \"start_issue\": null, \"temp_issue_number\": null, \"category\": \"Predicted\"}, {\"page_number\": 732, \"predicted_boundary\": 1, \"boundary_score\": 1.0, \"rolling_avg_score\": 1.268, \"start_issue\": \"1962-05-21\", \"temp_issue_number\": 20.0, \"category\": \"Actual\"}, {\"page_number\": 733, \"predicted_boundary\": 21, \"boundary_score\": 1.0, \"rolling_avg_score\": 1.136, \"start_issue\": \"1962-05-21\", \"temp_issue_number\": 20.0, \"category\": \"Actual\"}, {\"page_number\": 734, \"predicted_boundary\": 0, \"boundary_score\": 2.0, \"rolling_avg_score\": 1.136, \"start_issue\": \"1962-05-21\", \"temp_issue_number\": 20.0, \"category\": \"Actual\"}, {\"page_number\": 735, \"predicted_boundary\": 7, \"boundary_score\": 1.0, \"rolling_avg_score\": 1.068, \"start_issue\": \"1962-05-21\", \"temp_issue_number\": 20.0, \"category\": \"Actual\"}, {\"page_number\": 736, \"predicted_boundary\": 3, \"boundary_score\": 1.0, \"rolling_avg_score\": 1.2, \"start_issue\": \"1962-05-21\", \"temp_issue_number\": 20.0, \"category\": \"Actual\"}, {\"page_number\": 737, \"predicted_boundary\": 1, \"boundary_score\": 1.0, \"rolling_avg_score\": 1.2, \"start_issue\": \"1962-05-21\", \"temp_issue_number\": 20.0, \"category\": \"Actual\"}, {\"page_number\": 738, \"predicted_boundary\": 0, \"boundary_score\": 2.0, \"rolling_avg_score\": 1.4, \"start_issue\": \"1962-05-21\", \"temp_issue_number\": 20.0, \"category\": \"Actual\"}, {\"page_number\": 739, \"predicted_boundary\": 1, \"boundary_score\": 1.0, \"rolling_avg_score\": 1.2, \"start_issue\": \"1962-05-21\", \"temp_issue_number\": 20.0, \"category\": \"Actual\"}, {\"page_number\": 740, \"predicted_boundary\": 1, \"boundary_score\": 1.0, \"rolling_avg_score\": 1.2, \"start_issue\": \"1962-05-21\", \"temp_issue_number\": 20.0, \"category\": \"Actual\"}, {\"page_number\": 741, \"predicted_boundary\": 10, \"boundary_score\": 1.0, \"rolling_avg_score\": 1.2, \"start_issue\": \"1962-05-21\", \"temp_issue_number\": 20.0, \"category\": \"Actual\"}, {\"page_number\": 742, \"predicted_boundary\": 1, \"boundary_score\": 1.0, \"rolling_avg_score\": 1.2, \"start_issue\": \"1962-05-21\", \"temp_issue_number\": 20.0, \"category\": \"Actual\"}, {\"page_number\": 743, \"predicted_boundary\": 0, \"boundary_score\": 2.0, \"rolling_avg_score\": 1.2, \"start_issue\": \"1962-05-21\", \"temp_issue_number\": 20.0, \"category\": \"Actual\"}, {\"page_number\": 744, \"predicted_boundary\": 0, \"boundary_score\": 0.33999999999999997, \"rolling_avg_score\": 1.068, \"start_issue\": null, \"temp_issue_number\": null, \"category\": \"Predicted\"}, {\"page_number\": 745, \"predicted_boundary\": 0, \"boundary_score\": 1.0, \"rolling_avg_score\": 1.068, \"start_issue\": \"1962-05-21\", \"temp_issue_number\": 20.0, \"category\": \"Actual\"}, {\"page_number\": 746, \"predicted_boundary\": 4, \"boundary_score\": 1.0, \"rolling_avg_score\": 1.068, \"start_issue\": \"1962-05-21\", \"temp_issue_number\": 20.0, \"category\": \"Actual\"}, {\"page_number\": 747, \"predicted_boundary\": 0, \"boundary_score\": 1.0, \"rolling_avg_score\": 1.068, \"start_issue\": \"1962-05-21\", \"temp_issue_number\": 20.0, \"category\": \"Actual\"}, {\"page_number\": 748, \"predicted_boundary\": 1, \"boundary_score\": 1.0, \"rolling_avg_score\": 0.868, \"start_issue\": \"1962-05-21\", \"temp_issue_number\": 20.0, \"category\": \"Actual\"}, {\"page_number\": 749, \"predicted_boundary\": 0, \"boundary_score\": 2.0, \"rolling_avg_score\": 1.2, \"start_issue\": \"1962-05-21\", \"temp_issue_number\": 20.0, \"category\": \"Actual\"}, {\"page_number\": 750, \"predicted_boundary\": 16, \"boundary_score\": 1.0, \"rolling_avg_score\": 1.2, \"start_issue\": \"1962-05-21\", \"temp_issue_number\": 20.0, \"category\": \"Actual\"}, {\"page_number\": 751, \"predicted_boundary\": 8, \"boundary_score\": 1.0, \"rolling_avg_score\": 1.2, \"start_issue\": \"1962-05-21\", \"temp_issue_number\": 20.0, \"category\": \"Actual\"}, {\"page_number\": 752, \"predicted_boundary\": 0, \"boundary_score\": 1.0, \"rolling_avg_score\": 1.2, \"start_issue\": \"1962-05-21\", \"temp_issue_number\": 20.0, \"category\": \"Actual\"}, {\"page_number\": 753, \"predicted_boundary\": 21, \"boundary_score\": 1.0, \"rolling_avg_score\": 1.2, \"start_issue\": \"1962-05-21\", \"temp_issue_number\": 20.0, \"category\": \"Actual\"}, {\"page_number\": 754, \"predicted_boundary\": 1, \"boundary_score\": 1.6600000000000001, \"rolling_avg_score\": 1.1320000000000001, \"start_issue\": \"1962-05-21\", \"temp_issue_number\": 20.0, \"category\": \"Actual\"}, {\"page_number\": 755, \"predicted_boundary\": 1, \"boundary_score\": 1.6600000000000001, \"rolling_avg_score\": 1.264, \"start_issue\": \"1962-05-21\", \"temp_issue_number\": 20.0, \"category\": \"Actual\"}, {\"page_number\": 756, \"predicted_boundary\": 1, \"boundary_score\": 1.6600000000000001, \"rolling_avg_score\": 1.3960000000000001, \"start_issue\": \"1962-05-21\", \"temp_issue_number\": 20.0, \"category\": \"Actual\"}, {\"page_number\": 757, \"predicted_boundary\": 0, \"boundary_score\": 2.0, \"rolling_avg_score\": 1.596, \"start_issue\": \"1962-05-21\", \"temp_issue_number\": 20.0, \"category\": \"Actual\"}, {\"page_number\": 758, \"predicted_boundary\": 0, \"boundary_score\": 1.3399999999999999, \"rolling_avg_score\": 1.6640000000000001, \"start_issue\": \"1962-05-21\", \"temp_issue_number\": 20.0, \"category\": \"Actual\"}, {\"page_number\": 759, \"predicted_boundary\": 15, \"boundary_score\": 1.0, \"rolling_avg_score\": 1.532, \"start_issue\": \"1962-05-21\", \"temp_issue_number\": 20.0, \"category\": \"Actual\"}, {\"page_number\": 760, \"predicted_boundary\": 7, \"boundary_score\": 1.0, \"rolling_avg_score\": 1.4, \"start_issue\": \"1962-05-21\", \"temp_issue_number\": 20.0, \"category\": \"Actual\"}, {\"page_number\": 761, \"predicted_boundary\": 0, \"boundary_score\": 1.0, \"rolling_avg_score\": 1.268, \"start_issue\": \"1962-05-21\", \"temp_issue_number\": 20.0, \"category\": \"Actual\"}, {\"page_number\": 763, \"predicted_boundary\": 28, \"boundary_score\": 1.0, \"rolling_avg_score\": 1.068, \"start_issue\": \"1962-05-28\", \"temp_issue_number\": 21.0, \"category\": \"Actual\"}, {\"page_number\": 764, \"predicted_boundary\": 0, \"boundary_score\": 1.0, \"rolling_avg_score\": 1.0, \"start_issue\": \"1962-05-28\", \"temp_issue_number\": 21.0, \"category\": \"Actual\"}, {\"page_number\": 765, \"predicted_boundary\": 0, \"boundary_score\": 1.0, \"rolling_avg_score\": 1.0, \"start_issue\": \"1962-05-28\", \"temp_issue_number\": 21.0, \"category\": \"Actual\"}, {\"page_number\": 766, \"predicted_boundary\": 0, \"boundary_score\": 1.0, \"rolling_avg_score\": 1.0, \"start_issue\": \"1962-05-28\", \"temp_issue_number\": 21.0, \"category\": \"Actual\"}, {\"page_number\": 767, \"predicted_boundary\": 1, \"boundary_score\": 0.66, \"rolling_avg_score\": 0.932, \"start_issue\": null, \"temp_issue_number\": null, \"category\": \"Predicted\"}, {\"page_number\": 768, \"predicted_boundary\": 1, \"boundary_score\": 1.6600000000000001, \"rolling_avg_score\": 1.064, \"start_issue\": \"1962-05-28\", \"temp_issue_number\": 21.0, \"category\": \"Actual\"}, {\"page_number\": 769, \"predicted_boundary\": 3, \"boundary_score\": 3.0, \"rolling_avg_score\": 1.464, \"start_issue\": \"1962-05-28\", \"temp_issue_number\": 21.0, \"category\": \"Actual\"}, {\"page_number\": 770, \"predicted_boundary\": 1, \"boundary_score\": 2.0, \"rolling_avg_score\": 1.6640000000000001, \"start_issue\": \"1962-05-28\", \"temp_issue_number\": 21.0, \"category\": \"Actual\"}, {\"page_number\": 771, \"predicted_boundary\": 1, \"boundary_score\": 1.3399999999999999, \"rolling_avg_score\": 1.732, \"start_issue\": \"1962-05-28\", \"temp_issue_number\": 21.0, \"category\": \"Actual\"}, {\"page_number\": 772, \"predicted_boundary\": 0, \"boundary_score\": 1.0, \"rolling_avg_score\": 1.8, \"start_issue\": \"1962-05-28\", \"temp_issue_number\": 21.0, \"category\": \"Actual\"}, {\"page_number\": 773, \"predicted_boundary\": 9, \"boundary_score\": 1.0, \"rolling_avg_score\": 1.668, \"start_issue\": \"1962-05-28\", \"temp_issue_number\": 21.0, \"category\": \"Actual\"}, {\"page_number\": 774, \"predicted_boundary\": 1, \"boundary_score\": 1.0, \"rolling_avg_score\": 1.268, \"start_issue\": \"1962-05-28\", \"temp_issue_number\": 21.0, \"category\": \"Actual\"}, {\"page_number\": 775, \"predicted_boundary\": 11, \"boundary_score\": 1.0, \"rolling_avg_score\": 1.068, \"start_issue\": \"1962-05-28\", \"temp_issue_number\": 21.0, \"category\": \"Actual\"}, {\"page_number\": 776, \"predicted_boundary\": 0, \"boundary_score\": 1.0, \"rolling_avg_score\": 1.0, \"start_issue\": \"1962-05-28\", \"temp_issue_number\": 21.0, \"category\": \"Actual\"}, {\"page_number\": 777, \"predicted_boundary\": 1, \"boundary_score\": 1.0, \"rolling_avg_score\": 1.0, \"start_issue\": \"1962-05-28\", \"temp_issue_number\": 21.0, \"category\": \"Actual\"}, {\"page_number\": 778, \"predicted_boundary\": 1, \"boundary_score\": 1.0, \"rolling_avg_score\": 1.0, \"start_issue\": \"1962-05-28\", \"temp_issue_number\": 21.0, \"category\": \"Actual\"}, {\"page_number\": 779, \"predicted_boundary\": 0, \"boundary_score\": 1.0, \"rolling_avg_score\": 1.0, \"start_issue\": \"1962-05-28\", \"temp_issue_number\": 21.0, \"category\": \"Actual\"}, {\"page_number\": 780, \"predicted_boundary\": 2, \"boundary_score\": 1.0, \"rolling_avg_score\": 1.0, \"start_issue\": \"1962-05-28\", \"temp_issue_number\": 21.0, \"category\": \"Actual\"}, {\"page_number\": 781, \"predicted_boundary\": 1, \"boundary_score\": 1.0, \"rolling_avg_score\": 1.0, \"start_issue\": \"1962-05-28\", \"temp_issue_number\": 21.0, \"category\": \"Actual\"}, {\"page_number\": 782, \"predicted_boundary\": 1, \"boundary_score\": 1.0, \"rolling_avg_score\": 1.0, \"start_issue\": \"1962-05-28\", \"temp_issue_number\": 21.0, \"category\": \"Actual\"}, {\"page_number\": 783, \"predicted_boundary\": 7, \"boundary_score\": 1.0, \"rolling_avg_score\": 1.0, \"start_issue\": \"1962-05-28\", \"temp_issue_number\": 21.0, \"category\": \"Actual\"}, {\"page_number\": 784, \"predicted_boundary\": 3, \"boundary_score\": 1.0, \"rolling_avg_score\": 1.0, \"start_issue\": \"1962-05-28\", \"temp_issue_number\": 21.0, \"category\": \"Actual\"}, {\"page_number\": 785, \"predicted_boundary\": 3, \"boundary_score\": 1.0, \"rolling_avg_score\": 1.0, \"start_issue\": \"1962-05-28\", \"temp_issue_number\": 21.0, \"category\": \"Actual\"}, {\"page_number\": 786, \"predicted_boundary\": 1, \"boundary_score\": 1.0, \"rolling_avg_score\": 1.0, \"start_issue\": \"1962-05-28\", \"temp_issue_number\": 21.0, \"category\": \"Actual\"}, {\"page_number\": 787, \"predicted_boundary\": 2, \"boundary_score\": 1.0, \"rolling_avg_score\": 1.0, \"start_issue\": \"1962-05-28\", \"temp_issue_number\": 21.0, \"category\": \"Actual\"}, {\"page_number\": 788, \"predicted_boundary\": 4, \"boundary_score\": 1.0, \"rolling_avg_score\": 1.0, \"start_issue\": \"1962-05-28\", \"temp_issue_number\": 21.0, \"category\": \"Actual\"}, {\"page_number\": 789, \"predicted_boundary\": 1, \"boundary_score\": 1.0, \"rolling_avg_score\": 1.0, \"start_issue\": \"1962-05-28\", \"temp_issue_number\": 21.0, \"category\": \"Actual\"}, {\"page_number\": 790, \"predicted_boundary\": 1, \"boundary_score\": 1.0, \"rolling_avg_score\": 1.0, \"start_issue\": \"1962-05-28\", \"temp_issue_number\": 21.0, \"category\": \"Actual\"}, {\"page_number\": 791, \"predicted_boundary\": 1, \"boundary_score\": 1.0, \"rolling_avg_score\": 1.0, \"start_issue\": \"1962-05-28\", \"temp_issue_number\": 21.0, \"category\": \"Actual\"}, {\"page_number\": 792, \"predicted_boundary\": 1, \"boundary_score\": 1.0, \"rolling_avg_score\": 1.0, \"start_issue\": \"1962-05-28\", \"temp_issue_number\": 21.0, \"category\": \"Actual\"}, {\"page_number\": 793, \"predicted_boundary\": 23, \"boundary_score\": 1.0, \"rolling_avg_score\": 1.0, \"start_issue\": \"1962-05-28\", \"temp_issue_number\": 21.0, \"category\": \"Actual\"}, {\"page_number\": 794, \"predicted_boundary\": 0, \"boundary_score\": 1.0, \"rolling_avg_score\": 1.0, \"start_issue\": \"1962-05-28\", \"temp_issue_number\": 21.0, \"category\": \"Actual\"}, {\"page_number\": 795, \"predicted_boundary\": 1, \"boundary_score\": 1.0, \"rolling_avg_score\": 1.0, \"start_issue\": \"1962-05-28\", \"temp_issue_number\": 21.0, \"category\": \"Actual\"}, {\"page_number\": 796, \"predicted_boundary\": 3, \"boundary_score\": 2.0, \"rolling_avg_score\": 1.2, \"start_issue\": \"1962-05-28\", \"temp_issue_number\": 21.0, \"category\": \"Actual\"}, {\"page_number\": 797, \"predicted_boundary\": 0, \"boundary_score\": 1.0, \"rolling_avg_score\": 1.2, \"start_issue\": \"1962-05-28\", \"temp_issue_number\": 21.0, \"category\": \"Actual\"}, {\"page_number\": 798, \"predicted_boundary\": 0, \"boundary_score\": 1.0, \"rolling_avg_score\": 1.2, \"start_issue\": \"1962-05-28\", \"temp_issue_number\": 21.0, \"category\": \"Actual\"}, {\"page_number\": 799, \"predicted_boundary\": 0, \"boundary_score\": 1.0, \"rolling_avg_score\": 1.2, \"start_issue\": \"1962-06-04\", \"temp_issue_number\": 22.0, \"category\": \"Actual\"}, {\"page_number\": 801, \"predicted_boundary\": 1, \"boundary_score\": 1.0, \"rolling_avg_score\": 1.2, \"start_issue\": \"1962-06-04\", \"temp_issue_number\": 22.0, \"category\": \"Actual\"}, {\"page_number\": 802, \"predicted_boundary\": 0, \"boundary_score\": 1.0, \"rolling_avg_score\": 1.0, \"start_issue\": \"1962-06-04\", \"temp_issue_number\": 22.0, \"category\": \"Actual\"}, {\"page_number\": 804, \"predicted_boundary\": 1, \"boundary_score\": 1.0, \"rolling_avg_score\": 1.0, \"start_issue\": \"1962-06-04\", \"temp_issue_number\": 22.0, \"category\": \"Actual\"}, {\"page_number\": 805, \"predicted_boundary\": 5, \"boundary_score\": 1.0, \"rolling_avg_score\": 1.0, \"start_issue\": \"1962-06-04\", \"temp_issue_number\": 22.0, \"category\": \"Actual\"}, {\"page_number\": 806, \"predicted_boundary\": 1, \"boundary_score\": 1.6600000000000001, \"rolling_avg_score\": 1.1320000000000001, \"start_issue\": \"1962-06-04\", \"temp_issue_number\": 22.0, \"category\": \"Actual\"}, {\"page_number\": 807, \"predicted_boundary\": 1, \"boundary_score\": 1.6600000000000001, \"rolling_avg_score\": 1.264, \"start_issue\": \"1962-06-04\", \"temp_issue_number\": 22.0, \"category\": \"Actual\"}, {\"page_number\": 808, \"predicted_boundary\": 4, \"boundary_score\": 3.0, \"rolling_avg_score\": 1.6640000000000001, \"start_issue\": \"1962-06-04\", \"temp_issue_number\": 22.0, \"category\": \"Actual\"}, {\"page_number\": 809, \"predicted_boundary\": 1, \"boundary_score\": 1.3399999999999999, \"rolling_avg_score\": 1.732, \"start_issue\": \"1962-06-04\", \"temp_issue_number\": 22.0, \"category\": \"Actual\"}, {\"page_number\": 810, \"predicted_boundary\": 1, \"boundary_score\": 1.3399999999999999, \"rolling_avg_score\": 1.8, \"start_issue\": \"1962-06-04\", \"temp_issue_number\": 22.0, \"category\": \"Actual\"}, {\"page_number\": 811, \"predicted_boundary\": 1, \"boundary_score\": 1.3399999999999999, \"rolling_avg_score\": 1.736, \"start_issue\": \"1962-06-04\", \"temp_issue_number\": 22.0, \"category\": \"Actual\"}, {\"page_number\": 812, \"predicted_boundary\": 2, \"boundary_score\": 1.0, \"rolling_avg_score\": 1.6039999999999999, \"start_issue\": \"1962-06-04\", \"temp_issue_number\": 22.0, \"category\": \"Actual\"}, {\"page_number\": 813, \"predicted_boundary\": 4, \"boundary_score\": 1.0, \"rolling_avg_score\": 1.204, \"start_issue\": \"1962-06-04\", \"temp_issue_number\": 22.0, \"category\": \"Actual\"}, {\"page_number\": 814, \"predicted_boundary\": 14, \"boundary_score\": 1.0, \"rolling_avg_score\": 1.136, \"start_issue\": \"1962-06-04\", \"temp_issue_number\": 22.0, \"category\": \"Actual\"}, {\"page_number\": 815, \"predicted_boundary\": 1, \"boundary_score\": 1.0, \"rolling_avg_score\": 1.068, \"start_issue\": \"1962-06-04\", \"temp_issue_number\": 22.0, \"category\": \"Actual\"}, {\"page_number\": 816, \"predicted_boundary\": 0, \"boundary_score\": 1.0, \"rolling_avg_score\": 1.0, \"start_issue\": \"1962-06-04\", \"temp_issue_number\": 22.0, \"category\": \"Actual\"}, {\"page_number\": 817, \"predicted_boundary\": 4, \"boundary_score\": 1.0, \"rolling_avg_score\": 1.0, \"start_issue\": \"1962-06-04\", \"temp_issue_number\": 22.0, \"category\": \"Actual\"}, {\"page_number\": 818, \"predicted_boundary\": 4, \"boundary_score\": 1.0, \"rolling_avg_score\": 1.0, \"start_issue\": \"1962-06-04\", \"temp_issue_number\": 22.0, \"category\": \"Actual\"}, {\"page_number\": 819, \"predicted_boundary\": 3, \"boundary_score\": 1.0, \"rolling_avg_score\": 1.0, \"start_issue\": \"1962-06-04\", \"temp_issue_number\": 22.0, \"category\": \"Actual\"}, {\"page_number\": 820, \"predicted_boundary\": 1, \"boundary_score\": 1.0, \"rolling_avg_score\": 1.0, \"start_issue\": \"1962-06-04\", \"temp_issue_number\": 22.0, \"category\": \"Actual\"}, {\"page_number\": 821, \"predicted_boundary\": 4, \"boundary_score\": 1.0, \"rolling_avg_score\": 1.0, \"start_issue\": \"1962-06-04\", \"temp_issue_number\": 22.0, \"category\": \"Actual\"}, {\"page_number\": 822, \"predicted_boundary\": 2, \"boundary_score\": 1.0, \"rolling_avg_score\": 1.0, \"start_issue\": \"1962-06-04\", \"temp_issue_number\": 22.0, \"category\": \"Actual\"}, {\"page_number\": 823, \"predicted_boundary\": 0, \"boundary_score\": 1.0, \"rolling_avg_score\": 1.0, \"start_issue\": \"1962-06-04\", \"temp_issue_number\": 22.0, \"category\": \"Actual\"}, {\"page_number\": 824, \"predicted_boundary\": 24, \"boundary_score\": 1.0, \"rolling_avg_score\": 1.0, \"start_issue\": \"1962-06-04\", \"temp_issue_number\": 22.0, \"category\": \"Actual\"}, {\"page_number\": 825, \"predicted_boundary\": 4, \"boundary_score\": 1.0, \"rolling_avg_score\": 1.0, \"start_issue\": \"1962-06-04\", \"temp_issue_number\": 22.0, \"category\": \"Actual\"}, {\"page_number\": 826, \"predicted_boundary\": 2, \"boundary_score\": 1.0, \"rolling_avg_score\": 1.0, \"start_issue\": \"1962-06-04\", \"temp_issue_number\": 22.0, \"category\": \"Actual\"}, {\"page_number\": 827, \"predicted_boundary\": 4, \"boundary_score\": 1.0, \"rolling_avg_score\": 1.0, \"start_issue\": \"1962-06-04\", \"temp_issue_number\": 22.0, \"category\": \"Actual\"}, {\"page_number\": 828, \"predicted_boundary\": 0, \"boundary_score\": 1.0, \"rolling_avg_score\": 1.0, \"start_issue\": \"1962-06-04\", \"temp_issue_number\": 22.0, \"category\": \"Actual\"}, {\"page_number\": 829, \"predicted_boundary\": 5, \"boundary_score\": 1.0, \"rolling_avg_score\": 1.0, \"start_issue\": \"1962-06-04\", \"temp_issue_number\": 22.0, \"category\": \"Actual\"}, {\"page_number\": 830, \"predicted_boundary\": 9, \"boundary_score\": 1.0, \"rolling_avg_score\": 1.0, \"start_issue\": \"1962-06-04\", \"temp_issue_number\": 22.0, \"category\": \"Actual\"}, {\"page_number\": 831, \"predicted_boundary\": 3, \"boundary_score\": 1.0, \"rolling_avg_score\": 1.0, \"start_issue\": \"1962-06-04\", \"temp_issue_number\": 22.0, \"category\": \"Actual\"}, {\"page_number\": 832, \"predicted_boundary\": 1, \"boundary_score\": 1.0, \"rolling_avg_score\": 1.0, \"start_issue\": \"1962-06-04\", \"temp_issue_number\": 22.0, \"category\": \"Actual\"}, {\"page_number\": 833, \"predicted_boundary\": 0, \"boundary_score\": 1.0, \"rolling_avg_score\": 1.0, \"start_issue\": \"1962-06-04\", \"temp_issue_number\": 22.0, \"category\": \"Actual\"}, {\"page_number\": 834, \"predicted_boundary\": 0, \"boundary_score\": 1.0, \"rolling_avg_score\": 1.0, \"start_issue\": \"1962-06-04\", \"temp_issue_number\": 22.0, \"category\": \"Actual\"}, {\"page_number\": 835, \"predicted_boundary\": 2, \"boundary_score\": 1.0, \"rolling_avg_score\": 1.0, \"start_issue\": \"1962-06-11\", \"temp_issue_number\": 23.0, \"category\": \"Actual\"}, {\"page_number\": 836, \"predicted_boundary\": 23, \"boundary_score\": 1.0, \"rolling_avg_score\": 1.0, \"start_issue\": \"1962-06-11\", \"temp_issue_number\": 23.0, \"category\": \"Actual\"}, {\"page_number\": 837, \"predicted_boundary\": 1, \"boundary_score\": 1.0, \"rolling_avg_score\": 1.0, \"start_issue\": \"1962-06-11\", \"temp_issue_number\": 23.0, \"category\": \"Actual\"}, {\"page_number\": 838, \"predicted_boundary\": 2, \"boundary_score\": 1.0, \"rolling_avg_score\": 1.0, \"start_issue\": \"1962-06-11\", \"temp_issue_number\": 23.0, \"category\": \"Actual\"}, {\"page_number\": 839, \"predicted_boundary\": 1, \"boundary_score\": 1.0, \"rolling_avg_score\": 1.0, \"start_issue\": \"1962-06-11\", \"temp_issue_number\": 23.0, \"category\": \"Actual\"}, {\"page_number\": 840, \"predicted_boundary\": 90, \"boundary_score\": 1.0, \"rolling_avg_score\": 1.0, \"start_issue\": \"1962-06-11\", \"temp_issue_number\": 23.0, \"category\": \"Actual\"}, {\"page_number\": 841, \"predicted_boundary\": 0, \"boundary_score\": 2.0, \"rolling_avg_score\": 1.2, \"start_issue\": \"1962-06-11\", \"temp_issue_number\": 23.0, \"category\": \"Actual\"}, {\"page_number\": 842, \"predicted_boundary\": 40, \"boundary_score\": 1.0, \"rolling_avg_score\": 1.2, \"start_issue\": \"1962-06-11\", \"temp_issue_number\": 23.0, \"category\": \"Actual\"}, {\"page_number\": 843, \"predicted_boundary\": 1, \"boundary_score\": 1.0, \"rolling_avg_score\": 1.2, \"start_issue\": \"1962-06-11\", \"temp_issue_number\": 23.0, \"category\": \"Actual\"}, {\"page_number\": 844, \"predicted_boundary\": 3, \"boundary_score\": 1.0, \"rolling_avg_score\": 1.2, \"start_issue\": \"1962-06-11\", \"temp_issue_number\": 23.0, \"category\": \"Actual\"}, {\"page_number\": 845, \"predicted_boundary\": 1, \"boundary_score\": 1.0, \"rolling_avg_score\": 1.2, \"start_issue\": \"1962-06-11\", \"temp_issue_number\": 23.0, \"category\": \"Actual\"}, {\"page_number\": 846, \"predicted_boundary\": 1, \"boundary_score\": 1.0, \"rolling_avg_score\": 1.0, \"start_issue\": \"1962-06-11\", \"temp_issue_number\": 23.0, \"category\": \"Actual\"}, {\"page_number\": 847, \"predicted_boundary\": 1, \"boundary_score\": 1.0, \"rolling_avg_score\": 1.0, \"start_issue\": \"1962-06-11\", \"temp_issue_number\": 23.0, \"category\": \"Actual\"}, {\"page_number\": 848, \"predicted_boundary\": 6, \"boundary_score\": 1.0, \"rolling_avg_score\": 1.0, \"start_issue\": \"1962-06-11\", \"temp_issue_number\": 23.0, \"category\": \"Actual\"}, {\"page_number\": 849, \"predicted_boundary\": 1, \"boundary_score\": 1.0, \"rolling_avg_score\": 1.0, \"start_issue\": \"1962-06-11\", \"temp_issue_number\": 23.0, \"category\": \"Actual\"}, {\"page_number\": 850, \"predicted_boundary\": 11, \"boundary_score\": 1.0, \"rolling_avg_score\": 1.0, \"start_issue\": \"1962-06-11\", \"temp_issue_number\": 23.0, \"category\": \"Actual\"}, {\"page_number\": 851, \"predicted_boundary\": 11, \"boundary_score\": 1.0, \"rolling_avg_score\": 1.0, \"start_issue\": \"1962-06-11\", \"temp_issue_number\": 23.0, \"category\": \"Actual\"}, {\"page_number\": 852, \"predicted_boundary\": 4, \"boundary_score\": 1.0, \"rolling_avg_score\": 1.0, \"start_issue\": \"1962-06-11\", \"temp_issue_number\": 23.0, \"category\": \"Actual\"}, {\"page_number\": 853, \"predicted_boundary\": 1, \"boundary_score\": 1.0, \"rolling_avg_score\": 1.0, \"start_issue\": \"1962-06-11\", \"temp_issue_number\": 23.0, \"category\": \"Actual\"}, {\"page_number\": 854, \"predicted_boundary\": 1, \"boundary_score\": 1.0, \"rolling_avg_score\": 1.0, \"start_issue\": \"1962-06-11\", \"temp_issue_number\": 23.0, \"category\": \"Actual\"}, {\"page_number\": 855, \"predicted_boundary\": 3, \"boundary_score\": 1.0, \"rolling_avg_score\": 1.0, \"start_issue\": \"1962-06-11\", \"temp_issue_number\": 23.0, \"category\": \"Actual\"}, {\"page_number\": 856, \"predicted_boundary\": 0, \"boundary_score\": 1.0, \"rolling_avg_score\": 1.0, \"start_issue\": \"1962-06-11\", \"temp_issue_number\": 23.0, \"category\": \"Actual\"}, {\"page_number\": 857, \"predicted_boundary\": 0, \"boundary_score\": 1.0, \"rolling_avg_score\": 1.0, \"start_issue\": \"1962-06-11\", \"temp_issue_number\": 23.0, \"category\": \"Actual\"}, {\"page_number\": 858, \"predicted_boundary\": 1, \"boundary_score\": 1.0, \"rolling_avg_score\": 1.0, \"start_issue\": \"1962-06-11\", \"temp_issue_number\": 23.0, \"category\": \"Actual\"}, {\"page_number\": 859, \"predicted_boundary\": 2, \"boundary_score\": 1.0, \"rolling_avg_score\": 1.0, \"start_issue\": \"1962-06-11\", \"temp_issue_number\": 23.0, \"category\": \"Actual\"}, {\"page_number\": 860, \"predicted_boundary\": 1, \"boundary_score\": 1.0, \"rolling_avg_score\": 1.0, \"start_issue\": \"1962-06-11\", \"temp_issue_number\": 23.0, \"category\": \"Actual\"}, {\"page_number\": 861, \"predicted_boundary\": 5, \"boundary_score\": 1.0, \"rolling_avg_score\": 1.0, \"start_issue\": \"1962-06-11\", \"temp_issue_number\": 23.0, \"category\": \"Actual\"}, {\"page_number\": 862, \"predicted_boundary\": 1, \"boundary_score\": 1.0, \"rolling_avg_score\": 1.0, \"start_issue\": \"1962-06-11\", \"temp_issue_number\": 23.0, \"category\": \"Actual\"}, {\"page_number\": 863, \"predicted_boundary\": 1, \"boundary_score\": 1.0, \"rolling_avg_score\": 1.0, \"start_issue\": \"1962-06-11\", \"temp_issue_number\": 23.0, \"category\": \"Actual\"}, {\"page_number\": 864, \"predicted_boundary\": 3, \"boundary_score\": 1.0, \"rolling_avg_score\": 1.0, \"start_issue\": \"1962-06-11\", \"temp_issue_number\": 23.0, \"category\": \"Actual\"}, {\"page_number\": 865, \"predicted_boundary\": 1, \"boundary_score\": 1.0, \"rolling_avg_score\": 1.0, \"start_issue\": \"1962-06-11\", \"temp_issue_number\": 23.0, \"category\": \"Actual\"}, {\"page_number\": 866, \"predicted_boundary\": 4, \"boundary_score\": 1.0, \"rolling_avg_score\": 1.0, \"start_issue\": \"1962-06-11\", \"temp_issue_number\": 23.0, \"category\": \"Actual\"}, {\"page_number\": 867, \"predicted_boundary\": 1, \"boundary_score\": 1.6600000000000001, \"rolling_avg_score\": 1.1320000000000001, \"start_issue\": \"1962-06-11\", \"temp_issue_number\": 23.0, \"category\": \"Actual\"}, {\"page_number\": 868, \"predicted_boundary\": 3, \"boundary_score\": 3.0, \"rolling_avg_score\": 1.532, \"start_issue\": \"1962-06-11\", \"temp_issue_number\": 23.0, \"category\": \"Actual\"}, {\"page_number\": 869, \"predicted_boundary\": 36, \"boundary_score\": 1.0, \"rolling_avg_score\": 1.532, \"start_issue\": \"1962-06-11\", \"temp_issue_number\": 23.0, \"category\": \"Actual\"}, {\"page_number\": 870, \"predicted_boundary\": 30, \"boundary_score\": 1.0, \"rolling_avg_score\": 1.532, \"start_issue\": \"1962-06-11\", \"temp_issue_number\": 23.0, \"category\": \"Actual\"}, {\"page_number\": 871, \"predicted_boundary\": 2, \"boundary_score\": 1.0, \"rolling_avg_score\": 1.532, \"start_issue\": \"1962-06-18\", \"temp_issue_number\": 24.0, \"category\": \"Actual\"}, {\"page_number\": 872, \"predicted_boundary\": 0, \"boundary_score\": 1.0, \"rolling_avg_score\": 1.4, \"start_issue\": \"1962-06-18\", \"temp_issue_number\": 24.0, \"category\": \"Actual\"}, {\"page_number\": 873, \"predicted_boundary\": 23, \"boundary_score\": 1.0, \"rolling_avg_score\": 1.0, \"start_issue\": \"1962-06-18\", \"temp_issue_number\": 24.0, \"category\": \"Actual\"}, {\"page_number\": 874, \"predicted_boundary\": 7, \"boundary_score\": 1.0, \"rolling_avg_score\": 1.0, \"start_issue\": \"1962-06-18\", \"temp_issue_number\": 24.0, \"category\": \"Actual\"}, {\"page_number\": 875, \"predicted_boundary\": 0, \"boundary_score\": 1.6600000000000001, \"rolling_avg_score\": 1.1320000000000001, \"start_issue\": \"1962-06-18\", \"temp_issue_number\": 24.0, \"category\": \"Actual\"}, {\"page_number\": 876, \"predicted_boundary\": 0, \"boundary_score\": 2.0, \"rolling_avg_score\": 1.332, \"start_issue\": \"1962-06-18\", \"temp_issue_number\": 24.0, \"category\": \"Actual\"}, {\"page_number\": 877, \"predicted_boundary\": 1, \"boundary_score\": 1.0, \"rolling_avg_score\": 1.332, \"start_issue\": \"1962-06-18\", \"temp_issue_number\": 24.0, \"category\": \"Actual\"}, {\"page_number\": 878, \"predicted_boundary\": 3, \"boundary_score\": 1.0, \"rolling_avg_score\": 1.332, \"start_issue\": \"1962-06-18\", \"temp_issue_number\": 24.0, \"category\": \"Actual\"}, {\"page_number\": 879, \"predicted_boundary\": 3, \"boundary_score\": 1.0, \"rolling_avg_score\": 1.332, \"start_issue\": \"1962-06-18\", \"temp_issue_number\": 24.0, \"category\": \"Actual\"}, {\"page_number\": 880, \"predicted_boundary\": 1, \"boundary_score\": 1.0, \"rolling_avg_score\": 1.2, \"start_issue\": \"1962-06-18\", \"temp_issue_number\": 24.0, \"category\": \"Actual\"}, {\"page_number\": 881, \"predicted_boundary\": 3, \"boundary_score\": 1.0, \"rolling_avg_score\": 1.0, \"start_issue\": \"1962-06-18\", \"temp_issue_number\": 24.0, \"category\": \"Actual\"}, {\"page_number\": 882, \"predicted_boundary\": 18, \"boundary_score\": 2.66, \"rolling_avg_score\": 1.332, \"start_issue\": \"1962-06-18\", \"temp_issue_number\": 24.0, \"category\": \"Actual\"}, {\"page_number\": 883, \"predicted_boundary\": 18, \"boundary_score\": 2.34, \"rolling_avg_score\": 1.6, \"start_issue\": \"1962-06-18\", \"temp_issue_number\": 24.0, \"category\": \"Actual\"}, {\"page_number\": 884, \"predicted_boundary\": 18, \"boundary_score\": 1.3399999999999999, \"rolling_avg_score\": 1.668, \"start_issue\": \"1962-06-18\", \"temp_issue_number\": 24.0, \"category\": \"Actual\"}, {\"page_number\": 885, \"predicted_boundary\": 13, \"boundary_score\": 1.0, \"rolling_avg_score\": 1.668, \"start_issue\": \"1962-06-18\", \"temp_issue_number\": 24.0, \"category\": \"Actual\"}, {\"page_number\": 886, \"predicted_boundary\": 3, \"boundary_score\": 1.0, \"rolling_avg_score\": 1.668, \"start_issue\": \"1962-06-18\", \"temp_issue_number\": 24.0, \"category\": \"Actual\"}, {\"page_number\": 887, \"predicted_boundary\": 6, \"boundary_score\": 1.0, \"rolling_avg_score\": 1.3359999999999999, \"start_issue\": \"1962-06-18\", \"temp_issue_number\": 24.0, \"category\": \"Actual\"}, {\"page_number\": 888, \"predicted_boundary\": 16, \"boundary_score\": 2.0, \"rolling_avg_score\": 1.268, \"start_issue\": \"1962-06-18\", \"temp_issue_number\": 24.0, \"category\": \"Actual\"}, {\"page_number\": 889, \"predicted_boundary\": 17, \"boundary_score\": 1.3399999999999999, \"rolling_avg_score\": 1.268, \"start_issue\": \"1962-06-18\", \"temp_issue_number\": 24.0, \"category\": \"Actual\"}, {\"page_number\": 890, \"predicted_boundary\": 18, \"boundary_score\": 1.3399999999999999, \"rolling_avg_score\": 1.3359999999999999, \"start_issue\": \"1962-06-18\", \"temp_issue_number\": 24.0, \"category\": \"Actual\"}, {\"page_number\": 891, \"predicted_boundary\": 3, \"boundary_score\": 1.6600000000000001, \"rolling_avg_score\": 1.468, \"start_issue\": \"1962-06-18\", \"temp_issue_number\": 24.0, \"category\": \"Actual\"}, {\"page_number\": 892, \"predicted_boundary\": 3, \"boundary_score\": 2.0, \"rolling_avg_score\": 1.668, \"start_issue\": \"1962-06-18\", \"temp_issue_number\": 24.0, \"category\": \"Actual\"}, {\"page_number\": 893, \"predicted_boundary\": 5, \"boundary_score\": 1.0, \"rolling_avg_score\": 1.468, \"start_issue\": \"1962-06-18\", \"temp_issue_number\": 24.0, \"category\": \"Actual\"}, {\"page_number\": 894, \"predicted_boundary\": 1, \"boundary_score\": 1.6600000000000001, \"rolling_avg_score\": 1.532, \"start_issue\": \"1962-06-18\", \"temp_issue_number\": 24.0, \"category\": \"Actual\"}, {\"page_number\": 895, \"predicted_boundary\": 1, \"boundary_score\": 2.0, \"rolling_avg_score\": 1.6640000000000001, \"start_issue\": \"1962-06-18\", \"temp_issue_number\": 24.0, \"category\": \"Actual\"}, {\"page_number\": 896, \"predicted_boundary\": 1, \"boundary_score\": 1.3399999999999999, \"rolling_avg_score\": 1.6, \"start_issue\": \"1962-06-18\", \"temp_issue_number\": 24.0, \"category\": \"Actual\"}, {\"page_number\": 897, \"predicted_boundary\": 1, \"boundary_score\": 1.3399999999999999, \"rolling_avg_score\": 1.468, \"start_issue\": \"1962-06-18\", \"temp_issue_number\": 24.0, \"category\": \"Actual\"}, {\"page_number\": 898, \"predicted_boundary\": 3, \"boundary_score\": 1.0, \"rolling_avg_score\": 1.468, \"start_issue\": \"1962-06-18\", \"temp_issue_number\": 24.0, \"category\": \"Actual\"}, {\"page_number\": 899, \"predicted_boundary\": 1, \"boundary_score\": 1.0, \"rolling_avg_score\": 1.3359999999999999, \"start_issue\": \"1962-06-18\", \"temp_issue_number\": 24.0, \"category\": \"Actual\"}, {\"page_number\": 900, \"predicted_boundary\": 0, \"boundary_score\": 1.0, \"rolling_avg_score\": 1.136, \"start_issue\": \"1962-06-18\", \"temp_issue_number\": 24.0, \"category\": \"Actual\"}, {\"page_number\": 901, \"predicted_boundary\": 3, \"boundary_score\": 1.0, \"rolling_avg_score\": 1.068, \"start_issue\": \"1962-06-18\", \"temp_issue_number\": 24.0, \"category\": \"Actual\"}, {\"page_number\": 902, \"predicted_boundary\": 2, \"boundary_score\": 1.0, \"rolling_avg_score\": 1.0, \"start_issue\": \"1962-06-18\", \"temp_issue_number\": 24.0, \"category\": \"Actual\"}, {\"page_number\": 903, \"predicted_boundary\": 3, \"boundary_score\": 1.0, \"rolling_avg_score\": 1.0, \"start_issue\": \"1962-06-18\", \"temp_issue_number\": 24.0, \"category\": \"Actual\"}, {\"page_number\": 904, \"predicted_boundary\": 3, \"boundary_score\": 1.0, \"rolling_avg_score\": 1.0, \"start_issue\": \"1962-06-18\", \"temp_issue_number\": 24.0, \"category\": \"Actual\"}, {\"page_number\": 905, \"predicted_boundary\": 2, \"boundary_score\": 1.0, \"rolling_avg_score\": 1.0, \"start_issue\": \"1962-06-18\", \"temp_issue_number\": 24.0, \"category\": \"Actual\"}, {\"page_number\": 906, \"predicted_boundary\": 23, \"boundary_score\": 1.0, \"rolling_avg_score\": 1.0, \"start_issue\": \"1962-06-18\", \"temp_issue_number\": 24.0, \"category\": \"Actual\"}, {\"page_number\": 907, \"predicted_boundary\": 0, \"boundary_score\": 1.0, \"rolling_avg_score\": 1.0, \"start_issue\": \"1962-06-25\", \"temp_issue_number\": 25.0, \"category\": \"Actual\"}, {\"page_number\": 908, \"predicted_boundary\": 0, \"boundary_score\": 1.0, \"rolling_avg_score\": 1.0, \"start_issue\": \"1962-06-25\", \"temp_issue_number\": 25.0, \"category\": \"Actual\"}, {\"page_number\": 909, \"predicted_boundary\": 0, \"boundary_score\": 1.0, \"rolling_avg_score\": 1.0, \"start_issue\": \"1962-06-25\", \"temp_issue_number\": 25.0, \"category\": \"Actual\"}, {\"page_number\": 910, \"predicted_boundary\": 0, \"boundary_score\": 1.0, \"rolling_avg_score\": 1.0, \"start_issue\": \"1962-06-25\", \"temp_issue_number\": 25.0, \"category\": \"Actual\"}, {\"page_number\": 912, \"predicted_boundary\": 3, \"boundary_score\": 1.0, \"rolling_avg_score\": 1.0, \"start_issue\": \"1962-06-25\", \"temp_issue_number\": 25.0, \"category\": \"Actual\"}, {\"page_number\": 913, \"predicted_boundary\": 1, \"boundary_score\": 1.0, \"rolling_avg_score\": 1.0, \"start_issue\": \"1962-06-25\", \"temp_issue_number\": 25.0, \"category\": \"Actual\"}, {\"page_number\": 914, \"predicted_boundary\": 6, \"boundary_score\": 1.0, \"rolling_avg_score\": 1.0, \"start_issue\": \"1962-06-25\", \"temp_issue_number\": 25.0, \"category\": \"Actual\"}, {\"page_number\": 915, \"predicted_boundary\": 25, \"boundary_score\": 1.6600000000000001, \"rolling_avg_score\": 1.1320000000000001, \"start_issue\": \"1962-06-25\", \"temp_issue_number\": 25.0, \"category\": \"Actual\"}, {\"page_number\": 916, \"predicted_boundary\": 25, \"boundary_score\": 1.6600000000000001, \"rolling_avg_score\": 1.264, \"start_issue\": \"1962-06-25\", \"temp_issue_number\": 25.0, \"category\": \"Actual\"}, {\"page_number\": 917, \"predicted_boundary\": 25, \"boundary_score\": 1.6600000000000001, \"rolling_avg_score\": 1.3960000000000001, \"start_issue\": \"1962-06-25\", \"temp_issue_number\": 25.0, \"category\": \"Actual\"}, {\"page_number\": 918, \"predicted_boundary\": 25, \"boundary_score\": 2.0, \"rolling_avg_score\": 1.596, \"start_issue\": \"1962-06-25\", \"temp_issue_number\": 25.0, \"category\": \"Actual\"}, {\"page_number\": 919, \"predicted_boundary\": 25, \"boundary_score\": 1.3399999999999999, \"rolling_avg_score\": 1.6640000000000001, \"start_issue\": \"1962-06-25\", \"temp_issue_number\": 25.0, \"category\": \"Actual\"}, {\"page_number\": 920, \"predicted_boundary\": 25, \"boundary_score\": 1.3399999999999999, \"rolling_avg_score\": 1.6, \"start_issue\": \"1962-06-25\", \"temp_issue_number\": 25.0, \"category\": \"Actual\"}, {\"page_number\": 921, \"predicted_boundary\": 25, \"boundary_score\": 1.3399999999999999, \"rolling_avg_score\": 1.536, \"start_issue\": \"1962-06-25\", \"temp_issue_number\": 25.0, \"category\": \"Actual\"}, {\"page_number\": 922, \"predicted_boundary\": 25, \"boundary_score\": 1.3399999999999999, \"rolling_avg_score\": 1.472, \"start_issue\": \"1962-06-25\", \"temp_issue_number\": 25.0, \"category\": \"Actual\"}, {\"page_number\": 923, \"predicted_boundary\": 25, \"boundary_score\": 1.3399999999999999, \"rolling_avg_score\": 1.3399999999999999, \"start_issue\": \"1962-06-25\", \"temp_issue_number\": 25.0, \"category\": \"Actual\"}, {\"page_number\": 924, \"predicted_boundary\": 2, \"boundary_score\": 1.6600000000000001, \"rolling_avg_score\": 1.404, \"start_issue\": \"1962-06-25\", \"temp_issue_number\": 25.0, \"category\": \"Actual\"}, {\"page_number\": 925, \"predicted_boundary\": 1, \"boundary_score\": 1.6600000000000001, \"rolling_avg_score\": 1.468, \"start_issue\": \"1962-06-25\", \"temp_issue_number\": 25.0, \"category\": \"Actual\"}, {\"page_number\": 926, \"predicted_boundary\": 1, \"boundary_score\": 1.6600000000000001, \"rolling_avg_score\": 1.532, \"start_issue\": \"1962-06-25\", \"temp_issue_number\": 25.0, \"category\": \"Actual\"}, {\"page_number\": 927, \"predicted_boundary\": 1, \"boundary_score\": 1.6600000000000001, \"rolling_avg_score\": 1.596, \"start_issue\": \"1962-06-25\", \"temp_issue_number\": 25.0, \"category\": \"Actual\"}, {\"page_number\": 928, \"predicted_boundary\": 3, \"boundary_score\": 3.0, \"rolling_avg_score\": 1.9280000000000002, \"start_issue\": \"1962-06-25\", \"temp_issue_number\": 25.0, \"category\": \"Actual\"}, {\"page_number\": 929, \"predicted_boundary\": 2, \"boundary_score\": 1.3399999999999999, \"rolling_avg_score\": 1.864, \"start_issue\": \"1962-06-25\", \"temp_issue_number\": 25.0, \"category\": \"Actual\"}, {\"page_number\": 930, \"predicted_boundary\": 1, \"boundary_score\": 1.0, \"rolling_avg_score\": 1.732, \"start_issue\": \"1962-06-25\", \"temp_issue_number\": 25.0, \"category\": \"Actual\"}, {\"page_number\": 931, \"predicted_boundary\": 1, \"boundary_score\": 1.0, \"rolling_avg_score\": 1.6, \"start_issue\": \"1962-06-25\", \"temp_issue_number\": 25.0, \"category\": \"Actual\"}, {\"page_number\": 932, \"predicted_boundary\": 23, \"boundary_score\": 1.0, \"rolling_avg_score\": 1.468, \"start_issue\": \"1962-06-25\", \"temp_issue_number\": 25.0, \"category\": \"Actual\"}, {\"page_number\": 933, \"predicted_boundary\": 25, \"boundary_score\": 1.6600000000000001, \"rolling_avg_score\": 1.2, \"start_issue\": \"1962-06-25\", \"temp_issue_number\": 25.0, \"category\": \"Actual\"}, {\"page_number\": 934, \"predicted_boundary\": 25, \"boundary_score\": 1.6600000000000001, \"rolling_avg_score\": 1.264, \"start_issue\": \"1962-06-25\", \"temp_issue_number\": 25.0, \"category\": \"Actual\"}, {\"page_number\": 935, \"predicted_boundary\": 2, \"boundary_score\": 2.0, \"rolling_avg_score\": 1.464, \"start_issue\": \"1962-06-25\", \"temp_issue_number\": 25.0, \"category\": \"Actual\"}, {\"page_number\": 936, \"predicted_boundary\": 3, \"boundary_score\": 2.34, \"rolling_avg_score\": 1.732, \"start_issue\": \"1962-06-25\", \"temp_issue_number\": 25.0, \"category\": \"Actual\"}, {\"page_number\": 937, \"predicted_boundary\": 29, \"boundary_score\": 1.0, \"rolling_avg_score\": 1.732, \"start_issue\": \"1962-06-25\", \"temp_issue_number\": 25.0, \"category\": \"Actual\"}, {\"page_number\": 938, \"predicted_boundary\": 0, \"boundary_score\": 1.0, \"rolling_avg_score\": 1.6, \"start_issue\": \"1962-06-25\", \"temp_issue_number\": 25.0, \"category\": \"Actual\"}, {\"page_number\": 939, \"predicted_boundary\": 1, \"boundary_score\": 1.0, \"rolling_avg_score\": 1.468, \"start_issue\": \"1962-06-25\", \"temp_issue_number\": 25.0, \"category\": \"Actual\"}, {\"page_number\": 940, \"predicted_boundary\": 3, \"boundary_score\": 1.0, \"rolling_avg_score\": 1.268, \"start_issue\": \"1962-06-25\", \"temp_issue_number\": 25.0, \"category\": \"Actual\"}, {\"page_number\": 941, \"predicted_boundary\": 11, \"boundary_score\": 1.0, \"rolling_avg_score\": 1.0, \"start_issue\": \"1962-06-25\", \"temp_issue_number\": 25.0, \"category\": \"Actual\"}, {\"page_number\": 942, \"predicted_boundary\": 1, \"boundary_score\": 1.0, \"rolling_avg_score\": 1.0, \"start_issue\": \"1962-06-25\", \"temp_issue_number\": 25.0, \"category\": \"Actual\"}, {\"page_number\": 947, \"predicted_boundary\": 3, \"boundary_score\": 1.0, \"rolling_avg_score\": 1.0, \"start_issue\": \"1962-06-25\", \"temp_issue_number\": 25.0, \"category\": \"Actual\"}, {\"page_number\": 962, \"predicted_boundary\": 0, \"boundary_score\": 1.0, \"rolling_avg_score\": 1.0, \"start_issue\": \"1962-06-25\", \"temp_issue_number\": 25.0, \"category\": \"Actual\"}]}}, {\"mode\": \"vega-lite\"});\n",
       "</script>"
      ],
      "text/plain": [
       "alt.LayerChart(...)"
      ]
     },
     "execution_count": 46,
     "metadata": {},
     "output_type": "execute_result"
    }
   ],
   "source": [
    "import altair as alt\n",
    "import pandas as pd\n",
    "\n",
    "# Merge actual issues with predicted boundary scores\n",
    "merged_prefix_sum_df = prefix_sum_df.merge(\n",
    "    subset_full_df[['page_number', 'start_issue', 'temp_issue_number']], \n",
    "    on='page_number', \n",
    "    how='left'\n",
    ")\n",
    "\n",
    "# Calculate a rolling average of boundary scores over a window of pages\n",
    "window_size = 5  # Adjust this window size as needed\n",
    "merged_prefix_sum_df['rolling_avg_score'] = merged_prefix_sum_df['boundary_score'].rolling(window=window_size, min_periods=1).mean()\n",
    "\n",
    "# Add a category column to separate actual and predicted boundaries in the plot\n",
    "merged_prefix_sum_df['category'] = 'Predicted'\n",
    "merged_prefix_sum_df.loc[merged_prefix_sum_df['start_issue'].notna(), 'category'] = 'Actual'\n",
    "\n",
    "# Base chart for page number\n",
    "base = alt.Chart(merged_prefix_sum_df).encode(\n",
    "    x=alt.X('page_number:Q', title='Page Number')\n",
    ")\n",
    "\n",
    "# Line for the rolling average of boundary scores\n",
    "rolling_avg_line = base.mark_line(color='blue').encode(\n",
    "    y=alt.Y('rolling_avg_score:Q', title='Rolling Average Score'),\n",
    "    tooltip=['page_number', 'rolling_avg_score']\n",
    ").properties(\n",
    "    title='Actual vs. Predicted Issue Boundaries'\n",
    ")\n",
    "\n",
    "# Points for actual and predicted boundaries\n",
    "boundary_points = base.mark_point(filled=True).encode(\n",
    "    y=alt.Y('category:N', title='Boundary Type', scale=alt.Scale(domain=['Actual', 'Predicted'])),\n",
    "    color=alt.Color('category:N', scale=alt.Scale(domain=['Actual', 'Predicted'], range=['red', 'green'])),\n",
    "    shape=alt.Shape('category:N', scale=alt.Scale(domain=['Actual', 'Predicted'], range=['cross', 'circle'])),\n",
    "    tooltip=['page_number', 'start_issue', 'boundary_score']\n",
    ")\n",
    "\n",
    "# Combine all layers\n",
    "chart = (rolling_avg_line + boundary_points).interactive()\n",
    "\n",
    "# Display the chart\n",
    "chart"
   ]
  },
  {
   "cell_type": "code",
   "execution_count": 45,
   "metadata": {},
   "outputs": [
    {
     "data": {
      "text/html": [
       "\n",
       "<style>\n",
       "  #altair-viz-f126bb25c5e647ac8607a792e9d799df.vega-embed {\n",
       "    width: 100%;\n",
       "    display: flex;\n",
       "  }\n",
       "\n",
       "  #altair-viz-f126bb25c5e647ac8607a792e9d799df.vega-embed details,\n",
       "  #altair-viz-f126bb25c5e647ac8607a792e9d799df.vega-embed details summary {\n",
       "    position: relative;\n",
       "  }\n",
       "</style>\n",
       "<div id=\"altair-viz-f126bb25c5e647ac8607a792e9d799df\"></div>\n",
       "<script type=\"text/javascript\">\n",
       "  var VEGA_DEBUG = (typeof VEGA_DEBUG == \"undefined\") ? {} : VEGA_DEBUG;\n",
       "  (function(spec, embedOpt){\n",
       "    let outputDiv = document.currentScript.previousElementSibling;\n",
       "    if (outputDiv.id !== \"altair-viz-f126bb25c5e647ac8607a792e9d799df\") {\n",
       "      outputDiv = document.getElementById(\"altair-viz-f126bb25c5e647ac8607a792e9d799df\");\n",
       "    }\n",
       "    const paths = {\n",
       "      \"vega\": \"https://cdn.jsdelivr.net/npm/vega@5?noext\",\n",
       "      \"vega-lib\": \"https://cdn.jsdelivr.net/npm/vega-lib?noext\",\n",
       "      \"vega-lite\": \"https://cdn.jsdelivr.net/npm/vega-lite@5.8.0?noext\",\n",
       "      \"vega-embed\": \"https://cdn.jsdelivr.net/npm/vega-embed@6?noext\",\n",
       "    };\n",
       "\n",
       "    function maybeLoadScript(lib, version) {\n",
       "      var key = `${lib.replace(\"-\", \"\")}_version`;\n",
       "      return (VEGA_DEBUG[key] == version) ?\n",
       "        Promise.resolve(paths[lib]) :\n",
       "        new Promise(function(resolve, reject) {\n",
       "          var s = document.createElement('script');\n",
       "          document.getElementsByTagName(\"head\")[0].appendChild(s);\n",
       "          s.async = true;\n",
       "          s.onload = () => {\n",
       "            VEGA_DEBUG[key] = version;\n",
       "            return resolve(paths[lib]);\n",
       "          };\n",
       "          s.onerror = () => reject(`Error loading script: ${paths[lib]}`);\n",
       "          s.src = paths[lib];\n",
       "        });\n",
       "    }\n",
       "\n",
       "    function showError(err) {\n",
       "      outputDiv.innerHTML = `<div class=\"error\" style=\"color:red;\">${err}</div>`;\n",
       "      throw err;\n",
       "    }\n",
       "\n",
       "    function displayChart(vegaEmbed) {\n",
       "      vegaEmbed(outputDiv, spec, embedOpt)\n",
       "        .catch(err => showError(`Javascript Error: ${err.message}<br>This usually means there's a typo in your chart specification. See the javascript console for the full traceback.`));\n",
       "    }\n",
       "\n",
       "    if(typeof define === \"function\" && define.amd) {\n",
       "      requirejs.config({paths});\n",
       "      require([\"vega-embed\"], displayChart, err => showError(`Error loading script: ${err.message}`));\n",
       "    } else {\n",
       "      maybeLoadScript(\"vega\", \"5\")\n",
       "        .then(() => maybeLoadScript(\"vega-lite\", \"5.8.0\"))\n",
       "        .then(() => maybeLoadScript(\"vega-embed\", \"6\"))\n",
       "        .catch(showError)\n",
       "        .then(() => displayChart(vegaEmbed));\n",
       "    }\n",
       "  })({\"config\": {\"view\": {\"continuousWidth\": 300, \"continuousHeight\": 300}}, \"layer\": [{\"mark\": {\"type\": \"line\", \"color\": \"blue\"}, \"encoding\": {\"tooltip\": [{\"field\": \"page_number\", \"type\": \"quantitative\"}, {\"field\": \"rolling_avg_score\", \"type\": \"quantitative\"}], \"x\": {\"field\": \"page_number\", \"title\": \"Page Number\", \"type\": \"quantitative\"}, \"y\": {\"field\": \"rolling_avg_score\", \"title\": \"Rolling Average Score\", \"type\": \"quantitative\"}}, \"name\": \"view_2\", \"title\": \"Actual vs. Predicted Issue Boundaries\"}, {\"mark\": {\"type\": \"point\", \"color\": \"red\", \"shape\": \"cross\", \"size\": 80}, \"encoding\": {\"tooltip\": [{\"field\": \"page_number\", \"type\": \"quantitative\"}, {\"field\": \"start_issue\", \"type\": \"nominal\"}, {\"field\": \"temp_issue_number\", \"type\": \"quantitative\"}], \"x\": {\"field\": \"page_number\", \"title\": \"Page Number\", \"type\": \"quantitative\"}, \"y\": {\"value\": 1.2}}, \"transform\": [{\"filter\": \"(datum.start_issue !== null)\"}]}, {\"mark\": {\"type\": \"circle\", \"color\": \"green\", \"size\": 50}, \"encoding\": {\"tooltip\": [{\"field\": \"page_number\", \"type\": \"quantitative\"}, {\"field\": \"boundary_score\", \"type\": \"quantitative\"}, {\"field\": \"temp_issue_number\", \"type\": \"quantitative\"}], \"x\": {\"field\": \"page_number\", \"title\": \"Page Number\", \"type\": \"quantitative\"}, \"y\": {\"field\": \"boundary_score\", \"type\": \"quantitative\"}}, \"transform\": [{\"filter\": \"(datum.boundary_score > 0)\"}]}], \"data\": {\"name\": \"data-5ab82906238e5dc905e15accad641197\"}, \"params\": [{\"name\": \"param_2\", \"select\": {\"type\": \"interval\", \"encodings\": [\"x\", \"y\"]}, \"bind\": \"scales\", \"views\": [\"view_2\"]}], \"$schema\": \"https://vega.github.io/schema/vega-lite/v5.8.0.json\", \"datasets\": {\"data-5ab82906238e5dc905e15accad641197\": [{\"page_number\": 7, \"predicted_boundary\": 1, \"boundary_score\": 1.0, \"rolling_avg_score\": 1.0, \"start_issue\": \"1962-01-01\", \"temp_issue_number\": 0.0}, {\"page_number\": 9, \"predicted_boundary\": 1, \"boundary_score\": 1.0, \"rolling_avg_score\": 1.0, \"start_issue\": \"1962-01-01\", \"temp_issue_number\": 0.0}, {\"page_number\": 10, \"predicted_boundary\": 0, \"boundary_score\": 1.0, \"rolling_avg_score\": 1.0, \"start_issue\": \"1962-01-01\", \"temp_issue_number\": 0.0}, {\"page_number\": 11, \"predicted_boundary\": 0, \"boundary_score\": 1.0, \"rolling_avg_score\": 1.0, \"start_issue\": \"1962-01-01\", \"temp_issue_number\": 0.0}, {\"page_number\": 12, \"predicted_boundary\": 1, \"boundary_score\": 2.0, \"rolling_avg_score\": 1.2, \"start_issue\": \"1962-01-01\", \"temp_issue_number\": 0.0}, {\"page_number\": 13, \"predicted_boundary\": 1, \"boundary_score\": 1.3399999999999999, \"rolling_avg_score\": 1.268, \"start_issue\": \"1962-01-01\", \"temp_issue_number\": 0.0}, {\"page_number\": 14, \"predicted_boundary\": 1, \"boundary_score\": 1.3399999999999999, \"rolling_avg_score\": 1.3359999999999999, \"start_issue\": \"1962-01-01\", \"temp_issue_number\": 0.0}, {\"page_number\": 15, \"predicted_boundary\": 1, \"boundary_score\": 1.3399999999999999, \"rolling_avg_score\": 1.404, \"start_issue\": \"1962-01-01\", \"temp_issue_number\": 0.0}, {\"page_number\": 16, \"predicted_boundary\": 8, \"boundary_score\": 1.0, \"rolling_avg_score\": 1.404, \"start_issue\": \"1962-01-01\", \"temp_issue_number\": 0.0}, {\"page_number\": 17, \"predicted_boundary\": 1, \"boundary_score\": 1.0, \"rolling_avg_score\": 1.204, \"start_issue\": \"1962-01-01\", \"temp_issue_number\": 0.0}, {\"page_number\": 18, \"predicted_boundary\": 0, \"boundary_score\": 1.0, \"rolling_avg_score\": 1.136, \"start_issue\": \"1962-01-01\", \"temp_issue_number\": 0.0}, {\"page_number\": 19, \"predicted_boundary\": 5, \"boundary_score\": 1.0, \"rolling_avg_score\": 1.068, \"start_issue\": \"1962-01-01\", \"temp_issue_number\": 0.0}, {\"page_number\": 20, \"predicted_boundary\": 5, \"boundary_score\": 1.0, \"rolling_avg_score\": 1.0, \"start_issue\": \"1962-01-01\", \"temp_issue_number\": 0.0}, {\"page_number\": 21, \"predicted_boundary\": 13, \"boundary_score\": 1.0, \"rolling_avg_score\": 1.0, \"start_issue\": \"1962-01-01\", \"temp_issue_number\": 0.0}, {\"page_number\": 22, \"predicted_boundary\": 14, \"boundary_score\": 1.0, \"rolling_avg_score\": 1.0, \"start_issue\": \"1962-01-01\", \"temp_issue_number\": 0.0}, {\"page_number\": 23, \"predicted_boundary\": 1, \"boundary_score\": 1.0, \"rolling_avg_score\": 1.0, \"start_issue\": \"1962-01-01\", \"temp_issue_number\": 0.0}, {\"page_number\": 24, \"predicted_boundary\": 10, \"boundary_score\": 1.0, \"rolling_avg_score\": 1.0, \"start_issue\": \"1962-01-01\", \"temp_issue_number\": 0.0}, {\"page_number\": 25, \"predicted_boundary\": 1, \"boundary_score\": 1.0, \"rolling_avg_score\": 1.0, \"start_issue\": \"1962-01-01\", \"temp_issue_number\": 0.0}, {\"page_number\": 26, \"predicted_boundary\": 0, \"boundary_score\": 1.0, \"rolling_avg_score\": 1.0, \"start_issue\": \"1962-01-01\", \"temp_issue_number\": 0.0}, {\"page_number\": 27, \"predicted_boundary\": 1, \"boundary_score\": 1.6600000000000001, \"rolling_avg_score\": 1.1320000000000001, \"start_issue\": \"1962-01-01\", \"temp_issue_number\": 0.0}, {\"page_number\": 28, \"predicted_boundary\": 1, \"boundary_score\": 2.66, \"rolling_avg_score\": 1.464, \"start_issue\": \"1962-01-01\", \"temp_issue_number\": 0.0}, {\"page_number\": 29, \"predicted_boundary\": 1, \"boundary_score\": 2.0, \"rolling_avg_score\": 1.6640000000000001, \"start_issue\": \"1962-01-01\", \"temp_issue_number\": 0.0}, {\"page_number\": 30, \"predicted_boundary\": 1, \"boundary_score\": 2.0, \"rolling_avg_score\": 1.864, \"start_issue\": \"1962-01-01\", \"temp_issue_number\": 0.0}, {\"page_number\": 31, \"predicted_boundary\": 1, \"boundary_score\": 2.34, \"rolling_avg_score\": 2.132, \"start_issue\": \"1962-01-01\", \"temp_issue_number\": 0.0}, {\"page_number\": 32, \"predicted_boundary\": 4, \"boundary_score\": 1.0, \"rolling_avg_score\": 2.0, \"start_issue\": \"1962-01-01\", \"temp_issue_number\": 0.0}, {\"page_number\": 33, \"predicted_boundary\": 0, \"boundary_score\": 1.0, \"rolling_avg_score\": 1.668, \"start_issue\": \"1962-01-01\", \"temp_issue_number\": 0.0}, {\"page_number\": 34, \"predicted_boundary\": 2, \"boundary_score\": 1.0, \"rolling_avg_score\": 1.468, \"start_issue\": \"1962-01-01\", \"temp_issue_number\": 0.0}, {\"page_number\": 35, \"predicted_boundary\": 1, \"boundary_score\": 1.0, \"rolling_avg_score\": 1.268, \"start_issue\": \"1962-01-01\", \"temp_issue_number\": 0.0}, {\"page_number\": 36, \"predicted_boundary\": 28, \"boundary_score\": 1.0, \"rolling_avg_score\": 1.0, \"start_issue\": \"1962-01-01\", \"temp_issue_number\": 0.0}, {\"page_number\": 37, \"predicted_boundary\": 29, \"boundary_score\": 1.0, \"rolling_avg_score\": 1.0, \"start_issue\": \"1962-01-01\", \"temp_issue_number\": 0.0}, {\"page_number\": 38, \"predicted_boundary\": 23, \"boundary_score\": 1.0, \"rolling_avg_score\": 1.0, \"start_issue\": \"1962-01-01\", \"temp_issue_number\": 0.0}, {\"page_number\": 39, \"predicted_boundary\": 2, \"boundary_score\": 1.0, \"rolling_avg_score\": 1.0, \"start_issue\": \"1962-01-01\", \"temp_issue_number\": 0.0}, {\"page_number\": 40, \"predicted_boundary\": 32, \"boundary_score\": 1.0, \"rolling_avg_score\": 1.0, \"start_issue\": \"1962-01-01\", \"temp_issue_number\": 0.0}, {\"page_number\": 41, \"predicted_boundary\": 0, \"boundary_score\": 1.0, \"rolling_avg_score\": 1.0, \"start_issue\": \"1962-01-01\", \"temp_issue_number\": 0.0}, {\"page_number\": 43, \"predicted_boundary\": 4, \"boundary_score\": 1.0, \"rolling_avg_score\": 1.0, \"start_issue\": \"1962-01-08\", \"temp_issue_number\": 1.0}, {\"page_number\": 44, \"predicted_boundary\": 0, \"boundary_score\": 1.0, \"rolling_avg_score\": 1.0, \"start_issue\": \"1962-01-08\", \"temp_issue_number\": 1.0}, {\"page_number\": 45, \"predicted_boundary\": 0, \"boundary_score\": 1.0, \"rolling_avg_score\": 1.0, \"start_issue\": \"1962-01-08\", \"temp_issue_number\": 1.0}, {\"page_number\": 46, \"predicted_boundary\": 0, \"boundary_score\": 1.0, \"rolling_avg_score\": 1.0, \"start_issue\": \"1962-01-08\", \"temp_issue_number\": 1.0}, {\"page_number\": 47, \"predicted_boundary\": 0, \"boundary_score\": 1.0, \"rolling_avg_score\": 1.0, \"start_issue\": \"1962-01-08\", \"temp_issue_number\": 1.0}, {\"page_number\": 48, \"predicted_boundary\": 8, \"boundary_score\": 1.0, \"rolling_avg_score\": 1.0, \"start_issue\": \"1962-01-08\", \"temp_issue_number\": 1.0}, {\"page_number\": 49, \"predicted_boundary\": 1, \"boundary_score\": 1.0, \"rolling_avg_score\": 1.0, \"start_issue\": \"1962-01-08\", \"temp_issue_number\": 1.0}, {\"page_number\": 50, \"predicted_boundary\": 0, \"boundary_score\": 2.0, \"rolling_avg_score\": 1.2, \"start_issue\": \"1962-01-08\", \"temp_issue_number\": 1.0}, {\"page_number\": 51, \"predicted_boundary\": 2, \"boundary_score\": 1.0, \"rolling_avg_score\": 1.2, \"start_issue\": \"1962-01-08\", \"temp_issue_number\": 1.0}, {\"page_number\": 52, \"predicted_boundary\": 1, \"boundary_score\": 1.0, \"rolling_avg_score\": 1.2, \"start_issue\": \"1962-01-08\", \"temp_issue_number\": 1.0}, {\"page_number\": 53, \"predicted_boundary\": 1, \"boundary_score\": 1.0, \"rolling_avg_score\": 1.2, \"start_issue\": \"1962-01-08\", \"temp_issue_number\": 1.0}, {\"page_number\": 54, \"predicted_boundary\": 0, \"boundary_score\": 2.0, \"rolling_avg_score\": 1.4, \"start_issue\": \"1962-01-08\", \"temp_issue_number\": 1.0}, {\"page_number\": 55, \"predicted_boundary\": 1, \"boundary_score\": 1.0, \"rolling_avg_score\": 1.2, \"start_issue\": \"1962-01-08\", \"temp_issue_number\": 1.0}, {\"page_number\": 56, \"predicted_boundary\": 1, \"boundary_score\": 1.0, \"rolling_avg_score\": 1.2, \"start_issue\": \"1962-01-08\", \"temp_issue_number\": 1.0}, {\"page_number\": 57, \"predicted_boundary\": 1, \"boundary_score\": 1.0, \"rolling_avg_score\": 1.2, \"start_issue\": \"1962-01-08\", \"temp_issue_number\": 1.0}, {\"page_number\": 58, \"predicted_boundary\": 3, \"boundary_score\": 1.0, \"rolling_avg_score\": 1.2, \"start_issue\": \"1962-01-08\", \"temp_issue_number\": 1.0}, {\"page_number\": 59, \"predicted_boundary\": 3, \"boundary_score\": 1.0, \"rolling_avg_score\": 1.0, \"start_issue\": \"1962-01-08\", \"temp_issue_number\": 1.0}, {\"page_number\": 60, \"predicted_boundary\": 1, \"boundary_score\": 1.0, \"rolling_avg_score\": 1.0, \"start_issue\": \"1962-01-08\", \"temp_issue_number\": 1.0}, {\"page_number\": 61, \"predicted_boundary\": 2, \"boundary_score\": 1.0, \"rolling_avg_score\": 1.0, \"start_issue\": \"1962-01-08\", \"temp_issue_number\": 1.0}, {\"page_number\": 62, \"predicted_boundary\": 1, \"boundary_score\": 1.0, \"rolling_avg_score\": 1.0, \"start_issue\": \"1962-01-08\", \"temp_issue_number\": 1.0}, {\"page_number\": 63, \"predicted_boundary\": 19, \"boundary_score\": 1.0, \"rolling_avg_score\": 1.0, \"start_issue\": \"1962-01-08\", \"temp_issue_number\": 1.0}, {\"page_number\": 64, \"predicted_boundary\": 20, \"boundary_score\": 1.0, \"rolling_avg_score\": 1.0, \"start_issue\": \"1962-01-08\", \"temp_issue_number\": 1.0}, {\"page_number\": 65, \"predicted_boundary\": 1, \"boundary_score\": 1.0, \"rolling_avg_score\": 1.0, \"start_issue\": \"1962-01-08\", \"temp_issue_number\": 1.0}, {\"page_number\": 66, \"predicted_boundary\": 5, \"boundary_score\": 1.0, \"rolling_avg_score\": 1.0, \"start_issue\": \"1962-01-08\", \"temp_issue_number\": 1.0}, {\"page_number\": 67, \"predicted_boundary\": 3, \"boundary_score\": 1.0, \"rolling_avg_score\": 1.0, \"start_issue\": \"1962-01-08\", \"temp_issue_number\": 1.0}, {\"page_number\": 68, \"predicted_boundary\": 3, \"boundary_score\": 1.0, \"rolling_avg_score\": 1.0, \"start_issue\": \"1962-01-08\", \"temp_issue_number\": 1.0}, {\"page_number\": 69, \"predicted_boundary\": 1, \"boundary_score\": 1.0, \"rolling_avg_score\": 1.0, \"start_issue\": \"1962-01-08\", \"temp_issue_number\": 1.0}, {\"page_number\": 70, \"predicted_boundary\": 3, \"boundary_score\": 1.0, \"rolling_avg_score\": 1.0, \"start_issue\": \"1962-01-08\", \"temp_issue_number\": 1.0}, {\"page_number\": 71, \"predicted_boundary\": 4, \"boundary_score\": 1.0, \"rolling_avg_score\": 1.0, \"start_issue\": \"1962-01-08\", \"temp_issue_number\": 1.0}, {\"page_number\": 72, \"predicted_boundary\": 28, \"boundary_score\": 1.0, \"rolling_avg_score\": 1.0, \"start_issue\": \"1962-01-08\", \"temp_issue_number\": 1.0}, {\"page_number\": 73, \"predicted_boundary\": 28, \"boundary_score\": 1.0, \"rolling_avg_score\": 1.0, \"start_issue\": \"1962-01-08\", \"temp_issue_number\": 1.0}, {\"page_number\": 74, \"predicted_boundary\": 0, \"boundary_score\": 1.6600000000000001, \"rolling_avg_score\": 1.1320000000000001, \"start_issue\": \"1962-01-08\", \"temp_issue_number\": 1.0}, {\"page_number\": 75, \"predicted_boundary\": 0, \"boundary_score\": 1.6600000000000001, \"rolling_avg_score\": 1.264, \"start_issue\": \"1962-01-08\", \"temp_issue_number\": 1.0}, {\"page_number\": 76, \"predicted_boundary\": 0, \"boundary_score\": 2.0, \"rolling_avg_score\": 1.464, \"start_issue\": \"1962-01-08\", \"temp_issue_number\": 1.0}, {\"page_number\": 77, \"predicted_boundary\": 0, \"boundary_score\": 1.3399999999999999, \"rolling_avg_score\": 1.532, \"start_issue\": \"1962-01-08\", \"temp_issue_number\": 1.0}, {\"page_number\": 78, \"predicted_boundary\": 0, \"boundary_score\": 1.3399999999999999, \"rolling_avg_score\": 1.6, \"start_issue\": \"1962-01-08\", \"temp_issue_number\": 1.0}, {\"page_number\": 79, \"predicted_boundary\": 2, \"boundary_score\": 1.0, \"rolling_avg_score\": 1.468, \"start_issue\": \"1962-01-15\", \"temp_issue_number\": 2.0}, {\"page_number\": 80, \"predicted_boundary\": 1, \"boundary_score\": 0.66, \"rolling_avg_score\": 1.268, \"start_issue\": null, \"temp_issue_number\": null}, {\"page_number\": 81, \"predicted_boundary\": 1, \"boundary_score\": 1.6600000000000001, \"rolling_avg_score\": 1.2, \"start_issue\": \"1962-01-15\", \"temp_issue_number\": 2.0}, {\"page_number\": 82, \"predicted_boundary\": 1, \"boundary_score\": 2.0, \"rolling_avg_score\": 1.332, \"start_issue\": \"1962-01-15\", \"temp_issue_number\": 2.0}, {\"page_number\": 83, \"predicted_boundary\": 0, \"boundary_score\": 2.0, \"rolling_avg_score\": 1.464, \"start_issue\": \"1962-01-15\", \"temp_issue_number\": 2.0}, {\"page_number\": 84, \"predicted_boundary\": 1, \"boundary_score\": 1.0, \"rolling_avg_score\": 1.464, \"start_issue\": \"1962-01-15\", \"temp_issue_number\": 2.0}, {\"page_number\": 85, \"predicted_boundary\": 5, \"boundary_score\": 1.0, \"rolling_avg_score\": 1.532, \"start_issue\": \"1962-01-15\", \"temp_issue_number\": 2.0}, {\"page_number\": 86, \"predicted_boundary\": 6, \"boundary_score\": 1.0, \"rolling_avg_score\": 1.4, \"start_issue\": \"1962-01-15\", \"temp_issue_number\": 2.0}, {\"page_number\": 87, \"predicted_boundary\": 7, \"boundary_score\": 1.0, \"rolling_avg_score\": 1.2, \"start_issue\": \"1962-01-15\", \"temp_issue_number\": 2.0}, {\"page_number\": 88, \"predicted_boundary\": 9, \"boundary_score\": 1.0, \"rolling_avg_score\": 1.0, \"start_issue\": \"1962-01-15\", \"temp_issue_number\": 2.0}, {\"page_number\": 89, \"predicted_boundary\": 13, \"boundary_score\": 1.0, \"rolling_avg_score\": 1.0, \"start_issue\": \"1962-01-15\", \"temp_issue_number\": 2.0}, {\"page_number\": 90, \"predicted_boundary\": 10, \"boundary_score\": 1.0, \"rolling_avg_score\": 1.0, \"start_issue\": \"1962-01-15\", \"temp_issue_number\": 2.0}, {\"page_number\": 91, \"predicted_boundary\": 11, \"boundary_score\": 1.0, \"rolling_avg_score\": 1.0, \"start_issue\": \"1962-01-15\", \"temp_issue_number\": 2.0}, {\"page_number\": 92, \"predicted_boundary\": 16, \"boundary_score\": 1.0, \"rolling_avg_score\": 1.0, \"start_issue\": \"1962-01-15\", \"temp_issue_number\": 2.0}, {\"page_number\": 93, \"predicted_boundary\": 1, \"boundary_score\": 1.0, \"rolling_avg_score\": 1.0, \"start_issue\": \"1962-01-15\", \"temp_issue_number\": 2.0}, {\"page_number\": 94, \"predicted_boundary\": 1, \"boundary_score\": 1.0, \"rolling_avg_score\": 1.0, \"start_issue\": \"1962-01-15\", \"temp_issue_number\": 2.0}, {\"page_number\": 95, \"predicted_boundary\": 1, \"boundary_score\": 1.0, \"rolling_avg_score\": 1.0, \"start_issue\": \"1962-01-15\", \"temp_issue_number\": 2.0}, {\"page_number\": 96, \"predicted_boundary\": 16, \"boundary_score\": 1.0, \"rolling_avg_score\": 1.0, \"start_issue\": \"1962-01-15\", \"temp_issue_number\": 2.0}, {\"page_number\": 97, \"predicted_boundary\": 1, \"boundary_score\": 1.0, \"rolling_avg_score\": 1.0, \"start_issue\": \"1962-01-15\", \"temp_issue_number\": 2.0}, {\"page_number\": 98, \"predicted_boundary\": 1, \"boundary_score\": 1.0, \"rolling_avg_score\": 1.0, \"start_issue\": \"1962-01-15\", \"temp_issue_number\": 2.0}, {\"page_number\": 99, \"predicted_boundary\": 15, \"boundary_score\": 1.0, \"rolling_avg_score\": 1.0, \"start_issue\": \"1962-01-15\", \"temp_issue_number\": 2.0}, {\"page_number\": 100, \"predicted_boundary\": 20, \"boundary_score\": 1.0, \"rolling_avg_score\": 1.0, \"start_issue\": \"1962-01-15\", \"temp_issue_number\": 2.0}, {\"page_number\": 101, \"predicted_boundary\": 7, \"boundary_score\": 1.0, \"rolling_avg_score\": 1.0, \"start_issue\": \"1962-01-15\", \"temp_issue_number\": 2.0}, {\"page_number\": 102, \"predicted_boundary\": 22, \"boundary_score\": 1.0, \"rolling_avg_score\": 1.0, \"start_issue\": \"1962-01-15\", \"temp_issue_number\": 2.0}, {\"page_number\": 103, \"predicted_boundary\": 1, \"boundary_score\": 1.0, \"rolling_avg_score\": 1.0, \"start_issue\": \"1962-01-15\", \"temp_issue_number\": 2.0}, {\"page_number\": 104, \"predicted_boundary\": 58, \"boundary_score\": 1.0, \"rolling_avg_score\": 1.0, \"start_issue\": \"1962-01-15\", \"temp_issue_number\": 2.0}, {\"page_number\": 105, \"predicted_boundary\": 1, \"boundary_score\": 1.0, \"rolling_avg_score\": 1.0, \"start_issue\": \"1962-01-15\", \"temp_issue_number\": 2.0}, {\"page_number\": 106, \"predicted_boundary\": 4, \"boundary_score\": 1.0, \"rolling_avg_score\": 1.0, \"start_issue\": \"1962-01-15\", \"temp_issue_number\": 2.0}, {\"page_number\": 107, \"predicted_boundary\": 2, \"boundary_score\": 1.0, \"rolling_avg_score\": 1.0, \"start_issue\": \"1962-01-15\", \"temp_issue_number\": 2.0}, {\"page_number\": 108, \"predicted_boundary\": 0, \"boundary_score\": 1.0, \"rolling_avg_score\": 1.0, \"start_issue\": \"1962-01-15\", \"temp_issue_number\": 2.0}, {\"page_number\": 109, \"predicted_boundary\": 8, \"boundary_score\": 1.0, \"rolling_avg_score\": 1.0, \"start_issue\": \"1962-01-15\", \"temp_issue_number\": 2.0}, {\"page_number\": 110, \"predicted_boundary\": 0, \"boundary_score\": 1.0, \"rolling_avg_score\": 1.0, \"start_issue\": \"1962-01-15\", \"temp_issue_number\": 2.0}, {\"page_number\": 111, \"predicted_boundary\": 5, \"boundary_score\": 1.0, \"rolling_avg_score\": 1.0, \"start_issue\": \"1962-01-15\", \"temp_issue_number\": 2.0}, {\"page_number\": 112, \"predicted_boundary\": 0, \"boundary_score\": 1.0, \"rolling_avg_score\": 1.0, \"start_issue\": \"1962-01-15\", \"temp_issue_number\": 2.0}, {\"page_number\": 113, \"predicted_boundary\": 0, \"boundary_score\": 1.0, \"rolling_avg_score\": 1.0, \"start_issue\": \"1962-01-15\", \"temp_issue_number\": 2.0}, {\"page_number\": 115, \"predicted_boundary\": 0, \"boundary_score\": 1.0, \"rolling_avg_score\": 1.0, \"start_issue\": \"1962-01-22\", \"temp_issue_number\": 3.0}, {\"page_number\": 116, \"predicted_boundary\": 0, \"boundary_score\": 1.0, \"rolling_avg_score\": 1.0, \"start_issue\": \"1962-01-22\", \"temp_issue_number\": 3.0}, {\"page_number\": 117, \"predicted_boundary\": 1, \"boundary_score\": 1.0, \"rolling_avg_score\": 1.0, \"start_issue\": \"1962-01-22\", \"temp_issue_number\": 3.0}, {\"page_number\": 118, \"predicted_boundary\": 5, \"boundary_score\": 1.0, \"rolling_avg_score\": 1.0, \"start_issue\": \"1962-01-22\", \"temp_issue_number\": 3.0}, {\"page_number\": 119, \"predicted_boundary\": 0, \"boundary_score\": 1.0, \"rolling_avg_score\": 1.0, \"start_issue\": \"1962-01-22\", \"temp_issue_number\": 3.0}, {\"page_number\": 120, \"predicted_boundary\": 4, \"boundary_score\": 1.0, \"rolling_avg_score\": 1.0, \"start_issue\": \"1962-01-22\", \"temp_issue_number\": 3.0}, {\"page_number\": 121, \"predicted_boundary\": 1, \"boundary_score\": 1.0, \"rolling_avg_score\": 1.0, \"start_issue\": \"1962-01-22\", \"temp_issue_number\": 3.0}, {\"page_number\": 122, \"predicted_boundary\": 8, \"boundary_score\": 1.0, \"rolling_avg_score\": 1.0, \"start_issue\": \"1962-01-22\", \"temp_issue_number\": 3.0}, {\"page_number\": 123, \"predicted_boundary\": 1, \"boundary_score\": 1.6600000000000001, \"rolling_avg_score\": 1.1320000000000001, \"start_issue\": \"1962-01-22\", \"temp_issue_number\": 3.0}, {\"page_number\": 124, \"predicted_boundary\": 4, \"boundary_score\": 3.0, \"rolling_avg_score\": 1.532, \"start_issue\": \"1962-01-22\", \"temp_issue_number\": 3.0}, {\"page_number\": 125, \"predicted_boundary\": 9, \"boundary_score\": 1.0, \"rolling_avg_score\": 1.532, \"start_issue\": \"1962-01-22\", \"temp_issue_number\": 3.0}, {\"page_number\": 126, \"predicted_boundary\": 1, \"boundary_score\": 1.0, \"rolling_avg_score\": 1.532, \"start_issue\": \"1962-01-22\", \"temp_issue_number\": 3.0}, {\"page_number\": 127, \"predicted_boundary\": 11, \"boundary_score\": 1.0, \"rolling_avg_score\": 1.532, \"start_issue\": \"1962-01-22\", \"temp_issue_number\": 3.0}, {\"page_number\": 128, \"predicted_boundary\": 12, \"boundary_score\": 1.0, \"rolling_avg_score\": 1.4, \"start_issue\": \"1962-01-22\", \"temp_issue_number\": 3.0}, {\"page_number\": 129, \"predicted_boundary\": 4, \"boundary_score\": 1.0, \"rolling_avg_score\": 1.0, \"start_issue\": \"1962-01-22\", \"temp_issue_number\": 3.0}, {\"page_number\": 130, \"predicted_boundary\": 1, \"boundary_score\": 1.0, \"rolling_avg_score\": 1.0, \"start_issue\": \"1962-01-22\", \"temp_issue_number\": 3.0}, {\"page_number\": 131, \"predicted_boundary\": 15, \"boundary_score\": 1.0, \"rolling_avg_score\": 1.0, \"start_issue\": \"1962-01-22\", \"temp_issue_number\": 3.0}, {\"page_number\": 132, \"predicted_boundary\": 2, \"boundary_score\": 1.0, \"rolling_avg_score\": 1.0, \"start_issue\": \"1962-01-22\", \"temp_issue_number\": 3.0}, {\"page_number\": 133, \"predicted_boundary\": 1, \"boundary_score\": 1.0, \"rolling_avg_score\": 1.0, \"start_issue\": \"1962-01-22\", \"temp_issue_number\": 3.0}, {\"page_number\": 134, \"predicted_boundary\": 0, \"boundary_score\": 1.0, \"rolling_avg_score\": 1.0, \"start_issue\": \"1962-01-22\", \"temp_issue_number\": 3.0}, {\"page_number\": 135, \"predicted_boundary\": 5, \"boundary_score\": 1.0, \"rolling_avg_score\": 1.0, \"start_issue\": \"1962-01-22\", \"temp_issue_number\": 3.0}, {\"page_number\": 136, \"predicted_boundary\": 0, \"boundary_score\": 1.0, \"rolling_avg_score\": 1.0, \"start_issue\": \"1962-01-22\", \"temp_issue_number\": 3.0}, {\"page_number\": 137, \"predicted_boundary\": 2, \"boundary_score\": 2.0, \"rolling_avg_score\": 1.2, \"start_issue\": \"1962-01-22\", \"temp_issue_number\": 3.0}, {\"page_number\": 138, \"predicted_boundary\": 1, \"boundary_score\": 1.0, \"rolling_avg_score\": 1.2, \"start_issue\": \"1962-01-22\", \"temp_issue_number\": 3.0}, {\"page_number\": 139, \"predicted_boundary\": 22, \"boundary_score\": 1.0, \"rolling_avg_score\": 1.2, \"start_issue\": \"1962-01-22\", \"temp_issue_number\": 3.0}, {\"page_number\": 140, \"predicted_boundary\": 1, \"boundary_score\": 1.0, \"rolling_avg_score\": 1.2, \"start_issue\": \"1962-01-22\", \"temp_issue_number\": 3.0}, {\"page_number\": 141, \"predicted_boundary\": 1, \"boundary_score\": 1.0, \"rolling_avg_score\": 1.2, \"start_issue\": \"1962-01-22\", \"temp_issue_number\": 3.0}, {\"page_number\": 142, \"predicted_boundary\": 1, \"boundary_score\": 1.0, \"rolling_avg_score\": 1.0, \"start_issue\": \"1962-01-22\", \"temp_issue_number\": 3.0}, {\"page_number\": 143, \"predicted_boundary\": 1, \"boundary_score\": 1.0, \"rolling_avg_score\": 1.0, \"start_issue\": \"1962-01-22\", \"temp_issue_number\": 3.0}, {\"page_number\": 144, \"predicted_boundary\": 28, \"boundary_score\": 1.0, \"rolling_avg_score\": 1.0, \"start_issue\": \"1962-01-22\", \"temp_issue_number\": 3.0}, {\"page_number\": 145, \"predicted_boundary\": 0, \"boundary_score\": 1.0, \"rolling_avg_score\": 1.0, \"start_issue\": \"1962-01-22\", \"temp_issue_number\": 3.0}, {\"page_number\": 146, \"predicted_boundary\": 10, \"boundary_score\": 1.0, \"rolling_avg_score\": 1.0, \"start_issue\": \"1962-01-22\", \"temp_issue_number\": 3.0}, {\"page_number\": 147, \"predicted_boundary\": 22, \"boundary_score\": 1.0, \"rolling_avg_score\": 1.0, \"start_issue\": \"1962-01-22\", \"temp_issue_number\": 3.0}, {\"page_number\": 148, \"predicted_boundary\": 12, \"boundary_score\": 1.0, \"rolling_avg_score\": 1.0, \"start_issue\": \"1962-01-22\", \"temp_issue_number\": 3.0}, {\"page_number\": 150, \"predicted_boundary\": 0, \"boundary_score\": 1.0, \"rolling_avg_score\": 1.0, \"start_issue\": \"1962-01-22\", \"temp_issue_number\": 3.0}, {\"page_number\": 151, \"predicted_boundary\": 0, \"boundary_score\": 1.0, \"rolling_avg_score\": 1.0, \"start_issue\": \"1962-01-29\", \"temp_issue_number\": 4.0}, {\"page_number\": 152, \"predicted_boundary\": 0, \"boundary_score\": 1.0, \"rolling_avg_score\": 1.0, \"start_issue\": \"1962-01-29\", \"temp_issue_number\": 4.0}, {\"page_number\": 153, \"predicted_boundary\": 3, \"boundary_score\": 1.0, \"rolling_avg_score\": 1.0, \"start_issue\": \"1962-01-29\", \"temp_issue_number\": 4.0}, {\"page_number\": 154, \"predicted_boundary\": 5, \"boundary_score\": 1.0, \"rolling_avg_score\": 1.0, \"start_issue\": \"1962-01-29\", \"temp_issue_number\": 4.0}, {\"page_number\": 155, \"predicted_boundary\": 37, \"boundary_score\": 1.0, \"rolling_avg_score\": 1.0, \"start_issue\": \"1962-01-29\", \"temp_issue_number\": 4.0}, {\"page_number\": 156, \"predicted_boundary\": 1, \"boundary_score\": 1.0, \"rolling_avg_score\": 1.0, \"start_issue\": \"1962-01-29\", \"temp_issue_number\": 4.0}, {\"page_number\": 157, \"predicted_boundary\": 5, \"boundary_score\": 1.0, \"rolling_avg_score\": 1.0, \"start_issue\": \"1962-01-29\", \"temp_issue_number\": 4.0}, {\"page_number\": 158, \"predicted_boundary\": 1, \"boundary_score\": 1.0, \"rolling_avg_score\": 1.0, \"start_issue\": \"1962-01-29\", \"temp_issue_number\": 4.0}, {\"page_number\": 159, \"predicted_boundary\": 2, \"boundary_score\": 1.0, \"rolling_avg_score\": 1.0, \"start_issue\": \"1962-01-29\", \"temp_issue_number\": 4.0}, {\"page_number\": 160, \"predicted_boundary\": 2, \"boundary_score\": 1.0, \"rolling_avg_score\": 1.0, \"start_issue\": \"1962-01-29\", \"temp_issue_number\": 4.0}, {\"page_number\": 161, \"predicted_boundary\": 3, \"boundary_score\": 1.0, \"rolling_avg_score\": 1.0, \"start_issue\": \"1962-01-29\", \"temp_issue_number\": 4.0}, {\"page_number\": 162, \"predicted_boundary\": 10, \"boundary_score\": 1.0, \"rolling_avg_score\": 1.0, \"start_issue\": \"1962-01-29\", \"temp_issue_number\": 4.0}, {\"page_number\": 163, \"predicted_boundary\": 1, \"boundary_score\": 1.0, \"rolling_avg_score\": 1.0, \"start_issue\": \"1962-01-29\", \"temp_issue_number\": 4.0}, {\"page_number\": 164, \"predicted_boundary\": 1, \"boundary_score\": 1.0, \"rolling_avg_score\": 1.0, \"start_issue\": \"1962-01-29\", \"temp_issue_number\": 4.0}, {\"page_number\": 165, \"predicted_boundary\": 1, \"boundary_score\": 1.0, \"rolling_avg_score\": 1.0, \"start_issue\": \"1962-01-29\", \"temp_issue_number\": 4.0}, {\"page_number\": 166, \"predicted_boundary\": 1, \"boundary_score\": 1.0, \"rolling_avg_score\": 1.0, \"start_issue\": \"1962-01-29\", \"temp_issue_number\": 4.0}, {\"page_number\": 167, \"predicted_boundary\": 10, \"boundary_score\": 1.0, \"rolling_avg_score\": 1.0, \"start_issue\": \"1962-01-29\", \"temp_issue_number\": 4.0}, {\"page_number\": 168, \"predicted_boundary\": 7, \"boundary_score\": 1.0, \"rolling_avg_score\": 1.0, \"start_issue\": \"1962-01-29\", \"temp_issue_number\": 4.0}, {\"page_number\": 169, \"predicted_boundary\": 1, \"boundary_score\": 1.6600000000000001, \"rolling_avg_score\": 1.1320000000000001, \"start_issue\": \"1962-01-29\", \"temp_issue_number\": 4.0}, {\"page_number\": 170, \"predicted_boundary\": 1, \"boundary_score\": 2.0, \"rolling_avg_score\": 1.332, \"start_issue\": \"1962-01-29\", \"temp_issue_number\": 4.0}, {\"page_number\": 171, \"predicted_boundary\": 1, \"boundary_score\": 1.0, \"rolling_avg_score\": 1.332, \"start_issue\": \"1962-01-29\", \"temp_issue_number\": 4.0}, {\"page_number\": 172, \"predicted_boundary\": 1, \"boundary_score\": 2.0, \"rolling_avg_score\": 1.532, \"start_issue\": \"1962-01-29\", \"temp_issue_number\": 4.0}, {\"page_number\": 173, \"predicted_boundary\": 3, \"boundary_score\": 1.0, \"rolling_avg_score\": 1.532, \"start_issue\": \"1962-01-29\", \"temp_issue_number\": 4.0}, {\"page_number\": 174, \"predicted_boundary\": 22, \"boundary_score\": 1.0, \"rolling_avg_score\": 1.4, \"start_issue\": \"1962-01-29\", \"temp_issue_number\": 4.0}, {\"page_number\": 175, \"predicted_boundary\": 6, \"boundary_score\": 1.0, \"rolling_avg_score\": 1.2, \"start_issue\": \"1962-01-29\", \"temp_issue_number\": 4.0}, {\"page_number\": 176, \"predicted_boundary\": 0, \"boundary_score\": 1.0, \"rolling_avg_score\": 1.2, \"start_issue\": \"1962-01-29\", \"temp_issue_number\": 4.0}, {\"page_number\": 177, \"predicted_boundary\": 25, \"boundary_score\": 1.0, \"rolling_avg_score\": 1.0, \"start_issue\": \"1962-01-29\", \"temp_issue_number\": 4.0}, {\"page_number\": 178, \"predicted_boundary\": 1, \"boundary_score\": 1.0, \"rolling_avg_score\": 1.0, \"start_issue\": \"1962-01-29\", \"temp_issue_number\": 4.0}, {\"page_number\": 179, \"predicted_boundary\": 0, \"boundary_score\": 1.0, \"rolling_avg_score\": 1.0, \"start_issue\": \"1962-01-29\", \"temp_issue_number\": 4.0}, {\"page_number\": 180, \"predicted_boundary\": 0, \"boundary_score\": 1.0, \"rolling_avg_score\": 1.0, \"start_issue\": \"1962-01-29\", \"temp_issue_number\": 4.0}, {\"page_number\": 181, \"predicted_boundary\": 1, \"boundary_score\": 1.0, \"rolling_avg_score\": 1.0, \"start_issue\": \"1962-01-29\", \"temp_issue_number\": 4.0}, {\"page_number\": 182, \"predicted_boundary\": 1, \"boundary_score\": 1.0, \"rolling_avg_score\": 1.0, \"start_issue\": \"1962-01-29\", \"temp_issue_number\": 4.0}, {\"page_number\": 183, \"predicted_boundary\": 29, \"boundary_score\": 1.0, \"rolling_avg_score\": 1.0, \"start_issue\": \"1962-01-29\", \"temp_issue_number\": 4.0}, {\"page_number\": 184, \"predicted_boundary\": 32, \"boundary_score\": 1.0, \"rolling_avg_score\": 1.0, \"start_issue\": \"1962-01-29\", \"temp_issue_number\": 4.0}, {\"page_number\": 185, \"predicted_boundary\": 0, \"boundary_score\": 1.0, \"rolling_avg_score\": 1.0, \"start_issue\": \"1962-01-29\", \"temp_issue_number\": 4.0}, {\"page_number\": 186, \"predicted_boundary\": 0, \"boundary_score\": 1.0, \"rolling_avg_score\": 1.0, \"start_issue\": \"1962-01-29\", \"temp_issue_number\": 4.0}, {\"page_number\": 187, \"predicted_boundary\": 0, \"boundary_score\": 1.0, \"rolling_avg_score\": 1.0, \"start_issue\": \"1962-02-05\", \"temp_issue_number\": 5.0}, {\"page_number\": 188, \"predicted_boundary\": 0, \"boundary_score\": 1.0, \"rolling_avg_score\": 1.0, \"start_issue\": \"1962-02-05\", \"temp_issue_number\": 5.0}, {\"page_number\": 189, \"predicted_boundary\": 0, \"boundary_score\": 1.0, \"rolling_avg_score\": 1.0, \"start_issue\": \"1962-02-05\", \"temp_issue_number\": 5.0}, {\"page_number\": 190, \"predicted_boundary\": 5, \"boundary_score\": 1.0, \"rolling_avg_score\": 1.0, \"start_issue\": \"1962-02-05\", \"temp_issue_number\": 5.0}, {\"page_number\": 191, \"predicted_boundary\": 2, \"boundary_score\": 1.0, \"rolling_avg_score\": 1.0, \"start_issue\": \"1962-02-05\", \"temp_issue_number\": 5.0}, {\"page_number\": 192, \"predicted_boundary\": 4, \"boundary_score\": 1.0, \"rolling_avg_score\": 1.0, \"start_issue\": \"1962-02-05\", \"temp_issue_number\": 5.0}, {\"page_number\": 193, \"predicted_boundary\": 5, \"boundary_score\": 1.0, \"rolling_avg_score\": 1.0, \"start_issue\": \"1962-02-05\", \"temp_issue_number\": 5.0}, {\"page_number\": 194, \"predicted_boundary\": 4, \"boundary_score\": 1.0, \"rolling_avg_score\": 1.0, \"start_issue\": \"1962-02-05\", \"temp_issue_number\": 5.0}, {\"page_number\": 195, \"predicted_boundary\": 5, \"boundary_score\": 1.0, \"rolling_avg_score\": 1.0, \"start_issue\": \"1962-02-05\", \"temp_issue_number\": 5.0}, {\"page_number\": 196, \"predicted_boundary\": 1, \"boundary_score\": 1.0, \"rolling_avg_score\": 1.0, \"start_issue\": \"1962-02-05\", \"temp_issue_number\": 5.0}, {\"page_number\": 197, \"predicted_boundary\": 5, \"boundary_score\": 1.0, \"rolling_avg_score\": 1.0, \"start_issue\": \"1962-02-05\", \"temp_issue_number\": 5.0}, {\"page_number\": 198, \"predicted_boundary\": 10, \"boundary_score\": 1.0, \"rolling_avg_score\": 1.0, \"start_issue\": \"1962-02-05\", \"temp_issue_number\": 5.0}, {\"page_number\": 199, \"predicted_boundary\": 6, \"boundary_score\": 1.0, \"rolling_avg_score\": 1.0, \"start_issue\": \"1962-02-05\", \"temp_issue_number\": 5.0}, {\"page_number\": 200, \"predicted_boundary\": 1, \"boundary_score\": 1.6600000000000001, \"rolling_avg_score\": 1.1320000000000001, \"start_issue\": \"1962-02-05\", \"temp_issue_number\": 5.0}, {\"page_number\": 201, \"predicted_boundary\": 1, \"boundary_score\": 2.0, \"rolling_avg_score\": 1.332, \"start_issue\": \"1962-02-05\", \"temp_issue_number\": 5.0}, {\"page_number\": 202, \"predicted_boundary\": 1, \"boundary_score\": 1.3399999999999999, \"rolling_avg_score\": 1.4, \"start_issue\": \"1962-02-05\", \"temp_issue_number\": 5.0}, {\"page_number\": 203, \"predicted_boundary\": 5, \"boundary_score\": 1.0, \"rolling_avg_score\": 1.4, \"start_issue\": \"1962-02-05\", \"temp_issue_number\": 5.0}, {\"page_number\": 204, \"predicted_boundary\": 1, \"boundary_score\": 1.0, \"rolling_avg_score\": 1.4, \"start_issue\": \"1962-02-05\", \"temp_issue_number\": 5.0}, {\"page_number\": 206, \"predicted_boundary\": 1, \"boundary_score\": 1.0, \"rolling_avg_score\": 1.268, \"start_issue\": \"1962-02-05\", \"temp_issue_number\": 5.0}, {\"page_number\": 207, \"predicted_boundary\": 1, \"boundary_score\": 1.0, \"rolling_avg_score\": 1.068, \"start_issue\": \"1962-02-05\", \"temp_issue_number\": 5.0}, {\"page_number\": 208, \"predicted_boundary\": 12, \"boundary_score\": 1.0, \"rolling_avg_score\": 1.0, \"start_issue\": \"1962-02-05\", \"temp_issue_number\": 5.0}, {\"page_number\": 209, \"predicted_boundary\": 1, \"boundary_score\": 1.0, \"rolling_avg_score\": 1.0, \"start_issue\": \"1962-02-05\", \"temp_issue_number\": 5.0}, {\"page_number\": 210, \"predicted_boundary\": 14, \"boundary_score\": 1.0, \"rolling_avg_score\": 1.0, \"start_issue\": \"1962-02-05\", \"temp_issue_number\": 5.0}, {\"page_number\": 211, \"predicted_boundary\": 5, \"boundary_score\": 1.0, \"rolling_avg_score\": 1.0, \"start_issue\": \"1962-02-05\", \"temp_issue_number\": 5.0}, {\"page_number\": 212, \"predicted_boundary\": 24, \"boundary_score\": 1.0, \"rolling_avg_score\": 1.0, \"start_issue\": \"1962-02-05\", \"temp_issue_number\": 5.0}, {\"page_number\": 213, \"predicted_boundary\": 5, \"boundary_score\": 2.0, \"rolling_avg_score\": 1.2, \"start_issue\": \"1962-02-05\", \"temp_issue_number\": 5.0}, {\"page_number\": 214, \"predicted_boundary\": 10, \"boundary_score\": 1.0, \"rolling_avg_score\": 1.2, \"start_issue\": \"1962-02-05\", \"temp_issue_number\": 5.0}, {\"page_number\": 215, \"predicted_boundary\": 1, \"boundary_score\": 1.0, \"rolling_avg_score\": 1.2, \"start_issue\": \"1962-02-05\", \"temp_issue_number\": 5.0}, {\"page_number\": 216, \"predicted_boundary\": 23, \"boundary_score\": 1.0, \"rolling_avg_score\": 1.2, \"start_issue\": \"1962-02-05\", \"temp_issue_number\": 5.0}, {\"page_number\": 217, \"predicted_boundary\": 5, \"boundary_score\": 1.0, \"rolling_avg_score\": 1.2, \"start_issue\": \"1962-02-05\", \"temp_issue_number\": 5.0}, {\"page_number\": 218, \"predicted_boundary\": 20, \"boundary_score\": 1.0, \"rolling_avg_score\": 1.0, \"start_issue\": \"1962-02-05\", \"temp_issue_number\": 5.0}, {\"page_number\": 219, \"predicted_boundary\": 0, \"boundary_score\": 2.0, \"rolling_avg_score\": 1.2, \"start_issue\": \"1962-02-05\", \"temp_issue_number\": 5.0}, {\"page_number\": 220, \"predicted_boundary\": 3, \"boundary_score\": 1.0, \"rolling_avg_score\": 1.2, \"start_issue\": \"1962-02-05\", \"temp_issue_number\": 5.0}, {\"page_number\": 221, \"predicted_boundary\": 0, \"boundary_score\": 1.0, \"rolling_avg_score\": 1.2, \"start_issue\": \"1962-02-05\", \"temp_issue_number\": 5.0}, {\"page_number\": 222, \"predicted_boundary\": 4, \"boundary_score\": 1.0, \"rolling_avg_score\": 1.2, \"start_issue\": \"1962-02-05\", \"temp_issue_number\": 5.0}, {\"page_number\": 223, \"predicted_boundary\": 2, \"boundary_score\": 1.0, \"rolling_avg_score\": 1.2, \"start_issue\": \"1962-02-12\", \"temp_issue_number\": 6.0}, {\"page_number\": 224, \"predicted_boundary\": 0, \"boundary_score\": 1.0, \"rolling_avg_score\": 1.0, \"start_issue\": \"1962-02-12\", \"temp_issue_number\": 6.0}, {\"page_number\": 225, \"predicted_boundary\": 0, \"boundary_score\": 1.0, \"rolling_avg_score\": 1.0, \"start_issue\": \"1962-02-12\", \"temp_issue_number\": 6.0}, {\"page_number\": 226, \"predicted_boundary\": 5, \"boundary_score\": 1.0, \"rolling_avg_score\": 1.0, \"start_issue\": \"1962-02-12\", \"temp_issue_number\": 6.0}, {\"page_number\": 227, \"predicted_boundary\": 0, \"boundary_score\": 1.0, \"rolling_avg_score\": 1.0, \"start_issue\": \"1962-02-12\", \"temp_issue_number\": 6.0}, {\"page_number\": 228, \"predicted_boundary\": 4, \"boundary_score\": 1.0, \"rolling_avg_score\": 1.0, \"start_issue\": \"1962-02-12\", \"temp_issue_number\": 6.0}, {\"page_number\": 229, \"predicted_boundary\": 6, \"boundary_score\": 1.0, \"rolling_avg_score\": 1.0, \"start_issue\": \"1962-02-12\", \"temp_issue_number\": 6.0}, {\"page_number\": 230, \"predicted_boundary\": 15, \"boundary_score\": 1.0, \"rolling_avg_score\": 1.0, \"start_issue\": \"1962-02-12\", \"temp_issue_number\": 6.0}, {\"page_number\": 231, \"predicted_boundary\": 2, \"boundary_score\": 1.0, \"rolling_avg_score\": 1.0, \"start_issue\": \"1962-02-12\", \"temp_issue_number\": 6.0}, {\"page_number\": 232, \"predicted_boundary\": 0, \"boundary_score\": 1.0, \"rolling_avg_score\": 1.0, \"start_issue\": \"1962-02-12\", \"temp_issue_number\": 6.0}, {\"page_number\": 233, \"predicted_boundary\": 1, \"boundary_score\": 1.0, \"rolling_avg_score\": 1.0, \"start_issue\": \"1962-02-12\", \"temp_issue_number\": 6.0}, {\"page_number\": 234, \"predicted_boundary\": 1, \"boundary_score\": 1.0, \"rolling_avg_score\": 1.0, \"start_issue\": \"1962-02-12\", \"temp_issue_number\": 6.0}, {\"page_number\": 235, \"predicted_boundary\": 7, \"boundary_score\": 1.0, \"rolling_avg_score\": 1.0, \"start_issue\": \"1962-02-12\", \"temp_issue_number\": 6.0}, {\"page_number\": 236, \"predicted_boundary\": 4, \"boundary_score\": 1.0, \"rolling_avg_score\": 1.0, \"start_issue\": \"1962-02-12\", \"temp_issue_number\": 6.0}, {\"page_number\": 237, \"predicted_boundary\": 12, \"boundary_score\": 1.0, \"rolling_avg_score\": 1.0, \"start_issue\": \"1962-02-12\", \"temp_issue_number\": 6.0}, {\"page_number\": 238, \"predicted_boundary\": 14, \"boundary_score\": 1.0, \"rolling_avg_score\": 1.0, \"start_issue\": \"1962-02-12\", \"temp_issue_number\": 6.0}, {\"page_number\": 239, \"predicted_boundary\": 2, \"boundary_score\": 1.6600000000000001, \"rolling_avg_score\": 1.1320000000000001, \"start_issue\": \"1962-02-12\", \"temp_issue_number\": 6.0}, {\"page_number\": 240, \"predicted_boundary\": 1, \"boundary_score\": 2.0, \"rolling_avg_score\": 1.332, \"start_issue\": \"1962-02-12\", \"temp_issue_number\": 6.0}, {\"page_number\": 241, \"predicted_boundary\": 12, \"boundary_score\": 1.0, \"rolling_avg_score\": 1.332, \"start_issue\": \"1962-02-12\", \"temp_issue_number\": 6.0}, {\"page_number\": 242, \"predicted_boundary\": 1, \"boundary_score\": 1.0, \"rolling_avg_score\": 1.332, \"start_issue\": \"1962-02-12\", \"temp_issue_number\": 6.0}, {\"page_number\": 243, \"predicted_boundary\": 1, \"boundary_score\": 1.0, \"rolling_avg_score\": 1.332, \"start_issue\": \"1962-02-12\", \"temp_issue_number\": 6.0}, {\"page_number\": 244, \"predicted_boundary\": 1, \"boundary_score\": 1.0, \"rolling_avg_score\": 1.2, \"start_issue\": \"1962-02-12\", \"temp_issue_number\": 6.0}, {\"page_number\": 245, \"predicted_boundary\": 0, \"boundary_score\": 1.0, \"rolling_avg_score\": 1.0, \"start_issue\": \"1962-02-12\", \"temp_issue_number\": 6.0}, {\"page_number\": 246, \"predicted_boundary\": 1, \"boundary_score\": 1.0, \"rolling_avg_score\": 1.0, \"start_issue\": \"1962-02-12\", \"temp_issue_number\": 6.0}, {\"page_number\": 247, \"predicted_boundary\": 6, \"boundary_score\": 1.0, \"rolling_avg_score\": 1.0, \"start_issue\": \"1962-02-12\", \"temp_issue_number\": 6.0}, {\"page_number\": 248, \"predicted_boundary\": 1, \"boundary_score\": 1.0, \"rolling_avg_score\": 1.0, \"start_issue\": \"1962-02-12\", \"temp_issue_number\": 6.0}, {\"page_number\": 249, \"predicted_boundary\": 1, \"boundary_score\": 1.0, \"rolling_avg_score\": 1.0, \"start_issue\": \"1962-02-12\", \"temp_issue_number\": 6.0}, {\"page_number\": 250, \"predicted_boundary\": 0, \"boundary_score\": 1.0, \"rolling_avg_score\": 1.0, \"start_issue\": \"1962-02-12\", \"temp_issue_number\": 6.0}, {\"page_number\": 251, \"predicted_boundary\": 0, \"boundary_score\": 1.0, \"rolling_avg_score\": 1.0, \"start_issue\": \"1962-02-12\", \"temp_issue_number\": 6.0}, {\"page_number\": 252, \"predicted_boundary\": 1, \"boundary_score\": 1.0, \"rolling_avg_score\": 1.0, \"start_issue\": \"1962-02-12\", \"temp_issue_number\": 6.0}, {\"page_number\": 253, \"predicted_boundary\": 12, \"boundary_score\": 1.0, \"rolling_avg_score\": 1.0, \"start_issue\": \"1962-02-12\", \"temp_issue_number\": 6.0}, {\"page_number\": 254, \"predicted_boundary\": 30, \"boundary_score\": 1.0, \"rolling_avg_score\": 1.0, \"start_issue\": \"1962-02-12\", \"temp_issue_number\": 6.0}, {\"page_number\": 255, \"predicted_boundary\": 5, \"boundary_score\": 1.0, \"rolling_avg_score\": 1.0, \"start_issue\": \"1962-02-12\", \"temp_issue_number\": 6.0}, {\"page_number\": 256, \"predicted_boundary\": 1, \"boundary_score\": 1.0, \"rolling_avg_score\": 1.0, \"start_issue\": \"1962-02-12\", \"temp_issue_number\": 6.0}, {\"page_number\": 257, \"predicted_boundary\": 0, \"boundary_score\": 1.0, \"rolling_avg_score\": 1.0, \"start_issue\": \"1962-02-12\", \"temp_issue_number\": 6.0}, {\"page_number\": 258, \"predicted_boundary\": 0, \"boundary_score\": 1.0, \"rolling_avg_score\": 1.0, \"start_issue\": \"1962-02-12\", \"temp_issue_number\": 6.0}, {\"page_number\": 259, \"predicted_boundary\": 19, \"boundary_score\": 1.0, \"rolling_avg_score\": 1.0, \"start_issue\": \"1962-02-19\", \"temp_issue_number\": 7.0}, {\"page_number\": 260, \"predicted_boundary\": 0, \"boundary_score\": 1.0, \"rolling_avg_score\": 1.0, \"start_issue\": \"1962-02-19\", \"temp_issue_number\": 7.0}, {\"page_number\": 261, \"predicted_boundary\": 0, \"boundary_score\": 1.0, \"rolling_avg_score\": 1.0, \"start_issue\": \"1962-02-19\", \"temp_issue_number\": 7.0}, {\"page_number\": 262, \"predicted_boundary\": 23, \"boundary_score\": 1.0, \"rolling_avg_score\": 1.0, \"start_issue\": \"1962-02-19\", \"temp_issue_number\": 7.0}, {\"page_number\": 264, \"predicted_boundary\": 1, \"boundary_score\": 1.0, \"rolling_avg_score\": 1.0, \"start_issue\": \"1962-02-19\", \"temp_issue_number\": 7.0}, {\"page_number\": 265, \"predicted_boundary\": 8, \"boundary_score\": 1.0, \"rolling_avg_score\": 1.0, \"start_issue\": \"1962-02-19\", \"temp_issue_number\": 7.0}, {\"page_number\": 266, \"predicted_boundary\": 1, \"boundary_score\": 1.0, \"rolling_avg_score\": 1.0, \"start_issue\": \"1962-02-19\", \"temp_issue_number\": 7.0}, {\"page_number\": 267, \"predicted_boundary\": 10, \"boundary_score\": 1.0, \"rolling_avg_score\": 1.0, \"start_issue\": \"1962-02-19\", \"temp_issue_number\": 7.0}, {\"page_number\": 268, \"predicted_boundary\": 1, \"boundary_score\": 1.0, \"rolling_avg_score\": 1.0, \"start_issue\": \"1962-02-19\", \"temp_issue_number\": 7.0}, {\"page_number\": 269, \"predicted_boundary\": 0, \"boundary_score\": 1.0, \"rolling_avg_score\": 1.0, \"start_issue\": \"1962-02-19\", \"temp_issue_number\": 7.0}, {\"page_number\": 270, \"predicted_boundary\": 6, \"boundary_score\": 1.0, \"rolling_avg_score\": 1.0, \"start_issue\": \"1962-02-19\", \"temp_issue_number\": 7.0}, {\"page_number\": 271, \"predicted_boundary\": 3, \"boundary_score\": 1.0, \"rolling_avg_score\": 1.0, \"start_issue\": \"1962-02-19\", \"temp_issue_number\": 7.0}, {\"page_number\": 272, \"predicted_boundary\": 0, \"boundary_score\": 1.0, \"rolling_avg_score\": 1.0, \"start_issue\": \"1962-02-19\", \"temp_issue_number\": 7.0}, {\"page_number\": 273, \"predicted_boundary\": 2, \"boundary_score\": 1.0, \"rolling_avg_score\": 1.0, \"start_issue\": \"1962-02-19\", \"temp_issue_number\": 7.0}, {\"page_number\": 274, \"predicted_boundary\": 7, \"boundary_score\": 1.0, \"rolling_avg_score\": 1.0, \"start_issue\": \"1962-02-19\", \"temp_issue_number\": 7.0}, {\"page_number\": 275, \"predicted_boundary\": 1, \"boundary_score\": 1.0, \"rolling_avg_score\": 1.0, \"start_issue\": \"1962-02-19\", \"temp_issue_number\": 7.0}, {\"page_number\": 276, \"predicted_boundary\": 16, \"boundary_score\": 1.0, \"rolling_avg_score\": 1.0, \"start_issue\": \"1962-02-19\", \"temp_issue_number\": 7.0}, {\"page_number\": 277, \"predicted_boundary\": 17, \"boundary_score\": 1.0, \"rolling_avg_score\": 1.0, \"start_issue\": \"1962-02-19\", \"temp_issue_number\": 7.0}, {\"page_number\": 278, \"predicted_boundary\": 3, \"boundary_score\": 2.0, \"rolling_avg_score\": 1.2, \"start_issue\": \"1962-02-19\", \"temp_issue_number\": 7.0}, {\"page_number\": 279, \"predicted_boundary\": 2, \"boundary_score\": 1.0, \"rolling_avg_score\": 1.2, \"start_issue\": \"1962-02-19\", \"temp_issue_number\": 7.0}, {\"page_number\": 280, \"predicted_boundary\": 37, \"boundary_score\": 1.0, \"rolling_avg_score\": 1.2, \"start_issue\": \"1962-02-19\", \"temp_issue_number\": 7.0}, {\"page_number\": 281, \"predicted_boundary\": 1, \"boundary_score\": 1.0, \"rolling_avg_score\": 1.2, \"start_issue\": \"1962-02-19\", \"temp_issue_number\": 7.0}, {\"page_number\": 282, \"predicted_boundary\": 22, \"boundary_score\": 1.0, \"rolling_avg_score\": 1.2, \"start_issue\": \"1962-02-19\", \"temp_issue_number\": 7.0}, {\"page_number\": 283, \"predicted_boundary\": 6, \"boundary_score\": 1.0, \"rolling_avg_score\": 1.0, \"start_issue\": \"1962-02-19\", \"temp_issue_number\": 7.0}, {\"page_number\": 284, \"predicted_boundary\": 24, \"boundary_score\": 1.0, \"rolling_avg_score\": 1.0, \"start_issue\": \"1962-02-19\", \"temp_issue_number\": 7.0}, {\"page_number\": 285, \"predicted_boundary\": 13, \"boundary_score\": 1.0, \"rolling_avg_score\": 1.0, \"start_issue\": \"1962-02-19\", \"temp_issue_number\": 7.0}, {\"page_number\": 286, \"predicted_boundary\": 3, \"boundary_score\": 1.0, \"rolling_avg_score\": 1.0, \"start_issue\": \"1962-02-19\", \"temp_issue_number\": 7.0}, {\"page_number\": 287, \"predicted_boundary\": 2, \"boundary_score\": 3.0, \"rolling_avg_score\": 1.4, \"start_issue\": \"1962-02-19\", \"temp_issue_number\": 7.0}, {\"page_number\": 288, \"predicted_boundary\": 1, \"boundary_score\": 1.3399999999999999, \"rolling_avg_score\": 1.468, \"start_issue\": \"1962-02-19\", \"temp_issue_number\": 7.0}, {\"page_number\": 289, \"predicted_boundary\": 19, \"boundary_score\": 1.0, \"rolling_avg_score\": 1.468, \"start_issue\": \"1962-02-19\", \"temp_issue_number\": 7.0}, {\"page_number\": 290, \"predicted_boundary\": 50, \"boundary_score\": 1.0, \"rolling_avg_score\": 1.468, \"start_issue\": \"1962-02-19\", \"temp_issue_number\": 7.0}, {\"page_number\": 291, \"predicted_boundary\": 12, \"boundary_score\": 1.0, \"rolling_avg_score\": 1.468, \"start_issue\": \"1962-02-19\", \"temp_issue_number\": 7.0}, {\"page_number\": 292, \"predicted_boundary\": 10, \"boundary_score\": 1.0, \"rolling_avg_score\": 1.068, \"start_issue\": \"1962-02-19\", \"temp_issue_number\": 7.0}, {\"page_number\": 293, \"predicted_boundary\": 0, \"boundary_score\": 1.0, \"rolling_avg_score\": 1.0, \"start_issue\": \"1962-02-19\", \"temp_issue_number\": 7.0}, {\"page_number\": 294, \"predicted_boundary\": 0, \"boundary_score\": 1.0, \"rolling_avg_score\": 1.0, \"start_issue\": \"1962-02-19\", \"temp_issue_number\": 7.0}, {\"page_number\": 295, \"predicted_boundary\": 0, \"boundary_score\": 1.0, \"rolling_avg_score\": 1.0, \"start_issue\": \"1962-02-26\", \"temp_issue_number\": 8.0}, {\"page_number\": 296, \"predicted_boundary\": 1, \"boundary_score\": 1.0, \"rolling_avg_score\": 1.0, \"start_issue\": \"1962-02-26\", \"temp_issue_number\": 8.0}, {\"page_number\": 297, \"predicted_boundary\": 0, \"boundary_score\": 1.0, \"rolling_avg_score\": 1.0, \"start_issue\": \"1962-02-26\", \"temp_issue_number\": 8.0}, {\"page_number\": 298, \"predicted_boundary\": 21, \"boundary_score\": 1.0, \"rolling_avg_score\": 1.0, \"start_issue\": \"1962-02-26\", \"temp_issue_number\": 8.0}, {\"page_number\": 299, \"predicted_boundary\": 0, \"boundary_score\": 1.0, \"rolling_avg_score\": 1.0, \"start_issue\": \"1962-02-26\", \"temp_issue_number\": 8.0}, {\"page_number\": 300, \"predicted_boundary\": 14, \"boundary_score\": 1.0, \"rolling_avg_score\": 1.0, \"start_issue\": \"1962-02-26\", \"temp_issue_number\": 8.0}, {\"page_number\": 301, \"predicted_boundary\": 0, \"boundary_score\": 1.0, \"rolling_avg_score\": 1.0, \"start_issue\": \"1962-02-26\", \"temp_issue_number\": 8.0}, {\"page_number\": 302, \"predicted_boundary\": 2, \"boundary_score\": 1.0, \"rolling_avg_score\": 1.0, \"start_issue\": \"1962-02-26\", \"temp_issue_number\": 8.0}, {\"page_number\": 303, \"predicted_boundary\": 1, \"boundary_score\": 1.0, \"rolling_avg_score\": 1.0, \"start_issue\": \"1962-02-26\", \"temp_issue_number\": 8.0}, {\"page_number\": 304, \"predicted_boundary\": 4, \"boundary_score\": 1.0, \"rolling_avg_score\": 1.0, \"start_issue\": \"1962-02-26\", \"temp_issue_number\": 8.0}, {\"page_number\": 305, \"predicted_boundary\": 18, \"boundary_score\": 1.0, \"rolling_avg_score\": 1.0, \"start_issue\": \"1962-02-26\", \"temp_issue_number\": 8.0}, {\"page_number\": 306, \"predicted_boundary\": 18, \"boundary_score\": 1.0, \"rolling_avg_score\": 1.0, \"start_issue\": \"1962-02-26\", \"temp_issue_number\": 8.0}, {\"page_number\": 307, \"predicted_boundary\": 1, \"boundary_score\": 1.0, \"rolling_avg_score\": 1.0, \"start_issue\": \"1962-02-26\", \"temp_issue_number\": 8.0}, {\"page_number\": 308, \"predicted_boundary\": 1, \"boundary_score\": 1.0, \"rolling_avg_score\": 1.0, \"start_issue\": \"1962-02-26\", \"temp_issue_number\": 8.0}, {\"page_number\": 309, \"predicted_boundary\": 13, \"boundary_score\": 1.0, \"rolling_avg_score\": 1.0, \"start_issue\": \"1962-02-26\", \"temp_issue_number\": 8.0}, {\"page_number\": 310, \"predicted_boundary\": 1, \"boundary_score\": 1.0, \"rolling_avg_score\": 1.0, \"start_issue\": \"1962-02-26\", \"temp_issue_number\": 8.0}, {\"page_number\": 311, \"predicted_boundary\": 28, \"boundary_score\": 1.0, \"rolling_avg_score\": 1.0, \"start_issue\": \"1962-02-26\", \"temp_issue_number\": 8.0}, {\"page_number\": 312, \"predicted_boundary\": 2, \"boundary_score\": 2.0, \"rolling_avg_score\": 1.2, \"start_issue\": \"1962-02-26\", \"temp_issue_number\": 8.0}, {\"page_number\": 313, \"predicted_boundary\": 17, \"boundary_score\": 1.0, \"rolling_avg_score\": 1.2, \"start_issue\": \"1962-02-26\", \"temp_issue_number\": 8.0}, {\"page_number\": 314, \"predicted_boundary\": 1, \"boundary_score\": 2.0, \"rolling_avg_score\": 1.4, \"start_issue\": \"1962-02-26\", \"temp_issue_number\": 8.0}, {\"page_number\": 315, \"predicted_boundary\": 1, \"boundary_score\": 1.3399999999999999, \"rolling_avg_score\": 1.468, \"start_issue\": \"1962-02-26\", \"temp_issue_number\": 8.0}, {\"page_number\": 316, \"predicted_boundary\": 1, \"boundary_score\": 1.3399999999999999, \"rolling_avg_score\": 1.536, \"start_issue\": \"1962-02-26\", \"temp_issue_number\": 8.0}, {\"page_number\": 317, \"predicted_boundary\": 2, \"boundary_score\": 1.3399999999999999, \"rolling_avg_score\": 1.404, \"start_issue\": \"1962-02-26\", \"temp_issue_number\": 8.0}, {\"page_number\": 318, \"predicted_boundary\": 9, \"boundary_score\": 1.0, \"rolling_avg_score\": 1.404, \"start_issue\": \"1962-02-26\", \"temp_issue_number\": 8.0}, {\"page_number\": 319, \"predicted_boundary\": 3, \"boundary_score\": 1.0, \"rolling_avg_score\": 1.204, \"start_issue\": \"1962-02-26\", \"temp_issue_number\": 8.0}, {\"page_number\": 320, \"predicted_boundary\": 14, \"boundary_score\": 1.0, \"rolling_avg_score\": 1.136, \"start_issue\": \"1962-02-26\", \"temp_issue_number\": 8.0}, {\"page_number\": 321, \"predicted_boundary\": 2, \"boundary_score\": 1.6600000000000001, \"rolling_avg_score\": 1.2, \"start_issue\": \"1962-02-26\", \"temp_issue_number\": 8.0}, {\"page_number\": 322, \"predicted_boundary\": 1, \"boundary_score\": 1.6600000000000001, \"rolling_avg_score\": 1.264, \"start_issue\": \"1962-02-26\", \"temp_issue_number\": 8.0}, {\"page_number\": 323, \"predicted_boundary\": 1, \"boundary_score\": 1.6600000000000001, \"rolling_avg_score\": 1.3960000000000001, \"start_issue\": \"1962-02-26\", \"temp_issue_number\": 8.0}, {\"page_number\": 324, \"predicted_boundary\": 2, \"boundary_score\": 3.0, \"rolling_avg_score\": 1.796, \"start_issue\": \"1962-02-26\", \"temp_issue_number\": 8.0}, {\"page_number\": 325, \"predicted_boundary\": 21, \"boundary_score\": 1.3399999999999999, \"rolling_avg_score\": 1.864, \"start_issue\": \"1962-02-26\", \"temp_issue_number\": 8.0}, {\"page_number\": 326, \"predicted_boundary\": 20, \"boundary_score\": 1.0, \"rolling_avg_score\": 1.732, \"start_issue\": \"1962-02-26\", \"temp_issue_number\": 8.0}, {\"page_number\": 327, \"predicted_boundary\": 31, \"boundary_score\": 1.0, \"rolling_avg_score\": 1.6, \"start_issue\": \"1962-02-26\", \"temp_issue_number\": 8.0}, {\"page_number\": 328, \"predicted_boundary\": 1, \"boundary_score\": 1.0, \"rolling_avg_score\": 1.468, \"start_issue\": \"1962-02-26\", \"temp_issue_number\": 8.0}, {\"page_number\": 329, \"predicted_boundary\": 0, \"boundary_score\": 1.0, \"rolling_avg_score\": 1.068, \"start_issue\": \"1962-02-26\", \"temp_issue_number\": 8.0}, {\"page_number\": 330, \"predicted_boundary\": 0, \"boundary_score\": 1.0, \"rolling_avg_score\": 1.0, \"start_issue\": \"1962-02-26\", \"temp_issue_number\": 8.0}, {\"page_number\": 331, \"predicted_boundary\": 0, \"boundary_score\": 1.0, \"rolling_avg_score\": 1.0, \"start_issue\": \"1962-03-05\", \"temp_issue_number\": 9.0}, {\"page_number\": 332, \"predicted_boundary\": 0, \"boundary_score\": 1.0, \"rolling_avg_score\": 1.0, \"start_issue\": \"1962-03-05\", \"temp_issue_number\": 9.0}, {\"page_number\": 333, \"predicted_boundary\": 0, \"boundary_score\": 1.0, \"rolling_avg_score\": 1.0, \"start_issue\": \"1962-03-05\", \"temp_issue_number\": 9.0}, {\"page_number\": 334, \"predicted_boundary\": 0, \"boundary_score\": 1.0, \"rolling_avg_score\": 1.0, \"start_issue\": \"1962-03-05\", \"temp_issue_number\": 9.0}, {\"page_number\": 335, \"predicted_boundary\": 1, \"boundary_score\": 2.0, \"rolling_avg_score\": 1.2, \"start_issue\": \"1962-03-05\", \"temp_issue_number\": 9.0}, {\"page_number\": 336, \"predicted_boundary\": 1, \"boundary_score\": 1.3399999999999999, \"rolling_avg_score\": 1.268, \"start_issue\": \"1962-03-05\", \"temp_issue_number\": 9.0}, {\"page_number\": 337, \"predicted_boundary\": 0, \"boundary_score\": 1.0, \"rolling_avg_score\": 1.268, \"start_issue\": \"1962-03-05\", \"temp_issue_number\": 9.0}, {\"page_number\": 338, \"predicted_boundary\": 6, \"boundary_score\": 1.0, \"rolling_avg_score\": 1.268, \"start_issue\": \"1962-03-05\", \"temp_issue_number\": 9.0}, {\"page_number\": 339, \"predicted_boundary\": 11, \"boundary_score\": 1.0, \"rolling_avg_score\": 1.268, \"start_issue\": \"1962-03-05\", \"temp_issue_number\": 9.0}, {\"page_number\": 340, \"predicted_boundary\": 4, \"boundary_score\": 1.0, \"rolling_avg_score\": 1.068, \"start_issue\": \"1962-03-05\", \"temp_issue_number\": 9.0}, {\"page_number\": 341, \"predicted_boundary\": 0, \"boundary_score\": 1.0, \"rolling_avg_score\": 1.0, \"start_issue\": \"1962-03-05\", \"temp_issue_number\": 9.0}, {\"page_number\": 342, \"predicted_boundary\": 10, \"boundary_score\": 1.0, \"rolling_avg_score\": 1.0, \"start_issue\": \"1962-03-05\", \"temp_issue_number\": 9.0}, {\"page_number\": 343, \"predicted_boundary\": 0, \"boundary_score\": 1.0, \"rolling_avg_score\": 1.0, \"start_issue\": \"1962-03-05\", \"temp_issue_number\": 9.0}, {\"page_number\": 344, \"predicted_boundary\": 2, \"boundary_score\": 1.0, \"rolling_avg_score\": 1.0, \"start_issue\": \"1962-03-05\", \"temp_issue_number\": 9.0}, {\"page_number\": 345, \"predicted_boundary\": 13, \"boundary_score\": 1.0, \"rolling_avg_score\": 1.0, \"start_issue\": \"1962-03-05\", \"temp_issue_number\": 9.0}, {\"page_number\": 346, \"predicted_boundary\": 14, \"boundary_score\": 1.0, \"rolling_avg_score\": 1.0, \"start_issue\": \"1962-03-05\", \"temp_issue_number\": 9.0}, {\"page_number\": 347, \"predicted_boundary\": 3, \"boundary_score\": 1.0, \"rolling_avg_score\": 1.0, \"start_issue\": \"1962-03-05\", \"temp_issue_number\": 9.0}, {\"page_number\": 348, \"predicted_boundary\": 1, \"boundary_score\": 1.0, \"rolling_avg_score\": 1.0, \"start_issue\": \"1962-03-05\", \"temp_issue_number\": 9.0}, {\"page_number\": 349, \"predicted_boundary\": 22, \"boundary_score\": 1.0, \"rolling_avg_score\": 1.0, \"start_issue\": \"1962-03-05\", \"temp_issue_number\": 9.0}, {\"page_number\": 350, \"predicted_boundary\": 6, \"boundary_score\": 1.0, \"rolling_avg_score\": 1.0, \"start_issue\": \"1962-03-05\", \"temp_issue_number\": 9.0}, {\"page_number\": 351, \"predicted_boundary\": 1, \"boundary_score\": 1.0, \"rolling_avg_score\": 1.0, \"start_issue\": \"1962-03-05\", \"temp_issue_number\": 9.0}, {\"page_number\": 352, \"predicted_boundary\": 0, \"boundary_score\": 2.0, \"rolling_avg_score\": 1.2, \"start_issue\": \"1962-03-05\", \"temp_issue_number\": 9.0}, {\"page_number\": 353, \"predicted_boundary\": 5, \"boundary_score\": 1.0, \"rolling_avg_score\": 1.2, \"start_issue\": \"1962-03-05\", \"temp_issue_number\": 9.0}, {\"page_number\": 354, \"predicted_boundary\": 14, \"boundary_score\": 1.0, \"rolling_avg_score\": 1.2, \"start_issue\": \"1962-03-05\", \"temp_issue_number\": 9.0}, {\"page_number\": 355, \"predicted_boundary\": 9, \"boundary_score\": 1.0, \"rolling_avg_score\": 1.2, \"start_issue\": \"1962-03-05\", \"temp_issue_number\": 9.0}, {\"page_number\": 356, \"predicted_boundary\": 1, \"boundary_score\": 1.0, \"rolling_avg_score\": 1.2, \"start_issue\": \"1962-03-05\", \"temp_issue_number\": 9.0}, {\"page_number\": 357, \"predicted_boundary\": 7, \"boundary_score\": 1.0, \"rolling_avg_score\": 1.0, \"start_issue\": \"1962-03-05\", \"temp_issue_number\": 9.0}, {\"page_number\": 358, \"predicted_boundary\": 0, \"boundary_score\": 1.0, \"rolling_avg_score\": 1.0, \"start_issue\": \"1962-03-05\", \"temp_issue_number\": 9.0}, {\"page_number\": 359, \"predicted_boundary\": 0, \"boundary_score\": 1.0, \"rolling_avg_score\": 1.0, \"start_issue\": \"1962-03-05\", \"temp_issue_number\": 9.0}, {\"page_number\": 360, \"predicted_boundary\": 7, \"boundary_score\": 1.6600000000000001, \"rolling_avg_score\": 1.1320000000000001, \"start_issue\": \"1962-03-05\", \"temp_issue_number\": 9.0}, {\"page_number\": 361, \"predicted_boundary\": 5, \"boundary_score\": 2.0, \"rolling_avg_score\": 1.332, \"start_issue\": \"1962-03-05\", \"temp_issue_number\": 9.0}, {\"page_number\": 362, \"predicted_boundary\": 30, \"boundary_score\": 1.0, \"rolling_avg_score\": 1.332, \"start_issue\": \"1962-03-05\", \"temp_issue_number\": 9.0}, {\"page_number\": 363, \"predicted_boundary\": 1, \"boundary_score\": 1.0, \"rolling_avg_score\": 1.332, \"start_issue\": \"1962-03-05\", \"temp_issue_number\": 9.0}, {\"page_number\": 364, \"predicted_boundary\": 1, \"boundary_score\": 1.0, \"rolling_avg_score\": 1.332, \"start_issue\": \"1962-03-05\", \"temp_issue_number\": 9.0}, {\"page_number\": 366, \"predicted_boundary\": 0, \"boundary_score\": 1.0, \"rolling_avg_score\": 1.2, \"start_issue\": \"1962-03-05\", \"temp_issue_number\": 9.0}, {\"page_number\": 367, \"predicted_boundary\": 2, \"boundary_score\": 1.0, \"rolling_avg_score\": 1.0, \"start_issue\": \"1962-03-12\", \"temp_issue_number\": 10.0}, {\"page_number\": 369, \"predicted_boundary\": 1, \"boundary_score\": 1.0, \"rolling_avg_score\": 1.0, \"start_issue\": \"1962-03-12\", \"temp_issue_number\": 10.0}, {\"page_number\": 370, \"predicted_boundary\": 11, \"boundary_score\": 1.0, \"rolling_avg_score\": 1.0, \"start_issue\": \"1962-03-12\", \"temp_issue_number\": 10.0}, {\"page_number\": 371, \"predicted_boundary\": 1, \"boundary_score\": 1.6600000000000001, \"rolling_avg_score\": 1.1320000000000001, \"start_issue\": \"1962-03-12\", \"temp_issue_number\": 10.0}, {\"page_number\": 372, \"predicted_boundary\": 1, \"boundary_score\": 1.6600000000000001, \"rolling_avg_score\": 1.264, \"start_issue\": \"1962-03-12\", \"temp_issue_number\": 10.0}, {\"page_number\": 373, \"predicted_boundary\": 1, \"boundary_score\": 2.0, \"rolling_avg_score\": 1.464, \"start_issue\": \"1962-03-12\", \"temp_issue_number\": 10.0}, {\"page_number\": 374, \"predicted_boundary\": 6, \"boundary_score\": 1.0, \"rolling_avg_score\": 1.464, \"start_issue\": \"1962-03-12\", \"temp_issue_number\": 10.0}, {\"page_number\": 375, \"predicted_boundary\": 1, \"boundary_score\": 1.0, \"rolling_avg_score\": 1.464, \"start_issue\": \"1962-03-12\", \"temp_issue_number\": 10.0}, {\"page_number\": 376, \"predicted_boundary\": 1, \"boundary_score\": 1.0, \"rolling_avg_score\": 1.332, \"start_issue\": \"1962-03-12\", \"temp_issue_number\": 10.0}, {\"page_number\": 377, \"predicted_boundary\": 0, \"boundary_score\": 1.0, \"rolling_avg_score\": 1.2, \"start_issue\": \"1962-03-12\", \"temp_issue_number\": 10.0}, {\"page_number\": 378, \"predicted_boundary\": 10, \"boundary_score\": 1.0, \"rolling_avg_score\": 1.0, \"start_issue\": \"1962-03-12\", \"temp_issue_number\": 10.0}, {\"page_number\": 379, \"predicted_boundary\": 13, \"boundary_score\": 1.0, \"rolling_avg_score\": 1.0, \"start_issue\": \"1962-03-12\", \"temp_issue_number\": 10.0}, {\"page_number\": 380, \"predicted_boundary\": 12, \"boundary_score\": 1.0, \"rolling_avg_score\": 1.0, \"start_issue\": \"1962-03-12\", \"temp_issue_number\": 10.0}, {\"page_number\": 381, \"predicted_boundary\": 1, \"boundary_score\": 1.0, \"rolling_avg_score\": 1.0, \"start_issue\": \"1962-03-12\", \"temp_issue_number\": 10.0}, {\"page_number\": 382, \"predicted_boundary\": 1, \"boundary_score\": 1.0, \"rolling_avg_score\": 1.0, \"start_issue\": \"1962-03-12\", \"temp_issue_number\": 10.0}, {\"page_number\": 383, \"predicted_boundary\": 15, \"boundary_score\": 1.0, \"rolling_avg_score\": 1.0, \"start_issue\": \"1962-03-12\", \"temp_issue_number\": 10.0}, {\"page_number\": 384, \"predicted_boundary\": 1, \"boundary_score\": 1.0, \"rolling_avg_score\": 1.0, \"start_issue\": \"1962-03-12\", \"temp_issue_number\": 10.0}, {\"page_number\": 385, \"predicted_boundary\": 17, \"boundary_score\": 1.0, \"rolling_avg_score\": 1.0, \"start_issue\": \"1962-03-12\", \"temp_issue_number\": 10.0}, {\"page_number\": 386, \"predicted_boundary\": 12, \"boundary_score\": 1.0, \"rolling_avg_score\": 1.0, \"start_issue\": \"1962-03-12\", \"temp_issue_number\": 10.0}, {\"page_number\": 387, \"predicted_boundary\": 1, \"boundary_score\": 1.6600000000000001, \"rolling_avg_score\": 1.1320000000000001, \"start_issue\": \"1962-03-12\", \"temp_issue_number\": 10.0}, {\"page_number\": 388, \"predicted_boundary\": 1, \"boundary_score\": 1.6600000000000001, \"rolling_avg_score\": 1.264, \"start_issue\": \"1962-03-12\", \"temp_issue_number\": 10.0}, {\"page_number\": 389, \"predicted_boundary\": 1, \"boundary_score\": 1.6600000000000001, \"rolling_avg_score\": 1.3960000000000001, \"start_issue\": \"1962-03-12\", \"temp_issue_number\": 10.0}, {\"page_number\": 390, \"predicted_boundary\": 1, \"boundary_score\": 1.6600000000000001, \"rolling_avg_score\": 1.528, \"start_issue\": \"1962-03-12\", \"temp_issue_number\": 10.0}, {\"page_number\": 391, \"predicted_boundary\": 1, \"boundary_score\": 3.0, \"rolling_avg_score\": 1.9280000000000002, \"start_issue\": \"1962-03-12\", \"temp_issue_number\": 10.0}, {\"page_number\": 392, \"predicted_boundary\": 1, \"boundary_score\": 2.0, \"rolling_avg_score\": 1.996, \"start_issue\": \"1962-03-12\", \"temp_issue_number\": 10.0}, {\"page_number\": 393, \"predicted_boundary\": 1, \"boundary_score\": 2.0, \"rolling_avg_score\": 2.064, \"start_issue\": \"1962-03-12\", \"temp_issue_number\": 10.0}, {\"page_number\": 394, \"predicted_boundary\": 1, \"boundary_score\": 2.0, \"rolling_avg_score\": 2.132, \"start_issue\": \"1962-03-12\", \"temp_issue_number\": 10.0}, {\"page_number\": 395, \"predicted_boundary\": 1, \"boundary_score\": 2.0, \"rolling_avg_score\": 2.2, \"start_issue\": \"1962-03-12\", \"temp_issue_number\": 10.0}, {\"page_number\": 396, \"predicted_boundary\": 1, \"boundary_score\": 2.0, \"rolling_avg_score\": 2.0, \"start_issue\": \"1962-03-12\", \"temp_issue_number\": 10.0}, {\"page_number\": 397, \"predicted_boundary\": 0, \"boundary_score\": 2.0, \"rolling_avg_score\": 2.0, \"start_issue\": \"1962-03-12\", \"temp_issue_number\": 10.0}, {\"page_number\": 398, \"predicted_boundary\": 1, \"boundary_score\": 1.0, \"rolling_avg_score\": 1.8, \"start_issue\": \"1962-03-12\", \"temp_issue_number\": 10.0}, {\"page_number\": 399, \"predicted_boundary\": 12, \"boundary_score\": 1.0, \"rolling_avg_score\": 1.6, \"start_issue\": \"1962-03-12\", \"temp_issue_number\": 10.0}, {\"page_number\": 400, \"predicted_boundary\": 1, \"boundary_score\": 1.0, \"rolling_avg_score\": 1.4, \"start_issue\": \"1962-03-12\", \"temp_issue_number\": 10.0}, {\"page_number\": 402, \"predicted_boundary\": 0, \"boundary_score\": 1.0, \"rolling_avg_score\": 1.2, \"start_issue\": \"1962-03-12\", \"temp_issue_number\": 10.0}, {\"page_number\": 403, \"predicted_boundary\": 2, \"boundary_score\": 1.0, \"rolling_avg_score\": 1.0, \"start_issue\": \"1962-03-19\", \"temp_issue_number\": 11.0}, {\"page_number\": 404, \"predicted_boundary\": 0, \"boundary_score\": 1.0, \"rolling_avg_score\": 1.0, \"start_issue\": \"1962-03-19\", \"temp_issue_number\": 11.0}, {\"page_number\": 405, \"predicted_boundary\": 0, \"boundary_score\": 1.0, \"rolling_avg_score\": 1.0, \"start_issue\": \"1962-03-19\", \"temp_issue_number\": 11.0}, {\"page_number\": 406, \"predicted_boundary\": 3, \"boundary_score\": 1.0, \"rolling_avg_score\": 1.0, \"start_issue\": \"1962-03-19\", \"temp_issue_number\": 11.0}, {\"page_number\": 408, \"predicted_boundary\": 4, \"boundary_score\": 1.0, \"rolling_avg_score\": 1.0, \"start_issue\": \"1962-03-19\", \"temp_issue_number\": 11.0}, {\"page_number\": 409, \"predicted_boundary\": 1, \"boundary_score\": 1.0, \"rolling_avg_score\": 1.0, \"start_issue\": \"1962-03-19\", \"temp_issue_number\": 11.0}, {\"page_number\": 410, \"predicted_boundary\": 6, \"boundary_score\": 1.0, \"rolling_avg_score\": 1.0, \"start_issue\": \"1962-03-19\", \"temp_issue_number\": 11.0}, {\"page_number\": 411, \"predicted_boundary\": 19, \"boundary_score\": 1.0, \"rolling_avg_score\": 1.0, \"start_issue\": \"1962-03-19\", \"temp_issue_number\": 11.0}, {\"page_number\": 412, \"predicted_boundary\": 4, \"boundary_score\": 1.0, \"rolling_avg_score\": 1.0, \"start_issue\": \"1962-03-19\", \"temp_issue_number\": 11.0}, {\"page_number\": 413, \"predicted_boundary\": 1, \"boundary_score\": 1.0, \"rolling_avg_score\": 1.0, \"start_issue\": \"1962-03-19\", \"temp_issue_number\": 11.0}, {\"page_number\": 414, \"predicted_boundary\": 1, \"boundary_score\": 1.0, \"rolling_avg_score\": 1.0, \"start_issue\": \"1962-03-19\", \"temp_issue_number\": 11.0}, {\"page_number\": 415, \"predicted_boundary\": 1, \"boundary_score\": 1.0, \"rolling_avg_score\": 1.0, \"start_issue\": \"1962-03-19\", \"temp_issue_number\": 11.0}, {\"page_number\": 416, \"predicted_boundary\": 1, \"boundary_score\": 1.0, \"rolling_avg_score\": 1.0, \"start_issue\": \"1962-03-19\", \"temp_issue_number\": 11.0}, {\"page_number\": 417, \"predicted_boundary\": 12, \"boundary_score\": 1.0, \"rolling_avg_score\": 1.0, \"start_issue\": \"1962-03-19\", \"temp_issue_number\": 11.0}, {\"page_number\": 418, \"predicted_boundary\": 0, \"boundary_score\": 2.0, \"rolling_avg_score\": 1.2, \"start_issue\": \"1962-03-19\", \"temp_issue_number\": 11.0}, {\"page_number\": 419, \"predicted_boundary\": 0, \"boundary_score\": 1.3399999999999999, \"rolling_avg_score\": 1.268, \"start_issue\": \"1962-03-19\", \"temp_issue_number\": 11.0}, {\"page_number\": 420, \"predicted_boundary\": 1, \"boundary_score\": 1.3399999999999999, \"rolling_avg_score\": 1.3359999999999999, \"start_issue\": \"1962-03-19\", \"temp_issue_number\": 11.0}, {\"page_number\": 421, \"predicted_boundary\": 13, \"boundary_score\": 1.0, \"rolling_avg_score\": 1.3359999999999999, \"start_issue\": \"1962-03-19\", \"temp_issue_number\": 11.0}, {\"page_number\": 422, \"predicted_boundary\": 0, \"boundary_score\": 1.0, \"rolling_avg_score\": 1.3359999999999999, \"start_issue\": \"1962-03-19\", \"temp_issue_number\": 11.0}, {\"page_number\": 423, \"predicted_boundary\": 14, \"boundary_score\": 1.0, \"rolling_avg_score\": 1.136, \"start_issue\": \"1962-03-19\", \"temp_issue_number\": 11.0}, {\"page_number\": 424, \"predicted_boundary\": 4, \"boundary_score\": 1.0, \"rolling_avg_score\": 1.068, \"start_issue\": \"1962-03-19\", \"temp_issue_number\": 11.0}, {\"page_number\": 425, \"predicted_boundary\": 9, \"boundary_score\": 1.0, \"rolling_avg_score\": 1.0, \"start_issue\": \"1962-03-19\", \"temp_issue_number\": 11.0}, {\"page_number\": 426, \"predicted_boundary\": 1, \"boundary_score\": 1.0, \"rolling_avg_score\": 1.0, \"start_issue\": \"1962-03-19\", \"temp_issue_number\": 11.0}, {\"page_number\": 427, \"predicted_boundary\": 3, \"boundary_score\": 1.0, \"rolling_avg_score\": 1.0, \"start_issue\": \"1962-03-19\", \"temp_issue_number\": 11.0}, {\"page_number\": 428, \"predicted_boundary\": 3, \"boundary_score\": 1.0, \"rolling_avg_score\": 1.0, \"start_issue\": \"1962-03-19\", \"temp_issue_number\": 11.0}, {\"page_number\": 429, \"predicted_boundary\": 2, \"boundary_score\": 1.0, \"rolling_avg_score\": 1.0, \"start_issue\": \"1962-03-19\", \"temp_issue_number\": 11.0}, {\"page_number\": 430, \"predicted_boundary\": 0, \"boundary_score\": 1.0, \"rolling_avg_score\": 1.0, \"start_issue\": \"1962-03-19\", \"temp_issue_number\": 11.0}, {\"page_number\": 431, \"predicted_boundary\": 0, \"boundary_score\": 1.0, \"rolling_avg_score\": 1.0, \"start_issue\": \"1962-03-19\", \"temp_issue_number\": 11.0}, {\"page_number\": 432, \"predicted_boundary\": 0, \"boundary_score\": 1.0, \"rolling_avg_score\": 1.0, \"start_issue\": \"1962-03-19\", \"temp_issue_number\": 11.0}, {\"page_number\": 433, \"predicted_boundary\": 19, \"boundary_score\": 1.0, \"rolling_avg_score\": 1.0, \"start_issue\": \"1962-03-19\", \"temp_issue_number\": 11.0}, {\"page_number\": 434, \"predicted_boundary\": 0, \"boundary_score\": 2.0, \"rolling_avg_score\": 1.2, \"start_issue\": \"1962-03-19\", \"temp_issue_number\": 11.0}, {\"page_number\": 435, \"predicted_boundary\": 1, \"boundary_score\": 1.0, \"rolling_avg_score\": 1.2, \"start_issue\": \"1962-03-19\", \"temp_issue_number\": 11.0}, {\"page_number\": 436, \"predicted_boundary\": 33, \"boundary_score\": 1.0, \"rolling_avg_score\": 1.2, \"start_issue\": \"1962-03-19\", \"temp_issue_number\": 11.0}, {\"page_number\": 438, \"predicted_boundary\": 0, \"boundary_score\": 1.0, \"rolling_avg_score\": 1.2, \"start_issue\": \"1962-03-19\", \"temp_issue_number\": 11.0}, {\"page_number\": 439, \"predicted_boundary\": 2, \"boundary_score\": 1.0, \"rolling_avg_score\": 1.2, \"start_issue\": \"1962-03-26\", \"temp_issue_number\": 12.0}, {\"page_number\": 441, \"predicted_boundary\": 0, \"boundary_score\": 1.0, \"rolling_avg_score\": 1.0, \"start_issue\": \"1962-03-26\", \"temp_issue_number\": 12.0}, {\"page_number\": 442, \"predicted_boundary\": 0, \"boundary_score\": 1.0, \"rolling_avg_score\": 1.0, \"start_issue\": \"1962-03-26\", \"temp_issue_number\": 12.0}, {\"page_number\": 443, \"predicted_boundary\": 0, \"boundary_score\": 1.0, \"rolling_avg_score\": 1.0, \"start_issue\": \"1962-03-26\", \"temp_issue_number\": 12.0}, {\"page_number\": 444, \"predicted_boundary\": 0, \"boundary_score\": 1.0, \"rolling_avg_score\": 1.0, \"start_issue\": \"1962-03-26\", \"temp_issue_number\": 12.0}, {\"page_number\": 445, \"predicted_boundary\": 1, \"boundary_score\": 1.0, \"rolling_avg_score\": 1.0, \"start_issue\": \"1962-03-26\", \"temp_issue_number\": 12.0}, {\"page_number\": 446, \"predicted_boundary\": 1, \"boundary_score\": 1.0, \"rolling_avg_score\": 1.0, \"start_issue\": \"1962-03-26\", \"temp_issue_number\": 12.0}, {\"page_number\": 447, \"predicted_boundary\": 1, \"boundary_score\": 1.0, \"rolling_avg_score\": 1.0, \"start_issue\": \"1962-03-26\", \"temp_issue_number\": 12.0}, {\"page_number\": 448, \"predicted_boundary\": 14, \"boundary_score\": 1.0, \"rolling_avg_score\": 1.0, \"start_issue\": \"1962-03-26\", \"temp_issue_number\": 12.0}, {\"page_number\": 449, \"predicted_boundary\": 0, \"boundary_score\": 1.0, \"rolling_avg_score\": 1.0, \"start_issue\": \"1962-03-26\", \"temp_issue_number\": 12.0}, {\"page_number\": 450, \"predicted_boundary\": 1, \"boundary_score\": 1.6600000000000001, \"rolling_avg_score\": 1.1320000000000001, \"start_issue\": \"1962-03-26\", \"temp_issue_number\": 12.0}, {\"page_number\": 451, \"predicted_boundary\": 1, \"boundary_score\": 1.6600000000000001, \"rolling_avg_score\": 1.264, \"start_issue\": \"1962-03-26\", \"temp_issue_number\": 12.0}, {\"page_number\": 452, \"predicted_boundary\": 1, \"boundary_score\": 2.0, \"rolling_avg_score\": 1.464, \"start_issue\": \"1962-03-26\", \"temp_issue_number\": 12.0}, {\"page_number\": 453, \"predicted_boundary\": 0, \"boundary_score\": 2.0, \"rolling_avg_score\": 1.6640000000000001, \"start_issue\": \"1962-03-26\", \"temp_issue_number\": 12.0}, {\"page_number\": 454, \"predicted_boundary\": 0, \"boundary_score\": 1.3399999999999999, \"rolling_avg_score\": 1.732, \"start_issue\": \"1962-03-26\", \"temp_issue_number\": 12.0}, {\"page_number\": 455, \"predicted_boundary\": 1, \"boundary_score\": 1.3399999999999999, \"rolling_avg_score\": 1.668, \"start_issue\": \"1962-03-26\", \"temp_issue_number\": 12.0}, {\"page_number\": 456, \"predicted_boundary\": 4, \"boundary_score\": 1.0, \"rolling_avg_score\": 1.536, \"start_issue\": \"1962-03-26\", \"temp_issue_number\": 12.0}, {\"page_number\": 457, \"predicted_boundary\": 7, \"boundary_score\": 1.0, \"rolling_avg_score\": 1.3359999999999999, \"start_issue\": \"1962-03-26\", \"temp_issue_number\": 12.0}, {\"page_number\": 458, \"predicted_boundary\": 0, \"boundary_score\": 2.0, \"rolling_avg_score\": 1.3359999999999999, \"start_issue\": \"1962-03-26\", \"temp_issue_number\": 12.0}, {\"page_number\": 459, \"predicted_boundary\": 10, \"boundary_score\": 1.0, \"rolling_avg_score\": 1.268, \"start_issue\": \"1962-03-26\", \"temp_issue_number\": 12.0}, {\"page_number\": 460, \"predicted_boundary\": 1, \"boundary_score\": 1.0, \"rolling_avg_score\": 1.2, \"start_issue\": \"1962-03-26\", \"temp_issue_number\": 12.0}, {\"page_number\": 461, \"predicted_boundary\": 1, \"boundary_score\": 1.0, \"rolling_avg_score\": 1.2, \"start_issue\": \"1962-03-26\", \"temp_issue_number\": 12.0}, {\"page_number\": 462, \"predicted_boundary\": 4, \"boundary_score\": 1.0, \"rolling_avg_score\": 1.2, \"start_issue\": \"1962-03-26\", \"temp_issue_number\": 12.0}, {\"page_number\": 463, \"predicted_boundary\": 1, \"boundary_score\": 1.6600000000000001, \"rolling_avg_score\": 1.1320000000000001, \"start_issue\": \"1962-03-26\", \"temp_issue_number\": 12.0}, {\"page_number\": 464, \"predicted_boundary\": 1, \"boundary_score\": 2.0, \"rolling_avg_score\": 1.332, \"start_issue\": \"1962-03-26\", \"temp_issue_number\": 12.0}, {\"page_number\": 465, \"predicted_boundary\": 1, \"boundary_score\": 1.3399999999999999, \"rolling_avg_score\": 1.4, \"start_issue\": \"1962-03-26\", \"temp_issue_number\": 12.0}, {\"page_number\": 466, \"predicted_boundary\": 4, \"boundary_score\": 1.0, \"rolling_avg_score\": 1.4, \"start_issue\": \"1962-03-26\", \"temp_issue_number\": 12.0}, {\"page_number\": 467, \"predicted_boundary\": 7, \"boundary_score\": 2.0, \"rolling_avg_score\": 1.6, \"start_issue\": \"1962-03-26\", \"temp_issue_number\": 12.0}, {\"page_number\": 468, \"predicted_boundary\": 7, \"boundary_score\": 1.3399999999999999, \"rolling_avg_score\": 1.536, \"start_issue\": \"1962-03-26\", \"temp_issue_number\": 12.0}, {\"page_number\": 469, \"predicted_boundary\": 0, \"boundary_score\": 2.0, \"rolling_avg_score\": 1.536, \"start_issue\": \"1962-03-26\", \"temp_issue_number\": 12.0}, {\"page_number\": 470, \"predicted_boundary\": 0, \"boundary_score\": 1.3399999999999999, \"rolling_avg_score\": 1.536, \"start_issue\": \"1962-03-26\", \"temp_issue_number\": 12.0}, {\"page_number\": 471, \"predicted_boundary\": 1, \"boundary_score\": 1.3399999999999999, \"rolling_avg_score\": 1.6039999999999999, \"start_issue\": \"1962-03-26\", \"temp_issue_number\": 12.0}, {\"page_number\": 472, \"predicted_boundary\": 1, \"boundary_score\": 1.3399999999999999, \"rolling_avg_score\": 1.472, \"start_issue\": \"1962-03-26\", \"temp_issue_number\": 12.0}, {\"page_number\": 473, \"predicted_boundary\": 0, \"boundary_score\": 1.0, \"rolling_avg_score\": 1.404, \"start_issue\": \"1962-03-26\", \"temp_issue_number\": 12.0}, {\"page_number\": 475, \"predicted_boundary\": 2, \"boundary_score\": 1.0, \"rolling_avg_score\": 1.204, \"start_issue\": \"1962-04-02\", \"temp_issue_number\": 13.0}, {\"page_number\": 476, \"predicted_boundary\": 0, \"boundary_score\": 1.0, \"rolling_avg_score\": 1.136, \"start_issue\": \"1962-04-02\", \"temp_issue_number\": 13.0}, {\"page_number\": 477, \"predicted_boundary\": 0, \"boundary_score\": 1.0, \"rolling_avg_score\": 1.068, \"start_issue\": \"1962-04-02\", \"temp_issue_number\": 13.0}, {\"page_number\": 478, \"predicted_boundary\": 50, \"boundary_score\": 1.0, \"rolling_avg_score\": 1.0, \"start_issue\": \"1962-04-02\", \"temp_issue_number\": 13.0}, {\"page_number\": 479, \"predicted_boundary\": 0, \"boundary_score\": 1.0, \"rolling_avg_score\": 1.0, \"start_issue\": \"1962-04-02\", \"temp_issue_number\": 13.0}, {\"page_number\": 480, \"predicted_boundary\": 2, \"boundary_score\": 1.0, \"rolling_avg_score\": 1.0, \"start_issue\": \"1962-04-02\", \"temp_issue_number\": 13.0}, {\"page_number\": 481, \"predicted_boundary\": 2, \"boundary_score\": 1.0, \"rolling_avg_score\": 1.0, \"start_issue\": \"1962-04-02\", \"temp_issue_number\": 13.0}, {\"page_number\": 482, \"predicted_boundary\": 4, \"boundary_score\": 1.0, \"rolling_avg_score\": 1.0, \"start_issue\": \"1962-04-02\", \"temp_issue_number\": 13.0}, {\"page_number\": 483, \"predicted_boundary\": 1, \"boundary_score\": 1.0, \"rolling_avg_score\": 1.0, \"start_issue\": \"1962-04-02\", \"temp_issue_number\": 13.0}, {\"page_number\": 484, \"predicted_boundary\": 8, \"boundary_score\": 1.0, \"rolling_avg_score\": 1.0, \"start_issue\": \"1962-04-02\", \"temp_issue_number\": 13.0}, {\"page_number\": 485, \"predicted_boundary\": 0, \"boundary_score\": 1.0, \"rolling_avg_score\": 1.0, \"start_issue\": \"1962-04-02\", \"temp_issue_number\": 13.0}, {\"page_number\": 486, \"predicted_boundary\": 1, \"boundary_score\": 1.0, \"rolling_avg_score\": 1.0, \"start_issue\": \"1962-04-02\", \"temp_issue_number\": 13.0}, {\"page_number\": 487, \"predicted_boundary\": 1, \"boundary_score\": 1.0, \"rolling_avg_score\": 1.0, \"start_issue\": \"1962-04-02\", \"temp_issue_number\": 13.0}, {\"page_number\": 488, \"predicted_boundary\": 12, \"boundary_score\": 1.0, \"rolling_avg_score\": 1.0, \"start_issue\": \"1962-04-02\", \"temp_issue_number\": 13.0}, {\"page_number\": 489, \"predicted_boundary\": 2, \"boundary_score\": 1.0, \"rolling_avg_score\": 1.0, \"start_issue\": \"1962-04-02\", \"temp_issue_number\": 13.0}, {\"page_number\": 490, \"predicted_boundary\": 1, \"boundary_score\": 1.0, \"rolling_avg_score\": 1.0, \"start_issue\": \"1962-04-02\", \"temp_issue_number\": 13.0}, {\"page_number\": 491, \"predicted_boundary\": 2, \"boundary_score\": 1.0, \"rolling_avg_score\": 1.0, \"start_issue\": \"1962-04-02\", \"temp_issue_number\": 13.0}, {\"page_number\": 492, \"predicted_boundary\": 0, \"boundary_score\": 1.0, \"rolling_avg_score\": 1.0, \"start_issue\": \"1962-04-02\", \"temp_issue_number\": 13.0}, {\"page_number\": 493, \"predicted_boundary\": 1, \"boundary_score\": 1.0, \"rolling_avg_score\": 1.0, \"start_issue\": \"1962-04-02\", \"temp_issue_number\": 13.0}, {\"page_number\": 494, \"predicted_boundary\": 18, \"boundary_score\": 1.0, \"rolling_avg_score\": 1.0, \"start_issue\": \"1962-04-02\", \"temp_issue_number\": 13.0}, {\"page_number\": 495, \"predicted_boundary\": 1, \"boundary_score\": 1.0, \"rolling_avg_score\": 1.0, \"start_issue\": \"1962-04-02\", \"temp_issue_number\": 13.0}, {\"page_number\": 496, \"predicted_boundary\": 0, \"boundary_score\": 1.0, \"rolling_avg_score\": 1.0, \"start_issue\": \"1962-04-02\", \"temp_issue_number\": 13.0}, {\"page_number\": 497, \"predicted_boundary\": 17, \"boundary_score\": 1.0, \"rolling_avg_score\": 1.0, \"start_issue\": \"1962-04-02\", \"temp_issue_number\": 13.0}, {\"page_number\": 498, \"predicted_boundary\": 1, \"boundary_score\": 1.0, \"rolling_avg_score\": 1.0, \"start_issue\": \"1962-04-02\", \"temp_issue_number\": 13.0}, {\"page_number\": 499, \"predicted_boundary\": 1, \"boundary_score\": 1.0, \"rolling_avg_score\": 1.0, \"start_issue\": \"1962-04-02\", \"temp_issue_number\": 13.0}, {\"page_number\": 500, \"predicted_boundary\": 2, \"boundary_score\": 1.6600000000000001, \"rolling_avg_score\": 1.1320000000000001, \"start_issue\": \"1962-04-02\", \"temp_issue_number\": 13.0}, {\"page_number\": 501, \"predicted_boundary\": 2, \"boundary_score\": 1.6600000000000001, \"rolling_avg_score\": 1.264, \"start_issue\": \"1962-04-02\", \"temp_issue_number\": 13.0}, {\"page_number\": 502, \"predicted_boundary\": 1, \"boundary_score\": 1.6600000000000001, \"rolling_avg_score\": 1.3960000000000001, \"start_issue\": \"1962-04-02\", \"temp_issue_number\": 13.0}, {\"page_number\": 503, \"predicted_boundary\": 0, \"boundary_score\": 3.0, \"rolling_avg_score\": 1.796, \"start_issue\": \"1962-04-02\", \"temp_issue_number\": 13.0}, {\"page_number\": 504, \"predicted_boundary\": 1, \"boundary_score\": 1.3399999999999999, \"rolling_avg_score\": 1.864, \"start_issue\": \"1962-04-02\", \"temp_issue_number\": 13.0}, {\"page_number\": 505, \"predicted_boundary\": 200, \"boundary_score\": 1.0, \"rolling_avg_score\": 1.732, \"start_issue\": \"1962-04-02\", \"temp_issue_number\": 13.0}, {\"page_number\": 506, \"predicted_boundary\": 0, \"boundary_score\": 2.0, \"rolling_avg_score\": 1.8, \"start_issue\": \"1962-04-02\", \"temp_issue_number\": 13.0}, {\"page_number\": 507, \"predicted_boundary\": 0, \"boundary_score\": 1.3399999999999999, \"rolling_avg_score\": 1.736, \"start_issue\": \"1962-04-02\", \"temp_issue_number\": 13.0}, {\"page_number\": 508, \"predicted_boundary\": 32, \"boundary_score\": 1.0, \"rolling_avg_score\": 1.3359999999999999, \"start_issue\": \"1962-04-02\", \"temp_issue_number\": 13.0}, {\"page_number\": 509, \"predicted_boundary\": 0, \"boundary_score\": 1.0, \"rolling_avg_score\": 1.268, \"start_issue\": \"1962-04-02\", \"temp_issue_number\": 13.0}, {\"page_number\": 510, \"predicted_boundary\": 0, \"boundary_score\": 1.0, \"rolling_avg_score\": 1.268, \"start_issue\": \"1962-04-02\", \"temp_issue_number\": 13.0}, {\"page_number\": 511, \"predicted_boundary\": 9, \"boundary_score\": 1.0, \"rolling_avg_score\": 1.068, \"start_issue\": \"1962-04-09\", \"temp_issue_number\": 14.0}, {\"page_number\": 513, \"predicted_boundary\": 0, \"boundary_score\": 1.0, \"rolling_avg_score\": 1.0, \"start_issue\": \"1962-04-09\", \"temp_issue_number\": 14.0}, {\"page_number\": 514, \"predicted_boundary\": 0, \"boundary_score\": 1.0, \"rolling_avg_score\": 1.0, \"start_issue\": \"1962-04-09\", \"temp_issue_number\": 14.0}, {\"page_number\": 516, \"predicted_boundary\": 20, \"boundary_score\": 1.0, \"rolling_avg_score\": 1.0, \"start_issue\": \"1962-04-09\", \"temp_issue_number\": 14.0}, {\"page_number\": 517, \"predicted_boundary\": 0, \"boundary_score\": 1.0, \"rolling_avg_score\": 1.0, \"start_issue\": \"1962-04-09\", \"temp_issue_number\": 14.0}, {\"page_number\": 518, \"predicted_boundary\": 1, \"boundary_score\": 1.0, \"rolling_avg_score\": 1.0, \"start_issue\": \"1962-04-09\", \"temp_issue_number\": 14.0}, {\"page_number\": 519, \"predicted_boundary\": 1, \"boundary_score\": 1.0, \"rolling_avg_score\": 1.0, \"start_issue\": \"1962-04-09\", \"temp_issue_number\": 14.0}, {\"page_number\": 520, \"predicted_boundary\": 1, \"boundary_score\": 1.0, \"rolling_avg_score\": 1.0, \"start_issue\": \"1962-04-09\", \"temp_issue_number\": 14.0}, {\"page_number\": 521, \"predicted_boundary\": 0, \"boundary_score\": 1.0, \"rolling_avg_score\": 1.0, \"start_issue\": \"1962-04-09\", \"temp_issue_number\": 14.0}, {\"page_number\": 522, \"predicted_boundary\": 0, \"boundary_score\": 1.0, \"rolling_avg_score\": 1.0, \"start_issue\": \"1962-04-09\", \"temp_issue_number\": 14.0}, {\"page_number\": 523, \"predicted_boundary\": 54, \"boundary_score\": 1.0, \"rolling_avg_score\": 1.0, \"start_issue\": \"1962-04-09\", \"temp_issue_number\": 14.0}, {\"page_number\": 524, \"predicted_boundary\": 5, \"boundary_score\": 1.0, \"rolling_avg_score\": 1.0, \"start_issue\": \"1962-04-09\", \"temp_issue_number\": 14.0}, {\"page_number\": 525, \"predicted_boundary\": 1, \"boundary_score\": 1.0, \"rolling_avg_score\": 1.0, \"start_issue\": \"1962-04-09\", \"temp_issue_number\": 14.0}, {\"page_number\": 526, \"predicted_boundary\": 14, \"boundary_score\": 1.0, \"rolling_avg_score\": 1.0, \"start_issue\": \"1962-04-09\", \"temp_issue_number\": 14.0}, {\"page_number\": 527, \"predicted_boundary\": 4, \"boundary_score\": 1.0, \"rolling_avg_score\": 1.0, \"start_issue\": \"1962-04-09\", \"temp_issue_number\": 14.0}, {\"page_number\": 528, \"predicted_boundary\": 16, \"boundary_score\": 1.0, \"rolling_avg_score\": 1.0, \"start_issue\": \"1962-04-09\", \"temp_issue_number\": 14.0}, {\"page_number\": 529, \"predicted_boundary\": 1, \"boundary_score\": 1.0, \"rolling_avg_score\": 1.0, \"start_issue\": \"1962-04-09\", \"temp_issue_number\": 14.0}, {\"page_number\": 530, \"predicted_boundary\": 1, \"boundary_score\": 1.0, \"rolling_avg_score\": 1.0, \"start_issue\": \"1962-04-09\", \"temp_issue_number\": 14.0}, {\"page_number\": 531, \"predicted_boundary\": 9, \"boundary_score\": 1.0, \"rolling_avg_score\": 1.0, \"start_issue\": \"1962-04-09\", \"temp_issue_number\": 14.0}, {\"page_number\": 532, \"predicted_boundary\": 7, \"boundary_score\": 1.0, \"rolling_avg_score\": 1.0, \"start_issue\": \"1962-04-09\", \"temp_issue_number\": 14.0}, {\"page_number\": 533, \"predicted_boundary\": 1, \"boundary_score\": 1.0, \"rolling_avg_score\": 1.0, \"start_issue\": \"1962-04-09\", \"temp_issue_number\": 14.0}, {\"page_number\": 534, \"predicted_boundary\": 0, \"boundary_score\": 2.0, \"rolling_avg_score\": 1.2, \"start_issue\": \"1962-04-09\", \"temp_issue_number\": 14.0}, {\"page_number\": 535, \"predicted_boundary\": 9, \"boundary_score\": 1.0, \"rolling_avg_score\": 1.2, \"start_issue\": \"1962-04-09\", \"temp_issue_number\": 14.0}, {\"page_number\": 536, \"predicted_boundary\": 1, \"boundary_score\": 1.0, \"rolling_avg_score\": 1.2, \"start_issue\": \"1962-04-09\", \"temp_issue_number\": 14.0}, {\"page_number\": 537, \"predicted_boundary\": 2, \"boundary_score\": 1.0, \"rolling_avg_score\": 1.2, \"start_issue\": \"1962-04-09\", \"temp_issue_number\": 14.0}, {\"page_number\": 538, \"predicted_boundary\": 1, \"boundary_score\": 1.0, \"rolling_avg_score\": 1.2, \"start_issue\": \"1962-04-09\", \"temp_issue_number\": 14.0}, {\"page_number\": 539, \"predicted_boundary\": 5, \"boundary_score\": 1.0, \"rolling_avg_score\": 1.0, \"start_issue\": \"1962-04-09\", \"temp_issue_number\": 14.0}, {\"page_number\": 540, \"predicted_boundary\": 0, \"boundary_score\": 1.0, \"rolling_avg_score\": 1.0, \"start_issue\": \"1962-04-09\", \"temp_issue_number\": 14.0}, {\"page_number\": 541, \"predicted_boundary\": 5, \"boundary_score\": 1.0, \"rolling_avg_score\": 1.0, \"start_issue\": \"1962-04-09\", \"temp_issue_number\": 14.0}, {\"page_number\": 542, \"predicted_boundary\": 1, \"boundary_score\": 1.0, \"rolling_avg_score\": 1.0, \"start_issue\": \"1962-04-09\", \"temp_issue_number\": 14.0}, {\"page_number\": 543, \"predicted_boundary\": 0, \"boundary_score\": 1.0, \"rolling_avg_score\": 1.0, \"start_issue\": \"1962-04-09\", \"temp_issue_number\": 14.0}, {\"page_number\": 544, \"predicted_boundary\": 1, \"boundary_score\": 1.0, \"rolling_avg_score\": 1.0, \"start_issue\": \"1962-04-09\", \"temp_issue_number\": 14.0}, {\"page_number\": 546, \"predicted_boundary\": 0, \"boundary_score\": 1.0, \"rolling_avg_score\": 1.0, \"start_issue\": \"1962-04-09\", \"temp_issue_number\": 14.0}, {\"page_number\": 547, \"predicted_boundary\": 10, \"boundary_score\": 1.0, \"rolling_avg_score\": 1.0, \"start_issue\": \"1962-04-09\", \"temp_issue_number\": 14.0}, {\"page_number\": 548, \"predicted_boundary\": 0, \"boundary_score\": 1.0, \"rolling_avg_score\": 1.0, \"start_issue\": \"1962-04-09\", \"temp_issue_number\": 14.0}, {\"page_number\": 549, \"predicted_boundary\": 0, \"boundary_score\": 1.0, \"rolling_avg_score\": 1.0, \"start_issue\": \"1962-04-16\", \"temp_issue_number\": 15.0}, {\"page_number\": 550, \"predicted_boundary\": 1, \"boundary_score\": 1.0, \"rolling_avg_score\": 1.0, \"start_issue\": \"1962-04-16\", \"temp_issue_number\": 15.0}, {\"page_number\": 551, \"predicted_boundary\": 0, \"boundary_score\": 1.0, \"rolling_avg_score\": 1.0, \"start_issue\": \"1962-04-16\", \"temp_issue_number\": 15.0}, {\"page_number\": 552, \"predicted_boundary\": 2, \"boundary_score\": 1.0, \"rolling_avg_score\": 1.0, \"start_issue\": \"1962-04-16\", \"temp_issue_number\": 15.0}, {\"page_number\": 553, \"predicted_boundary\": 16, \"boundary_score\": 1.0, \"rolling_avg_score\": 1.0, \"start_issue\": \"1962-04-16\", \"temp_issue_number\": 15.0}, {\"page_number\": 554, \"predicted_boundary\": 1, \"boundary_score\": 2.66, \"rolling_avg_score\": 1.332, \"start_issue\": \"1962-04-16\", \"temp_issue_number\": 15.0}, {\"page_number\": 555, \"predicted_boundary\": 1, \"boundary_score\": 2.0, \"rolling_avg_score\": 1.532, \"start_issue\": \"1962-04-16\", \"temp_issue_number\": 15.0}, {\"page_number\": 556, \"predicted_boundary\": 1, \"boundary_score\": 2.34, \"rolling_avg_score\": 1.8, \"start_issue\": \"1962-04-16\", \"temp_issue_number\": 15.0}, {\"page_number\": 557, \"predicted_boundary\": 3, \"boundary_score\": 1.0, \"rolling_avg_score\": 1.8, \"start_issue\": \"1962-04-16\", \"temp_issue_number\": 15.0}, {\"page_number\": 558, \"predicted_boundary\": 7, \"boundary_score\": 1.0, \"rolling_avg_score\": 1.8, \"start_issue\": \"1962-04-16\", \"temp_issue_number\": 15.0}, {\"page_number\": 559, \"predicted_boundary\": 7, \"boundary_score\": 1.0, \"rolling_avg_score\": 1.468, \"start_issue\": \"1962-04-16\", \"temp_issue_number\": 15.0}, {\"page_number\": 560, \"predicted_boundary\": 12, \"boundary_score\": 1.0, \"rolling_avg_score\": 1.268, \"start_issue\": \"1962-04-16\", \"temp_issue_number\": 15.0}, {\"page_number\": 561, \"predicted_boundary\": 0, \"boundary_score\": 1.0, \"rolling_avg_score\": 1.0, \"start_issue\": \"1962-04-16\", \"temp_issue_number\": 15.0}, {\"page_number\": 562, \"predicted_boundary\": 0, \"boundary_score\": 1.0, \"rolling_avg_score\": 1.0, \"start_issue\": \"1962-04-16\", \"temp_issue_number\": 15.0}, {\"page_number\": 563, \"predicted_boundary\": 1, \"boundary_score\": 1.0, \"rolling_avg_score\": 1.0, \"start_issue\": \"1962-04-16\", \"temp_issue_number\": 15.0}, {\"page_number\": 564, \"predicted_boundary\": 0, \"boundary_score\": 1.0, \"rolling_avg_score\": 1.0, \"start_issue\": \"1962-04-16\", \"temp_issue_number\": 15.0}, {\"page_number\": 565, \"predicted_boundary\": 7, \"boundary_score\": 1.0, \"rolling_avg_score\": 1.0, \"start_issue\": \"1962-04-16\", \"temp_issue_number\": 15.0}, {\"page_number\": 566, \"predicted_boundary\": 28, \"boundary_score\": 1.0, \"rolling_avg_score\": 1.0, \"start_issue\": \"1962-04-16\", \"temp_issue_number\": 15.0}, {\"page_number\": 567, \"predicted_boundary\": 1, \"boundary_score\": 1.0, \"rolling_avg_score\": 1.0, \"start_issue\": \"1962-04-16\", \"temp_issue_number\": 15.0}, {\"page_number\": 568, \"predicted_boundary\": 0, \"boundary_score\": 1.0, \"rolling_avg_score\": 1.0, \"start_issue\": \"1962-04-16\", \"temp_issue_number\": 15.0}, {\"page_number\": 569, \"predicted_boundary\": 21, \"boundary_score\": 2.0, \"rolling_avg_score\": 1.2, \"start_issue\": \"1962-04-16\", \"temp_issue_number\": 15.0}, {\"page_number\": 570, \"predicted_boundary\": 9, \"boundary_score\": 1.0, \"rolling_avg_score\": 1.2, \"start_issue\": \"1962-04-16\", \"temp_issue_number\": 15.0}, {\"page_number\": 571, \"predicted_boundary\": 1, \"boundary_score\": 1.0, \"rolling_avg_score\": 1.2, \"start_issue\": \"1962-04-16\", \"temp_issue_number\": 15.0}, {\"page_number\": 572, \"predicted_boundary\": 4, \"boundary_score\": 1.0, \"rolling_avg_score\": 1.2, \"start_issue\": \"1962-04-16\", \"temp_issue_number\": 15.0}, {\"page_number\": 573, \"predicted_boundary\": 0, \"boundary_score\": 1.0, \"rolling_avg_score\": 1.2, \"start_issue\": \"1962-04-16\", \"temp_issue_number\": 15.0}, {\"page_number\": 574, \"predicted_boundary\": 1, \"boundary_score\": 1.0, \"rolling_avg_score\": 1.0, \"start_issue\": \"1962-04-16\", \"temp_issue_number\": 15.0}, {\"page_number\": 575, \"predicted_boundary\": 4, \"boundary_score\": 1.6600000000000001, \"rolling_avg_score\": 1.1320000000000001, \"start_issue\": \"1962-04-16\", \"temp_issue_number\": 15.0}, {\"page_number\": 576, \"predicted_boundary\": 4, \"boundary_score\": 2.0, \"rolling_avg_score\": 1.332, \"start_issue\": \"1962-04-16\", \"temp_issue_number\": 15.0}, {\"page_number\": 577, \"predicted_boundary\": 0, \"boundary_score\": 1.0, \"rolling_avg_score\": 1.332, \"start_issue\": \"1962-04-16\", \"temp_issue_number\": 15.0}, {\"page_number\": 578, \"predicted_boundary\": 8, \"boundary_score\": 1.0, \"rolling_avg_score\": 1.332, \"start_issue\": \"1962-04-16\", \"temp_issue_number\": 15.0}, {\"page_number\": 579, \"predicted_boundary\": 16, \"boundary_score\": 1.0, \"rolling_avg_score\": 1.332, \"start_issue\": \"1962-04-16\", \"temp_issue_number\": 15.0}, {\"page_number\": 580, \"predicted_boundary\": 19, \"boundary_score\": 1.0, \"rolling_avg_score\": 1.2, \"start_issue\": \"1962-04-16\", \"temp_issue_number\": 15.0}, {\"page_number\": 581, \"predicted_boundary\": 0, \"boundary_score\": 1.0, \"rolling_avg_score\": 1.0, \"start_issue\": \"1962-04-16\", \"temp_issue_number\": 15.0}, {\"page_number\": 582, \"predicted_boundary\": 0, \"boundary_score\": 1.0, \"rolling_avg_score\": 1.0, \"start_issue\": \"1962-04-16\", \"temp_issue_number\": 15.0}, {\"page_number\": 583, \"predicted_boundary\": 1, \"boundary_score\": 1.0, \"rolling_avg_score\": 1.0, \"start_issue\": \"1962-04-16\", \"temp_issue_number\": 15.0}, {\"page_number\": 585, \"predicted_boundary\": 0, \"boundary_score\": 1.0, \"rolling_avg_score\": 1.0, \"start_issue\": \"1962-04-23\", \"temp_issue_number\": 16.0}, {\"page_number\": 586, \"predicted_boundary\": 10, \"boundary_score\": 1.0, \"rolling_avg_score\": 1.0, \"start_issue\": \"1962-04-23\", \"temp_issue_number\": 16.0}, {\"page_number\": 589, \"predicted_boundary\": 5, \"boundary_score\": 1.0, \"rolling_avg_score\": 1.0, \"start_issue\": \"1962-04-23\", \"temp_issue_number\": 16.0}, {\"page_number\": 590, \"predicted_boundary\": 1, \"boundary_score\": 1.0, \"rolling_avg_score\": 1.0, \"start_issue\": \"1962-04-23\", \"temp_issue_number\": 16.0}, {\"page_number\": 591, \"predicted_boundary\": 0, \"boundary_score\": 1.0, \"rolling_avg_score\": 1.0, \"start_issue\": \"1962-04-23\", \"temp_issue_number\": 16.0}, {\"page_number\": 592, \"predicted_boundary\": 1, \"boundary_score\": 1.0, \"rolling_avg_score\": 1.0, \"start_issue\": \"1962-04-23\", \"temp_issue_number\": 16.0}, {\"page_number\": 593, \"predicted_boundary\": 7, \"boundary_score\": 1.0, \"rolling_avg_score\": 1.0, \"start_issue\": \"1962-04-23\", \"temp_issue_number\": 16.0}, {\"page_number\": 594, \"predicted_boundary\": 3, \"boundary_score\": 1.0, \"rolling_avg_score\": 1.0, \"start_issue\": \"1962-04-23\", \"temp_issue_number\": 16.0}, {\"page_number\": 595, \"predicted_boundary\": 23, \"boundary_score\": 1.0, \"rolling_avg_score\": 1.0, \"start_issue\": \"1962-04-23\", \"temp_issue_number\": 16.0}, {\"page_number\": 596, \"predicted_boundary\": 0, \"boundary_score\": 1.0, \"rolling_avg_score\": 1.0, \"start_issue\": \"1962-04-23\", \"temp_issue_number\": 16.0}, {\"page_number\": 597, \"predicted_boundary\": 13, \"boundary_score\": 1.0, \"rolling_avg_score\": 1.0, \"start_issue\": \"1962-04-23\", \"temp_issue_number\": 16.0}, {\"page_number\": 598, \"predicted_boundary\": 1, \"boundary_score\": 1.0, \"rolling_avg_score\": 1.0, \"start_issue\": \"1962-04-23\", \"temp_issue_number\": 16.0}, {\"page_number\": 599, \"predicted_boundary\": 1, \"boundary_score\": 1.0, \"rolling_avg_score\": 1.0, \"start_issue\": \"1962-04-23\", \"temp_issue_number\": 16.0}, {\"page_number\": 600, \"predicted_boundary\": 4, \"boundary_score\": 1.0, \"rolling_avg_score\": 1.0, \"start_issue\": \"1962-04-23\", \"temp_issue_number\": 16.0}, {\"page_number\": 601, \"predicted_boundary\": 1, \"boundary_score\": 2.0, \"rolling_avg_score\": 1.2, \"start_issue\": \"1962-04-23\", \"temp_issue_number\": 16.0}, {\"page_number\": 602, \"predicted_boundary\": 15, \"boundary_score\": 1.0, \"rolling_avg_score\": 1.2, \"start_issue\": \"1962-04-23\", \"temp_issue_number\": 16.0}, {\"page_number\": 603, \"predicted_boundary\": 2, \"boundary_score\": 1.0, \"rolling_avg_score\": 1.2, \"start_issue\": \"1962-04-23\", \"temp_issue_number\": 16.0}, {\"page_number\": 604, \"predicted_boundary\": 3, \"boundary_score\": 1.0, \"rolling_avg_score\": 1.2, \"start_issue\": \"1962-04-23\", \"temp_issue_number\": 16.0}, {\"page_number\": 605, \"predicted_boundary\": 1, \"boundary_score\": 1.0, \"rolling_avg_score\": 1.2, \"start_issue\": \"1962-04-23\", \"temp_issue_number\": 16.0}, {\"page_number\": 606, \"predicted_boundary\": 22, \"boundary_score\": 1.0, \"rolling_avg_score\": 1.0, \"start_issue\": \"1962-04-23\", \"temp_issue_number\": 16.0}, {\"page_number\": 607, \"predicted_boundary\": 0, \"boundary_score\": 1.0, \"rolling_avg_score\": 1.0, \"start_issue\": \"1962-04-23\", \"temp_issue_number\": 16.0}, {\"page_number\": 608, \"predicted_boundary\": 1, \"boundary_score\": 1.6600000000000001, \"rolling_avg_score\": 1.1320000000000001, \"start_issue\": \"1962-04-23\", \"temp_issue_number\": 16.0}, {\"page_number\": 609, \"predicted_boundary\": 1, \"boundary_score\": 1.6600000000000001, \"rolling_avg_score\": 1.264, \"start_issue\": \"1962-04-23\", \"temp_issue_number\": 16.0}, {\"page_number\": 610, \"predicted_boundary\": 1, \"boundary_score\": 1.6600000000000001, \"rolling_avg_score\": 1.3960000000000001, \"start_issue\": \"1962-04-23\", \"temp_issue_number\": 16.0}, {\"page_number\": 611, \"predicted_boundary\": 1, \"boundary_score\": 1.6600000000000001, \"rolling_avg_score\": 1.528, \"start_issue\": \"1962-04-23\", \"temp_issue_number\": 16.0}, {\"page_number\": 612, \"predicted_boundary\": 1, \"boundary_score\": 2.0, \"rolling_avg_score\": 1.7280000000000002, \"start_issue\": \"1962-04-23\", \"temp_issue_number\": 16.0}, {\"page_number\": 613, \"predicted_boundary\": 1, \"boundary_score\": 1.3399999999999999, \"rolling_avg_score\": 1.6640000000000001, \"start_issue\": \"1962-04-23\", \"temp_issue_number\": 16.0}, {\"page_number\": 614, \"predicted_boundary\": 22, \"boundary_score\": 1.0, \"rolling_avg_score\": 1.532, \"start_issue\": \"1962-04-23\", \"temp_issue_number\": 16.0}, {\"page_number\": 615, \"predicted_boundary\": 28, \"boundary_score\": 1.0, \"rolling_avg_score\": 1.4, \"start_issue\": \"1962-04-23\", \"temp_issue_number\": 16.0}, {\"page_number\": 616, \"predicted_boundary\": 1, \"boundary_score\": 1.0, \"rolling_avg_score\": 1.268, \"start_issue\": \"1962-04-23\", \"temp_issue_number\": 16.0}, {\"page_number\": 617, \"predicted_boundary\": 0, \"boundary_score\": 1.0, \"rolling_avg_score\": 1.068, \"start_issue\": \"1962-04-23\", \"temp_issue_number\": 16.0}, {\"page_number\": 619, \"predicted_boundary\": 2, \"boundary_score\": 1.0, \"rolling_avg_score\": 1.0, \"start_issue\": \"1962-04-23\", \"temp_issue_number\": 16.0}, {\"page_number\": 620, \"predicted_boundary\": 0, \"boundary_score\": 1.0, \"rolling_avg_score\": 1.0, \"start_issue\": \"1962-04-23\", \"temp_issue_number\": 16.0}, {\"page_number\": 621, \"predicted_boundary\": 1, \"boundary_score\": 2.0, \"rolling_avg_score\": 1.2, \"start_issue\": \"1962-04-23\", \"temp_issue_number\": 16.0}, {\"page_number\": 622, \"predicted_boundary\": 0, \"boundary_score\": 1.0, \"rolling_avg_score\": 1.2, \"start_issue\": \"1962-04-23\", \"temp_issue_number\": 16.0}, {\"page_number\": 623, \"predicted_boundary\": 0, \"boundary_score\": 1.0, \"rolling_avg_score\": 1.2, \"start_issue\": \"1962-04-30\", \"temp_issue_number\": 17.0}, {\"page_number\": 624, \"predicted_boundary\": 2, \"boundary_score\": 1.0, \"rolling_avg_score\": 1.2, \"start_issue\": \"1962-04-30\", \"temp_issue_number\": 17.0}, {\"page_number\": 625, \"predicted_boundary\": 28, \"boundary_score\": 1.0, \"rolling_avg_score\": 1.2, \"start_issue\": \"1962-04-30\", \"temp_issue_number\": 17.0}, {\"page_number\": 626, \"predicted_boundary\": 6, \"boundary_score\": 1.0, \"rolling_avg_score\": 1.0, \"start_issue\": \"1962-04-30\", \"temp_issue_number\": 17.0}, {\"page_number\": 627, \"predicted_boundary\": 8, \"boundary_score\": 1.6600000000000001, \"rolling_avg_score\": 1.1320000000000001, \"start_issue\": \"1962-04-30\", \"temp_issue_number\": 17.0}, {\"page_number\": 628, \"predicted_boundary\": 7, \"boundary_score\": 2.0, \"rolling_avg_score\": 1.332, \"start_issue\": \"1962-04-30\", \"temp_issue_number\": 17.0}, {\"page_number\": 629, \"predicted_boundary\": 3, \"boundary_score\": 1.0, \"rolling_avg_score\": 1.332, \"start_issue\": \"1962-04-30\", \"temp_issue_number\": 17.0}, {\"page_number\": 630, \"predicted_boundary\": 224, \"boundary_score\": 1.0, \"rolling_avg_score\": 1.332, \"start_issue\": \"1962-04-30\", \"temp_issue_number\": 17.0}, {\"page_number\": 631, \"predicted_boundary\": 3, \"boundary_score\": 1.0, \"rolling_avg_score\": 1.332, \"start_issue\": \"1962-04-30\", \"temp_issue_number\": 17.0}, {\"page_number\": 632, \"predicted_boundary\": 1, \"boundary_score\": 1.0, \"rolling_avg_score\": 1.2, \"start_issue\": \"1962-04-30\", \"temp_issue_number\": 17.0}, {\"page_number\": 633, \"predicted_boundary\": 12, \"boundary_score\": 1.0, \"rolling_avg_score\": 1.0, \"start_issue\": \"1962-04-30\", \"temp_issue_number\": 17.0}, {\"page_number\": 634, \"predicted_boundary\": 14, \"boundary_score\": 1.0, \"rolling_avg_score\": 1.0, \"start_issue\": \"1962-04-30\", \"temp_issue_number\": 17.0}, {\"page_number\": 635, \"predicted_boundary\": 1, \"boundary_score\": 1.0, \"rolling_avg_score\": 1.0, \"start_issue\": \"1962-04-30\", \"temp_issue_number\": 17.0}, {\"page_number\": 636, \"predicted_boundary\": 0, \"boundary_score\": 1.0, \"rolling_avg_score\": 1.0, \"start_issue\": \"1962-04-30\", \"temp_issue_number\": 17.0}, {\"page_number\": 637, \"predicted_boundary\": 17, \"boundary_score\": 1.0, \"rolling_avg_score\": 1.0, \"start_issue\": \"1962-04-30\", \"temp_issue_number\": 17.0}, {\"page_number\": 638, \"predicted_boundary\": 1, \"boundary_score\": 1.0, \"rolling_avg_score\": 1.0, \"start_issue\": \"1962-04-30\", \"temp_issue_number\": 17.0}, {\"page_number\": 639, \"predicted_boundary\": 1, \"boundary_score\": 1.0, \"rolling_avg_score\": 1.0, \"start_issue\": \"1962-04-30\", \"temp_issue_number\": 17.0}, {\"page_number\": 640, \"predicted_boundary\": 2, \"boundary_score\": 2.0, \"rolling_avg_score\": 1.2, \"start_issue\": \"1962-04-30\", \"temp_issue_number\": 17.0}, {\"page_number\": 641, \"predicted_boundary\": 9, \"boundary_score\": 1.0, \"rolling_avg_score\": 1.2, \"start_issue\": \"1962-04-30\", \"temp_issue_number\": 17.0}, {\"page_number\": 642, \"predicted_boundary\": 0, \"boundary_score\": 1.0, \"rolling_avg_score\": 1.2, \"start_issue\": \"1962-04-30\", \"temp_issue_number\": 17.0}, {\"page_number\": 643, \"predicted_boundary\": 10, \"boundary_score\": 1.0, \"rolling_avg_score\": 1.2, \"start_issue\": \"1962-04-30\", \"temp_issue_number\": 17.0}, {\"page_number\": 644, \"predicted_boundary\": 1, \"boundary_score\": 1.6600000000000001, \"rolling_avg_score\": 1.332, \"start_issue\": \"1962-04-30\", \"temp_issue_number\": 17.0}, {\"page_number\": 645, \"predicted_boundary\": 1, \"boundary_score\": 2.66, \"rolling_avg_score\": 1.464, \"start_issue\": \"1962-04-30\", \"temp_issue_number\": 17.0}, {\"page_number\": 646, \"predicted_boundary\": 0, \"boundary_score\": 2.0, \"rolling_avg_score\": 1.6640000000000001, \"start_issue\": \"1962-04-30\", \"temp_issue_number\": 17.0}, {\"page_number\": 647, \"predicted_boundary\": 0, \"boundary_score\": 1.3399999999999999, \"rolling_avg_score\": 1.732, \"start_issue\": \"1962-04-30\", \"temp_issue_number\": 17.0}, {\"page_number\": 648, \"predicted_boundary\": 1, \"boundary_score\": 1.3399999999999999, \"rolling_avg_score\": 1.8, \"start_issue\": \"1962-04-30\", \"temp_issue_number\": 17.0}, {\"page_number\": 649, \"predicted_boundary\": 1, \"boundary_score\": 1.3399999999999999, \"rolling_avg_score\": 1.736, \"start_issue\": \"1962-04-30\", \"temp_issue_number\": 17.0}, {\"page_number\": 650, \"predicted_boundary\": 11, \"boundary_score\": 1.0, \"rolling_avg_score\": 1.404, \"start_issue\": \"1962-04-30\", \"temp_issue_number\": 17.0}, {\"page_number\": 651, \"predicted_boundary\": 30, \"boundary_score\": 1.0, \"rolling_avg_score\": 1.204, \"start_issue\": \"1962-04-30\", \"temp_issue_number\": 17.0}, {\"page_number\": 652, \"predicted_boundary\": 32, \"boundary_score\": 1.0, \"rolling_avg_score\": 1.136, \"start_issue\": \"1962-04-30\", \"temp_issue_number\": 17.0}, {\"page_number\": 653, \"predicted_boundary\": 0, \"boundary_score\": 1.0, \"rolling_avg_score\": 1.068, \"start_issue\": \"1962-04-30\", \"temp_issue_number\": 17.0}, {\"page_number\": 654, \"predicted_boundary\": 0, \"boundary_score\": 1.0, \"rolling_avg_score\": 1.0, \"start_issue\": \"1962-04-30\", \"temp_issue_number\": 17.0}, {\"page_number\": 655, \"predicted_boundary\": 2, \"boundary_score\": 1.0, \"rolling_avg_score\": 1.0, \"start_issue\": \"1962-04-30\", \"temp_issue_number\": 17.0}, {\"page_number\": 656, \"predicted_boundary\": 0, \"boundary_score\": 1.0, \"rolling_avg_score\": 1.0, \"start_issue\": \"1962-04-30\", \"temp_issue_number\": 17.0}, {\"page_number\": 657, \"predicted_boundary\": 0, \"boundary_score\": 1.0, \"rolling_avg_score\": 1.0, \"start_issue\": \"1962-04-30\", \"temp_issue_number\": 17.0}, {\"page_number\": 658, \"predicted_boundary\": 0, \"boundary_score\": 1.0, \"rolling_avg_score\": 1.0, \"start_issue\": \"1962-04-30\", \"temp_issue_number\": 17.0}, {\"page_number\": 659, \"predicted_boundary\": 0, \"boundary_score\": 1.0, \"rolling_avg_score\": 1.0, \"start_issue\": \"1962-05-07\", \"temp_issue_number\": 18.0}, {\"page_number\": 660, \"predicted_boundary\": 1, \"boundary_score\": 1.0, \"rolling_avg_score\": 1.0, \"start_issue\": \"1962-05-07\", \"temp_issue_number\": 18.0}, {\"page_number\": 661, \"predicted_boundary\": 7, \"boundary_score\": 1.0, \"rolling_avg_score\": 1.0, \"start_issue\": \"1962-05-07\", \"temp_issue_number\": 18.0}, {\"page_number\": 662, \"predicted_boundary\": 1, \"boundary_score\": 1.0, \"rolling_avg_score\": 1.0, \"start_issue\": \"1962-05-07\", \"temp_issue_number\": 18.0}, {\"page_number\": 663, \"predicted_boundary\": 7, \"boundary_score\": 1.0, \"rolling_avg_score\": 1.0, \"start_issue\": \"1962-05-07\", \"temp_issue_number\": 18.0}, {\"page_number\": 664, \"predicted_boundary\": 3, \"boundary_score\": 1.0, \"rolling_avg_score\": 1.0, \"start_issue\": \"1962-05-07\", \"temp_issue_number\": 18.0}, {\"page_number\": 665, \"predicted_boundary\": 1, \"boundary_score\": 2.0, \"rolling_avg_score\": 1.2, \"start_issue\": \"1962-05-07\", \"temp_issue_number\": 18.0}, {\"page_number\": 666, \"predicted_boundary\": 1, \"boundary_score\": 1.3399999999999999, \"rolling_avg_score\": 1.268, \"start_issue\": \"1962-05-07\", \"temp_issue_number\": 18.0}, {\"page_number\": 667, \"predicted_boundary\": 1, \"boundary_score\": 1.3399999999999999, \"rolling_avg_score\": 1.3359999999999999, \"start_issue\": \"1962-05-07\", \"temp_issue_number\": 18.0}, {\"page_number\": 668, \"predicted_boundary\": 1, \"boundary_score\": 1.3399999999999999, \"rolling_avg_score\": 1.404, \"start_issue\": \"1962-05-07\", \"temp_issue_number\": 18.0}, {\"page_number\": 669, \"predicted_boundary\": 7, \"boundary_score\": 1.0, \"rolling_avg_score\": 1.404, \"start_issue\": \"1962-05-07\", \"temp_issue_number\": 18.0}, {\"page_number\": 670, \"predicted_boundary\": 1, \"boundary_score\": 1.0, \"rolling_avg_score\": 1.204, \"start_issue\": \"1962-05-07\", \"temp_issue_number\": 18.0}, {\"page_number\": 671, \"predicted_boundary\": 1, \"boundary_score\": 1.0, \"rolling_avg_score\": 1.136, \"start_issue\": \"1962-05-07\", \"temp_issue_number\": 18.0}, {\"page_number\": 672, \"predicted_boundary\": 1, \"boundary_score\": 1.0, \"rolling_avg_score\": 1.068, \"start_issue\": \"1962-05-07\", \"temp_issue_number\": 18.0}, {\"page_number\": 673, \"predicted_boundary\": 28, \"boundary_score\": 1.0, \"rolling_avg_score\": 1.0, \"start_issue\": \"1962-05-07\", \"temp_issue_number\": 18.0}, {\"page_number\": 674, \"predicted_boundary\": 18, \"boundary_score\": 1.0, \"rolling_avg_score\": 1.0, \"start_issue\": \"1962-05-07\", \"temp_issue_number\": 18.0}, {\"page_number\": 675, \"predicted_boundary\": 19, \"boundary_score\": 1.0, \"rolling_avg_score\": 1.0, \"start_issue\": \"1962-05-07\", \"temp_issue_number\": 18.0}, {\"page_number\": 676, \"predicted_boundary\": 16, \"boundary_score\": 1.0, \"rolling_avg_score\": 1.0, \"start_issue\": \"1962-05-07\", \"temp_issue_number\": 18.0}, {\"page_number\": 677, \"predicted_boundary\": 1, \"boundary_score\": 1.0, \"rolling_avg_score\": 1.0, \"start_issue\": \"1962-05-07\", \"temp_issue_number\": 18.0}, {\"page_number\": 678, \"predicted_boundary\": 1, \"boundary_score\": 1.0, \"rolling_avg_score\": 1.0, \"start_issue\": \"1962-05-07\", \"temp_issue_number\": 18.0}, {\"page_number\": 679, \"predicted_boundary\": 0, \"boundary_score\": 1.0, \"rolling_avg_score\": 1.0, \"start_issue\": \"1962-05-07\", \"temp_issue_number\": 18.0}, {\"page_number\": 680, \"predicted_boundary\": 1, \"boundary_score\": 1.0, \"rolling_avg_score\": 1.0, \"start_issue\": \"1962-05-07\", \"temp_issue_number\": 18.0}, {\"page_number\": 681, \"predicted_boundary\": 2, \"boundary_score\": 1.6600000000000001, \"rolling_avg_score\": 1.1320000000000001, \"start_issue\": \"1962-05-07\", \"temp_issue_number\": 18.0}, {\"page_number\": 682, \"predicted_boundary\": 1, \"boundary_score\": 1.6600000000000001, \"rolling_avg_score\": 1.264, \"start_issue\": \"1962-05-07\", \"temp_issue_number\": 18.0}, {\"page_number\": 683, \"predicted_boundary\": 1, \"boundary_score\": 1.6600000000000001, \"rolling_avg_score\": 1.3960000000000001, \"start_issue\": \"1962-05-07\", \"temp_issue_number\": 18.0}, {\"page_number\": 684, \"predicted_boundary\": 1, \"boundary_score\": 2.66, \"rolling_avg_score\": 1.7280000000000002, \"start_issue\": \"1962-05-07\", \"temp_issue_number\": 18.0}, {\"page_number\": 685, \"predicted_boundary\": 0, \"boundary_score\": 2.0, \"rolling_avg_score\": 1.9280000000000002, \"start_issue\": \"1962-05-07\", \"temp_issue_number\": 18.0}, {\"page_number\": 686, \"predicted_boundary\": 0, \"boundary_score\": 1.3399999999999999, \"rolling_avg_score\": 1.864, \"start_issue\": \"1962-05-07\", \"temp_issue_number\": 18.0}, {\"page_number\": 687, \"predicted_boundary\": 7, \"boundary_score\": 1.0, \"rolling_avg_score\": 1.732, \"start_issue\": \"1962-05-07\", \"temp_issue_number\": 18.0}, {\"page_number\": 688, \"predicted_boundary\": 3, \"boundary_score\": 1.0, \"rolling_avg_score\": 1.6, \"start_issue\": \"1962-05-07\", \"temp_issue_number\": 18.0}, {\"page_number\": 690, \"predicted_boundary\": 0, \"boundary_score\": 1.0, \"rolling_avg_score\": 1.268, \"start_issue\": \"1962-05-07\", \"temp_issue_number\": 18.0}, {\"page_number\": 691, \"predicted_boundary\": 2, \"boundary_score\": 1.0, \"rolling_avg_score\": 1.068, \"start_issue\": \"1962-05-07\", \"temp_issue_number\": 18.0}, {\"page_number\": 693, \"predicted_boundary\": 0, \"boundary_score\": 1.0, \"rolling_avg_score\": 1.0, \"start_issue\": \"1962-05-07\", \"temp_issue_number\": 18.0}, {\"page_number\": 694, \"predicted_boundary\": 0, \"boundary_score\": 1.0, \"rolling_avg_score\": 1.0, \"start_issue\": \"1962-05-07\", \"temp_issue_number\": 18.0}, {\"page_number\": 695, \"predicted_boundary\": 0, \"boundary_score\": 1.0, \"rolling_avg_score\": 1.0, \"start_issue\": \"1962-05-14\", \"temp_issue_number\": 19.0}, {\"page_number\": 696, \"predicted_boundary\": 9, \"boundary_score\": 1.0, \"rolling_avg_score\": 1.0, \"start_issue\": \"1962-05-14\", \"temp_issue_number\": 19.0}, {\"page_number\": 697, \"predicted_boundary\": 14, \"boundary_score\": 1.0, \"rolling_avg_score\": 1.0, \"start_issue\": \"1962-05-14\", \"temp_issue_number\": 19.0}, {\"page_number\": 698, \"predicted_boundary\": 1, \"boundary_score\": 2.0, \"rolling_avg_score\": 1.2, \"start_issue\": \"1962-05-14\", \"temp_issue_number\": 19.0}, {\"page_number\": 699, \"predicted_boundary\": 14, \"boundary_score\": 1.0, \"rolling_avg_score\": 1.2, \"start_issue\": \"1962-05-14\", \"temp_issue_number\": 19.0}, {\"page_number\": 700, \"predicted_boundary\": 8, \"boundary_score\": 1.0, \"rolling_avg_score\": 1.2, \"start_issue\": \"1962-05-14\", \"temp_issue_number\": 19.0}, {\"page_number\": 701, \"predicted_boundary\": 1, \"boundary_score\": 1.0, \"rolling_avg_score\": 1.2, \"start_issue\": \"1962-05-14\", \"temp_issue_number\": 19.0}, {\"page_number\": 702, \"predicted_boundary\": 14, \"boundary_score\": 1.0, \"rolling_avg_score\": 1.2, \"start_issue\": \"1962-05-14\", \"temp_issue_number\": 19.0}, {\"page_number\": 703, \"predicted_boundary\": 2, \"boundary_score\": 1.6600000000000001, \"rolling_avg_score\": 1.1320000000000001, \"start_issue\": \"1962-05-14\", \"temp_issue_number\": 19.0}, {\"page_number\": 704, \"predicted_boundary\": 2, \"boundary_score\": 1.6600000000000001, \"rolling_avg_score\": 1.264, \"start_issue\": \"1962-05-14\", \"temp_issue_number\": 19.0}, {\"page_number\": 705, \"predicted_boundary\": 2, \"boundary_score\": 2.0, \"rolling_avg_score\": 1.464, \"start_issue\": \"1962-05-14\", \"temp_issue_number\": 19.0}, {\"page_number\": 706, \"predicted_boundary\": 4, \"boundary_score\": 1.3399999999999999, \"rolling_avg_score\": 1.532, \"start_issue\": \"1962-05-14\", \"temp_issue_number\": 19.0}, {\"page_number\": 707, \"predicted_boundary\": 4, \"boundary_score\": 1.3399999999999999, \"rolling_avg_score\": 1.6, \"start_issue\": \"1962-05-14\", \"temp_issue_number\": 19.0}, {\"page_number\": 708, \"predicted_boundary\": 3, \"boundary_score\": 1.0, \"rolling_avg_score\": 1.468, \"start_issue\": \"1962-05-14\", \"temp_issue_number\": 19.0}, {\"page_number\": 709, \"predicted_boundary\": 1, \"boundary_score\": 1.0, \"rolling_avg_score\": 1.3359999999999999, \"start_issue\": \"1962-05-14\", \"temp_issue_number\": 19.0}, {\"page_number\": 710, \"predicted_boundary\": 3, \"boundary_score\": 1.6600000000000001, \"rolling_avg_score\": 1.268, \"start_issue\": \"1962-05-14\", \"temp_issue_number\": 19.0}, {\"page_number\": 711, \"predicted_boundary\": 3, \"boundary_score\": 1.6600000000000001, \"rolling_avg_score\": 1.332, \"start_issue\": \"1962-05-14\", \"temp_issue_number\": 19.0}, {\"page_number\": 712, \"predicted_boundary\": 2, \"boundary_score\": 1.6600000000000001, \"rolling_avg_score\": 1.3960000000000001, \"start_issue\": \"1962-05-14\", \"temp_issue_number\": 19.0}, {\"page_number\": 713, \"predicted_boundary\": 1, \"boundary_score\": 2.66, \"rolling_avg_score\": 1.7280000000000002, \"start_issue\": \"1962-05-14\", \"temp_issue_number\": 19.0}, {\"page_number\": 714, \"predicted_boundary\": 2, \"boundary_score\": 3.0, \"rolling_avg_score\": 2.128, \"start_issue\": \"1962-05-14\", \"temp_issue_number\": 19.0}, {\"page_number\": 715, \"predicted_boundary\": 2, \"boundary_score\": 1.3399999999999999, \"rolling_avg_score\": 2.064, \"start_issue\": \"1962-05-14\", \"temp_issue_number\": 19.0}, {\"page_number\": 716, \"predicted_boundary\": 21, \"boundary_score\": 1.6600000000000001, \"rolling_avg_score\": 2.064, \"start_issue\": \"1962-05-14\", \"temp_issue_number\": 19.0}, {\"page_number\": 717, \"predicted_boundary\": 2, \"boundary_score\": 3.0, \"rolling_avg_score\": 2.332, \"start_issue\": \"1962-05-14\", \"temp_issue_number\": 19.0}, {\"page_number\": 718, \"predicted_boundary\": 3, \"boundary_score\": 3.0, \"rolling_avg_score\": 2.4, \"start_issue\": \"1962-05-14\", \"temp_issue_number\": 19.0}, {\"page_number\": 719, \"predicted_boundary\": 1, \"boundary_score\": 2.0, \"rolling_avg_score\": 2.2, \"start_issue\": \"1962-05-14\", \"temp_issue_number\": 19.0}, {\"page_number\": 720, \"predicted_boundary\": 1, \"boundary_score\": 2.0, \"rolling_avg_score\": 2.332, \"start_issue\": \"1962-05-14\", \"temp_issue_number\": 19.0}, {\"page_number\": 721, \"predicted_boundary\": 0, \"boundary_score\": 1.6600000000000001, \"rolling_avg_score\": 2.332, \"start_issue\": \"1962-05-14\", \"temp_issue_number\": 19.0}, {\"page_number\": 722, \"predicted_boundary\": 0, \"boundary_score\": 1.6600000000000001, \"rolling_avg_score\": 2.064, \"start_issue\": \"1962-05-14\", \"temp_issue_number\": 19.0}, {\"page_number\": 723, \"predicted_boundary\": 0, \"boundary_score\": 2.0, \"rolling_avg_score\": 1.864, \"start_issue\": \"1962-05-14\", \"temp_issue_number\": 19.0}, {\"page_number\": 724, \"predicted_boundary\": 0, \"boundary_score\": 1.3399999999999999, \"rolling_avg_score\": 1.732, \"start_issue\": \"1962-05-14\", \"temp_issue_number\": 19.0}, {\"page_number\": 725, \"predicted_boundary\": 0, \"boundary_score\": 1.3399999999999999, \"rolling_avg_score\": 1.6, \"start_issue\": \"1962-05-14\", \"temp_issue_number\": 19.0}, {\"page_number\": 726, \"predicted_boundary\": 0, \"boundary_score\": 0.33999999999999997, \"rolling_avg_score\": 1.3359999999999999, \"start_issue\": null, \"temp_issue_number\": null}, {\"page_number\": 727, \"predicted_boundary\": 2, \"boundary_score\": 1.0, \"rolling_avg_score\": 1.204, \"start_issue\": \"1962-05-21\", \"temp_issue_number\": 20.0}, {\"page_number\": 728, \"predicted_boundary\": 0, \"boundary_score\": 1.6600000000000001, \"rolling_avg_score\": 1.136, \"start_issue\": \"1962-05-21\", \"temp_issue_number\": 20.0}, {\"page_number\": 729, \"predicted_boundary\": 0, \"boundary_score\": 2.0, \"rolling_avg_score\": 1.268, \"start_issue\": \"1962-05-21\", \"temp_issue_number\": 20.0}, {\"page_number\": 730, \"predicted_boundary\": 1, \"boundary_score\": 1.3399999999999999, \"rolling_avg_score\": 1.268, \"start_issue\": \"1962-05-21\", \"temp_issue_number\": 20.0}, {\"page_number\": 731, \"predicted_boundary\": 1, \"boundary_score\": 0.33999999999999997, \"rolling_avg_score\": 1.268, \"start_issue\": null, \"temp_issue_number\": null}, {\"page_number\": 732, \"predicted_boundary\": 1, \"boundary_score\": 1.0, \"rolling_avg_score\": 1.268, \"start_issue\": \"1962-05-21\", \"temp_issue_number\": 20.0}, {\"page_number\": 733, \"predicted_boundary\": 21, \"boundary_score\": 1.0, \"rolling_avg_score\": 1.136, \"start_issue\": \"1962-05-21\", \"temp_issue_number\": 20.0}, {\"page_number\": 734, \"predicted_boundary\": 0, \"boundary_score\": 2.0, \"rolling_avg_score\": 1.136, \"start_issue\": \"1962-05-21\", \"temp_issue_number\": 20.0}, {\"page_number\": 735, \"predicted_boundary\": 7, \"boundary_score\": 1.0, \"rolling_avg_score\": 1.068, \"start_issue\": \"1962-05-21\", \"temp_issue_number\": 20.0}, {\"page_number\": 736, \"predicted_boundary\": 3, \"boundary_score\": 1.0, \"rolling_avg_score\": 1.2, \"start_issue\": \"1962-05-21\", \"temp_issue_number\": 20.0}, {\"page_number\": 737, \"predicted_boundary\": 1, \"boundary_score\": 1.0, \"rolling_avg_score\": 1.2, \"start_issue\": \"1962-05-21\", \"temp_issue_number\": 20.0}, {\"page_number\": 738, \"predicted_boundary\": 0, \"boundary_score\": 2.0, \"rolling_avg_score\": 1.4, \"start_issue\": \"1962-05-21\", \"temp_issue_number\": 20.0}, {\"page_number\": 739, \"predicted_boundary\": 1, \"boundary_score\": 1.0, \"rolling_avg_score\": 1.2, \"start_issue\": \"1962-05-21\", \"temp_issue_number\": 20.0}, {\"page_number\": 740, \"predicted_boundary\": 1, \"boundary_score\": 1.0, \"rolling_avg_score\": 1.2, \"start_issue\": \"1962-05-21\", \"temp_issue_number\": 20.0}, {\"page_number\": 741, \"predicted_boundary\": 10, \"boundary_score\": 1.0, \"rolling_avg_score\": 1.2, \"start_issue\": \"1962-05-21\", \"temp_issue_number\": 20.0}, {\"page_number\": 742, \"predicted_boundary\": 1, \"boundary_score\": 1.0, \"rolling_avg_score\": 1.2, \"start_issue\": \"1962-05-21\", \"temp_issue_number\": 20.0}, {\"page_number\": 743, \"predicted_boundary\": 0, \"boundary_score\": 2.0, \"rolling_avg_score\": 1.2, \"start_issue\": \"1962-05-21\", \"temp_issue_number\": 20.0}, {\"page_number\": 744, \"predicted_boundary\": 0, \"boundary_score\": 0.33999999999999997, \"rolling_avg_score\": 1.068, \"start_issue\": null, \"temp_issue_number\": null}, {\"page_number\": 745, \"predicted_boundary\": 0, \"boundary_score\": 1.0, \"rolling_avg_score\": 1.068, \"start_issue\": \"1962-05-21\", \"temp_issue_number\": 20.0}, {\"page_number\": 746, \"predicted_boundary\": 4, \"boundary_score\": 1.0, \"rolling_avg_score\": 1.068, \"start_issue\": \"1962-05-21\", \"temp_issue_number\": 20.0}, {\"page_number\": 747, \"predicted_boundary\": 0, \"boundary_score\": 1.0, \"rolling_avg_score\": 1.068, \"start_issue\": \"1962-05-21\", \"temp_issue_number\": 20.0}, {\"page_number\": 748, \"predicted_boundary\": 1, \"boundary_score\": 1.0, \"rolling_avg_score\": 0.868, \"start_issue\": \"1962-05-21\", \"temp_issue_number\": 20.0}, {\"page_number\": 749, \"predicted_boundary\": 0, \"boundary_score\": 2.0, \"rolling_avg_score\": 1.2, \"start_issue\": \"1962-05-21\", \"temp_issue_number\": 20.0}, {\"page_number\": 750, \"predicted_boundary\": 16, \"boundary_score\": 1.0, \"rolling_avg_score\": 1.2, \"start_issue\": \"1962-05-21\", \"temp_issue_number\": 20.0}, {\"page_number\": 751, \"predicted_boundary\": 8, \"boundary_score\": 1.0, \"rolling_avg_score\": 1.2, \"start_issue\": \"1962-05-21\", \"temp_issue_number\": 20.0}, {\"page_number\": 752, \"predicted_boundary\": 0, \"boundary_score\": 1.0, \"rolling_avg_score\": 1.2, \"start_issue\": \"1962-05-21\", \"temp_issue_number\": 20.0}, {\"page_number\": 753, \"predicted_boundary\": 21, \"boundary_score\": 1.0, \"rolling_avg_score\": 1.2, \"start_issue\": \"1962-05-21\", \"temp_issue_number\": 20.0}, {\"page_number\": 754, \"predicted_boundary\": 1, \"boundary_score\": 1.6600000000000001, \"rolling_avg_score\": 1.1320000000000001, \"start_issue\": \"1962-05-21\", \"temp_issue_number\": 20.0}, {\"page_number\": 755, \"predicted_boundary\": 1, \"boundary_score\": 1.6600000000000001, \"rolling_avg_score\": 1.264, \"start_issue\": \"1962-05-21\", \"temp_issue_number\": 20.0}, {\"page_number\": 756, \"predicted_boundary\": 1, \"boundary_score\": 1.6600000000000001, \"rolling_avg_score\": 1.3960000000000001, \"start_issue\": \"1962-05-21\", \"temp_issue_number\": 20.0}, {\"page_number\": 757, \"predicted_boundary\": 0, \"boundary_score\": 2.0, \"rolling_avg_score\": 1.596, \"start_issue\": \"1962-05-21\", \"temp_issue_number\": 20.0}, {\"page_number\": 758, \"predicted_boundary\": 0, \"boundary_score\": 1.3399999999999999, \"rolling_avg_score\": 1.6640000000000001, \"start_issue\": \"1962-05-21\", \"temp_issue_number\": 20.0}, {\"page_number\": 759, \"predicted_boundary\": 15, \"boundary_score\": 1.0, \"rolling_avg_score\": 1.532, \"start_issue\": \"1962-05-21\", \"temp_issue_number\": 20.0}, {\"page_number\": 760, \"predicted_boundary\": 7, \"boundary_score\": 1.0, \"rolling_avg_score\": 1.4, \"start_issue\": \"1962-05-21\", \"temp_issue_number\": 20.0}, {\"page_number\": 761, \"predicted_boundary\": 0, \"boundary_score\": 1.0, \"rolling_avg_score\": 1.268, \"start_issue\": \"1962-05-21\", \"temp_issue_number\": 20.0}, {\"page_number\": 763, \"predicted_boundary\": 28, \"boundary_score\": 1.0, \"rolling_avg_score\": 1.068, \"start_issue\": \"1962-05-28\", \"temp_issue_number\": 21.0}, {\"page_number\": 764, \"predicted_boundary\": 0, \"boundary_score\": 1.0, \"rolling_avg_score\": 1.0, \"start_issue\": \"1962-05-28\", \"temp_issue_number\": 21.0}, {\"page_number\": 765, \"predicted_boundary\": 0, \"boundary_score\": 1.0, \"rolling_avg_score\": 1.0, \"start_issue\": \"1962-05-28\", \"temp_issue_number\": 21.0}, {\"page_number\": 766, \"predicted_boundary\": 0, \"boundary_score\": 1.0, \"rolling_avg_score\": 1.0, \"start_issue\": \"1962-05-28\", \"temp_issue_number\": 21.0}, {\"page_number\": 767, \"predicted_boundary\": 1, \"boundary_score\": 0.66, \"rolling_avg_score\": 0.932, \"start_issue\": null, \"temp_issue_number\": null}, {\"page_number\": 768, \"predicted_boundary\": 1, \"boundary_score\": 1.6600000000000001, \"rolling_avg_score\": 1.064, \"start_issue\": \"1962-05-28\", \"temp_issue_number\": 21.0}, {\"page_number\": 769, \"predicted_boundary\": 3, \"boundary_score\": 3.0, \"rolling_avg_score\": 1.464, \"start_issue\": \"1962-05-28\", \"temp_issue_number\": 21.0}, {\"page_number\": 770, \"predicted_boundary\": 1, \"boundary_score\": 2.0, \"rolling_avg_score\": 1.6640000000000001, \"start_issue\": \"1962-05-28\", \"temp_issue_number\": 21.0}, {\"page_number\": 771, \"predicted_boundary\": 1, \"boundary_score\": 1.3399999999999999, \"rolling_avg_score\": 1.732, \"start_issue\": \"1962-05-28\", \"temp_issue_number\": 21.0}, {\"page_number\": 772, \"predicted_boundary\": 0, \"boundary_score\": 1.0, \"rolling_avg_score\": 1.8, \"start_issue\": \"1962-05-28\", \"temp_issue_number\": 21.0}, {\"page_number\": 773, \"predicted_boundary\": 9, \"boundary_score\": 1.0, \"rolling_avg_score\": 1.668, \"start_issue\": \"1962-05-28\", \"temp_issue_number\": 21.0}, {\"page_number\": 774, \"predicted_boundary\": 1, \"boundary_score\": 1.0, \"rolling_avg_score\": 1.268, \"start_issue\": \"1962-05-28\", \"temp_issue_number\": 21.0}, {\"page_number\": 775, \"predicted_boundary\": 11, \"boundary_score\": 1.0, \"rolling_avg_score\": 1.068, \"start_issue\": \"1962-05-28\", \"temp_issue_number\": 21.0}, {\"page_number\": 776, \"predicted_boundary\": 0, \"boundary_score\": 1.0, \"rolling_avg_score\": 1.0, \"start_issue\": \"1962-05-28\", \"temp_issue_number\": 21.0}, {\"page_number\": 777, \"predicted_boundary\": 1, \"boundary_score\": 1.0, \"rolling_avg_score\": 1.0, \"start_issue\": \"1962-05-28\", \"temp_issue_number\": 21.0}, {\"page_number\": 778, \"predicted_boundary\": 1, \"boundary_score\": 1.0, \"rolling_avg_score\": 1.0, \"start_issue\": \"1962-05-28\", \"temp_issue_number\": 21.0}, {\"page_number\": 779, \"predicted_boundary\": 0, \"boundary_score\": 1.0, \"rolling_avg_score\": 1.0, \"start_issue\": \"1962-05-28\", \"temp_issue_number\": 21.0}, {\"page_number\": 780, \"predicted_boundary\": 2, \"boundary_score\": 1.0, \"rolling_avg_score\": 1.0, \"start_issue\": \"1962-05-28\", \"temp_issue_number\": 21.0}, {\"page_number\": 781, \"predicted_boundary\": 1, \"boundary_score\": 1.0, \"rolling_avg_score\": 1.0, \"start_issue\": \"1962-05-28\", \"temp_issue_number\": 21.0}, {\"page_number\": 782, \"predicted_boundary\": 1, \"boundary_score\": 1.0, \"rolling_avg_score\": 1.0, \"start_issue\": \"1962-05-28\", \"temp_issue_number\": 21.0}, {\"page_number\": 783, \"predicted_boundary\": 7, \"boundary_score\": 1.0, \"rolling_avg_score\": 1.0, \"start_issue\": \"1962-05-28\", \"temp_issue_number\": 21.0}, {\"page_number\": 784, \"predicted_boundary\": 3, \"boundary_score\": 1.0, \"rolling_avg_score\": 1.0, \"start_issue\": \"1962-05-28\", \"temp_issue_number\": 21.0}, {\"page_number\": 785, \"predicted_boundary\": 3, \"boundary_score\": 1.0, \"rolling_avg_score\": 1.0, \"start_issue\": \"1962-05-28\", \"temp_issue_number\": 21.0}, {\"page_number\": 786, \"predicted_boundary\": 1, \"boundary_score\": 1.0, \"rolling_avg_score\": 1.0, \"start_issue\": \"1962-05-28\", \"temp_issue_number\": 21.0}, {\"page_number\": 787, \"predicted_boundary\": 2, \"boundary_score\": 1.0, \"rolling_avg_score\": 1.0, \"start_issue\": \"1962-05-28\", \"temp_issue_number\": 21.0}, {\"page_number\": 788, \"predicted_boundary\": 4, \"boundary_score\": 1.0, \"rolling_avg_score\": 1.0, \"start_issue\": \"1962-05-28\", \"temp_issue_number\": 21.0}, {\"page_number\": 789, \"predicted_boundary\": 1, \"boundary_score\": 1.0, \"rolling_avg_score\": 1.0, \"start_issue\": \"1962-05-28\", \"temp_issue_number\": 21.0}, {\"page_number\": 790, \"predicted_boundary\": 1, \"boundary_score\": 1.0, \"rolling_avg_score\": 1.0, \"start_issue\": \"1962-05-28\", \"temp_issue_number\": 21.0}, {\"page_number\": 791, \"predicted_boundary\": 1, \"boundary_score\": 1.0, \"rolling_avg_score\": 1.0, \"start_issue\": \"1962-05-28\", \"temp_issue_number\": 21.0}, {\"page_number\": 792, \"predicted_boundary\": 1, \"boundary_score\": 1.0, \"rolling_avg_score\": 1.0, \"start_issue\": \"1962-05-28\", \"temp_issue_number\": 21.0}, {\"page_number\": 793, \"predicted_boundary\": 23, \"boundary_score\": 1.0, \"rolling_avg_score\": 1.0, \"start_issue\": \"1962-05-28\", \"temp_issue_number\": 21.0}, {\"page_number\": 794, \"predicted_boundary\": 0, \"boundary_score\": 1.0, \"rolling_avg_score\": 1.0, \"start_issue\": \"1962-05-28\", \"temp_issue_number\": 21.0}, {\"page_number\": 795, \"predicted_boundary\": 1, \"boundary_score\": 1.0, \"rolling_avg_score\": 1.0, \"start_issue\": \"1962-05-28\", \"temp_issue_number\": 21.0}, {\"page_number\": 796, \"predicted_boundary\": 3, \"boundary_score\": 2.0, \"rolling_avg_score\": 1.2, \"start_issue\": \"1962-05-28\", \"temp_issue_number\": 21.0}, {\"page_number\": 797, \"predicted_boundary\": 0, \"boundary_score\": 1.0, \"rolling_avg_score\": 1.2, \"start_issue\": \"1962-05-28\", \"temp_issue_number\": 21.0}, {\"page_number\": 798, \"predicted_boundary\": 0, \"boundary_score\": 1.0, \"rolling_avg_score\": 1.2, \"start_issue\": \"1962-05-28\", \"temp_issue_number\": 21.0}, {\"page_number\": 799, \"predicted_boundary\": 0, \"boundary_score\": 1.0, \"rolling_avg_score\": 1.2, \"start_issue\": \"1962-06-04\", \"temp_issue_number\": 22.0}, {\"page_number\": 801, \"predicted_boundary\": 1, \"boundary_score\": 1.0, \"rolling_avg_score\": 1.2, \"start_issue\": \"1962-06-04\", \"temp_issue_number\": 22.0}, {\"page_number\": 802, \"predicted_boundary\": 0, \"boundary_score\": 1.0, \"rolling_avg_score\": 1.0, \"start_issue\": \"1962-06-04\", \"temp_issue_number\": 22.0}, {\"page_number\": 804, \"predicted_boundary\": 1, \"boundary_score\": 1.0, \"rolling_avg_score\": 1.0, \"start_issue\": \"1962-06-04\", \"temp_issue_number\": 22.0}, {\"page_number\": 805, \"predicted_boundary\": 5, \"boundary_score\": 1.0, \"rolling_avg_score\": 1.0, \"start_issue\": \"1962-06-04\", \"temp_issue_number\": 22.0}, {\"page_number\": 806, \"predicted_boundary\": 1, \"boundary_score\": 1.6600000000000001, \"rolling_avg_score\": 1.1320000000000001, \"start_issue\": \"1962-06-04\", \"temp_issue_number\": 22.0}, {\"page_number\": 807, \"predicted_boundary\": 1, \"boundary_score\": 1.6600000000000001, \"rolling_avg_score\": 1.264, \"start_issue\": \"1962-06-04\", \"temp_issue_number\": 22.0}, {\"page_number\": 808, \"predicted_boundary\": 4, \"boundary_score\": 3.0, \"rolling_avg_score\": 1.6640000000000001, \"start_issue\": \"1962-06-04\", \"temp_issue_number\": 22.0}, {\"page_number\": 809, \"predicted_boundary\": 1, \"boundary_score\": 1.3399999999999999, \"rolling_avg_score\": 1.732, \"start_issue\": \"1962-06-04\", \"temp_issue_number\": 22.0}, {\"page_number\": 810, \"predicted_boundary\": 1, \"boundary_score\": 1.3399999999999999, \"rolling_avg_score\": 1.8, \"start_issue\": \"1962-06-04\", \"temp_issue_number\": 22.0}, {\"page_number\": 811, \"predicted_boundary\": 1, \"boundary_score\": 1.3399999999999999, \"rolling_avg_score\": 1.736, \"start_issue\": \"1962-06-04\", \"temp_issue_number\": 22.0}, {\"page_number\": 812, \"predicted_boundary\": 2, \"boundary_score\": 1.0, \"rolling_avg_score\": 1.6039999999999999, \"start_issue\": \"1962-06-04\", \"temp_issue_number\": 22.0}, {\"page_number\": 813, \"predicted_boundary\": 4, \"boundary_score\": 1.0, \"rolling_avg_score\": 1.204, \"start_issue\": \"1962-06-04\", \"temp_issue_number\": 22.0}, {\"page_number\": 814, \"predicted_boundary\": 14, \"boundary_score\": 1.0, \"rolling_avg_score\": 1.136, \"start_issue\": \"1962-06-04\", \"temp_issue_number\": 22.0}, {\"page_number\": 815, \"predicted_boundary\": 1, \"boundary_score\": 1.0, \"rolling_avg_score\": 1.068, \"start_issue\": \"1962-06-04\", \"temp_issue_number\": 22.0}, {\"page_number\": 816, \"predicted_boundary\": 0, \"boundary_score\": 1.0, \"rolling_avg_score\": 1.0, \"start_issue\": \"1962-06-04\", \"temp_issue_number\": 22.0}, {\"page_number\": 817, \"predicted_boundary\": 4, \"boundary_score\": 1.0, \"rolling_avg_score\": 1.0, \"start_issue\": \"1962-06-04\", \"temp_issue_number\": 22.0}, {\"page_number\": 818, \"predicted_boundary\": 4, \"boundary_score\": 1.0, \"rolling_avg_score\": 1.0, \"start_issue\": \"1962-06-04\", \"temp_issue_number\": 22.0}, {\"page_number\": 819, \"predicted_boundary\": 3, \"boundary_score\": 1.0, \"rolling_avg_score\": 1.0, \"start_issue\": \"1962-06-04\", \"temp_issue_number\": 22.0}, {\"page_number\": 820, \"predicted_boundary\": 1, \"boundary_score\": 1.0, \"rolling_avg_score\": 1.0, \"start_issue\": \"1962-06-04\", \"temp_issue_number\": 22.0}, {\"page_number\": 821, \"predicted_boundary\": 4, \"boundary_score\": 1.0, \"rolling_avg_score\": 1.0, \"start_issue\": \"1962-06-04\", \"temp_issue_number\": 22.0}, {\"page_number\": 822, \"predicted_boundary\": 2, \"boundary_score\": 1.0, \"rolling_avg_score\": 1.0, \"start_issue\": \"1962-06-04\", \"temp_issue_number\": 22.0}, {\"page_number\": 823, \"predicted_boundary\": 0, \"boundary_score\": 1.0, \"rolling_avg_score\": 1.0, \"start_issue\": \"1962-06-04\", \"temp_issue_number\": 22.0}, {\"page_number\": 824, \"predicted_boundary\": 24, \"boundary_score\": 1.0, \"rolling_avg_score\": 1.0, \"start_issue\": \"1962-06-04\", \"temp_issue_number\": 22.0}, {\"page_number\": 825, \"predicted_boundary\": 4, \"boundary_score\": 1.0, \"rolling_avg_score\": 1.0, \"start_issue\": \"1962-06-04\", \"temp_issue_number\": 22.0}, {\"page_number\": 826, \"predicted_boundary\": 2, \"boundary_score\": 1.0, \"rolling_avg_score\": 1.0, \"start_issue\": \"1962-06-04\", \"temp_issue_number\": 22.0}, {\"page_number\": 827, \"predicted_boundary\": 4, \"boundary_score\": 1.0, \"rolling_avg_score\": 1.0, \"start_issue\": \"1962-06-04\", \"temp_issue_number\": 22.0}, {\"page_number\": 828, \"predicted_boundary\": 0, \"boundary_score\": 1.0, \"rolling_avg_score\": 1.0, \"start_issue\": \"1962-06-04\", \"temp_issue_number\": 22.0}, {\"page_number\": 829, \"predicted_boundary\": 5, \"boundary_score\": 1.0, \"rolling_avg_score\": 1.0, \"start_issue\": \"1962-06-04\", \"temp_issue_number\": 22.0}, {\"page_number\": 830, \"predicted_boundary\": 9, \"boundary_score\": 1.0, \"rolling_avg_score\": 1.0, \"start_issue\": \"1962-06-04\", \"temp_issue_number\": 22.0}, {\"page_number\": 831, \"predicted_boundary\": 3, \"boundary_score\": 1.0, \"rolling_avg_score\": 1.0, \"start_issue\": \"1962-06-04\", \"temp_issue_number\": 22.0}, {\"page_number\": 832, \"predicted_boundary\": 1, \"boundary_score\": 1.0, \"rolling_avg_score\": 1.0, \"start_issue\": \"1962-06-04\", \"temp_issue_number\": 22.0}, {\"page_number\": 833, \"predicted_boundary\": 0, \"boundary_score\": 1.0, \"rolling_avg_score\": 1.0, \"start_issue\": \"1962-06-04\", \"temp_issue_number\": 22.0}, {\"page_number\": 834, \"predicted_boundary\": 0, \"boundary_score\": 1.0, \"rolling_avg_score\": 1.0, \"start_issue\": \"1962-06-04\", \"temp_issue_number\": 22.0}, {\"page_number\": 835, \"predicted_boundary\": 2, \"boundary_score\": 1.0, \"rolling_avg_score\": 1.0, \"start_issue\": \"1962-06-11\", \"temp_issue_number\": 23.0}, {\"page_number\": 836, \"predicted_boundary\": 23, \"boundary_score\": 1.0, \"rolling_avg_score\": 1.0, \"start_issue\": \"1962-06-11\", \"temp_issue_number\": 23.0}, {\"page_number\": 837, \"predicted_boundary\": 1, \"boundary_score\": 1.0, \"rolling_avg_score\": 1.0, \"start_issue\": \"1962-06-11\", \"temp_issue_number\": 23.0}, {\"page_number\": 838, \"predicted_boundary\": 2, \"boundary_score\": 1.0, \"rolling_avg_score\": 1.0, \"start_issue\": \"1962-06-11\", \"temp_issue_number\": 23.0}, {\"page_number\": 839, \"predicted_boundary\": 1, \"boundary_score\": 1.0, \"rolling_avg_score\": 1.0, \"start_issue\": \"1962-06-11\", \"temp_issue_number\": 23.0}, {\"page_number\": 840, \"predicted_boundary\": 90, \"boundary_score\": 1.0, \"rolling_avg_score\": 1.0, \"start_issue\": \"1962-06-11\", \"temp_issue_number\": 23.0}, {\"page_number\": 841, \"predicted_boundary\": 0, \"boundary_score\": 2.0, \"rolling_avg_score\": 1.2, \"start_issue\": \"1962-06-11\", \"temp_issue_number\": 23.0}, {\"page_number\": 842, \"predicted_boundary\": 40, \"boundary_score\": 1.0, \"rolling_avg_score\": 1.2, \"start_issue\": \"1962-06-11\", \"temp_issue_number\": 23.0}, {\"page_number\": 843, \"predicted_boundary\": 1, \"boundary_score\": 1.0, \"rolling_avg_score\": 1.2, \"start_issue\": \"1962-06-11\", \"temp_issue_number\": 23.0}, {\"page_number\": 844, \"predicted_boundary\": 3, \"boundary_score\": 1.0, \"rolling_avg_score\": 1.2, \"start_issue\": \"1962-06-11\", \"temp_issue_number\": 23.0}, {\"page_number\": 845, \"predicted_boundary\": 1, \"boundary_score\": 1.0, \"rolling_avg_score\": 1.2, \"start_issue\": \"1962-06-11\", \"temp_issue_number\": 23.0}, {\"page_number\": 846, \"predicted_boundary\": 1, \"boundary_score\": 1.0, \"rolling_avg_score\": 1.0, \"start_issue\": \"1962-06-11\", \"temp_issue_number\": 23.0}, {\"page_number\": 847, \"predicted_boundary\": 1, \"boundary_score\": 1.0, \"rolling_avg_score\": 1.0, \"start_issue\": \"1962-06-11\", \"temp_issue_number\": 23.0}, {\"page_number\": 848, \"predicted_boundary\": 6, \"boundary_score\": 1.0, \"rolling_avg_score\": 1.0, \"start_issue\": \"1962-06-11\", \"temp_issue_number\": 23.0}, {\"page_number\": 849, \"predicted_boundary\": 1, \"boundary_score\": 1.0, \"rolling_avg_score\": 1.0, \"start_issue\": \"1962-06-11\", \"temp_issue_number\": 23.0}, {\"page_number\": 850, \"predicted_boundary\": 11, \"boundary_score\": 1.0, \"rolling_avg_score\": 1.0, \"start_issue\": \"1962-06-11\", \"temp_issue_number\": 23.0}, {\"page_number\": 851, \"predicted_boundary\": 11, \"boundary_score\": 1.0, \"rolling_avg_score\": 1.0, \"start_issue\": \"1962-06-11\", \"temp_issue_number\": 23.0}, {\"page_number\": 852, \"predicted_boundary\": 4, \"boundary_score\": 1.0, \"rolling_avg_score\": 1.0, \"start_issue\": \"1962-06-11\", \"temp_issue_number\": 23.0}, {\"page_number\": 853, \"predicted_boundary\": 1, \"boundary_score\": 1.0, \"rolling_avg_score\": 1.0, \"start_issue\": \"1962-06-11\", \"temp_issue_number\": 23.0}, {\"page_number\": 854, \"predicted_boundary\": 1, \"boundary_score\": 1.0, \"rolling_avg_score\": 1.0, \"start_issue\": \"1962-06-11\", \"temp_issue_number\": 23.0}, {\"page_number\": 855, \"predicted_boundary\": 3, \"boundary_score\": 1.0, \"rolling_avg_score\": 1.0, \"start_issue\": \"1962-06-11\", \"temp_issue_number\": 23.0}, {\"page_number\": 856, \"predicted_boundary\": 0, \"boundary_score\": 1.0, \"rolling_avg_score\": 1.0, \"start_issue\": \"1962-06-11\", \"temp_issue_number\": 23.0}, {\"page_number\": 857, \"predicted_boundary\": 0, \"boundary_score\": 1.0, \"rolling_avg_score\": 1.0, \"start_issue\": \"1962-06-11\", \"temp_issue_number\": 23.0}, {\"page_number\": 858, \"predicted_boundary\": 1, \"boundary_score\": 1.0, \"rolling_avg_score\": 1.0, \"start_issue\": \"1962-06-11\", \"temp_issue_number\": 23.0}, {\"page_number\": 859, \"predicted_boundary\": 2, \"boundary_score\": 1.0, \"rolling_avg_score\": 1.0, \"start_issue\": \"1962-06-11\", \"temp_issue_number\": 23.0}, {\"page_number\": 860, \"predicted_boundary\": 1, \"boundary_score\": 1.0, \"rolling_avg_score\": 1.0, \"start_issue\": \"1962-06-11\", \"temp_issue_number\": 23.0}, {\"page_number\": 861, \"predicted_boundary\": 5, \"boundary_score\": 1.0, \"rolling_avg_score\": 1.0, \"start_issue\": \"1962-06-11\", \"temp_issue_number\": 23.0}, {\"page_number\": 862, \"predicted_boundary\": 1, \"boundary_score\": 1.0, \"rolling_avg_score\": 1.0, \"start_issue\": \"1962-06-11\", \"temp_issue_number\": 23.0}, {\"page_number\": 863, \"predicted_boundary\": 1, \"boundary_score\": 1.0, \"rolling_avg_score\": 1.0, \"start_issue\": \"1962-06-11\", \"temp_issue_number\": 23.0}, {\"page_number\": 864, \"predicted_boundary\": 3, \"boundary_score\": 1.0, \"rolling_avg_score\": 1.0, \"start_issue\": \"1962-06-11\", \"temp_issue_number\": 23.0}, {\"page_number\": 865, \"predicted_boundary\": 1, \"boundary_score\": 1.0, \"rolling_avg_score\": 1.0, \"start_issue\": \"1962-06-11\", \"temp_issue_number\": 23.0}, {\"page_number\": 866, \"predicted_boundary\": 4, \"boundary_score\": 1.0, \"rolling_avg_score\": 1.0, \"start_issue\": \"1962-06-11\", \"temp_issue_number\": 23.0}, {\"page_number\": 867, \"predicted_boundary\": 1, \"boundary_score\": 1.6600000000000001, \"rolling_avg_score\": 1.1320000000000001, \"start_issue\": \"1962-06-11\", \"temp_issue_number\": 23.0}, {\"page_number\": 868, \"predicted_boundary\": 3, \"boundary_score\": 3.0, \"rolling_avg_score\": 1.532, \"start_issue\": \"1962-06-11\", \"temp_issue_number\": 23.0}, {\"page_number\": 869, \"predicted_boundary\": 36, \"boundary_score\": 1.0, \"rolling_avg_score\": 1.532, \"start_issue\": \"1962-06-11\", \"temp_issue_number\": 23.0}, {\"page_number\": 870, \"predicted_boundary\": 30, \"boundary_score\": 1.0, \"rolling_avg_score\": 1.532, \"start_issue\": \"1962-06-11\", \"temp_issue_number\": 23.0}, {\"page_number\": 871, \"predicted_boundary\": 2, \"boundary_score\": 1.0, \"rolling_avg_score\": 1.532, \"start_issue\": \"1962-06-18\", \"temp_issue_number\": 24.0}, {\"page_number\": 872, \"predicted_boundary\": 0, \"boundary_score\": 1.0, \"rolling_avg_score\": 1.4, \"start_issue\": \"1962-06-18\", \"temp_issue_number\": 24.0}, {\"page_number\": 873, \"predicted_boundary\": 23, \"boundary_score\": 1.0, \"rolling_avg_score\": 1.0, \"start_issue\": \"1962-06-18\", \"temp_issue_number\": 24.0}, {\"page_number\": 874, \"predicted_boundary\": 7, \"boundary_score\": 1.0, \"rolling_avg_score\": 1.0, \"start_issue\": \"1962-06-18\", \"temp_issue_number\": 24.0}, {\"page_number\": 875, \"predicted_boundary\": 0, \"boundary_score\": 1.6600000000000001, \"rolling_avg_score\": 1.1320000000000001, \"start_issue\": \"1962-06-18\", \"temp_issue_number\": 24.0}, {\"page_number\": 876, \"predicted_boundary\": 0, \"boundary_score\": 2.0, \"rolling_avg_score\": 1.332, \"start_issue\": \"1962-06-18\", \"temp_issue_number\": 24.0}, {\"page_number\": 877, \"predicted_boundary\": 1, \"boundary_score\": 1.0, \"rolling_avg_score\": 1.332, \"start_issue\": \"1962-06-18\", \"temp_issue_number\": 24.0}, {\"page_number\": 878, \"predicted_boundary\": 3, \"boundary_score\": 1.0, \"rolling_avg_score\": 1.332, \"start_issue\": \"1962-06-18\", \"temp_issue_number\": 24.0}, {\"page_number\": 879, \"predicted_boundary\": 3, \"boundary_score\": 1.0, \"rolling_avg_score\": 1.332, \"start_issue\": \"1962-06-18\", \"temp_issue_number\": 24.0}, {\"page_number\": 880, \"predicted_boundary\": 1, \"boundary_score\": 1.0, \"rolling_avg_score\": 1.2, \"start_issue\": \"1962-06-18\", \"temp_issue_number\": 24.0}, {\"page_number\": 881, \"predicted_boundary\": 3, \"boundary_score\": 1.0, \"rolling_avg_score\": 1.0, \"start_issue\": \"1962-06-18\", \"temp_issue_number\": 24.0}, {\"page_number\": 882, \"predicted_boundary\": 18, \"boundary_score\": 2.66, \"rolling_avg_score\": 1.332, \"start_issue\": \"1962-06-18\", \"temp_issue_number\": 24.0}, {\"page_number\": 883, \"predicted_boundary\": 18, \"boundary_score\": 2.34, \"rolling_avg_score\": 1.6, \"start_issue\": \"1962-06-18\", \"temp_issue_number\": 24.0}, {\"page_number\": 884, \"predicted_boundary\": 18, \"boundary_score\": 1.3399999999999999, \"rolling_avg_score\": 1.668, \"start_issue\": \"1962-06-18\", \"temp_issue_number\": 24.0}, {\"page_number\": 885, \"predicted_boundary\": 13, \"boundary_score\": 1.0, \"rolling_avg_score\": 1.668, \"start_issue\": \"1962-06-18\", \"temp_issue_number\": 24.0}, {\"page_number\": 886, \"predicted_boundary\": 3, \"boundary_score\": 1.0, \"rolling_avg_score\": 1.668, \"start_issue\": \"1962-06-18\", \"temp_issue_number\": 24.0}, {\"page_number\": 887, \"predicted_boundary\": 6, \"boundary_score\": 1.0, \"rolling_avg_score\": 1.3359999999999999, \"start_issue\": \"1962-06-18\", \"temp_issue_number\": 24.0}, {\"page_number\": 888, \"predicted_boundary\": 16, \"boundary_score\": 2.0, \"rolling_avg_score\": 1.268, \"start_issue\": \"1962-06-18\", \"temp_issue_number\": 24.0}, {\"page_number\": 889, \"predicted_boundary\": 17, \"boundary_score\": 1.3399999999999999, \"rolling_avg_score\": 1.268, \"start_issue\": \"1962-06-18\", \"temp_issue_number\": 24.0}, {\"page_number\": 890, \"predicted_boundary\": 18, \"boundary_score\": 1.3399999999999999, \"rolling_avg_score\": 1.3359999999999999, \"start_issue\": \"1962-06-18\", \"temp_issue_number\": 24.0}, {\"page_number\": 891, \"predicted_boundary\": 3, \"boundary_score\": 1.6600000000000001, \"rolling_avg_score\": 1.468, \"start_issue\": \"1962-06-18\", \"temp_issue_number\": 24.0}, {\"page_number\": 892, \"predicted_boundary\": 3, \"boundary_score\": 2.0, \"rolling_avg_score\": 1.668, \"start_issue\": \"1962-06-18\", \"temp_issue_number\": 24.0}, {\"page_number\": 893, \"predicted_boundary\": 5, \"boundary_score\": 1.0, \"rolling_avg_score\": 1.468, \"start_issue\": \"1962-06-18\", \"temp_issue_number\": 24.0}, {\"page_number\": 894, \"predicted_boundary\": 1, \"boundary_score\": 1.6600000000000001, \"rolling_avg_score\": 1.532, \"start_issue\": \"1962-06-18\", \"temp_issue_number\": 24.0}, {\"page_number\": 895, \"predicted_boundary\": 1, \"boundary_score\": 2.0, \"rolling_avg_score\": 1.6640000000000001, \"start_issue\": \"1962-06-18\", \"temp_issue_number\": 24.0}, {\"page_number\": 896, \"predicted_boundary\": 1, \"boundary_score\": 1.3399999999999999, \"rolling_avg_score\": 1.6, \"start_issue\": \"1962-06-18\", \"temp_issue_number\": 24.0}, {\"page_number\": 897, \"predicted_boundary\": 1, \"boundary_score\": 1.3399999999999999, \"rolling_avg_score\": 1.468, \"start_issue\": \"1962-06-18\", \"temp_issue_number\": 24.0}, {\"page_number\": 898, \"predicted_boundary\": 3, \"boundary_score\": 1.0, \"rolling_avg_score\": 1.468, \"start_issue\": \"1962-06-18\", \"temp_issue_number\": 24.0}, {\"page_number\": 899, \"predicted_boundary\": 1, \"boundary_score\": 1.0, \"rolling_avg_score\": 1.3359999999999999, \"start_issue\": \"1962-06-18\", \"temp_issue_number\": 24.0}, {\"page_number\": 900, \"predicted_boundary\": 0, \"boundary_score\": 1.0, \"rolling_avg_score\": 1.136, \"start_issue\": \"1962-06-18\", \"temp_issue_number\": 24.0}, {\"page_number\": 901, \"predicted_boundary\": 3, \"boundary_score\": 1.0, \"rolling_avg_score\": 1.068, \"start_issue\": \"1962-06-18\", \"temp_issue_number\": 24.0}, {\"page_number\": 902, \"predicted_boundary\": 2, \"boundary_score\": 1.0, \"rolling_avg_score\": 1.0, \"start_issue\": \"1962-06-18\", \"temp_issue_number\": 24.0}, {\"page_number\": 903, \"predicted_boundary\": 3, \"boundary_score\": 1.0, \"rolling_avg_score\": 1.0, \"start_issue\": \"1962-06-18\", \"temp_issue_number\": 24.0}, {\"page_number\": 904, \"predicted_boundary\": 3, \"boundary_score\": 1.0, \"rolling_avg_score\": 1.0, \"start_issue\": \"1962-06-18\", \"temp_issue_number\": 24.0}, {\"page_number\": 905, \"predicted_boundary\": 2, \"boundary_score\": 1.0, \"rolling_avg_score\": 1.0, \"start_issue\": \"1962-06-18\", \"temp_issue_number\": 24.0}, {\"page_number\": 906, \"predicted_boundary\": 23, \"boundary_score\": 1.0, \"rolling_avg_score\": 1.0, \"start_issue\": \"1962-06-18\", \"temp_issue_number\": 24.0}, {\"page_number\": 907, \"predicted_boundary\": 0, \"boundary_score\": 1.0, \"rolling_avg_score\": 1.0, \"start_issue\": \"1962-06-25\", \"temp_issue_number\": 25.0}, {\"page_number\": 908, \"predicted_boundary\": 0, \"boundary_score\": 1.0, \"rolling_avg_score\": 1.0, \"start_issue\": \"1962-06-25\", \"temp_issue_number\": 25.0}, {\"page_number\": 909, \"predicted_boundary\": 0, \"boundary_score\": 1.0, \"rolling_avg_score\": 1.0, \"start_issue\": \"1962-06-25\", \"temp_issue_number\": 25.0}, {\"page_number\": 910, \"predicted_boundary\": 0, \"boundary_score\": 1.0, \"rolling_avg_score\": 1.0, \"start_issue\": \"1962-06-25\", \"temp_issue_number\": 25.0}, {\"page_number\": 912, \"predicted_boundary\": 3, \"boundary_score\": 1.0, \"rolling_avg_score\": 1.0, \"start_issue\": \"1962-06-25\", \"temp_issue_number\": 25.0}, {\"page_number\": 913, \"predicted_boundary\": 1, \"boundary_score\": 1.0, \"rolling_avg_score\": 1.0, \"start_issue\": \"1962-06-25\", \"temp_issue_number\": 25.0}, {\"page_number\": 914, \"predicted_boundary\": 6, \"boundary_score\": 1.0, \"rolling_avg_score\": 1.0, \"start_issue\": \"1962-06-25\", \"temp_issue_number\": 25.0}, {\"page_number\": 915, \"predicted_boundary\": 25, \"boundary_score\": 1.6600000000000001, \"rolling_avg_score\": 1.1320000000000001, \"start_issue\": \"1962-06-25\", \"temp_issue_number\": 25.0}, {\"page_number\": 916, \"predicted_boundary\": 25, \"boundary_score\": 1.6600000000000001, \"rolling_avg_score\": 1.264, \"start_issue\": \"1962-06-25\", \"temp_issue_number\": 25.0}, {\"page_number\": 917, \"predicted_boundary\": 25, \"boundary_score\": 1.6600000000000001, \"rolling_avg_score\": 1.3960000000000001, \"start_issue\": \"1962-06-25\", \"temp_issue_number\": 25.0}, {\"page_number\": 918, \"predicted_boundary\": 25, \"boundary_score\": 2.0, \"rolling_avg_score\": 1.596, \"start_issue\": \"1962-06-25\", \"temp_issue_number\": 25.0}, {\"page_number\": 919, \"predicted_boundary\": 25, \"boundary_score\": 1.3399999999999999, \"rolling_avg_score\": 1.6640000000000001, \"start_issue\": \"1962-06-25\", \"temp_issue_number\": 25.0}, {\"page_number\": 920, \"predicted_boundary\": 25, \"boundary_score\": 1.3399999999999999, \"rolling_avg_score\": 1.6, \"start_issue\": \"1962-06-25\", \"temp_issue_number\": 25.0}, {\"page_number\": 921, \"predicted_boundary\": 25, \"boundary_score\": 1.3399999999999999, \"rolling_avg_score\": 1.536, \"start_issue\": \"1962-06-25\", \"temp_issue_number\": 25.0}, {\"page_number\": 922, \"predicted_boundary\": 25, \"boundary_score\": 1.3399999999999999, \"rolling_avg_score\": 1.472, \"start_issue\": \"1962-06-25\", \"temp_issue_number\": 25.0}, {\"page_number\": 923, \"predicted_boundary\": 25, \"boundary_score\": 1.3399999999999999, \"rolling_avg_score\": 1.3399999999999999, \"start_issue\": \"1962-06-25\", \"temp_issue_number\": 25.0}, {\"page_number\": 924, \"predicted_boundary\": 2, \"boundary_score\": 1.6600000000000001, \"rolling_avg_score\": 1.404, \"start_issue\": \"1962-06-25\", \"temp_issue_number\": 25.0}, {\"page_number\": 925, \"predicted_boundary\": 1, \"boundary_score\": 1.6600000000000001, \"rolling_avg_score\": 1.468, \"start_issue\": \"1962-06-25\", \"temp_issue_number\": 25.0}, {\"page_number\": 926, \"predicted_boundary\": 1, \"boundary_score\": 1.6600000000000001, \"rolling_avg_score\": 1.532, \"start_issue\": \"1962-06-25\", \"temp_issue_number\": 25.0}, {\"page_number\": 927, \"predicted_boundary\": 1, \"boundary_score\": 1.6600000000000001, \"rolling_avg_score\": 1.596, \"start_issue\": \"1962-06-25\", \"temp_issue_number\": 25.0}, {\"page_number\": 928, \"predicted_boundary\": 3, \"boundary_score\": 3.0, \"rolling_avg_score\": 1.9280000000000002, \"start_issue\": \"1962-06-25\", \"temp_issue_number\": 25.0}, {\"page_number\": 929, \"predicted_boundary\": 2, \"boundary_score\": 1.3399999999999999, \"rolling_avg_score\": 1.864, \"start_issue\": \"1962-06-25\", \"temp_issue_number\": 25.0}, {\"page_number\": 930, \"predicted_boundary\": 1, \"boundary_score\": 1.0, \"rolling_avg_score\": 1.732, \"start_issue\": \"1962-06-25\", \"temp_issue_number\": 25.0}, {\"page_number\": 931, \"predicted_boundary\": 1, \"boundary_score\": 1.0, \"rolling_avg_score\": 1.6, \"start_issue\": \"1962-06-25\", \"temp_issue_number\": 25.0}, {\"page_number\": 932, \"predicted_boundary\": 23, \"boundary_score\": 1.0, \"rolling_avg_score\": 1.468, \"start_issue\": \"1962-06-25\", \"temp_issue_number\": 25.0}, {\"page_number\": 933, \"predicted_boundary\": 25, \"boundary_score\": 1.6600000000000001, \"rolling_avg_score\": 1.2, \"start_issue\": \"1962-06-25\", \"temp_issue_number\": 25.0}, {\"page_number\": 934, \"predicted_boundary\": 25, \"boundary_score\": 1.6600000000000001, \"rolling_avg_score\": 1.264, \"start_issue\": \"1962-06-25\", \"temp_issue_number\": 25.0}, {\"page_number\": 935, \"predicted_boundary\": 2, \"boundary_score\": 2.0, \"rolling_avg_score\": 1.464, \"start_issue\": \"1962-06-25\", \"temp_issue_number\": 25.0}, {\"page_number\": 936, \"predicted_boundary\": 3, \"boundary_score\": 2.34, \"rolling_avg_score\": 1.732, \"start_issue\": \"1962-06-25\", \"temp_issue_number\": 25.0}, {\"page_number\": 937, \"predicted_boundary\": 29, \"boundary_score\": 1.0, \"rolling_avg_score\": 1.732, \"start_issue\": \"1962-06-25\", \"temp_issue_number\": 25.0}, {\"page_number\": 938, \"predicted_boundary\": 0, \"boundary_score\": 1.0, \"rolling_avg_score\": 1.6, \"start_issue\": \"1962-06-25\", \"temp_issue_number\": 25.0}, {\"page_number\": 939, \"predicted_boundary\": 1, \"boundary_score\": 1.0, \"rolling_avg_score\": 1.468, \"start_issue\": \"1962-06-25\", \"temp_issue_number\": 25.0}, {\"page_number\": 940, \"predicted_boundary\": 3, \"boundary_score\": 1.0, \"rolling_avg_score\": 1.268, \"start_issue\": \"1962-06-25\", \"temp_issue_number\": 25.0}, {\"page_number\": 941, \"predicted_boundary\": 11, \"boundary_score\": 1.0, \"rolling_avg_score\": 1.0, \"start_issue\": \"1962-06-25\", \"temp_issue_number\": 25.0}, {\"page_number\": 942, \"predicted_boundary\": 1, \"boundary_score\": 1.0, \"rolling_avg_score\": 1.0, \"start_issue\": \"1962-06-25\", \"temp_issue_number\": 25.0}, {\"page_number\": 947, \"predicted_boundary\": 3, \"boundary_score\": 1.0, \"rolling_avg_score\": 1.0, \"start_issue\": \"1962-06-25\", \"temp_issue_number\": 25.0}, {\"page_number\": 962, \"predicted_boundary\": 0, \"boundary_score\": 1.0, \"rolling_avg_score\": 1.0, \"start_issue\": \"1962-06-25\", \"temp_issue_number\": 25.0}]}}, {\"mode\": \"vega-lite\"});\n",
       "</script>"
      ],
      "text/plain": [
       "alt.LayerChart(...)"
      ]
     },
     "execution_count": 45,
     "metadata": {},
     "output_type": "execute_result"
    }
   ],
   "source": [
    "import altair as alt\n",
    "import pandas as pd\n",
    "\n",
    "# Ensure the necessary columns are of the correct data type\n",
    "prefix_sum_df['page_number'] = prefix_sum_df['page_number'].astype(int)\n",
    "subset_full_df['page_number'] = subset_full_df['page_number'].astype(int)\n",
    "\n",
    "# Merge actual issues with predicted boundary scores\n",
    "merged_prefix_sum_df = prefix_sum_df.merge(\n",
    "    subset_full_df[['page_number', 'start_issue', 'temp_issue_number']], \n",
    "    on='page_number', \n",
    "    how='left'\n",
    ")\n",
    "\n",
    "# Calculate a rolling average of boundary scores over a window of pages\n",
    "window_size = 5  # Adjust this window size as needed\n",
    "merged_prefix_sum_df['rolling_avg_score'] = merged_prefix_sum_df['boundary_score'].rolling(window=window_size, min_periods=1).mean()\n",
    "\n",
    "# Base chart for page number\n",
    "base = alt.Chart(merged_prefix_sum_df).encode(\n",
    "    x=alt.X('page_number:Q', title='Page Number')\n",
    ")\n",
    "\n",
    "# Line for the rolling average of boundary scores\n",
    "rolling_avg_line = base.mark_line(color='blue').encode(\n",
    "    y=alt.Y('rolling_avg_score:Q', title='Rolling Average Score'),\n",
    "    tooltip=['page_number', 'rolling_avg_score']\n",
    ").properties(\n",
    "    title='Actual vs. Predicted Issue Boundaries'\n",
    ")\n",
    "\n",
    "# Points for actual issue boundaries\n",
    "actual_points = base.transform_filter(\n",
    "    alt.datum.start_issue != None  # Only show rows with actual boundaries\n",
    ").mark_point(\n",
    "    color='red', size=80, shape='cross'\n",
    ").encode(\n",
    "    y=alt.value(1.2),  # Place above the rolling average line\n",
    "    tooltip=['page_number', 'start_issue', 'temp_issue_number']\n",
    ")\n",
    "\n",
    "# Points for predicted boundaries\n",
    "predicted_points = base.transform_filter(\n",
    "    alt.datum.boundary_score > 0  # Only show positive boundary scores\n",
    ").mark_circle(color='green', size=50).encode(\n",
    "    y=alt.Y('boundary_score:Q'),\n",
    "    tooltip=['page_number', 'boundary_score', 'temp_issue_number']\n",
    ")\n",
    "\n",
    "# Combine all layers\n",
    "chart = (rolling_avg_line + actual_points + predicted_points).interactive()\n",
    "\n",
    "# Display the chart\n",
    "chart"
   ]
  },
  {
   "cell_type": "code",
   "execution_count": 34,
   "metadata": {},
   "outputs": [],
   "source": [
    "# # Prefix Sum Method\n",
    "# def initialize_raw_scores(df):\n",
    "# \tmax_page = df['page_number'].max()\n",
    "# \tmax_possible_number = max_page + 25\n",
    "# \traw_scores = np.zeros((max_page + 1, max_possible_number + 1), dtype=int)\n",
    "\t\n",
    "# \traw_scores_counter = 0\n",
    "# \tfor _, row in tqdm(df.iterrows(), total=len(df), desc=\"Initializing Raw Scores\"):\n",
    "# \t\tpage = row['page_number']\n",
    "# \t\tnumber = row['number']\n",
    "# \t\tif number <= max_possible_number:\n",
    "# \t\t\traw_scores[page, number] += 1\n",
    "# \t\t\traw_scores_counter += 1\n",
    "# \tconsole.print(f\"Initialized raw scores for {raw_scores_counter} digits across {max_page} pages from an initial {len(df)} digits.\")\n",
    "# \treturn raw_scores\n",
    "\n",
    "# def prefix_sums(raw_scores, updown=0.5, diag=0.25, otherwise=0.01, points=0.2):\n",
    "# \tscores = raw_scores.copy()\n",
    "# \tnrows, ncols = raw_scores.shape\n",
    "# \tfor i in range(nrows):\n",
    "# \t\tfor j in range(ncols):\n",
    "# \t\t\tcell = otherwise + points * raw_scores[i, j]\n",
    "# \t\t\tchoices = []\n",
    "# \t\t\tif j > 0:\n",
    "# \t\t\t\tchoices.append(scores[i, j-1] * updown)\n",
    "# \t\t\tif i > 0:\n",
    "# \t\t\t\tchoices.append(scores[i-1, j] * updown)\n",
    "# \t\t\t\tif j > 0:\n",
    "# \t\t\t\t\tchoices.append(scores[i-1, j-1] * diag)\n",
    "# \t\t\tcell += max(choices, default=0)\n",
    "# \t\t\tscores[i, j] = cell\n",
    "# \tconsole.print(f\"Computed prefix sums for {nrows} rows and {ncols} columns.\")\n",
    "# \tconsole.print(f\"Max score: {scores.max()}\")\n",
    "# \treturn scores\n",
    "\n",
    "# def combined_scores(raw_scores, backpass_weight=0.66):\n",
    "# \tforward = prefix_sums(raw_scores)\n",
    "# \tbackward = prefix_sums(raw_scores[::-1, :])[::-1, :]\n",
    "# \treturn backpass_weight * backward + (1 - backpass_weight) * forward\n",
    "\n",
    "# def predict_boundaries_prefix_sum(combined_scores):\n",
    "# \tpredictions = []\n",
    "# \tfor i in range(combined_scores.shape[0]):\n",
    "# \t\tmax_score_idx = np.argmax(combined_scores[i])\n",
    "# \t\tpredictions.append((i, max_score_idx))  # (page_number, predicted_boundary)\n",
    "# \tpredictions_df = pd.DataFrame(predictions, columns=['page_number', 'predicted_boundary'])\n",
    "# \treturn predictions_df\n",
    "\n",
    "\n",
    "# # Prefix Sum Predictions\n",
    "# raw_scores = initialize_raw_scores(subset_digits)\n",
    "# combined = combined_scores(raw_scores)\n",
    "# prefix_sum_df = predict_boundaries_prefix_sum(combined)\n",
    "# console.print(f\"Prefix Sum detected {len(prefix_sum_df)} potential boundaries.\")"
   ]
  },
  {
   "cell_type": "code",
   "execution_count": 13,
   "metadata": {},
   "outputs": [
    {
     "data": {
      "text/plain": [
       "predicted_boundary\n",
       "0    948\n",
       "Name: count, dtype: int64"
      ]
     },
     "execution_count": 13,
     "metadata": {},
     "output_type": "execute_result"
    }
   ],
   "source": [
    "prefix_sum_df.predicted_boundary.value_counts().head(10)"
   ]
  },
  {
   "cell_type": "code",
   "execution_count": 8,
   "metadata": {},
   "outputs": [
    {
     "data": {
      "text/html": [
       "<div>\n",
       "<style scoped>\n",
       "    .dataframe tbody tr th:only-of-type {\n",
       "        vertical-align: middle;\n",
       "    }\n",
       "\n",
       "    .dataframe tbody tr th {\n",
       "        vertical-align: top;\n",
       "    }\n",
       "\n",
       "    .dataframe thead th {\n",
       "        text-align: right;\n",
       "    }\n",
       "</style>\n",
       "<table border=\"1\" class=\"dataframe\">\n",
       "  <thead>\n",
       "    <tr style=\"text-align: right;\">\n",
       "      <th></th>\n",
       "      <th>page_number</th>\n",
       "      <th>implied_zero_values</th>\n",
       "      <th>status</th>\n",
       "      <th>start_issue</th>\n",
       "      <th>status_issue_number</th>\n",
       "      <th>threshold</th>\n",
       "      <th>predicted_boundary</th>\n",
       "    </tr>\n",
       "  </thead>\n",
       "  <tbody>\n",
       "    <tr>\n",
       "      <th>0</th>\n",
       "      <td>0</td>\n",
       "      <td>NaN</td>\n",
       "      <td>NaN</td>\n",
       "      <td>NaN</td>\n",
       "      <td>NaN</td>\n",
       "      <td>NaN</td>\n",
       "      <td>0</td>\n",
       "    </tr>\n",
       "    <tr>\n",
       "      <th>1</th>\n",
       "      <td>1</td>\n",
       "      <td>NaN</td>\n",
       "      <td>NaN</td>\n",
       "      <td>NaN</td>\n",
       "      <td>NaN</td>\n",
       "      <td>NaN</td>\n",
       "      <td>0</td>\n",
       "    </tr>\n",
       "    <tr>\n",
       "      <th>2</th>\n",
       "      <td>2</td>\n",
       "      <td>NaN</td>\n",
       "      <td>NaN</td>\n",
       "      <td>NaN</td>\n",
       "      <td>NaN</td>\n",
       "      <td>NaN</td>\n",
       "      <td>0</td>\n",
       "    </tr>\n",
       "    <tr>\n",
       "      <th>3</th>\n",
       "      <td>3</td>\n",
       "      <td>NaN</td>\n",
       "      <td>NaN</td>\n",
       "      <td>NaN</td>\n",
       "      <td>NaN</td>\n",
       "      <td>NaN</td>\n",
       "      <td>0</td>\n",
       "    </tr>\n",
       "    <tr>\n",
       "      <th>4</th>\n",
       "      <td>4</td>\n",
       "      <td>NaN</td>\n",
       "      <td>NaN</td>\n",
       "      <td>NaN</td>\n",
       "      <td>NaN</td>\n",
       "      <td>NaN</td>\n",
       "      <td>0</td>\n",
       "    </tr>\n",
       "  </tbody>\n",
       "</table>\n",
       "</div>"
      ],
      "text/plain": [
       "   page_number implied_zero_values status start_issue  status_issue_number  \\\n",
       "0            0                 NaN    NaN         NaN                  NaN   \n",
       "1            1                 NaN    NaN         NaN                  NaN   \n",
       "2            2                 NaN    NaN         NaN                  NaN   \n",
       "3            3                 NaN    NaN         NaN                  NaN   \n",
       "4            4                 NaN    NaN         NaN                  NaN   \n",
       "\n",
       "   threshold  predicted_boundary  \n",
       "0        NaN                   0  \n",
       "1        NaN                   0  \n",
       "2        NaN                   0  \n",
       "3        NaN                   0  \n",
       "4        NaN                   0  "
      ]
     },
     "execution_count": 8,
     "metadata": {},
     "output_type": "execute_result"
    }
   ],
   "source": [
    "# Merge Results for Comparison\n",
    "comparison_df = pd.merge(boundaries_df, prefix_sum_df, on='page_number', how='outer', suffixes=('_sliding', '_prefix'))\n",
    "comparison_df.head()"
   ]
  },
  {
   "cell_type": "code",
   "execution_count": null,
   "metadata": {},
   "outputs": [],
   "source": []
  },
  {
   "cell_type": "code",
   "execution_count": 55,
   "metadata": {},
   "outputs": [
    {
     "name": "stderr",
     "output_type": "stream",
     "text": [
      "Predicting Page Number: 100%|██████████| 16/16 [00:00<00:00, 31.77it/s]\n"
     ]
    }
   ],
   "source": [
    "def get_predicted_page(df, range_of_max_issue_length, window_size=2):\n",
    "    dfs = []\n",
    "    \n",
    "    for max_issue_length in tqdm(range_of_max_issue_length, desc=\"Predicting Page Number\"):\n",
    "        copied_df = df.copy()\n",
    "        max_page = copied_df['page_number'].max()\n",
    "        max_possible_number = max_page + max_issue_length\n",
    "        \n",
    "        filtered_df = copied_df[copied_df['number'] < max_possible_number]\n",
    "        \n",
    "        grouped_pages = filtered_df.groupby('implied_zero').size().reset_index(name='counts')\n",
    "        grouped_pages = grouped_pages[grouped_pages['counts'] > max_issue_length - 5].reset_index(drop=True)\n",
    "        \n",
    "        # Pre-allocate columns with `None`\n",
    "        copied_df = copied_df.assign(predicted_page=None, predicted_issue_number=None, max_issue_length=max_issue_length)\n",
    "        for index, row in grouped_pages.iterrows():\n",
    "            # Using vectorized operations to assign predictions\n",
    "            zero_window = [max(0, row.implied_zero - window_size), row.implied_zero + window_size]\n",
    "            zero_range = range(zero_window[0], zero_window[1] + 1)\n",
    "            \n",
    "            is_within_window = copied_df['page_number'].isin(zero_range)\n",
    "            copied_df.loc[is_within_window, 'predicted_page'] = 'predicted_beginning_of_issue'\n",
    "            copied_df.loc[is_within_window, 'predicted_issue_number'] = f\"issue {index}\"\n",
    "        \n",
    "        dfs.append(copied_df)\n",
    "    \n",
    "    combined_df = pd.concat(dfs, ignore_index=True)\n",
    "    return combined_df\n",
    "\n",
    "range_of_max_issue_length = [10, 15, 20, 25, 30, 35, 40, 45, 50, 60, 70, 80, 90, 100, 200, 300]\n",
    "predicted_df = get_predicted_page(merged_boundaries_digits_df, range_of_max_issue_length)"
   ]
  },
  {
   "cell_type": "code",
   "execution_count": 68,
   "metadata": {},
   "outputs": [
    {
     "data": {
      "text/html": [
       "<div>\n",
       "<style scoped>\n",
       "    .dataframe tbody tr th:only-of-type {\n",
       "        vertical-align: middle;\n",
       "    }\n",
       "\n",
       "    .dataframe tbody tr th {\n",
       "        vertical-align: top;\n",
       "    }\n",
       "\n",
       "    .dataframe thead th {\n",
       "        text-align: right;\n",
       "    }\n",
       "</style>\n",
       "<table border=\"1\" class=\"dataframe\">\n",
       "  <thead>\n",
       "    <tr style=\"text-align: right;\">\n",
       "      <th></th>\n",
       "      <th>start_issue</th>\n",
       "      <th>predicted_page</th>\n",
       "      <th>predicted_issue_number</th>\n",
       "      <th>status</th>\n",
       "      <th>max_issue_length</th>\n",
       "      <th>page_number</th>\n",
       "    </tr>\n",
       "  </thead>\n",
       "  <tbody>\n",
       "    <tr>\n",
       "      <th>0</th>\n",
       "      <td>1962-04-16</td>\n",
       "      <td>predicted_beginning_of_issue</td>\n",
       "      <td>issue 230</td>\n",
       "      <td>potential_boundary</td>\n",
       "      <td>10</td>\n",
       "      <td>549</td>\n",
       "    </tr>\n",
       "    <tr>\n",
       "      <th>24</th>\n",
       "      <td>1962-04-16</td>\n",
       "      <td>predicted_beginning_of_issue</td>\n",
       "      <td>issue 230</td>\n",
       "      <td>potential_boundary</td>\n",
       "      <td>10</td>\n",
       "      <td>550</td>\n",
       "    </tr>\n",
       "    <tr>\n",
       "      <th>33</th>\n",
       "      <td>1962-04-16</td>\n",
       "      <td>predicted_beginning_of_issue</td>\n",
       "      <td>issue 231</td>\n",
       "      <td>potential_boundary</td>\n",
       "      <td>10</td>\n",
       "      <td>552</td>\n",
       "    </tr>\n",
       "    <tr>\n",
       "      <th>36</th>\n",
       "      <td>1962-04-16</td>\n",
       "      <td>predicted_beginning_of_issue</td>\n",
       "      <td>issue 232</td>\n",
       "      <td>potential_boundary</td>\n",
       "      <td>10</td>\n",
       "      <td>553</td>\n",
       "    </tr>\n",
       "    <tr>\n",
       "      <th>45</th>\n",
       "      <td>1962-04-16</td>\n",
       "      <td>predicted_beginning_of_issue</td>\n",
       "      <td>issue 232</td>\n",
       "      <td>potential_boundary</td>\n",
       "      <td>10</td>\n",
       "      <td>554</td>\n",
       "    </tr>\n",
       "  </tbody>\n",
       "</table>\n",
       "</div>"
      ],
      "text/plain": [
       "   start_issue                predicted_page predicted_issue_number  \\\n",
       "0   1962-04-16  predicted_beginning_of_issue              issue 230   \n",
       "24  1962-04-16  predicted_beginning_of_issue              issue 230   \n",
       "33  1962-04-16  predicted_beginning_of_issue              issue 231   \n",
       "36  1962-04-16  predicted_beginning_of_issue              issue 232   \n",
       "45  1962-04-16  predicted_beginning_of_issue              issue 232   \n",
       "\n",
       "                status  max_issue_length  page_number  \n",
       "0   potential_boundary                10          549  \n",
       "24  potential_boundary                10          550  \n",
       "33  potential_boundary                10          552  \n",
       "36  potential_boundary                10          553  \n",
       "45  potential_boundary                10          554  "
      ]
     },
     "execution_count": 68,
     "metadata": {},
     "output_type": "execute_result"
    }
   ],
   "source": [
    "predicted_df[predicted_df.status == \"potential_boundary\"][['start_issue', 'predicted_page', 'predicted_issue_number', 'status', 'max_issue_length', 'page_number']].drop_duplicates()"
   ]
  },
  {
   "cell_type": "code",
   "execution_count": 7,
   "metadata": {},
   "outputs": [],
   "source": [
    "### Annotated Datasets\n",
    "\n",
    "def get_annotated_datasets(df, range_of_max_issue_length, rewrite_files):\n",
    "       predictions_path = \"../issue_segments/predicted_issue_segments_for_annotated_issues.csv\"\n",
    "       issues_path = \"../derived_annotated_datasets/issue_segments_for_annotated_issues.csv\"\n",
    "       if (os.path.exists(predictions_path)) and (os.path.exists(issues_path)) and (rewrite_files == False):\n",
    "              predictions = pd.read_csv(predictions_path)\n",
    "              final_df = pd.read_csv(issues_path)\n",
    "       else:\n",
    "              subset_digits = clean_digits(df)\n",
    "              tqdm.pandas()\n",
    "              htids = subset_digits.htid.unique().tolist()\n",
    "              dfs = []\n",
    "              for htid in tqdm(htids, total=len(htids), desc='Processing digits'):\n",
    "                     subset_df = subset_digits[subset_digits.htid == htid]\n",
    "                     subset_df = get_predicted_page(subset_df, range_of_max_issue_length)\n",
    "                     dfs.append(subset_df)\n",
    "              combined_subset_digits = pd.concat(dfs)\n",
    "              combined_subset_digits = combined_subset_digits.reset_index(drop=True)\n",
    "              digit_cols = combined_subset_digits.columns.tolist()\n",
    "              digit_cols = [x for x in digit_cols if x not in ['pos', 'count', 'section', 'token']]\n",
    "              combined_subset_digits = combined_subset_digits[digit_cols]\n",
    "              cols = list(set(df) & (set(combined_subset_digits)))\n",
    "              \n",
    "\n",
    "              merged_df = pd.merge(df, combined_subset_digits, on=cols, how='left')\n",
    "              if merged_df['volume_number'].isna().all():\n",
    "                     merged_df = merged_df.drop(columns='volume_number')\n",
    "              cols = cols + ['predicted_page', 'predicted_issue_number', 'max_issue_length']\n",
    "              subset_predictions = combined_subset_digits[cols].drop_duplicates()\n",
    "              subset_predictions = subset_predictions[(subset_predictions.type_of_page == 'cover_page') & (subset_predictions.predicted_page.notna())]\n",
    "              pages_cols = merged_df.columns.tolist()\n",
    "              holdout_cols = ['section', 'token', 'pos', 'count', 'number', 'implied_zero']\n",
    "              pages_cols = [x for x in pages_cols if x not in holdout_cols]\n",
    "              pages_df = merged_df[pages_cols]\n",
    "              pages_df = pages_df.drop_duplicates()\n",
    "              groupby_cols = ['cleaned_magazine_title', 'ht_generated_title', 'volume_number', 'htid', 'hdl_link','cleaned_volume', 'start_issue', 'end_issue', 'datetime','dates', 'issue_number', 'type_of_page', 'sequence'] if 'volume_number' in merged_df.columns else ['cleaned_magazine_title', 'ht_generated_title', 'htid', 'hdl_link','cleaned_volume', 'start_issue', 'end_issue', 'datetime','dates', 'issue_number', 'type_of_page', 'sequence']\n",
    "              final_df = merged_df.groupby(groupby_cols, as_index = False).agg({'token': ' '.join, 'count': list, 'number': list, 'implied_zero': list})\n",
    "              final_cols = list(set(pages_df) & set(final_df))\n",
    "              finalized_df = pd.merge(pages_df, final_df, on=final_cols, how='left')\n",
    "              all_predictions = finalized_df[finalized_df.predicted_page.notna()]\n",
    "              grouped_df = df.groupby(groupby_cols, as_index = False).agg({'token': ' '.join})\n",
    "              pred_cols = list(set(grouped_df) & set(subset_predictions))\n",
    "\n",
    "              pred_merged_df = pd.merge(grouped_df, subset_predictions, on=pred_cols, how='left')\n",
    "              # predictions.to_csv(predictions_path, index=False)\n",
    "              # finalized_df.to_csv(issues_path, index=False)\n",
    "       return finalized_df, all_predictions, pred_merged_df"
   ]
  },
  {
   "cell_type": "code",
   "execution_count": 10,
   "metadata": {},
   "outputs": [],
   "source": [
    "def get_annotations(large_files, initial_df, range_of_max_issue_length, rewrite_files):\n",
    "    if large_files == True:\n",
    "        # annotated_dfs = []\n",
    "        all_predictions_dfs = []\n",
    "        predictions_dfs = []\n",
    "        for directory, subdir, files in os.walk(\"derived_files/temp/\"):\n",
    "            for file in tqdm(files, desc=\"Files\"):\n",
    "                # if file.startswith(\"issue_segments_for_annotated_issues\"):\n",
    "                #     annotated_df = pd.read_csv(f\"{directory}/{file}\")\n",
    "                #     annotated_dfs.append(annotated_df)\n",
    "                if (file.startswith(\"predicted_issue_segments_for_annotated_issues\")) and ('merged' not in file):\n",
    "                    all_predictions = pd.read_csv(f\"{directory}/{file}\")\n",
    "                    all_predictions_dfs.append(all_predictions)\n",
    "                elif file.startswith(\"predicted_issue_segments_for_annotated_issues_merged\"):\n",
    "                    predictions_df = pd.read_csv(f\"{directory}/{file}\")\n",
    "                    predictions_dfs.append(predictions_df)\n",
    "        # final_annotated_df = pd.concat(annotated_dfs)\n",
    "        all_predictions = pd.concat(all_predictions_dfs)\n",
    "        predictions_df = pd.concat(predictions_dfs)\n",
    "        annotated_df = pd.DataFrame()\n",
    "    else:\n",
    "        annotated_df, all_predictions, predictions_df = get_annotated_datasets(initial_df, range_of_max_issue_length, rewrite_files=True)\n",
    "        print(len(annotated_df[(annotated_df.type_of_page == 'cover_page') & (annotated_df.predicted_page.notna())]), len(annotated_df[(annotated_df.type_of_page == 'cover_page') & (annotated_df.predicted_page.isna())]))\n",
    "        print(predictions_df[(predictions_df.predicted_page.notna()) & (predictions_df.token.str.len() < 200)][0:1].to_dict())\n",
    "    return annotated_df, all_predictions, predictions_df"
   ]
  },
  {
   "cell_type": "code",
   "execution_count": 11,
   "metadata": {},
   "outputs": [
    {
     "name": "stderr",
     "output_type": "stream",
     "text": [
      "Files: 100%|██████████| 51/51 [00:28<00:00,  1.82it/s]\n"
     ]
    }
   ],
   "source": [
    "annotated_df, all_predictions, predictions_df = get_annotations(large_files=True, initial_df=initial_df, range_of_max_issue_length=range_of_max_issue_length, rewrite_files=True)"
   ]
  },
  {
   "cell_type": "code",
   "execution_count": 12,
   "metadata": {},
   "outputs": [
    {
     "data": {
      "text/html": [
       "\n",
       "<style>\n",
       "  #altair-viz-5e0918b063334a9ebbd4a30b9f5adfc0.vega-embed {\n",
       "    width: 100%;\n",
       "    display: flex;\n",
       "  }\n",
       "\n",
       "  #altair-viz-5e0918b063334a9ebbd4a30b9f5adfc0.vega-embed details,\n",
       "  #altair-viz-5e0918b063334a9ebbd4a30b9f5adfc0.vega-embed details summary {\n",
       "    position: relative;\n",
       "  }\n",
       "</style>\n",
       "<div id=\"altair-viz-5e0918b063334a9ebbd4a30b9f5adfc0\"></div>\n",
       "<script type=\"text/javascript\">\n",
       "  var VEGA_DEBUG = (typeof VEGA_DEBUG == \"undefined\") ? {} : VEGA_DEBUG;\n",
       "  (function(spec, embedOpt){\n",
       "    let outputDiv = document.currentScript.previousElementSibling;\n",
       "    if (outputDiv.id !== \"altair-viz-5e0918b063334a9ebbd4a30b9f5adfc0\") {\n",
       "      outputDiv = document.getElementById(\"altair-viz-5e0918b063334a9ebbd4a30b9f5adfc0\");\n",
       "    }\n",
       "    const paths = {\n",
       "      \"vega\": \"https://cdn.jsdelivr.net/npm/vega@5?noext\",\n",
       "      \"vega-lib\": \"https://cdn.jsdelivr.net/npm/vega-lib?noext\",\n",
       "      \"vega-lite\": \"https://cdn.jsdelivr.net/npm/vega-lite@5.8.0?noext\",\n",
       "      \"vega-embed\": \"https://cdn.jsdelivr.net/npm/vega-embed@6?noext\",\n",
       "    };\n",
       "\n",
       "    function maybeLoadScript(lib, version) {\n",
       "      var key = `${lib.replace(\"-\", \"\")}_version`;\n",
       "      return (VEGA_DEBUG[key] == version) ?\n",
       "        Promise.resolve(paths[lib]) :\n",
       "        new Promise(function(resolve, reject) {\n",
       "          var s = document.createElement('script');\n",
       "          document.getElementsByTagName(\"head\")[0].appendChild(s);\n",
       "          s.async = true;\n",
       "          s.onload = () => {\n",
       "            VEGA_DEBUG[key] = version;\n",
       "            return resolve(paths[lib]);\n",
       "          };\n",
       "          s.onerror = () => reject(`Error loading script: ${paths[lib]}`);\n",
       "          s.src = paths[lib];\n",
       "        });\n",
       "    }\n",
       "\n",
       "    function showError(err) {\n",
       "      outputDiv.innerHTML = `<div class=\"error\" style=\"color:red;\">${err}</div>`;\n",
       "      throw err;\n",
       "    }\n",
       "\n",
       "    function displayChart(vegaEmbed) {\n",
       "      vegaEmbed(outputDiv, spec, embedOpt)\n",
       "        .catch(err => showError(`Javascript Error: ${err.message}<br>This usually means there's a typo in your chart specification. See the javascript console for the full traceback.`));\n",
       "    }\n",
       "\n",
       "    if(typeof define === \"function\" && define.amd) {\n",
       "      requirejs.config({paths});\n",
       "      require([\"vega-embed\"], displayChart, err => showError(`Error loading script: ${err.message}`));\n",
       "    } else {\n",
       "      maybeLoadScript(\"vega\", \"5\")\n",
       "        .then(() => maybeLoadScript(\"vega-lite\", \"5.8.0\"))\n",
       "        .then(() => maybeLoadScript(\"vega-embed\", \"6\"))\n",
       "        .catch(showError)\n",
       "        .then(() => displayChart(vegaEmbed));\n",
       "    }\n",
       "  })({\"config\": {\"view\": {\"continuousWidth\": 300, \"continuousHeight\": 300}}, \"data\": {\"name\": \"data-0409187a9008e056e5708e4a606143b9\"}, \"mark\": {\"type\": \"bar\"}, \"encoding\": {\"row\": {\"field\": \"max_issue_length\", \"type\": \"nominal\"}, \"x\": {\"aggregate\": \"sum\", \"field\": \"predicted_issue_number\", \"type\": \"quantitative\"}, \"y\": {\"field\": \"cleaned_magazine_title\", \"sort\": \"-x\", \"type\": \"nominal\"}}, \"$schema\": \"https://vega.github.io/schema/vega-lite/v5.8.0.json\", \"datasets\": {\"data-0409187a9008e056e5708e4a606143b9\": [{\"cleaned_magazine_title\": \"arab_observer\", \"htid\": \"mdp.39015056038063\", \"max_issue_length\": 10.0, \"predicted_issue_number\": 32}, {\"cleaned_magazine_title\": \"arab_observer\", \"htid\": \"mdp.39015056038063\", \"max_issue_length\": 15.0, \"predicted_issue_number\": 11}, {\"cleaned_magazine_title\": \"arab_observer\", \"htid\": \"mdp.39015056038063\", \"max_issue_length\": 20.0, \"predicted_issue_number\": 10}, {\"cleaned_magazine_title\": \"arab_observer\", \"htid\": \"mdp.39015056038063\", \"max_issue_length\": 25.0, \"predicted_issue_number\": 10}, {\"cleaned_magazine_title\": \"arab_observer\", \"htid\": \"mdp.39015056038063\", \"max_issue_length\": 30.0, \"predicted_issue_number\": 6}, {\"cleaned_magazine_title\": \"arab_observer\", \"htid\": \"mdp.39015056038063\", \"max_issue_length\": 35.0, \"predicted_issue_number\": 4}, {\"cleaned_magazine_title\": \"arab_observer\", \"htid\": \"mdp.39015056038071\", \"max_issue_length\": 10.0, \"predicted_issue_number\": 321}, {\"cleaned_magazine_title\": \"arab_observer\", \"htid\": \"mdp.39015056038071\", \"max_issue_length\": 15.0, \"predicted_issue_number\": 37}, {\"cleaned_magazine_title\": \"arab_observer\", \"htid\": \"mdp.39015056038071\", \"max_issue_length\": 20.0, \"predicted_issue_number\": 23}, {\"cleaned_magazine_title\": \"arab_observer\", \"htid\": \"mdp.39015056038071\", \"max_issue_length\": 25.0, \"predicted_issue_number\": 10}, {\"cleaned_magazine_title\": \"arab_observer\", \"htid\": \"mdp.39015056038089\", \"max_issue_length\": 10.0, \"predicted_issue_number\": 6}, {\"cleaned_magazine_title\": \"arab_observer\", \"htid\": \"mdp.39015056038089\", \"max_issue_length\": 15.0, \"predicted_issue_number\": 2}, {\"cleaned_magazine_title\": \"arab_observer\", \"htid\": \"mdp.39015056038089\", \"max_issue_length\": 20.0, \"predicted_issue_number\": 1}, {\"cleaned_magazine_title\": \"arab_observer\", \"htid\": \"mdp.39015056038089\", \"max_issue_length\": 25.0, \"predicted_issue_number\": 1}, {\"cleaned_magazine_title\": \"arab_observer\", \"htid\": \"mdp.39015056038212\", \"max_issue_length\": 10.0, \"predicted_issue_number\": 121}, {\"cleaned_magazine_title\": \"arab_observer\", \"htid\": \"mdp.39015056038212\", \"max_issue_length\": 15.0, \"predicted_issue_number\": 10}, {\"cleaned_magazine_title\": \"arab_observer\", \"htid\": \"mdp.39015056038212\", \"max_issue_length\": 20.0, \"predicted_issue_number\": 6}, {\"cleaned_magazine_title\": \"arab_observer\", \"htid\": \"mdp.39015056038212\", \"max_issue_length\": 25.0, \"predicted_issue_number\": 4}, {\"cleaned_magazine_title\": \"arab_observer\", \"htid\": \"mdp.39015056038212\", \"max_issue_length\": 30.0, \"predicted_issue_number\": 2}, {\"cleaned_magazine_title\": \"arab_observer\", \"htid\": \"mdp.39015056038212\", \"max_issue_length\": 35.0, \"predicted_issue_number\": 1}, {\"cleaned_magazine_title\": \"arab_observer\", \"htid\": \"mdp.39015056038220\", \"max_issue_length\": 10.0, \"predicted_issue_number\": 111}, {\"cleaned_magazine_title\": \"arab_observer\", \"htid\": \"mdp.39015056038220\", \"max_issue_length\": 15.0, \"predicted_issue_number\": 17}, {\"cleaned_magazine_title\": \"arab_observer\", \"htid\": \"mdp.39015056038220\", \"max_issue_length\": 20.0, \"predicted_issue_number\": 17}, {\"cleaned_magazine_title\": \"arab_observer\", \"htid\": \"mdp.39015056038220\", \"max_issue_length\": 25.0, \"predicted_issue_number\": 15}, {\"cleaned_magazine_title\": \"arab_observer\", \"htid\": \"mdp.39015056038220\", \"max_issue_length\": 30.0, \"predicted_issue_number\": 6}, {\"cleaned_magazine_title\": \"arab_observer\", \"htid\": \"mdp.39015056038220\", \"max_issue_length\": 35.0, \"predicted_issue_number\": 1}, {\"cleaned_magazine_title\": \"arab_observer\", \"htid\": \"mdp.39015056038238\", \"max_issue_length\": 10.0, \"predicted_issue_number\": 79}, {\"cleaned_magazine_title\": \"arab_observer\", \"htid\": \"mdp.39015056038238\", \"max_issue_length\": 15.0, \"predicted_issue_number\": 11}, {\"cleaned_magazine_title\": \"arab_observer\", \"htid\": \"mdp.39015056038238\", \"max_issue_length\": 20.0, \"predicted_issue_number\": 11}, {\"cleaned_magazine_title\": \"arab_observer\", \"htid\": \"mdp.39015056038238\", \"max_issue_length\": 25.0, \"predicted_issue_number\": 8}, {\"cleaned_magazine_title\": \"arab_observer\", \"htid\": \"mdp.39015056038238\", \"max_issue_length\": 30.0, \"predicted_issue_number\": 2}, {\"cleaned_magazine_title\": \"arab_observer\", \"htid\": \"mdp.39015056038246\", \"max_issue_length\": 10.0, \"predicted_issue_number\": 132}, {\"cleaned_magazine_title\": \"arab_observer\", \"htid\": \"mdp.39015056038246\", \"max_issue_length\": 15.0, \"predicted_issue_number\": 12}, {\"cleaned_magazine_title\": \"arab_observer\", \"htid\": \"mdp.39015056038246\", \"max_issue_length\": 20.0, \"predicted_issue_number\": 12}, {\"cleaned_magazine_title\": \"arab_observer\", \"htid\": \"mdp.39015056038246\", \"max_issue_length\": 25.0, \"predicted_issue_number\": 9}, {\"cleaned_magazine_title\": \"arab_observer\", \"htid\": \"mdp.39015056038246\", \"max_issue_length\": 30.0, \"predicted_issue_number\": 6}, {\"cleaned_magazine_title\": \"arab_observer\", \"htid\": \"mdp.39015056038246\", \"max_issue_length\": 35.0, \"predicted_issue_number\": 3}, {\"cleaned_magazine_title\": \"arab_observer\", \"htid\": \"mdp.39015056038246\", \"max_issue_length\": 40.0, \"predicted_issue_number\": 1}, {\"cleaned_magazine_title\": \"arab_observer\", \"htid\": \"mdp.39015056038253\", \"max_issue_length\": 10.0, \"predicted_issue_number\": 199}, {\"cleaned_magazine_title\": \"arab_observer\", \"htid\": \"mdp.39015056038253\", \"max_issue_length\": 15.0, \"predicted_issue_number\": 20}, {\"cleaned_magazine_title\": \"arab_observer\", \"htid\": \"mdp.39015056038253\", \"max_issue_length\": 20.0, \"predicted_issue_number\": 12}, {\"cleaned_magazine_title\": \"arab_observer\", \"htid\": \"mdp.39015056038253\", \"max_issue_length\": 25.0, \"predicted_issue_number\": 11}, {\"cleaned_magazine_title\": \"arab_observer\", \"htid\": \"mdp.39015056038253\", \"max_issue_length\": 30.0, \"predicted_issue_number\": 8}, {\"cleaned_magazine_title\": \"arab_observer\", \"htid\": \"mdp.39015056038253\", \"max_issue_length\": 35.0, \"predicted_issue_number\": 4}, {\"cleaned_magazine_title\": \"arab_observer\", \"htid\": \"mdp.39015056038378\", \"max_issue_length\": 10.0, \"predicted_issue_number\": 88}, {\"cleaned_magazine_title\": \"arab_observer\", \"htid\": \"mdp.39015056038378\", \"max_issue_length\": 15.0, \"predicted_issue_number\": 13}, {\"cleaned_magazine_title\": \"arab_observer\", \"htid\": \"mdp.39015056038378\", \"max_issue_length\": 20.0, \"predicted_issue_number\": 5}, {\"cleaned_magazine_title\": \"arab_observer\", \"htid\": \"mdp.39015056038378\", \"max_issue_length\": 25.0, \"predicted_issue_number\": 1}, {\"cleaned_magazine_title\": \"arab_observer\", \"htid\": \"mdp.39015056038386\", \"max_issue_length\": 10.0, \"predicted_issue_number\": 113}, {\"cleaned_magazine_title\": \"arab_observer\", \"htid\": \"mdp.39015056038386\", \"max_issue_length\": 15.0, \"predicted_issue_number\": 17}, {\"cleaned_magazine_title\": \"arab_observer\", \"htid\": \"mdp.39015056038386\", \"max_issue_length\": 20.0, \"predicted_issue_number\": 17}, {\"cleaned_magazine_title\": \"arab_observer\", \"htid\": \"mdp.39015056038386\", \"max_issue_length\": 25.0, \"predicted_issue_number\": 12}, {\"cleaned_magazine_title\": \"arab_observer\", \"htid\": \"mdp.39015056038386\", \"max_issue_length\": 30.0, \"predicted_issue_number\": 8}, {\"cleaned_magazine_title\": \"arab_observer\", \"htid\": \"mdp.39015056038386\", \"max_issue_length\": 35.0, \"predicted_issue_number\": 2}, {\"cleaned_magazine_title\": \"arab_observer\", \"htid\": \"mdp.39015056038394\", \"max_issue_length\": 10.0, \"predicted_issue_number\": 126}, {\"cleaned_magazine_title\": \"arab_observer\", \"htid\": \"mdp.39015056038394\", \"max_issue_length\": 15.0, \"predicted_issue_number\": 17}, {\"cleaned_magazine_title\": \"arab_observer\", \"htid\": \"mdp.39015056038394\", \"max_issue_length\": 20.0, \"predicted_issue_number\": 12}, {\"cleaned_magazine_title\": \"arab_observer\", \"htid\": \"mdp.39015056038394\", \"max_issue_length\": 25.0, \"predicted_issue_number\": 10}, {\"cleaned_magazine_title\": \"arab_observer\", \"htid\": \"mdp.39015056038394\", \"max_issue_length\": 30.0, \"predicted_issue_number\": 9}, {\"cleaned_magazine_title\": \"arab_observer\", \"htid\": \"mdp.39015056038394\", \"max_issue_length\": 35.0, \"predicted_issue_number\": 2}, {\"cleaned_magazine_title\": \"arab_observer\", \"htid\": \"mdp.39015056038394\", \"max_issue_length\": 40.0, \"predicted_issue_number\": 1}, {\"cleaned_magazine_title\": \"arab_observer\", \"htid\": \"mdp.39015056038402\", \"max_issue_length\": 10.0, \"predicted_issue_number\": 56}, {\"cleaned_magazine_title\": \"arab_observer\", \"htid\": \"mdp.39015056038402\", \"max_issue_length\": 15.0, \"predicted_issue_number\": 10}, {\"cleaned_magazine_title\": \"arab_observer\", \"htid\": \"mdp.39015056038402\", \"max_issue_length\": 20.0, \"predicted_issue_number\": 9}, {\"cleaned_magazine_title\": \"arab_observer\", \"htid\": \"mdp.39015056038402\", \"max_issue_length\": 25.0, \"predicted_issue_number\": 8}, {\"cleaned_magazine_title\": \"arab_observer\", \"htid\": \"mdp.39015056038402\", \"max_issue_length\": 30.0, \"predicted_issue_number\": 3}, {\"cleaned_magazine_title\": \"arab_observer\", \"htid\": \"mdp.39015056038410\", \"max_issue_length\": 10.0, \"predicted_issue_number\": 102}, {\"cleaned_magazine_title\": \"arab_observer\", \"htid\": \"mdp.39015056038410\", \"max_issue_length\": 15.0, \"predicted_issue_number\": 20}, {\"cleaned_magazine_title\": \"arab_observer\", \"htid\": \"mdp.39015056038410\", \"max_issue_length\": 20.0, \"predicted_issue_number\": 11}, {\"cleaned_magazine_title\": \"arab_observer\", \"htid\": \"mdp.39015056038410\", \"max_issue_length\": 25.0, \"predicted_issue_number\": 8}, {\"cleaned_magazine_title\": \"arab_observer\", \"htid\": \"mdp.39015056038410\", \"max_issue_length\": 30.0, \"predicted_issue_number\": 3}, {\"cleaned_magazine_title\": \"arab_observer\", \"htid\": \"mdp.39015056038410\", \"max_issue_length\": 35.0, \"predicted_issue_number\": 1}, {\"cleaned_magazine_title\": \"arab_observer\", \"htid\": \"uc1.l0063472831\", \"max_issue_length\": 10.0, \"predicted_issue_number\": 15}, {\"cleaned_magazine_title\": \"arab_observer\", \"htid\": \"uc1.l0063472831\", \"max_issue_length\": 15.0, \"predicted_issue_number\": 3}, {\"cleaned_magazine_title\": \"arab_observer\", \"htid\": \"uc1.l0063472831\", \"max_issue_length\": 20.0, \"predicted_issue_number\": 3}, {\"cleaned_magazine_title\": \"arab_observer\", \"htid\": \"uc1.l0063472831\", \"max_issue_length\": 25.0, \"predicted_issue_number\": 2}, {\"cleaned_magazine_title\": \"arab_observer\", \"htid\": \"uc1.l0063473003\", \"max_issue_length\": 10.0, \"predicted_issue_number\": 10}, {\"cleaned_magazine_title\": \"arab_observer\", \"htid\": \"uc1.l0063473003\", \"max_issue_length\": 15.0, \"predicted_issue_number\": 2}, {\"cleaned_magazine_title\": \"arab_observer\", \"htid\": \"uc1.l0063473003\", \"max_issue_length\": 20.0, \"predicted_issue_number\": 2}, {\"cleaned_magazine_title\": \"arab_observer\", \"htid\": \"uc1.l0063473003\", \"max_issue_length\": 25.0, \"predicted_issue_number\": 1}, {\"cleaned_magazine_title\": \"arab_observer\", \"htid\": \"uc1.l0082986993\", \"max_issue_length\": 10.0, \"predicted_issue_number\": 1}, {\"cleaned_magazine_title\": \"arab_observer\", \"htid\": \"uc1.l0082986993\", \"max_issue_length\": 15.0, \"predicted_issue_number\": 1}, {\"cleaned_magazine_title\": \"arab_observer\", \"htid\": \"uc1.l0082986993\", \"max_issue_length\": 20.0, \"predicted_issue_number\": 1}, {\"cleaned_magazine_title\": \"arab_observer\", \"htid\": \"uc1.l0082986993\", \"max_issue_length\": 25.0, \"predicted_issue_number\": 1}, {\"cleaned_magazine_title\": \"arab_observer\", \"htid\": \"uc1.l0082987033\", \"max_issue_length\": 10.0, \"predicted_issue_number\": 6}, {\"cleaned_magazine_title\": \"arab_observer\", \"htid\": \"uc1.l0082987033\", \"max_issue_length\": 15.0, \"predicted_issue_number\": 3}, {\"cleaned_magazine_title\": \"arab_observer\", \"htid\": \"uc1.l0082987033\", \"max_issue_length\": 20.0, \"predicted_issue_number\": 3}]}}, {\"mode\": \"vega-lite\"});\n",
       "</script>"
      ],
      "text/plain": [
       "alt.Chart(...)"
      ]
     },
     "execution_count": 12,
     "metadata": {},
     "output_type": "execute_result"
    }
   ],
   "source": [
    "issue_count = all_predictions.groupby(['cleaned_magazine_title', 'htid', 'max_issue_length']).predicted_issue_number.nunique().reset_index()\n",
    "\n",
    "alt.Chart(issue_count).mark_bar().encode(\n",
    "    x=alt.X('sum(predicted_issue_number):Q'),\n",
    "    y=alt.Y('cleaned_magazine_title:N', sort='-x'),\n",
    "    row=alt.Row('max_issue_length:N'),\n",
    ")"
   ]
  },
  {
   "cell_type": "code",
   "execution_count": 13,
   "metadata": {},
   "outputs": [
    {
     "data": {
      "text/html": [
       "\n",
       "<style>\n",
       "  #altair-viz-943766865f1447dab84a72c5651fa59d.vega-embed {\n",
       "    width: 100%;\n",
       "    display: flex;\n",
       "  }\n",
       "\n",
       "  #altair-viz-943766865f1447dab84a72c5651fa59d.vega-embed details,\n",
       "  #altair-viz-943766865f1447dab84a72c5651fa59d.vega-embed details summary {\n",
       "    position: relative;\n",
       "  }\n",
       "</style>\n",
       "<div id=\"altair-viz-943766865f1447dab84a72c5651fa59d\"></div>\n",
       "<script type=\"text/javascript\">\n",
       "  var VEGA_DEBUG = (typeof VEGA_DEBUG == \"undefined\") ? {} : VEGA_DEBUG;\n",
       "  (function(spec, embedOpt){\n",
       "    let outputDiv = document.currentScript.previousElementSibling;\n",
       "    if (outputDiv.id !== \"altair-viz-943766865f1447dab84a72c5651fa59d\") {\n",
       "      outputDiv = document.getElementById(\"altair-viz-943766865f1447dab84a72c5651fa59d\");\n",
       "    }\n",
       "    const paths = {\n",
       "      \"vega\": \"https://cdn.jsdelivr.net/npm/vega@5?noext\",\n",
       "      \"vega-lib\": \"https://cdn.jsdelivr.net/npm/vega-lib?noext\",\n",
       "      \"vega-lite\": \"https://cdn.jsdelivr.net/npm/vega-lite@5.8.0?noext\",\n",
       "      \"vega-embed\": \"https://cdn.jsdelivr.net/npm/vega-embed@6?noext\",\n",
       "    };\n",
       "\n",
       "    function maybeLoadScript(lib, version) {\n",
       "      var key = `${lib.replace(\"-\", \"\")}_version`;\n",
       "      return (VEGA_DEBUG[key] == version) ?\n",
       "        Promise.resolve(paths[lib]) :\n",
       "        new Promise(function(resolve, reject) {\n",
       "          var s = document.createElement('script');\n",
       "          document.getElementsByTagName(\"head\")[0].appendChild(s);\n",
       "          s.async = true;\n",
       "          s.onload = () => {\n",
       "            VEGA_DEBUG[key] = version;\n",
       "            return resolve(paths[lib]);\n",
       "          };\n",
       "          s.onerror = () => reject(`Error loading script: ${paths[lib]}`);\n",
       "          s.src = paths[lib];\n",
       "        });\n",
       "    }\n",
       "\n",
       "    function showError(err) {\n",
       "      outputDiv.innerHTML = `<div class=\"error\" style=\"color:red;\">${err}</div>`;\n",
       "      throw err;\n",
       "    }\n",
       "\n",
       "    function displayChart(vegaEmbed) {\n",
       "      vegaEmbed(outputDiv, spec, embedOpt)\n",
       "        .catch(err => showError(`Javascript Error: ${err.message}<br>This usually means there's a typo in your chart specification. See the javascript console for the full traceback.`));\n",
       "    }\n",
       "\n",
       "    if(typeof define === \"function\" && define.amd) {\n",
       "      requirejs.config({paths});\n",
       "      require([\"vega-embed\"], displayChart, err => showError(`Error loading script: ${err.message}`));\n",
       "    } else {\n",
       "      maybeLoadScript(\"vega\", \"5\")\n",
       "        .then(() => maybeLoadScript(\"vega-lite\", \"5.8.0\"))\n",
       "        .then(() => maybeLoadScript(\"vega-embed\", \"6\"))\n",
       "        .catch(showError)\n",
       "        .then(() => displayChart(vegaEmbed));\n",
       "    }\n",
       "  })({\"config\": {\"view\": {\"continuousWidth\": 300, \"continuousHeight\": 300}}, \"data\": {\"name\": \"data-6c5f8cd85ee034dab0af9dfea8273f84\"}, \"mark\": {\"type\": \"bar\"}, \"encoding\": {\"x\": {\"aggregate\": \"sum\", \"field\": \"start_issue\", \"type\": \"quantitative\"}, \"y\": {\"field\": \"cleaned_magazine_title\", \"sort\": \"-x\", \"type\": \"nominal\"}}, \"$schema\": \"https://vega.github.io/schema/vega-lite/v5.8.0.json\", \"datasets\": {\"data-6c5f8cd85ee034dab0af9dfea8273f84\": [{\"cleaned_magazine_title\": \"arab_observer\", \"htid\": \"mdp.39015056038063\", \"start_issue\": 13}, {\"cleaned_magazine_title\": \"arab_observer\", \"htid\": \"mdp.39015056038071\", \"start_issue\": 26}, {\"cleaned_magazine_title\": \"arab_observer\", \"htid\": \"mdp.39015056038089\", \"start_issue\": 2}, {\"cleaned_magazine_title\": \"arab_observer\", \"htid\": \"mdp.39015056038212\", \"start_issue\": 9}, {\"cleaned_magazine_title\": \"arab_observer\", \"htid\": \"mdp.39015056038220\", \"start_issue\": 17}, {\"cleaned_magazine_title\": \"arab_observer\", \"htid\": \"mdp.39015056038238\", \"start_issue\": 12}, {\"cleaned_magazine_title\": \"arab_observer\", \"htid\": \"mdp.39015056038246\", \"start_issue\": 14}, {\"cleaned_magazine_title\": \"arab_observer\", \"htid\": \"mdp.39015056038253\", \"start_issue\": 12}, {\"cleaned_magazine_title\": \"arab_observer\", \"htid\": \"mdp.39015056038378\", \"start_issue\": 17}, {\"cleaned_magazine_title\": \"arab_observer\", \"htid\": \"mdp.39015056038386\", \"start_issue\": 18}, {\"cleaned_magazine_title\": \"arab_observer\", \"htid\": \"mdp.39015056038394\", \"start_issue\": 17}, {\"cleaned_magazine_title\": \"arab_observer\", \"htid\": \"mdp.39015056038402\", \"start_issue\": 13}, {\"cleaned_magazine_title\": \"arab_observer\", \"htid\": \"mdp.39015056038410\", \"start_issue\": 14}, {\"cleaned_magazine_title\": \"arab_observer\", \"htid\": \"uc1.l0063472831\", \"start_issue\": 3}, {\"cleaned_magazine_title\": \"arab_observer\", \"htid\": \"uc1.l0063473003\", \"start_issue\": 2}, {\"cleaned_magazine_title\": \"arab_observer\", \"htid\": \"uc1.l0082986993\", \"start_issue\": 1}, {\"cleaned_magazine_title\": \"arab_observer\", \"htid\": \"uc1.l0082987033\", \"start_issue\": 3}]}}, {\"mode\": \"vega-lite\"});\n",
       "</script>"
      ],
      "text/plain": [
       "alt.Chart(...)"
      ]
     },
     "execution_count": 13,
     "metadata": {},
     "output_type": "execute_result"
    }
   ],
   "source": [
    "annotated_issue_count = initial_df.groupby(['cleaned_magazine_title', 'htid']).start_issue.nunique().reset_index()\n",
    "\n",
    "alt.Chart(annotated_issue_count).mark_bar().encode(\n",
    "    x=alt.X('sum(start_issue):Q'),\n",
    "    y=alt.Y('cleaned_magazine_title:N', sort='-x')\n",
    ")"
   ]
  },
  {
   "cell_type": "code",
   "execution_count": 14,
   "metadata": {},
   "outputs": [],
   "source": [
    "combined_df = pd.merge(issue_count, annotated_issue_count, on=['cleaned_magazine_title', 'htid'], how='left')\n",
    "\n",
    "melted_df = pd.melt(combined_df, id_vars=['cleaned_magazine_title', 'htid', 'max_issue_length'], value_vars=['predicted_issue_number', 'start_issue'])\n",
    "melted_df.loc[melted_df.variable == 'predicted_issue_number', 'variable'] = 'Predicted Number of Issues'\n",
    "melted_df.loc[melted_df.variable == 'start_issue', 'variable'] = 'Annotated Number of Issues'"
   ]
  },
  {
   "cell_type": "code",
   "execution_count": 15,
   "metadata": {},
   "outputs": [
    {
     "data": {
      "text/html": [
       "\n",
       "<style>\n",
       "  #altair-viz-b28e4e95a90846c59b572de75721d419.vega-embed {\n",
       "    width: 100%;\n",
       "    display: flex;\n",
       "  }\n",
       "\n",
       "  #altair-viz-b28e4e95a90846c59b572de75721d419.vega-embed details,\n",
       "  #altair-viz-b28e4e95a90846c59b572de75721d419.vega-embed details summary {\n",
       "    position: relative;\n",
       "  }\n",
       "</style>\n",
       "<div id=\"altair-viz-b28e4e95a90846c59b572de75721d419\"></div>\n",
       "<script type=\"text/javascript\">\n",
       "  var VEGA_DEBUG = (typeof VEGA_DEBUG == \"undefined\") ? {} : VEGA_DEBUG;\n",
       "  (function(spec, embedOpt){\n",
       "    let outputDiv = document.currentScript.previousElementSibling;\n",
       "    if (outputDiv.id !== \"altair-viz-b28e4e95a90846c59b572de75721d419\") {\n",
       "      outputDiv = document.getElementById(\"altair-viz-b28e4e95a90846c59b572de75721d419\");\n",
       "    }\n",
       "    const paths = {\n",
       "      \"vega\": \"https://cdn.jsdelivr.net/npm/vega@5?noext\",\n",
       "      \"vega-lib\": \"https://cdn.jsdelivr.net/npm/vega-lib?noext\",\n",
       "      \"vega-lite\": \"https://cdn.jsdelivr.net/npm/vega-lite@5.8.0?noext\",\n",
       "      \"vega-embed\": \"https://cdn.jsdelivr.net/npm/vega-embed@6?noext\",\n",
       "    };\n",
       "\n",
       "    function maybeLoadScript(lib, version) {\n",
       "      var key = `${lib.replace(\"-\", \"\")}_version`;\n",
       "      return (VEGA_DEBUG[key] == version) ?\n",
       "        Promise.resolve(paths[lib]) :\n",
       "        new Promise(function(resolve, reject) {\n",
       "          var s = document.createElement('script');\n",
       "          document.getElementsByTagName(\"head\")[0].appendChild(s);\n",
       "          s.async = true;\n",
       "          s.onload = () => {\n",
       "            VEGA_DEBUG[key] = version;\n",
       "            return resolve(paths[lib]);\n",
       "          };\n",
       "          s.onerror = () => reject(`Error loading script: ${paths[lib]}`);\n",
       "          s.src = paths[lib];\n",
       "        });\n",
       "    }\n",
       "\n",
       "    function showError(err) {\n",
       "      outputDiv.innerHTML = `<div class=\"error\" style=\"color:red;\">${err}</div>`;\n",
       "      throw err;\n",
       "    }\n",
       "\n",
       "    function displayChart(vegaEmbed) {\n",
       "      vegaEmbed(outputDiv, spec, embedOpt)\n",
       "        .catch(err => showError(`Javascript Error: ${err.message}<br>This usually means there's a typo in your chart specification. See the javascript console for the full traceback.`));\n",
       "    }\n",
       "\n",
       "    if(typeof define === \"function\" && define.amd) {\n",
       "      requirejs.config({paths});\n",
       "      require([\"vega-embed\"], displayChart, err => showError(`Error loading script: ${err.message}`));\n",
       "    } else {\n",
       "      maybeLoadScript(\"vega\", \"5\")\n",
       "        .then(() => maybeLoadScript(\"vega-lite\", \"5.8.0\"))\n",
       "        .then(() => maybeLoadScript(\"vega-embed\", \"6\"))\n",
       "        .catch(showError)\n",
       "        .then(() => displayChart(vegaEmbed));\n",
       "    }\n",
       "  })({\"config\": {\"view\": {\"continuousWidth\": 300, \"continuousHeight\": 300}}, \"data\": {\"name\": \"data-e891583c5ff1d798c00ea2904c013fff\"}, \"mark\": {\"type\": \"bar\"}, \"encoding\": {\"color\": {\"field\": \"variable\", \"type\": \"nominal\"}, \"column\": {\"field\": \"cleaned_magazine_title\", \"header\": {\"labelAlign\": \"left\", \"labelAngle\": 0}, \"title\": null, \"type\": \"nominal\"}, \"row\": {\"field\": \"max_issue_length\", \"header\": {\"labelAlign\": \"left\", \"labelAngle\": 0}, \"title\": null, \"type\": \"nominal\"}, \"x\": {\"aggregate\": \"sum\", \"field\": \"value\", \"type\": \"quantitative\"}, \"y\": {\"field\": \"variable\", \"sort\": \"-x\", \"type\": \"nominal\"}}, \"$schema\": \"https://vega.github.io/schema/vega-lite/v5.8.0.json\", \"datasets\": {\"data-e891583c5ff1d798c00ea2904c013fff\": [{\"cleaned_magazine_title\": \"arab_observer\", \"htid\": \"mdp.39015056038063\", \"max_issue_length\": 10.0, \"variable\": \"Predicted Number of Issues\", \"value\": 32}, {\"cleaned_magazine_title\": \"arab_observer\", \"htid\": \"mdp.39015056038063\", \"max_issue_length\": 15.0, \"variable\": \"Predicted Number of Issues\", \"value\": 11}, {\"cleaned_magazine_title\": \"arab_observer\", \"htid\": \"mdp.39015056038063\", \"max_issue_length\": 20.0, \"variable\": \"Predicted Number of Issues\", \"value\": 10}, {\"cleaned_magazine_title\": \"arab_observer\", \"htid\": \"mdp.39015056038063\", \"max_issue_length\": 25.0, \"variable\": \"Predicted Number of Issues\", \"value\": 10}, {\"cleaned_magazine_title\": \"arab_observer\", \"htid\": \"mdp.39015056038063\", \"max_issue_length\": 30.0, \"variable\": \"Predicted Number of Issues\", \"value\": 6}, {\"cleaned_magazine_title\": \"arab_observer\", \"htid\": \"mdp.39015056038063\", \"max_issue_length\": 35.0, \"variable\": \"Predicted Number of Issues\", \"value\": 4}, {\"cleaned_magazine_title\": \"arab_observer\", \"htid\": \"mdp.39015056038071\", \"max_issue_length\": 10.0, \"variable\": \"Predicted Number of Issues\", \"value\": 321}, {\"cleaned_magazine_title\": \"arab_observer\", \"htid\": \"mdp.39015056038071\", \"max_issue_length\": 15.0, \"variable\": \"Predicted Number of Issues\", \"value\": 37}, {\"cleaned_magazine_title\": \"arab_observer\", \"htid\": \"mdp.39015056038071\", \"max_issue_length\": 20.0, \"variable\": \"Predicted Number of Issues\", \"value\": 23}, {\"cleaned_magazine_title\": \"arab_observer\", \"htid\": \"mdp.39015056038071\", \"max_issue_length\": 25.0, \"variable\": \"Predicted Number of Issues\", \"value\": 10}, {\"cleaned_magazine_title\": \"arab_observer\", \"htid\": \"mdp.39015056038089\", \"max_issue_length\": 10.0, \"variable\": \"Predicted Number of Issues\", \"value\": 6}, {\"cleaned_magazine_title\": \"arab_observer\", \"htid\": \"mdp.39015056038089\", \"max_issue_length\": 15.0, \"variable\": \"Predicted Number of Issues\", \"value\": 2}, {\"cleaned_magazine_title\": \"arab_observer\", \"htid\": \"mdp.39015056038089\", \"max_issue_length\": 20.0, \"variable\": \"Predicted Number of Issues\", \"value\": 1}, {\"cleaned_magazine_title\": \"arab_observer\", \"htid\": \"mdp.39015056038089\", \"max_issue_length\": 25.0, \"variable\": \"Predicted Number of Issues\", \"value\": 1}, {\"cleaned_magazine_title\": \"arab_observer\", \"htid\": \"mdp.39015056038212\", \"max_issue_length\": 10.0, \"variable\": \"Predicted Number of Issues\", \"value\": 121}, {\"cleaned_magazine_title\": \"arab_observer\", \"htid\": \"mdp.39015056038212\", \"max_issue_length\": 15.0, \"variable\": \"Predicted Number of Issues\", \"value\": 10}, {\"cleaned_magazine_title\": \"arab_observer\", \"htid\": \"mdp.39015056038212\", \"max_issue_length\": 20.0, \"variable\": \"Predicted Number of Issues\", \"value\": 6}, {\"cleaned_magazine_title\": \"arab_observer\", \"htid\": \"mdp.39015056038212\", \"max_issue_length\": 25.0, \"variable\": \"Predicted Number of Issues\", \"value\": 4}, {\"cleaned_magazine_title\": \"arab_observer\", \"htid\": \"mdp.39015056038212\", \"max_issue_length\": 30.0, \"variable\": \"Predicted Number of Issues\", \"value\": 2}, {\"cleaned_magazine_title\": \"arab_observer\", \"htid\": \"mdp.39015056038212\", \"max_issue_length\": 35.0, \"variable\": \"Predicted Number of Issues\", \"value\": 1}, {\"cleaned_magazine_title\": \"arab_observer\", \"htid\": \"mdp.39015056038220\", \"max_issue_length\": 10.0, \"variable\": \"Predicted Number of Issues\", \"value\": 111}, {\"cleaned_magazine_title\": \"arab_observer\", \"htid\": \"mdp.39015056038220\", \"max_issue_length\": 15.0, \"variable\": \"Predicted Number of Issues\", \"value\": 17}, {\"cleaned_magazine_title\": \"arab_observer\", \"htid\": \"mdp.39015056038220\", \"max_issue_length\": 20.0, \"variable\": \"Predicted Number of Issues\", \"value\": 17}, {\"cleaned_magazine_title\": \"arab_observer\", \"htid\": \"mdp.39015056038220\", \"max_issue_length\": 25.0, \"variable\": \"Predicted Number of Issues\", \"value\": 15}, {\"cleaned_magazine_title\": \"arab_observer\", \"htid\": \"mdp.39015056038220\", \"max_issue_length\": 30.0, \"variable\": \"Predicted Number of Issues\", \"value\": 6}, {\"cleaned_magazine_title\": \"arab_observer\", \"htid\": \"mdp.39015056038220\", \"max_issue_length\": 35.0, \"variable\": \"Predicted Number of Issues\", \"value\": 1}, {\"cleaned_magazine_title\": \"arab_observer\", \"htid\": \"mdp.39015056038238\", \"max_issue_length\": 10.0, \"variable\": \"Predicted Number of Issues\", \"value\": 79}, {\"cleaned_magazine_title\": \"arab_observer\", \"htid\": \"mdp.39015056038238\", \"max_issue_length\": 15.0, \"variable\": \"Predicted Number of Issues\", \"value\": 11}, {\"cleaned_magazine_title\": \"arab_observer\", \"htid\": \"mdp.39015056038238\", \"max_issue_length\": 20.0, \"variable\": \"Predicted Number of Issues\", \"value\": 11}, {\"cleaned_magazine_title\": \"arab_observer\", \"htid\": \"mdp.39015056038238\", \"max_issue_length\": 25.0, \"variable\": \"Predicted Number of Issues\", \"value\": 8}, {\"cleaned_magazine_title\": \"arab_observer\", \"htid\": \"mdp.39015056038238\", \"max_issue_length\": 30.0, \"variable\": \"Predicted Number of Issues\", \"value\": 2}, {\"cleaned_magazine_title\": \"arab_observer\", \"htid\": \"mdp.39015056038246\", \"max_issue_length\": 10.0, \"variable\": \"Predicted Number of Issues\", \"value\": 132}, {\"cleaned_magazine_title\": \"arab_observer\", \"htid\": \"mdp.39015056038246\", \"max_issue_length\": 15.0, \"variable\": \"Predicted Number of Issues\", \"value\": 12}, {\"cleaned_magazine_title\": \"arab_observer\", \"htid\": \"mdp.39015056038246\", \"max_issue_length\": 20.0, \"variable\": \"Predicted Number of Issues\", \"value\": 12}, {\"cleaned_magazine_title\": \"arab_observer\", \"htid\": \"mdp.39015056038246\", \"max_issue_length\": 25.0, \"variable\": \"Predicted Number of Issues\", \"value\": 9}, {\"cleaned_magazine_title\": \"arab_observer\", \"htid\": \"mdp.39015056038246\", \"max_issue_length\": 30.0, \"variable\": \"Predicted Number of Issues\", \"value\": 6}, {\"cleaned_magazine_title\": \"arab_observer\", \"htid\": \"mdp.39015056038246\", \"max_issue_length\": 35.0, \"variable\": \"Predicted Number of Issues\", \"value\": 3}, {\"cleaned_magazine_title\": \"arab_observer\", \"htid\": \"mdp.39015056038246\", \"max_issue_length\": 40.0, \"variable\": \"Predicted Number of Issues\", \"value\": 1}, {\"cleaned_magazine_title\": \"arab_observer\", \"htid\": \"mdp.39015056038253\", \"max_issue_length\": 10.0, \"variable\": \"Predicted Number of Issues\", \"value\": 199}, {\"cleaned_magazine_title\": \"arab_observer\", \"htid\": \"mdp.39015056038253\", \"max_issue_length\": 15.0, \"variable\": \"Predicted Number of Issues\", \"value\": 20}, {\"cleaned_magazine_title\": \"arab_observer\", \"htid\": \"mdp.39015056038253\", \"max_issue_length\": 20.0, \"variable\": \"Predicted Number of Issues\", \"value\": 12}, {\"cleaned_magazine_title\": \"arab_observer\", \"htid\": \"mdp.39015056038253\", \"max_issue_length\": 25.0, \"variable\": \"Predicted Number of Issues\", \"value\": 11}, {\"cleaned_magazine_title\": \"arab_observer\", \"htid\": \"mdp.39015056038253\", \"max_issue_length\": 30.0, \"variable\": \"Predicted Number of Issues\", \"value\": 8}, {\"cleaned_magazine_title\": \"arab_observer\", \"htid\": \"mdp.39015056038253\", \"max_issue_length\": 35.0, \"variable\": \"Predicted Number of Issues\", \"value\": 4}, {\"cleaned_magazine_title\": \"arab_observer\", \"htid\": \"mdp.39015056038378\", \"max_issue_length\": 10.0, \"variable\": \"Predicted Number of Issues\", \"value\": 88}, {\"cleaned_magazine_title\": \"arab_observer\", \"htid\": \"mdp.39015056038378\", \"max_issue_length\": 15.0, \"variable\": \"Predicted Number of Issues\", \"value\": 13}, {\"cleaned_magazine_title\": \"arab_observer\", \"htid\": \"mdp.39015056038378\", \"max_issue_length\": 20.0, \"variable\": \"Predicted Number of Issues\", \"value\": 5}, {\"cleaned_magazine_title\": \"arab_observer\", \"htid\": \"mdp.39015056038378\", \"max_issue_length\": 25.0, \"variable\": \"Predicted Number of Issues\", \"value\": 1}, {\"cleaned_magazine_title\": \"arab_observer\", \"htid\": \"mdp.39015056038386\", \"max_issue_length\": 10.0, \"variable\": \"Predicted Number of Issues\", \"value\": 113}, {\"cleaned_magazine_title\": \"arab_observer\", \"htid\": \"mdp.39015056038386\", \"max_issue_length\": 15.0, \"variable\": \"Predicted Number of Issues\", \"value\": 17}, {\"cleaned_magazine_title\": \"arab_observer\", \"htid\": \"mdp.39015056038386\", \"max_issue_length\": 20.0, \"variable\": \"Predicted Number of Issues\", \"value\": 17}, {\"cleaned_magazine_title\": \"arab_observer\", \"htid\": \"mdp.39015056038386\", \"max_issue_length\": 25.0, \"variable\": \"Predicted Number of Issues\", \"value\": 12}, {\"cleaned_magazine_title\": \"arab_observer\", \"htid\": \"mdp.39015056038386\", \"max_issue_length\": 30.0, \"variable\": \"Predicted Number of Issues\", \"value\": 8}, {\"cleaned_magazine_title\": \"arab_observer\", \"htid\": \"mdp.39015056038386\", \"max_issue_length\": 35.0, \"variable\": \"Predicted Number of Issues\", \"value\": 2}, {\"cleaned_magazine_title\": \"arab_observer\", \"htid\": \"mdp.39015056038394\", \"max_issue_length\": 10.0, \"variable\": \"Predicted Number of Issues\", \"value\": 126}, {\"cleaned_magazine_title\": \"arab_observer\", \"htid\": \"mdp.39015056038394\", \"max_issue_length\": 15.0, \"variable\": \"Predicted Number of Issues\", \"value\": 17}, {\"cleaned_magazine_title\": \"arab_observer\", \"htid\": \"mdp.39015056038394\", \"max_issue_length\": 20.0, \"variable\": \"Predicted Number of Issues\", \"value\": 12}, {\"cleaned_magazine_title\": \"arab_observer\", \"htid\": \"mdp.39015056038394\", \"max_issue_length\": 25.0, \"variable\": \"Predicted Number of Issues\", \"value\": 10}, {\"cleaned_magazine_title\": \"arab_observer\", \"htid\": \"mdp.39015056038394\", \"max_issue_length\": 30.0, \"variable\": \"Predicted Number of Issues\", \"value\": 9}, {\"cleaned_magazine_title\": \"arab_observer\", \"htid\": \"mdp.39015056038394\", \"max_issue_length\": 35.0, \"variable\": \"Predicted Number of Issues\", \"value\": 2}, {\"cleaned_magazine_title\": \"arab_observer\", \"htid\": \"mdp.39015056038394\", \"max_issue_length\": 40.0, \"variable\": \"Predicted Number of Issues\", \"value\": 1}, {\"cleaned_magazine_title\": \"arab_observer\", \"htid\": \"mdp.39015056038402\", \"max_issue_length\": 10.0, \"variable\": \"Predicted Number of Issues\", \"value\": 56}, {\"cleaned_magazine_title\": \"arab_observer\", \"htid\": \"mdp.39015056038402\", \"max_issue_length\": 15.0, \"variable\": \"Predicted Number of Issues\", \"value\": 10}, {\"cleaned_magazine_title\": \"arab_observer\", \"htid\": \"mdp.39015056038402\", \"max_issue_length\": 20.0, \"variable\": \"Predicted Number of Issues\", \"value\": 9}, {\"cleaned_magazine_title\": \"arab_observer\", \"htid\": \"mdp.39015056038402\", \"max_issue_length\": 25.0, \"variable\": \"Predicted Number of Issues\", \"value\": 8}, {\"cleaned_magazine_title\": \"arab_observer\", \"htid\": \"mdp.39015056038402\", \"max_issue_length\": 30.0, \"variable\": \"Predicted Number of Issues\", \"value\": 3}, {\"cleaned_magazine_title\": \"arab_observer\", \"htid\": \"mdp.39015056038410\", \"max_issue_length\": 10.0, \"variable\": \"Predicted Number of Issues\", \"value\": 102}, {\"cleaned_magazine_title\": \"arab_observer\", \"htid\": \"mdp.39015056038410\", \"max_issue_length\": 15.0, \"variable\": \"Predicted Number of Issues\", \"value\": 20}, {\"cleaned_magazine_title\": \"arab_observer\", \"htid\": \"mdp.39015056038410\", \"max_issue_length\": 20.0, \"variable\": \"Predicted Number of Issues\", \"value\": 11}, {\"cleaned_magazine_title\": \"arab_observer\", \"htid\": \"mdp.39015056038410\", \"max_issue_length\": 25.0, \"variable\": \"Predicted Number of Issues\", \"value\": 8}, {\"cleaned_magazine_title\": \"arab_observer\", \"htid\": \"mdp.39015056038410\", \"max_issue_length\": 30.0, \"variable\": \"Predicted Number of Issues\", \"value\": 3}, {\"cleaned_magazine_title\": \"arab_observer\", \"htid\": \"mdp.39015056038410\", \"max_issue_length\": 35.0, \"variable\": \"Predicted Number of Issues\", \"value\": 1}, {\"cleaned_magazine_title\": \"arab_observer\", \"htid\": \"uc1.l0063472831\", \"max_issue_length\": 10.0, \"variable\": \"Predicted Number of Issues\", \"value\": 15}, {\"cleaned_magazine_title\": \"arab_observer\", \"htid\": \"uc1.l0063472831\", \"max_issue_length\": 15.0, \"variable\": \"Predicted Number of Issues\", \"value\": 3}, {\"cleaned_magazine_title\": \"arab_observer\", \"htid\": \"uc1.l0063472831\", \"max_issue_length\": 20.0, \"variable\": \"Predicted Number of Issues\", \"value\": 3}, {\"cleaned_magazine_title\": \"arab_observer\", \"htid\": \"uc1.l0063472831\", \"max_issue_length\": 25.0, \"variable\": \"Predicted Number of Issues\", \"value\": 2}, {\"cleaned_magazine_title\": \"arab_observer\", \"htid\": \"uc1.l0063473003\", \"max_issue_length\": 10.0, \"variable\": \"Predicted Number of Issues\", \"value\": 10}, {\"cleaned_magazine_title\": \"arab_observer\", \"htid\": \"uc1.l0063473003\", \"max_issue_length\": 15.0, \"variable\": \"Predicted Number of Issues\", \"value\": 2}, {\"cleaned_magazine_title\": \"arab_observer\", \"htid\": \"uc1.l0063473003\", \"max_issue_length\": 20.0, \"variable\": \"Predicted Number of Issues\", \"value\": 2}, {\"cleaned_magazine_title\": \"arab_observer\", \"htid\": \"uc1.l0063473003\", \"max_issue_length\": 25.0, \"variable\": \"Predicted Number of Issues\", \"value\": 1}, {\"cleaned_magazine_title\": \"arab_observer\", \"htid\": \"uc1.l0082986993\", \"max_issue_length\": 10.0, \"variable\": \"Predicted Number of Issues\", \"value\": 1}, {\"cleaned_magazine_title\": \"arab_observer\", \"htid\": \"uc1.l0082986993\", \"max_issue_length\": 15.0, \"variable\": \"Predicted Number of Issues\", \"value\": 1}, {\"cleaned_magazine_title\": \"arab_observer\", \"htid\": \"uc1.l0082986993\", \"max_issue_length\": 20.0, \"variable\": \"Predicted Number of Issues\", \"value\": 1}, {\"cleaned_magazine_title\": \"arab_observer\", \"htid\": \"uc1.l0082986993\", \"max_issue_length\": 25.0, \"variable\": \"Predicted Number of Issues\", \"value\": 1}, {\"cleaned_magazine_title\": \"arab_observer\", \"htid\": \"uc1.l0082987033\", \"max_issue_length\": 10.0, \"variable\": \"Predicted Number of Issues\", \"value\": 6}, {\"cleaned_magazine_title\": \"arab_observer\", \"htid\": \"uc1.l0082987033\", \"max_issue_length\": 15.0, \"variable\": \"Predicted Number of Issues\", \"value\": 3}, {\"cleaned_magazine_title\": \"arab_observer\", \"htid\": \"uc1.l0082987033\", \"max_issue_length\": 20.0, \"variable\": \"Predicted Number of Issues\", \"value\": 3}, {\"cleaned_magazine_title\": \"arab_observer\", \"htid\": \"mdp.39015056038063\", \"max_issue_length\": 10.0, \"variable\": \"Annotated Number of Issues\", \"value\": 13}, {\"cleaned_magazine_title\": \"arab_observer\", \"htid\": \"mdp.39015056038063\", \"max_issue_length\": 15.0, \"variable\": \"Annotated Number of Issues\", \"value\": 13}, {\"cleaned_magazine_title\": \"arab_observer\", \"htid\": \"mdp.39015056038063\", \"max_issue_length\": 20.0, \"variable\": \"Annotated Number of Issues\", \"value\": 13}, {\"cleaned_magazine_title\": \"arab_observer\", \"htid\": \"mdp.39015056038063\", \"max_issue_length\": 25.0, \"variable\": \"Annotated Number of Issues\", \"value\": 13}, {\"cleaned_magazine_title\": \"arab_observer\", \"htid\": \"mdp.39015056038063\", \"max_issue_length\": 30.0, \"variable\": \"Annotated Number of Issues\", \"value\": 13}, {\"cleaned_magazine_title\": \"arab_observer\", \"htid\": \"mdp.39015056038063\", \"max_issue_length\": 35.0, \"variable\": \"Annotated Number of Issues\", \"value\": 13}, {\"cleaned_magazine_title\": \"arab_observer\", \"htid\": \"mdp.39015056038071\", \"max_issue_length\": 10.0, \"variable\": \"Annotated Number of Issues\", \"value\": 26}, {\"cleaned_magazine_title\": \"arab_observer\", \"htid\": \"mdp.39015056038071\", \"max_issue_length\": 15.0, \"variable\": \"Annotated Number of Issues\", \"value\": 26}, {\"cleaned_magazine_title\": \"arab_observer\", \"htid\": \"mdp.39015056038071\", \"max_issue_length\": 20.0, \"variable\": \"Annotated Number of Issues\", \"value\": 26}, {\"cleaned_magazine_title\": \"arab_observer\", \"htid\": \"mdp.39015056038071\", \"max_issue_length\": 25.0, \"variable\": \"Annotated Number of Issues\", \"value\": 26}, {\"cleaned_magazine_title\": \"arab_observer\", \"htid\": \"mdp.39015056038089\", \"max_issue_length\": 10.0, \"variable\": \"Annotated Number of Issues\", \"value\": 2}, {\"cleaned_magazine_title\": \"arab_observer\", \"htid\": \"mdp.39015056038089\", \"max_issue_length\": 15.0, \"variable\": \"Annotated Number of Issues\", \"value\": 2}, {\"cleaned_magazine_title\": \"arab_observer\", \"htid\": \"mdp.39015056038089\", \"max_issue_length\": 20.0, \"variable\": \"Annotated Number of Issues\", \"value\": 2}, {\"cleaned_magazine_title\": \"arab_observer\", \"htid\": \"mdp.39015056038089\", \"max_issue_length\": 25.0, \"variable\": \"Annotated Number of Issues\", \"value\": 2}, {\"cleaned_magazine_title\": \"arab_observer\", \"htid\": \"mdp.39015056038212\", \"max_issue_length\": 10.0, \"variable\": \"Annotated Number of Issues\", \"value\": 9}, {\"cleaned_magazine_title\": \"arab_observer\", \"htid\": \"mdp.39015056038212\", \"max_issue_length\": 15.0, \"variable\": \"Annotated Number of Issues\", \"value\": 9}, {\"cleaned_magazine_title\": \"arab_observer\", \"htid\": \"mdp.39015056038212\", \"max_issue_length\": 20.0, \"variable\": \"Annotated Number of Issues\", \"value\": 9}, {\"cleaned_magazine_title\": \"arab_observer\", \"htid\": \"mdp.39015056038212\", \"max_issue_length\": 25.0, \"variable\": \"Annotated Number of Issues\", \"value\": 9}, {\"cleaned_magazine_title\": \"arab_observer\", \"htid\": \"mdp.39015056038212\", \"max_issue_length\": 30.0, \"variable\": \"Annotated Number of Issues\", \"value\": 9}, {\"cleaned_magazine_title\": \"arab_observer\", \"htid\": \"mdp.39015056038212\", \"max_issue_length\": 35.0, \"variable\": \"Annotated Number of Issues\", \"value\": 9}, {\"cleaned_magazine_title\": \"arab_observer\", \"htid\": \"mdp.39015056038220\", \"max_issue_length\": 10.0, \"variable\": \"Annotated Number of Issues\", \"value\": 17}, {\"cleaned_magazine_title\": \"arab_observer\", \"htid\": \"mdp.39015056038220\", \"max_issue_length\": 15.0, \"variable\": \"Annotated Number of Issues\", \"value\": 17}, {\"cleaned_magazine_title\": \"arab_observer\", \"htid\": \"mdp.39015056038220\", \"max_issue_length\": 20.0, \"variable\": \"Annotated Number of Issues\", \"value\": 17}, {\"cleaned_magazine_title\": \"arab_observer\", \"htid\": \"mdp.39015056038220\", \"max_issue_length\": 25.0, \"variable\": \"Annotated Number of Issues\", \"value\": 17}, {\"cleaned_magazine_title\": \"arab_observer\", \"htid\": \"mdp.39015056038220\", \"max_issue_length\": 30.0, \"variable\": \"Annotated Number of Issues\", \"value\": 17}, {\"cleaned_magazine_title\": \"arab_observer\", \"htid\": \"mdp.39015056038220\", \"max_issue_length\": 35.0, \"variable\": \"Annotated Number of Issues\", \"value\": 17}, {\"cleaned_magazine_title\": \"arab_observer\", \"htid\": \"mdp.39015056038238\", \"max_issue_length\": 10.0, \"variable\": \"Annotated Number of Issues\", \"value\": 12}, {\"cleaned_magazine_title\": \"arab_observer\", \"htid\": \"mdp.39015056038238\", \"max_issue_length\": 15.0, \"variable\": \"Annotated Number of Issues\", \"value\": 12}, {\"cleaned_magazine_title\": \"arab_observer\", \"htid\": \"mdp.39015056038238\", \"max_issue_length\": 20.0, \"variable\": \"Annotated Number of Issues\", \"value\": 12}, {\"cleaned_magazine_title\": \"arab_observer\", \"htid\": \"mdp.39015056038238\", \"max_issue_length\": 25.0, \"variable\": \"Annotated Number of Issues\", \"value\": 12}, {\"cleaned_magazine_title\": \"arab_observer\", \"htid\": \"mdp.39015056038238\", \"max_issue_length\": 30.0, \"variable\": \"Annotated Number of Issues\", \"value\": 12}, {\"cleaned_magazine_title\": \"arab_observer\", \"htid\": \"mdp.39015056038246\", \"max_issue_length\": 10.0, \"variable\": \"Annotated Number of Issues\", \"value\": 14}, {\"cleaned_magazine_title\": \"arab_observer\", \"htid\": \"mdp.39015056038246\", \"max_issue_length\": 15.0, \"variable\": \"Annotated Number of Issues\", \"value\": 14}, {\"cleaned_magazine_title\": \"arab_observer\", \"htid\": \"mdp.39015056038246\", \"max_issue_length\": 20.0, \"variable\": \"Annotated Number of Issues\", \"value\": 14}, {\"cleaned_magazine_title\": \"arab_observer\", \"htid\": \"mdp.39015056038246\", \"max_issue_length\": 25.0, \"variable\": \"Annotated Number of Issues\", \"value\": 14}, {\"cleaned_magazine_title\": \"arab_observer\", \"htid\": \"mdp.39015056038246\", \"max_issue_length\": 30.0, \"variable\": \"Annotated Number of Issues\", \"value\": 14}, {\"cleaned_magazine_title\": \"arab_observer\", \"htid\": \"mdp.39015056038246\", \"max_issue_length\": 35.0, \"variable\": \"Annotated Number of Issues\", \"value\": 14}, {\"cleaned_magazine_title\": \"arab_observer\", \"htid\": \"mdp.39015056038246\", \"max_issue_length\": 40.0, \"variable\": \"Annotated Number of Issues\", \"value\": 14}, {\"cleaned_magazine_title\": \"arab_observer\", \"htid\": \"mdp.39015056038253\", \"max_issue_length\": 10.0, \"variable\": \"Annotated Number of Issues\", \"value\": 12}, {\"cleaned_magazine_title\": \"arab_observer\", \"htid\": \"mdp.39015056038253\", \"max_issue_length\": 15.0, \"variable\": \"Annotated Number of Issues\", \"value\": 12}, {\"cleaned_magazine_title\": \"arab_observer\", \"htid\": \"mdp.39015056038253\", \"max_issue_length\": 20.0, \"variable\": \"Annotated Number of Issues\", \"value\": 12}, {\"cleaned_magazine_title\": \"arab_observer\", \"htid\": \"mdp.39015056038253\", \"max_issue_length\": 25.0, \"variable\": \"Annotated Number of Issues\", \"value\": 12}, {\"cleaned_magazine_title\": \"arab_observer\", \"htid\": \"mdp.39015056038253\", \"max_issue_length\": 30.0, \"variable\": \"Annotated Number of Issues\", \"value\": 12}, {\"cleaned_magazine_title\": \"arab_observer\", \"htid\": \"mdp.39015056038253\", \"max_issue_length\": 35.0, \"variable\": \"Annotated Number of Issues\", \"value\": 12}, {\"cleaned_magazine_title\": \"arab_observer\", \"htid\": \"mdp.39015056038378\", \"max_issue_length\": 10.0, \"variable\": \"Annotated Number of Issues\", \"value\": 17}, {\"cleaned_magazine_title\": \"arab_observer\", \"htid\": \"mdp.39015056038378\", \"max_issue_length\": 15.0, \"variable\": \"Annotated Number of Issues\", \"value\": 17}, {\"cleaned_magazine_title\": \"arab_observer\", \"htid\": \"mdp.39015056038378\", \"max_issue_length\": 20.0, \"variable\": \"Annotated Number of Issues\", \"value\": 17}, {\"cleaned_magazine_title\": \"arab_observer\", \"htid\": \"mdp.39015056038378\", \"max_issue_length\": 25.0, \"variable\": \"Annotated Number of Issues\", \"value\": 17}, {\"cleaned_magazine_title\": \"arab_observer\", \"htid\": \"mdp.39015056038386\", \"max_issue_length\": 10.0, \"variable\": \"Annotated Number of Issues\", \"value\": 18}, {\"cleaned_magazine_title\": \"arab_observer\", \"htid\": \"mdp.39015056038386\", \"max_issue_length\": 15.0, \"variable\": \"Annotated Number of Issues\", \"value\": 18}, {\"cleaned_magazine_title\": \"arab_observer\", \"htid\": \"mdp.39015056038386\", \"max_issue_length\": 20.0, \"variable\": \"Annotated Number of Issues\", \"value\": 18}, {\"cleaned_magazine_title\": \"arab_observer\", \"htid\": \"mdp.39015056038386\", \"max_issue_length\": 25.0, \"variable\": \"Annotated Number of Issues\", \"value\": 18}, {\"cleaned_magazine_title\": \"arab_observer\", \"htid\": \"mdp.39015056038386\", \"max_issue_length\": 30.0, \"variable\": \"Annotated Number of Issues\", \"value\": 18}, {\"cleaned_magazine_title\": \"arab_observer\", \"htid\": \"mdp.39015056038386\", \"max_issue_length\": 35.0, \"variable\": \"Annotated Number of Issues\", \"value\": 18}, {\"cleaned_magazine_title\": \"arab_observer\", \"htid\": \"mdp.39015056038394\", \"max_issue_length\": 10.0, \"variable\": \"Annotated Number of Issues\", \"value\": 17}, {\"cleaned_magazine_title\": \"arab_observer\", \"htid\": \"mdp.39015056038394\", \"max_issue_length\": 15.0, \"variable\": \"Annotated Number of Issues\", \"value\": 17}, {\"cleaned_magazine_title\": \"arab_observer\", \"htid\": \"mdp.39015056038394\", \"max_issue_length\": 20.0, \"variable\": \"Annotated Number of Issues\", \"value\": 17}, {\"cleaned_magazine_title\": \"arab_observer\", \"htid\": \"mdp.39015056038394\", \"max_issue_length\": 25.0, \"variable\": \"Annotated Number of Issues\", \"value\": 17}, {\"cleaned_magazine_title\": \"arab_observer\", \"htid\": \"mdp.39015056038394\", \"max_issue_length\": 30.0, \"variable\": \"Annotated Number of Issues\", \"value\": 17}, {\"cleaned_magazine_title\": \"arab_observer\", \"htid\": \"mdp.39015056038394\", \"max_issue_length\": 35.0, \"variable\": \"Annotated Number of Issues\", \"value\": 17}, {\"cleaned_magazine_title\": \"arab_observer\", \"htid\": \"mdp.39015056038394\", \"max_issue_length\": 40.0, \"variable\": \"Annotated Number of Issues\", \"value\": 17}, {\"cleaned_magazine_title\": \"arab_observer\", \"htid\": \"mdp.39015056038402\", \"max_issue_length\": 10.0, \"variable\": \"Annotated Number of Issues\", \"value\": 13}, {\"cleaned_magazine_title\": \"arab_observer\", \"htid\": \"mdp.39015056038402\", \"max_issue_length\": 15.0, \"variable\": \"Annotated Number of Issues\", \"value\": 13}, {\"cleaned_magazine_title\": \"arab_observer\", \"htid\": \"mdp.39015056038402\", \"max_issue_length\": 20.0, \"variable\": \"Annotated Number of Issues\", \"value\": 13}, {\"cleaned_magazine_title\": \"arab_observer\", \"htid\": \"mdp.39015056038402\", \"max_issue_length\": 25.0, \"variable\": \"Annotated Number of Issues\", \"value\": 13}, {\"cleaned_magazine_title\": \"arab_observer\", \"htid\": \"mdp.39015056038402\", \"max_issue_length\": 30.0, \"variable\": \"Annotated Number of Issues\", \"value\": 13}, {\"cleaned_magazine_title\": \"arab_observer\", \"htid\": \"mdp.39015056038410\", \"max_issue_length\": 10.0, \"variable\": \"Annotated Number of Issues\", \"value\": 14}, {\"cleaned_magazine_title\": \"arab_observer\", \"htid\": \"mdp.39015056038410\", \"max_issue_length\": 15.0, \"variable\": \"Annotated Number of Issues\", \"value\": 14}, {\"cleaned_magazine_title\": \"arab_observer\", \"htid\": \"mdp.39015056038410\", \"max_issue_length\": 20.0, \"variable\": \"Annotated Number of Issues\", \"value\": 14}, {\"cleaned_magazine_title\": \"arab_observer\", \"htid\": \"mdp.39015056038410\", \"max_issue_length\": 25.0, \"variable\": \"Annotated Number of Issues\", \"value\": 14}, {\"cleaned_magazine_title\": \"arab_observer\", \"htid\": \"mdp.39015056038410\", \"max_issue_length\": 30.0, \"variable\": \"Annotated Number of Issues\", \"value\": 14}, {\"cleaned_magazine_title\": \"arab_observer\", \"htid\": \"mdp.39015056038410\", \"max_issue_length\": 35.0, \"variable\": \"Annotated Number of Issues\", \"value\": 14}, {\"cleaned_magazine_title\": \"arab_observer\", \"htid\": \"uc1.l0063472831\", \"max_issue_length\": 10.0, \"variable\": \"Annotated Number of Issues\", \"value\": 3}, {\"cleaned_magazine_title\": \"arab_observer\", \"htid\": \"uc1.l0063472831\", \"max_issue_length\": 15.0, \"variable\": \"Annotated Number of Issues\", \"value\": 3}, {\"cleaned_magazine_title\": \"arab_observer\", \"htid\": \"uc1.l0063472831\", \"max_issue_length\": 20.0, \"variable\": \"Annotated Number of Issues\", \"value\": 3}, {\"cleaned_magazine_title\": \"arab_observer\", \"htid\": \"uc1.l0063472831\", \"max_issue_length\": 25.0, \"variable\": \"Annotated Number of Issues\", \"value\": 3}, {\"cleaned_magazine_title\": \"arab_observer\", \"htid\": \"uc1.l0063473003\", \"max_issue_length\": 10.0, \"variable\": \"Annotated Number of Issues\", \"value\": 2}, {\"cleaned_magazine_title\": \"arab_observer\", \"htid\": \"uc1.l0063473003\", \"max_issue_length\": 15.0, \"variable\": \"Annotated Number of Issues\", \"value\": 2}, {\"cleaned_magazine_title\": \"arab_observer\", \"htid\": \"uc1.l0063473003\", \"max_issue_length\": 20.0, \"variable\": \"Annotated Number of Issues\", \"value\": 2}, {\"cleaned_magazine_title\": \"arab_observer\", \"htid\": \"uc1.l0063473003\", \"max_issue_length\": 25.0, \"variable\": \"Annotated Number of Issues\", \"value\": 2}, {\"cleaned_magazine_title\": \"arab_observer\", \"htid\": \"uc1.l0082986993\", \"max_issue_length\": 10.0, \"variable\": \"Annotated Number of Issues\", \"value\": 1}, {\"cleaned_magazine_title\": \"arab_observer\", \"htid\": \"uc1.l0082986993\", \"max_issue_length\": 15.0, \"variable\": \"Annotated Number of Issues\", \"value\": 1}, {\"cleaned_magazine_title\": \"arab_observer\", \"htid\": \"uc1.l0082986993\", \"max_issue_length\": 20.0, \"variable\": \"Annotated Number of Issues\", \"value\": 1}, {\"cleaned_magazine_title\": \"arab_observer\", \"htid\": \"uc1.l0082986993\", \"max_issue_length\": 25.0, \"variable\": \"Annotated Number of Issues\", \"value\": 1}, {\"cleaned_magazine_title\": \"arab_observer\", \"htid\": \"uc1.l0082987033\", \"max_issue_length\": 10.0, \"variable\": \"Annotated Number of Issues\", \"value\": 3}, {\"cleaned_magazine_title\": \"arab_observer\", \"htid\": \"uc1.l0082987033\", \"max_issue_length\": 15.0, \"variable\": \"Annotated Number of Issues\", \"value\": 3}, {\"cleaned_magazine_title\": \"arab_observer\", \"htid\": \"uc1.l0082987033\", \"max_issue_length\": 20.0, \"variable\": \"Annotated Number of Issues\", \"value\": 3}]}}, {\"mode\": \"vega-lite\"});\n",
       "</script>"
      ],
      "text/plain": [
       "alt.Chart(...)"
      ]
     },
     "execution_count": 15,
     "metadata": {},
     "output_type": "execute_result"
    }
   ],
   "source": [
    "alt.Chart(melted_df).mark_bar().encode(\n",
    "    x=alt.X('sum(value):Q'),\n",
    "    y=alt.Y('variable:N', sort='-x'),\n",
    "    color=alt.Color('variable:N'),\n",
    "    row=alt.Row('max_issue_length:N', header=alt.Header(labelAngle=0, labelAlign='left'), title=None,),\n",
    "    column=alt.Column('cleaned_magazine_title:N', header=alt.Header(labelAngle=0, labelAlign='left'), title=None,),\n",
    ")"
   ]
  },
  {
   "attachments": {},
   "cell_type": "markdown",
   "metadata": {},
   "source": [
    "### Experiment with Textual Features"
   ]
  },
  {
   "cell_type": "code",
   "execution_count": 16,
   "metadata": {},
   "outputs": [],
   "source": [
    "import nltk\n",
    "from nltk import word_tokenize, sent_tokenize\n",
    "\n",
    "predictions_df['token'] = predictions_df.token.fillna('')\n",
    "predictions_df['token'] = predictions_df.token.astype(str)\n",
    "predictions_df['token_length'] = predictions_df.token.str.len()\n",
    "predictions_df['tokenized_text'] = predictions_df.token.apply(word_tokenize)\n",
    "predictions_df['tokenized_text_length'] = predictions_df.tokenized_text.str.len()\n",
    "predictions_df['sentences'] = predictions_df.token.apply(sent_tokenize)\n",
    "predictions_df['sentences_length'] = predictions_df.sentences.str.len()"
   ]
  },
  {
   "cell_type": "code",
   "execution_count": 17,
   "metadata": {},
   "outputs": [],
   "source": [
    "sizes = predictions_df.groupby(['cleaned_magazine_title', 'datetime']).size().reset_index(name='issue_size')\n",
    "sizes = sizes.sort_values(by=['datetime'])\n",
    "# fully_cleaned_ao = fully_cleaned_ao.merge(sizes, on=['date'], how='outer')\n",
    "counts = predictions_df.groupby(['cleaned_magazine_title', 'datetime'])['token_length'].sum().reset_index(name='issue_counts')\n",
    "# fully_cleaned_ao = fully_cleaned_ao.merge(counts, on=['date'], how='outer')\n",
    "# issues = sizes.merge(counts, on=['date'])\n",
    "issues_df = sizes.merge(counts, on=['cleaned_magazine_title','datetime'])"
   ]
  },
  {
   "cell_type": "code",
   "execution_count": 18,
   "metadata": {},
   "outputs": [],
   "source": [
    "predictions_df = pd.merge(predictions_df, issues_df, on=['cleaned_magazine_title','datetime'], how='left')\n",
    "predictions_df['max_issue_length'] = predictions_df['max_issue_length'].fillna(0)"
   ]
  },
  {
   "cell_type": "code",
   "execution_count": 19,
   "metadata": {},
   "outputs": [],
   "source": [
    "subset_predictions_df = predictions_df[predictions_df.type_of_page.isin(['cover_page', 'content'])]"
   ]
  },
  {
   "cell_type": "code",
   "execution_count": 20,
   "metadata": {},
   "outputs": [
    {
     "data": {
      "text/plain": [
       "{'cleaned_magazine_title': {0: 'arab_observer'},\n",
       " 'ht_generated_title': {0: 'arab_observer_1964_Sep-Dec'},\n",
       " 'htid': {0: 'mdp.39015056038220'},\n",
       " 'hdl_link': {0: 'https://hdl.handle.net/2027/mdp.39015056038220'},\n",
       " 'cleaned_volume': {0: '1964 Sep-Dec'},\n",
       " 'start_issue': {0: '1964-09-07'},\n",
       " 'end_issue': {0: '1964-09-07'},\n",
       " 'datetime': {0: '1964-09-07'},\n",
       " 'dates': {0: 'September 7 1964'},\n",
       " 'issue_number': {0: 220.0},\n",
       " 'type_of_page': {0: 'content'},\n",
       " 'sequence': {0: 2.0},\n",
       " 'token': {0: 'Of PftOHlTT'},\n",
       " 'notes': {0: nan},\n",
       " 'volume_number': {0: nan},\n",
       " 'predicted_page': {0: nan},\n",
       " 'predicted_issue_number': {0: nan},\n",
       " 'max_issue_length': {0: 0.0},\n",
       " 'token_length': {0: 11},\n",
       " 'tokenized_text': {0: ['Of', 'PftOHlTT']},\n",
       " 'tokenized_text_length': {0: 2},\n",
       " 'sentences': {0: ['Of PftOHlTT']},\n",
       " 'sentences_length': {0: 1},\n",
       " 'issue_size': {0: 60},\n",
       " 'issue_counts': {0: 97428}}"
      ]
     },
     "execution_count": 20,
     "metadata": {},
     "output_type": "execute_result"
    }
   ],
   "source": [
    "predictions_df[0:1].to_dict()"
   ]
  },
  {
   "cell_type": "code",
   "execution_count": 21,
   "metadata": {},
   "outputs": [
    {
     "name": "stdout",
     "output_type": "stream",
     "text": [
      "=== Model with Text Features ===\n",
      "              precision    recall  f1-score   support\n",
      "\n",
      "           0       1.00      1.00      1.00      1985\n",
      "           1       1.00      0.99      0.99        94\n",
      "\n",
      "    accuracy                           1.00      2079\n",
      "   macro avg       1.00      0.99      1.00      2079\n",
      "weighted avg       1.00      1.00      1.00      2079\n",
      "\n",
      "[[1985    0]\n",
      " [   1   93]]\n",
      "Top 20 Features:\n",
      "('predicted_page_predicted_beginning_of_issue', 0.15)\n",
      "('max_issue_length_0.0', 0.08)\n",
      "('token_length', 0.08)\n",
      "('weekly', 0.03)\n",
      "('aligned', 0.02)\n",
      "('also', 0.02)\n",
      "('first', 0.02)\n",
      "('new', 0.02)\n",
      "('one', 0.02)\n",
      "('people', 0.02)\n",
      "('two', 0.02)\n",
      "('1964', 0.01)\n",
      "('cairo', 0.01)\n",
      "('could', 0.01)\n",
      "('countries', 0.01)\n",
      "('country', 0.01)\n",
      "('egyptian', 0.01)\n",
      "('general', 0.01)\n",
      "('government', 0.01)\n",
      "('last', 0.01)\n",
      "\n",
      "=== Model without Text Features ===\n",
      "              precision    recall  f1-score   support\n",
      "\n",
      "           0       1.00      1.00      1.00      1985\n",
      "           1       0.99      0.97      0.98        94\n",
      "\n",
      "    accuracy                           1.00      2079\n",
      "   macro avg       0.99      0.98      0.99      2079\n",
      "weighted avg       1.00      1.00      1.00      2079\n",
      "\n",
      "[[1984    1]\n",
      " [   3   91]]\n",
      "Top 20 Features:\n",
      "('max_issue_length_0.0', 0.4)\n",
      "('token_length', 0.34)\n",
      "('predicted_page_predicted_beginning_of_issue', 0.15)\n",
      "('issue_counts', 0.04)\n",
      "('max_issue_length_10.0', 0.02)\n",
      "('max_issue_length_20.0', 0.02)\n",
      "('issue_size', 0.02)\n",
      "('max_issue_length_15.0', 0.01)\n",
      "('max_issue_length_25.0', 0.01)\n",
      "('max_issue_length_30.0', 0.0)\n",
      "('max_issue_length_35.0', 0.0)\n",
      "('max_issue_length_40.0', 0.0)\n"
     ]
    }
   ],
   "source": [
    "from sklearn.model_selection import train_test_split\n",
    "from sklearn.feature_extraction.text import TfidfVectorizer\n",
    "from sklearn.ensemble import RandomForestClassifier\n",
    "from sklearn.preprocessing import MinMaxScaler, LabelEncoder\n",
    "from sklearn.metrics import classification_report, confusion_matrix\n",
    "from nltk.corpus import stopwords\n",
    "import string\n",
    "import numpy as np\n",
    "\n",
    "# Preprocessing\n",
    "stop_words = set(stopwords.words('english'))\n",
    "punctuations = string.punctuation\n",
    "\n",
    "def preprocess_text(text):\n",
    "    tokens = nltk.word_tokenize(text.lower())\n",
    "    tokens = [token for token in tokens if token not in stop_words and token not in punctuations]\n",
    "    return \" \".join(tokens)\n",
    "\n",
    "# Apply the text preprocessing\n",
    "subset_predictions_df['token'] = subset_predictions_df['token'].apply(preprocess_text)\n",
    "\n",
    "scaler = MinMaxScaler()\n",
    "vectorizer = TfidfVectorizer(max_features=1000)\n",
    "\n",
    "# One-hot encode 'predicted_page' and 'max_issue_length'\n",
    "\n",
    "predicted_page_dummies = pd.get_dummies(subset_predictions_df['predicted_page'], prefix='predicted_page')\n",
    "max_issue_length_dummies = pd.get_dummies(subset_predictions_df['max_issue_length'].astype(str), prefix='max_issue_length')\n",
    "# Target variable conversion\n",
    "subset_predictions_df['class_numb'] = 0\n",
    "subset_predictions_df.loc[subset_predictions_df['type_of_page'] == 'cover_page', 'class_numb'] = 1\n",
    "y = subset_predictions_df['class_numb'].astype(int)\n",
    "def get_top_features(model, feature_names):\n",
    "    \"\"\"Return the top 20 features from a model.\"\"\"\n",
    "    importances = model.feature_importances_\n",
    "    feature_importances = [(feature, round(importance, 2)) for feature, importance in zip(feature_names, importances)]\n",
    "    feature_importances = sorted(feature_importances, key = lambda x: x[1], reverse = True)\n",
    "    \n",
    "    return feature_importances[:20]\n",
    "\n",
    "def train_evaluate_rf(X_train, X_test, y_train, y_test, feature_names):\n",
    "    \"\"\"Train and evaluate a random forest model on the provided data.\"\"\"\n",
    "    model = RandomForestClassifier(n_estimators=50, class_weight='balanced', random_state=42)\n",
    "    model.fit(X_train, y_train)\n",
    "    \n",
    "    y_pred = model.predict(X_test)\n",
    "    top_features = get_top_features(model, feature_names)\n",
    "    \n",
    "    report = classification_report(y_test, y_pred)\n",
    "    confusion = confusion_matrix(y_test, y_pred)\n",
    "    \n",
    "    return report, confusion, top_features, model\n",
    "\n",
    "\n",
    "\n",
    "# Normalize other numerical features\n",
    "scaler = MinMaxScaler()\n",
    "def prepare_data(include_text_features):\n",
    "    \"\"\"Prepare data with optional text features.\"\"\"\n",
    "    if include_text_features:\n",
    "        X_text = vectorizer.fit_transform(subset_predictions_df['token']).toarray()\n",
    "        features = vectorizer.get_feature_names()\n",
    "    else:\n",
    "        X_text = np.array([]).reshape(len(subset_predictions_df), 0)\n",
    "        features = []\n",
    "\n",
    "\n",
    "    non_text_features = list(predicted_page_dummies.columns) + list(max_issue_length_dummies.columns) + ['token_length', 'issue_counts', 'issue_size']\n",
    "    features += non_text_features\n",
    "    \n",
    "    X_num = scaler.fit_transform(subset_predictions_df[['token_length', 'issue_counts', 'issue_size']])\n",
    "    X = np.concatenate((X_text, predicted_page_dummies.values, max_issue_length_dummies.values, X_num), axis=1)\n",
    "    \n",
    "    X_train, X_test, y_train, y_test = train_test_split(X, y, test_size=0.2, random_state=42)\n",
    "    return X_train, X_test, y_train, y_test, features\n",
    "\n",
    "# With text features\n",
    "X_train_with_text, X_test_with_text, y_train_with_text, y_test_with_text, features_with_text = prepare_data(True)\n",
    "report_with_text, confusion_with_text, top_features_with_text, model_with_text = train_evaluate_rf(X_train_with_text, X_test_with_text, y_train_with_text, y_test_with_text, features_with_text)\n",
    "\n",
    "# Without text features\n",
    "X_train_without_text, X_test_without_text, y_train_without_text, y_test_without_text, features_without_text = prepare_data(False)\n",
    "report_without_text, confusion_without_text, top_features_without_text, model_without_text = train_evaluate_rf(X_train_without_text, X_test_without_text, y_train_without_text, y_test_without_text, features_without_text)\n",
    "\n",
    "# Display results\n",
    "print(\"=== Model with Text Features ===\")\n",
    "print(report_with_text)\n",
    "print(confusion_with_text)\n",
    "print(\"Top 20 Features:\")\n",
    "for feature in top_features_with_text:\n",
    "    print(feature)\n",
    "\n",
    "print(\"\\n=== Model without Text Features ===\")\n",
    "print(report_without_text)\n",
    "print(confusion_without_text)\n",
    "print(\"Top 20 Features:\")\n",
    "for feature in top_features_without_text:\n",
    "    print(feature)"
   ]
  },
  {
   "cell_type": "code",
   "execution_count": 27,
   "metadata": {},
   "outputs": [],
   "source": [
    "\n",
    "\n",
    "# Classify the rest of the dataframe using both models\n",
    "# Preprocessing the entire dataframe similarly as subset_predictions_df\n",
    "predictions_df['token'] = predictions_df['token'].apply(preprocess_text)\n",
    "\n",
    "def prepare_data_for_prediction(df, vectorizer, scaler, text_columns, non_text_columns, include_text_features):\n",
    "    \"\"\"Prepare data for prediction.\"\"\"\n",
    "    if include_text_features:\n",
    "        X_text = vectorizer.transform(df['token']).toarray()\n",
    "    else:\n",
    "        X_text = np.array([]).reshape(len(df), 0)\n",
    "    \n",
    "    X_num = scaler.transform(df[['token_length', 'issue_counts', 'issue_size']])\n",
    "    predicted_page_dummies = pd.get_dummies(df['predicted_page'], prefix='predicted_page')\n",
    "    max_issue_length_dummies = pd.get_dummies(df['max_issue_length'].astype(str), prefix='max_issue_length')\n",
    "    # # Ensure all non_text_columns are present\n",
    "    # for column in non_text_columns:\n",
    "    #     if column.startswith('predicted_page') and column not in predicted_page_dummies.columns:\n",
    "    #         predicted_page_dummies[column] = 0\n",
    "    #     if column.startswith('max_issue_length') and column not in max_issue_length_dummies.columns:\n",
    "    #         max_issue_length_dummies[column] = 0\n",
    "    \n",
    "    # # Align the order of the columns based on non_text_columns\n",
    "    # predicted_page_dummies = predicted_page_dummies.reindex(columns=[col for col in non_text_columns if col.startswith('predicted_page')], fill_value=0)\n",
    "    # max_issue_length_dummies = max_issue_length_dummies.reindex(columns=[col for col in non_text_columns if col.startswith('max_issue_length')], fill_value=0)\n",
    "    \n",
    "    X_rest = np.concatenate((X_text, predicted_page_dummies.values, max_issue_length_dummies.values, X_num), axis=1)\n",
    "    return X_rest\n",
    "\n",
    "\n",
    "# Use the models to classify the rest of the dataframe\n",
    "# Compute dummies on the full dataset\n",
    "# Calculate dummies for both dataframes\n",
    "all_data = pd.concat([subset_predictions_df, predictions_df], axis=0, sort=False)\n",
    "all_predicted_page_dummies = pd.get_dummies(all_data['predicted_page'], prefix='predicted_page')\n",
    "all_max_issue_length_dummies = pd.get_dummies(all_data['max_issue_length'].astype(str), prefix='max_issue_length')\n",
    "\n",
    "# Split the dummies back\n",
    "subset_predicted_page_dummies = all_predicted_page_dummies.iloc[:len(subset_predictions_df)]\n",
    "subset_max_issue_length_dummies = all_max_issue_length_dummies.iloc[:len(subset_predictions_df)]\n",
    "full_predicted_page_dummies = all_predicted_page_dummies.iloc[len(subset_predictions_df):]\n",
    "full_max_issue_length_dummies = all_max_issue_length_dummies.iloc[len(subset_predictions_df):]\n",
    "\n",
    "\n",
    "# Use these new dummies when calling the function\n",
    "# When calling the function\n",
    "X_rest_with_text = prepare_data_for_prediction(predictions_df, vectorizer, scaler, features_with_text, list(full_predicted_page_dummies.columns) + list(full_max_issue_length_dummies.columns), True)\n",
    "X_rest_without_text = prepare_data_for_prediction(predictions_df, vectorizer, scaler, features_without_text, list(full_predicted_page_dummies.columns) + list(full_max_issue_length_dummies.columns), False)\n",
    "\n",
    "predictions_with_text = model_with_text.predict(X_rest_with_text)\n",
    "predictions_without_text = model_without_text.predict(X_rest_without_text)\n",
    "\n",
    "predictions_df['predictions_with_text'] = predictions_with_text\n",
    "predictions_df['predictions_without_text'] = predictions_without_text\n",
    "\n"
   ]
  },
  {
   "cell_type": "code",
   "execution_count": 32,
   "metadata": {},
   "outputs": [
    {
     "data": {
      "text/plain": [
       "cover_page      480\n",
       "scanner_page     12\n",
       "end_of_issue      6\n",
       "content           4\n",
       "duplicates        1\n",
       "toc               1\n",
       "Name: type_of_page, dtype: int64"
      ]
     },
     "execution_count": 32,
     "metadata": {},
     "output_type": "execute_result"
    }
   ],
   "source": [
    "predictions_df[predictions_df.predictions_without_text == 1].type_of_page.value_counts()"
   ]
  },
  {
   "cell_type": "code",
   "execution_count": 26,
   "metadata": {},
   "outputs": [
    {
     "name": "stdout",
     "output_type": "stream",
     "text": [
      "Extra features in training: set()\n",
      "Extra features in prediction: set()\n"
     ]
    }
   ],
   "source": [
    "# After preparing the training data\n",
    "training_features = vectorizer.get_feature_names() + \\\n",
    "                list(subset_predicted_page_dummies.columns) + \\\n",
    "                list(subset_max_issue_length_dummies.columns) + \\\n",
    "                ['token_length', 'issue_counts', 'issue_size']\n",
    "\n",
    "# After preparing the prediction data\n",
    "prediction_features = vectorizer.get_feature_names() + \\\n",
    "                list(full_predicted_page_dummies.columns) + \\\n",
    "                list(full_max_issue_length_dummies.columns) + \\\n",
    "                ['token_length', 'issue_counts', 'issue_size']\n",
    "\n",
    "# Find the difference\n",
    "extra_features_in_training = set(training_features) - set(prediction_features)\n",
    "extra_features_in_prediction = set(prediction_features) - set(training_features)\n",
    "\n",
    "print(\"Extra features in training:\", extra_features_in_training)\n",
    "print(\"Extra features in prediction:\", extra_features_in_prediction)\n"
   ]
  },
  {
   "cell_type": "code",
   "execution_count": 21,
   "metadata": {},
   "outputs": [],
   "source": [
    "from sklearn.model_selection import train_test_split\n",
    "from sklearn.feature_extraction.text import TfidfVectorizer\n",
    "from sklearn.ensemble import RandomForestClassifier\n",
    "from sklearn.preprocessing import MinMaxScaler\n",
    "from sklearn.metrics import classification_report, confusion_matrix\n",
    "from nltk.corpus import stopwords\n",
    "import string\n",
    "\n",
    "# Preprocessing\n",
    "stop_words = set(stopwords.words('english'))\n",
    "punctuations = set(string.punctuation)\n",
    "def preprocess_text(text):\n",
    "    tokens = nltk.word_tokenize(text)\n",
    "    tokens = [token.lower() for token in tokens]\n",
    "    tokens = [token for token in tokens if token not in stop_words]\n",
    "    tokens = [token for token in tokens if token not in punctuations]\n",
    "    return \" \".join(tokens)\n",
    "\n",
    "subset_predictions_df['token'] = subset_predictions_df['token'].apply(preprocess_text)\n",
    "\n",
    "# Vectorize 'token' feature\n",
    "vectorizer = TfidfVectorizer(max_features=1000)\n",
    "X_text = vectorizer.fit_transform(subset_predictions_df['token'])\n",
    "\n"
   ]
  },
  {
   "cell_type": "code",
   "execution_count": 22,
   "metadata": {},
   "outputs": [],
   "source": [
    "from sklearn import preprocessing\n",
    "le = preprocessing.LabelEncoder()\n",
    "\n",
    "categorical_cols = ['max_issue_length', 'predicted_page']\n",
    "categorical_predictions_df = subset_predictions_df[categorical_cols + ['sequence']].set_index('sequence')\n",
    "categorical_predictions_df.index.name = None\n",
    "transformed_predictions = categorical_predictions_df.apply(le.fit_transform)"
   ]
  },
  {
   "cell_type": "code",
   "execution_count": 23,
   "metadata": {},
   "outputs": [],
   "source": [
    "numerical_cols = ['token_length', 'issue_counts', 'issue_size']\n",
    "numerical_predictions_df = subset_predictions_df[numerical_cols + ['sequence']].set_index('sequence')\n",
    "numerical_predictions_df.index.name = None\n"
   ]
  },
  {
   "cell_type": "code",
   "execution_count": 34,
   "metadata": {},
   "outputs": [],
   "source": [
    "predictions_merged = pd.merge(transformed_predictions, numerical_predictions_df, left_index=True, right_index=True)"
   ]
  },
  {
   "cell_type": "code",
   "execution_count": 24,
   "metadata": {},
   "outputs": [],
   "source": [
    "# One-hot encode 'predicted_page'\n",
    "subset_predictions_df['max_issue_length'] = subset_predictions_df['max_issue_length'].fillna(0)\n",
    "predicted_page_dummies = pd.get_dummies(subset_predictions_df['predicted_page'], prefix='predicted_page')\n",
    "max_issue_length_dummies = pd.get_dummies(subset_predictions_df['max_issue_length'].astype(str), prefix='max_issue_length')\n"
   ]
  },
  {
   "cell_type": "code",
   "execution_count": 36,
   "metadata": {},
   "outputs": [],
   "source": [
    "# Normalize other numerical features\n",
    "scaler = MinMaxScaler()\n",
    "X_num = scaler.fit_transform(subset_predictions_df[['token_length', 'issue_counts', 'issue_size']])"
   ]
  },
  {
   "cell_type": "code",
   "execution_count": 37,
   "metadata": {},
   "outputs": [],
   "source": [
    "# Combine text, categorical, and numerical features\n",
    "X = np.concatenate((X_text.toarray(), predicted_page_dummies.values, max_issue_length_dummies.values, X_num), axis=1)"
   ]
  },
  {
   "cell_type": "code",
   "execution_count": 38,
   "metadata": {},
   "outputs": [],
   "source": [
    "# Target variable\n",
    "# Convert the 'actual issue start date' to binary: 1 if it's a start page, 0 otherwise\n",
    "subset_predictions_df['class_numb'] = 0\n",
    "subset_predictions_df.loc[subset_predictions_df['type_of_page'] == 'cover_page', 'class_numb'] = 1\n",
    "y = subset_predictions_df['class_numb'].astype(int)\n",
    "# y = (subset_predictions_df['type_of_page'].notnull()).astype(int)"
   ]
  },
  {
   "cell_type": "code",
   "execution_count": 39,
   "metadata": {},
   "outputs": [
    {
     "data": {
      "text/plain": [
       "0    9909\n",
       "1     484\n",
       "Name: class_numb, dtype: int64"
      ]
     },
     "execution_count": 39,
     "metadata": {},
     "output_type": "execute_result"
    }
   ],
   "source": [
    "subset_predictions_df['class_numb'].value_counts()"
   ]
  },
  {
   "cell_type": "code",
   "execution_count": 52,
   "metadata": {},
   "outputs": [
    {
     "name": "stdout",
     "output_type": "stream",
     "text": [
      "              precision    recall  f1-score   support\n",
      "\n",
      "           0       1.00      1.00      1.00      1985\n",
      "           1       1.00      0.99      0.99        94\n",
      "\n",
      "    accuracy                           1.00      2079\n",
      "   macro avg       1.00      0.99      1.00      2079\n",
      "weighted avg       1.00      1.00      1.00      2079\n",
      "\n",
      "[[1985    0]\n",
      " [   1   93]]\n"
     ]
    }
   ],
   "source": [
    "# Split data\n",
    "X_train, X_test, y_train, y_test = train_test_split(X, y, test_size=0.2, random_state=42)\n",
    "\n",
    "# RandomForestClassifier is used with the `class_weight` parameter to handle class imbalance\n",
    "model = RandomForestClassifier(n_estimators=50, class_weight='balanced', random_state=42)\n",
    "model.fit(X_train, y_train)\n",
    "\n",
    "# Predict\n",
    "y_pred = model.predict(X_test)\n",
    "\n",
    "# Evaluate\n",
    "print(classification_report(y_test, y_pred))\n",
    "print(confusion_matrix(y_test, y_pred))"
   ]
  },
  {
   "cell_type": "code",
   "execution_count": 53,
   "metadata": {},
   "outputs": [
    {
     "name": "stdout",
     "output_type": "stream",
     "text": [
      "Variable: predicted_page_predicted_beginning_of_issue Importance: 0.15\n",
      "Variable: max_issue_length_0.0 Importance: 0.08\n",
      "Variable: token_length         Importance: 0.08\n",
      "Variable: weekly               Importance: 0.03\n",
      "Variable: aligned              Importance: 0.02\n",
      "Variable: also                 Importance: 0.02\n",
      "Variable: first                Importance: 0.02\n",
      "Variable: new                  Importance: 0.02\n",
      "Variable: one                  Importance: 0.02\n",
      "Variable: people               Importance: 0.02\n",
      "Variable: two                  Importance: 0.02\n",
      "Variable: 1964                 Importance: 0.01\n",
      "Variable: cairo                Importance: 0.01\n",
      "Variable: could                Importance: 0.01\n",
      "Variable: countries            Importance: 0.01\n",
      "Variable: country              Importance: 0.01\n",
      "Variable: egyptian             Importance: 0.01\n",
      "Variable: general              Importance: 0.01\n",
      "Variable: government           Importance: 0.01\n",
      "Variable: last                 Importance: 0.01\n",
      "Variable: life                 Importance: 0.01\n",
      "Variable: made                 Importance: 0.01\n",
      "Variable: minister             Importance: 0.01\n",
      "Variable: non                  Importance: 0.01\n",
      "Variable: observer             Importance: 0.01\n",
      "Variable: rrb                  Importance: 0.01\n",
      "Variable: said                 Importance: 0.01\n",
      "Variable: since                Importance: 0.01\n",
      "Variable: time                 Importance: 0.01\n",
      "Variable: well                 Importance: 0.01\n",
      "Variable: work                 Importance: 0.01\n",
      "Variable: would                Importance: 0.01\n",
      "Variable: year                 Importance: 0.01\n",
      "Variable: years                Importance: 0.01\n",
      "Variable: max_issue_length_10.0 Importance: 0.01\n",
      "Variable: max_issue_length_15.0 Importance: 0.01\n",
      "Variable: issue_counts         Importance: 0.01\n",
      "Variable: issue_size           Importance: 0.01\n"
     ]
    }
   ],
   "source": [
    "# First, we prepare the names of all the features\n",
    "feature_names = vectorizer.get_feature_names() + \\\n",
    "                list(predicted_page_dummies.columns) + \\\n",
    "                list(max_issue_length_dummies.columns) + \\\n",
    "                ['token_length', 'issue_counts', 'issue_size']\n",
    "\n",
    "# Then, get feature importances from the model\n",
    "importances = model.feature_importances_\n",
    "\n",
    "# Now, let's sort the features and their importances\n",
    "feature_importances = [(feature, round(importance, 2)) for feature, importance in zip(feature_names, importances)]\n",
    "feature_importances = sorted(feature_importances, key = lambda x: x[1], reverse = True)\n",
    "\n",
    "# Finally, let's print out the feature and importance\n",
    "for pair in feature_importances:\n",
    "    if pair[1] > 0.001:\n",
    "        print('Variable: {:20} Importance: {}'.format(*pair))"
   ]
  },
  {
   "cell_type": "code",
   "execution_count": 42,
   "metadata": {},
   "outputs": [
    {
     "name": "stdout",
     "output_type": "stream",
     "text": [
      "              precision    recall  f1-score   support\n",
      "\n",
      "           0       1.00      0.97      0.99      1985\n",
      "           1       0.62      1.00      0.77        94\n",
      "\n",
      "    accuracy                           0.97      2079\n",
      "   macro avg       0.81      0.99      0.88      2079\n",
      "weighted avg       0.98      0.97      0.98      2079\n",
      "\n",
      "[[1928   57]\n",
      " [   0   94]]\n"
     ]
    }
   ],
   "source": [
    "logit_model = LogisticRegression(class_weight='balanced', random_state=42)\n",
    "logit_model.fit(X_train, y_train)\n",
    "\n",
    "# Predict\n",
    "y_pred = logit_model.predict(X_test)\n",
    "print(classification_report(y_test, y_pred))\n",
    "print(confusion_matrix(y_test, y_pred))"
   ]
  },
  {
   "cell_type": "code",
   "execution_count": 43,
   "metadata": {},
   "outputs": [
    {
     "name": "stdout",
     "output_type": "stream",
     "text": [
      "Variable: predicted_page_predicted_beginning_of_issue Importance: 3.63\n",
      "Variable: india                Importance: 2.33\n",
      "Variable: section              Importance: 2.12\n",
      "Variable: london               Importance: 1.84\n",
      "Variable: weekly               Importance: 1.53\n",
      "Variable: operations           Importance: 1.44\n",
      "Variable: cover                Importance: 1.41\n",
      "Variable: september            Importance: 1.41\n",
      "Variable: demand               Importance: 1.31\n",
      "Variable: october              Importance: 1.29\n",
      "Variable: aligned              Importance: 1.26\n",
      "Variable: sea                  Importance: 1.24\n",
      "Variable: york                 Importance: 1.18\n",
      "Variable: history              Importance: 1.16\n",
      "Variable: military             Importance: 1.15\n",
      "Variable: air                  Importance: 1.09\n",
      "Variable: certainly            Importance: 1.06\n",
      "Variable: big                  Importance: 1.04\n",
      "Variable: non                  Importance: 1.01\n",
      "Variable: max_issue_length_10.0 Importance: 0.99\n",
      "Variable: arab                 Importance: 0.96\n",
      "Variable: max_issue_length_15.0 Importance: 0.95\n",
      "Variable: nations              Importance: 0.92\n",
      "Variable: max_issue_length_20.0 Importance: 0.89\n",
      "Variable: also                 Importance: 0.85\n",
      "Variable: industry             Importance: 0.85\n",
      "Variable: developing           Importance: 0.84\n",
      "Variable: matter               Importance: 0.82\n",
      "Variable: soon                 Importance: 0.82\n",
      "Variable: may                  Importance: 0.78\n",
      "Variable: exports              Importance: 0.77\n",
      "Variable: order                Importance: 0.77\n",
      "Variable: commercial           Importance: 0.73\n",
      "Variable: completed            Importance: 0.71\n",
      "Variable: asian                Importance: 0.68\n",
      "Variable: series               Importance: 0.68\n",
      "Variable: amount               Importance: 0.67\n",
      "Variable: members              Importance: 0.67\n",
      "Variable: paid                 Importance: 0.66\n",
      "Variable: look                 Importance: 0.65\n",
      "Variable: abroad               Importance: 0.63\n",
      "Variable: nearly               Importance: 0.63\n",
      "Variable: produce              Importance: 0.62\n",
      "Variable: progress             Importance: 0.61\n",
      "Variable: started              Importance: 0.61\n",
      "Variable: hard                 Importance: 0.6\n",
      "Variable: hands                Importance: 0.58\n",
      "Variable: wish                 Importance: 0.58\n",
      "Variable: aswan                Importance: 0.56\n",
      "Variable: doubt                Importance: 0.56\n",
      "Variable: entire               Importance: 0.56\n",
      "Variable: published            Importance: 0.56\n",
      "Variable: ii                   Importance: 0.55\n",
      "Variable: personal             Importance: 0.55\n",
      "Variable: services             Importance: 0.55\n",
      "Variable: less                 Importance: 0.54\n",
      "Variable: methods              Importance: 0.54\n",
      "Variable: eight                Importance: 0.53\n",
      "Variable: open                 Importance: 0.53\n",
      "Variable: portuguese           Importance: 0.52\n",
      "Variable: share                Importance: 0.52\n",
      "Variable: industries           Importance: 0.5\n",
      "Variable: attended             Importance: 0.49\n",
      "Variable: colonialism          Importance: 0.49\n",
      "Variable: 200                  Importance: 0.48\n",
      "Variable: bring                Importance: 0.46\n",
      "Variable: necessary            Importance: 0.46\n",
      "Variable: max_issue_length_25.0 Importance: 0.46\n",
      "Variable: agricultural         Importance: 0.45\n",
      "Variable: basic                Importance: 0.45\n",
      "Variable: immediately          Importance: 0.45\n",
      "Variable: small                Importance: 0.45\n",
      "Variable: word                 Importance: 0.45\n",
      "Variable: yemeni               Importance: 0.45\n",
      "Variable: 1965                 Importance: 0.43\n",
      "Variable: help                 Importance: 0.43\n",
      "Variable: financial            Importance: 0.42\n",
      "Variable: going                Importance: 0.42\n",
      "Variable: lost                 Importance: 0.42\n",
      "Variable: majority             Importance: 0.42\n",
      "Variable: opinion              Importance: 0.42\n",
      "Variable: study                Importance: 0.42\n",
      "Variable: imperialism          Importance: 0.41\n",
      "Variable: session              Importance: 0.41\n",
      "Variable: agriculture          Importance: 0.4\n",
      "Variable: create               Importance: 0.4\n",
      "Variable: ministers            Importance: 0.4\n",
      "Variable: parts                Importance: 0.4\n",
      "Variable: pointed              Importance: 0.39\n",
      "Variable: task                 Importance: 0.39\n",
      "Variable: vice                 Importance: 0.39\n",
      "Variable: written              Importance: 0.39\n",
      "Variable: alone                Importance: 0.38\n",
      "Variable: current              Importance: 0.38\n",
      "Variable: felt                 Importance: 0.38\n",
      "Variable: following            Importance: 0.38\n",
      "Variable: interests            Importance: 0.38\n",
      "Variable: stop                 Importance: 0.38\n",
      "Variable: 31                   Importance: 0.37\n",
      "Variable: decision             Importance: 0.37\n",
      "Variable: experience           Importance: 0.37\n",
      "Variable: latest               Importance: 0.37\n",
      "Variable: latter               Importance: 0.37\n",
      "Variable: plans                Importance: 0.37\n",
      "Variable: work                 Importance: 0.37\n",
      "Variable: believe              Importance: 0.36\n",
      "Variable: paris                Importance: 0.36\n",
      "Variable: proved               Importance: 0.36\n",
      "Variable: book                 Importance: 0.35\n",
      "Variable: done                 Importance: 0.35\n",
      "Variable: equipment            Importance: 0.35\n",
      "Variable: powers               Importance: 0.35\n",
      "Variable: high                 Importance: 0.33\n",
      "Variable: respect              Importance: 0.33\n",
      "Variable: serious              Importance: 0.33\n",
      "Variable: importance           Importance: 0.32\n",
      "Variable: individual           Importance: 0.32\n",
      "Variable: purpose              Importance: 0.32\n",
      "Variable: come                 Importance: 0.31\n",
      "Variable: final                Importance: 0.31\n",
      "Variable: met                  Importance: 0.31\n",
      "Variable: role                 Importance: 0.3\n",
      "Variable: date                 Importance: 0.29\n",
      "Variable: le                   Importance: 0.29\n",
      "Variable: produced             Importance: 0.29\n",
      "Variable: something            Importance: 0.29\n",
      "Variable: white                Importance: 0.29\n",
      "Variable: max_issue_length_30.0 Importance: 0.29\n",
      "Variable: annual               Importance: 0.28\n",
      "Variable: basis                Importance: 0.28\n",
      "Variable: either               Importance: 0.28\n",
      "Variable: strong               Importance: 0.28\n",
      "Variable: clear                Importance: 0.27\n",
      "Variable: country              Importance: 0.27\n",
      "Variable: right                Importance: 0.27\n",
      "Variable: chairman             Importance: 0.26\n",
      "Variable: considered           Importance: 0.26\n",
      "Variable: thing                Importance: 0.26\n",
      "Variable: 20                   Importance: 0.25\n",
      "Variable: ancient              Importance: 0.24\n",
      "Variable: fully                Importance: 0.24\n",
      "Variable: continent            Importance: 0.23\n",
      "Variable: good                 Importance: 0.23\n",
      "Variable: independence         Importance: 0.23\n",
      "Variable: result               Importance: 0.23\n",
      "Variable: things               Importance: 0.23\n",
      "Variable: cost                 Importance: 0.21\n",
      "Variable: question             Importance: 0.21\n",
      "Variable: cotton               Importance: 0.2\n",
      "Variable: organisation         Importance: 0.2\n",
      "Variable: say                  Importance: 0.2\n",
      "Variable: chief                Importance: 0.19\n",
      "Variable: heads                Importance: 0.19\n",
      "Variable: language             Importance: 0.19\n",
      "Variable: became               Importance: 0.17\n",
      "Variable: built                Importance: 0.17\n",
      "Variable: yet                  Importance: 0.17\n",
      "Variable: might                Importance: 0.16\n",
      "Variable: stand                Importance: 0.16\n",
      "Variable: major                Importance: 0.15\n",
      "Variable: move                 Importance: 0.15\n",
      "Variable: europe               Importance: 0.13\n",
      "Variable: therefore            Importance: 0.13\n",
      "Variable: afro                 Importance: 0.12\n",
      "Variable: day                  Importance: 0.12\n",
      "Variable: heavy                Importance: 0.11\n",
      "Variable: special              Importance: 0.11\n",
      "Variable: story                Importance: 0.11\n",
      "Variable: half                 Importance: 0.09\n",
      "Variable: shown                Importance: 0.09\n",
      "Variable: dr                   Importance: 0.08\n",
      "Variable: peace                Importance: 0.08\n",
      "Variable: issue_counts         Importance: 0.08\n",
      "Variable: rose                 Importance: 0.07\n",
      "Variable: training             Importance: 0.07\n",
      "Variable: transport            Importance: 0.07\n",
      "Variable: whether              Importance: 0.07\n",
      "Variable: problem              Importance: 0.06\n",
      "Variable: different            Importance: 0.05\n",
      "Variable: distribution         Importance: 0.05\n",
      "Variable: hours                Importance: 0.05\n",
      "Variable: operation            Importance: 0.05\n",
      "Variable: certain              Importance: 0.04\n",
      "Variable: general              Importance: 0.04\n",
      "Variable: iron                 Importance: 0.04\n",
      "Variable: max_issue_length_35.0 Importance: 0.04\n",
      "Variable: occasion             Importance: 0.03\n",
      "Variable: put                  Importance: 0.03\n",
      "Variable: red                  Importance: 0.03\n",
      "Variable: capacity             Importance: 0.02\n",
      "Variable: ministry             Importance: 0.02\n",
      "Variable: company              Importance: 0.01\n",
      "Variable: possible             Importance: 0.01\n"
     ]
    }
   ],
   "source": [
    "# logit features\n",
    "\n",
    "# First, we prepare the names of all the features\n",
    "feature_names = vectorizer.get_feature_names() + \\\n",
    "                list(predicted_page_dummies.columns) + \\\n",
    "                list(max_issue_length_dummies.columns) + \\\n",
    "                ['token_length', 'issue_counts', 'issue_size']\n",
    "\n",
    "# Then, get feature importances from the model\n",
    "importances = logit_model.coef_[0]\n",
    "\n",
    "# Now, let's sort the features and their importances\n",
    "feature_importances = [(feature, round(importance, 2)) for feature, importance in zip(feature_names, importances)]\n",
    "feature_importances = sorted(feature_importances, key = lambda x: x[1], reverse = True)\n",
    "\n",
    "# Finally, let's print out the feature and importance\n",
    "for pair in feature_importances:\n",
    "    if pair[1] > 0.001:\n",
    "        print('Variable: {:20} Importance: {}'.format(*pair))"
   ]
  },
  {
   "cell_type": "code",
   "execution_count": 44,
   "metadata": {},
   "outputs": [],
   "source": [
    "from sklearn.naive_bayes import MultinomialNB\n",
    "from sklearn.linear_model import LogisticRegression\n",
    "from sklearn.ensemble import RandomForestClassifier\n",
    "from sklearn.svm import LinearSVC\n",
    "from sklearn.model_selection import cross_val_score, KFold, StratifiedKFold\n",
    "from sklearn.discriminant_analysis import LinearDiscriminantAnalysis as LDA\n",
    "models = [\n",
    "    RandomForestClassifier(n_estimators=200, max_depth=3, random_state=0),\n",
    "    LinearSVC(),\n",
    "    MultinomialNB(),\n",
    "    LogisticRegression(random_state=0),\n",
    "    LDA(),\n",
    "]"
   ]
  },
  {
   "cell_type": "code",
   "execution_count": 45,
   "metadata": {},
   "outputs": [],
   "source": [
    "import seaborn as sns\n",
    "import matplotlib.pyplot as plt"
   ]
  },
  {
   "cell_type": "code",
   "execution_count": 46,
   "metadata": {},
   "outputs": [],
   "source": [
    "def compare_models(X, y, title):\n",
    "    \n",
    "    training_features, test_features, training_target, test_target = train_test_split(X,y,test_size=0.3,random_state=0)\n",
    "    x_train, x_val, y_train, y_val = train_test_split(training_features, training_target,test_size = 0.3,random_state=12)\n",
    "    CV = 10\n",
    "    cv_df = pd.DataFrame(index=range(CV * len(models)))\n",
    "    entries = []\n",
    "    # print(len(cv_df))\n",
    "    for model in models:\n",
    "        model_name = model.__class__.__name__\n",
    "        accuracies = cross_val_score(model, x_train, y_train, scoring='accuracy', cv=CV)\n",
    "        #   print(model_name)\n",
    "        for fold_idx, accuracy in enumerate(accuracies):\n",
    "            entries.append((model_name, fold_idx, accuracy))\n",
    "    cv_df = pd.DataFrame(entries, columns=['model_name', 'fold_idx', 'accuracy'])\n",
    "    # print(len(cv_df))\n",
    "        \n",
    "    sns.boxplot(x='model_name', y='accuracy', data=cv_df).set_title(title)\n",
    "    sns.stripplot(x='model_name', y='accuracy', data=cv_df, \n",
    "                size=8, jitter=True, edgecolor=\"gray\", linewidth=2)\n",
    "    plt.show()\n",
    "    plt.clf()\n",
    "    return cv_df"
   ]
  },
  {
   "cell_type": "code",
   "execution_count": 47,
   "metadata": {},
   "outputs": [
    {
     "data": {
      "image/png": "[encoded data removed]",
      "text/plain": [
       "<Figure size 640x480 with 1 Axes>"
      ]
     },
     "metadata": {},
     "output_type": "display_data"
    },
    {
     "data": {
      "text/plain": [
       "<Figure size 640x480 with 0 Axes>"
      ]
     },
     "metadata": {},
     "output_type": "display_data"
    }
   ],
   "source": [
    "cv_df = compare_models(X, y, 'Accuracy of Models')"
   ]
  },
  {
   "cell_type": "code",
   "execution_count": 49,
   "metadata": {},
   "outputs": [],
   "source": [
    "def sample_estimator_sizes(estimator_sizes, X, y):\n",
    "    estimator_results = []\n",
    "    for n_estimators in estimator_sizes:\n",
    "        training_features, test_features, training_target, test_target = train_test_split(X,y,test_size=0.3,random_state=0)\n",
    "        x_train, x_val, y_train, y_val = train_test_split(training_features, training_target,test_size = 0.3,random_state=12)\n",
    "        rf_model = RandomForestClassifier(\n",
    "            n_estimators=n_estimators,\n",
    "            random_state=0,\n",
    "            verbose=0,\n",
    "            class_weight='balanced')\n",
    "        rf_model = rf_model.fit(X=x_train, y=y_train)\n",
    "        y_pred = rf_model.predict(x_val)\n",
    "        accuracy = metrics.accuracy_score(y_val, y_pred)\n",
    "        precision = metrics.precision_score(y_val, y_pred)\n",
    "        recall = metrics.recall_score(y_val, y_pred)\n",
    "        # print('number of estimators: ', n_estimators)\n",
    "        # print('precision: {}'.format(precision), 'recall: {}'.format(recall), 'accuracy: {}'.format(accuracy))\n",
    "\n",
    "        kfold = KFold(n_splits=10, shuffle=True, random_state=1)\n",
    "        results = cross_val_score(rf_model, x_train, y_train,scoring='accuracy', cv=kfold)\n",
    "        # print(\"10-fold cross validation average accuracy: %.3f\" % (results.mean()))\n",
    "\n",
    "        results_dict = {'estimator': n_estimators, 'kfold_accuracy': results.mean(), 'precision': precision, 'recall': recall, 'accuracy': accuracy, 'f1': metrics.f1_score(y_val, y_pred)}\n",
    "        estimator_results.append(pd.DataFrame([results_dict]))\n",
    "    estimator_results_df = pd.concat(estimator_results)\n",
    "    return estimator_results_df"
   ]
  },
  {
   "cell_type": "code",
   "execution_count": 50,
   "metadata": {},
   "outputs": [],
   "source": [
    "estimator_results_df = sample_estimator_sizes([10, 50, 100, 200, 300, 400, 500], X, y)"
   ]
  },
  {
   "cell_type": "code",
   "execution_count": 51,
   "metadata": {},
   "outputs": [
    {
     "data": {
      "text/html": [
       "<div>\n",
       "<style scoped>\n",
       "    .dataframe tbody tr th:only-of-type {\n",
       "        vertical-align: middle;\n",
       "    }\n",
       "\n",
       "    .dataframe tbody tr th {\n",
       "        vertical-align: top;\n",
       "    }\n",
       "\n",
       "    .dataframe thead th {\n",
       "        text-align: right;\n",
       "    }\n",
       "</style>\n",
       "<table border=\"1\" class=\"dataframe\">\n",
       "  <thead>\n",
       "    <tr style=\"text-align: right;\">\n",
       "      <th></th>\n",
       "      <th>estimator</th>\n",
       "      <th>kfold_accuracy</th>\n",
       "      <th>precision</th>\n",
       "      <th>recall</th>\n",
       "      <th>accuracy</th>\n",
       "      <th>f1</th>\n",
       "    </tr>\n",
       "  </thead>\n",
       "  <tbody>\n",
       "    <tr>\n",
       "      <th>0</th>\n",
       "      <td>10</td>\n",
       "      <td>0.995679</td>\n",
       "      <td>0.989362</td>\n",
       "      <td>0.948980</td>\n",
       "      <td>0.997251</td>\n",
       "      <td>0.968750</td>\n",
       "    </tr>\n",
       "    <tr>\n",
       "      <th>0</th>\n",
       "      <td>50</td>\n",
       "      <td>0.996268</td>\n",
       "      <td>1.000000</td>\n",
       "      <td>0.959184</td>\n",
       "      <td>0.998168</td>\n",
       "      <td>0.979167</td>\n",
       "    </tr>\n",
       "    <tr>\n",
       "      <th>0</th>\n",
       "      <td>100</td>\n",
       "      <td>0.996464</td>\n",
       "      <td>1.000000</td>\n",
       "      <td>0.959184</td>\n",
       "      <td>0.998168</td>\n",
       "      <td>0.979167</td>\n",
       "    </tr>\n",
       "    <tr>\n",
       "      <th>0</th>\n",
       "      <td>200</td>\n",
       "      <td>0.996464</td>\n",
       "      <td>1.000000</td>\n",
       "      <td>0.959184</td>\n",
       "      <td>0.998168</td>\n",
       "      <td>0.979167</td>\n",
       "    </tr>\n",
       "    <tr>\n",
       "      <th>0</th>\n",
       "      <td>300</td>\n",
       "      <td>0.996464</td>\n",
       "      <td>1.000000</td>\n",
       "      <td>0.959184</td>\n",
       "      <td>0.998168</td>\n",
       "      <td>0.979167</td>\n",
       "    </tr>\n",
       "    <tr>\n",
       "      <th>0</th>\n",
       "      <td>400</td>\n",
       "      <td>0.996464</td>\n",
       "      <td>1.000000</td>\n",
       "      <td>0.959184</td>\n",
       "      <td>0.998168</td>\n",
       "      <td>0.979167</td>\n",
       "    </tr>\n",
       "    <tr>\n",
       "      <th>0</th>\n",
       "      <td>500</td>\n",
       "      <td>0.996464</td>\n",
       "      <td>1.000000</td>\n",
       "      <td>0.959184</td>\n",
       "      <td>0.998168</td>\n",
       "      <td>0.979167</td>\n",
       "    </tr>\n",
       "  </tbody>\n",
       "</table>\n",
       "</div>"
      ],
      "text/plain": [
       "   estimator  kfold_accuracy  precision    recall  accuracy        f1\n",
       "0         10        0.995679   0.989362  0.948980  0.997251  0.968750\n",
       "0         50        0.996268   1.000000  0.959184  0.998168  0.979167\n",
       "0        100        0.996464   1.000000  0.959184  0.998168  0.979167\n",
       "0        200        0.996464   1.000000  0.959184  0.998168  0.979167\n",
       "0        300        0.996464   1.000000  0.959184  0.998168  0.979167\n",
       "0        400        0.996464   1.000000  0.959184  0.998168  0.979167\n",
       "0        500        0.996464   1.000000  0.959184  0.998168  0.979167"
      ]
     },
     "execution_count": 51,
     "metadata": {},
     "output_type": "execute_result"
    }
   ],
   "source": [
    "estimator_results_df"
   ]
  },
  {
   "cell_type": "code",
   "execution_count": 38,
   "metadata": {},
   "outputs": [
    {
     "data": {
      "text/html": [
       "<div>\n",
       "<style scoped>\n",
       "    .dataframe tbody tr th:only-of-type {\n",
       "        vertical-align: middle;\n",
       "    }\n",
       "\n",
       "    .dataframe tbody tr th {\n",
       "        vertical-align: top;\n",
       "    }\n",
       "\n",
       "    .dataframe thead th {\n",
       "        text-align: right;\n",
       "    }\n",
       "</style>\n",
       "<table border=\"1\" class=\"dataframe\">\n",
       "  <thead>\n",
       "    <tr style=\"text-align: right;\">\n",
       "      <th></th>\n",
       "      <th>cleaned_magazine_title</th>\n",
       "      <th>ht_generated_title</th>\n",
       "      <th>htid</th>\n",
       "      <th>hdl_link</th>\n",
       "      <th>cleaned_volume</th>\n",
       "      <th>start_issue</th>\n",
       "      <th>end_issue</th>\n",
       "      <th>datetime</th>\n",
       "      <th>dates</th>\n",
       "      <th>issue_number</th>\n",
       "      <th>...</th>\n",
       "      <th>predicted_issue_number</th>\n",
       "      <th>max_issue_length</th>\n",
       "      <th>token_length</th>\n",
       "      <th>tokenized_text</th>\n",
       "      <th>tokenized_text_length</th>\n",
       "      <th>sentences</th>\n",
       "      <th>sentences_length</th>\n",
       "      <th>issue_size</th>\n",
       "      <th>issue_counts</th>\n",
       "      <th>class_numb</th>\n",
       "    </tr>\n",
       "  </thead>\n",
       "  <tbody>\n",
       "    <tr>\n",
       "      <th>0</th>\n",
       "      <td>tricontinental</td>\n",
       "      <td>tricontinental_v.1-4(1966-1969)</td>\n",
       "      <td>uiug.30112070958894</td>\n",
       "      <td>https://hdl.handle.net/2027/uiug.30112070958894</td>\n",
       "      <td>v.1-4(1966-1969)</td>\n",
       "      <td>1966-04-01</td>\n",
       "      <td>1966-04-01</td>\n",
       "      <td>1966-04-01</td>\n",
       "      <td>April 1966</td>\n",
       "      <td>1.0</td>\n",
       "      <td>...</td>\n",
       "      <td>NaN</td>\n",
       "      <td>0.0</td>\n",
       "      <td>5439</td>\n",
       "      <td>[!, €, ‘, §4, *, ', 7¢\\, ``, ``, '', ``, '', ....</td>\n",
       "      <td>3229</td>\n",
       "      <td>[!€‘§4*'7¢\\ \" \"\" \"\".‘_' \"\"_\"‘ \"\"__,/ \"\"‘..'~-....</td>\n",
       "      <td>201</td>\n",
       "      <td>42</td>\n",
       "      <td>45123</td>\n",
       "      <td>0</td>\n",
       "    </tr>\n",
       "    <tr>\n",
       "      <th>1</th>\n",
       "      <td>tricontinental</td>\n",
       "      <td>tricontinental_v.1-4(1966-1969)</td>\n",
       "      <td>uiug.30112070958894</td>\n",
       "      <td>https://hdl.handle.net/2027/uiug.30112070958894</td>\n",
       "      <td>v.1-4(1966-1969)</td>\n",
       "      <td>1966-04-01</td>\n",
       "      <td>1966-04-01</td>\n",
       "      <td>1966-04-01</td>\n",
       "      <td>April 1966</td>\n",
       "      <td>1.0</td>\n",
       "      <td>...</td>\n",
       "      <td>NaN</td>\n",
       "      <td>0.0</td>\n",
       "      <td>54</td>\n",
       "      <td>[AT, ILLINOIS, LIBRARY, OF, THE, UNIVERSITY, U...</td>\n",
       "      <td>7</td>\n",
       "      <td>[AT ILLINOIS LIBRARY OF THE UNIVERSITY URBANA-...</td>\n",
       "      <td>1</td>\n",
       "      <td>42</td>\n",
       "      <td>45123</td>\n",
       "      <td>0</td>\n",
       "    </tr>\n",
       "    <tr>\n",
       "      <th>2</th>\n",
       "      <td>tricontinental</td>\n",
       "      <td>tricontinental_v.1-4(1966-1969)</td>\n",
       "      <td>uiug.30112070958894</td>\n",
       "      <td>https://hdl.handle.net/2027/uiug.30112070958894</td>\n",
       "      <td>v.1-4(1966-1969)</td>\n",
       "      <td>1966-04-01</td>\n",
       "      <td>1966-04-01</td>\n",
       "      <td>1966-04-01</td>\n",
       "      <td>April 1966</td>\n",
       "      <td>1.0</td>\n",
       "      <td>...</td>\n",
       "      <td>NaN</td>\n",
       "      <td>0.0</td>\n",
       "      <td>404</td>\n",
       "      <td>[#, ', ``, ,, -, --, -LRB-, -RRB-, ., ..., 0CT...</td>\n",
       "      <td>76</td>\n",
       "      <td>[# ' '' , - -- -LRB- -RRB- ., ... 0CT 1 11 198...</td>\n",
       "      <td>4</td>\n",
       "      <td>42</td>\n",
       "      <td>45123</td>\n",
       "      <td>0</td>\n",
       "    </tr>\n",
       "    <tr>\n",
       "      <th>3</th>\n",
       "      <td>tricontinental</td>\n",
       "      <td>tricontinental_v.1-4(1966-1969)</td>\n",
       "      <td>uiug.30112070958894</td>\n",
       "      <td>https://hdl.handle.net/2027/uiug.30112070958894</td>\n",
       "      <td>v.1-4(1966-1969)</td>\n",
       "      <td>1966-04-01</td>\n",
       "      <td>1966-04-01</td>\n",
       "      <td>1966-04-01</td>\n",
       "      <td>April 1966</td>\n",
       "      <td>1.0</td>\n",
       "      <td>...</td>\n",
       "      <td>NaN</td>\n",
       "      <td>0.0</td>\n",
       "      <td>2</td>\n",
       "      <td>[~L]</td>\n",
       "      <td>1</td>\n",
       "      <td>[~L]</td>\n",
       "      <td>1</td>\n",
       "      <td>42</td>\n",
       "      <td>45123</td>\n",
       "      <td>0</td>\n",
       "    </tr>\n",
       "    <tr>\n",
       "      <th>4</th>\n",
       "      <td>tricontinental</td>\n",
       "      <td>tricontinental_v.1-4(1966-1969)</td>\n",
       "      <td>uiug.30112070958894</td>\n",
       "      <td>https://hdl.handle.net/2027/uiug.30112070958894</td>\n",
       "      <td>v.1-4(1966-1969)</td>\n",
       "      <td>1966-04-01</td>\n",
       "      <td>1966-04-01</td>\n",
       "      <td>1966-04-01</td>\n",
       "      <td>April 1966</td>\n",
       "      <td>1.0</td>\n",
       "      <td>...</td>\n",
       "      <td>NaN</td>\n",
       "      <td>0.0</td>\n",
       "      <td>28</td>\n",
       "      <td>[', ._.____, 1, _, fﬂﬁ, ~, », —-—, », -——]</td>\n",
       "      <td>10</td>\n",
       "      <td>[' ._.____ 1 _ fﬂﬁ ~ »—-—»-——]</td>\n",
       "      <td>1</td>\n",
       "      <td>42</td>\n",
       "      <td>45123</td>\n",
       "      <td>0</td>\n",
       "    </tr>\n",
       "    <tr>\n",
       "      <th>...</th>\n",
       "      <td>...</td>\n",
       "      <td>...</td>\n",
       "      <td>...</td>\n",
       "      <td>...</td>\n",
       "      <td>...</td>\n",
       "      <td>...</td>\n",
       "      <td>...</td>\n",
       "      <td>...</td>\n",
       "      <td>...</td>\n",
       "      <td>...</td>\n",
       "      <td>...</td>\n",
       "      <td>...</td>\n",
       "      <td>...</td>\n",
       "      <td>...</td>\n",
       "      <td>...</td>\n",
       "      <td>...</td>\n",
       "      <td>...</td>\n",
       "      <td>...</td>\n",
       "      <td>...</td>\n",
       "      <td>...</td>\n",
       "      <td>...</td>\n",
       "    </tr>\n",
       "    <tr>\n",
       "      <th>1967</th>\n",
       "      <td>tricontinental</td>\n",
       "      <td>tricontinental_v.1-4(1966-1969)</td>\n",
       "      <td>uiug.30112070958894</td>\n",
       "      <td>https://hdl.handle.net/2027/uiug.30112070958894</td>\n",
       "      <td>v.1-4(1966-1969)</td>\n",
       "      <td>1969-12-01</td>\n",
       "      <td>1969-12-01</td>\n",
       "      <td>1969-12-01</td>\n",
       "      <td>December 1969</td>\n",
       "      <td>45</td>\n",
       "      <td>...</td>\n",
       "      <td>NaN</td>\n",
       "      <td>0.0</td>\n",
       "      <td>8</td>\n",
       "      <td>[!, (, 4, I, s]</td>\n",
       "      <td>5</td>\n",
       "      <td>[!, (4 I s]</td>\n",
       "      <td>2</td>\n",
       "      <td>45</td>\n",
       "      <td>50222</td>\n",
       "      <td>0</td>\n",
       "    </tr>\n",
       "    <tr>\n",
       "      <th>1968</th>\n",
       "      <td>tricontinental</td>\n",
       "      <td>tricontinental_v.1-4(1966-1969)</td>\n",
       "      <td>uiug.30112070958894</td>\n",
       "      <td>https://hdl.handle.net/2027/uiug.30112070958894</td>\n",
       "      <td>v.1-4(1966-1969)</td>\n",
       "      <td>1969-12-01</td>\n",
       "      <td>1969-12-01</td>\n",
       "      <td>1969-12-01</td>\n",
       "      <td>December 1969</td>\n",
       "      <td>45</td>\n",
       "      <td>...</td>\n",
       "      <td>NaN</td>\n",
       "      <td>0.0</td>\n",
       "      <td>3</td>\n",
       "      <td>[I, i]</td>\n",
       "      <td>2</td>\n",
       "      <td>[I i]</td>\n",
       "      <td>1</td>\n",
       "      <td>45</td>\n",
       "      <td>50222</td>\n",
       "      <td>0</td>\n",
       "    </tr>\n",
       "    <tr>\n",
       "      <th>1969</th>\n",
       "      <td>tricontinental</td>\n",
       "      <td>tricontinental_v.1-4(1966-1969)</td>\n",
       "      <td>uiug.30112070958894</td>\n",
       "      <td>https://hdl.handle.net/2027/uiug.30112070958894</td>\n",
       "      <td>v.1-4(1966-1969)</td>\n",
       "      <td>1969-12-01</td>\n",
       "      <td>1969-12-01</td>\n",
       "      <td>1969-12-01</td>\n",
       "      <td>December 1969</td>\n",
       "      <td>45</td>\n",
       "      <td>...</td>\n",
       "      <td>NaN</td>\n",
       "      <td>0.0</td>\n",
       "      <td>2</td>\n",
       "      <td>[ii]</td>\n",
       "      <td>1</td>\n",
       "      <td>[ii]</td>\n",
       "      <td>1</td>\n",
       "      <td>45</td>\n",
       "      <td>50222</td>\n",
       "      <td>0</td>\n",
       "    </tr>\n",
       "    <tr>\n",
       "      <th>1970</th>\n",
       "      <td>tricontinental</td>\n",
       "      <td>tricontinental_v.1-4(1966-1969)</td>\n",
       "      <td>uiug.30112070958894</td>\n",
       "      <td>https://hdl.handle.net/2027/uiug.30112070958894</td>\n",
       "      <td>v.1-4(1966-1969)</td>\n",
       "      <td>1969-12-01</td>\n",
       "      <td>1969-12-01</td>\n",
       "      <td>1969-12-01</td>\n",
       "      <td>December 1969</td>\n",
       "      <td>45</td>\n",
       "      <td>...</td>\n",
       "      <td>NaN</td>\n",
       "      <td>0.0</td>\n",
       "      <td>1486</td>\n",
       "      <td>[!, ``, ``, _, ``, __, ``, ’, ________, “, ', ...</td>\n",
       "      <td>663</td>\n",
       "      <td>[! \", \"_ \"__ \"’________“ ' '4'_ '5 '_,_ '__ '_...</td>\n",
       "      <td>10</td>\n",
       "      <td>45</td>\n",
       "      <td>50222</td>\n",
       "      <td>0</td>\n",
       "    </tr>\n",
       "    <tr>\n",
       "      <th>1971</th>\n",
       "      <td>tricontinental</td>\n",
       "      <td>tricontinental_v.1-4(1966-1969)</td>\n",
       "      <td>uiug.30112070958894</td>\n",
       "      <td>https://hdl.handle.net/2027/uiug.30112070958894</td>\n",
       "      <td>v.1-4(1966-1969)</td>\n",
       "      <td>1969-12-01</td>\n",
       "      <td>1969-12-01</td>\n",
       "      <td>1969-12-01</td>\n",
       "      <td>December 1969</td>\n",
       "      <td>45</td>\n",
       "      <td>...</td>\n",
       "      <td>NaN</td>\n",
       "      <td>0.0</td>\n",
       "      <td>3</td>\n",
       "      <td>[nan]</td>\n",
       "      <td>1</td>\n",
       "      <td>[nan]</td>\n",
       "      <td>1</td>\n",
       "      <td>45</td>\n",
       "      <td>50222</td>\n",
       "      <td>1</td>\n",
       "    </tr>\n",
       "  </tbody>\n",
       "</table>\n",
       "<p>1937 rows × 26 columns</p>\n",
       "</div>"
      ],
      "text/plain": [
       "     cleaned_magazine_title               ht_generated_title  \\\n",
       "0            tricontinental  tricontinental_v.1-4(1966-1969)   \n",
       "1            tricontinental  tricontinental_v.1-4(1966-1969)   \n",
       "2            tricontinental  tricontinental_v.1-4(1966-1969)   \n",
       "3            tricontinental  tricontinental_v.1-4(1966-1969)   \n",
       "4            tricontinental  tricontinental_v.1-4(1966-1969)   \n",
       "...                     ...                              ...   \n",
       "1967         tricontinental  tricontinental_v.1-4(1966-1969)   \n",
       "1968         tricontinental  tricontinental_v.1-4(1966-1969)   \n",
       "1969         tricontinental  tricontinental_v.1-4(1966-1969)   \n",
       "1970         tricontinental  tricontinental_v.1-4(1966-1969)   \n",
       "1971         tricontinental  tricontinental_v.1-4(1966-1969)   \n",
       "\n",
       "                     htid                                         hdl_link  \\\n",
       "0     uiug.30112070958894  https://hdl.handle.net/2027/uiug.30112070958894   \n",
       "1     uiug.30112070958894  https://hdl.handle.net/2027/uiug.30112070958894   \n",
       "2     uiug.30112070958894  https://hdl.handle.net/2027/uiug.30112070958894   \n",
       "3     uiug.30112070958894  https://hdl.handle.net/2027/uiug.30112070958894   \n",
       "4     uiug.30112070958894  https://hdl.handle.net/2027/uiug.30112070958894   \n",
       "...                   ...                                              ...   \n",
       "1967  uiug.30112070958894  https://hdl.handle.net/2027/uiug.30112070958894   \n",
       "1968  uiug.30112070958894  https://hdl.handle.net/2027/uiug.30112070958894   \n",
       "1969  uiug.30112070958894  https://hdl.handle.net/2027/uiug.30112070958894   \n",
       "1970  uiug.30112070958894  https://hdl.handle.net/2027/uiug.30112070958894   \n",
       "1971  uiug.30112070958894  https://hdl.handle.net/2027/uiug.30112070958894   \n",
       "\n",
       "        cleaned_volume start_issue   end_issue    datetime          dates  \\\n",
       "0     v.1-4(1966-1969)  1966-04-01  1966-04-01  1966-04-01     April 1966   \n",
       "1     v.1-4(1966-1969)  1966-04-01  1966-04-01  1966-04-01     April 1966   \n",
       "2     v.1-4(1966-1969)  1966-04-01  1966-04-01  1966-04-01     April 1966   \n",
       "3     v.1-4(1966-1969)  1966-04-01  1966-04-01  1966-04-01     April 1966   \n",
       "4     v.1-4(1966-1969)  1966-04-01  1966-04-01  1966-04-01     April 1966   \n",
       "...                ...         ...         ...         ...            ...   \n",
       "1967  v.1-4(1966-1969)  1969-12-01  1969-12-01  1969-12-01  December 1969   \n",
       "1968  v.1-4(1966-1969)  1969-12-01  1969-12-01  1969-12-01  December 1969   \n",
       "1969  v.1-4(1966-1969)  1969-12-01  1969-12-01  1969-12-01  December 1969   \n",
       "1970  v.1-4(1966-1969)  1969-12-01  1969-12-01  1969-12-01  December 1969   \n",
       "1971  v.1-4(1966-1969)  1969-12-01  1969-12-01  1969-12-01  December 1969   \n",
       "\n",
       "     issue_number  ... predicted_issue_number  max_issue_length token_length  \\\n",
       "0             1.0  ...                    NaN               0.0         5439   \n",
       "1             1.0  ...                    NaN               0.0           54   \n",
       "2             1.0  ...                    NaN               0.0          404   \n",
       "3             1.0  ...                    NaN               0.0            2   \n",
       "4             1.0  ...                    NaN               0.0           28   \n",
       "...           ...  ...                    ...               ...          ...   \n",
       "1967           45  ...                    NaN               0.0            8   \n",
       "1968           45  ...                    NaN               0.0            3   \n",
       "1969           45  ...                    NaN               0.0            2   \n",
       "1970           45  ...                    NaN               0.0         1486   \n",
       "1971           45  ...                    NaN               0.0            3   \n",
       "\n",
       "                                         tokenized_text tokenized_text_length  \\\n",
       "0     [!, €, ‘, §4, *, ', 7¢\\, ``, ``, '', ``, '', ....                  3229   \n",
       "1     [AT, ILLINOIS, LIBRARY, OF, THE, UNIVERSITY, U...                     7   \n",
       "2     [#, ', ``, ,, -, --, -LRB-, -RRB-, ., ..., 0CT...                    76   \n",
       "3                                                  [~L]                     1   \n",
       "4            [', ._.____, 1, _, fﬂﬁ, ~, », —-—, », -——]                    10   \n",
       "...                                                 ...                   ...   \n",
       "1967                                    [!, (, 4, I, s]                     5   \n",
       "1968                                             [I, i]                     2   \n",
       "1969                                               [ii]                     1   \n",
       "1970  [!, ``, ``, _, ``, __, ``, ’, ________, “, ', ...                   663   \n",
       "1971                                              [nan]                     1   \n",
       "\n",
       "                                              sentences sentences_length  \\\n",
       "0     [!€‘§4*'7¢\\ \" \"\" \"\".‘_' \"\"_\"‘ \"\"__,/ \"\"‘..'~-....              201   \n",
       "1     [AT ILLINOIS LIBRARY OF THE UNIVERSITY URBANA-...                1   \n",
       "2     [# ' '' , - -- -LRB- -RRB- ., ... 0CT 1 11 198...                4   \n",
       "3                                                  [~L]                1   \n",
       "4                        [' ._.____ 1 _ fﬂﬁ ~ »—-—»-——]                1   \n",
       "...                                                 ...              ...   \n",
       "1967                                        [!, (4 I s]                2   \n",
       "1968                                              [I i]                1   \n",
       "1969                                               [ii]                1   \n",
       "1970  [! \", \"_ \"__ \"’________“ ' '4'_ '5 '_,_ '__ '_...               10   \n",
       "1971                                              [nan]                1   \n",
       "\n",
       "      issue_size  issue_counts class_numb  \n",
       "0             42         45123          0  \n",
       "1             42         45123          0  \n",
       "2             42         45123          0  \n",
       "3             42         45123          0  \n",
       "4             42         45123          0  \n",
       "...          ...           ...        ...  \n",
       "1967          45         50222          0  \n",
       "1968          45         50222          0  \n",
       "1969          45         50222          0  \n",
       "1970          45         50222          0  \n",
       "1971          45         50222          1  \n",
       "\n",
       "[1937 rows x 26 columns]"
      ]
     },
     "execution_count": 38,
     "metadata": {},
     "output_type": "execute_result"
    }
   ],
   "source": [
    "subset_predictions_df"
   ]
  },
  {
   "cell_type": "code",
   "execution_count": 37,
   "metadata": {},
   "outputs": [
    {
     "ename": "NameError",
     "evalue": "name 'predictions' is not defined",
     "output_type": "error",
     "traceback": [
      "\u001b[0;31m---------------------------------------------------------------------------\u001b[0m",
      "\u001b[0;31mNameError\u001b[0m                                 Traceback (most recent call last)",
      "Cell \u001b[0;32mIn[37], line 3\u001b[0m\n\u001b[1;32m      1\u001b[0m input_value \u001b[39m=\u001b[39m combined_df\u001b[39m.\u001b[39mstart_issue\u001b[39m.\u001b[39munique()\u001b[39m.\u001b[39mtolist()[\u001b[39m0\u001b[39m]\n\u001b[1;32m      2\u001b[0m most_likely_predicted_issue \u001b[39m=\u001b[39m combined_df\u001b[39m.\u001b[39miloc[(combined_df[\u001b[39m'\u001b[39m\u001b[39mpredicted_issue_number\u001b[39m\u001b[39m'\u001b[39m]\u001b[39m-\u001b[39minput_value)\u001b[39m.\u001b[39mabs()\u001b[39m.\u001b[39margsort()[:\u001b[39m1\u001b[39m]]\n\u001b[0;32m----> 3\u001b[0m top_predictions \u001b[39m=\u001b[39m predictions[(predictions\u001b[39m.\u001b[39mmax_issue_length \u001b[39m==\u001b[39m most_likely_predicted_issue\u001b[39m.\u001b[39mmax_issue_length\u001b[39m.\u001b[39mvalues[\u001b[39m0\u001b[39m])]\n\u001b[1;32m      4\u001b[0m finalized_issue_length \u001b[39m=\u001b[39m top_predictions\u001b[39m.\u001b[39mmax_issue_length\u001b[39m.\u001b[39munique()\u001b[39m.\u001b[39mtolist()[\u001b[39m0\u001b[39m]\n",
      "\u001b[0;31mNameError\u001b[0m: name 'predictions' is not defined"
     ]
    }
   ],
   "source": [
    "input_value = combined_df.start_issue.unique().tolist()[0]\n",
    "most_likely_predicted_issue = combined_df.iloc[(combined_df['predicted_issue_number']-input_value).abs().argsort()[:1]]\n",
    "top_predictions = predictions[(predictions.max_issue_length == most_likely_predicted_issue.max_issue_length.values[0])]\n",
    "finalized_issue_length = top_predictions.max_issue_length.unique().tolist()[0]"
   ]
  },
  {
   "cell_type": "code",
   "execution_count": 53,
   "metadata": {},
   "outputs": [],
   "source": [
    "def get_finalized_dataset(df, max_issue_length):\n",
    "    subset_digits = clean_digits(df)\n",
    "    tqdm.pandas()\n",
    "    htids = subset_digits.htid.unique().tolist()\n",
    "    dfs = []\n",
    "    for htid in tqdm(htids, total=len(htids), desc='Processing digits'):\n",
    "            subset_df = subset_digits[subset_digits.htid == htid]\n",
    "            subset_df = get_predicted_page(subset_df, [max_issue_length])\n",
    "            dfs.append(subset_df)\n",
    "    combined_subset_digits = pd.concat(dfs)\n",
    "    combined_subset_digits = combined_subset_digits.reset_index(drop=True)\n",
    "    digit_cols = combined_subset_digits.columns.tolist()\n",
    "    digit_cols = [x for x in digit_cols if x not in ['pos', 'count', 'section', 'token']]\n",
    "    combined_subset_digits = combined_subset_digits[digit_cols]\n",
    "    cols = list(set(df) & (set(combined_subset_digits)))\n",
    "\n",
    "    merged_df = pd.merge(df, combined_subset_digits, on=cols, how='left')\n",
    "    if merged_df['volume_number'].isna().all():\n",
    "            merged_df = merged_df.drop(columns='volume_number')\n",
    "    pages_cols = merged_df.columns.tolist()\n",
    "    holdout_cols = ['section', 'token', 'pos', 'count', 'number', 'implied_zero']\n",
    "    pages_cols = [x for x in pages_cols if x not in holdout_cols]\n",
    "    pages_df = merged_df[pages_cols]\n",
    "    pages_df = pages_df.drop_duplicates()\n",
    "    groupby_cols = ['cleaned_magazine_title', 'ht_generated_title', 'volume_number', 'htid', 'hdl_link','cleaned_volume', 'start_issue', 'end_issue', 'datetime','dates', 'issue_number', 'type_of_page', 'sequence'] if 'volume_number' in merged_df.columns else ['cleaned_magazine_title', 'ht_generated_title', 'htid', 'hdl_link','cleaned_volume', 'start_issue', 'end_issue', 'datetime','dates', 'issue_number', 'type_of_page', 'sequence']\n",
    "    final_df = merged_df.groupby(groupby_cols, as_index = False).agg({'token': ' '.join, 'count': list, 'number': list, 'implied_zero': list})\n",
    "    final_cols = list(set(pages_df) & set(final_df))\n",
    "    finalized_df = pd.merge(pages_df, final_df, on=final_cols, how='left')\n",
    "    return finalized_df"
   ]
  },
  {
   "cell_type": "code",
   "execution_count": 99,
   "metadata": {},
   "outputs": [
    {
     "name": "stderr",
     "output_type": "stream",
     "text": [
      "Processing digits: 100%|██████████| 1/1 [00:00<00:00, 22.01it/s]\n"
     ]
    }
   ],
   "source": [
    "finalized_df = get_finalized_dataset(initial_df, finalized_issue_length)"
   ]
  },
  {
   "cell_type": "code",
   "execution_count": 100,
   "metadata": {},
   "outputs": [
    {
     "data": {
      "text/plain": [
       "(363936, 1941)"
      ]
     },
     "execution_count": 100,
     "metadata": {},
     "output_type": "execute_result"
    }
   ],
   "source": [
    "len(initial_df), len(finalized_df)"
   ]
  },
  {
   "cell_type": "code",
   "execution_count": 59,
   "metadata": {},
   "outputs": [],
   "source": []
  },
  {
   "cell_type": "code",
   "execution_count": 60,
   "metadata": {},
   "outputs": [],
   "source": [
    "\n"
   ]
  },
  {
   "cell_type": "code",
   "execution_count": 61,
   "metadata": {},
   "outputs": [],
   "source": []
  },
  {
   "cell_type": "code",
   "execution_count": 63,
   "metadata": {},
   "outputs": [
    {
     "data": {
      "text/html": [
       "\n",
       "<div id=\"altair-viz-c362f22d98f742f7b3d4e88366d55dfd\"></div>\n",
       "<script type=\"text/javascript\">\n",
       "  var VEGA_DEBUG = (typeof VEGA_DEBUG == \"undefined\") ? {} : VEGA_DEBUG;\n",
       "  (function(spec, embedOpt){\n",
       "    let outputDiv = document.currentScript.previousElementSibling;\n",
       "    if (outputDiv.id !== \"altair-viz-c362f22d98f742f7b3d4e88366d55dfd\") {\n",
       "      outputDiv = document.getElementById(\"altair-viz-c362f22d98f742f7b3d4e88366d55dfd\");\n",
       "    }\n",
       "    const paths = {\n",
       "      \"vega\": \"https://cdn.jsdelivr.net/npm//vega@5?noext\",\n",
       "      \"vega-lib\": \"https://cdn.jsdelivr.net/npm//vega-lib?noext\",\n",
       "      \"vega-lite\": \"https://cdn.jsdelivr.net/npm//vega-lite@4.17.0?noext\",\n",
       "      \"vega-embed\": \"https://cdn.jsdelivr.net/npm//vega-embed@6?noext\",\n",
       "    };\n",
       "\n",
       "    function maybeLoadScript(lib, version) {\n",
       "      var key = `${lib.replace(\"-\", \"\")}_version`;\n",
       "      return (VEGA_DEBUG[key] == version) ?\n",
       "        Promise.resolve(paths[lib]) :\n",
       "        new Promise(function(resolve, reject) {\n",
       "          var s = document.createElement('script');\n",
       "          document.getElementsByTagName(\"head\")[0].appendChild(s);\n",
       "          s.async = true;\n",
       "          s.onload = () => {\n",
       "            VEGA_DEBUG[key] = version;\n",
       "            return resolve(paths[lib]);\n",
       "          };\n",
       "          s.onerror = () => reject(`Error loading script: ${paths[lib]}`);\n",
       "          s.src = paths[lib];\n",
       "        });\n",
       "    }\n",
       "\n",
       "    function showError(err) {\n",
       "      outputDiv.innerHTML = `<div class=\"error\" style=\"color:red;\">${err}</div>`;\n",
       "      throw err;\n",
       "    }\n",
       "\n",
       "    function displayChart(vegaEmbed) {\n",
       "      vegaEmbed(outputDiv, spec, embedOpt)\n",
       "        .catch(err => showError(`Javascript Error: ${err.message}<br>This usually means there's a typo in your chart specification. See the javascript console for the full traceback.`));\n",
       "    }\n",
       "\n",
       "    if(typeof define === \"function\" && define.amd) {\n",
       "      requirejs.config({paths});\n",
       "      require([\"vega-embed\"], displayChart, err => showError(`Error loading script: ${err.message}`));\n",
       "    } else {\n",
       "      maybeLoadScript(\"vega\", \"5\")\n",
       "        .then(() => maybeLoadScript(\"vega-lite\", \"4.17.0\"))\n",
       "        .then(() => maybeLoadScript(\"vega-embed\", \"6\"))\n",
       "        .catch(showError)\n",
       "        .then(() => displayChart(vegaEmbed));\n",
       "    }\n",
       "  })({\"config\": {\"view\": {\"continuousWidth\": 400, \"continuousHeight\": 300}}, \"data\": {\"name\": \"data-bf37165a8acb5878565515363259399c\"}, \"facet\": {\"field\": \"cleaned_magazine_title\", \"type\": \"ordinal\"}, \"spec\": {\"mark\": \"circle\", \"encoding\": {\"color\": {\"field\": \"datetime\", \"scale\": {\"scheme\": \"category20b\"}, \"timeUnit\": \"year\", \"type\": \"ordinal\"}, \"x\": {\"field\": \"issue_counts\", \"type\": \"quantitative\"}, \"y\": {\"field\": \"issue_size\", \"type\": \"quantitative\"}}, \"height\": 100, \"width\": 100}, \"columns\": 3, \"resolve\": {\"scale\": {\"x\": \"independent\", \"y\": \"independent\"}}, \"$schema\": \"https://vega.github.io/schema/vega-lite/v4.17.0.json\", \"datasets\": {\"data-bf37165a8acb5878565515363259399c\": [{\"cleaned_magazine_title\": \"tricontinental\", \"datetime\": \"1966-04-01\", \"issue_size\": 39, \"issue_counts\": 184828}, {\"cleaned_magazine_title\": \"tricontinental\", \"datetime\": \"1966-05-01\", \"issue_size\": 56, \"issue_counts\": 258462}, {\"cleaned_magazine_title\": \"tricontinental\", \"datetime\": \"1966-06-01\", \"issue_size\": 48, \"issue_counts\": 170258}, {\"cleaned_magazine_title\": \"tricontinental\", \"datetime\": \"1966-07-01\", \"issue_size\": 44, \"issue_counts\": 177998}, {\"cleaned_magazine_title\": \"tricontinental\", \"datetime\": \"1966-08-01\", \"issue_size\": 32, \"issue_counts\": 76404}, {\"cleaned_magazine_title\": \"tricontinental\", \"datetime\": \"1966-10-01\", \"issue_size\": 48, \"issue_counts\": 256572}, {\"cleaned_magazine_title\": \"tricontinental\", \"datetime\": \"1966-12-01\", \"issue_size\": 60, \"issue_counts\": 349546}, {\"cleaned_magazine_title\": \"tricontinental\", \"datetime\": \"1967-01-01\", \"issue_size\": 44, \"issue_counts\": 218942}, {\"cleaned_magazine_title\": \"tricontinental\", \"datetime\": \"1967-02-01\", \"issue_size\": 43, \"issue_counts\": 228276}, {\"cleaned_magazine_title\": \"tricontinental\", \"datetime\": \"1967-04-01\", \"issue_size\": 44, \"issue_counts\": 152282}, {\"cleaned_magazine_title\": \"tricontinental\", \"datetime\": \"1967-05-01\", \"issue_size\": 44, \"issue_counts\": 175822}, {\"cleaned_magazine_title\": \"tricontinental\", \"datetime\": \"1967-06-01\", \"issue_size\": 44, \"issue_counts\": 160784}, {\"cleaned_magazine_title\": \"tricontinental\", \"datetime\": \"1967-07-01\", \"issue_size\": 38, \"issue_counts\": 126063}, {\"cleaned_magazine_title\": \"tricontinental\", \"datetime\": \"1967-08-01\", \"issue_size\": 41, \"issue_counts\": 206228}, {\"cleaned_magazine_title\": \"tricontinental\", \"datetime\": \"1967-09-01\", \"issue_size\": 45, \"issue_counts\": 313341}, {\"cleaned_magazine_title\": \"tricontinental\", \"datetime\": \"1967-10-01\", \"issue_size\": 44, \"issue_counts\": 203038}, {\"cleaned_magazine_title\": \"tricontinental\", \"datetime\": \"1967-11-01\", \"issue_size\": 53, \"issue_counts\": 339232}, {\"cleaned_magazine_title\": \"tricontinental\", \"datetime\": \"1967-12-01\", \"issue_size\": 60, \"issue_counts\": 307160}, {\"cleaned_magazine_title\": \"tricontinental\", \"datetime\": \"1968-01-01\", \"issue_size\": 48, \"issue_counts\": 102125}, {\"cleaned_magazine_title\": \"tricontinental\", \"datetime\": \"1968-03-01\", \"issue_size\": 52, \"issue_counts\": 226665}, {\"cleaned_magazine_title\": \"tricontinental\", \"datetime\": \"1968-04-01\", \"issue_size\": 47, \"issue_counts\": 327529}, {\"cleaned_magazine_title\": \"tricontinental\", \"datetime\": \"1968-05-01\", \"issue_size\": 53, \"issue_counts\": 443382}, {\"cleaned_magazine_title\": \"tricontinental\", \"datetime\": \"1968-06-01\", \"issue_size\": 51, \"issue_counts\": 325188}, {\"cleaned_magazine_title\": \"tricontinental\", \"datetime\": \"1968-07-01\", \"issue_size\": 49, \"issue_counts\": 332064}, {\"cleaned_magazine_title\": \"tricontinental\", \"datetime\": \"1968-08-01\", \"issue_size\": 43, \"issue_counts\": 330896}, {\"cleaned_magazine_title\": \"tricontinental\", \"datetime\": \"1968-09-01\", \"issue_size\": 57, \"issue_counts\": 585753}, {\"cleaned_magazine_title\": \"tricontinental\", \"datetime\": \"1968-10-01\", \"issue_size\": 47, \"issue_counts\": 475266}, {\"cleaned_magazine_title\": \"tricontinental\", \"datetime\": \"1968-11-01\", \"issue_size\": 41, \"issue_counts\": 316694}, {\"cleaned_magazine_title\": \"tricontinental\", \"datetime\": \"1968-12-01\", \"issue_size\": 56, \"issue_counts\": 485401}, {\"cleaned_magazine_title\": \"tricontinental\", \"datetime\": \"1969-01-01\", \"issue_size\": 43, \"issue_counts\": 416121}, {\"cleaned_magazine_title\": \"tricontinental\", \"datetime\": \"1969-02-01\", \"issue_size\": 50, \"issue_counts\": 276894}, {\"cleaned_magazine_title\": \"tricontinental\", \"datetime\": \"1969-03-01\", \"issue_size\": 43, \"issue_counts\": 496296}, {\"cleaned_magazine_title\": \"tricontinental\", \"datetime\": \"1969-04-01\", \"issue_size\": 50, \"issue_counts\": 459887}, {\"cleaned_magazine_title\": \"tricontinental\", \"datetime\": \"1969-05-01\", \"issue_size\": 50, \"issue_counts\": 502241}, {\"cleaned_magazine_title\": \"tricontinental\", \"datetime\": \"1969-06-01\", \"issue_size\": 49, \"issue_counts\": 422744}, {\"cleaned_magazine_title\": \"tricontinental\", \"datetime\": \"1969-07-01\", \"issue_size\": 50, \"issue_counts\": 295512}, {\"cleaned_magazine_title\": \"tricontinental\", \"datetime\": \"1969-08-01\", \"issue_size\": 45, \"issue_counts\": 270048}, {\"cleaned_magazine_title\": \"tricontinental\", \"datetime\": \"1969-09-01\", \"issue_size\": 50, \"issue_counts\": 577815}, {\"cleaned_magazine_title\": \"tricontinental\", \"datetime\": \"1969-10-01\", \"issue_size\": 45, \"issue_counts\": 345043}, {\"cleaned_magazine_title\": \"tricontinental\", \"datetime\": \"1969-11-01\", \"issue_size\": 50, \"issue_counts\": 340330}, {\"cleaned_magazine_title\": \"tricontinental\", \"datetime\": \"1969-12-01\", \"issue_size\": 45, \"issue_counts\": 298122}]}}, {\"mode\": \"vega-lite\"});\n",
       "</script>"
      ],
      "text/plain": [
       "alt.FacetChart(...)"
      ]
     },
     "execution_count": 63,
     "metadata": {},
     "output_type": "execute_result"
    }
   ],
   "source": [
    "# Issue size compared to issue tokens\n",
    "alt.Chart(issues_df).mark_circle().encode(\n",
    "    x='issue_counts:Q',\n",
    "    y='issue_size:Q',\n",
    "    color=alt.Color('year(datetime):O', scale=alt.Scale(scheme='category20b')),\n",
    "    # color=alt.Color('magazine_title:O', scale=alt.Scale(scheme='category10')),\n",
    ").properties(\n",
    "    width=100,\n",
    "    height=100\n",
    ").facet(\n",
    "    facet='cleaned_magazine_title:O',\n",
    "    # facet='year(datetime):T',\n",
    "    columns=3\n",
    ").resolve_scale(x='independent', y='independent')"
   ]
  },
  {
   "cell_type": "code",
   "execution_count": 64,
   "metadata": {},
   "outputs": [
    {
     "data": {
      "text/plain": [
       "(1864, 40, 35, 77)"
      ]
     },
     "execution_count": 64,
     "metadata": {},
     "output_type": "execute_result"
    }
   ],
   "source": [
    "len(finalized_df[finalized_df.type_of_page == 'content']), len(finalized_df[finalized_df.type_of_page == 'cover_page']), len(finalized_df[finalized_df.type_of_page == 'toc']), len(finalized_df[finalized_df.predicted_page.notna()])"
   ]
  },
  {
   "cell_type": "code",
   "execution_count": 68,
   "metadata": {},
   "outputs": [
    {
     "data": {
      "text/plain": [
       "75"
      ]
     },
     "execution_count": 68,
     "metadata": {},
     "output_type": "execute_result"
    }
   ],
   "source": [
    "len(finalized_df[finalized_df.type_of_page == 'content'].sample(frac=0.04))"
   ]
  },
  {
   "cell_type": "code",
   "execution_count": 69,
   "metadata": {},
   "outputs": [],
   "source": [
    "content_docs = finalized_df[finalized_df.type_of_page == 'content'].sample(frac=0.04)\n",
    "cover_docs = finalized_df[finalized_df.type_of_page == 'cover_page']\n",
    "toc_docs = finalized_df[finalized_df.type_of_page == 'toc']\n",
    "predicted_docs = finalized_df[finalized_df.predicted_page.notna()]\n",
    "\n",
    "docs = pd.concat([content_docs, cover_docs, toc_docs, predicted_docs])"
   ]
  },
  {
   "cell_type": "code",
   "execution_count": 70,
   "metadata": {},
   "outputs": [],
   "source": [
    "remainder_docs = finalized_df[~finalized_df.index.isin(docs.index)]"
   ]
  },
  {
   "cell_type": "code",
   "execution_count": null,
   "metadata": {},
   "outputs": [],
   "source": []
  },
  {
   "cell_type": "code",
   "execution_count": 57,
   "metadata": {},
   "outputs": [],
   "source": [
    "from sklearn.model_selection import train_test_split\n",
    "from sklearn.ensemble import RandomForestClassifier\n",
    "from sklearn.feature_extraction.text import TfidfVectorizer\n",
    "from sklearn.preprocessing import LabelEncoder\n",
    "from sklearn.pipeline import make_pipeline\n",
    "from sklearn.compose import ColumnTransformer"
   ]
  },
  {
   "cell_type": "code",
   "execution_count": null,
   "metadata": {},
   "outputs": [],
   "source": []
  }
 ],
 "metadata": {
  "kernelspec": {
   "display_name": "htrc-periodicals-venv",
   "language": "python",
   "name": "python3"
  },
  "language_info": {
   "codemirror_mode": {
    "name": "ipython",
    "version": 3
   },
   "file_extension": ".py",
   "mimetype": "text/x-python",
   "name": "python",
   "nbconvert_exporter": "python",
   "pygments_lexer": "ipython3",
   "version": "3.9.18"
  },
  "orig_nbformat": 4,
  "vscode": {
   "interpreter": {
    "hash": "c381cce0a11cdbd185210d50217a0d0995dd5a70dabd1dcfa7b80ed438c02b46"
   }
  }
 },
 "nbformat": 4,
 "nbformat_minor": 2
}
